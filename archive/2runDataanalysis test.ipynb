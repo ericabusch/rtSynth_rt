{
 "cells": [
  {
   "cell_type": "code",
   "execution_count": 9,
   "metadata": {},
   "outputs": [
    {
     "name": "stdout",
     "output_type": "stream",
     "text": [
      "running fslmerge -t /gpfs/milgram/project/turk-browne/projects/rtSynth_rt/subjects/sub001/ses2/recognition/run2.nii  /gpfs/milgram/scratch60/turk-browne/kp578/rtcloud_rt/1610949733.1187592/001_000002_000001_aligned.nii /gpfs/milgram/scratch60/turk-browne/kp578/rtcloud_rt/1610949733.1187592/001_000002_000002_aligned.nii /gpfs/milgram/scratch60/turk-browne/kp578/rtcloud_rt/1610949733.1187592/001_000002_000003_aligned.nii /gpfs/milgram/scratch60/turk-browne/kp578/rtcloud_rt/1610949733.1187592/001_000002_000004_aligned.nii /gpfs/milgram/scratch60/turk-browne/kp578/rtcloud_rt/1610949733.1187592/001_000002_000005_aligned.nii /gpfs/milgram/scratch60/turk-browne/kp578/rtcloud_rt/1610949733.1187592/001_000002_000006_aligned.nii /gpfs/milgram/scratch60/turk-browne/kp578/rtcloud_rt/1610949733.1187592/001_000002_000007_aligned.nii /gpfs/milgram/scratch60/turk-browne/kp578/rtcloud_rt/1610949733.1187592/001_000002_000008_aligned.nii /gpfs/milgram/scratch60/turk-browne/kp578/rtcloud_rt/1610949733.1187592/001_000002_000009_aligned.nii /gpfs/milgram/scratch60/turk-browne/kp578/rtcloud_rt/1610949733.1187592/001_000002_000010_aligned.nii /gpfs/milgram/scratch60/turk-browne/kp578/rtcloud_rt/1610949733.1187592/001_000002_000011_aligned.nii /gpfs/milgram/scratch60/turk-browne/kp578/rtcloud_rt/1610949733.1187592/001_000002_000012_aligned.nii /gpfs/milgram/scratch60/turk-browne/kp578/rtcloud_rt/1610949733.1187592/001_000002_000013_aligned.nii /gpfs/milgram/scratch60/turk-browne/kp578/rtcloud_rt/1610949733.1187592/001_000002_000014_aligned.nii /gpfs/milgram/scratch60/turk-browne/kp578/rtcloud_rt/1610949733.1187592/001_000002_000015_aligned.nii /gpfs/milgram/scratch60/turk-browne/kp578/rtcloud_rt/1610949733.1187592/001_000002_000016_aligned.nii /gpfs/milgram/scratch60/turk-browne/kp578/rtcloud_rt/1610949733.1187592/001_000002_000017_aligned.nii /gpfs/milgram/scratch60/turk-browne/kp578/rtcloud_rt/1610949733.1187592/001_000002_000018_aligned.nii /gpfs/milgram/scratch60/turk-browne/kp578/rtcloud_rt/1610949733.1187592/001_000002_000019_aligned.nii /gpfs/milgram/scratch60/turk-browne/kp578/rtcloud_rt/1610949733.1187592/001_000002_000020_aligned.nii /gpfs/milgram/scratch60/turk-browne/kp578/rtcloud_rt/1610949733.1187592/001_000002_000021_aligned.nii /gpfs/milgram/scratch60/turk-browne/kp578/rtcloud_rt/1610949733.1187592/001_000002_000022_aligned.nii /gpfs/milgram/scratch60/turk-browne/kp578/rtcloud_rt/1610949733.1187592/001_000002_000023_aligned.nii /gpfs/milgram/scratch60/turk-browne/kp578/rtcloud_rt/1610949733.1187592/001_000002_000024_aligned.nii /gpfs/milgram/scratch60/turk-browne/kp578/rtcloud_rt/1610949733.1187592/001_000002_000025_aligned.nii /gpfs/milgram/scratch60/turk-browne/kp578/rtcloud_rt/1610949733.1187592/001_000002_000026_aligned.nii /gpfs/milgram/scratch60/turk-browne/kp578/rtcloud_rt/1610949733.1187592/001_000002_000027_aligned.nii /gpfs/milgram/scratch60/turk-browne/kp578/rtcloud_rt/1610949733.1187592/001_000002_000028_aligned.nii /gpfs/milgram/scratch60/turk-browne/kp578/rtcloud_rt/1610949733.1187592/001_000002_000029_aligned.nii /gpfs/milgram/scratch60/turk-browne/kp578/rtcloud_rt/1610949733.1187592/001_000002_000030_aligned.nii /gpfs/milgram/scratch60/turk-browne/kp578/rtcloud_rt/1610949733.1187592/001_000002_000031_aligned.nii /gpfs/milgram/scratch60/turk-browne/kp578/rtcloud_rt/1610949733.1187592/001_000002_000032_aligned.nii /gpfs/milgram/scratch60/turk-browne/kp578/rtcloud_rt/1610949733.1187592/001_000002_000033_aligned.nii /gpfs/milgram/scratch60/turk-browne/kp578/rtcloud_rt/1610949733.1187592/001_000002_000034_aligned.nii /gpfs/milgram/scratch60/turk-browne/kp578/rtcloud_rt/1610949733.1187592/001_000002_000035_aligned.nii /gpfs/milgram/scratch60/turk-browne/kp578/rtcloud_rt/1610949733.1187592/001_000002_000036_aligned.nii /gpfs/milgram/scratch60/turk-browne/kp578/rtcloud_rt/1610949733.1187592/001_000002_000037_aligned.nii /gpfs/milgram/scratch60/turk-browne/kp578/rtcloud_rt/1610949733.1187592/001_000002_000038_aligned.nii /gpfs/milgram/scratch60/turk-browne/kp578/rtcloud_rt/1610949733.1187592/001_000002_000039_aligned.nii /gpfs/milgram/scratch60/turk-browne/kp578/rtcloud_rt/1610949733.1187592/001_000002_000040_aligned.nii /gpfs/milgram/scratch60/turk-browne/kp578/rtcloud_rt/1610949733.1187592/001_000002_000041_aligned.nii /gpfs/milgram/scratch60/turk-browne/kp578/rtcloud_rt/1610949733.1187592/001_000002_000042_aligned.nii /gpfs/milgram/scratch60/turk-browne/kp578/rtcloud_rt/1610949733.1187592/001_000002_000043_aligned.nii /gpfs/milgram/scratch60/turk-browne/kp578/rtcloud_rt/1610949733.1187592/001_000002_000044_aligned.nii /gpfs/milgram/scratch60/turk-browne/kp578/rtcloud_rt/1610949733.1187592/001_000002_000045_aligned.nii /gpfs/milgram/scratch60/turk-browne/kp578/rtcloud_rt/1610949733.1187592/001_000002_000046_aligned.nii /gpfs/milgram/scratch60/turk-browne/kp578/rtcloud_rt/1610949733.1187592/001_000002_000047_aligned.nii /gpfs/milgram/scratch60/turk-browne/kp578/rtcloud_rt/1610949733.1187592/001_000002_000048_aligned.nii /gpfs/milgram/scratch60/turk-browne/kp578/rtcloud_rt/1610949733.1187592/001_000002_000049_aligned.nii /gpfs/milgram/scratch60/turk-browne/kp578/rtcloud_rt/1610949733.1187592/001_000002_000050_aligned.nii /gpfs/milgram/scratch60/turk-browne/kp578/rtcloud_rt/1610949733.1187592/001_000002_000051_aligned.nii /gpfs/milgram/scratch60/turk-browne/kp578/rtcloud_rt/1610949733.1187592/001_000002_000052_aligned.nii /gpfs/milgram/scratch60/turk-browne/kp578/rtcloud_rt/1610949733.1187592/001_000002_000053_aligned.nii /gpfs/milgram/scratch60/turk-browne/kp578/rtcloud_rt/1610949733.1187592/001_000002_000054_aligned.nii /gpfs/milgram/scratch60/turk-browne/kp578/rtcloud_rt/1610949733.1187592/001_000002_000055_aligned.nii /gpfs/milgram/scratch60/turk-browne/kp578/rtcloud_rt/1610949733.1187592/001_000002_000056_aligned.nii /gpfs/milgram/scratch60/turk-browne/kp578/rtcloud_rt/1610949733.1187592/001_000002_000057_aligned.nii /gpfs/milgram/scratch60/turk-browne/kp578/rtcloud_rt/1610949733.1187592/001_000002_000058_aligned.nii /gpfs/milgram/scratch60/turk-browne/kp578/rtcloud_rt/1610949733.1187592/001_000002_000059_aligned.nii /gpfs/milgram/scratch60/turk-browne/kp578/rtcloud_rt/1610949733.1187592/001_000002_000060_aligned.nii /gpfs/milgram/scratch60/turk-browne/kp578/rtcloud_rt/1610949733.1187592/001_000002_000061_aligned.nii /gpfs/milgram/scratch60/turk-browne/kp578/rtcloud_rt/1610949733.1187592/001_000002_000062_aligned.nii /gpfs/milgram/scratch60/turk-browne/kp578/rtcloud_rt/1610949733.1187592/001_000002_000063_aligned.nii /gpfs/milgram/scratch60/turk-browne/kp578/rtcloud_rt/1610949733.1187592/001_000002_000064_aligned.nii /gpfs/milgram/scratch60/turk-browne/kp578/rtcloud_rt/1610949733.1187592/001_000002_000065_aligned.nii /gpfs/milgram/scratch60/turk-browne/kp578/rtcloud_rt/1610949733.1187592/001_000002_000066_aligned.nii /gpfs/milgram/scratch60/turk-browne/kp578/rtcloud_rt/1610949733.1187592/001_000002_000067_aligned.nii /gpfs/milgram/scratch60/turk-browne/kp578/rtcloud_rt/1610949733.1187592/001_000002_000068_aligned.nii /gpfs/milgram/scratch60/turk-browne/kp578/rtcloud_rt/1610949733.1187592/001_000002_000069_aligned.nii /gpfs/milgram/scratch60/turk-browne/kp578/rtcloud_rt/1610949733.1187592/001_000002_000070_aligned.nii /gpfs/milgram/scratch60/turk-browne/kp578/rtcloud_rt/1610949733.1187592/001_000002_000071_aligned.nii /gpfs/milgram/scratch60/turk-browne/kp578/rtcloud_rt/1610949733.1187592/001_000002_000072_aligned.nii /gpfs/milgram/scratch60/turk-browne/kp578/rtcloud_rt/1610949733.1187592/001_000002_000073_aligned.nii /gpfs/milgram/scratch60/turk-browne/kp578/rtcloud_rt/1610949733.1187592/001_000002_000074_aligned.nii /gpfs/milgram/scratch60/turk-browne/kp578/rtcloud_rt/1610949733.1187592/001_000002_000075_aligned.nii /gpfs/milgram/scratch60/turk-browne/kp578/rtcloud_rt/1610949733.1187592/001_000002_000076_aligned.nii /gpfs/milgram/scratch60/turk-browne/kp578/rtcloud_rt/1610949733.1187592/001_000002_000077_aligned.nii /gpfs/milgram/scratch60/turk-browne/kp578/rtcloud_rt/1610949733.1187592/001_000002_000078_aligned.nii /gpfs/milgram/scratch60/turk-browne/kp578/rtcloud_rt/1610949733.1187592/001_000002_000079_aligned.nii /gpfs/milgram/scratch60/turk-browne/kp578/rtcloud_rt/1610949733.1187592/001_000002_000080_aligned.nii /gpfs/milgram/scratch60/turk-browne/kp578/rtcloud_rt/1610949733.1187592/001_000002_000081_aligned.nii /gpfs/milgram/scratch60/turk-browne/kp578/rtcloud_rt/1610949733.1187592/001_000002_000082_aligned.nii /gpfs/milgram/scratch60/turk-browne/kp578/rtcloud_rt/1610949733.1187592/001_000002_000083_aligned.nii /gpfs/milgram/scratch60/turk-browne/kp578/rtcloud_rt/1610949733.1187592/001_000002_000084_aligned.nii /gpfs/milgram/scratch60/turk-browne/kp578/rtcloud_rt/1610949733.1187592/001_000002_000085_aligned.nii /gpfs/milgram/scratch60/turk-browne/kp578/rtcloud_rt/1610949733.1187592/001_000002_000086_aligned.nii /gpfs/milgram/scratch60/turk-browne/kp578/rtcloud_rt/1610949733.1187592/001_000002_000087_aligned.nii /gpfs/milgram/scratch60/turk-browne/kp578/rtcloud_rt/1610949733.1187592/001_000002_000088_aligned.nii /gpfs/milgram/scratch60/turk-browne/kp578/rtcloud_rt/1610949733.1187592/001_000002_000089_aligned.nii /gpfs/milgram/scratch60/turk-browne/kp578/rtcloud_rt/1610949733.1187592/001_000002_000090_aligned.nii /gpfs/milgram/scratch60/turk-browne/kp578/rtcloud_rt/1610949733.1187592/001_000002_000091_aligned.nii /gpfs/milgram/scratch60/turk-browne/kp578/rtcloud_rt/1610949733.1187592/001_000002_000092_aligned.nii /gpfs/milgram/scratch60/turk-browne/kp578/rtcloud_rt/1610949733.1187592/001_000002_000093_aligned.nii /gpfs/milgram/scratch60/turk-browne/kp578/rtcloud_rt/1610949733.1187592/001_000002_000094_aligned.nii /gpfs/milgram/scratch60/turk-browne/kp578/rtcloud_rt/1610949733.1187592/001_000002_000095_aligned.nii /gpfs/milgram/scratch60/turk-browne/kp578/rtcloud_rt/1610949733.1187592/001_000002_000096_aligned.nii /gpfs/milgram/scratch60/turk-browne/kp578/rtcloud_rt/1610949733.1187592/001_000002_000097_aligned.nii /gpfs/milgram/scratch60/turk-browne/kp578/rtcloud_rt/1610949733.1187592/001_000002_000098_aligned.nii /gpfs/milgram/scratch60/turk-browne/kp578/rtcloud_rt/1610949733.1187592/001_000002_000099_aligned.nii /gpfs/milgram/scratch60/turk-browne/kp578/rtcloud_rt/1610949733.1187592/001_000002_000100_aligned.nii /gpfs/milgram/scratch60/turk-browne/kp578/rtcloud_rt/1610949733.1187592/001_000002_000101_aligned.nii /gpfs/milgram/scratch60/turk-browne/kp578/rtcloud_rt/1610949733.1187592/001_000002_000102_aligned.nii /gpfs/milgram/scratch60/turk-browne/kp578/rtcloud_rt/1610949733.1187592/001_000002_000103_aligned.nii /gpfs/milgram/scratch60/turk-browne/kp578/rtcloud_rt/1610949733.1187592/001_000002_000104_aligned.nii /gpfs/milgram/scratch60/turk-browne/kp578/rtcloud_rt/1610949733.1187592/001_000002_000105_aligned.nii /gpfs/milgram/scratch60/turk-browne/kp578/rtcloud_rt/1610949733.1187592/001_000002_000106_aligned.nii /gpfs/milgram/scratch60/turk-browne/kp578/rtcloud_rt/1610949733.1187592/001_000002_000107_aligned.nii /gpfs/milgram/scratch60/turk-browne/kp578/rtcloud_rt/1610949733.1187592/001_000002_000108_aligned.nii /gpfs/milgram/scratch60/turk-browne/kp578/rtcloud_rt/1610949733.1187592/001_000002_000109_aligned.nii /gpfs/milgram/scratch60/turk-browne/kp578/rtcloud_rt/1610949733.1187592/001_000002_000110_aligned.nii /gpfs/milgram/scratch60/turk-browne/kp578/rtcloud_rt/1610949733.1187592/001_000002_000111_aligned.nii /gpfs/milgram/scratch60/turk-browne/kp578/rtcloud_rt/1610949733.1187592/001_000002_000112_aligned.nii /gpfs/milgram/scratch60/turk-browne/kp578/rtcloud_rt/1610949733.1187592/001_000002_000113_aligned.nii /gpfs/milgram/scratch60/turk-browne/kp578/rtcloud_rt/1610949733.1187592/001_000002_000114_aligned.nii /gpfs/milgram/scratch60/turk-browne/kp578/rtcloud_rt/1610949733.1187592/001_000002_000115_aligned.nii /gpfs/milgram/scratch60/turk-browne/kp578/rtcloud_rt/1610949733.1187592/001_000002_000116_aligned.nii /gpfs/milgram/scratch60/turk-browne/kp578/rtcloud_rt/1610949733.1187592/001_000002_000117_aligned.nii /gpfs/milgram/scratch60/turk-browne/kp578/rtcloud_rt/1610949733.1187592/001_000002_000118_aligned.nii /gpfs/milgram/scratch60/turk-browne/kp578/rtcloud_rt/1610949733.1187592/001_000002_000119_aligned.nii /gpfs/milgram/scratch60/turk-browne/kp578/rtcloud_rt/1610949733.1187592/001_000002_000120_aligned.nii /gpfs/milgram/scratch60/turk-browne/kp578/rtcloud_rt/1610949733.1187592/001_000002_000121_aligned.nii /gpfs/milgram/scratch60/turk-browne/kp578/rtcloud_rt/1610949733.1187592/001_000002_000122_aligned.nii /gpfs/milgram/scratch60/turk-browne/kp578/rtcloud_rt/1610949733.1187592/001_000002_000123_aligned.nii /gpfs/milgram/scratch60/turk-browne/kp578/rtcloud_rt/1610949733.1187592/001_000002_000124_aligned.nii /gpfs/milgram/scratch60/turk-browne/kp578/rtcloud_rt/1610949733.1187592/001_000002_000125_aligned.nii /gpfs/milgram/scratch60/turk-browne/kp578/rtcloud_rt/1610949733.1187592/001_000002_000126_aligned.nii /gpfs/milgram/scratch60/turk-browne/kp578/rtcloud_rt/1610949733.1187592/001_000002_000127_aligned.nii /gpfs/milgram/scratch60/turk-browne/kp578/rtcloud_rt/1610949733.1187592/001_000002_000128_aligned.nii /gpfs/milgram/scratch60/turk-browne/kp578/rtcloud_rt/1610949733.1187592/001_000002_000129_aligned.nii /gpfs/milgram/scratch60/turk-browne/kp578/rtcloud_rt/1610949733.1187592/001_000002_000130_aligned.nii /gpfs/milgram/scratch60/turk-browne/kp578/rtcloud_rt/1610949733.1187592/001_000002_000131_aligned.nii /gpfs/milgram/scratch60/turk-browne/kp578/rtcloud_rt/1610949733.1187592/001_000002_000132_aligned.nii /gpfs/milgram/scratch60/turk-browne/kp578/rtcloud_rt/1610949733.1187592/001_000002_000133_aligned.nii /gpfs/milgram/scratch60/turk-browne/kp578/rtcloud_rt/1610949733.1187592/001_000002_000134_aligned.nii /gpfs/milgram/scratch60/turk-browne/kp578/rtcloud_rt/1610949733.1187592/001_000002_000135_aligned.nii /gpfs/milgram/scratch60/turk-browne/kp578/rtcloud_rt/1610949733.1187592/001_000002_000136_aligned.nii /gpfs/milgram/scratch60/turk-browne/kp578/rtcloud_rt/1610949733.1187592/001_000002_000137_aligned.nii /gpfs/milgram/scratch60/turk-browne/kp578/rtcloud_rt/1610949733.1187592/001_000002_000138_aligned.nii /gpfs/milgram/scratch60/turk-browne/kp578/rtcloud_rt/1610949733.1187592/001_000002_000139_aligned.nii /gpfs/milgram/scratch60/turk-browne/kp578/rtcloud_rt/1610949733.1187592/001_000002_000140_aligned.nii /gpfs/milgram/scratch60/turk-browne/kp578/rtcloud_rt/1610949733.1187592/001_000002_000141_aligned.nii /gpfs/milgram/scratch60/turk-browne/kp578/rtcloud_rt/1610949733.1187592/001_000002_000142_aligned.nii /gpfs/milgram/scratch60/turk-browne/kp578/rtcloud_rt/1610949733.1187592/001_000002_000143_aligned.nii /gpfs/milgram/scratch60/turk-browne/kp578/rtcloud_rt/1610949733.1187592/001_000002_000144_aligned.nii /gpfs/milgram/scratch60/turk-browne/kp578/rtcloud_rt/1610949733.1187592/001_000002_000145_aligned.nii\n"
     ]
    },
    {
     "name": "stdout",
     "output_type": "stream",
     "text": [
      "running fslmerge -t /gpfs/milgram/project/turk-browne/projects/rtSynth_rt/subjects/sub001/ses2/recognition/run3.nii  /gpfs/milgram/scratch60/turk-browne/kp578/rtcloud_rt/1610949733.1187592/001_000003_000001_aligned.nii /gpfs/milgram/scratch60/turk-browne/kp578/rtcloud_rt/1610949733.1187592/001_000003_000002_aligned.nii /gpfs/milgram/scratch60/turk-browne/kp578/rtcloud_rt/1610949733.1187592/001_000003_000003_aligned.nii /gpfs/milgram/scratch60/turk-browne/kp578/rtcloud_rt/1610949733.1187592/001_000003_000004_aligned.nii /gpfs/milgram/scratch60/turk-browne/kp578/rtcloud_rt/1610949733.1187592/001_000003_000005_aligned.nii /gpfs/milgram/scratch60/turk-browne/kp578/rtcloud_rt/1610949733.1187592/001_000003_000006_aligned.nii /gpfs/milgram/scratch60/turk-browne/kp578/rtcloud_rt/1610949733.1187592/001_000003_000007_aligned.nii /gpfs/milgram/scratch60/turk-browne/kp578/rtcloud_rt/1610949733.1187592/001_000003_000008_aligned.nii /gpfs/milgram/scratch60/turk-browne/kp578/rtcloud_rt/1610949733.1187592/001_000003_000009_aligned.nii /gpfs/milgram/scratch60/turk-browne/kp578/rtcloud_rt/1610949733.1187592/001_000003_000010_aligned.nii /gpfs/milgram/scratch60/turk-browne/kp578/rtcloud_rt/1610949733.1187592/001_000003_000011_aligned.nii /gpfs/milgram/scratch60/turk-browne/kp578/rtcloud_rt/1610949733.1187592/001_000003_000012_aligned.nii /gpfs/milgram/scratch60/turk-browne/kp578/rtcloud_rt/1610949733.1187592/001_000003_000013_aligned.nii /gpfs/milgram/scratch60/turk-browne/kp578/rtcloud_rt/1610949733.1187592/001_000003_000014_aligned.nii /gpfs/milgram/scratch60/turk-browne/kp578/rtcloud_rt/1610949733.1187592/001_000003_000015_aligned.nii /gpfs/milgram/scratch60/turk-browne/kp578/rtcloud_rt/1610949733.1187592/001_000003_000016_aligned.nii /gpfs/milgram/scratch60/turk-browne/kp578/rtcloud_rt/1610949733.1187592/001_000003_000017_aligned.nii /gpfs/milgram/scratch60/turk-browne/kp578/rtcloud_rt/1610949733.1187592/001_000003_000018_aligned.nii /gpfs/milgram/scratch60/turk-browne/kp578/rtcloud_rt/1610949733.1187592/001_000003_000019_aligned.nii /gpfs/milgram/scratch60/turk-browne/kp578/rtcloud_rt/1610949733.1187592/001_000003_000020_aligned.nii /gpfs/milgram/scratch60/turk-browne/kp578/rtcloud_rt/1610949733.1187592/001_000003_000021_aligned.nii /gpfs/milgram/scratch60/turk-browne/kp578/rtcloud_rt/1610949733.1187592/001_000003_000022_aligned.nii /gpfs/milgram/scratch60/turk-browne/kp578/rtcloud_rt/1610949733.1187592/001_000003_000023_aligned.nii /gpfs/milgram/scratch60/turk-browne/kp578/rtcloud_rt/1610949733.1187592/001_000003_000024_aligned.nii /gpfs/milgram/scratch60/turk-browne/kp578/rtcloud_rt/1610949733.1187592/001_000003_000025_aligned.nii /gpfs/milgram/scratch60/turk-browne/kp578/rtcloud_rt/1610949733.1187592/001_000003_000026_aligned.nii /gpfs/milgram/scratch60/turk-browne/kp578/rtcloud_rt/1610949733.1187592/001_000003_000027_aligned.nii /gpfs/milgram/scratch60/turk-browne/kp578/rtcloud_rt/1610949733.1187592/001_000003_000028_aligned.nii /gpfs/milgram/scratch60/turk-browne/kp578/rtcloud_rt/1610949733.1187592/001_000003_000029_aligned.nii /gpfs/milgram/scratch60/turk-browne/kp578/rtcloud_rt/1610949733.1187592/001_000003_000030_aligned.nii /gpfs/milgram/scratch60/turk-browne/kp578/rtcloud_rt/1610949733.1187592/001_000003_000031_aligned.nii /gpfs/milgram/scratch60/turk-browne/kp578/rtcloud_rt/1610949733.1187592/001_000003_000032_aligned.nii /gpfs/milgram/scratch60/turk-browne/kp578/rtcloud_rt/1610949733.1187592/001_000003_000033_aligned.nii /gpfs/milgram/scratch60/turk-browne/kp578/rtcloud_rt/1610949733.1187592/001_000003_000034_aligned.nii /gpfs/milgram/scratch60/turk-browne/kp578/rtcloud_rt/1610949733.1187592/001_000003_000035_aligned.nii /gpfs/milgram/scratch60/turk-browne/kp578/rtcloud_rt/1610949733.1187592/001_000003_000036_aligned.nii /gpfs/milgram/scratch60/turk-browne/kp578/rtcloud_rt/1610949733.1187592/001_000003_000037_aligned.nii /gpfs/milgram/scratch60/turk-browne/kp578/rtcloud_rt/1610949733.1187592/001_000003_000038_aligned.nii /gpfs/milgram/scratch60/turk-browne/kp578/rtcloud_rt/1610949733.1187592/001_000003_000039_aligned.nii /gpfs/milgram/scratch60/turk-browne/kp578/rtcloud_rt/1610949733.1187592/001_000003_000040_aligned.nii /gpfs/milgram/scratch60/turk-browne/kp578/rtcloud_rt/1610949733.1187592/001_000003_000041_aligned.nii /gpfs/milgram/scratch60/turk-browne/kp578/rtcloud_rt/1610949733.1187592/001_000003_000042_aligned.nii /gpfs/milgram/scratch60/turk-browne/kp578/rtcloud_rt/1610949733.1187592/001_000003_000043_aligned.nii /gpfs/milgram/scratch60/turk-browne/kp578/rtcloud_rt/1610949733.1187592/001_000003_000044_aligned.nii /gpfs/milgram/scratch60/turk-browne/kp578/rtcloud_rt/1610949733.1187592/001_000003_000045_aligned.nii /gpfs/milgram/scratch60/turk-browne/kp578/rtcloud_rt/1610949733.1187592/001_000003_000046_aligned.nii /gpfs/milgram/scratch60/turk-browne/kp578/rtcloud_rt/1610949733.1187592/001_000003_000047_aligned.nii /gpfs/milgram/scratch60/turk-browne/kp578/rtcloud_rt/1610949733.1187592/001_000003_000048_aligned.nii /gpfs/milgram/scratch60/turk-browne/kp578/rtcloud_rt/1610949733.1187592/001_000003_000049_aligned.nii /gpfs/milgram/scratch60/turk-browne/kp578/rtcloud_rt/1610949733.1187592/001_000003_000050_aligned.nii /gpfs/milgram/scratch60/turk-browne/kp578/rtcloud_rt/1610949733.1187592/001_000003_000051_aligned.nii /gpfs/milgram/scratch60/turk-browne/kp578/rtcloud_rt/1610949733.1187592/001_000003_000052_aligned.nii /gpfs/milgram/scratch60/turk-browne/kp578/rtcloud_rt/1610949733.1187592/001_000003_000053_aligned.nii /gpfs/milgram/scratch60/turk-browne/kp578/rtcloud_rt/1610949733.1187592/001_000003_000054_aligned.nii /gpfs/milgram/scratch60/turk-browne/kp578/rtcloud_rt/1610949733.1187592/001_000003_000055_aligned.nii /gpfs/milgram/scratch60/turk-browne/kp578/rtcloud_rt/1610949733.1187592/001_000003_000056_aligned.nii /gpfs/milgram/scratch60/turk-browne/kp578/rtcloud_rt/1610949733.1187592/001_000003_000057_aligned.nii /gpfs/milgram/scratch60/turk-browne/kp578/rtcloud_rt/1610949733.1187592/001_000003_000058_aligned.nii /gpfs/milgram/scratch60/turk-browne/kp578/rtcloud_rt/1610949733.1187592/001_000003_000059_aligned.nii /gpfs/milgram/scratch60/turk-browne/kp578/rtcloud_rt/1610949733.1187592/001_000003_000060_aligned.nii /gpfs/milgram/scratch60/turk-browne/kp578/rtcloud_rt/1610949733.1187592/001_000003_000061_aligned.nii /gpfs/milgram/scratch60/turk-browne/kp578/rtcloud_rt/1610949733.1187592/001_000003_000062_aligned.nii /gpfs/milgram/scratch60/turk-browne/kp578/rtcloud_rt/1610949733.1187592/001_000003_000063_aligned.nii /gpfs/milgram/scratch60/turk-browne/kp578/rtcloud_rt/1610949733.1187592/001_000003_000064_aligned.nii /gpfs/milgram/scratch60/turk-browne/kp578/rtcloud_rt/1610949733.1187592/001_000003_000065_aligned.nii /gpfs/milgram/scratch60/turk-browne/kp578/rtcloud_rt/1610949733.1187592/001_000003_000066_aligned.nii /gpfs/milgram/scratch60/turk-browne/kp578/rtcloud_rt/1610949733.1187592/001_000003_000067_aligned.nii /gpfs/milgram/scratch60/turk-browne/kp578/rtcloud_rt/1610949733.1187592/001_000003_000068_aligned.nii /gpfs/milgram/scratch60/turk-browne/kp578/rtcloud_rt/1610949733.1187592/001_000003_000069_aligned.nii /gpfs/milgram/scratch60/turk-browne/kp578/rtcloud_rt/1610949733.1187592/001_000003_000070_aligned.nii /gpfs/milgram/scratch60/turk-browne/kp578/rtcloud_rt/1610949733.1187592/001_000003_000071_aligned.nii /gpfs/milgram/scratch60/turk-browne/kp578/rtcloud_rt/1610949733.1187592/001_000003_000072_aligned.nii /gpfs/milgram/scratch60/turk-browne/kp578/rtcloud_rt/1610949733.1187592/001_000003_000073_aligned.nii /gpfs/milgram/scratch60/turk-browne/kp578/rtcloud_rt/1610949733.1187592/001_000003_000074_aligned.nii /gpfs/milgram/scratch60/turk-browne/kp578/rtcloud_rt/1610949733.1187592/001_000003_000075_aligned.nii /gpfs/milgram/scratch60/turk-browne/kp578/rtcloud_rt/1610949733.1187592/001_000003_000076_aligned.nii /gpfs/milgram/scratch60/turk-browne/kp578/rtcloud_rt/1610949733.1187592/001_000003_000077_aligned.nii /gpfs/milgram/scratch60/turk-browne/kp578/rtcloud_rt/1610949733.1187592/001_000003_000078_aligned.nii /gpfs/milgram/scratch60/turk-browne/kp578/rtcloud_rt/1610949733.1187592/001_000003_000079_aligned.nii /gpfs/milgram/scratch60/turk-browne/kp578/rtcloud_rt/1610949733.1187592/001_000003_000080_aligned.nii /gpfs/milgram/scratch60/turk-browne/kp578/rtcloud_rt/1610949733.1187592/001_000003_000081_aligned.nii /gpfs/milgram/scratch60/turk-browne/kp578/rtcloud_rt/1610949733.1187592/001_000003_000082_aligned.nii /gpfs/milgram/scratch60/turk-browne/kp578/rtcloud_rt/1610949733.1187592/001_000003_000083_aligned.nii /gpfs/milgram/scratch60/turk-browne/kp578/rtcloud_rt/1610949733.1187592/001_000003_000084_aligned.nii /gpfs/milgram/scratch60/turk-browne/kp578/rtcloud_rt/1610949733.1187592/001_000003_000085_aligned.nii /gpfs/milgram/scratch60/turk-browne/kp578/rtcloud_rt/1610949733.1187592/001_000003_000086_aligned.nii /gpfs/milgram/scratch60/turk-browne/kp578/rtcloud_rt/1610949733.1187592/001_000003_000087_aligned.nii /gpfs/milgram/scratch60/turk-browne/kp578/rtcloud_rt/1610949733.1187592/001_000003_000088_aligned.nii /gpfs/milgram/scratch60/turk-browne/kp578/rtcloud_rt/1610949733.1187592/001_000003_000089_aligned.nii /gpfs/milgram/scratch60/turk-browne/kp578/rtcloud_rt/1610949733.1187592/001_000003_000090_aligned.nii /gpfs/milgram/scratch60/turk-browne/kp578/rtcloud_rt/1610949733.1187592/001_000003_000091_aligned.nii /gpfs/milgram/scratch60/turk-browne/kp578/rtcloud_rt/1610949733.1187592/001_000003_000092_aligned.nii /gpfs/milgram/scratch60/turk-browne/kp578/rtcloud_rt/1610949733.1187592/001_000003_000093_aligned.nii /gpfs/milgram/scratch60/turk-browne/kp578/rtcloud_rt/1610949733.1187592/001_000003_000094_aligned.nii /gpfs/milgram/scratch60/turk-browne/kp578/rtcloud_rt/1610949733.1187592/001_000003_000095_aligned.nii /gpfs/milgram/scratch60/turk-browne/kp578/rtcloud_rt/1610949733.1187592/001_000003_000096_aligned.nii /gpfs/milgram/scratch60/turk-browne/kp578/rtcloud_rt/1610949733.1187592/001_000003_000097_aligned.nii /gpfs/milgram/scratch60/turk-browne/kp578/rtcloud_rt/1610949733.1187592/001_000003_000098_aligned.nii /gpfs/milgram/scratch60/turk-browne/kp578/rtcloud_rt/1610949733.1187592/001_000003_000099_aligned.nii /gpfs/milgram/scratch60/turk-browne/kp578/rtcloud_rt/1610949733.1187592/001_000003_000100_aligned.nii /gpfs/milgram/scratch60/turk-browne/kp578/rtcloud_rt/1610949733.1187592/001_000003_000101_aligned.nii /gpfs/milgram/scratch60/turk-browne/kp578/rtcloud_rt/1610949733.1187592/001_000003_000102_aligned.nii /gpfs/milgram/scratch60/turk-browne/kp578/rtcloud_rt/1610949733.1187592/001_000003_000103_aligned.nii /gpfs/milgram/scratch60/turk-browne/kp578/rtcloud_rt/1610949733.1187592/001_000003_000104_aligned.nii /gpfs/milgram/scratch60/turk-browne/kp578/rtcloud_rt/1610949733.1187592/001_000003_000105_aligned.nii /gpfs/milgram/scratch60/turk-browne/kp578/rtcloud_rt/1610949733.1187592/001_000003_000106_aligned.nii /gpfs/milgram/scratch60/turk-browne/kp578/rtcloud_rt/1610949733.1187592/001_000003_000107_aligned.nii /gpfs/milgram/scratch60/turk-browne/kp578/rtcloud_rt/1610949733.1187592/001_000003_000108_aligned.nii /gpfs/milgram/scratch60/turk-browne/kp578/rtcloud_rt/1610949733.1187592/001_000003_000109_aligned.nii /gpfs/milgram/scratch60/turk-browne/kp578/rtcloud_rt/1610949733.1187592/001_000003_000110_aligned.nii /gpfs/milgram/scratch60/turk-browne/kp578/rtcloud_rt/1610949733.1187592/001_000003_000111_aligned.nii /gpfs/milgram/scratch60/turk-browne/kp578/rtcloud_rt/1610949733.1187592/001_000003_000112_aligned.nii /gpfs/milgram/scratch60/turk-browne/kp578/rtcloud_rt/1610949733.1187592/001_000003_000113_aligned.nii /gpfs/milgram/scratch60/turk-browne/kp578/rtcloud_rt/1610949733.1187592/001_000003_000114_aligned.nii /gpfs/milgram/scratch60/turk-browne/kp578/rtcloud_rt/1610949733.1187592/001_000003_000115_aligned.nii /gpfs/milgram/scratch60/turk-browne/kp578/rtcloud_rt/1610949733.1187592/001_000003_000116_aligned.nii /gpfs/milgram/scratch60/turk-browne/kp578/rtcloud_rt/1610949733.1187592/001_000003_000117_aligned.nii /gpfs/milgram/scratch60/turk-browne/kp578/rtcloud_rt/1610949733.1187592/001_000003_000118_aligned.nii /gpfs/milgram/scratch60/turk-browne/kp578/rtcloud_rt/1610949733.1187592/001_000003_000119_aligned.nii /gpfs/milgram/scratch60/turk-browne/kp578/rtcloud_rt/1610949733.1187592/001_000003_000120_aligned.nii /gpfs/milgram/scratch60/turk-browne/kp578/rtcloud_rt/1610949733.1187592/001_000003_000121_aligned.nii /gpfs/milgram/scratch60/turk-browne/kp578/rtcloud_rt/1610949733.1187592/001_000003_000122_aligned.nii /gpfs/milgram/scratch60/turk-browne/kp578/rtcloud_rt/1610949733.1187592/001_000003_000123_aligned.nii /gpfs/milgram/scratch60/turk-browne/kp578/rtcloud_rt/1610949733.1187592/001_000003_000124_aligned.nii /gpfs/milgram/scratch60/turk-browne/kp578/rtcloud_rt/1610949733.1187592/001_000003_000125_aligned.nii /gpfs/milgram/scratch60/turk-browne/kp578/rtcloud_rt/1610949733.1187592/001_000003_000126_aligned.nii /gpfs/milgram/scratch60/turk-browne/kp578/rtcloud_rt/1610949733.1187592/001_000003_000127_aligned.nii /gpfs/milgram/scratch60/turk-browne/kp578/rtcloud_rt/1610949733.1187592/001_000003_000128_aligned.nii /gpfs/milgram/scratch60/turk-browne/kp578/rtcloud_rt/1610949733.1187592/001_000003_000129_aligned.nii /gpfs/milgram/scratch60/turk-browne/kp578/rtcloud_rt/1610949733.1187592/001_000003_000130_aligned.nii /gpfs/milgram/scratch60/turk-browne/kp578/rtcloud_rt/1610949733.1187592/001_000003_000131_aligned.nii /gpfs/milgram/scratch60/turk-browne/kp578/rtcloud_rt/1610949733.1187592/001_000003_000132_aligned.nii /gpfs/milgram/scratch60/turk-browne/kp578/rtcloud_rt/1610949733.1187592/001_000003_000133_aligned.nii /gpfs/milgram/scratch60/turk-browne/kp578/rtcloud_rt/1610949733.1187592/001_000003_000134_aligned.nii /gpfs/milgram/scratch60/turk-browne/kp578/rtcloud_rt/1610949733.1187592/001_000003_000135_aligned.nii /gpfs/milgram/scratch60/turk-browne/kp578/rtcloud_rt/1610949733.1187592/001_000003_000136_aligned.nii /gpfs/milgram/scratch60/turk-browne/kp578/rtcloud_rt/1610949733.1187592/001_000003_000137_aligned.nii /gpfs/milgram/scratch60/turk-browne/kp578/rtcloud_rt/1610949733.1187592/001_000003_000138_aligned.nii /gpfs/milgram/scratch60/turk-browne/kp578/rtcloud_rt/1610949733.1187592/001_000003_000139_aligned.nii /gpfs/milgram/scratch60/turk-browne/kp578/rtcloud_rt/1610949733.1187592/001_000003_000140_aligned.nii /gpfs/milgram/scratch60/turk-browne/kp578/rtcloud_rt/1610949733.1187592/001_000003_000141_aligned.nii /gpfs/milgram/scratch60/turk-browne/kp578/rtcloud_rt/1610949733.1187592/001_000003_000142_aligned.nii /gpfs/milgram/scratch60/turk-browne/kp578/rtcloud_rt/1610949733.1187592/001_000003_000143_aligned.nii /gpfs/milgram/scratch60/turk-browne/kp578/rtcloud_rt/1610949733.1187592/001_000003_000144_aligned.nii /gpfs/milgram/scratch60/turk-browne/kp578/rtcloud_rt/1610949733.1187592/001_000003_000145_aligned.nii /gpfs/milgram/scratch60/turk-browne/kp578/rtcloud_rt/1610949733.1187592/001_000003_000146_aligned.nii /gpfs/milgram/scratch60/turk-browne/kp578/rtcloud_rt/1610949733.1187592/001_000003_000147_aligned.nii /gpfs/milgram/scratch60/turk-browne/kp578/rtcloud_rt/1610949733.1187592/001_000003_000148_aligned.nii /gpfs/milgram/scratch60/turk-browne/kp578/rtcloud_rt/1610949733.1187592/001_000003_000149_aligned.nii /gpfs/milgram/scratch60/turk-browne/kp578/rtcloud_rt/1610949733.1187592/001_000003_000150_aligned.nii\n"
     ]
    },
    {
     "name": "stderr",
     "output_type": "stream",
     "text": [
      "/gpfs/milgram/project/turk-browne/users/kp578/CONDA/rtcloud/lib/python3.6/site-packages/ipykernel_launcher.py:164: DeprecationWarning: get_data() is deprecated in favor of get_fdata(), which has a more predictable return type. To obtain get_data() behavior going forward, use numpy.asanyarray(img.dataobj).\n",
      "\n",
      "* deprecated from version: 3.0\n",
      "* Will raise <class 'nibabel.deprecator.ExpiredDeprecationError'> as of version: 5.0\n",
      "/gpfs/milgram/project/turk-browne/users/kp578/CONDA/rtcloud/lib/python3.6/site-packages/ipykernel_launcher.py:164: DeprecationWarning: get_data() is deprecated in favor of get_fdata(), which has a more predictable return type. To obtain get_data() behavior going forward, use numpy.asanyarray(img.dataobj).\n",
      "\n",
      "* deprecated from version: 3.0\n",
      "* Will raise <class 'nibabel.deprecator.ExpiredDeprecationError'> as of version: 5.0\n"
     ]
    }
   ],
   "source": [
    "'''\n",
    "purpose \n",
    "    to use 2 recognition runs in the current day and the saved model trained earlier \n",
    "        to get the functionalTemplateTR to align the feedback dicom to\n",
    "        to align the selected functionalTemplateTR \n",
    "        register this day2 functional template volume with day1 functional template \n",
    "    to generate the metric Gaussian parameter and curve\n",
    "'''\n",
    "\n",
    "import os\n",
    "import sys\n",
    "sys.path.append('/gpfs/milgram/project/turk-browne/projects/rtSynth_rt/')\n",
    "import argparse\n",
    "import numpy as np\n",
    "import nibabel as nib\n",
    "import scipy.io as sio\n",
    "from subprocess import call\n",
    "from nibabel.nicom import dicomreaders\n",
    "import pydicom as dicom  # type: ignore\n",
    "import time\n",
    "from glob import glob\n",
    "import shutil\n",
    "from nilearn.image import new_img_like\n",
    "import joblib\n",
    "import rtCommon.utils as utils\n",
    "from rtCommon.utils import loadConfigFile\n",
    "from rtCommon.fileClient import FileInterface\n",
    "import rtCommon.projectUtils as projUtils\n",
    "from rtCommon.imageHandling import readRetryDicomFromFileInterface, getDicomFileName, convertDicomImgToNifti\n",
    "\n",
    "from rtCommon.cfg_loading import mkdir,cfg_loading\n",
    "cfg = cfg_loading('sub001.ses2.toml')\n",
    "\n",
    "sys.path.append('/gpfs/milgram/project/turk-browne/projects/rtSynth_rt/expScripts/recognition/')\n",
    "\n",
    "\n",
    "\n",
    "\n",
    "\n",
    "\n",
    "# import and set up environment\n",
    "import sys\n",
    "from subprocess import call\n",
    "import nibabel as nib\n",
    "import pydicom as dicom\n",
    "import numpy as np\n",
    "import time\n",
    "import os\n",
    "from glob import glob\n",
    "import shutil\n",
    "import pandas as pd\n",
    "# from import convertDicomFileToNifti\n",
    "from rtCommon.imageHandling import readRetryDicomFromFileInterface, getDicomFileName, convertDicomImgToNifti, readDicomFromFile\n",
    "from rtCommon.cfg_loading import mkdir,cfg_loading\n",
    "\n",
    "'''\n",
    "purpose: \n",
    "    prepare data for the model training code.\n",
    "steps:\n",
    "    convert all dicom files into nii files in the temp dir. \n",
    "    find the middle volume of the run1 as the template volume, convert this to the previous template volume space and save the converted file as today's functional template (templateFunctionalVolume)\n",
    "    align every other functional volume with templateFunctionalVolume (3dvolreg)\n",
    "'''\n",
    "\n",
    "# convert all dicom files into nii files in the temp dir. \n",
    "tmp_dir=f\"{cfg.tmp_folder}{time.time()}/\" ; mkdir(tmp_dir)\n",
    "dicomFiles=glob(f\"{cfg.dicom_dir}/*.dcm\") ; dicomFiles.sort()\n",
    "for curr_dicom in dicomFiles:\n",
    "    dicomImg = readDicomFromFile(curr_dicom) # read dicom file\n",
    "    convertDicomImgToNifti(dicomImg, dicomFilename=f\"{tmp_dir}/{curr_dicom.split('/')[-1]}\") #convert dicom to nii    \n",
    "    # os.remove(f\"{tmp_dir}/{curr_dicom.split('/')[-1]}\") # remove temp dcm file\n",
    "\n",
    "# find the middle volume of the run1 as the template volume\n",
    "# here you are assuming that the first run is a good run\n",
    "tmp=glob(f\"{tmp_dir}/001_000002*.nii\") ; tmp.sort()\n",
    "call(f\"cp {tmp[int(len(tmp)/2)]} {cfg.templateFunctionalVolume}\", shell=True)\n",
    "\n",
    "# convert cfg.templateFunctionalVolume to the previous template volume space \n",
    "call(f\"flirt -ref {cfg.subjects_dir}{cfg.subjectName}/ses{cfg.session-1}/recognition/templateFunctionalVolume.nii \\\n",
    "    -in {cfg.templateFunctionalVolume} \\\n",
    "    -out {cfg.recognition_dir}/templateFunctionalVolume_converted.nii\",shell=True)\n",
    "\n",
    "# save the converted file as today's functional template (templateFunctionalVolume) \n",
    "call(f\"mv {cfg.recognition_dir}/templateFunctionalVolume_converted.nii \\\n",
    "    {cfg.templateFunctionalVolume}\",shell=True)\n",
    "\n",
    "# align every other functional volume with templateFunctionalVolume (3dvolreg)\n",
    "allTRs=glob(f\"{tmp_dir}/001_00000[2,3]*.nii\") ; allTRs.sort()\n",
    "\n",
    "\n",
    "# select a list of run IDs based on the runRecording.csv, actualRuns would be [1,2] is the 1st and the 3rd runs are recognition runs.\n",
    "runRecording = pd.read_csv(f\"{cfg.recognition_dir}../runRecording.csv\")\n",
    "actualRuns = list(runRecording['run'].iloc[list(np.where(1==1*(runRecording['type']=='recognition'))[0])])\n",
    "for curr_run in actualRuns:\n",
    "    outputFileNames=[]\n",
    "    runTRs=glob(f\"{tmp_dir}/001_{str(curr_run).zfill(6)}_*.nii\") ; runTRs.sort()\n",
    "    for curr_TR in runTRs:\n",
    "        command = f\"3dvolreg \\\n",
    "            -base {cfg.templateFunctionalVolume} \\\n",
    "            -prefix  {curr_TR[0:-4]}_aligned.nii \\\n",
    "            {curr_TR}\"\n",
    "        call(command,shell=True)\n",
    "        outputFileNames.append(f\"{curr_TR[0:-4]}_aligned.nii\")\n",
    "    files=''\n",
    "    for f in outputFileNames:\n",
    "        files=files+' '+f\n",
    "    command=f\"fslmerge -t {cfg.recognition_dir}run{curr_run}.nii {files}\"\n",
    "    print('running',command)\n",
    "    call(command, shell=True)\n",
    "\n",
    "# remove the tmp folder\n",
    "shutil.rmtree(tmp_dir)\n",
    "\n",
    "'''\n",
    "for each run, \n",
    "    load behavior data \n",
    "    push the behavior data back for 2 TRs\n",
    "    save the brain TRs with images\n",
    "    save the behavior data\n",
    "'''\n",
    "\n",
    "def behaviorDataLoading(cfg,curr_run):\n",
    "    '''\n",
    "    extract the labels which is selected by the subject and coresponding TR and time\n",
    "    check if the subject's response is correct. When Item is A,bed, response should be 1, or it is wrong\n",
    "    '''\n",
    "    behav_data = pd.read_csv(f\"{cfg.recognition_dir}{cfg.subjectName}_{curr_run}.csv\")\n",
    "\n",
    "    # the item(imcode) colume of the data represent each image in the following correspondence\n",
    "    imcodeDict={\n",
    "    'A': 'bed',\n",
    "    'B': 'chair',\n",
    "    'C': 'table',\n",
    "    'D': 'bench'}\n",
    "\n",
    "    # When the imcode code is \"A\", the correct response should be '1', \"B\" should be '2'\n",
    "    correctResponseDict={\n",
    "    'A': 1,\n",
    "    'B': 2,\n",
    "    'C': 1,\n",
    "    'D': 2}\n",
    "\n",
    "    # extract the labels which is selected by the subject and coresponding TR and time\n",
    "    behav_data = behav_data[['TR', 'image_on', 'Resp',  'Item']] # the TR, the real time it was presented, \n",
    "    behav_data=behav_data.dropna(subset=['Item'])\n",
    "\n",
    "    # check if the subject's response is correct. When Item is A,bed, response should be 1, or it is wrong\n",
    "    isCorrect=[]\n",
    "    for curr_trial in range(behav_data.shape[0]):\n",
    "        isCorrect.append(correctResponseDict[behav_data['Item'].iloc[curr_trial]]==behav_data['Resp'].iloc[curr_trial])\n",
    "\n",
    "    behav_data['isCorrect']=isCorrect # merge the isCorrect clumne with the data dataframe\n",
    "    behav_data['subj']=[cfg.subjectName for i in range(len(behav_data))]\n",
    "    behav_data['run_num']=[int(curr_run) for i in range(len(behav_data))]\n",
    "    behav_data=behav_data[behav_data['isCorrect']] # discard the trials where the subject made wrong selection\n",
    "    return behav_data\n",
    "\n",
    "\n",
    "for curr_run_behav,curr_run in enumerate(actualRuns):\n",
    "    # load behavior data\n",
    "    behav_data = behaviorDataLoading(cfg,curr_run_behav+1)\n",
    "\n",
    "    # brain data is first aligned by pushed back 2TR(4s)\n",
    "    brain_data = nib.load(f\"{cfg.recognition_dir}run{curr_run}.nii.gz\").get_data() ; brain_data=np.transpose(brain_data,(3,0,1,2))\n",
    "    Brain_TR=np.arange(brain_data.shape[0])\n",
    "    Brain_TR = Brain_TR+2\n",
    "\n",
    "    # select volumes of brain_data by counting which TR is left in behav_data\n",
    "    Brain_TR=Brain_TR[list(behav_data['TR'])] # original TR begin with 0\n",
    "    if Brain_TR[-1]>=brain_data.shape[0]: # when the brain data is not as long as the behavior data, delete the last row\n",
    "        Brain_TR = Brain_TR[:-1]\n",
    "        behav_data = behav_data.drop([behav_data.iloc[-1].TR])\n",
    "    brain_data=brain_data[Brain_TR]\n",
    "    np.save(f\"{cfg.recognition_dir}brain_run{curr_run}.npy\", brain_data)\n",
    "    # save the behavior data\n",
    "    behav_data.to_csv(f\"{cfg.recognition_dir}behav_run{curr_run}.csv\")\n"
   ]
  },
  {
   "cell_type": "code",
   "execution_count": 26,
   "metadata": {},
   "outputs": [
    {
     "name": "stdout",
     "output_type": "stream",
     "text": [
      "evidence_floor=-4.707058647848117\n",
      "evidence_ceil=2.350234615141938\n"
     ]
    },
    {
     "name": "stderr",
     "output_type": "stream",
     "text": [
      "/gpfs/milgram/project/turk-browne/users/kp578/CONDA/rtcloud/lib/python3.6/site-packages/ipykernel_launcher.py:44: DeprecationWarning: get_data() is deprecated in favor of get_fdata(), which has a more predictable return type. To obtain get_data() behavior going forward, use numpy.asanyarray(img.dataobj).\n",
      "\n",
      "* deprecated from version: 3.0\n",
      "* Will raise <class 'nibabel.deprecator.ExpiredDeprecationError'> as of version: 5.0\n"
     ]
    }
   ],
   "source": [
    "'''\n",
    "purpose:\n",
    "    get the morphing target function\n",
    "steps:\n",
    "    load train clf\n",
    "    load brain data and behavior data\n",
    "    get the morphing target function\n",
    "        evidence_floor is C evidence for CD classifier(can also be D evidence for CD classifier)\n",
    "        evidence_ceil  is A evidence in AC and AD classifier\n",
    "'''\n",
    "\n",
    "import os\n",
    "import numpy as np\n",
    "import pandas as pd\n",
    "import matplotlib.pyplot as plt\n",
    "import sklearn\n",
    "import joblib\n",
    "import nibabel as nib\n",
    "import itertools\n",
    "from sklearn.linear_model import LogisticRegression\n",
    "from tqdm import tqdm\n",
    "\n",
    "\n",
    "if 'milgram' in os.getcwd():\n",
    "    main_dir='/gpfs/milgram/project/turk-browne/projects/rtSynth_rt/'\n",
    "else:\n",
    "    main_dir='/Volumes/GoogleDrive/My Drive/Turk_Browne_Lab/rtcloud_kp/'\n",
    "\n",
    "working_dir=main_dir\n",
    "os.chdir(working_dir)\n",
    "\n",
    "'''\n",
    "if you read runRecording for current session and found that there are only 4 runs in the current session, \n",
    "you read the runRecording for previous session and fetch the last 4 recognition runs from previous session\n",
    "'''\n",
    "runRecording = pd.read_csv(f\"{cfg.recognition_dir}../runRecording.csv\")\n",
    "actualRuns = list(runRecording['run'].iloc[list(np.where(1==1*(runRecording['type']=='recognition'))[0])]) # can be [1,2,3,4,5,6,7,8] or [1,2,4,5]\n",
    "\n",
    "\n",
    "objects = ['bed', 'bench', 'chair', 'table']\n",
    "\n",
    "for ii,run in enumerate(actualRuns): # load behavior and brain data for current session\n",
    "    t = np.load(f\"{cfg.recognition_dir}brain_run{run}.npy\")\n",
    "    mask = nib.load(f\"{cfg.chosenMask}\").get_data()\n",
    "    t = t[:,mask==1]\n",
    "    brain_data=t if ii==0 else np.concatenate((brain_data,t), axis=0)\n",
    "\n",
    "    t = pd.read_csv(f\"{cfg.recognition_dir}behav_run{run}.csv\")\n",
    "    behav_data=t if ii==0 else pd.concat([behav_data,t])\n",
    "\n",
    "FEAT=brain_data.reshape(brain_data.shape[0],-1)\n",
    "META=behav_data\n",
    "\n",
    "# convert item colume to label colume\n",
    "imcodeDict={\n",
    "'A': 'bed',\n",
    "'B': 'chair',\n",
    "'C': 'table',\n",
    "'D': 'bench'}\n",
    "label=[]\n",
    "for curr_trial in range(META.shape[0]):\n",
    "    label.append(imcodeDict[META['Item'].iloc[curr_trial]])\n",
    "META['label']=label # merge the label column with the data dataframe\n",
    "\n",
    "# evidence_floor is C evidence for AC_CD BC_CD CD_CD classifier(can also be D evidence for CD classifier)\n",
    "\n",
    "\n",
    "def classifierEvidence(clf,X,Y): # X shape is [trials,voxelNumber], Y is ['bed', 'bed'] for example # return a 1-d array of probability\n",
    "    # This function get the data X and evidence object I want to know Y, and output the trained model evidence.\n",
    "    targetID=[np.where((clf.classes_==i)==True)[0][0] for i in Y]\n",
    "    Evidence=(np.sum(X*clf.coef_,axis=1)+clf.intercept_) if targetID[0]==1 else (1-(np.sum(X*clf.coef_,axis=1)+clf.intercept_))\n",
    "    return np.asarray(Evidence)\n",
    "\n",
    "A_ID = (META['label']=='bed')\n",
    "X = FEAT[A_ID]\n",
    "\n",
    "Y = ['table'] * X.shape[0]\n",
    "CD_clf=joblib.load(cfg.usingModel_dir +'bedbench_benchtable.joblib') # These 4 clf should be the same: bedbench_benchtable.joblib bedtable_tablebench.joblib benchchair_benchtable.joblib chairtable_tablebench.joblib\n",
    "CD_C_evidence = classifierEvidence(CD_clf,X,Y)\n",
    "evidence_floor = np.mean(CD_C_evidence)\n",
    "print(f\"evidence_floor={evidence_floor}\")\n",
    "\n",
    "# evidence_ceil  is A evidence in AC and AD classifier\n",
    "Y = ['bed'] * X.shape[0]\n",
    "AC_clf=joblib.load(cfg.usingModel_dir +'bedbench_bedtable.joblib') # These 4 clf should be the same:   bedbench_bedtable.joblib bedchair_bedtable.joblib benchtable_tablebed.joblib chairtable_tablebed.joblib\n",
    "AC_A_evidence = classifierEvidence(AC_clf,X,Y)\n",
    "evidence_ceil1 = AC_A_evidence\n",
    "# print(f\"evidence_ceil1={evidence_ceil1}\")\n",
    "\n",
    "Y = ['bed'] * X.shape[0]\n",
    "AD_clf=joblib.load(cfg.usingModel_dir +'bedchair_bedbench.joblib') # These 4 clf should be the same:   bedchair_bedbench.joblib bedtable_bedbench.joblib benchchair_benchbed.joblib benchtable_benchbed.joblib\n",
    "AD_A_evidence = classifierEvidence(AD_clf,X,Y)\n",
    "evidence_ceil2 = AD_A_evidence\n",
    "# print(f\"evidence_ceil2={evidence_ceil2}\")\n",
    "\n",
    "evidence_ceil = np.mean((evidence_ceil1+evidence_ceil2)/2)\n",
    "print(f\"evidence_ceil={evidence_ceil}\")"
   ]
  },
  {
   "cell_type": "code",
   "execution_count": 43,
   "metadata": {},
   "outputs": [
    {
     "name": "stdout",
     "output_type": "stream",
     "text": [
      "evidence_floor=-4.707058647848117\n",
      "evidence_ceil=2.350234615141938\n"
     ]
    },
    {
     "name": "stderr",
     "output_type": "stream",
     "text": [
      "/gpfs/milgram/project/turk-browne/users/kp578/CONDA/rtcloud/lib/python3.6/site-packages/ipykernel_launcher.py:45: DeprecationWarning: get_data() is deprecated in favor of get_fdata(), which has a more predictable return type. To obtain get_data() behavior going forward, use numpy.asanyarray(img.dataobj).\n",
      "\n",
      "* deprecated from version: 3.0\n",
      "* Will raise <class 'nibabel.deprecator.ExpiredDeprecationError'> as of version: 5.0\n"
     ]
    },
    {
     "data": {
      "text/plain": [
       "[<matplotlib.lines.Line2D at 0x2aaef4fd08d0>]"
      ]
     },
     "execution_count": 43,
     "metadata": {},
     "output_type": "execute_result"
    },
    {
     "data": {
      "image/png": "[encoded data removed]",
      "text/plain": [
       "<Figure size 432x288 with 1 Axes>"
      ]
     },
     "metadata": {
      "needs_background": "light"
     },
     "output_type": "display_data"
    }
   ],
   "source": [
    "# from recognition_dataAnalysisFunctions import recognition_preprocess,minimalClass,behaviorDataLoading,recognition_preprocess_2run,morphingTarget\n",
    "def morphingTarget(cfg):\n",
    "    '''\n",
    "    purpose:\n",
    "        get the morphing target function\n",
    "    steps:\n",
    "        load train clf\n",
    "        load brain data and behavior data\n",
    "        get the morphing target function\n",
    "            evidence_floor is C evidence for CD classifier(can also be D evidence for CD classifier)\n",
    "            evidence_ceil  is A evidence in AC and AD classifier\n",
    "    '''\n",
    "\n",
    "    import os\n",
    "    import numpy as np\n",
    "    import pandas as pd\n",
    "    import matplotlib.pyplot as plt\n",
    "    import sklearn\n",
    "    import joblib\n",
    "    import nibabel as nib\n",
    "    import itertools\n",
    "    from sklearn.linear_model import LogisticRegression\n",
    "    from tqdm import tqdm\n",
    "\n",
    "\n",
    "    if 'milgram' in os.getcwd():\n",
    "        main_dir='/gpfs/milgram/project/turk-browne/projects/rtSynth_rt/'\n",
    "    else:\n",
    "        main_dir='/Volumes/GoogleDrive/My Drive/Turk_Browne_Lab/rtcloud_kp/'\n",
    "\n",
    "    working_dir=main_dir\n",
    "    os.chdir(working_dir)\n",
    "\n",
    "    '''\n",
    "    if you read runRecording for current session and found that there are only 4 runs in the current session, \n",
    "    you read the runRecording for previous session and fetch the last 4 recognition runs from previous session\n",
    "    '''\n",
    "    runRecording = pd.read_csv(f\"{cfg.recognition_dir}../runRecording.csv\")\n",
    "    actualRuns = list(runRecording['run'].iloc[list(np.where(1==1*(runRecording['type']=='recognition'))[0])]) # can be [1,2,3,4,5,6,7,8] or [1,2,4,5]\n",
    "\n",
    "    objects = ['bed', 'bench', 'chair', 'table']\n",
    "\n",
    "    for ii,run in enumerate(actualRuns): # load behavior and brain data for current session\n",
    "        t = np.load(f\"{cfg.recognition_dir}brain_run{run}.npy\")\n",
    "        mask = nib.load(f\"{cfg.chosenMask}\").get_data()\n",
    "        t = t[:,mask==1]\n",
    "        brain_data=t if ii==0 else np.concatenate((brain_data,t), axis=0)\n",
    "\n",
    "        t = pd.read_csv(f\"{cfg.recognition_dir}behav_run{run}.csv\")\n",
    "        behav_data=t if ii==0 else pd.concat([behav_data,t])\n",
    "\n",
    "    FEAT=brain_data.reshape(brain_data.shape[0],-1)\n",
    "    META=behav_data\n",
    "\n",
    "    # convert item colume to label colume\n",
    "    imcodeDict={\n",
    "    'A': 'bed',\n",
    "    'B': 'chair',\n",
    "    'C': 'table',\n",
    "    'D': 'bench'}\n",
    "    label=[]\n",
    "    for curr_trial in range(META.shape[0]):\n",
    "        label.append(imcodeDict[META['Item'].iloc[curr_trial]])\n",
    "    META['label']=label # merge the label column with the data dataframe\n",
    "\n",
    "    # evidence_floor is C evidence for AC_CD BC_CD CD_CD classifier(can also be D evidence for CD classifier)\n",
    "    \n",
    "\n",
    "    def classifierEvidence(clf,X,Y): # X shape is [trials,voxelNumber], Y is ['bed', 'bed'] for example # return a 1-d array of probability\n",
    "        # This function get the data X and evidence object I want to know Y, and output the trained model evidence.\n",
    "        targetID=[np.where((clf.classes_==i)==True)[0][0] for i in Y]\n",
    "        Evidence=(np.sum(X*clf.coef_,axis=1)+clf.intercept_) if targetID[0]==1 else (1-(np.sum(X*clf.coef_,axis=1)+clf.intercept_))\n",
    "        return np.asarray(Evidence)\n",
    "\n",
    "    A_ID = (META['label']=='bed')\n",
    "    X = FEAT[A_ID]\n",
    "\n",
    "    Y = ['table'] * X.shape[0]\n",
    "    CD_clf=joblib.load(cfg.usingModel_dir +'bedbench_benchtable.joblib') # These 4 clf are the same: bedbench_benchtable.joblib bedtable_tablebench.joblib benchchair_benchtable.joblib chairtable_tablebench.joblib\n",
    "    CD_C_evidence = classifierEvidence(CD_clf,X,Y)\n",
    "    evidence_floor = np.mean(CD_C_evidence)\n",
    "    print(f\"evidence_floor={evidence_floor}\")\n",
    "\n",
    "    # evidence_ceil  is A evidence in AC and AD classifier\n",
    "    Y = ['bed'] * X.shape[0]\n",
    "    AC_clf=joblib.load(cfg.usingModel_dir +'bedbench_bedtable.joblib') # These 4 clf are the same:   bedbench_bedtable.joblib bedchair_bedtable.joblib benchtable_tablebed.joblib chairtable_tablebed.joblib\n",
    "    AC_A_evidence = classifierEvidence(AC_clf,X,Y)\n",
    "    evidence_ceil1 = AC_A_evidence\n",
    "\n",
    "    Y = ['bed'] * X.shape[0]\n",
    "    AD_clf=joblib.load(cfg.usingModel_dir +'bedchair_bedbench.joblib') # These 4 clf are the same:   bedchair_bedbench.joblib bedtable_bedbench.joblib benchchair_benchbed.joblib benchtable_benchbed.joblib\n",
    "    AD_A_evidence = classifierEvidence(AD_clf,X,Y)\n",
    "    evidence_ceil2 = AD_A_evidence\n",
    "\n",
    "    evidence_ceil = np.mean((evidence_ceil1+evidence_ceil2)/2)\n",
    "    print(f\"evidence_ceil={evidence_ceil}\")\n",
    "\n",
    "    return evidence_floor, evidence_ceil\n",
    "\n",
    "floor, ceil = morphingTarget(cfg)\n",
    "\n",
    "def gaussian(x, mu, sig):\n",
    "    # mu and sig is determined before each neurofeedback session using 2 recognition runs.\n",
    "    return round(1+18*(1 - np.exp(-np.power(x - mu, 2.) / (2 * np.power(sig, 2.)))))\n",
    "\n",
    "mu = (floor+ceil)/2\n",
    "sig = (ceil-floor)/2.3548\n",
    "\n",
    "x=np.arange(-4,3,0.001)\n",
    "y=[gaussian(i, mu, sig) for i in x]\n",
    "plt.plot(x,y)"
   ]
  },
  {
   "cell_type": "code",
   "execution_count": 55,
   "metadata": {},
   "outputs": [],
   "source": [
    "np.save(f\"{cfg.feedback_dir}morphingTarget\",[mu,sig])"
   ]
  },
  {
   "cell_type": "code",
   "execution_count": 57,
   "metadata": {},
   "outputs": [],
   "source": []
  },
  {
   "cell_type": "code",
   "execution_count": 58,
   "metadata": {},
   "outputs": [
    {
     "data": {
      "text/plain": [
       "[-1.1784120163530896, 2.996982020974204]"
      ]
     },
     "execution_count": 58,
     "metadata": {},
     "output_type": "execute_result"
    }
   ],
   "source": []
  },
  {
   "cell_type": "code",
   "execution_count": 4,
   "metadata": {},
   "outputs": [
    {
     "name": "stderr",
     "output_type": "stream",
     "text": [
      "/gpfs/milgram/project/turk-browne/users/kp578/CONDA/rtcloud/lib/python3.6/site-packages/ipykernel_launcher.py:18: UserWarning: The DICOM readers are highly experimental, unstable, and only work for Siemens time-series at the moment\n",
      "Please use with caution.  We would be grateful for your help in improving them\n"
     ]
    },
    {
     "name": "stdout",
     "output_type": "stream",
     "text": [
      "conda env=/gpfs/milgram/project/turk-browne/users/kp578/CONDA/rtcloud\n",
      "running fslmerge -t /gpfs/milgram/project/turk-browne/projects/rtSynth_rt/subjects/sub001/ses2/recognition/run2.nii  /gpfs/milgram/scratch60/turk-browne/kp578/rtcloud_rt/1611311854.9213703/001_000002_000001_aligned.nii /gpfs/milgram/scratch60/turk-browne/kp578/rtcloud_rt/1611311854.9213703/001_000002_000002_aligned.nii /gpfs/milgram/scratch60/turk-browne/kp578/rtcloud_rt/1611311854.9213703/001_000002_000003_aligned.nii /gpfs/milgram/scratch60/turk-browne/kp578/rtcloud_rt/1611311854.9213703/001_000002_000004_aligned.nii /gpfs/milgram/scratch60/turk-browne/kp578/rtcloud_rt/1611311854.9213703/001_000002_000005_aligned.nii /gpfs/milgram/scratch60/turk-browne/kp578/rtcloud_rt/1611311854.9213703/001_000002_000006_aligned.nii /gpfs/milgram/scratch60/turk-browne/kp578/rtcloud_rt/1611311854.9213703/001_000002_000007_aligned.nii /gpfs/milgram/scratch60/turk-browne/kp578/rtcloud_rt/1611311854.9213703/001_000002_000008_aligned.nii /gpfs/milgram/scratch60/turk-browne/kp578/rtcloud_rt/1611311854.9213703/001_000002_000009_aligned.nii /gpfs/milgram/scratch60/turk-browne/kp578/rtcloud_rt/1611311854.9213703/001_000002_000010_aligned.nii /gpfs/milgram/scratch60/turk-browne/kp578/rtcloud_rt/1611311854.9213703/001_000002_000011_aligned.nii /gpfs/milgram/scratch60/turk-browne/kp578/rtcloud_rt/1611311854.9213703/001_000002_000012_aligned.nii /gpfs/milgram/scratch60/turk-browne/kp578/rtcloud_rt/1611311854.9213703/001_000002_000013_aligned.nii /gpfs/milgram/scratch60/turk-browne/kp578/rtcloud_rt/1611311854.9213703/001_000002_000014_aligned.nii /gpfs/milgram/scratch60/turk-browne/kp578/rtcloud_rt/1611311854.9213703/001_000002_000015_aligned.nii /gpfs/milgram/scratch60/turk-browne/kp578/rtcloud_rt/1611311854.9213703/001_000002_000016_aligned.nii /gpfs/milgram/scratch60/turk-browne/kp578/rtcloud_rt/1611311854.9213703/001_000002_000017_aligned.nii /gpfs/milgram/scratch60/turk-browne/kp578/rtcloud_rt/1611311854.9213703/001_000002_000018_aligned.nii /gpfs/milgram/scratch60/turk-browne/kp578/rtcloud_rt/1611311854.9213703/001_000002_000019_aligned.nii /gpfs/milgram/scratch60/turk-browne/kp578/rtcloud_rt/1611311854.9213703/001_000002_000020_aligned.nii /gpfs/milgram/scratch60/turk-browne/kp578/rtcloud_rt/1611311854.9213703/001_000002_000021_aligned.nii /gpfs/milgram/scratch60/turk-browne/kp578/rtcloud_rt/1611311854.9213703/001_000002_000022_aligned.nii /gpfs/milgram/scratch60/turk-browne/kp578/rtcloud_rt/1611311854.9213703/001_000002_000023_aligned.nii /gpfs/milgram/scratch60/turk-browne/kp578/rtcloud_rt/1611311854.9213703/001_000002_000024_aligned.nii /gpfs/milgram/scratch60/turk-browne/kp578/rtcloud_rt/1611311854.9213703/001_000002_000025_aligned.nii /gpfs/milgram/scratch60/turk-browne/kp578/rtcloud_rt/1611311854.9213703/001_000002_000026_aligned.nii /gpfs/milgram/scratch60/turk-browne/kp578/rtcloud_rt/1611311854.9213703/001_000002_000027_aligned.nii /gpfs/milgram/scratch60/turk-browne/kp578/rtcloud_rt/1611311854.9213703/001_000002_000028_aligned.nii /gpfs/milgram/scratch60/turk-browne/kp578/rtcloud_rt/1611311854.9213703/001_000002_000029_aligned.nii /gpfs/milgram/scratch60/turk-browne/kp578/rtcloud_rt/1611311854.9213703/001_000002_000030_aligned.nii /gpfs/milgram/scratch60/turk-browne/kp578/rtcloud_rt/1611311854.9213703/001_000002_000031_aligned.nii /gpfs/milgram/scratch60/turk-browne/kp578/rtcloud_rt/1611311854.9213703/001_000002_000032_aligned.nii /gpfs/milgram/scratch60/turk-browne/kp578/rtcloud_rt/1611311854.9213703/001_000002_000033_aligned.nii /gpfs/milgram/scratch60/turk-browne/kp578/rtcloud_rt/1611311854.9213703/001_000002_000034_aligned.nii /gpfs/milgram/scratch60/turk-browne/kp578/rtcloud_rt/1611311854.9213703/001_000002_000035_aligned.nii /gpfs/milgram/scratch60/turk-browne/kp578/rtcloud_rt/1611311854.9213703/001_000002_000036_aligned.nii /gpfs/milgram/scratch60/turk-browne/kp578/rtcloud_rt/1611311854.9213703/001_000002_000037_aligned.nii /gpfs/milgram/scratch60/turk-browne/kp578/rtcloud_rt/1611311854.9213703/001_000002_000038_aligned.nii /gpfs/milgram/scratch60/turk-browne/kp578/rtcloud_rt/1611311854.9213703/001_000002_000039_aligned.nii /gpfs/milgram/scratch60/turk-browne/kp578/rtcloud_rt/1611311854.9213703/001_000002_000040_aligned.nii /gpfs/milgram/scratch60/turk-browne/kp578/rtcloud_rt/1611311854.9213703/001_000002_000041_aligned.nii /gpfs/milgram/scratch60/turk-browne/kp578/rtcloud_rt/1611311854.9213703/001_000002_000042_aligned.nii /gpfs/milgram/scratch60/turk-browne/kp578/rtcloud_rt/1611311854.9213703/001_000002_000043_aligned.nii /gpfs/milgram/scratch60/turk-browne/kp578/rtcloud_rt/1611311854.9213703/001_000002_000044_aligned.nii /gpfs/milgram/scratch60/turk-browne/kp578/rtcloud_rt/1611311854.9213703/001_000002_000045_aligned.nii /gpfs/milgram/scratch60/turk-browne/kp578/rtcloud_rt/1611311854.9213703/001_000002_000046_aligned.nii /gpfs/milgram/scratch60/turk-browne/kp578/rtcloud_rt/1611311854.9213703/001_000002_000047_aligned.nii /gpfs/milgram/scratch60/turk-browne/kp578/rtcloud_rt/1611311854.9213703/001_000002_000048_aligned.nii /gpfs/milgram/scratch60/turk-browne/kp578/rtcloud_rt/1611311854.9213703/001_000002_000049_aligned.nii /gpfs/milgram/scratch60/turk-browne/kp578/rtcloud_rt/1611311854.9213703/001_000002_000050_aligned.nii /gpfs/milgram/scratch60/turk-browne/kp578/rtcloud_rt/1611311854.9213703/001_000002_000051_aligned.nii /gpfs/milgram/scratch60/turk-browne/kp578/rtcloud_rt/1611311854.9213703/001_000002_000052_aligned.nii /gpfs/milgram/scratch60/turk-browne/kp578/rtcloud_rt/1611311854.9213703/001_000002_000053_aligned.nii /gpfs/milgram/scratch60/turk-browne/kp578/rtcloud_rt/1611311854.9213703/001_000002_000054_aligned.nii /gpfs/milgram/scratch60/turk-browne/kp578/rtcloud_rt/1611311854.9213703/001_000002_000055_aligned.nii /gpfs/milgram/scratch60/turk-browne/kp578/rtcloud_rt/1611311854.9213703/001_000002_000056_aligned.nii /gpfs/milgram/scratch60/turk-browne/kp578/rtcloud_rt/1611311854.9213703/001_000002_000057_aligned.nii /gpfs/milgram/scratch60/turk-browne/kp578/rtcloud_rt/1611311854.9213703/001_000002_000058_aligned.nii /gpfs/milgram/scratch60/turk-browne/kp578/rtcloud_rt/1611311854.9213703/001_000002_000059_aligned.nii /gpfs/milgram/scratch60/turk-browne/kp578/rtcloud_rt/1611311854.9213703/001_000002_000060_aligned.nii /gpfs/milgram/scratch60/turk-browne/kp578/rtcloud_rt/1611311854.9213703/001_000002_000061_aligned.nii /gpfs/milgram/scratch60/turk-browne/kp578/rtcloud_rt/1611311854.9213703/001_000002_000062_aligned.nii /gpfs/milgram/scratch60/turk-browne/kp578/rtcloud_rt/1611311854.9213703/001_000002_000063_aligned.nii /gpfs/milgram/scratch60/turk-browne/kp578/rtcloud_rt/1611311854.9213703/001_000002_000064_aligned.nii /gpfs/milgram/scratch60/turk-browne/kp578/rtcloud_rt/1611311854.9213703/001_000002_000065_aligned.nii /gpfs/milgram/scratch60/turk-browne/kp578/rtcloud_rt/1611311854.9213703/001_000002_000066_aligned.nii /gpfs/milgram/scratch60/turk-browne/kp578/rtcloud_rt/1611311854.9213703/001_000002_000067_aligned.nii /gpfs/milgram/scratch60/turk-browne/kp578/rtcloud_rt/1611311854.9213703/001_000002_000068_aligned.nii /gpfs/milgram/scratch60/turk-browne/kp578/rtcloud_rt/1611311854.9213703/001_000002_000069_aligned.nii /gpfs/milgram/scratch60/turk-browne/kp578/rtcloud_rt/1611311854.9213703/001_000002_000070_aligned.nii /gpfs/milgram/scratch60/turk-browne/kp578/rtcloud_rt/1611311854.9213703/001_000002_000071_aligned.nii /gpfs/milgram/scratch60/turk-browne/kp578/rtcloud_rt/1611311854.9213703/001_000002_000072_aligned.nii /gpfs/milgram/scratch60/turk-browne/kp578/rtcloud_rt/1611311854.9213703/001_000002_000073_aligned.nii /gpfs/milgram/scratch60/turk-browne/kp578/rtcloud_rt/1611311854.9213703/001_000002_000074_aligned.nii /gpfs/milgram/scratch60/turk-browne/kp578/rtcloud_rt/1611311854.9213703/001_000002_000075_aligned.nii /gpfs/milgram/scratch60/turk-browne/kp578/rtcloud_rt/1611311854.9213703/001_000002_000076_aligned.nii /gpfs/milgram/scratch60/turk-browne/kp578/rtcloud_rt/1611311854.9213703/001_000002_000077_aligned.nii /gpfs/milgram/scratch60/turk-browne/kp578/rtcloud_rt/1611311854.9213703/001_000002_000078_aligned.nii /gpfs/milgram/scratch60/turk-browne/kp578/rtcloud_rt/1611311854.9213703/001_000002_000079_aligned.nii /gpfs/milgram/scratch60/turk-browne/kp578/rtcloud_rt/1611311854.9213703/001_000002_000080_aligned.nii /gpfs/milgram/scratch60/turk-browne/kp578/rtcloud_rt/1611311854.9213703/001_000002_000081_aligned.nii /gpfs/milgram/scratch60/turk-browne/kp578/rtcloud_rt/1611311854.9213703/001_000002_000082_aligned.nii /gpfs/milgram/scratch60/turk-browne/kp578/rtcloud_rt/1611311854.9213703/001_000002_000083_aligned.nii /gpfs/milgram/scratch60/turk-browne/kp578/rtcloud_rt/1611311854.9213703/001_000002_000084_aligned.nii /gpfs/milgram/scratch60/turk-browne/kp578/rtcloud_rt/1611311854.9213703/001_000002_000085_aligned.nii /gpfs/milgram/scratch60/turk-browne/kp578/rtcloud_rt/1611311854.9213703/001_000002_000086_aligned.nii /gpfs/milgram/scratch60/turk-browne/kp578/rtcloud_rt/1611311854.9213703/001_000002_000087_aligned.nii /gpfs/milgram/scratch60/turk-browne/kp578/rtcloud_rt/1611311854.9213703/001_000002_000088_aligned.nii /gpfs/milgram/scratch60/turk-browne/kp578/rtcloud_rt/1611311854.9213703/001_000002_000089_aligned.nii /gpfs/milgram/scratch60/turk-browne/kp578/rtcloud_rt/1611311854.9213703/001_000002_000090_aligned.nii /gpfs/milgram/scratch60/turk-browne/kp578/rtcloud_rt/1611311854.9213703/001_000002_000091_aligned.nii /gpfs/milgram/scratch60/turk-browne/kp578/rtcloud_rt/1611311854.9213703/001_000002_000092_aligned.nii /gpfs/milgram/scratch60/turk-browne/kp578/rtcloud_rt/1611311854.9213703/001_000002_000093_aligned.nii /gpfs/milgram/scratch60/turk-browne/kp578/rtcloud_rt/1611311854.9213703/001_000002_000094_aligned.nii /gpfs/milgram/scratch60/turk-browne/kp578/rtcloud_rt/1611311854.9213703/001_000002_000095_aligned.nii /gpfs/milgram/scratch60/turk-browne/kp578/rtcloud_rt/1611311854.9213703/001_000002_000096_aligned.nii /gpfs/milgram/scratch60/turk-browne/kp578/rtcloud_rt/1611311854.9213703/001_000002_000097_aligned.nii /gpfs/milgram/scratch60/turk-browne/kp578/rtcloud_rt/1611311854.9213703/001_000002_000098_aligned.nii /gpfs/milgram/scratch60/turk-browne/kp578/rtcloud_rt/1611311854.9213703/001_000002_000099_aligned.nii /gpfs/milgram/scratch60/turk-browne/kp578/rtcloud_rt/1611311854.9213703/001_000002_000100_aligned.nii /gpfs/milgram/scratch60/turk-browne/kp578/rtcloud_rt/1611311854.9213703/001_000002_000101_aligned.nii /gpfs/milgram/scratch60/turk-browne/kp578/rtcloud_rt/1611311854.9213703/001_000002_000102_aligned.nii /gpfs/milgram/scratch60/turk-browne/kp578/rtcloud_rt/1611311854.9213703/001_000002_000103_aligned.nii /gpfs/milgram/scratch60/turk-browne/kp578/rtcloud_rt/1611311854.9213703/001_000002_000104_aligned.nii /gpfs/milgram/scratch60/turk-browne/kp578/rtcloud_rt/1611311854.9213703/001_000002_000105_aligned.nii /gpfs/milgram/scratch60/turk-browne/kp578/rtcloud_rt/1611311854.9213703/001_000002_000106_aligned.nii /gpfs/milgram/scratch60/turk-browne/kp578/rtcloud_rt/1611311854.9213703/001_000002_000107_aligned.nii /gpfs/milgram/scratch60/turk-browne/kp578/rtcloud_rt/1611311854.9213703/001_000002_000108_aligned.nii /gpfs/milgram/scratch60/turk-browne/kp578/rtcloud_rt/1611311854.9213703/001_000002_000109_aligned.nii /gpfs/milgram/scratch60/turk-browne/kp578/rtcloud_rt/1611311854.9213703/001_000002_000110_aligned.nii /gpfs/milgram/scratch60/turk-browne/kp578/rtcloud_rt/1611311854.9213703/001_000002_000111_aligned.nii /gpfs/milgram/scratch60/turk-browne/kp578/rtcloud_rt/1611311854.9213703/001_000002_000112_aligned.nii /gpfs/milgram/scratch60/turk-browne/kp578/rtcloud_rt/1611311854.9213703/001_000002_000113_aligned.nii /gpfs/milgram/scratch60/turk-browne/kp578/rtcloud_rt/1611311854.9213703/001_000002_000114_aligned.nii /gpfs/milgram/scratch60/turk-browne/kp578/rtcloud_rt/1611311854.9213703/001_000002_000115_aligned.nii /gpfs/milgram/scratch60/turk-browne/kp578/rtcloud_rt/1611311854.9213703/001_000002_000116_aligned.nii /gpfs/milgram/scratch60/turk-browne/kp578/rtcloud_rt/1611311854.9213703/001_000002_000117_aligned.nii /gpfs/milgram/scratch60/turk-browne/kp578/rtcloud_rt/1611311854.9213703/001_000002_000118_aligned.nii /gpfs/milgram/scratch60/turk-browne/kp578/rtcloud_rt/1611311854.9213703/001_000002_000119_aligned.nii /gpfs/milgram/scratch60/turk-browne/kp578/rtcloud_rt/1611311854.9213703/001_000002_000120_aligned.nii /gpfs/milgram/scratch60/turk-browne/kp578/rtcloud_rt/1611311854.9213703/001_000002_000121_aligned.nii /gpfs/milgram/scratch60/turk-browne/kp578/rtcloud_rt/1611311854.9213703/001_000002_000122_aligned.nii /gpfs/milgram/scratch60/turk-browne/kp578/rtcloud_rt/1611311854.9213703/001_000002_000123_aligned.nii /gpfs/milgram/scratch60/turk-browne/kp578/rtcloud_rt/1611311854.9213703/001_000002_000124_aligned.nii /gpfs/milgram/scratch60/turk-browne/kp578/rtcloud_rt/1611311854.9213703/001_000002_000125_aligned.nii /gpfs/milgram/scratch60/turk-browne/kp578/rtcloud_rt/1611311854.9213703/001_000002_000126_aligned.nii /gpfs/milgram/scratch60/turk-browne/kp578/rtcloud_rt/1611311854.9213703/001_000002_000127_aligned.nii /gpfs/milgram/scratch60/turk-browne/kp578/rtcloud_rt/1611311854.9213703/001_000002_000128_aligned.nii /gpfs/milgram/scratch60/turk-browne/kp578/rtcloud_rt/1611311854.9213703/001_000002_000129_aligned.nii /gpfs/milgram/scratch60/turk-browne/kp578/rtcloud_rt/1611311854.9213703/001_000002_000130_aligned.nii /gpfs/milgram/scratch60/turk-browne/kp578/rtcloud_rt/1611311854.9213703/001_000002_000131_aligned.nii /gpfs/milgram/scratch60/turk-browne/kp578/rtcloud_rt/1611311854.9213703/001_000002_000132_aligned.nii /gpfs/milgram/scratch60/turk-browne/kp578/rtcloud_rt/1611311854.9213703/001_000002_000133_aligned.nii /gpfs/milgram/scratch60/turk-browne/kp578/rtcloud_rt/1611311854.9213703/001_000002_000134_aligned.nii /gpfs/milgram/scratch60/turk-browne/kp578/rtcloud_rt/1611311854.9213703/001_000002_000135_aligned.nii /gpfs/milgram/scratch60/turk-browne/kp578/rtcloud_rt/1611311854.9213703/001_000002_000136_aligned.nii /gpfs/milgram/scratch60/turk-browne/kp578/rtcloud_rt/1611311854.9213703/001_000002_000137_aligned.nii /gpfs/milgram/scratch60/turk-browne/kp578/rtcloud_rt/1611311854.9213703/001_000002_000138_aligned.nii /gpfs/milgram/scratch60/turk-browne/kp578/rtcloud_rt/1611311854.9213703/001_000002_000139_aligned.nii /gpfs/milgram/scratch60/turk-browne/kp578/rtcloud_rt/1611311854.9213703/001_000002_000140_aligned.nii /gpfs/milgram/scratch60/turk-browne/kp578/rtcloud_rt/1611311854.9213703/001_000002_000141_aligned.nii /gpfs/milgram/scratch60/turk-browne/kp578/rtcloud_rt/1611311854.9213703/001_000002_000142_aligned.nii /gpfs/milgram/scratch60/turk-browne/kp578/rtcloud_rt/1611311854.9213703/001_000002_000143_aligned.nii /gpfs/milgram/scratch60/turk-browne/kp578/rtcloud_rt/1611311854.9213703/001_000002_000144_aligned.nii /gpfs/milgram/scratch60/turk-browne/kp578/rtcloud_rt/1611311854.9213703/001_000002_000145_aligned.nii\n"
     ]
    },
    {
     "name": "stdout",
     "output_type": "stream",
     "text": [
      "running fslmerge -t /gpfs/milgram/project/turk-browne/projects/rtSynth_rt/subjects/sub001/ses2/recognition/run3.nii  /gpfs/milgram/scratch60/turk-browne/kp578/rtcloud_rt/1611311854.9213703/001_000003_000001_aligned.nii /gpfs/milgram/scratch60/turk-browne/kp578/rtcloud_rt/1611311854.9213703/001_000003_000002_aligned.nii /gpfs/milgram/scratch60/turk-browne/kp578/rtcloud_rt/1611311854.9213703/001_000003_000003_aligned.nii /gpfs/milgram/scratch60/turk-browne/kp578/rtcloud_rt/1611311854.9213703/001_000003_000004_aligned.nii /gpfs/milgram/scratch60/turk-browne/kp578/rtcloud_rt/1611311854.9213703/001_000003_000005_aligned.nii /gpfs/milgram/scratch60/turk-browne/kp578/rtcloud_rt/1611311854.9213703/001_000003_000006_aligned.nii /gpfs/milgram/scratch60/turk-browne/kp578/rtcloud_rt/1611311854.9213703/001_000003_000007_aligned.nii /gpfs/milgram/scratch60/turk-browne/kp578/rtcloud_rt/1611311854.9213703/001_000003_000008_aligned.nii /gpfs/milgram/scratch60/turk-browne/kp578/rtcloud_rt/1611311854.9213703/001_000003_000009_aligned.nii /gpfs/milgram/scratch60/turk-browne/kp578/rtcloud_rt/1611311854.9213703/001_000003_000010_aligned.nii /gpfs/milgram/scratch60/turk-browne/kp578/rtcloud_rt/1611311854.9213703/001_000003_000011_aligned.nii /gpfs/milgram/scratch60/turk-browne/kp578/rtcloud_rt/1611311854.9213703/001_000003_000012_aligned.nii /gpfs/milgram/scratch60/turk-browne/kp578/rtcloud_rt/1611311854.9213703/001_000003_000013_aligned.nii /gpfs/milgram/scratch60/turk-browne/kp578/rtcloud_rt/1611311854.9213703/001_000003_000014_aligned.nii /gpfs/milgram/scratch60/turk-browne/kp578/rtcloud_rt/1611311854.9213703/001_000003_000015_aligned.nii /gpfs/milgram/scratch60/turk-browne/kp578/rtcloud_rt/1611311854.9213703/001_000003_000016_aligned.nii /gpfs/milgram/scratch60/turk-browne/kp578/rtcloud_rt/1611311854.9213703/001_000003_000017_aligned.nii /gpfs/milgram/scratch60/turk-browne/kp578/rtcloud_rt/1611311854.9213703/001_000003_000018_aligned.nii /gpfs/milgram/scratch60/turk-browne/kp578/rtcloud_rt/1611311854.9213703/001_000003_000019_aligned.nii /gpfs/milgram/scratch60/turk-browne/kp578/rtcloud_rt/1611311854.9213703/001_000003_000020_aligned.nii /gpfs/milgram/scratch60/turk-browne/kp578/rtcloud_rt/1611311854.9213703/001_000003_000021_aligned.nii /gpfs/milgram/scratch60/turk-browne/kp578/rtcloud_rt/1611311854.9213703/001_000003_000022_aligned.nii /gpfs/milgram/scratch60/turk-browne/kp578/rtcloud_rt/1611311854.9213703/001_000003_000023_aligned.nii /gpfs/milgram/scratch60/turk-browne/kp578/rtcloud_rt/1611311854.9213703/001_000003_000024_aligned.nii /gpfs/milgram/scratch60/turk-browne/kp578/rtcloud_rt/1611311854.9213703/001_000003_000025_aligned.nii /gpfs/milgram/scratch60/turk-browne/kp578/rtcloud_rt/1611311854.9213703/001_000003_000026_aligned.nii /gpfs/milgram/scratch60/turk-browne/kp578/rtcloud_rt/1611311854.9213703/001_000003_000027_aligned.nii /gpfs/milgram/scratch60/turk-browne/kp578/rtcloud_rt/1611311854.9213703/001_000003_000028_aligned.nii /gpfs/milgram/scratch60/turk-browne/kp578/rtcloud_rt/1611311854.9213703/001_000003_000029_aligned.nii /gpfs/milgram/scratch60/turk-browne/kp578/rtcloud_rt/1611311854.9213703/001_000003_000030_aligned.nii /gpfs/milgram/scratch60/turk-browne/kp578/rtcloud_rt/1611311854.9213703/001_000003_000031_aligned.nii /gpfs/milgram/scratch60/turk-browne/kp578/rtcloud_rt/1611311854.9213703/001_000003_000032_aligned.nii /gpfs/milgram/scratch60/turk-browne/kp578/rtcloud_rt/1611311854.9213703/001_000003_000033_aligned.nii /gpfs/milgram/scratch60/turk-browne/kp578/rtcloud_rt/1611311854.9213703/001_000003_000034_aligned.nii /gpfs/milgram/scratch60/turk-browne/kp578/rtcloud_rt/1611311854.9213703/001_000003_000035_aligned.nii /gpfs/milgram/scratch60/turk-browne/kp578/rtcloud_rt/1611311854.9213703/001_000003_000036_aligned.nii /gpfs/milgram/scratch60/turk-browne/kp578/rtcloud_rt/1611311854.9213703/001_000003_000037_aligned.nii /gpfs/milgram/scratch60/turk-browne/kp578/rtcloud_rt/1611311854.9213703/001_000003_000038_aligned.nii /gpfs/milgram/scratch60/turk-browne/kp578/rtcloud_rt/1611311854.9213703/001_000003_000039_aligned.nii /gpfs/milgram/scratch60/turk-browne/kp578/rtcloud_rt/1611311854.9213703/001_000003_000040_aligned.nii /gpfs/milgram/scratch60/turk-browne/kp578/rtcloud_rt/1611311854.9213703/001_000003_000041_aligned.nii /gpfs/milgram/scratch60/turk-browne/kp578/rtcloud_rt/1611311854.9213703/001_000003_000042_aligned.nii /gpfs/milgram/scratch60/turk-browne/kp578/rtcloud_rt/1611311854.9213703/001_000003_000043_aligned.nii /gpfs/milgram/scratch60/turk-browne/kp578/rtcloud_rt/1611311854.9213703/001_000003_000044_aligned.nii /gpfs/milgram/scratch60/turk-browne/kp578/rtcloud_rt/1611311854.9213703/001_000003_000045_aligned.nii /gpfs/milgram/scratch60/turk-browne/kp578/rtcloud_rt/1611311854.9213703/001_000003_000046_aligned.nii /gpfs/milgram/scratch60/turk-browne/kp578/rtcloud_rt/1611311854.9213703/001_000003_000047_aligned.nii /gpfs/milgram/scratch60/turk-browne/kp578/rtcloud_rt/1611311854.9213703/001_000003_000048_aligned.nii /gpfs/milgram/scratch60/turk-browne/kp578/rtcloud_rt/1611311854.9213703/001_000003_000049_aligned.nii /gpfs/milgram/scratch60/turk-browne/kp578/rtcloud_rt/1611311854.9213703/001_000003_000050_aligned.nii /gpfs/milgram/scratch60/turk-browne/kp578/rtcloud_rt/1611311854.9213703/001_000003_000051_aligned.nii /gpfs/milgram/scratch60/turk-browne/kp578/rtcloud_rt/1611311854.9213703/001_000003_000052_aligned.nii /gpfs/milgram/scratch60/turk-browne/kp578/rtcloud_rt/1611311854.9213703/001_000003_000053_aligned.nii /gpfs/milgram/scratch60/turk-browne/kp578/rtcloud_rt/1611311854.9213703/001_000003_000054_aligned.nii /gpfs/milgram/scratch60/turk-browne/kp578/rtcloud_rt/1611311854.9213703/001_000003_000055_aligned.nii /gpfs/milgram/scratch60/turk-browne/kp578/rtcloud_rt/1611311854.9213703/001_000003_000056_aligned.nii /gpfs/milgram/scratch60/turk-browne/kp578/rtcloud_rt/1611311854.9213703/001_000003_000057_aligned.nii /gpfs/milgram/scratch60/turk-browne/kp578/rtcloud_rt/1611311854.9213703/001_000003_000058_aligned.nii /gpfs/milgram/scratch60/turk-browne/kp578/rtcloud_rt/1611311854.9213703/001_000003_000059_aligned.nii /gpfs/milgram/scratch60/turk-browne/kp578/rtcloud_rt/1611311854.9213703/001_000003_000060_aligned.nii /gpfs/milgram/scratch60/turk-browne/kp578/rtcloud_rt/1611311854.9213703/001_000003_000061_aligned.nii /gpfs/milgram/scratch60/turk-browne/kp578/rtcloud_rt/1611311854.9213703/001_000003_000062_aligned.nii /gpfs/milgram/scratch60/turk-browne/kp578/rtcloud_rt/1611311854.9213703/001_000003_000063_aligned.nii /gpfs/milgram/scratch60/turk-browne/kp578/rtcloud_rt/1611311854.9213703/001_000003_000064_aligned.nii /gpfs/milgram/scratch60/turk-browne/kp578/rtcloud_rt/1611311854.9213703/001_000003_000065_aligned.nii /gpfs/milgram/scratch60/turk-browne/kp578/rtcloud_rt/1611311854.9213703/001_000003_000066_aligned.nii /gpfs/milgram/scratch60/turk-browne/kp578/rtcloud_rt/1611311854.9213703/001_000003_000067_aligned.nii /gpfs/milgram/scratch60/turk-browne/kp578/rtcloud_rt/1611311854.9213703/001_000003_000068_aligned.nii /gpfs/milgram/scratch60/turk-browne/kp578/rtcloud_rt/1611311854.9213703/001_000003_000069_aligned.nii /gpfs/milgram/scratch60/turk-browne/kp578/rtcloud_rt/1611311854.9213703/001_000003_000070_aligned.nii /gpfs/milgram/scratch60/turk-browne/kp578/rtcloud_rt/1611311854.9213703/001_000003_000071_aligned.nii /gpfs/milgram/scratch60/turk-browne/kp578/rtcloud_rt/1611311854.9213703/001_000003_000072_aligned.nii /gpfs/milgram/scratch60/turk-browne/kp578/rtcloud_rt/1611311854.9213703/001_000003_000073_aligned.nii /gpfs/milgram/scratch60/turk-browne/kp578/rtcloud_rt/1611311854.9213703/001_000003_000074_aligned.nii /gpfs/milgram/scratch60/turk-browne/kp578/rtcloud_rt/1611311854.9213703/001_000003_000075_aligned.nii /gpfs/milgram/scratch60/turk-browne/kp578/rtcloud_rt/1611311854.9213703/001_000003_000076_aligned.nii /gpfs/milgram/scratch60/turk-browne/kp578/rtcloud_rt/1611311854.9213703/001_000003_000077_aligned.nii /gpfs/milgram/scratch60/turk-browne/kp578/rtcloud_rt/1611311854.9213703/001_000003_000078_aligned.nii /gpfs/milgram/scratch60/turk-browne/kp578/rtcloud_rt/1611311854.9213703/001_000003_000079_aligned.nii /gpfs/milgram/scratch60/turk-browne/kp578/rtcloud_rt/1611311854.9213703/001_000003_000080_aligned.nii /gpfs/milgram/scratch60/turk-browne/kp578/rtcloud_rt/1611311854.9213703/001_000003_000081_aligned.nii /gpfs/milgram/scratch60/turk-browne/kp578/rtcloud_rt/1611311854.9213703/001_000003_000082_aligned.nii /gpfs/milgram/scratch60/turk-browne/kp578/rtcloud_rt/1611311854.9213703/001_000003_000083_aligned.nii /gpfs/milgram/scratch60/turk-browne/kp578/rtcloud_rt/1611311854.9213703/001_000003_000084_aligned.nii /gpfs/milgram/scratch60/turk-browne/kp578/rtcloud_rt/1611311854.9213703/001_000003_000085_aligned.nii /gpfs/milgram/scratch60/turk-browne/kp578/rtcloud_rt/1611311854.9213703/001_000003_000086_aligned.nii /gpfs/milgram/scratch60/turk-browne/kp578/rtcloud_rt/1611311854.9213703/001_000003_000087_aligned.nii /gpfs/milgram/scratch60/turk-browne/kp578/rtcloud_rt/1611311854.9213703/001_000003_000088_aligned.nii /gpfs/milgram/scratch60/turk-browne/kp578/rtcloud_rt/1611311854.9213703/001_000003_000089_aligned.nii /gpfs/milgram/scratch60/turk-browne/kp578/rtcloud_rt/1611311854.9213703/001_000003_000090_aligned.nii /gpfs/milgram/scratch60/turk-browne/kp578/rtcloud_rt/1611311854.9213703/001_000003_000091_aligned.nii /gpfs/milgram/scratch60/turk-browne/kp578/rtcloud_rt/1611311854.9213703/001_000003_000092_aligned.nii /gpfs/milgram/scratch60/turk-browne/kp578/rtcloud_rt/1611311854.9213703/001_000003_000093_aligned.nii /gpfs/milgram/scratch60/turk-browne/kp578/rtcloud_rt/1611311854.9213703/001_000003_000094_aligned.nii /gpfs/milgram/scratch60/turk-browne/kp578/rtcloud_rt/1611311854.9213703/001_000003_000095_aligned.nii /gpfs/milgram/scratch60/turk-browne/kp578/rtcloud_rt/1611311854.9213703/001_000003_000096_aligned.nii /gpfs/milgram/scratch60/turk-browne/kp578/rtcloud_rt/1611311854.9213703/001_000003_000097_aligned.nii /gpfs/milgram/scratch60/turk-browne/kp578/rtcloud_rt/1611311854.9213703/001_000003_000098_aligned.nii /gpfs/milgram/scratch60/turk-browne/kp578/rtcloud_rt/1611311854.9213703/001_000003_000099_aligned.nii /gpfs/milgram/scratch60/turk-browne/kp578/rtcloud_rt/1611311854.9213703/001_000003_000100_aligned.nii /gpfs/milgram/scratch60/turk-browne/kp578/rtcloud_rt/1611311854.9213703/001_000003_000101_aligned.nii /gpfs/milgram/scratch60/turk-browne/kp578/rtcloud_rt/1611311854.9213703/001_000003_000102_aligned.nii /gpfs/milgram/scratch60/turk-browne/kp578/rtcloud_rt/1611311854.9213703/001_000003_000103_aligned.nii /gpfs/milgram/scratch60/turk-browne/kp578/rtcloud_rt/1611311854.9213703/001_000003_000104_aligned.nii /gpfs/milgram/scratch60/turk-browne/kp578/rtcloud_rt/1611311854.9213703/001_000003_000105_aligned.nii /gpfs/milgram/scratch60/turk-browne/kp578/rtcloud_rt/1611311854.9213703/001_000003_000106_aligned.nii /gpfs/milgram/scratch60/turk-browne/kp578/rtcloud_rt/1611311854.9213703/001_000003_000107_aligned.nii /gpfs/milgram/scratch60/turk-browne/kp578/rtcloud_rt/1611311854.9213703/001_000003_000108_aligned.nii /gpfs/milgram/scratch60/turk-browne/kp578/rtcloud_rt/1611311854.9213703/001_000003_000109_aligned.nii /gpfs/milgram/scratch60/turk-browne/kp578/rtcloud_rt/1611311854.9213703/001_000003_000110_aligned.nii /gpfs/milgram/scratch60/turk-browne/kp578/rtcloud_rt/1611311854.9213703/001_000003_000111_aligned.nii /gpfs/milgram/scratch60/turk-browne/kp578/rtcloud_rt/1611311854.9213703/001_000003_000112_aligned.nii /gpfs/milgram/scratch60/turk-browne/kp578/rtcloud_rt/1611311854.9213703/001_000003_000113_aligned.nii /gpfs/milgram/scratch60/turk-browne/kp578/rtcloud_rt/1611311854.9213703/001_000003_000114_aligned.nii /gpfs/milgram/scratch60/turk-browne/kp578/rtcloud_rt/1611311854.9213703/001_000003_000115_aligned.nii /gpfs/milgram/scratch60/turk-browne/kp578/rtcloud_rt/1611311854.9213703/001_000003_000116_aligned.nii /gpfs/milgram/scratch60/turk-browne/kp578/rtcloud_rt/1611311854.9213703/001_000003_000117_aligned.nii /gpfs/milgram/scratch60/turk-browne/kp578/rtcloud_rt/1611311854.9213703/001_000003_000118_aligned.nii /gpfs/milgram/scratch60/turk-browne/kp578/rtcloud_rt/1611311854.9213703/001_000003_000119_aligned.nii /gpfs/milgram/scratch60/turk-browne/kp578/rtcloud_rt/1611311854.9213703/001_000003_000120_aligned.nii /gpfs/milgram/scratch60/turk-browne/kp578/rtcloud_rt/1611311854.9213703/001_000003_000121_aligned.nii /gpfs/milgram/scratch60/turk-browne/kp578/rtcloud_rt/1611311854.9213703/001_000003_000122_aligned.nii /gpfs/milgram/scratch60/turk-browne/kp578/rtcloud_rt/1611311854.9213703/001_000003_000123_aligned.nii /gpfs/milgram/scratch60/turk-browne/kp578/rtcloud_rt/1611311854.9213703/001_000003_000124_aligned.nii /gpfs/milgram/scratch60/turk-browne/kp578/rtcloud_rt/1611311854.9213703/001_000003_000125_aligned.nii /gpfs/milgram/scratch60/turk-browne/kp578/rtcloud_rt/1611311854.9213703/001_000003_000126_aligned.nii /gpfs/milgram/scratch60/turk-browne/kp578/rtcloud_rt/1611311854.9213703/001_000003_000127_aligned.nii /gpfs/milgram/scratch60/turk-browne/kp578/rtcloud_rt/1611311854.9213703/001_000003_000128_aligned.nii /gpfs/milgram/scratch60/turk-browne/kp578/rtcloud_rt/1611311854.9213703/001_000003_000129_aligned.nii /gpfs/milgram/scratch60/turk-browne/kp578/rtcloud_rt/1611311854.9213703/001_000003_000130_aligned.nii /gpfs/milgram/scratch60/turk-browne/kp578/rtcloud_rt/1611311854.9213703/001_000003_000131_aligned.nii /gpfs/milgram/scratch60/turk-browne/kp578/rtcloud_rt/1611311854.9213703/001_000003_000132_aligned.nii /gpfs/milgram/scratch60/turk-browne/kp578/rtcloud_rt/1611311854.9213703/001_000003_000133_aligned.nii /gpfs/milgram/scratch60/turk-browne/kp578/rtcloud_rt/1611311854.9213703/001_000003_000134_aligned.nii /gpfs/milgram/scratch60/turk-browne/kp578/rtcloud_rt/1611311854.9213703/001_000003_000135_aligned.nii /gpfs/milgram/scratch60/turk-browne/kp578/rtcloud_rt/1611311854.9213703/001_000003_000136_aligned.nii /gpfs/milgram/scratch60/turk-browne/kp578/rtcloud_rt/1611311854.9213703/001_000003_000137_aligned.nii /gpfs/milgram/scratch60/turk-browne/kp578/rtcloud_rt/1611311854.9213703/001_000003_000138_aligned.nii /gpfs/milgram/scratch60/turk-browne/kp578/rtcloud_rt/1611311854.9213703/001_000003_000139_aligned.nii /gpfs/milgram/scratch60/turk-browne/kp578/rtcloud_rt/1611311854.9213703/001_000003_000140_aligned.nii /gpfs/milgram/scratch60/turk-browne/kp578/rtcloud_rt/1611311854.9213703/001_000003_000141_aligned.nii /gpfs/milgram/scratch60/turk-browne/kp578/rtcloud_rt/1611311854.9213703/001_000003_000142_aligned.nii /gpfs/milgram/scratch60/turk-browne/kp578/rtcloud_rt/1611311854.9213703/001_000003_000143_aligned.nii /gpfs/milgram/scratch60/turk-browne/kp578/rtcloud_rt/1611311854.9213703/001_000003_000144_aligned.nii /gpfs/milgram/scratch60/turk-browne/kp578/rtcloud_rt/1611311854.9213703/001_000003_000145_aligned.nii /gpfs/milgram/scratch60/turk-browne/kp578/rtcloud_rt/1611311854.9213703/001_000003_000146_aligned.nii /gpfs/milgram/scratch60/turk-browne/kp578/rtcloud_rt/1611311854.9213703/001_000003_000147_aligned.nii /gpfs/milgram/scratch60/turk-browne/kp578/rtcloud_rt/1611311854.9213703/001_000003_000148_aligned.nii /gpfs/milgram/scratch60/turk-browne/kp578/rtcloud_rt/1611311854.9213703/001_000003_000149_aligned.nii /gpfs/milgram/scratch60/turk-browne/kp578/rtcloud_rt/1611311854.9213703/001_000003_000150_aligned.nii\n"
     ]
    }
   ],
   "source": [
    "'''\n",
    "purpose \n",
    "    to use 2 recognition runs in the current day and the saved model trained earlier \n",
    "        to get the functionalTemplateTR to align the feedback dicom to\n",
    "        to align the selected functionalTemplateTR \n",
    "        register this day2 functional template volume with day1 functional template \n",
    "    to generate the metric Gaussian parameter and curve\n",
    "'''\n",
    "\n",
    "import os\n",
    "import sys\n",
    "sys.path.append('/gpfs/milgram/project/turk-browne/projects/rtSynth_rt/')\n",
    "import argparse\n",
    "import numpy as np\n",
    "import nibabel as nib\n",
    "import scipy.io as sio\n",
    "from subprocess import call\n",
    "from nibabel.nicom import dicomreaders\n",
    "import pydicom as dicom  # type: ignore\n",
    "import time\n",
    "from glob import glob\n",
    "import shutil\n",
    "from nilearn.image import new_img_like\n",
    "import joblib\n",
    "import rtCommon.utils as utils\n",
    "from rtCommon.utils import loadConfigFile\n",
    "from rtCommon.fileClient import FileInterface\n",
    "import rtCommon.projectUtils as projUtils\n",
    "from rtCommon.imageHandling import readRetryDicomFromFileInterface, getDicomFileName, convertDicomImgToNifti\n",
    "\n",
    "# argParser = argparse.ArgumentParser()\n",
    "# argParser.add_argument('--config', '-c', default='sub001.ses2.toml', type=str, help='experiment file (.json or .toml)')\n",
    "# args = argParser.parse_args()\n",
    "from rtCommon.cfg_loading import mkdir,cfg_loading\n",
    "cfg = cfg_loading(\"sub001.ses2.toml\")\n",
    "\n",
    "sys.path.append('/gpfs/milgram/project/turk-browne/projects/rtSynth_rt/expScripts/recognition/')\n",
    "from recognition_dataAnalysisFunctions import recognition_preprocess,minimalClass,behaviorDataLoading,recognition_preprocess_2run,morphingTarget\n",
    "\n",
    "\n",
    "\n",
    "\n",
    "'''\n",
    "convert all dicom files into nii files in the temp dir. \n",
    "find the middle volume of the run1 as the template volume\n",
    "align every other functional volume with templateFunctionalVolume (3dvolreg)\n",
    "load behavior data and align with brain data\n",
    "'''\n",
    "run_asTemplate=2 # which run in the realtime folder to select the middle volume as the template volume\n",
    "recognition_preprocess_2run(cfg,run_asTemplate)"
   ]
  },
  {
   "cell_type": "code",
   "execution_count": 6,
   "metadata": {
    "scrolled": true
   },
   "outputs": [
    {
     "name": "stdout",
     "output_type": "stream",
     "text": [
      "running fslmerge -t /gpfs/milgram/project/turk-browne/projects/rtSynth_rt/subjects/sub001/ses2/recognition/run2.nii  /gpfs/milgram/scratch60/turk-browne/kp578/rtcloud_rt/1611312114.0182986/001_000002_000001_aligned.nii /gpfs/milgram/scratch60/turk-browne/kp578/rtcloud_rt/1611312114.0182986/001_000002_000002_aligned.nii /gpfs/milgram/scratch60/turk-browne/kp578/rtcloud_rt/1611312114.0182986/001_000002_000003_aligned.nii /gpfs/milgram/scratch60/turk-browne/kp578/rtcloud_rt/1611312114.0182986/001_000002_000004_aligned.nii /gpfs/milgram/scratch60/turk-browne/kp578/rtcloud_rt/1611312114.0182986/001_000002_000005_aligned.nii /gpfs/milgram/scratch60/turk-browne/kp578/rtcloud_rt/1611312114.0182986/001_000002_000006_aligned.nii /gpfs/milgram/scratch60/turk-browne/kp578/rtcloud_rt/1611312114.0182986/001_000002_000007_aligned.nii /gpfs/milgram/scratch60/turk-browne/kp578/rtcloud_rt/1611312114.0182986/001_000002_000008_aligned.nii /gpfs/milgram/scratch60/turk-browne/kp578/rtcloud_rt/1611312114.0182986/001_000002_000009_aligned.nii /gpfs/milgram/scratch60/turk-browne/kp578/rtcloud_rt/1611312114.0182986/001_000002_000010_aligned.nii /gpfs/milgram/scratch60/turk-browne/kp578/rtcloud_rt/1611312114.0182986/001_000002_000011_aligned.nii /gpfs/milgram/scratch60/turk-browne/kp578/rtcloud_rt/1611312114.0182986/001_000002_000012_aligned.nii /gpfs/milgram/scratch60/turk-browne/kp578/rtcloud_rt/1611312114.0182986/001_000002_000013_aligned.nii /gpfs/milgram/scratch60/turk-browne/kp578/rtcloud_rt/1611312114.0182986/001_000002_000014_aligned.nii /gpfs/milgram/scratch60/turk-browne/kp578/rtcloud_rt/1611312114.0182986/001_000002_000015_aligned.nii /gpfs/milgram/scratch60/turk-browne/kp578/rtcloud_rt/1611312114.0182986/001_000002_000016_aligned.nii /gpfs/milgram/scratch60/turk-browne/kp578/rtcloud_rt/1611312114.0182986/001_000002_000017_aligned.nii /gpfs/milgram/scratch60/turk-browne/kp578/rtcloud_rt/1611312114.0182986/001_000002_000018_aligned.nii /gpfs/milgram/scratch60/turk-browne/kp578/rtcloud_rt/1611312114.0182986/001_000002_000019_aligned.nii /gpfs/milgram/scratch60/turk-browne/kp578/rtcloud_rt/1611312114.0182986/001_000002_000020_aligned.nii /gpfs/milgram/scratch60/turk-browne/kp578/rtcloud_rt/1611312114.0182986/001_000002_000021_aligned.nii /gpfs/milgram/scratch60/turk-browne/kp578/rtcloud_rt/1611312114.0182986/001_000002_000022_aligned.nii /gpfs/milgram/scratch60/turk-browne/kp578/rtcloud_rt/1611312114.0182986/001_000002_000023_aligned.nii /gpfs/milgram/scratch60/turk-browne/kp578/rtcloud_rt/1611312114.0182986/001_000002_000024_aligned.nii /gpfs/milgram/scratch60/turk-browne/kp578/rtcloud_rt/1611312114.0182986/001_000002_000025_aligned.nii /gpfs/milgram/scratch60/turk-browne/kp578/rtcloud_rt/1611312114.0182986/001_000002_000026_aligned.nii /gpfs/milgram/scratch60/turk-browne/kp578/rtcloud_rt/1611312114.0182986/001_000002_000027_aligned.nii /gpfs/milgram/scratch60/turk-browne/kp578/rtcloud_rt/1611312114.0182986/001_000002_000028_aligned.nii /gpfs/milgram/scratch60/turk-browne/kp578/rtcloud_rt/1611312114.0182986/001_000002_000029_aligned.nii /gpfs/milgram/scratch60/turk-browne/kp578/rtcloud_rt/1611312114.0182986/001_000002_000030_aligned.nii /gpfs/milgram/scratch60/turk-browne/kp578/rtcloud_rt/1611312114.0182986/001_000002_000031_aligned.nii /gpfs/milgram/scratch60/turk-browne/kp578/rtcloud_rt/1611312114.0182986/001_000002_000032_aligned.nii /gpfs/milgram/scratch60/turk-browne/kp578/rtcloud_rt/1611312114.0182986/001_000002_000033_aligned.nii /gpfs/milgram/scratch60/turk-browne/kp578/rtcloud_rt/1611312114.0182986/001_000002_000034_aligned.nii /gpfs/milgram/scratch60/turk-browne/kp578/rtcloud_rt/1611312114.0182986/001_000002_000035_aligned.nii /gpfs/milgram/scratch60/turk-browne/kp578/rtcloud_rt/1611312114.0182986/001_000002_000036_aligned.nii /gpfs/milgram/scratch60/turk-browne/kp578/rtcloud_rt/1611312114.0182986/001_000002_000037_aligned.nii /gpfs/milgram/scratch60/turk-browne/kp578/rtcloud_rt/1611312114.0182986/001_000002_000038_aligned.nii /gpfs/milgram/scratch60/turk-browne/kp578/rtcloud_rt/1611312114.0182986/001_000002_000039_aligned.nii /gpfs/milgram/scratch60/turk-browne/kp578/rtcloud_rt/1611312114.0182986/001_000002_000040_aligned.nii /gpfs/milgram/scratch60/turk-browne/kp578/rtcloud_rt/1611312114.0182986/001_000002_000041_aligned.nii /gpfs/milgram/scratch60/turk-browne/kp578/rtcloud_rt/1611312114.0182986/001_000002_000042_aligned.nii /gpfs/milgram/scratch60/turk-browne/kp578/rtcloud_rt/1611312114.0182986/001_000002_000043_aligned.nii /gpfs/milgram/scratch60/turk-browne/kp578/rtcloud_rt/1611312114.0182986/001_000002_000044_aligned.nii /gpfs/milgram/scratch60/turk-browne/kp578/rtcloud_rt/1611312114.0182986/001_000002_000045_aligned.nii /gpfs/milgram/scratch60/turk-browne/kp578/rtcloud_rt/1611312114.0182986/001_000002_000046_aligned.nii /gpfs/milgram/scratch60/turk-browne/kp578/rtcloud_rt/1611312114.0182986/001_000002_000047_aligned.nii /gpfs/milgram/scratch60/turk-browne/kp578/rtcloud_rt/1611312114.0182986/001_000002_000048_aligned.nii /gpfs/milgram/scratch60/turk-browne/kp578/rtcloud_rt/1611312114.0182986/001_000002_000049_aligned.nii /gpfs/milgram/scratch60/turk-browne/kp578/rtcloud_rt/1611312114.0182986/001_000002_000050_aligned.nii /gpfs/milgram/scratch60/turk-browne/kp578/rtcloud_rt/1611312114.0182986/001_000002_000051_aligned.nii /gpfs/milgram/scratch60/turk-browne/kp578/rtcloud_rt/1611312114.0182986/001_000002_000052_aligned.nii /gpfs/milgram/scratch60/turk-browne/kp578/rtcloud_rt/1611312114.0182986/001_000002_000053_aligned.nii /gpfs/milgram/scratch60/turk-browne/kp578/rtcloud_rt/1611312114.0182986/001_000002_000054_aligned.nii /gpfs/milgram/scratch60/turk-browne/kp578/rtcloud_rt/1611312114.0182986/001_000002_000055_aligned.nii /gpfs/milgram/scratch60/turk-browne/kp578/rtcloud_rt/1611312114.0182986/001_000002_000056_aligned.nii /gpfs/milgram/scratch60/turk-browne/kp578/rtcloud_rt/1611312114.0182986/001_000002_000057_aligned.nii /gpfs/milgram/scratch60/turk-browne/kp578/rtcloud_rt/1611312114.0182986/001_000002_000058_aligned.nii /gpfs/milgram/scratch60/turk-browne/kp578/rtcloud_rt/1611312114.0182986/001_000002_000059_aligned.nii /gpfs/milgram/scratch60/turk-browne/kp578/rtcloud_rt/1611312114.0182986/001_000002_000060_aligned.nii /gpfs/milgram/scratch60/turk-browne/kp578/rtcloud_rt/1611312114.0182986/001_000002_000061_aligned.nii /gpfs/milgram/scratch60/turk-browne/kp578/rtcloud_rt/1611312114.0182986/001_000002_000062_aligned.nii /gpfs/milgram/scratch60/turk-browne/kp578/rtcloud_rt/1611312114.0182986/001_000002_000063_aligned.nii /gpfs/milgram/scratch60/turk-browne/kp578/rtcloud_rt/1611312114.0182986/001_000002_000064_aligned.nii /gpfs/milgram/scratch60/turk-browne/kp578/rtcloud_rt/1611312114.0182986/001_000002_000065_aligned.nii /gpfs/milgram/scratch60/turk-browne/kp578/rtcloud_rt/1611312114.0182986/001_000002_000066_aligned.nii /gpfs/milgram/scratch60/turk-browne/kp578/rtcloud_rt/1611312114.0182986/001_000002_000067_aligned.nii /gpfs/milgram/scratch60/turk-browne/kp578/rtcloud_rt/1611312114.0182986/001_000002_000068_aligned.nii /gpfs/milgram/scratch60/turk-browne/kp578/rtcloud_rt/1611312114.0182986/001_000002_000069_aligned.nii /gpfs/milgram/scratch60/turk-browne/kp578/rtcloud_rt/1611312114.0182986/001_000002_000070_aligned.nii /gpfs/milgram/scratch60/turk-browne/kp578/rtcloud_rt/1611312114.0182986/001_000002_000071_aligned.nii /gpfs/milgram/scratch60/turk-browne/kp578/rtcloud_rt/1611312114.0182986/001_000002_000072_aligned.nii /gpfs/milgram/scratch60/turk-browne/kp578/rtcloud_rt/1611312114.0182986/001_000002_000073_aligned.nii /gpfs/milgram/scratch60/turk-browne/kp578/rtcloud_rt/1611312114.0182986/001_000002_000074_aligned.nii /gpfs/milgram/scratch60/turk-browne/kp578/rtcloud_rt/1611312114.0182986/001_000002_000075_aligned.nii /gpfs/milgram/scratch60/turk-browne/kp578/rtcloud_rt/1611312114.0182986/001_000002_000076_aligned.nii /gpfs/milgram/scratch60/turk-browne/kp578/rtcloud_rt/1611312114.0182986/001_000002_000077_aligned.nii /gpfs/milgram/scratch60/turk-browne/kp578/rtcloud_rt/1611312114.0182986/001_000002_000078_aligned.nii /gpfs/milgram/scratch60/turk-browne/kp578/rtcloud_rt/1611312114.0182986/001_000002_000079_aligned.nii /gpfs/milgram/scratch60/turk-browne/kp578/rtcloud_rt/1611312114.0182986/001_000002_000080_aligned.nii /gpfs/milgram/scratch60/turk-browne/kp578/rtcloud_rt/1611312114.0182986/001_000002_000081_aligned.nii /gpfs/milgram/scratch60/turk-browne/kp578/rtcloud_rt/1611312114.0182986/001_000002_000082_aligned.nii /gpfs/milgram/scratch60/turk-browne/kp578/rtcloud_rt/1611312114.0182986/001_000002_000083_aligned.nii /gpfs/milgram/scratch60/turk-browne/kp578/rtcloud_rt/1611312114.0182986/001_000002_000084_aligned.nii /gpfs/milgram/scratch60/turk-browne/kp578/rtcloud_rt/1611312114.0182986/001_000002_000085_aligned.nii /gpfs/milgram/scratch60/turk-browne/kp578/rtcloud_rt/1611312114.0182986/001_000002_000086_aligned.nii /gpfs/milgram/scratch60/turk-browne/kp578/rtcloud_rt/1611312114.0182986/001_000002_000087_aligned.nii /gpfs/milgram/scratch60/turk-browne/kp578/rtcloud_rt/1611312114.0182986/001_000002_000088_aligned.nii /gpfs/milgram/scratch60/turk-browne/kp578/rtcloud_rt/1611312114.0182986/001_000002_000089_aligned.nii /gpfs/milgram/scratch60/turk-browne/kp578/rtcloud_rt/1611312114.0182986/001_000002_000090_aligned.nii /gpfs/milgram/scratch60/turk-browne/kp578/rtcloud_rt/1611312114.0182986/001_000002_000091_aligned.nii /gpfs/milgram/scratch60/turk-browne/kp578/rtcloud_rt/1611312114.0182986/001_000002_000092_aligned.nii /gpfs/milgram/scratch60/turk-browne/kp578/rtcloud_rt/1611312114.0182986/001_000002_000093_aligned.nii /gpfs/milgram/scratch60/turk-browne/kp578/rtcloud_rt/1611312114.0182986/001_000002_000094_aligned.nii /gpfs/milgram/scratch60/turk-browne/kp578/rtcloud_rt/1611312114.0182986/001_000002_000095_aligned.nii /gpfs/milgram/scratch60/turk-browne/kp578/rtcloud_rt/1611312114.0182986/001_000002_000096_aligned.nii /gpfs/milgram/scratch60/turk-browne/kp578/rtcloud_rt/1611312114.0182986/001_000002_000097_aligned.nii /gpfs/milgram/scratch60/turk-browne/kp578/rtcloud_rt/1611312114.0182986/001_000002_000098_aligned.nii /gpfs/milgram/scratch60/turk-browne/kp578/rtcloud_rt/1611312114.0182986/001_000002_000099_aligned.nii /gpfs/milgram/scratch60/turk-browne/kp578/rtcloud_rt/1611312114.0182986/001_000002_000100_aligned.nii /gpfs/milgram/scratch60/turk-browne/kp578/rtcloud_rt/1611312114.0182986/001_000002_000101_aligned.nii /gpfs/milgram/scratch60/turk-browne/kp578/rtcloud_rt/1611312114.0182986/001_000002_000102_aligned.nii /gpfs/milgram/scratch60/turk-browne/kp578/rtcloud_rt/1611312114.0182986/001_000002_000103_aligned.nii /gpfs/milgram/scratch60/turk-browne/kp578/rtcloud_rt/1611312114.0182986/001_000002_000104_aligned.nii /gpfs/milgram/scratch60/turk-browne/kp578/rtcloud_rt/1611312114.0182986/001_000002_000105_aligned.nii /gpfs/milgram/scratch60/turk-browne/kp578/rtcloud_rt/1611312114.0182986/001_000002_000106_aligned.nii /gpfs/milgram/scratch60/turk-browne/kp578/rtcloud_rt/1611312114.0182986/001_000002_000107_aligned.nii /gpfs/milgram/scratch60/turk-browne/kp578/rtcloud_rt/1611312114.0182986/001_000002_000108_aligned.nii /gpfs/milgram/scratch60/turk-browne/kp578/rtcloud_rt/1611312114.0182986/001_000002_000109_aligned.nii /gpfs/milgram/scratch60/turk-browne/kp578/rtcloud_rt/1611312114.0182986/001_000002_000110_aligned.nii /gpfs/milgram/scratch60/turk-browne/kp578/rtcloud_rt/1611312114.0182986/001_000002_000111_aligned.nii /gpfs/milgram/scratch60/turk-browne/kp578/rtcloud_rt/1611312114.0182986/001_000002_000112_aligned.nii /gpfs/milgram/scratch60/turk-browne/kp578/rtcloud_rt/1611312114.0182986/001_000002_000113_aligned.nii /gpfs/milgram/scratch60/turk-browne/kp578/rtcloud_rt/1611312114.0182986/001_000002_000114_aligned.nii /gpfs/milgram/scratch60/turk-browne/kp578/rtcloud_rt/1611312114.0182986/001_000002_000115_aligned.nii /gpfs/milgram/scratch60/turk-browne/kp578/rtcloud_rt/1611312114.0182986/001_000002_000116_aligned.nii /gpfs/milgram/scratch60/turk-browne/kp578/rtcloud_rt/1611312114.0182986/001_000002_000117_aligned.nii /gpfs/milgram/scratch60/turk-browne/kp578/rtcloud_rt/1611312114.0182986/001_000002_000118_aligned.nii /gpfs/milgram/scratch60/turk-browne/kp578/rtcloud_rt/1611312114.0182986/001_000002_000119_aligned.nii /gpfs/milgram/scratch60/turk-browne/kp578/rtcloud_rt/1611312114.0182986/001_000002_000120_aligned.nii /gpfs/milgram/scratch60/turk-browne/kp578/rtcloud_rt/1611312114.0182986/001_000002_000121_aligned.nii /gpfs/milgram/scratch60/turk-browne/kp578/rtcloud_rt/1611312114.0182986/001_000002_000122_aligned.nii /gpfs/milgram/scratch60/turk-browne/kp578/rtcloud_rt/1611312114.0182986/001_000002_000123_aligned.nii /gpfs/milgram/scratch60/turk-browne/kp578/rtcloud_rt/1611312114.0182986/001_000002_000124_aligned.nii /gpfs/milgram/scratch60/turk-browne/kp578/rtcloud_rt/1611312114.0182986/001_000002_000125_aligned.nii /gpfs/milgram/scratch60/turk-browne/kp578/rtcloud_rt/1611312114.0182986/001_000002_000126_aligned.nii /gpfs/milgram/scratch60/turk-browne/kp578/rtcloud_rt/1611312114.0182986/001_000002_000127_aligned.nii /gpfs/milgram/scratch60/turk-browne/kp578/rtcloud_rt/1611312114.0182986/001_000002_000128_aligned.nii /gpfs/milgram/scratch60/turk-browne/kp578/rtcloud_rt/1611312114.0182986/001_000002_000129_aligned.nii /gpfs/milgram/scratch60/turk-browne/kp578/rtcloud_rt/1611312114.0182986/001_000002_000130_aligned.nii /gpfs/milgram/scratch60/turk-browne/kp578/rtcloud_rt/1611312114.0182986/001_000002_000131_aligned.nii /gpfs/milgram/scratch60/turk-browne/kp578/rtcloud_rt/1611312114.0182986/001_000002_000132_aligned.nii /gpfs/milgram/scratch60/turk-browne/kp578/rtcloud_rt/1611312114.0182986/001_000002_000133_aligned.nii /gpfs/milgram/scratch60/turk-browne/kp578/rtcloud_rt/1611312114.0182986/001_000002_000134_aligned.nii /gpfs/milgram/scratch60/turk-browne/kp578/rtcloud_rt/1611312114.0182986/001_000002_000135_aligned.nii /gpfs/milgram/scratch60/turk-browne/kp578/rtcloud_rt/1611312114.0182986/001_000002_000136_aligned.nii /gpfs/milgram/scratch60/turk-browne/kp578/rtcloud_rt/1611312114.0182986/001_000002_000137_aligned.nii /gpfs/milgram/scratch60/turk-browne/kp578/rtcloud_rt/1611312114.0182986/001_000002_000138_aligned.nii /gpfs/milgram/scratch60/turk-browne/kp578/rtcloud_rt/1611312114.0182986/001_000002_000139_aligned.nii /gpfs/milgram/scratch60/turk-browne/kp578/rtcloud_rt/1611312114.0182986/001_000002_000140_aligned.nii /gpfs/milgram/scratch60/turk-browne/kp578/rtcloud_rt/1611312114.0182986/001_000002_000141_aligned.nii /gpfs/milgram/scratch60/turk-browne/kp578/rtcloud_rt/1611312114.0182986/001_000002_000142_aligned.nii /gpfs/milgram/scratch60/turk-browne/kp578/rtcloud_rt/1611312114.0182986/001_000002_000143_aligned.nii /gpfs/milgram/scratch60/turk-browne/kp578/rtcloud_rt/1611312114.0182986/001_000002_000144_aligned.nii /gpfs/milgram/scratch60/turk-browne/kp578/rtcloud_rt/1611312114.0182986/001_000002_000145_aligned.nii\n"
     ]
    },
    {
     "name": "stdout",
     "output_type": "stream",
     "text": [
      "running fslmerge -t /gpfs/milgram/project/turk-browne/projects/rtSynth_rt/subjects/sub001/ses2/recognition/run3.nii  /gpfs/milgram/scratch60/turk-browne/kp578/rtcloud_rt/1611312114.0182986/001_000003_000001_aligned.nii /gpfs/milgram/scratch60/turk-browne/kp578/rtcloud_rt/1611312114.0182986/001_000003_000002_aligned.nii /gpfs/milgram/scratch60/turk-browne/kp578/rtcloud_rt/1611312114.0182986/001_000003_000003_aligned.nii /gpfs/milgram/scratch60/turk-browne/kp578/rtcloud_rt/1611312114.0182986/001_000003_000004_aligned.nii /gpfs/milgram/scratch60/turk-browne/kp578/rtcloud_rt/1611312114.0182986/001_000003_000005_aligned.nii /gpfs/milgram/scratch60/turk-browne/kp578/rtcloud_rt/1611312114.0182986/001_000003_000006_aligned.nii /gpfs/milgram/scratch60/turk-browne/kp578/rtcloud_rt/1611312114.0182986/001_000003_000007_aligned.nii /gpfs/milgram/scratch60/turk-browne/kp578/rtcloud_rt/1611312114.0182986/001_000003_000008_aligned.nii /gpfs/milgram/scratch60/turk-browne/kp578/rtcloud_rt/1611312114.0182986/001_000003_000009_aligned.nii /gpfs/milgram/scratch60/turk-browne/kp578/rtcloud_rt/1611312114.0182986/001_000003_000010_aligned.nii /gpfs/milgram/scratch60/turk-browne/kp578/rtcloud_rt/1611312114.0182986/001_000003_000011_aligned.nii /gpfs/milgram/scratch60/turk-browne/kp578/rtcloud_rt/1611312114.0182986/001_000003_000012_aligned.nii /gpfs/milgram/scratch60/turk-browne/kp578/rtcloud_rt/1611312114.0182986/001_000003_000013_aligned.nii /gpfs/milgram/scratch60/turk-browne/kp578/rtcloud_rt/1611312114.0182986/001_000003_000014_aligned.nii /gpfs/milgram/scratch60/turk-browne/kp578/rtcloud_rt/1611312114.0182986/001_000003_000015_aligned.nii /gpfs/milgram/scratch60/turk-browne/kp578/rtcloud_rt/1611312114.0182986/001_000003_000016_aligned.nii /gpfs/milgram/scratch60/turk-browne/kp578/rtcloud_rt/1611312114.0182986/001_000003_000017_aligned.nii /gpfs/milgram/scratch60/turk-browne/kp578/rtcloud_rt/1611312114.0182986/001_000003_000018_aligned.nii /gpfs/milgram/scratch60/turk-browne/kp578/rtcloud_rt/1611312114.0182986/001_000003_000019_aligned.nii /gpfs/milgram/scratch60/turk-browne/kp578/rtcloud_rt/1611312114.0182986/001_000003_000020_aligned.nii /gpfs/milgram/scratch60/turk-browne/kp578/rtcloud_rt/1611312114.0182986/001_000003_000021_aligned.nii /gpfs/milgram/scratch60/turk-browne/kp578/rtcloud_rt/1611312114.0182986/001_000003_000022_aligned.nii /gpfs/milgram/scratch60/turk-browne/kp578/rtcloud_rt/1611312114.0182986/001_000003_000023_aligned.nii /gpfs/milgram/scratch60/turk-browne/kp578/rtcloud_rt/1611312114.0182986/001_000003_000024_aligned.nii /gpfs/milgram/scratch60/turk-browne/kp578/rtcloud_rt/1611312114.0182986/001_000003_000025_aligned.nii /gpfs/milgram/scratch60/turk-browne/kp578/rtcloud_rt/1611312114.0182986/001_000003_000026_aligned.nii /gpfs/milgram/scratch60/turk-browne/kp578/rtcloud_rt/1611312114.0182986/001_000003_000027_aligned.nii /gpfs/milgram/scratch60/turk-browne/kp578/rtcloud_rt/1611312114.0182986/001_000003_000028_aligned.nii /gpfs/milgram/scratch60/turk-browne/kp578/rtcloud_rt/1611312114.0182986/001_000003_000029_aligned.nii /gpfs/milgram/scratch60/turk-browne/kp578/rtcloud_rt/1611312114.0182986/001_000003_000030_aligned.nii /gpfs/milgram/scratch60/turk-browne/kp578/rtcloud_rt/1611312114.0182986/001_000003_000031_aligned.nii /gpfs/milgram/scratch60/turk-browne/kp578/rtcloud_rt/1611312114.0182986/001_000003_000032_aligned.nii /gpfs/milgram/scratch60/turk-browne/kp578/rtcloud_rt/1611312114.0182986/001_000003_000033_aligned.nii /gpfs/milgram/scratch60/turk-browne/kp578/rtcloud_rt/1611312114.0182986/001_000003_000034_aligned.nii /gpfs/milgram/scratch60/turk-browne/kp578/rtcloud_rt/1611312114.0182986/001_000003_000035_aligned.nii /gpfs/milgram/scratch60/turk-browne/kp578/rtcloud_rt/1611312114.0182986/001_000003_000036_aligned.nii /gpfs/milgram/scratch60/turk-browne/kp578/rtcloud_rt/1611312114.0182986/001_000003_000037_aligned.nii /gpfs/milgram/scratch60/turk-browne/kp578/rtcloud_rt/1611312114.0182986/001_000003_000038_aligned.nii /gpfs/milgram/scratch60/turk-browne/kp578/rtcloud_rt/1611312114.0182986/001_000003_000039_aligned.nii /gpfs/milgram/scratch60/turk-browne/kp578/rtcloud_rt/1611312114.0182986/001_000003_000040_aligned.nii /gpfs/milgram/scratch60/turk-browne/kp578/rtcloud_rt/1611312114.0182986/001_000003_000041_aligned.nii /gpfs/milgram/scratch60/turk-browne/kp578/rtcloud_rt/1611312114.0182986/001_000003_000042_aligned.nii /gpfs/milgram/scratch60/turk-browne/kp578/rtcloud_rt/1611312114.0182986/001_000003_000043_aligned.nii /gpfs/milgram/scratch60/turk-browne/kp578/rtcloud_rt/1611312114.0182986/001_000003_000044_aligned.nii /gpfs/milgram/scratch60/turk-browne/kp578/rtcloud_rt/1611312114.0182986/001_000003_000045_aligned.nii /gpfs/milgram/scratch60/turk-browne/kp578/rtcloud_rt/1611312114.0182986/001_000003_000046_aligned.nii /gpfs/milgram/scratch60/turk-browne/kp578/rtcloud_rt/1611312114.0182986/001_000003_000047_aligned.nii /gpfs/milgram/scratch60/turk-browne/kp578/rtcloud_rt/1611312114.0182986/001_000003_000048_aligned.nii /gpfs/milgram/scratch60/turk-browne/kp578/rtcloud_rt/1611312114.0182986/001_000003_000049_aligned.nii /gpfs/milgram/scratch60/turk-browne/kp578/rtcloud_rt/1611312114.0182986/001_000003_000050_aligned.nii /gpfs/milgram/scratch60/turk-browne/kp578/rtcloud_rt/1611312114.0182986/001_000003_000051_aligned.nii /gpfs/milgram/scratch60/turk-browne/kp578/rtcloud_rt/1611312114.0182986/001_000003_000052_aligned.nii /gpfs/milgram/scratch60/turk-browne/kp578/rtcloud_rt/1611312114.0182986/001_000003_000053_aligned.nii /gpfs/milgram/scratch60/turk-browne/kp578/rtcloud_rt/1611312114.0182986/001_000003_000054_aligned.nii /gpfs/milgram/scratch60/turk-browne/kp578/rtcloud_rt/1611312114.0182986/001_000003_000055_aligned.nii /gpfs/milgram/scratch60/turk-browne/kp578/rtcloud_rt/1611312114.0182986/001_000003_000056_aligned.nii /gpfs/milgram/scratch60/turk-browne/kp578/rtcloud_rt/1611312114.0182986/001_000003_000057_aligned.nii /gpfs/milgram/scratch60/turk-browne/kp578/rtcloud_rt/1611312114.0182986/001_000003_000058_aligned.nii /gpfs/milgram/scratch60/turk-browne/kp578/rtcloud_rt/1611312114.0182986/001_000003_000059_aligned.nii /gpfs/milgram/scratch60/turk-browne/kp578/rtcloud_rt/1611312114.0182986/001_000003_000060_aligned.nii /gpfs/milgram/scratch60/turk-browne/kp578/rtcloud_rt/1611312114.0182986/001_000003_000061_aligned.nii /gpfs/milgram/scratch60/turk-browne/kp578/rtcloud_rt/1611312114.0182986/001_000003_000062_aligned.nii /gpfs/milgram/scratch60/turk-browne/kp578/rtcloud_rt/1611312114.0182986/001_000003_000063_aligned.nii /gpfs/milgram/scratch60/turk-browne/kp578/rtcloud_rt/1611312114.0182986/001_000003_000064_aligned.nii /gpfs/milgram/scratch60/turk-browne/kp578/rtcloud_rt/1611312114.0182986/001_000003_000065_aligned.nii /gpfs/milgram/scratch60/turk-browne/kp578/rtcloud_rt/1611312114.0182986/001_000003_000066_aligned.nii /gpfs/milgram/scratch60/turk-browne/kp578/rtcloud_rt/1611312114.0182986/001_000003_000067_aligned.nii /gpfs/milgram/scratch60/turk-browne/kp578/rtcloud_rt/1611312114.0182986/001_000003_000068_aligned.nii /gpfs/milgram/scratch60/turk-browne/kp578/rtcloud_rt/1611312114.0182986/001_000003_000069_aligned.nii /gpfs/milgram/scratch60/turk-browne/kp578/rtcloud_rt/1611312114.0182986/001_000003_000070_aligned.nii /gpfs/milgram/scratch60/turk-browne/kp578/rtcloud_rt/1611312114.0182986/001_000003_000071_aligned.nii /gpfs/milgram/scratch60/turk-browne/kp578/rtcloud_rt/1611312114.0182986/001_000003_000072_aligned.nii /gpfs/milgram/scratch60/turk-browne/kp578/rtcloud_rt/1611312114.0182986/001_000003_000073_aligned.nii /gpfs/milgram/scratch60/turk-browne/kp578/rtcloud_rt/1611312114.0182986/001_000003_000074_aligned.nii /gpfs/milgram/scratch60/turk-browne/kp578/rtcloud_rt/1611312114.0182986/001_000003_000075_aligned.nii /gpfs/milgram/scratch60/turk-browne/kp578/rtcloud_rt/1611312114.0182986/001_000003_000076_aligned.nii /gpfs/milgram/scratch60/turk-browne/kp578/rtcloud_rt/1611312114.0182986/001_000003_000077_aligned.nii /gpfs/milgram/scratch60/turk-browne/kp578/rtcloud_rt/1611312114.0182986/001_000003_000078_aligned.nii /gpfs/milgram/scratch60/turk-browne/kp578/rtcloud_rt/1611312114.0182986/001_000003_000079_aligned.nii /gpfs/milgram/scratch60/turk-browne/kp578/rtcloud_rt/1611312114.0182986/001_000003_000080_aligned.nii /gpfs/milgram/scratch60/turk-browne/kp578/rtcloud_rt/1611312114.0182986/001_000003_000081_aligned.nii /gpfs/milgram/scratch60/turk-browne/kp578/rtcloud_rt/1611312114.0182986/001_000003_000082_aligned.nii /gpfs/milgram/scratch60/turk-browne/kp578/rtcloud_rt/1611312114.0182986/001_000003_000083_aligned.nii /gpfs/milgram/scratch60/turk-browne/kp578/rtcloud_rt/1611312114.0182986/001_000003_000084_aligned.nii /gpfs/milgram/scratch60/turk-browne/kp578/rtcloud_rt/1611312114.0182986/001_000003_000085_aligned.nii /gpfs/milgram/scratch60/turk-browne/kp578/rtcloud_rt/1611312114.0182986/001_000003_000086_aligned.nii /gpfs/milgram/scratch60/turk-browne/kp578/rtcloud_rt/1611312114.0182986/001_000003_000087_aligned.nii /gpfs/milgram/scratch60/turk-browne/kp578/rtcloud_rt/1611312114.0182986/001_000003_000088_aligned.nii /gpfs/milgram/scratch60/turk-browne/kp578/rtcloud_rt/1611312114.0182986/001_000003_000089_aligned.nii /gpfs/milgram/scratch60/turk-browne/kp578/rtcloud_rt/1611312114.0182986/001_000003_000090_aligned.nii /gpfs/milgram/scratch60/turk-browne/kp578/rtcloud_rt/1611312114.0182986/001_000003_000091_aligned.nii /gpfs/milgram/scratch60/turk-browne/kp578/rtcloud_rt/1611312114.0182986/001_000003_000092_aligned.nii /gpfs/milgram/scratch60/turk-browne/kp578/rtcloud_rt/1611312114.0182986/001_000003_000093_aligned.nii /gpfs/milgram/scratch60/turk-browne/kp578/rtcloud_rt/1611312114.0182986/001_000003_000094_aligned.nii /gpfs/milgram/scratch60/turk-browne/kp578/rtcloud_rt/1611312114.0182986/001_000003_000095_aligned.nii /gpfs/milgram/scratch60/turk-browne/kp578/rtcloud_rt/1611312114.0182986/001_000003_000096_aligned.nii /gpfs/milgram/scratch60/turk-browne/kp578/rtcloud_rt/1611312114.0182986/001_000003_000097_aligned.nii /gpfs/milgram/scratch60/turk-browne/kp578/rtcloud_rt/1611312114.0182986/001_000003_000098_aligned.nii /gpfs/milgram/scratch60/turk-browne/kp578/rtcloud_rt/1611312114.0182986/001_000003_000099_aligned.nii /gpfs/milgram/scratch60/turk-browne/kp578/rtcloud_rt/1611312114.0182986/001_000003_000100_aligned.nii /gpfs/milgram/scratch60/turk-browne/kp578/rtcloud_rt/1611312114.0182986/001_000003_000101_aligned.nii /gpfs/milgram/scratch60/turk-browne/kp578/rtcloud_rt/1611312114.0182986/001_000003_000102_aligned.nii /gpfs/milgram/scratch60/turk-browne/kp578/rtcloud_rt/1611312114.0182986/001_000003_000103_aligned.nii /gpfs/milgram/scratch60/turk-browne/kp578/rtcloud_rt/1611312114.0182986/001_000003_000104_aligned.nii /gpfs/milgram/scratch60/turk-browne/kp578/rtcloud_rt/1611312114.0182986/001_000003_000105_aligned.nii /gpfs/milgram/scratch60/turk-browne/kp578/rtcloud_rt/1611312114.0182986/001_000003_000106_aligned.nii /gpfs/milgram/scratch60/turk-browne/kp578/rtcloud_rt/1611312114.0182986/001_000003_000107_aligned.nii /gpfs/milgram/scratch60/turk-browne/kp578/rtcloud_rt/1611312114.0182986/001_000003_000108_aligned.nii /gpfs/milgram/scratch60/turk-browne/kp578/rtcloud_rt/1611312114.0182986/001_000003_000109_aligned.nii /gpfs/milgram/scratch60/turk-browne/kp578/rtcloud_rt/1611312114.0182986/001_000003_000110_aligned.nii /gpfs/milgram/scratch60/turk-browne/kp578/rtcloud_rt/1611312114.0182986/001_000003_000111_aligned.nii /gpfs/milgram/scratch60/turk-browne/kp578/rtcloud_rt/1611312114.0182986/001_000003_000112_aligned.nii /gpfs/milgram/scratch60/turk-browne/kp578/rtcloud_rt/1611312114.0182986/001_000003_000113_aligned.nii /gpfs/milgram/scratch60/turk-browne/kp578/rtcloud_rt/1611312114.0182986/001_000003_000114_aligned.nii /gpfs/milgram/scratch60/turk-browne/kp578/rtcloud_rt/1611312114.0182986/001_000003_000115_aligned.nii /gpfs/milgram/scratch60/turk-browne/kp578/rtcloud_rt/1611312114.0182986/001_000003_000116_aligned.nii /gpfs/milgram/scratch60/turk-browne/kp578/rtcloud_rt/1611312114.0182986/001_000003_000117_aligned.nii /gpfs/milgram/scratch60/turk-browne/kp578/rtcloud_rt/1611312114.0182986/001_000003_000118_aligned.nii /gpfs/milgram/scratch60/turk-browne/kp578/rtcloud_rt/1611312114.0182986/001_000003_000119_aligned.nii /gpfs/milgram/scratch60/turk-browne/kp578/rtcloud_rt/1611312114.0182986/001_000003_000120_aligned.nii /gpfs/milgram/scratch60/turk-browne/kp578/rtcloud_rt/1611312114.0182986/001_000003_000121_aligned.nii /gpfs/milgram/scratch60/turk-browne/kp578/rtcloud_rt/1611312114.0182986/001_000003_000122_aligned.nii /gpfs/milgram/scratch60/turk-browne/kp578/rtcloud_rt/1611312114.0182986/001_000003_000123_aligned.nii /gpfs/milgram/scratch60/turk-browne/kp578/rtcloud_rt/1611312114.0182986/001_000003_000124_aligned.nii /gpfs/milgram/scratch60/turk-browne/kp578/rtcloud_rt/1611312114.0182986/001_000003_000125_aligned.nii /gpfs/milgram/scratch60/turk-browne/kp578/rtcloud_rt/1611312114.0182986/001_000003_000126_aligned.nii /gpfs/milgram/scratch60/turk-browne/kp578/rtcloud_rt/1611312114.0182986/001_000003_000127_aligned.nii /gpfs/milgram/scratch60/turk-browne/kp578/rtcloud_rt/1611312114.0182986/001_000003_000128_aligned.nii /gpfs/milgram/scratch60/turk-browne/kp578/rtcloud_rt/1611312114.0182986/001_000003_000129_aligned.nii /gpfs/milgram/scratch60/turk-browne/kp578/rtcloud_rt/1611312114.0182986/001_000003_000130_aligned.nii /gpfs/milgram/scratch60/turk-browne/kp578/rtcloud_rt/1611312114.0182986/001_000003_000131_aligned.nii /gpfs/milgram/scratch60/turk-browne/kp578/rtcloud_rt/1611312114.0182986/001_000003_000132_aligned.nii /gpfs/milgram/scratch60/turk-browne/kp578/rtcloud_rt/1611312114.0182986/001_000003_000133_aligned.nii /gpfs/milgram/scratch60/turk-browne/kp578/rtcloud_rt/1611312114.0182986/001_000003_000134_aligned.nii /gpfs/milgram/scratch60/turk-browne/kp578/rtcloud_rt/1611312114.0182986/001_000003_000135_aligned.nii /gpfs/milgram/scratch60/turk-browne/kp578/rtcloud_rt/1611312114.0182986/001_000003_000136_aligned.nii /gpfs/milgram/scratch60/turk-browne/kp578/rtcloud_rt/1611312114.0182986/001_000003_000137_aligned.nii /gpfs/milgram/scratch60/turk-browne/kp578/rtcloud_rt/1611312114.0182986/001_000003_000138_aligned.nii /gpfs/milgram/scratch60/turk-browne/kp578/rtcloud_rt/1611312114.0182986/001_000003_000139_aligned.nii /gpfs/milgram/scratch60/turk-browne/kp578/rtcloud_rt/1611312114.0182986/001_000003_000140_aligned.nii /gpfs/milgram/scratch60/turk-browne/kp578/rtcloud_rt/1611312114.0182986/001_000003_000141_aligned.nii /gpfs/milgram/scratch60/turk-browne/kp578/rtcloud_rt/1611312114.0182986/001_000003_000142_aligned.nii /gpfs/milgram/scratch60/turk-browne/kp578/rtcloud_rt/1611312114.0182986/001_000003_000143_aligned.nii /gpfs/milgram/scratch60/turk-browne/kp578/rtcloud_rt/1611312114.0182986/001_000003_000144_aligned.nii /gpfs/milgram/scratch60/turk-browne/kp578/rtcloud_rt/1611312114.0182986/001_000003_000145_aligned.nii /gpfs/milgram/scratch60/turk-browne/kp578/rtcloud_rt/1611312114.0182986/001_000003_000146_aligned.nii /gpfs/milgram/scratch60/turk-browne/kp578/rtcloud_rt/1611312114.0182986/001_000003_000147_aligned.nii /gpfs/milgram/scratch60/turk-browne/kp578/rtcloud_rt/1611312114.0182986/001_000003_000148_aligned.nii /gpfs/milgram/scratch60/turk-browne/kp578/rtcloud_rt/1611312114.0182986/001_000003_000149_aligned.nii /gpfs/milgram/scratch60/turk-browne/kp578/rtcloud_rt/1611312114.0182986/001_000003_000150_aligned.nii\n"
     ]
    },
    {
     "name": "stderr",
     "output_type": "stream",
     "text": [
      "/gpfs/milgram/project/turk-browne/users/kp578/CONDA/rtcloud/lib/python3.6/site-packages/ipykernel_launcher.py:75: DeprecationWarning: get_data() is deprecated in favor of get_fdata(), which has a more predictable return type. To obtain get_data() behavior going forward, use numpy.asanyarray(img.dataobj).\n",
      "\n",
      "* deprecated from version: 3.0\n",
      "* Will raise <class 'nibabel.deprecator.ExpiredDeprecationError'> as of version: 5.0\n",
      "/gpfs/milgram/project/turk-browne/users/kp578/CONDA/rtcloud/lib/python3.6/site-packages/ipykernel_launcher.py:75: DeprecationWarning: get_data() is deprecated in favor of get_fdata(), which has a more predictable return type. To obtain get_data() behavior going forward, use numpy.asanyarray(img.dataobj).\n",
      "\n",
      "* deprecated from version: 3.0\n",
      "* Will raise <class 'nibabel.deprecator.ExpiredDeprecationError'> as of version: 5.0\n"
     ]
    }
   ],
   "source": [
    "import pandas as pd\n",
    "'''\n",
    "purpose: \n",
    "    prepare the data for 2 recognition runs     (to later(not in this function) get the morphing target function)\n",
    "    find the functional template image for current session\n",
    "steps:\n",
    "    convert all dicom files into nii files in the temp dir. \n",
    "    find the middle volume of the run1 as the template volume, convert this to the previous template volume space and save the converted file as today's functional template (templateFunctionalVolume)\n",
    "    align every other functional volume with templateFunctionalVolume (3dvolreg)\n",
    "'''\n",
    "from shutil import copyfile\n",
    "from rtCommon.imageHandling import convertDicomFileToNifti\n",
    "# convert all dicom files into nii files in the temp dir. \n",
    "tmp_dir=f\"{cfg.tmp_folder}{time.time()}/\" ; mkdir(tmp_dir)\n",
    "dicomFiles=glob(f\"{cfg.dicom_dir}/*.dcm\") ; dicomFiles.sort()\n",
    "for curr_dicom in dicomFiles:\n",
    "    # dicomImg = readDicomFromFile(curr_dicom) # read dicom file\n",
    "    dicomFilename=f\"{tmp_dir}{curr_dicom.split('/')[-1]}\"\n",
    "    copyfile(curr_dicom,dicomFilename)\n",
    "    niftiFilename = dicomFilename[:-4]+'.nii'\n",
    "    convertDicomFileToNifti(dicomFilename, niftiFilename)\n",
    "    # convertDicomImgToNifti(dicomImg, dicomFilename=f\"{tmp_dir}{curr_dicom.split('/')[-1]}\") #convert dicom to nii    \n",
    "    # os.remove(f\"{tmp_dir}/{curr_dicom.split('/')[-1]}\") # remove temp dcm file\n",
    "\n",
    "# find the middle volume of the run1 as the template volume\n",
    "# here you are assuming that the first run is a good run\n",
    "run_asTemplate=str(run_asTemplate).zfill(6)\n",
    "tmp=glob(f\"{tmp_dir}001_{run_asTemplate}*.nii\") ; tmp.sort()\n",
    "# call(f\"cp {tmp[int(len(tmp)/2)]} {cfg.recognition_dir}t.nii\", shell=True)\n",
    "\n",
    "# convert cfg.templateFunctionalVolume to the previous template volume space \n",
    "call(f\"flirt -ref {cfg.templateFunctionalVolume} \\\n",
    "    -in {tmp[int(len(tmp)/2)]} \\\n",
    "    -out {cfg.templateFunctionalVolume_converted}\",shell=True) \n",
    "\n",
    "# align every other functional volume with templateFunctionalVolume (3dvolreg)\n",
    "allTRs=glob(f\"{tmp_dir}001_*.nii\") ; allTRs.sort()\n",
    "\n",
    "# select a list of run IDs based on the runRecording.csv, actualRuns would be [1,2] is the 1st and the 3rd runs are recognition runs.\n",
    "runRecording = pd.read_csv(f\"{cfg.recognition_dir}../runRecording.csv\")\n",
    "actualRuns = list(runRecording['run'].iloc[list(np.where(1==1*(runRecording['type']=='recognition'))[0])])\n",
    "for curr_run in actualRuns:\n",
    "    outputFileNames=[]\n",
    "    runTRs=glob(f\"{tmp_dir}001_{str(curr_run).zfill(6)}_*.nii\") ; runTRs.sort()\n",
    "    for curr_TR in runTRs:\n",
    "        command = f\"3dvolreg \\\n",
    "            -base {cfg.templateFunctionalVolume_converted} \\\n",
    "            -prefix  {curr_TR[0:-4]}_aligned.nii \\\n",
    "            {curr_TR}\"\n",
    "        call(command,shell=True)\n",
    "        outputFileNames.append(f\"{curr_TR[0:-4]}_aligned.nii\")\n",
    "    files=''\n",
    "    for f in outputFileNames:\n",
    "        files=files+' '+f\n",
    "    command=f\"fslmerge -t {cfg.recognition_dir}run{curr_run}.nii {files}\"\n",
    "    print('running',command)\n",
    "    call(command, shell=True)\n",
    "\n",
    "# remove the tmp folder\n",
    "shutil.rmtree(tmp_dir)\n",
    "\n",
    "'''\n",
    "for each run, \n",
    "    load behavior data \n",
    "    push the behavior data back for 2 TRs\n",
    "    save the brain TRs with images\n",
    "    save the behavior data\n",
    "'''\n",
    "\n",
    "for curr_run_behav,curr_run in enumerate(actualRuns):\n",
    "    # load behavior data\n",
    "    behav_data = behaviorDataLoading(cfg,curr_run_behav+1)\n",
    "\n",
    "    # brain data is first aligned by pushed back 2TR(4s)\n",
    "    brain_data = nib.load(f\"{cfg.recognition_dir}run{curr_run}.nii.gz\").get_data() ; brain_data=np.transpose(brain_data,(3,0,1,2))\n",
    "    Brain_TR=np.arange(brain_data.shape[0])\n",
    "    Brain_TR = Brain_TR+2\n",
    "\n",
    "    # select volumes of brain_data by counting which TR is left in behav_data\n",
    "    Brain_TR=Brain_TR[list(behav_data['TR'])] # original TR begin with 0\n",
    "    if Brain_TR[-1]>=brain_data.shape[0]: # when the brain data is not as long as the behavior data, delete the last row\n",
    "        Brain_TR = Brain_TR[:-1]\n",
    "        behav_data = behav_data.drop([behav_data.iloc[-1].TR])\n",
    "    brain_data=brain_data[Brain_TR]\n",
    "    np.save(f\"{cfg.recognition_dir}brain_run{curr_run}.npy\", brain_data)\n",
    "    # save the behavior data\n",
    "    behav_data.to_csv(f\"{cfg.recognition_dir}behav_run{curr_run}.csv\")\n"
   ]
  },
  {
   "cell_type": "code",
   "execution_count": 31,
   "metadata": {},
   "outputs": [
    {
     "name": "stdout",
     "output_type": "stream",
     "text": [
      "001_000001_000001.dcm  test\r\n"
     ]
    }
   ],
   "source": [
    "!ls /gpfs/milgram/scratch60/turk-browne/kp578/rtcloud_rt/1611310141.8247683/\n"
   ]
  },
  {
   "cell_type": "code",
   "execution_count": 11,
   "metadata": {},
   "outputs": [
    {
     "data": {
      "text/plain": [
       "'/gpfs/milgram/scratch60/turk-browne/kp578/rtcloud_rt/1611303802.8345847/001_000001_000001.dcm'"
      ]
     },
     "execution_count": 11,
     "metadata": {},
     "output_type": "execute_result"
    }
   ],
   "source": [
    "f\"{tmp_dir}{curr_dicom.split('/')[-1]}\""
   ]
  },
  {
   "cell_type": "code",
   "execution_count": 16,
   "metadata": {},
   "outputs": [
    {
     "name": "stdout",
     "output_type": "stream",
     "text": [
      "(94, 2482)\n",
      "(94, 8)\n"
     ]
    },
    {
     "name": "stderr",
     "output_type": "stream",
     "text": [
      "/gpfs/milgram/project/turk-browne/users/kp578/CONDA/rtcloud/lib/python3.6/site-packages/ipykernel_launcher.py:8: DeprecationWarning: get_data() is deprecated in favor of get_fdata(), which has a more predictable return type. To obtain get_data() behavior going forward, use numpy.asanyarray(img.dataobj).\n",
      "\n",
      "* deprecated from version: 3.0\n",
      "* Will raise <class 'nibabel.deprecator.ExpiredDeprecationError'> as of version: 5.0\n",
      "  \n"
     ]
    }
   ],
   "source": [
    "runRecording = pd.read_csv(f\"{cfg.recognition_dir}../runRecording.csv\")\n",
    "actualRuns = list(runRecording['run'].iloc[list(np.where(1==1*(runRecording['type']=='recognition'))[0])]) # can be [1,2,3,4,5,6,7,8] or [1,2,4,5]\n",
    "\n",
    "objects = ['bed', 'bench', 'chair', 'table']\n",
    "\n",
    "for ii,run in enumerate(actualRuns): # load behavior and brain data for current session\n",
    "    t = np.load(f\"{cfg.recognition_dir}brain_run{run}.npy\")\n",
    "    mask = nib.load(f\"{cfg.chosenMask}\").get_data()\n",
    "    t = t[:,mask==1]\n",
    "    brain_data=t if ii==0 else np.concatenate((brain_data,t), axis=0)\n",
    "\n",
    "    t = pd.read_csv(f\"{cfg.recognition_dir}behav_run{run}.csv\")\n",
    "    behav_data=t if ii==0 else pd.concat([behav_data,t])\n",
    "\n",
    "print(brain_data.shape)\n",
    "print(behav_data.shape)"
   ]
  },
  {
   "cell_type": "code",
   "execution_count": 13,
   "metadata": {},
   "outputs": [
    {
     "data": {
      "text/plain": [
       "(94, 2482)"
      ]
     },
     "execution_count": 13,
     "metadata": {},
     "output_type": "execute_result"
    }
   ],
   "source": []
  },
  {
   "cell_type": "code",
   "execution_count": 17,
   "metadata": {},
   "outputs": [
    {
     "data": {
      "text/html": [
       "<div>\n",
       "<style scoped>\n",
       "    .dataframe tbody tr th:only-of-type {\n",
       "        vertical-align: middle;\n",
       "    }\n",
       "\n",
       "    .dataframe tbody tr th {\n",
       "        vertical-align: top;\n",
       "    }\n",
       "\n",
       "    .dataframe thead th {\n",
       "        text-align: right;\n",
       "    }\n",
       "</style>\n",
       "<table border=\"1\" class=\"dataframe\">\n",
       "  <thead>\n",
       "    <tr style=\"text-align: right;\">\n",
       "      <th></th>\n",
       "      <th>Unnamed: 0</th>\n",
       "      <th>TR</th>\n",
       "      <th>image_on</th>\n",
       "      <th>Resp</th>\n",
       "      <th>Item</th>\n",
       "      <th>isCorrect</th>\n",
       "      <th>subj</th>\n",
       "      <th>run_num</th>\n",
       "    </tr>\n",
       "  </thead>\n",
       "  <tbody>\n",
       "    <tr>\n",
       "      <th>0</th>\n",
       "      <td>3</td>\n",
       "      <td>3</td>\n",
       "      <td>5.999537</td>\n",
       "      <td>2.0</td>\n",
       "      <td>D</td>\n",
       "      <td>True</td>\n",
       "      <td>sub001</td>\n",
       "      <td>1</td>\n",
       "    </tr>\n",
       "    <tr>\n",
       "      <th>1</th>\n",
       "      <td>5</td>\n",
       "      <td>5</td>\n",
       "      <td>9.999614</td>\n",
       "      <td>2.0</td>\n",
       "      <td>B</td>\n",
       "      <td>True</td>\n",
       "      <td>sub001</td>\n",
       "      <td>1</td>\n",
       "    </tr>\n",
       "    <tr>\n",
       "      <th>2</th>\n",
       "      <td>8</td>\n",
       "      <td>8</td>\n",
       "      <td>15.999709</td>\n",
       "      <td>1.0</td>\n",
       "      <td>A</td>\n",
       "      <td>True</td>\n",
       "      <td>sub001</td>\n",
       "      <td>1</td>\n",
       "    </tr>\n",
       "    <tr>\n",
       "      <th>3</th>\n",
       "      <td>12</td>\n",
       "      <td>12</td>\n",
       "      <td>23.999743</td>\n",
       "      <td>1.0</td>\n",
       "      <td>C</td>\n",
       "      <td>True</td>\n",
       "      <td>sub001</td>\n",
       "      <td>1</td>\n",
       "    </tr>\n",
       "    <tr>\n",
       "      <th>4</th>\n",
       "      <td>15</td>\n",
       "      <td>15</td>\n",
       "      <td>29.999806</td>\n",
       "      <td>2.0</td>\n",
       "      <td>D</td>\n",
       "      <td>True</td>\n",
       "      <td>sub001</td>\n",
       "      <td>1</td>\n",
       "    </tr>\n",
       "    <tr>\n",
       "      <th>...</th>\n",
       "      <td>...</td>\n",
       "      <td>...</td>\n",
       "      <td>...</td>\n",
       "      <td>...</td>\n",
       "      <td>...</td>\n",
       "      <td>...</td>\n",
       "      <td>...</td>\n",
       "      <td>...</td>\n",
       "    </tr>\n",
       "    <tr>\n",
       "      <th>42</th>\n",
       "      <td>129</td>\n",
       "      <td>129</td>\n",
       "      <td>258.010215</td>\n",
       "      <td>2.0</td>\n",
       "      <td>D</td>\n",
       "      <td>True</td>\n",
       "      <td>sub001</td>\n",
       "      <td>2</td>\n",
       "    </tr>\n",
       "    <tr>\n",
       "      <th>43</th>\n",
       "      <td>132</td>\n",
       "      <td>132</td>\n",
       "      <td>264.010246</td>\n",
       "      <td>2.0</td>\n",
       "      <td>B</td>\n",
       "      <td>True</td>\n",
       "      <td>sub001</td>\n",
       "      <td>2</td>\n",
       "    </tr>\n",
       "    <tr>\n",
       "      <th>44</th>\n",
       "      <td>136</td>\n",
       "      <td>136</td>\n",
       "      <td>272.010324</td>\n",
       "      <td>2.0</td>\n",
       "      <td>D</td>\n",
       "      <td>True</td>\n",
       "      <td>sub001</td>\n",
       "      <td>2</td>\n",
       "    </tr>\n",
       "    <tr>\n",
       "      <th>45</th>\n",
       "      <td>139</td>\n",
       "      <td>139</td>\n",
       "      <td>278.010414</td>\n",
       "      <td>1.0</td>\n",
       "      <td>A</td>\n",
       "      <td>True</td>\n",
       "      <td>sub001</td>\n",
       "      <td>2</td>\n",
       "    </tr>\n",
       "    <tr>\n",
       "      <th>46</th>\n",
       "      <td>143</td>\n",
       "      <td>143</td>\n",
       "      <td>286.010420</td>\n",
       "      <td>1.0</td>\n",
       "      <td>C</td>\n",
       "      <td>True</td>\n",
       "      <td>sub001</td>\n",
       "      <td>2</td>\n",
       "    </tr>\n",
       "  </tbody>\n",
       "</table>\n",
       "<p>94 rows × 8 columns</p>\n",
       "</div>"
      ],
      "text/plain": [
       "    Unnamed: 0   TR    image_on  Resp Item  isCorrect    subj  run_num\n",
       "0            3    3    5.999537   2.0    D       True  sub001        1\n",
       "1            5    5    9.999614   2.0    B       True  sub001        1\n",
       "2            8    8   15.999709   1.0    A       True  sub001        1\n",
       "3           12   12   23.999743   1.0    C       True  sub001        1\n",
       "4           15   15   29.999806   2.0    D       True  sub001        1\n",
       "..         ...  ...         ...   ...  ...        ...     ...      ...\n",
       "42         129  129  258.010215   2.0    D       True  sub001        2\n",
       "43         132  132  264.010246   2.0    B       True  sub001        2\n",
       "44         136  136  272.010324   2.0    D       True  sub001        2\n",
       "45         139  139  278.010414   1.0    A       True  sub001        2\n",
       "46         143  143  286.010420   1.0    C       True  sub001        2\n",
       "\n",
       "[94 rows x 8 columns]"
      ]
     },
     "execution_count": 17,
     "metadata": {},
     "output_type": "execute_result"
    }
   ],
   "source": [
    "behav_data"
   ]
  },
  {
   "cell_type": "code",
   "execution_count": 18,
   "metadata": {},
   "outputs": [
    {
     "name": "stdout",
     "output_type": "stream",
     "text": [
      "evidence_floor=18.574122173548336\n",
      "evidence_ceil=-10.104527931140426\n"
     ]
    },
    {
     "name": "stderr",
     "output_type": "stream",
     "text": [
      "/gpfs/milgram/project/turk-browne/users/kp578/CONDA/rtcloud/lib/python3.6/site-packages/ipykernel_launcher.py:39: DeprecationWarning: get_data() is deprecated in favor of get_fdata(), which has a more predictable return type. To obtain get_data() behavior going forward, use numpy.asanyarray(img.dataobj).\n",
      "\n",
      "* deprecated from version: 3.0\n",
      "* Will raise <class 'nibabel.deprecator.ExpiredDeprecationError'> as of version: 5.0\n"
     ]
    }
   ],
   "source": [
    "'''\n",
    "purpose:\n",
    "    get the morphing target function\n",
    "steps:\n",
    "    load train clf\n",
    "    load brain data and behavior data\n",
    "    get the morphing target function\n",
    "        evidence_floor is C evidence for CD classifier(can also be D evidence for CD classifier)\n",
    "        evidence_ceil  is A evidence in AC and AD classifier\n",
    "'''\n",
    "\n",
    "import os\n",
    "import numpy as np\n",
    "import pandas as pd\n",
    "import matplotlib.pyplot as plt\n",
    "import sklearn\n",
    "import joblib\n",
    "import nibabel as nib\n",
    "import itertools\n",
    "from sklearn.linear_model import LogisticRegression\n",
    "from tqdm import tqdm\n",
    "\n",
    "\n",
    "if 'milgram' in os.getcwd():\n",
    "    main_dir='/gpfs/milgram/project/turk-browne/projects/rtSynth_rt/'\n",
    "else:\n",
    "    main_dir='/Volumes/GoogleDrive/My Drive/Turk_Browne_Lab/rtcloud_kp/'\n",
    "\n",
    "working_dir=main_dir\n",
    "os.chdir(working_dir)\n",
    "\n",
    "runRecording = pd.read_csv(f\"{cfg.recognition_dir}../runRecording.csv\")\n",
    "actualRuns = list(runRecording['run'].iloc[list(np.where(1==1*(runRecording['type']=='recognition'))[0])]) # can be [1,2,3,4,5,6,7,8] or [1,2,4,5]\n",
    "\n",
    "objects = ['bed', 'bench', 'chair', 'table']\n",
    "\n",
    "for ii,run in enumerate(actualRuns): # load behavior and brain data for current session\n",
    "    t = np.load(f\"{cfg.recognition_dir}brain_run{run}.npy\")\n",
    "    mask = nib.load(f\"{cfg.chosenMask}\").get_data()\n",
    "    t = t[:,mask==1]\n",
    "    brain_data=t if ii==0 else np.concatenate((brain_data,t), axis=0)\n",
    "\n",
    "    t = pd.read_csv(f\"{cfg.recognition_dir}behav_run{run}.csv\")\n",
    "    behav_data=t if ii==0 else pd.concat([behav_data,t])\n",
    "\n",
    "FEAT=brain_data.reshape(brain_data.shape[0],-1)\n",
    "META=behav_data\n",
    "\n",
    "# convert item colume to label colume\n",
    "imcodeDict={\n",
    "'A': 'bed',\n",
    "'B': 'chair',\n",
    "'C': 'table',\n",
    "'D': 'bench'}\n",
    "label=[]\n",
    "for curr_trial in range(META.shape[0]):\n",
    "    label.append(imcodeDict[META['Item'].iloc[curr_trial]])\n",
    "META['label']=label # merge the label column with the data dataframe\n",
    "\n",
    "# evidence_floor is C evidence for AC_CD BC_CD CD_CD classifier(can also be D evidence for CD classifier)\n",
    "\n",
    "def classifierEvidence(clf,X,Y): # X shape is [trials,voxelNumber], Y is ['bed', 'bed'] for example # return a 1-d array of probability\n",
    "    # This function get the data X and evidence object I want to know Y, and output the trained model evidence.\n",
    "    targetID=[np.where((clf.classes_==i)==True)[0][0] for i in Y]\n",
    "    Evidence=(np.sum(X*clf.coef_,axis=1)+clf.intercept_) if targetID[0]==1 else (1-(np.sum(X*clf.coef_,axis=1)+clf.intercept_))\n",
    "    return np.asarray(Evidence)\n",
    "\n",
    "A_ID = (META['label']=='bed')\n",
    "X = FEAT[A_ID]\n",
    "\n",
    "Y = ['table'] * X.shape[0]\n",
    "CD_clf=joblib.load(cfg.usingModel_dir +'bedbench_benchtable.joblib') # These 4 clf are the same: bedbench_benchtable.joblib bedtable_tablebench.joblib benchchair_benchtable.joblib chairtable_tablebench.joblib\n",
    "CD_C_evidence = classifierEvidence(CD_clf,X,Y)\n",
    "evidence_floor = np.mean(CD_C_evidence)\n",
    "print(f\"evidence_floor={evidence_floor}\")\n",
    "\n",
    "# evidence_ceil  is A evidence in AC and AD classifier\n",
    "Y = ['bed'] * X.shape[0]\n",
    "AC_clf=joblib.load(cfg.usingModel_dir +'bedbench_bedtable.joblib') # These 4 clf are the same:   bedbench_bedtable.joblib bedchair_bedtable.joblib benchtable_tablebed.joblib chairtable_tablebed.joblib\n",
    "AC_A_evidence = classifierEvidence(AC_clf,X,Y)\n",
    "evidence_ceil1 = AC_A_evidence\n",
    "\n",
    "Y = ['bed'] * X.shape[0]\n",
    "AD_clf=joblib.load(cfg.usingModel_dir +'bedchair_bedbench.joblib') # These 4 clf are the same:   bedchair_bedbench.joblib bedtable_bedbench.joblib benchchair_benchbed.joblib benchtable_benchbed.joblib\n",
    "AD_A_evidence = classifierEvidence(AD_clf,X,Y)\n",
    "evidence_ceil2 = AD_A_evidence\n",
    "\n",
    "evidence_ceil = np.mean((evidence_ceil1+evidence_ceil2)/2)\n",
    "print(f\"evidence_ceil={evidence_ceil}\")\n"
   ]
  },
  {
   "cell_type": "code",
   "execution_count": 22,
   "metadata": {},
   "outputs": [],
   "source": [
    "tmp_dir=f\"{cfg.tmp_folder}{time.time()}/\" ; mkdir(tmp_dir)"
   ]
  },
  {
   "cell_type": "code",
   "execution_count": 23,
   "metadata": {},
   "outputs": [],
   "source": [
    "\n",
    "from rtCommon.imageHandling import readDicomFromBuffer\n",
    "dicomFilename=\"/gpfs/milgram/project/realtime/DICOM/20210114.rtSynth_sub001.rtSynth_sub001//001_000001_000001.dcm\"\n",
    "\n",
    "# dicomFilename=f\"{tmp_dir}{curr_dicom.split('/')[-1]}\"\n",
    "copyfile(dicomFilename,tmp_dir+\"001_000001_000001.dcm\")\n",
    "dicomFilename=tmp_dir+\"001_000001_000001.dcm\"\n",
    "\n",
    "niftiFilename = dicomFilename[:-4]+'.nii'\n",
    "convertDicomFileToNifti(dicomFilename, niftiFilename)\n",
    "# dicomImg = readDicomFromBuffer(dcm)\n",
    "# # check that pixel array is complete\n",
    "# dicomImg.convert_pixel_data()"
   ]
  },
  {
   "cell_type": "code",
   "execution_count": 26,
   "metadata": {
    "scrolled": true
   },
   "outputs": [
    {
     "name": "stdout",
     "output_type": "stream",
     "text": [
      "<class 'nibabel.nifti1.Nifti1Image'>\n",
      "data shape (64, 64, 36)\n",
      "affine: \n",
      "[[-2.99905014e+00  9.94529948e-03  9.35408548e-02  9.45031433e+01]\n",
      " [ 4.78221197e-03  2.99290800e+00 -2.57629186e-01 -8.19153595e+01]\n",
      " [ 7.53390267e-02  2.05918789e-01  3.73997045e+00 -7.23668442e+01]\n",
      " [ 0.00000000e+00  0.00000000e+00  0.00000000e+00  1.00000000e+00]]\n",
      "metadata:\n",
      "<class 'nibabel.nifti1.Nifti1Header'> object, endian='<'\n",
      "sizeof_hdr      : 348\n",
      "data_type       : b''\n",
      "db_name         : b''\n",
      "extents         : 0\n",
      "session_error   : 0\n",
      "regular         : b'r'\n",
      "dim_info        : 57\n",
      "dim             : [ 3 64 64 36  1  1  1  1]\n",
      "intent_p1       : 0.0\n",
      "intent_p2       : 0.0\n",
      "intent_p3       : 0.0\n",
      "intent_code     : none\n",
      "datatype        : int16\n",
      "bitpix          : 16\n",
      "slice_start     : 0\n",
      "pixdim          : [-1.    3.    3.    3.75  2.    0.    0.    0.  ]\n",
      "vox_offset      : 0.0\n",
      "scl_slope       : nan\n",
      "scl_inter       : nan\n",
      "slice_end       : 0\n",
      "slice_code      : alternating increasing 2\n",
      "xyzt_units      : 10\n",
      "cal_max         : 0.0\n",
      "cal_min         : 0.0\n",
      "slice_duration  : 0.0\n",
      "toffset         : 0.0\n",
      "glmax           : 0\n",
      "glmin           : 0\n",
      "descrip         : b'TE=30;Time=132232.690;phase=1'\n",
      "aux_file        : b''\n",
      "qform_code      : scanner\n",
      "sform_code      : scanner\n",
      "quatern_b       : -0.001228115\n",
      "quatern_c       : -0.9993304\n",
      "quatern_d       : -0.03435818\n",
      "qoffset_x       : 94.50314\n",
      "qoffset_y       : -81.91536\n",
      "qoffset_z       : -72.366844\n",
      "srow_x          : [-2.9990501e+00  9.9452995e-03  9.3540855e-02  9.4503143e+01]\n",
      "srow_y          : [ 4.782212e-03  2.992908e+00 -2.576292e-01 -8.191536e+01]\n",
      "srow_z          : [  0.07533903   0.20591879   3.7399704  -72.366844  ]\n",
      "intent_name     : b''\n",
      "magic           : b'n+1'\n"
     ]
    }
   ],
   "source": [
    "a=nib.load(niftiFilename)\n",
    "print(a)"
   ]
  },
  {
   "cell_type": "code",
   "execution_count": 28,
   "metadata": {},
   "outputs": [
    {
     "data": {
      "text/plain": [
       "'/gpfs/milgram/scratch60/turk-browne/kp578/rtcloud_rt/1611337888.3280215/'"
      ]
     },
     "execution_count": 28,
     "metadata": {},
     "output_type": "execute_result"
    }
   ],
   "source": [
    "nib.save(a, tmp_dir+\"test.nii\")  \n",
    "tmp_dir"
   ]
  },
  {
   "cell_type": "code",
   "execution_count": 30,
   "metadata": {},
   "outputs": [
    {
     "name": "stdout",
     "output_type": "stream",
     "text": [
      "001_000001_000001.dcm  001_000001_000001.nii  test.nii\r\n"
     ]
    }
   ],
   "source": [
    "!ls /gpfs/milgram/scratch60/turk-browne/kp578/rtcloud_rt/1611337888.3280215/"
   ]
  },
  {
   "cell_type": "code",
   "execution_count": 32,
   "metadata": {},
   "outputs": [
    {
     "data": {
      "text/plain": [
       "'001_000001_000009'"
      ]
     },
     "execution_count": 32,
     "metadata": {},
     "output_type": "execute_result"
    }
   ],
   "source": [
    "\"/gpfs/milgram/project/realtime/DICOM/20210114.rtSynth_sub001.rtSynth_sub001//001_000001_000009.dcm\".split(\"/\")[-1].split(\".\")[0]"
   ]
  },
  {
   "cell_type": "code",
   "execution_count": 35,
   "metadata": {},
   "outputs": [
    {
     "name": "stderr",
     "output_type": "stream",
     "text": [
      "/gpfs/milgram/project/turk-browne/users/kp578/CONDA/rtcloud/lib/python3.6/site-packages/ipykernel_launcher.py:1: DeprecationWarning: get_data() is deprecated in favor of get_fdata(), which has a more predictable return type. To obtain get_data() behavior going forward, use numpy.asanyarray(img.dataobj).\n",
      "\n",
      "* deprecated from version: 3.0\n",
      "* Will raise <class 'nibabel.deprecator.ExpiredDeprecationError'> as of version: 5.0\n",
      "  \"\"\"Entry point for launching an IPython kernel.\n"
     ]
    }
   ],
   "source": [
    "mask=nib.load(cfg.chosenMask).get_data()\n"
   ]
  },
  {
   "cell_type": "code",
   "execution_count": null,
   "metadata": {},
   "outputs": [],
   "source": []
  }
 ],
 "metadata": {
  "kernelspec": {
   "display_name": "Python 3",
   "language": "python",
   "name": "python3"
  },
  "language_info": {
   "codemirror_mode": {
    "name": "ipython",
    "version": 3
   },
   "file_extension": ".py",
   "mimetype": "text/x-python",
   "name": "python",
   "nbconvert_exporter": "python",
   "pygments_lexer": "ipython3",
   "version": "3.6.12"
  },
  "toc": {
   "base_numbering": 1,
   "nav_menu": {},
   "number_sections": true,
   "sideBar": true,
   "skip_h1_title": false,
   "title_cell": "Table of Contents",
   "title_sidebar": "Contents",
   "toc_cell": false,
   "toc_position": {},
   "toc_section_display": true,
   "toc_window_display": false
  },
  "varInspector": {
   "cols": {
    "lenName": 16,
    "lenType": 16,
    "lenVar": 40
   },
   "kernels_config": {
    "python": {
     "delete_cmd_postfix": "",
     "delete_cmd_prefix": "del ",
     "library": "var_list.py",
     "varRefreshCmd": "print(var_dic_list())"
    },
    "r": {
     "delete_cmd_postfix": ") ",
     "delete_cmd_prefix": "rm(",
     "library": "var_list.r",
     "varRefreshCmd": "cat(var_dic_list()) "
    }
   },
   "types_to_exclude": [
    "module",
    "function",
    "builtin_function_or_method",
    "instance",
    "_Feature"
   ],
   "window_display": false
  }
 },
 "nbformat": 4,
 "nbformat_minor": 4
}
