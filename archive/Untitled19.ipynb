{
 "cells": [
  {
   "cell_type": "code",
   "execution_count": 35,
   "metadata": {},
   "outputs": [
    {
     "name": "stdout",
     "output_type": "stream",
     "text": [
      "toml filename=/gpfs/milgram/project/turk-browne/projects/rtSynth_rt/projects/rtSynth_rt/conf/sub001.ses1.toml\n"
     ]
    },
    {
     "data": {
      "text/plain": [
       "[<matplotlib.lines.Line2D at 0x2b36d6e967f0>]"
      ]
     },
     "execution_count": 35,
     "metadata": {},
     "output_type": "execute_result"
    },
    {
     "data": {
      "image/png": "[encoded data removed]",
      "text/plain": [
       "<Figure size 432x288 with 1 Axes>"
      ]
     },
     "metadata": {
      "needs_background": "light"
     },
     "output_type": "display_data"
    }
   ],
   "source": [
    "N=78\n",
    "\n",
    "import os\n",
    "import sys\n",
    "sys.path.append('/gpfs/milgram/project/turk-browne/projects/rtSynth_rt/')\n",
    "import argparse\n",
    "import numpy as np\n",
    "import nibabel as nib\n",
    "import scipy.io as sio\n",
    "import subprocess\n",
    "from scipy.stats import zscore\n",
    "from nibabel.nicom import dicomreaders\n",
    "import pydicom as dicom  # type: ignore\n",
    "import time\n",
    "from glob import glob\n",
    "import shutil\n",
    "from nilearn.image import new_img_like\n",
    "import joblib\n",
    "import rtCommon.utils as utils\n",
    "from rtCommon.utils import loadConfigFile\n",
    "import pickle5 as pickle\n",
    "def save_obj(obj, name):\n",
    "    with open(name + '.pkl', 'wb') as f:\n",
    "        pickle.dump(obj, f, pickle.HIGHEST_PROTOCOL)\n",
    "\n",
    "def load_obj(name):\n",
    "    with open(name + '.pkl', 'rb') as f:\n",
    "        return pickle.load(f)\n",
    "# from rtCommon.fileClient import FileInterface\n",
    "# import rtCommon.projectUtils as projUtils\n",
    "# from rtCommon.imageHandling import readRetryDicomFromFileInterface, getDicomFileName, convertDicomImgToNifti\n",
    "\n",
    "\n",
    "argParser = argparse.ArgumentParser()\n",
    "argParser.add_argument('--config', '-c', default='sub001.ses1.toml', type=str, help='experiment file (.json or .toml)')\n",
    "argParser.add_argument('--skipPre', '-s', default=0, type=int, help='skip preprocess or not')\n",
    "argParser.add_argument('--skipGreedy', '-g', default=0, type=int, help='skip greedy or not')\n",
    "args = argParser.parse_args(\"\")\n",
    "from rtCommon.cfg_loading import mkdir,cfg_loading\n",
    "# config=\"sub001.ses2.toml\"\n",
    "cfg = cfg_loading(args.config)\n",
    "\n",
    "\n",
    "# when every mask has run, find the best mask and save as the chosenMask\n",
    "roiloc=\"schaefer2018\"\n",
    "dataSource=\"realtime\"\n",
    "subjects=[cfg.subjectName]\n",
    "N=N\n",
    "GreedyBestAcc=np.zeros((len(subjects),N+1))\n",
    "GreedyBestAcc[GreedyBestAcc==0]=None\n",
    "for ii,subject in enumerate(subjects):\n",
    "#     try:\n",
    "#         GreedyBestAcc[ii,40]=np.load(\"./{}/{}/output/top{}.npy\".format(roiloc, subject, N))\n",
    "#     except:\n",
    "#         pass\n",
    "    for len_topN_1 in range(N-1,0,-1):\n",
    "        try:\n",
    "            # print(f\"./tmp__folder/{subject}_{N}_{roiloc}_{dataSource}_{len_topN_1}\")\n",
    "            di = load_obj(f\"{cfg.projectDir}tmp__folder/{subject}_{N}_{roiloc}_{dataSource}_{len_topN_1}\")\n",
    "            GreedyBestAcc[ii,len_topN_1-1] = di['bestAcc']\n",
    "        except:\n",
    "            pass\n",
    "GreedyBestAcc=GreedyBestAcc.T\n",
    "import matplotlib.pyplot as plt\n",
    "plt.plot(GreedyBestAcc)"
   ]
  },
  {
   "cell_type": "code",
   "execution_count": 36,
   "metadata": {},
   "outputs": [
    {
     "data": {
      "text/plain": [
       "0.5"
      ]
     },
     "execution_count": 36,
     "metadata": {},
     "output_type": "execute_result"
    }
   ],
   "source": [
    "import pandas as pd\n",
    "ThresholdLog = pd.DataFrame(columns=['sub', 'session', 'run', 'threshold', 'successful trials', 'perfect trials'])\n",
    "\n",
    "# ThresholdLog = ThresholdLog.append({\n",
    "#     'sub':sub, \n",
    "#     'session':session, \n",
    "#     'run':run, \n",
    "#     'threshold':threshold, \n",
    "#     'successful trials':successful_trials, \n",
    "#     'perfect trials':perfect_trials},\n",
    "#     ignore_index=True)\n",
    "\n",
    "\n",
    "ThresholdLog = ThresholdLog.append({\n",
    "    'sub':'sub001', \n",
    "    'session':1, \n",
    "    'run':1, \n",
    "    'threshold':0.6},\n",
    "    ignore_index=True)\n",
    "ThresholdLog = ThresholdLog.append({\n",
    "    'sub':'sub001', \n",
    "    'session':1, \n",
    "    'run':1, \n",
    "    'threshold':0.5},\n",
    "    ignore_index=True)\n",
    "ThresholdLog['threshold'].iloc[-1]"
   ]
  },
  {
   "cell_type": "code",
   "execution_count": 38,
   "metadata": {},
   "outputs": [],
   "source": [
    "ThresholdLog.to_csv(\"test\")"
   ]
  },
  {
   "cell_type": "code",
   "execution_count": 40,
   "metadata": {},
   "outputs": [
    {
     "data": {
      "text/plain": [
       "0.5"
      ]
     },
     "execution_count": 40,
     "metadata": {},
     "output_type": "execute_result"
    }
   ],
   "source": [
    "a=pd.read_csv(\"test\")\n",
    "a['threshold'].iloc[-1]"
   ]
  },
  {
   "cell_type": "code",
   "execution_count": 54,
   "metadata": {},
   "outputs": [
    {
     "data": {
      "text/html": [
       "<div>\n",
       "<style scoped>\n",
       "    .dataframe tbody tr th:only-of-type {\n",
       "        vertical-align: middle;\n",
       "    }\n",
       "\n",
       "    .dataframe tbody tr th {\n",
       "        vertical-align: top;\n",
       "    }\n",
       "\n",
       "    .dataframe thead th {\n",
       "        text-align: right;\n",
       "    }\n",
       "</style>\n",
       "<table border=\"1\" class=\"dataframe\">\n",
       "  <thead>\n",
       "    <tr style=\"text-align: right;\">\n",
       "      <th></th>\n",
       "      <th>sub</th>\n",
       "      <th>session</th>\n",
       "      <th>run</th>\n",
       "      <th>threshold</th>\n",
       "      <th>successful trials</th>\n",
       "      <th>perfect trials</th>\n",
       "      <th>(successful trials, 0)</th>\n",
       "      <th>(sub, 2)</th>\n",
       "      <th>(sub, 3)</th>\n",
       "    </tr>\n",
       "  </thead>\n",
       "  <tbody>\n",
       "    <tr>\n",
       "      <th>0</th>\n",
       "      <td>sub001</td>\n",
       "      <td>1</td>\n",
       "      <td>1</td>\n",
       "      <td>0.6</td>\n",
       "      <td>1.0</td>\n",
       "      <td>NaN</td>\n",
       "      <td>1.0</td>\n",
       "      <td>sub001</td>\n",
       "      <td>sub001</td>\n",
       "    </tr>\n",
       "    <tr>\n",
       "      <th>1</th>\n",
       "      <td>sub001</td>\n",
       "      <td>1</td>\n",
       "      <td>1</td>\n",
       "      <td>0.5</td>\n",
       "      <td>NaN</td>\n",
       "      <td>NaN</td>\n",
       "      <td>1.0</td>\n",
       "      <td>sub001</td>\n",
       "      <td>sub001</td>\n",
       "    </tr>\n",
       "    <tr>\n",
       "      <th>2</th>\n",
       "      <td>sub001</td>\n",
       "      <td>1</td>\n",
       "      <td>1</td>\n",
       "      <td>0.6</td>\n",
       "      <td>NaN</td>\n",
       "      <td>NaN</td>\n",
       "      <td>NaN</td>\n",
       "      <td>NaN</td>\n",
       "      <td>NaN</td>\n",
       "    </tr>\n",
       "  </tbody>\n",
       "</table>\n",
       "</div>"
      ],
      "text/plain": [
       "      sub session run  threshold  successful trials  perfect trials  \\\n",
       "0  sub001       1   1        0.6                1.0             NaN   \n",
       "1  sub001       1   1        0.5                NaN             NaN   \n",
       "2  sub001       1   1        0.6                NaN             NaN   \n",
       "\n",
       "   (successful trials, 0) (sub, 2) (sub, 3)  \n",
       "0                     1.0   sub001   sub001  \n",
       "1                     1.0   sub001   sub001  \n",
       "2                     NaN      NaN      NaN  "
      ]
     },
     "execution_count": 54,
     "metadata": {},
     "output_type": "execute_result"
    }
   ],
   "source": [
    "# ThresholdLog[\"successful trials\",-1]=1\n",
    "ThresholdLog[\"sub\"].loc[4]=\"sub001\"\n",
    "ThresholdLog = ThresholdLog.append({\n",
    "    'sub':'sub001', \n",
    "    'session':1, \n",
    "    'run':1, \n",
    "    'threshold':0.6},\n",
    "    ignore_index=True)\n",
    "\n",
    "ThresholdLog"
   ]
  },
  {
   "cell_type": "code",
   "execution_count": 56,
   "metadata": {},
   "outputs": [
    {
     "data": {
      "text/plain": [
       "[0.6, 0.5, 0.6]"
      ]
     },
     "execution_count": 56,
     "metadata": {},
     "output_type": "execute_result"
    }
   ],
   "source": [
    "list(ThresholdLog['threshold'])"
   ]
  },
  {
   "cell_type": "code",
   "execution_count": 70,
   "metadata": {},
   "outputs": [
    {
     "data": {
      "text/plain": [
       "False"
      ]
     },
     "execution_count": 70,
     "metadata": {},
     "output_type": "execute_result"
    }
   ],
   "source": [
    "a=[1,2,3]\n",
    "a[0]==2 and a[4]==0"
   ]
  },
  {
   "cell_type": "code",
   "execution_count": 71,
   "metadata": {},
   "outputs": [
    {
     "data": {
      "text/plain": [
       "1"
      ]
     },
     "execution_count": 71,
     "metadata": {},
     "output_type": "execute_result"
    }
   ],
   "source": [
    "a[-3]"
   ]
  },
  {
   "cell_type": "code",
   "execution_count": null,
   "metadata": {},
   "outputs": [],
   "source": []
  }
 ],
 "metadata": {
  "kernelspec": {
   "display_name": "Python 3",
   "language": "python",
   "name": "python3"
  },
  "language_info": {
   "codemirror_mode": {
    "name": "ipython",
    "version": 3
   },
   "file_extension": ".py",
   "mimetype": "text/x-python",
   "name": "python",
   "nbconvert_exporter": "python",
   "pygments_lexer": "ipython3",
   "version": "3.6.12"
  },
  "toc": {
   "base_numbering": 1,
   "nav_menu": {},
   "number_sections": true,
   "sideBar": true,
   "skip_h1_title": false,
   "title_cell": "Table of Contents",
   "title_sidebar": "Contents",
   "toc_cell": false,
   "toc_position": {},
   "toc_section_display": true,
   "toc_window_display": false
  },
  "varInspector": {
   "cols": {
    "lenName": 16,
    "lenType": 16,
    "lenVar": 40
   },
   "kernels_config": {
    "python": {
     "delete_cmd_postfix": "",
     "delete_cmd_prefix": "del ",
     "library": "var_list.py",
     "varRefreshCmd": "print(var_dic_list())"
    },
    "r": {
     "delete_cmd_postfix": ") ",
     "delete_cmd_prefix": "rm(",
     "library": "var_list.r",
     "varRefreshCmd": "cat(var_dic_list()) "
    }
   },
   "types_to_exclude": [
    "module",
    "function",
    "builtin_function_or_method",
    "instance",
    "_Feature"
   ],
   "window_display": false
  }
 },
 "nbformat": 4,
 "nbformat_minor": 4
}
