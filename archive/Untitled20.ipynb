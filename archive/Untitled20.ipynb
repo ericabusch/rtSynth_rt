{
 "cells": [
  {
   "cell_type": "code",
   "execution_count": 2,
   "metadata": {},
   "outputs": [
    {
     "name": "stdout",
     "output_type": "stream",
     "text": [
      "/gpfs/milgram/pi/turk-browne/projects/rtSynth_rt/expScripts/recognition/recognitionDataAnalysis/raw\r\n"
     ]
    },
    {
     "name": "stderr",
     "output_type": "stream",
     "text": [
      "IOPub data rate exceeded.\n",
      "The notebook server will temporarily stop sending output\n",
      "to the client in order to avoid crashing it.\n",
      "To change this limit, set the config variable\n",
      "`--NotebookApp.iopub_data_rate_limit`.\n",
      "\n",
      "Current values:\n",
      "NotebookApp.iopub_data_rate_limit=1000000.0 (bytes/sec)\n",
      "NotebookApp.rate_limit_window=3.0 (secs)\n",
      "\n"
     ]
    }
   ],
   "source": [
    "import os\n",
    "import numpy as np\n",
    "tmp_dir=\"/gpfs/milgram/project/turk-browne/projects/rtSynth_rt/expScripts/recognition/recognitionDataAnalysis/raw/\"\n",
    "os.chdir(tmp_dir)\n",
    "f = open(\"./run_name.txt\", \"r\") # print(f.read())\n",
    "d = f.read()\n",
    "t = d.split(\"ABCD_T1w_MPR_vNav\")[3]\n",
    "t = int(t.split(\"\\n\")[1])\n",
    "np.save(tmp_dir+\"ABCD_T1w_MPR_vNav.npy\",t)"
   ]
  },
  {
   "cell_type": "code",
   "execution_count": null,
   "metadata": {},
   "outputs": [],
   "source": [
    "import os\n",
    "import numpy as np\n",
    "tmp_dir=\"/gpfs/milgram/project/turk-browne/projects/rtSynth_rt/expScripts/recognition/recognitionDataAnalysis/raw/\"\n",
    "os.chdir(tmp_dir)\n",
    "f = open(\"./run_name.txt\", \"r\") # print(f.read())\n",
    "d = f.read()\n",
    "t = d.split(\"ABCD_T1w_MPR_vNav\")[3]\n",
    "t = int(t.split(\"\\n\")[1])\n",
    "f = open(tmp_dir+\"ABCD_T1w_MPR_vNav.txt\",\"w\")\n",
    "f.write(f\"t={t}\")\n",
    "f.close()"
   ]
  },
  {
   "cell_type": "code",
   "execution_count": 13,
   "metadata": {},
   "outputs": [
    {
     "name": "stdout",
     "output_type": "stream",
     "text": [
      "/gpfs/milgram/project/turk-browne/projects/rtSynth_rt/expScripts/recognition/recognitionDataAnalysis/raw/rtSynth_sub001/nifti/rtSynth_sub001_20210114122754_8.nii\n"
     ]
    }
   ],
   "source": [
    "path=\"/gpfs/milgram/project/turk-browne/projects/rtSynth_rt/expScripts/recognition/recognitionDataAnalysis/raw/rtSynth_sub001/nifti/\"\n",
    "from glob import glob\n",
    "files = glob(f\"{path}*.nii\")\n",
    "\n",
    "for file in files:\n",
    "    runID=file.split(\"/\")[-1].split(\"_\")[-1].split(\".nii\")[0]\n",
    "    try:\n",
    "        if int(runID)==8:\n",
    "            print(file)\n",
    "            T1=file\n",
    "    except:\n",
    "        pass\n",
    "copyfile T1 "
   ]
  },
  {
   "cell_type": "code",
   "execution_count": 14,
   "metadata": {},
   "outputs": [
    {
     "data": {
      "text/plain": [
       "['rtSynth', 'sub001', 'ses5']"
      ]
     },
     "execution_count": 14,
     "metadata": {},
     "output_type": "execute_result"
    }
   ],
   "source": [
    "# sub=\"\"\n",
    "\"rtSynth_sub001_ses5\".split(\"_\")"
   ]
  },
  {
   "cell_type": "code",
   "execution_count": 15,
   "metadata": {},
   "outputs": [
    {
     "data": {
      "text/plain": [
       "['rtSynth', 'sub001']"
      ]
     },
     "execution_count": 15,
     "metadata": {},
     "output_type": "execute_result"
    }
   ],
   "source": [
    "\"rtSynth_sub001\".split(\"_\")"
   ]
  },
  {
   "cell_type": "code",
   "execution_count": 19,
   "metadata": {},
   "outputs": [
    {
     "data": {
      "text/plain": [
       "5"
      ]
     },
     "execution_count": 19,
     "metadata": {},
     "output_type": "execute_result"
    }
   ],
   "source": [
    "sub=\"rtSynth_sub001_ses5\"\n",
    "subjectName=sub.split(\"_\")[1]\n",
    "if len(sub.split(\"_\"))==3:\n",
    "    ses=int(sub.split(\"_\")[2].split(\"ses\")[1])\n",
    "else:\n",
    "    ses=1\n",
    "ses"
   ]
  },
  {
   "cell_type": "code",
   "execution_count": null,
   "metadata": {},
   "outputs": [],
   "source": []
  }
 ],
 "metadata": {
  "kernelspec": {
   "display_name": "Python 3",
   "language": "python",
   "name": "python3"
  },
  "language_info": {
   "codemirror_mode": {
    "name": "ipython",
    "version": 3
   },
   "file_extension": ".py",
   "mimetype": "text/x-python",
   "name": "python",
   "nbconvert_exporter": "python",
   "pygments_lexer": "ipython3",
   "version": "3.6.12"
  },
  "toc": {
   "base_numbering": 1,
   "nav_menu": {},
   "number_sections": true,
   "sideBar": true,
   "skip_h1_title": false,
   "title_cell": "Table of Contents",
   "title_sidebar": "Contents",
   "toc_cell": false,
   "toc_position": {},
   "toc_section_display": true,
   "toc_window_display": false
  },
  "varInspector": {
   "cols": {
    "lenName": 16,
    "lenType": 16,
    "lenVar": 40
   },
   "kernels_config": {
    "python": {
     "delete_cmd_postfix": "",
     "delete_cmd_prefix": "del ",
     "library": "var_list.py",
     "varRefreshCmd": "print(var_dic_list())"
    },
    "r": {
     "delete_cmd_postfix": ") ",
     "delete_cmd_prefix": "rm(",
     "library": "var_list.r",
     "varRefreshCmd": "cat(var_dic_list()) "
    }
   },
   "types_to_exclude": [
    "module",
    "function",
    "builtin_function_or_method",
    "instance",
    "_Feature"
   ],
   "window_display": false
  }
 },
 "nbformat": 4,
 "nbformat_minor": 4
}
