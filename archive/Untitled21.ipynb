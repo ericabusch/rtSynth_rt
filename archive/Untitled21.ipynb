{
 "cells": [
  {
   "cell_type": "code",
   "execution_count": 10,
   "metadata": {},
   "outputs": [
    {
     "name": "stdout",
     "output_type": "stream",
     "text": [
      "numberOfJobsRunning=4\n"
     ]
    },
    {
     "data": {
      "text/plain": [
       "4"
      ]
     },
     "execution_count": 10,
     "metadata": {},
     "output_type": "execute_result"
    }
   ],
   "source": [
    "import time,os\n",
    "from subprocess import call\n",
    "os.chdir(\"/gpfs/milgram/project/turk-browne/projects/rtSynth_rt/expScripts/recognition/\")\n",
    "def numOfRunningJobs():\n",
    "    # subprocess.Popen(['squeue -u kp578 | wc -l > squeue.txt'],shell=True) # sl_result = Class(_runs, bcvar)\n",
    "    randomID=str(time.time())\n",
    "    # print(f\"squeue -u kp578 | wc -l > squeue/{randomID}.txt\")\n",
    "    codeDir = \"/gpfs/milgram/project/turk-browne/projects/rtSynth_rt/expScripts/recognition/recognitionDataAnalysis/\"\n",
    "    call(f'squeue -u kp578 | wc -l > {codeDir}squeue{randomID}.txt',shell=True)\n",
    "    numberOfJobsRunning = int(open(f\"{codeDir}squeue{randomID}.txt\", \"r\").read())\n",
    "    print(f\"numberOfJobsRunning={numberOfJobsRunning}\")\n",
    "    return numberOfJobsRunning\n",
    "\n",
    "numOfRunningJobs()"
   ]
  },
  {
   "cell_type": "code",
   "execution_count": null,
   "metadata": {
    "scrolled": true
   },
   "outputs": [
    {
     "name": "stdout",
     "output_type": "stream",
     "text": [
      "numberOfJobsRunning=4\n",
      "numberOfJobsRunning=4\n",
      "numberOfJobsRunning=4\n"
     ]
    }
   ],
   "source": [
    "for i in range(int(1e100)):\n",
    "    n=numOfRunningJobs()\n",
    "    if n<=2:\n",
    "        break\n",
    "    else:\n",
    "        time.sleep(10)\n",
    "call(\"sbatch SUMA_Make_Spec_FS.sh sub002\",shell=True)\n",
    "call(\"sbatch SUMA_Make_Spec_FS.sh sub102\",shell=True)"
   ]
  },
  {
   "cell_type": "code",
   "execution_count": 16,
   "metadata": {},
   "outputs": [
    {
     "name": "stdout",
     "output_type": "stream",
     "text": [
      "/gpfs/milgram/pi/turk-browne/projects/rtSynth_rt/expScripts/recognition\r\n"
     ]
    }
   ],
   "source": [
    "!pwd"
   ]
  },
  {
   "cell_type": "code",
   "execution_count": 20,
   "metadata": {
    "scrolled": true
   },
   "outputs": [
    {
     "name": "stdout",
     "output_type": "stream",
     "text": [
      "toml filename=/gpfs/milgram/project/turk-browne/projects/rtSynth_rt/projects/rtSynth_rt/conf/sub002.ses1.toml\n"
     ]
    },
    {
     "data": {
      "text/plain": [
       "{'title': 'rtSynth_rt',\n",
       " 'session': 1,\n",
       " 'subjectDay': 1,\n",
       " 'runNum': [1],\n",
       " 'scanNum': [1],\n",
       " 'subjectName': 'sub002',\n",
       " 'LASTNAME': 'rtSynth_sub002',\n",
       " 'subjectIDforxnat': 'rtSynth_sub002_ses1',\n",
       " 'realtimeFolder_subjectName': 'rtSynth_sub002',\n",
       " 'preDay_YYYYMMDD': '0',\n",
       " 'YYYYMMDD': '20210510',\n",
       " 'num_total_TRs': 174,\n",
       " 'TrialNumber': 12,\n",
       " 'plotTitle': 'Realtime Plot',\n",
       " 'plotXLabel': 'Sample #',\n",
       " 'plotYLabel': 'B prob',\n",
       " 'plotXRangeLow': 0,\n",
       " 'plotXRangeHigh': 176,\n",
       " 'plotYRangeLow': 0,\n",
       " 'plotYRangeHigh': 20,\n",
       " 'plotAutoRangeX': False,\n",
       " 'plotAutoRangeY': True,\n",
       " 'minExpectedDicomSize': 300000,\n",
       " 'projectDir': '/gpfs/milgram/project/turk-browne/projects/rtSynth_rt/',\n",
       " 'tmp_folder': '/tmp/',\n",
       " 'orderFolder': '/gpfs/milgram/project/turk-browne/projects/rtSynth_rt/expScripts/recognition/orders/',\n",
       " 'subjects_dir': '/gpfs/milgram/project/turk-browne/projects/rtSynth_rt/subjects/',\n",
       " 'dicom_folder': '/gpfs/milgram/project/realtime/DICOM/',\n",
       " 'recognition_expScripts_dir': '/gpfs/milgram/project/turk-browne/projects/rtSynth_rt/expScripts/recognition/',\n",
       " 'feedback_expScripts_dir': '/gpfs/milgram/project/turk-browne/projects/rtSynth_rt/expScripts/feedback/',\n",
       " 'TR': 2,\n",
       " 'preDay_dicom_dir': '/gpfs/milgram/project/realtime/DICOM/0.rtSynth_sub002.rtSynth_sub002/',\n",
       " 'dicom_dir': '/gpfs/milgram/project/realtime/DICOM/20210510.rtSynth_sub002.rtSynth_sub002_ses1//',\n",
       " 'dicomDir': '/gpfs/milgram/project/realtime/DICOM/20210510.rtSynth_sub002.rtSynth_sub002_ses1//',\n",
       " 'recognition_dir': '/gpfs/milgram/project/turk-browne/projects/rtSynth_rt/subjects/sub002/ses1/recognition/',\n",
       " 'feedback_dir': '/gpfs/milgram/project/turk-browne/projects/rtSynth_rt/subjects/sub002/ses1/feedback/',\n",
       " 'usingModel_dir': '/gpfs/milgram/project/turk-browne/projects/rtSynth_rt/subjects/sub002/ses0/recognition/clf/',\n",
       " 'trainingModel_dir': '/gpfs/milgram/project/turk-browne/projects/rtSynth_rt/subjects/sub002/ses1/recognition/clf/',\n",
       " 'templateFunctionalVolume': '/gpfs/milgram/project/turk-browne/projects/rtSynth_rt/subjects/sub002/ses1/recognition/templateFunctionalVolume.nii',\n",
       " 'templateFunctionalVolume_converted': '/gpfs/milgram/project/turk-browne/projects/rtSynth_rt/subjects/sub002/ses1/recognition//templateFunctionalVolume_converted.nii',\n",
       " 'dicomNamePattern': '001_{SCAN:06d}_{TR:06d}.dcm',\n",
       " 'mask_dir': '/gpfs/milgram/project/turk-browne/projects/rtSynth_rt/subjects/sub002/ses1/recognition/mask/',\n",
       " 'chosenMask': '/gpfs/milgram/project/turk-browne/projects/rtSynth_rt/subjects/sub002/ses1/recognition/chosenMask.npy',\n",
       " 'GMINFUNC': '/gpfs/milgram/project/turk-browne/projects/rtSynth_rt/subjects/sub002/ses1/anat/gm_func.nii.gz',\n",
       " 'adaptiveThreshold': '/gpfs/milgram/project/turk-browne/projects/rtSynth_rt/subjects/sub002/adaptiveThreshold.csv'}"
      ]
     },
     "execution_count": 20,
     "metadata": {},
     "output_type": "execute_result"
    }
   ],
   "source": [
    "#  this script is meant to deal with the data of 8 recognition runs and generate models saved in corresponding folder\n",
    "'''\n",
    "input:\n",
    "    cfg.session=ses1\n",
    "    cfg.modelFolder=f\"{cfg.subjects_dir}/{cfg.subjectName}/{cfg.session}_recognition/clf/\"\n",
    "    cfg.dataFolder=f\"{cfg.subjects_dir}/{cfg.subjectName}/{cfg.session}_recognition/\"\n",
    "output:\n",
    "    models in cfg.modelFolder\n",
    "'''\n",
    "\n",
    "\n",
    "import os\n",
    "import sys\n",
    "sys.path.append('/gpfs/milgram/project/turk-browne/projects/rtSynth_rt/')\n",
    "import argparse\n",
    "import numpy as np\n",
    "import nibabel as nib\n",
    "import scipy.io as sio\n",
    "import subprocess\n",
    "from scipy.stats import zscore\n",
    "from nibabel.nicom import dicomreaders\n",
    "import pydicom as dicom  # type: ignore\n",
    "import time\n",
    "from glob import glob\n",
    "import shutil\n",
    "from nilearn.image import new_img_like\n",
    "import joblib\n",
    "import rtCommon.utils as utils\n",
    "from rtCommon.utils import loadConfigFile\n",
    "import pickle5 as pickle\n",
    "def save_obj(obj, name):\n",
    "    with open(name + '.pkl', 'wb') as f:\n",
    "        pickle.dump(obj, f, pickle.HIGHEST_PROTOCOL)\n",
    "\n",
    "def load_obj(name):\n",
    "    with open(name + '.pkl', 'rb') as f:\n",
    "        return pickle.load(f)\n",
    "# from rtCommon.fileClient import FileInterface\n",
    "# import rtCommon.projectUtils as projUtils\n",
    "# from rtCommon.imageHandling import readRetryDicomFromFileInterface, getDicomFileName, convertDicomImgToNifti\n",
    "\n",
    "\n",
    "argParser = argparse.ArgumentParser()\n",
    "argParser.add_argument('--config', '-c', default='sub002.ses1.toml', type=str, help='experiment file (.json or .toml)')\n",
    "argParser.add_argument('--skipPre', '-s', default=0, type=int, help='skip preprocess or not')\n",
    "argParser.add_argument('--skipGreedy', '-g', default=0, type=int, help='skip greedy or not')\n",
    "args = argParser.parse_args(\"\")\n",
    "from rtCommon.cfg_loading import mkdir,cfg_loading\n",
    "# config=\"sub001.ses2.toml\"\n",
    "cfg = cfg_loading(args.config)\n",
    "cfg"
   ]
  },
  {
   "cell_type": "code",
   "execution_count": 24,
   "metadata": {
    "scrolled": true
   },
   "outputs": [
    {
     "ename": "IndexError",
     "evalue": "single positional indexer is out-of-bounds",
     "output_type": "error",
     "traceback": [
      "\u001b[0;31m---------------------------------------------------------------------------\u001b[0m",
      "\u001b[0;31mIndexError\u001b[0m                                Traceback (most recent call last)",
      "\u001b[0;32m<ipython-input-24-40fbf4bf8254>\u001b[0m in \u001b[0;36m<module>\u001b[0;34m\u001b[0m\n\u001b[1;32m      1\u001b[0m \u001b[0mcurr_run_behav\u001b[0m\u001b[0;34m=\u001b[0m\u001b[0;36m1\u001b[0m\u001b[0;34m\u001b[0m\u001b[0;34m\u001b[0m\u001b[0m\n\u001b[0;32m----> 2\u001b[0;31m \u001b[0mbehav_data\u001b[0m \u001b[0;34m=\u001b[0m \u001b[0mbehaviorDataLoading\u001b[0m\u001b[0;34m(\u001b[0m\u001b[0mcfg\u001b[0m\u001b[0;34m,\u001b[0m\u001b[0mcurr_run_behav\u001b[0m\u001b[0;34m+\u001b[0m\u001b[0;36m1\u001b[0m\u001b[0;34m)\u001b[0m\u001b[0;34m\u001b[0m\u001b[0;34m\u001b[0m\u001b[0m\n\u001b[0m",
      "\u001b[0;32m/gpfs/milgram/pi/turk-browne/projects/rtSynth_rt/expScripts/recognition/recognition_dataAnalysisFunctions.py\u001b[0m in \u001b[0;36mbehaviorDataLoading\u001b[0;34m(cfg, curr_run)\u001b[0m\n\u001b[1;32m    497\u001b[0m     \u001b[0;32mfor\u001b[0m \u001b[0mcurr_trial\u001b[0m \u001b[0;32min\u001b[0m \u001b[0mrange\u001b[0m\u001b[0;34m(\u001b[0m\u001b[0mbehav_data\u001b[0m\u001b[0;34m.\u001b[0m\u001b[0mshape\u001b[0m\u001b[0;34m[\u001b[0m\u001b[0;36m0\u001b[0m\u001b[0;34m]\u001b[0m\u001b[0;34m)\u001b[0m\u001b[0;34m:\u001b[0m\u001b[0;34m\u001b[0m\u001b[0;34m\u001b[0m\u001b[0m\n\u001b[1;32m    498\u001b[0m         \u001b[0;32mif\u001b[0m \u001b[0mbehav_data\u001b[0m\u001b[0;34m[\u001b[0m\u001b[0;34m'Item'\u001b[0m\u001b[0;34m]\u001b[0m\u001b[0;34m.\u001b[0m\u001b[0miloc\u001b[0m\u001b[0;34m[\u001b[0m\u001b[0mcurr_trial\u001b[0m\u001b[0;34m]\u001b[0m  \u001b[0;32min\u001b[0m \u001b[0;34m[\u001b[0m\u001b[0;34m\"A\"\u001b[0m\u001b[0;34m,\u001b[0m\u001b[0;34m\"B\"\u001b[0m\u001b[0;34m,\u001b[0m\u001b[0;34m\"C\"\u001b[0m\u001b[0;34m,\u001b[0m\u001b[0;34m\"D\"\u001b[0m\u001b[0;34m]\u001b[0m\u001b[0;34m:\u001b[0m\u001b[0;34m\u001b[0m\u001b[0;34m\u001b[0m\u001b[0m\n\u001b[0;32m--> 499\u001b[0;31m             \u001b[0;32mif\u001b[0m \u001b[0mbehav_data\u001b[0m\u001b[0;34m[\u001b[0m\u001b[0;34m'Resp'\u001b[0m\u001b[0;34m]\u001b[0m\u001b[0;34m.\u001b[0m\u001b[0miloc\u001b[0m\u001b[0;34m[\u001b[0m\u001b[0mcurr_trial\u001b[0m\u001b[0;34m+\u001b[0m\u001b[0;36m1\u001b[0m\u001b[0;34m]\u001b[0m \u001b[0;32min\u001b[0m \u001b[0;34m[\u001b[0m\u001b[0;36m1.0\u001b[0m\u001b[0;34m,\u001b[0m\u001b[0;36m2.0\u001b[0m\u001b[0;34m]\u001b[0m\u001b[0;34m:\u001b[0m\u001b[0;34m\u001b[0m\u001b[0;34m\u001b[0m\u001b[0m\n\u001b[0m\u001b[1;32m    500\u001b[0m                 \u001b[0mbehav_data\u001b[0m\u001b[0;34m[\u001b[0m\u001b[0;34m'Resp'\u001b[0m\u001b[0;34m]\u001b[0m\u001b[0;34m.\u001b[0m\u001b[0miloc\u001b[0m\u001b[0;34m[\u001b[0m\u001b[0mcurr_trial\u001b[0m\u001b[0;34m]\u001b[0m\u001b[0;34m=\u001b[0m\u001b[0mbehav_data\u001b[0m\u001b[0;34m[\u001b[0m\u001b[0;34m'Resp'\u001b[0m\u001b[0;34m]\u001b[0m\u001b[0;34m.\u001b[0m\u001b[0miloc\u001b[0m\u001b[0;34m[\u001b[0m\u001b[0mcurr_trial\u001b[0m\u001b[0;34m+\u001b[0m\u001b[0;36m1\u001b[0m\u001b[0;34m]\u001b[0m\u001b[0;34m\u001b[0m\u001b[0;34m\u001b[0m\u001b[0m\n\u001b[1;32m    501\u001b[0m \u001b[0;34m\u001b[0m\u001b[0m\n",
      "\u001b[0;32m/gpfs/milgram/project/turk-browne/users/kp578/CONDA/rtcloud/lib/python3.6/site-packages/pandas/core/indexing.py\u001b[0m in \u001b[0;36m__getitem__\u001b[0;34m(self, key)\u001b[0m\n\u001b[1;32m    877\u001b[0m \u001b[0;34m\u001b[0m\u001b[0m\n\u001b[1;32m    878\u001b[0m             \u001b[0mmaybe_callable\u001b[0m \u001b[0;34m=\u001b[0m \u001b[0mcom\u001b[0m\u001b[0;34m.\u001b[0m\u001b[0mapply_if_callable\u001b[0m\u001b[0;34m(\u001b[0m\u001b[0mkey\u001b[0m\u001b[0;34m,\u001b[0m \u001b[0mself\u001b[0m\u001b[0;34m.\u001b[0m\u001b[0mobj\u001b[0m\u001b[0;34m)\u001b[0m\u001b[0;34m\u001b[0m\u001b[0;34m\u001b[0m\u001b[0m\n\u001b[0;32m--> 879\u001b[0;31m             \u001b[0;32mreturn\u001b[0m \u001b[0mself\u001b[0m\u001b[0;34m.\u001b[0m\u001b[0m_getitem_axis\u001b[0m\u001b[0;34m(\u001b[0m\u001b[0mmaybe_callable\u001b[0m\u001b[0;34m,\u001b[0m \u001b[0maxis\u001b[0m\u001b[0;34m=\u001b[0m\u001b[0maxis\u001b[0m\u001b[0;34m)\u001b[0m\u001b[0;34m\u001b[0m\u001b[0;34m\u001b[0m\u001b[0m\n\u001b[0m\u001b[1;32m    880\u001b[0m \u001b[0;34m\u001b[0m\u001b[0m\n\u001b[1;32m    881\u001b[0m     \u001b[0;32mdef\u001b[0m \u001b[0m_is_scalar_access\u001b[0m\u001b[0;34m(\u001b[0m\u001b[0mself\u001b[0m\u001b[0;34m,\u001b[0m \u001b[0mkey\u001b[0m\u001b[0;34m:\u001b[0m \u001b[0mTuple\u001b[0m\u001b[0;34m)\u001b[0m\u001b[0;34m:\u001b[0m\u001b[0;34m\u001b[0m\u001b[0;34m\u001b[0m\u001b[0m\n",
      "\u001b[0;32m/gpfs/milgram/project/turk-browne/users/kp578/CONDA/rtcloud/lib/python3.6/site-packages/pandas/core/indexing.py\u001b[0m in \u001b[0;36m_getitem_axis\u001b[0;34m(self, key, axis)\u001b[0m\n\u001b[1;32m   1494\u001b[0m \u001b[0;34m\u001b[0m\u001b[0m\n\u001b[1;32m   1495\u001b[0m             \u001b[0;31m# validate the location\u001b[0m\u001b[0;34m\u001b[0m\u001b[0;34m\u001b[0m\u001b[0;34m\u001b[0m\u001b[0m\n\u001b[0;32m-> 1496\u001b[0;31m             \u001b[0mself\u001b[0m\u001b[0;34m.\u001b[0m\u001b[0m_validate_integer\u001b[0m\u001b[0;34m(\u001b[0m\u001b[0mkey\u001b[0m\u001b[0;34m,\u001b[0m \u001b[0maxis\u001b[0m\u001b[0;34m)\u001b[0m\u001b[0;34m\u001b[0m\u001b[0;34m\u001b[0m\u001b[0m\n\u001b[0m\u001b[1;32m   1497\u001b[0m \u001b[0;34m\u001b[0m\u001b[0m\n\u001b[1;32m   1498\u001b[0m             \u001b[0;32mreturn\u001b[0m \u001b[0mself\u001b[0m\u001b[0;34m.\u001b[0m\u001b[0mobj\u001b[0m\u001b[0;34m.\u001b[0m\u001b[0m_ixs\u001b[0m\u001b[0;34m(\u001b[0m\u001b[0mkey\u001b[0m\u001b[0;34m,\u001b[0m \u001b[0maxis\u001b[0m\u001b[0;34m=\u001b[0m\u001b[0maxis\u001b[0m\u001b[0;34m)\u001b[0m\u001b[0;34m\u001b[0m\u001b[0;34m\u001b[0m\u001b[0m\n",
      "\u001b[0;32m/gpfs/milgram/project/turk-browne/users/kp578/CONDA/rtcloud/lib/python3.6/site-packages/pandas/core/indexing.py\u001b[0m in \u001b[0;36m_validate_integer\u001b[0;34m(self, key, axis)\u001b[0m\n\u001b[1;32m   1435\u001b[0m         \u001b[0mlen_axis\u001b[0m \u001b[0;34m=\u001b[0m \u001b[0mlen\u001b[0m\u001b[0;34m(\u001b[0m\u001b[0mself\u001b[0m\u001b[0;34m.\u001b[0m\u001b[0mobj\u001b[0m\u001b[0;34m.\u001b[0m\u001b[0m_get_axis\u001b[0m\u001b[0;34m(\u001b[0m\u001b[0maxis\u001b[0m\u001b[0;34m)\u001b[0m\u001b[0;34m)\u001b[0m\u001b[0;34m\u001b[0m\u001b[0;34m\u001b[0m\u001b[0m\n\u001b[1;32m   1436\u001b[0m         \u001b[0;32mif\u001b[0m \u001b[0mkey\u001b[0m \u001b[0;34m>=\u001b[0m \u001b[0mlen_axis\u001b[0m \u001b[0;32mor\u001b[0m \u001b[0mkey\u001b[0m \u001b[0;34m<\u001b[0m \u001b[0;34m-\u001b[0m\u001b[0mlen_axis\u001b[0m\u001b[0;34m:\u001b[0m\u001b[0;34m\u001b[0m\u001b[0;34m\u001b[0m\u001b[0m\n\u001b[0;32m-> 1437\u001b[0;31m             \u001b[0;32mraise\u001b[0m \u001b[0mIndexError\u001b[0m\u001b[0;34m(\u001b[0m\u001b[0;34m\"single positional indexer is out-of-bounds\"\u001b[0m\u001b[0;34m)\u001b[0m\u001b[0;34m\u001b[0m\u001b[0;34m\u001b[0m\u001b[0m\n\u001b[0m\u001b[1;32m   1438\u001b[0m \u001b[0;34m\u001b[0m\u001b[0m\n\u001b[1;32m   1439\u001b[0m     \u001b[0;31m# -------------------------------------------------------------------\u001b[0m\u001b[0;34m\u001b[0m\u001b[0;34m\u001b[0m\u001b[0;34m\u001b[0m\u001b[0m\n",
      "\u001b[0;31mIndexError\u001b[0m: single positional indexer is out-of-bounds"
     ]
    }
   ],
   "source": [
    "from recognition_dataAnalysisFunctions import recognition_preprocess,minimalClass,behaviorDataLoading,greedyMask,normalize #,classifierEvidence\n",
    "curr_run_behav=1\n",
    "behav_data = behaviorDataLoading(cfg,curr_run_behav+1)\n"
   ]
  },
  {
   "cell_type": "code",
   "execution_count": 26,
   "metadata": {},
   "outputs": [
    {
     "ename": "IndexError",
     "evalue": "single positional indexer is out-of-bounds",
     "output_type": "error",
     "traceback": [
      "\u001b[0;31m---------------------------------------------------------------------------\u001b[0m",
      "\u001b[0;31mIndexError\u001b[0m                                Traceback (most recent call last)",
      "\u001b[0;32m<ipython-input-26-d432605b792c>\u001b[0m in \u001b[0;36m<module>\u001b[0;34m\u001b[0m\n\u001b[1;32m     45\u001b[0m \u001b[0;32mfor\u001b[0m \u001b[0mcurr_trial\u001b[0m \u001b[0;32min\u001b[0m \u001b[0mrange\u001b[0m\u001b[0;34m(\u001b[0m\u001b[0mbehav_data\u001b[0m\u001b[0;34m.\u001b[0m\u001b[0mshape\u001b[0m\u001b[0;34m[\u001b[0m\u001b[0;36m0\u001b[0m\u001b[0;34m]\u001b[0m\u001b[0;34m)\u001b[0m\u001b[0;34m:\u001b[0m\u001b[0;34m\u001b[0m\u001b[0;34m\u001b[0m\u001b[0m\n\u001b[1;32m     46\u001b[0m     \u001b[0;32mif\u001b[0m \u001b[0mbehav_data\u001b[0m\u001b[0;34m[\u001b[0m\u001b[0;34m'Item'\u001b[0m\u001b[0;34m]\u001b[0m\u001b[0;34m.\u001b[0m\u001b[0miloc\u001b[0m\u001b[0;34m[\u001b[0m\u001b[0mcurr_trial\u001b[0m\u001b[0;34m]\u001b[0m  \u001b[0;32min\u001b[0m \u001b[0;34m[\u001b[0m\u001b[0;34m\"A\"\u001b[0m\u001b[0;34m,\u001b[0m\u001b[0;34m\"B\"\u001b[0m\u001b[0;34m,\u001b[0m\u001b[0;34m\"C\"\u001b[0m\u001b[0;34m,\u001b[0m\u001b[0;34m\"D\"\u001b[0m\u001b[0;34m]\u001b[0m\u001b[0;34m:\u001b[0m\u001b[0;34m\u001b[0m\u001b[0;34m\u001b[0m\u001b[0m\n\u001b[0;32m---> 47\u001b[0;31m         \u001b[0;32mif\u001b[0m \u001b[0mbehav_data\u001b[0m\u001b[0;34m[\u001b[0m\u001b[0;34m'Resp'\u001b[0m\u001b[0;34m]\u001b[0m\u001b[0;34m.\u001b[0m\u001b[0miloc\u001b[0m\u001b[0;34m[\u001b[0m\u001b[0mcurr_trial\u001b[0m\u001b[0;34m+\u001b[0m\u001b[0;36m1\u001b[0m\u001b[0;34m]\u001b[0m \u001b[0;32min\u001b[0m \u001b[0;34m[\u001b[0m\u001b[0;36m1.0\u001b[0m\u001b[0;34m,\u001b[0m\u001b[0;36m2.0\u001b[0m\u001b[0;34m]\u001b[0m\u001b[0;34m:\u001b[0m\u001b[0;34m\u001b[0m\u001b[0;34m\u001b[0m\u001b[0m\n\u001b[0m\u001b[1;32m     48\u001b[0m             \u001b[0mbehav_data\u001b[0m\u001b[0;34m[\u001b[0m\u001b[0;34m'Resp'\u001b[0m\u001b[0;34m]\u001b[0m\u001b[0;34m.\u001b[0m\u001b[0miloc\u001b[0m\u001b[0;34m[\u001b[0m\u001b[0mcurr_trial\u001b[0m\u001b[0;34m]\u001b[0m\u001b[0;34m=\u001b[0m\u001b[0mbehav_data\u001b[0m\u001b[0;34m[\u001b[0m\u001b[0;34m'Resp'\u001b[0m\u001b[0;34m]\u001b[0m\u001b[0;34m.\u001b[0m\u001b[0miloc\u001b[0m\u001b[0;34m[\u001b[0m\u001b[0mcurr_trial\u001b[0m\u001b[0;34m+\u001b[0m\u001b[0;36m1\u001b[0m\u001b[0;34m]\u001b[0m\u001b[0;34m\u001b[0m\u001b[0;34m\u001b[0m\u001b[0m\n\u001b[1;32m     49\u001b[0m \u001b[0;34m\u001b[0m\u001b[0m\n",
      "\u001b[0;32m/gpfs/milgram/project/turk-browne/users/kp578/CONDA/rtcloud/lib/python3.6/site-packages/pandas/core/indexing.py\u001b[0m in \u001b[0;36m__getitem__\u001b[0;34m(self, key)\u001b[0m\n\u001b[1;32m    877\u001b[0m \u001b[0;34m\u001b[0m\u001b[0m\n\u001b[1;32m    878\u001b[0m             \u001b[0mmaybe_callable\u001b[0m \u001b[0;34m=\u001b[0m \u001b[0mcom\u001b[0m\u001b[0;34m.\u001b[0m\u001b[0mapply_if_callable\u001b[0m\u001b[0;34m(\u001b[0m\u001b[0mkey\u001b[0m\u001b[0;34m,\u001b[0m \u001b[0mself\u001b[0m\u001b[0;34m.\u001b[0m\u001b[0mobj\u001b[0m\u001b[0;34m)\u001b[0m\u001b[0;34m\u001b[0m\u001b[0;34m\u001b[0m\u001b[0m\n\u001b[0;32m--> 879\u001b[0;31m             \u001b[0;32mreturn\u001b[0m \u001b[0mself\u001b[0m\u001b[0;34m.\u001b[0m\u001b[0m_getitem_axis\u001b[0m\u001b[0;34m(\u001b[0m\u001b[0mmaybe_callable\u001b[0m\u001b[0;34m,\u001b[0m \u001b[0maxis\u001b[0m\u001b[0;34m=\u001b[0m\u001b[0maxis\u001b[0m\u001b[0;34m)\u001b[0m\u001b[0;34m\u001b[0m\u001b[0;34m\u001b[0m\u001b[0m\n\u001b[0m\u001b[1;32m    880\u001b[0m \u001b[0;34m\u001b[0m\u001b[0m\n\u001b[1;32m    881\u001b[0m     \u001b[0;32mdef\u001b[0m \u001b[0m_is_scalar_access\u001b[0m\u001b[0;34m(\u001b[0m\u001b[0mself\u001b[0m\u001b[0;34m,\u001b[0m \u001b[0mkey\u001b[0m\u001b[0;34m:\u001b[0m \u001b[0mTuple\u001b[0m\u001b[0;34m)\u001b[0m\u001b[0;34m:\u001b[0m\u001b[0;34m\u001b[0m\u001b[0;34m\u001b[0m\u001b[0m\n",
      "\u001b[0;32m/gpfs/milgram/project/turk-browne/users/kp578/CONDA/rtcloud/lib/python3.6/site-packages/pandas/core/indexing.py\u001b[0m in \u001b[0;36m_getitem_axis\u001b[0;34m(self, key, axis)\u001b[0m\n\u001b[1;32m   1494\u001b[0m \u001b[0;34m\u001b[0m\u001b[0m\n\u001b[1;32m   1495\u001b[0m             \u001b[0;31m# validate the location\u001b[0m\u001b[0;34m\u001b[0m\u001b[0;34m\u001b[0m\u001b[0;34m\u001b[0m\u001b[0m\n\u001b[0;32m-> 1496\u001b[0;31m             \u001b[0mself\u001b[0m\u001b[0;34m.\u001b[0m\u001b[0m_validate_integer\u001b[0m\u001b[0;34m(\u001b[0m\u001b[0mkey\u001b[0m\u001b[0;34m,\u001b[0m \u001b[0maxis\u001b[0m\u001b[0;34m)\u001b[0m\u001b[0;34m\u001b[0m\u001b[0;34m\u001b[0m\u001b[0m\n\u001b[0m\u001b[1;32m   1497\u001b[0m \u001b[0;34m\u001b[0m\u001b[0m\n\u001b[1;32m   1498\u001b[0m             \u001b[0;32mreturn\u001b[0m \u001b[0mself\u001b[0m\u001b[0;34m.\u001b[0m\u001b[0mobj\u001b[0m\u001b[0;34m.\u001b[0m\u001b[0m_ixs\u001b[0m\u001b[0;34m(\u001b[0m\u001b[0mkey\u001b[0m\u001b[0;34m,\u001b[0m \u001b[0maxis\u001b[0m\u001b[0;34m=\u001b[0m\u001b[0maxis\u001b[0m\u001b[0;34m)\u001b[0m\u001b[0;34m\u001b[0m\u001b[0;34m\u001b[0m\u001b[0m\n",
      "\u001b[0;32m/gpfs/milgram/project/turk-browne/users/kp578/CONDA/rtcloud/lib/python3.6/site-packages/pandas/core/indexing.py\u001b[0m in \u001b[0;36m_validate_integer\u001b[0;34m(self, key, axis)\u001b[0m\n\u001b[1;32m   1435\u001b[0m         \u001b[0mlen_axis\u001b[0m \u001b[0;34m=\u001b[0m \u001b[0mlen\u001b[0m\u001b[0;34m(\u001b[0m\u001b[0mself\u001b[0m\u001b[0;34m.\u001b[0m\u001b[0mobj\u001b[0m\u001b[0;34m.\u001b[0m\u001b[0m_get_axis\u001b[0m\u001b[0;34m(\u001b[0m\u001b[0maxis\u001b[0m\u001b[0;34m)\u001b[0m\u001b[0;34m)\u001b[0m\u001b[0;34m\u001b[0m\u001b[0;34m\u001b[0m\u001b[0m\n\u001b[1;32m   1436\u001b[0m         \u001b[0;32mif\u001b[0m \u001b[0mkey\u001b[0m \u001b[0;34m>=\u001b[0m \u001b[0mlen_axis\u001b[0m \u001b[0;32mor\u001b[0m \u001b[0mkey\u001b[0m \u001b[0;34m<\u001b[0m \u001b[0;34m-\u001b[0m\u001b[0mlen_axis\u001b[0m\u001b[0;34m:\u001b[0m\u001b[0;34m\u001b[0m\u001b[0;34m\u001b[0m\u001b[0m\n\u001b[0;32m-> 1437\u001b[0;31m             \u001b[0;32mraise\u001b[0m \u001b[0mIndexError\u001b[0m\u001b[0;34m(\u001b[0m\u001b[0;34m\"single positional indexer is out-of-bounds\"\u001b[0m\u001b[0;34m)\u001b[0m\u001b[0;34m\u001b[0m\u001b[0;34m\u001b[0m\u001b[0m\n\u001b[0m\u001b[1;32m   1438\u001b[0m \u001b[0;34m\u001b[0m\u001b[0m\n\u001b[1;32m   1439\u001b[0m     \u001b[0;31m# -------------------------------------------------------------------\u001b[0m\u001b[0;34m\u001b[0m\u001b[0;34m\u001b[0m\u001b[0;34m\u001b[0m\u001b[0m\n",
      "\u001b[0;31mIndexError\u001b[0m: single positional indexer is out-of-bounds"
     ]
    }
   ],
   "source": [
    "\n",
    "# import and set up environment\n",
    "import sys\n",
    "from subprocess import call\n",
    "import nibabel as nib\n",
    "import pydicom as dicom\n",
    "import numpy as np\n",
    "import time\n",
    "import os\n",
    "from glob import glob\n",
    "import shutil\n",
    "import pandas as pd\n",
    "# from import convertDicomFileToNifti\n",
    "from rtCommon.imageHandling import convertDicomImgToNifti, readDicomFromFile\n",
    "from rtCommon.cfg_loading import mkdir,cfg_loading\n",
    "\n",
    "\n",
    "# def behaviorDataLoading(cfg,curr_run):\n",
    "cfg,curr_run=cfg,1\n",
    "'''\n",
    "extract the labels which is selected by the subject and coresponding TR and time\n",
    "check if the subject's response is correct. When Item is A,bed, response should be 1, or it is wrong\n",
    "'''\n",
    "behav_data = pd.read_csv(f\"{cfg.recognition_dir}{cfg.subjectName}_{curr_run}.csv\")\n",
    "\n",
    "# the item(imcode) colume of the data represent each image in the following correspondence\n",
    "imcodeDict={\n",
    "'A': 'bed',\n",
    "'B': 'chair',\n",
    "'C': 'table',\n",
    "'D': 'bench'}\n",
    "\n",
    "# When the imcode code is \"A\", the correct response should be '1', \"B\" should be '2'\n",
    "correctResponseDict={\n",
    "'A': 1,\n",
    "'B': 2,\n",
    "'C': 1,\n",
    "'D': 2}\n",
    "\n",
    "# extract the labels which is selected by the subject and coresponding TR and time\n",
    "behav_data = behav_data[['TR', 'image_on', 'Resp',  'Item']] # the TR, the real time it was presented, \n",
    "\n",
    "# 为了处理 情况 A.被试的反应慢了一个TR，或者 B.两个按钮都被按了(这种情况下按照第二个按钮处理)\n",
    "# 现在的问题是”下一个TR“可能超过了behav_data的长度\n",
    "# this for loop is to deal with the situation where Resp is late for 1 TR, or two buttons are pressed. \n",
    "# when Resp is late for 1 TR, set the current Resp as the later Response.\n",
    "# when two buttons are pressed, set the current Resp as the later Response because the later one should be the real choice\n",
    "for curr_trial in range(behav_data.shape[0]):\n",
    "    if behav_data['Item'].iloc[curr_trial]  in [\"A\",\"B\",\"C\",\"D\"]:\n",
    "        if curr_trial+1<behav_data.shape[0]: # 为了防止”下一个TR“超过behav_data的长度  中文\n",
    "            if behav_data['Resp'].iloc[curr_trial+1] in [1.0,2.0]:\n",
    "                behav_data['Resp'].iloc[curr_trial]=behav_data['Resp'].iloc[curr_trial+1]\n",
    "\n",
    "behav_data=behav_data.dropna(subset=['Item'])\n",
    "\n",
    "# check if the subject's response is correct. When Item is A,bed, response should be 1, or it is wrong\n",
    "isCorrect=[]\n",
    "for curr_trial in range(behav_data.shape[0]):\n",
    "    isCorrect.append(correctResponseDict[behav_data['Item'].iloc[curr_trial]]==behav_data['Resp'].iloc[curr_trial])\n",
    "print(f\"behavior pressing accuracy for run {curr_run} = {np.mean(isCorrect)}\")\n",
    "\n",
    "behav_data['isCorrect']=isCorrect # merge the isCorrect clumne with the data dataframe\n",
    "behav_data['subj']=[cfg.subjectName for i in range(len(behav_data))]\n",
    "behav_data['run_num']=[int(curr_run) for i in range(len(behav_data))]\n",
    "behav_data=behav_data[behav_data['isCorrect']] # discard the trials where the subject made wrong selection\n",
    "# return behav_data\n",
    "\n"
   ]
  },
  {
   "cell_type": "code",
   "execution_count": 31,
   "metadata": {},
   "outputs": [
    {
     "data": {
      "text/plain": [
       "True"
      ]
     },
     "execution_count": 31,
     "metadata": {},
     "output_type": "execute_result"
    }
   ],
   "source": [
    "curr_trial<behav_data.shape[0]"
   ]
  },
  {
   "cell_type": "code",
   "execution_count": 29,
   "metadata": {},
   "outputs": [
    {
     "data": {
      "text/plain": [
       "True"
      ]
     },
     "execution_count": 29,
     "metadata": {},
     "output_type": "execute_result"
    }
   ],
   "source": [
    "behav_data['Resp'].iloc[curr_trial] in [1.0,2.0]\n",
    "# curr_trial"
   ]
  },
  {
   "cell_type": "code",
   "execution_count": 32,
   "metadata": {},
   "outputs": [
    {
     "data": {
      "text/plain": [
       "[1, 2, 3, 4, 5, 6, 7, 8]"
      ]
     },
     "execution_count": 32,
     "metadata": {},
     "output_type": "execute_result"
    }
   ],
   "source": [
    "runRecording = pd.read_csv(f\"{cfg.recognition_dir}../runRecording.csv\")\n",
    "actualRuns = list(runRecording['run'].iloc[list(np.where(1==1*(runRecording['type']=='recognition'))[0])])\n",
    "actualRuns"
   ]
  },
  {
   "cell_type": "code",
   "execution_count": 33,
   "metadata": {},
   "outputs": [
    {
     "data": {
      "text/plain": [
       "True"
      ]
     },
     "execution_count": 33,
     "metadata": {},
     "output_type": "execute_result"
    }
   ],
   "source": [
    "os.path.exists(f\"{cfg.recognition_dir}run{actualRuns[-1]}.nii\") or os.path.exists(f\"{cfg.recognition_dir}run{actualRuns[-1]}.nii.gz\")"
   ]
  },
  {
   "cell_type": "code",
   "execution_count": 34,
   "metadata": {},
   "outputs": [
    {
     "data": {
      "text/plain": [
       "'/gpfs/milgram/project/turk-browne/projects/rtSynth_rt/subjects/sub002/ses1/recognition/run8.nii'"
      ]
     },
     "execution_count": 34,
     "metadata": {},
     "output_type": "execute_result"
    }
   ],
   "source": [
    "f\"{cfg.recognition_dir}run{actualRuns[-1]}.nii\""
   ]
  },
  {
   "cell_type": "code",
   "execution_count": 53,
   "metadata": {
    "scrolled": true
   },
   "outputs": [
    {
     "name": "stdout",
     "output_type": "stream",
     "text": [
      "bestID=18; best Acc = 0.4831006205673759\n"
     ]
    },
    {
     "name": "stderr",
     "output_type": "stream",
     "text": [
      "/gpfs/milgram/project/turk-browne/users/kp578/CONDA/rtcloud/lib/python3.6/site-packages/ipykernel_launcher.py:24: RuntimeWarning: Mean of empty slice\n",
      "/gpfs/milgram/project/turk-browne/users/kp578/CONDA/rtcloud/lib/python3.6/site-packages/ipykernel_launcher.py:26: RuntimeWarning: Mean of empty slice\n"
     ]
    },
    {
     "data": {
      "image/png": "[encoded data removed]",
      "text/plain": [
       "<Figure size 432x288 with 1 Axes>"
      ]
     },
     "metadata": {
      "needs_background": "light"
     },
     "output_type": "display_data"
    },
    {
     "data": {
      "image/png": "[encoded data removed]",
      "text/plain": [
       "<Figure size 432x288 with 1 Axes>"
      ]
     },
     "metadata": {
      "needs_background": "light"
     },
     "output_type": "display_data"
    }
   ],
   "source": [
    "os.chdir(\"/gpfs/milgram/project/turk-browne/projects/rtSynth_rt\")\n",
    "import matplotlib.pyplot as plt\n",
    "# when every mask has run, find the best mask and save as the chosenMask\n",
    "roiloc=\"schaefer2018\"\n",
    "dataSource=\"realtime\"\n",
    "subjects=[cfg.subjectName]\n",
    "N=78\n",
    "GreedyBestAcc=np.zeros((len(subjects),N+1))\n",
    "GreedyBestAcc[GreedyBestAcc==0]=None\n",
    "for ii,subject in enumerate(subjects):\n",
    "    for len_topN_1 in range(N-1,0,-1):\n",
    "        try:\n",
    "            # print(f\"./tmp__folder/{subject}_{N}_{roiloc}_{dataSource}_{len_topN_1}\")\n",
    "            di = load_obj(f\"{cfg.projectDir}tmp__folder/{subject}_{N}_{roiloc}_{dataSource}_{len_topN_1}\")\n",
    "            GreedyBestAcc[ii,len_topN_1-1] = di['bestAcc']\n",
    "        except:\n",
    "            pass\n",
    "GreedyBestAcc=GreedyBestAcc.T\n",
    "\n",
    "plt.imshow(GreedyBestAcc)\n",
    "_=plt.figure()\n",
    "for i in range(GreedyBestAcc.shape[0]):\n",
    "    plt.scatter([i]*GreedyBestAcc.shape[1],GreedyBestAcc[i],c='g',s=2)\n",
    "plt.plot(np.arange(GreedyBestAcc.shape[0]),np.nanmean(GreedyBestAcc,axis=1))\n",
    "\n",
    "performance_mean = np.nanmean(GreedyBestAcc,axis=1)\n",
    "bestID=np.where(performance_mean==np.nanmax(performance_mean))[0][0]\n",
    "di = load_obj(f\"./tmp__folder/{subject}_{N}_{roiloc}_{dataSource}_{bestID+1}\")\n",
    "print(f\"bestID={bestID}; best Acc = {di['bestAcc']}\")\n"
   ]
  },
  {
   "cell_type": "code",
   "execution_count": 65,
   "metadata": {},
   "outputs": [
    {
     "name": "stdout",
     "output_type": "stream",
     "text": [
      "19 195 114 163 76 258 89 249 126 93 67 10 2 238 204 150 87 22 193 "
     ]
    }
   ],
   "source": [
    "for ROI in di['bestROIs']:\n",
    "    print(ROI.split(\".\")[0],end=' ')\n",
    "\n",
    "    \n",
    "#     bash\n",
    "cd /gpfs/milgram/project/turk-browne/projects/rtSynth_rt/subjects/sub002/ses1/recognition/mask/\n",
    "cp schaefer_19.nii.gz megaROI.nii.gz\n",
    "for ROI in 19 195 114 163 76 258 89 249 126 93 67 10 2 238 204 150 87 22 193; do\n",
    "    echo $ROI\n",
    "    fslmaths schaefer_${ROI}.nii.gz -add megaROI.nii.gz megaROI.nii.gz\n",
    "done\n",
    "fslview_deprecated megaROI.nii.gz\n",
    "\n",
    "# for ROI in {1..300}; do  \n",
    "#     temp=${mask_dir}/tmp.nii.gz\n",
    "#     OUTPUT=${mask_dir}/schaefer_${ROI}.nii.gz\n",
    "#     fslmaths ${OUTPUT} -add ${temp} ${temp}\n",
    "# done"
   ]
  },
  {
   "cell_type": "code",
   "execution_count": 55,
   "metadata": {},
   "outputs": [
    {
     "name": "stderr",
     "output_type": "stream",
     "text": [
      "/gpfs/milgram/project/turk-browne/users/kp578/CONDA/rtcloud/lib/python3.6/site-packages/ipykernel_launcher.py:2: DeprecationWarning: get_data() is deprecated in favor of get_fdata(), which has a more predictable return type. To obtain get_data() behavior going forward, use numpy.asanyarray(img.dataobj).\n",
      "\n",
      "* deprecated from version: 3.0\n",
      "* Will raise <class 'nibabel.deprecator.ExpiredDeprecationError'> as of version: 5.0\n",
      "  \n"
     ]
    },
    {
     "data": {
      "text/plain": [
       "0.0"
      ]
     },
     "execution_count": 55,
     "metadata": {},
     "output_type": "execute_result"
    }
   ],
   "source": [
    "def load(path):\n",
    "    brain_data = nib.load(path).get_data()\n",
    "    return brain_data\n",
    "T2=load(\"subjects/sub102/ses1/anat/gm_func.nii.gz\")\n",
    "T1=load(\"subjects/sub002/ses1/anat/gm_func.nii.gz\")\n",
    "np.sum(T2-T1)"
   ]
  },
  {
   "cell_type": "code",
   "execution_count": 60,
   "metadata": {},
   "outputs": [
    {
     "data": {
      "text/plain": [
       "1.5"
      ]
     },
     "execution_count": 60,
     "metadata": {},
     "output_type": "execute_result"
    }
   ],
   "source": [
    "a={}\n",
    "a[1]=1\n",
    "a[2]=2\n",
    "np.mean(list(a.values()))"
   ]
  },
  {
   "cell_type": "code",
   "execution_count": 1,
   "metadata": {},
   "outputs": [
    {
     "data": {
      "text/html": [
       "<div>\n",
       "<style scoped>\n",
       "    .dataframe tbody tr th:only-of-type {\n",
       "        vertical-align: middle;\n",
       "    }\n",
       "\n",
       "    .dataframe tbody tr th {\n",
       "        vertical-align: top;\n",
       "    }\n",
       "\n",
       "    .dataframe thead th {\n",
       "        text-align: right;\n",
       "    }\n",
       "</style>\n",
       "<table border=\"1\" class=\"dataframe\">\n",
       "  <thead>\n",
       "    <tr style=\"text-align: right;\">\n",
       "      <th></th>\n",
       "      <th>sub</th>\n",
       "      <th>session</th>\n",
       "      <th>run</th>\n",
       "      <th>threshold</th>\n",
       "      <th>successful_trials</th>\n",
       "      <th>perfect_trials</th>\n",
       "      <th>monetaryReward1</th>\n",
       "      <th>monetaryReward5</th>\n",
       "      <th>monetaryReward9</th>\n",
       "      <th>monetaryReward13</th>\n",
       "    </tr>\n",
       "  </thead>\n",
       "  <tbody>\n",
       "    <tr>\n",
       "      <th>0</th>\n",
       "      <td>sub002</td>\n",
       "      <td>2</td>\n",
       "      <td>1</td>\n",
       "      <td>0.60</td>\n",
       "      <td>12.0</td>\n",
       "      <td>6.0</td>\n",
       "      <td>NaN</td>\n",
       "      <td>NaN</td>\n",
       "      <td>NaN</td>\n",
       "      <td>NaN</td>\n",
       "    </tr>\n",
       "    <tr>\n",
       "      <th>1</th>\n",
       "      <td>sub002</td>\n",
       "      <td>2</td>\n",
       "      <td>2</td>\n",
       "      <td>0.60</td>\n",
       "      <td>12.0</td>\n",
       "      <td>8.0</td>\n",
       "      <td>NaN</td>\n",
       "      <td>NaN</td>\n",
       "      <td>NaN</td>\n",
       "      <td>NaN</td>\n",
       "    </tr>\n",
       "    <tr>\n",
       "      <th>2</th>\n",
       "      <td>sub002</td>\n",
       "      <td>2</td>\n",
       "      <td>3</td>\n",
       "      <td>0.60</td>\n",
       "      <td>12.0</td>\n",
       "      <td>3.0</td>\n",
       "      <td>NaN</td>\n",
       "      <td>NaN</td>\n",
       "      <td>NaN</td>\n",
       "      <td>NaN</td>\n",
       "    </tr>\n",
       "    <tr>\n",
       "      <th>3</th>\n",
       "      <td>sub002</td>\n",
       "      <td>2</td>\n",
       "      <td>4</td>\n",
       "      <td>0.60</td>\n",
       "      <td>10.0</td>\n",
       "      <td>3.0</td>\n",
       "      <td>NaN</td>\n",
       "      <td>NaN</td>\n",
       "      <td>NaN</td>\n",
       "      <td>NaN</td>\n",
       "    </tr>\n",
       "    <tr>\n",
       "      <th>4</th>\n",
       "      <td>sub002</td>\n",
       "      <td>2</td>\n",
       "      <td>5</td>\n",
       "      <td>0.60</td>\n",
       "      <td>11.0</td>\n",
       "      <td>8.0</td>\n",
       "      <td>NaN</td>\n",
       "      <td>NaN</td>\n",
       "      <td>NaN</td>\n",
       "      <td>NaN</td>\n",
       "    </tr>\n",
       "    <tr>\n",
       "      <th>5</th>\n",
       "      <td>sub002</td>\n",
       "      <td>2</td>\n",
       "      <td>6</td>\n",
       "      <td>0.60</td>\n",
       "      <td>12.0</td>\n",
       "      <td>6.0</td>\n",
       "      <td>NaN</td>\n",
       "      <td>NaN</td>\n",
       "      <td>NaN</td>\n",
       "      <td>NaN</td>\n",
       "    </tr>\n",
       "    <tr>\n",
       "      <th>6</th>\n",
       "      <td>sub002</td>\n",
       "      <td>2</td>\n",
       "      <td>7</td>\n",
       "      <td>0.65</td>\n",
       "      <td>8.0</td>\n",
       "      <td>3.0</td>\n",
       "      <td>1080.0</td>\n",
       "      <td>721.0</td>\n",
       "      <td>720.0</td>\n",
       "      <td>1440.0</td>\n",
       "    </tr>\n",
       "    <tr>\n",
       "      <th>7</th>\n",
       "      <td>sub002</td>\n",
       "      <td>2</td>\n",
       "      <td>8</td>\n",
       "      <td>0.65</td>\n",
       "      <td>6.0</td>\n",
       "      <td>1.0</td>\n",
       "      <td>360.0</td>\n",
       "      <td>360.0</td>\n",
       "      <td>1081.0</td>\n",
       "      <td>2160.0</td>\n",
       "    </tr>\n",
       "    <tr>\n",
       "      <th>8</th>\n",
       "      <td>sub002</td>\n",
       "      <td>2</td>\n",
       "      <td>9</td>\n",
       "      <td>0.65</td>\n",
       "      <td>11.0</td>\n",
       "      <td>3.0</td>\n",
       "      <td>721.0</td>\n",
       "      <td>1080.0</td>\n",
       "      <td>1800.0</td>\n",
       "      <td>360.0</td>\n",
       "    </tr>\n",
       "    <tr>\n",
       "      <th>9</th>\n",
       "      <td>sub002</td>\n",
       "      <td>2</td>\n",
       "      <td>10</td>\n",
       "      <td>0.70</td>\n",
       "      <td>10.0</td>\n",
       "      <td>5.0</td>\n",
       "      <td>1799.0</td>\n",
       "      <td>360.0</td>\n",
       "      <td>1440.0</td>\n",
       "      <td>361.0</td>\n",
       "    </tr>\n",
       "  </tbody>\n",
       "</table>\n",
       "</div>"
      ],
      "text/plain": [
       "      sub  session  run  threshold  successful_trials  perfect_trials  \\\n",
       "0  sub002        2    1       0.60               12.0             6.0   \n",
       "1  sub002        2    2       0.60               12.0             8.0   \n",
       "2  sub002        2    3       0.60               12.0             3.0   \n",
       "3  sub002        2    4       0.60               10.0             3.0   \n",
       "4  sub002        2    5       0.60               11.0             8.0   \n",
       "5  sub002        2    6       0.60               12.0             6.0   \n",
       "6  sub002        2    7       0.65                8.0             3.0   \n",
       "7  sub002        2    8       0.65                6.0             1.0   \n",
       "8  sub002        2    9       0.65               11.0             3.0   \n",
       "9  sub002        2   10       0.70               10.0             5.0   \n",
       "\n",
       "   monetaryReward1  monetaryReward5  monetaryReward9  monetaryReward13  \n",
       "0              NaN              NaN              NaN               NaN  \n",
       "1              NaN              NaN              NaN               NaN  \n",
       "2              NaN              NaN              NaN               NaN  \n",
       "3              NaN              NaN              NaN               NaN  \n",
       "4              NaN              NaN              NaN               NaN  \n",
       "5              NaN              NaN              NaN               NaN  \n",
       "6           1080.0            721.0            720.0            1440.0  \n",
       "7            360.0            360.0           1081.0            2160.0  \n",
       "8            721.0           1080.0           1800.0             360.0  \n",
       "9           1799.0            360.0           1440.0             361.0  "
      ]
     },
     "execution_count": 1,
     "metadata": {},
     "output_type": "execute_result"
    }
   ],
   "source": [
    "import pandas as pd\n",
    "pd.read_csv(\"/gpfs/milgram/project/turk-browne/projects/rtSynth_rt/subjects/sub002/adaptiveThreshold.csv\")"
   ]
  },
  {
   "cell_type": "code",
   "execution_count": null,
   "metadata": {},
   "outputs": [],
   "source": []
  }
 ],
 "metadata": {
  "kernelspec": {
   "display_name": "Python 3",
   "language": "python",
   "name": "python3"
  },
  "language_info": {
   "codemirror_mode": {
    "name": "ipython",
    "version": 3
   },
   "file_extension": ".py",
   "mimetype": "text/x-python",
   "name": "python",
   "nbconvert_exporter": "python",
   "pygments_lexer": "ipython3",
   "version": "3.6.12"
  },
  "toc": {
   "base_numbering": 1,
   "nav_menu": {},
   "number_sections": true,
   "sideBar": true,
   "skip_h1_title": false,
   "title_cell": "Table of Contents",
   "title_sidebar": "Contents",
   "toc_cell": false,
   "toc_position": {},
   "toc_section_display": true,
   "toc_window_display": false
  },
  "varInspector": {
   "cols": {
    "lenName": 16,
    "lenType": 16,
    "lenVar": 40
   },
   "kernels_config": {
    "python": {
     "delete_cmd_postfix": "",
     "delete_cmd_prefix": "del ",
     "library": "var_list.py",
     "varRefreshCmd": "print(var_dic_list())"
    },
    "r": {
     "delete_cmd_postfix": ") ",
     "delete_cmd_prefix": "rm(",
     "library": "var_list.r",
     "varRefreshCmd": "cat(var_dic_list()) "
    }
   },
   "types_to_exclude": [
    "module",
    "function",
    "builtin_function_or_method",
    "instance",
    "_Feature"
   ],
   "window_display": false
  }
 },
 "nbformat": 4,
 "nbformat_minor": 4
}
