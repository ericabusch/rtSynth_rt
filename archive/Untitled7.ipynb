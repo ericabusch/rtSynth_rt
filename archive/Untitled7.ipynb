{
 "cells": [
  {
   "cell_type": "code",
   "execution_count": 23,
   "metadata": {},
   "outputs": [
    {
     "name": "stdout",
     "output_type": "stream",
     "text": [
      "conda env=/gpfs/milgram/project/turk-browne/users/kp578/CONDA/rtcloud\n",
      "tmpFile=./tmp__folder/0119173_25_schaefer2018_neurosketch_11_0\n"
     ]
    },
    {
     "name": "stderr",
     "output_type": "stream",
     "text": [
      "/gpfs/milgram/project/turk-browne/users/kp578/CONDA/rtcloud/lib/python3.6/site-packages/ipykernel_launcher.py:48: DeprecationWarning: get_data() is deprecated in favor of get_fdata(), which has a more predictable return type. To obtain get_data() behavior going forward, use numpy.asanyarray(img.dataobj).\n",
      "\n",
      "* deprecated from version: 3.0\n",
      "* Will raise <class 'nibabel.deprecator.ExpiredDeprecationError'> as of version: 5.0\n"
     ]
    },
    {
     "name": "stdout",
     "output_type": "stream",
     "text": [
      "mask dimensions: (94, 94, 72)\n",
      "number of voxels in mask: 3294\n",
      "Runs shape (6, 80, 3294)\n",
      "(6, 80, 3294)\n",
      "run=0\n",
      "run=1\n",
      "run=2\n",
      "run=3\n",
      "run=4\n",
      "run=5\n",
      "sl_result=0.33125\n"
     ]
    }
   ],
   "source": [
    "\n",
    "import os\n",
    "os.chdir(\"/gpfs/milgram/project/turk-browne/projects/rtTest/kp_scratch\")\n",
    "print(f\"conda env={os.environ['CONDA_DEFAULT_ENV']}\")\n",
    "import sys,pickle\n",
    "import numpy as np\n",
    "from sklearn.linear_model import LogisticRegression\n",
    "import nibabel as nib\n",
    "\n",
    "def save_obj(obj, name):\n",
    "    with open(name + '.pkl', 'wb') as f:\n",
    "        pickle.dump(obj, f, pickle.HIGHEST_PROTOCOL)\n",
    "\n",
    "def load_obj(name):\n",
    "    with open(name + '.pkl', 'rb') as f:\n",
    "        return pickle.load(f)\n",
    "\n",
    "\n",
    "def Class(data, bcvar):\n",
    "    metas = bcvar[0]\n",
    "    data4d = data[0]\n",
    "    print(data4d.shape)\n",
    "\n",
    "    accs = []\n",
    "    for run in range(6):\n",
    "        print(f\"run={run}\")\n",
    "        testX = data4d[run]\n",
    "        testY = metas[run]\n",
    "        trainX = data4d[np.arange(6) != run]\n",
    "        trainX = trainX.reshape(trainX.shape[0]*trainX.shape[1], -1)\n",
    "        trainY = []\n",
    "        for meta in range(6):\n",
    "            if meta != run:\n",
    "                trainY.extend(metas[run])\n",
    "        clf = LogisticRegression(penalty='l2',C=1, solver='lbfgs', max_iter=1000,\n",
    "                                 multi_class='multinomial').fit(trainX, trainY)\n",
    "\n",
    "        # Monitor progress by printing accuracy (only useful if you're running a test set)\n",
    "        acc = clf.score(testX, testY)\n",
    "        accs.append(acc)\n",
    "\n",
    "    return np.mean(accs)\n",
    "\n",
    "def getMask(topN, subject):\n",
    "    workingDir=\"/gpfs/milgram/project/turk-browne/projects/rtTest/\"\n",
    "    for pn, parc in enumerate(topN):\n",
    "        _mask = nib.load(workingDir+\"/{}/{}/{}\".format(roiloc, subject, parc))\n",
    "        aff = _mask.affine\n",
    "        _mask = _mask.get_data()\n",
    "        _mask = _mask.astype(int)\n",
    "        # say some things about the mask.\n",
    "        mask = _mask if pn == 0 else mask + _mask\n",
    "        mask[mask>0] = 1\n",
    "    return mask\n",
    "\n",
    "# tmpFile = sys.argv[1]\n",
    "tmpFile = \"./tmp__folder/0119173_25_schaefer2018_neurosketch_11_0\" \n",
    "print(f\"tmpFile={tmpFile}\")\n",
    "[_topN,subject,dataSource,roiloc,N] = load_obj(tmpFile)\n",
    "_topN=('225.nii.gz',\n",
    "     '232.nii.gz',\n",
    "     '108.nii.gz',\n",
    "     '107.nii.gz',\n",
    "     '238.nii.gz',\n",
    "     '190.nii.gz',\n",
    "     '138.nii.gz',\n",
    "     '221.nii.gz',\n",
    "     '280.nii.gz',\n",
    "     '243.nii.gz')\n",
    "\n",
    "[bcvar,runs] = load_obj(f\"./tmp__folder/{subject}_{dataSource}_{roiloc}_{N}\")\n",
    "_mask=getMask(_topN,subject) ; print('mask dimensions: {}'. format(_mask.shape)) ; print('number of voxels in mask: {}'.format(np.sum(_mask)))\n",
    "_runs = [runs[:,:,_mask==1]] ; print(\"Runs shape\", _runs[0].shape)\n",
    "\n",
    "# [_runs,bcvar] = load_obj(tmpFile)\n",
    "sl_result = Class(_runs, bcvar)\n",
    "\n",
    "# np.save(tmpFile+'_result',sl_result)\n",
    "\n",
    "print(f\"sl_result={sl_result}\")"
   ]
  },
  {
   "cell_type": "code",
   "execution_count": 32,
   "metadata": {},
   "outputs": [
    {
     "data": {
      "text/plain": [
       "['bed',\n",
       " 'bench',\n",
       " 'chair',\n",
       " 'table',\n",
       " 'table',\n",
       " 'bench',\n",
       " 'bed',\n",
       " 'chair',\n",
       " 'table',\n",
       " 'bench',\n",
       " 'bed',\n",
       " 'chair',\n",
       " 'chair',\n",
       " 'bed',\n",
       " 'table',\n",
       " 'bench',\n",
       " 'bed',\n",
       " 'bench',\n",
       " 'chair',\n",
       " 'table',\n",
       " 'table',\n",
       " 'bed',\n",
       " 'bench',\n",
       " 'chair',\n",
       " 'bed',\n",
       " 'chair',\n",
       " 'table',\n",
       " 'bench',\n",
       " 'table',\n",
       " 'bed',\n",
       " 'bench',\n",
       " 'chair',\n",
       " 'bench',\n",
       " 'table',\n",
       " 'chair',\n",
       " 'bed',\n",
       " 'table',\n",
       " 'bench',\n",
       " 'chair',\n",
       " 'bed',\n",
       " 'bench',\n",
       " 'bed',\n",
       " 'table',\n",
       " 'chair',\n",
       " 'bed',\n",
       " 'chair',\n",
       " 'bench',\n",
       " 'table',\n",
       " 'chair',\n",
       " 'bench',\n",
       " 'bed',\n",
       " 'table',\n",
       " 'bench',\n",
       " 'bed',\n",
       " 'table',\n",
       " 'chair',\n",
       " 'table',\n",
       " 'bench',\n",
       " 'chair',\n",
       " 'bed',\n",
       " 'bench',\n",
       " 'bed',\n",
       " 'table',\n",
       " 'chair',\n",
       " 'bench',\n",
       " 'bed',\n",
       " 'table',\n",
       " 'chair',\n",
       " 'chair',\n",
       " 'bed',\n",
       " 'table',\n",
       " 'bench',\n",
       " 'chair',\n",
       " 'bench',\n",
       " 'bed',\n",
       " 'table',\n",
       " 'bench',\n",
       " 'table',\n",
       " 'chair',\n",
       " 'bed']"
      ]
     },
     "execution_count": 32,
     "metadata": {},
     "output_type": "execute_result"
    }
   ],
   "source": [
    "bcvar[0][0]"
   ]
  },
  {
   "cell_type": "code",
   "execution_count": 3,
   "metadata": {
    "scrolled": true
   },
   "outputs": [
    {
     "name": "stdout",
     "output_type": "stream",
     "text": [
      "conda env=/gpfs/milgram/project/turk-browne/users/kp578/CONDA/rtcloud\n"
     ]
    },
    {
     "name": "stderr",
     "output_type": "stream",
     "text": [
      "/gpfs/milgram/project/turk-browne/users/kp578/CONDA/rtcloud/lib/python3.6/site-packages/ipykernel_launcher.py:153: DeprecationWarning: get_data() is deprecated in favor of get_fdata(), which has a more predictable return type. To obtain get_data() behavior going forward, use numpy.asanyarray(img.dataobj).\n",
      "\n",
      "* deprecated from version: 3.0\n",
      "* Will raise <class 'nibabel.deprecator.ExpiredDeprecationError'> as of version: 5.0\n"
     ]
    },
    {
     "name": "stdout",
     "output_type": "stream",
     "text": [
      "best 4way classifier accuracy =  0.33125\n",
      "np.sum(chosenMask)=3294\n",
      "1--LENGTH OF TR: 80\n",
      "shape of features (80, 3294) shape of chosenMask (94, 94, 72)\n",
      "2--LENGTH OF TR: 80\n",
      "shape of features (80, 3294) shape of chosenMask (94, 94, 72)\n",
      "3--LENGTH OF TR: 80\n"
     ]
    },
    {
     "name": "stderr",
     "output_type": "stream",
     "text": [
      "/gpfs/milgram/project/turk-browne/users/kp578/CONDA/rtcloud/lib/python3.6/site-packages/scipy/stats/stats.py:2500: RuntimeWarning: invalid value encountered in true_divide\n",
      "  return (a - mns) / sstd\n"
     ]
    },
    {
     "name": "stdout",
     "output_type": "stream",
     "text": [
      "shape of features (80, 3294) shape of chosenMask (94, 94, 72)\n",
      "4--LENGTH OF TR: 80\n"
     ]
    },
    {
     "name": "stderr",
     "output_type": "stream",
     "text": [
      "/gpfs/milgram/project/turk-browne/users/kp578/CONDA/rtcloud/lib/python3.6/site-packages/scipy/stats/stats.py:2500: RuntimeWarning: invalid value encountered in true_divide\n",
      "  return (a - mns) / sstd\n"
     ]
    },
    {
     "name": "stdout",
     "output_type": "stream",
     "text": [
      "shape of features (80, 3294) shape of chosenMask (94, 94, 72)\n",
      "5--LENGTH OF TR: 80\n",
      "shape of features (80, 3294) shape of chosenMask (94, 94, 72)\n",
      "6--LENGTH OF TR: 80\n"
     ]
    },
    {
     "name": "stderr",
     "output_type": "stream",
     "text": [
      "/gpfs/milgram/project/turk-browne/users/kp578/CONDA/rtcloud/lib/python3.6/site-packages/scipy/stats/stats.py:2500: RuntimeWarning: invalid value encountered in true_divide\n",
      "  return (a - mns) / sstd\n"
     ]
    },
    {
     "name": "stdout",
     "output_type": "stream",
     "text": [
      "shape of features (80, 3294) shape of chosenMask (94, 94, 72)\n",
      "(480, 3294)\n",
      "(480, 2)\n",
      "FEAT.shape=(480, 3294)\n"
     ]
    },
    {
     "name": "stderr",
     "output_type": "stream",
     "text": [
      "/gpfs/milgram/project/turk-browne/users/kp578/CONDA/rtcloud/lib/python3.6/site-packages/scipy/stats/stats.py:2500: RuntimeWarning: invalid value encountered in true_divide\n",
      "  return (a - mns) / sstd\n"
     ]
    },
    {
     "name": "stdout",
     "output_type": "stream",
     "text": [
      "new trained 4 way classifier accuracy=0.2416666666666667\n"
     ]
    }
   ],
   "source": [
    "'''\n",
    "这个code的目的是用neurosketch 的数据来检测现在在realtime data里面发现的issue：也就是ceiling有时候竟然比floor更小\n",
    "这个code的运行逻辑是\n",
    "用neurosketch前五个run训练2 way classifiers，然后用最后一个run来计算ceiling和floor的值，看是否合理\n",
    "'''\n",
    "\n",
    "\n",
    "'''\n",
    "purpose:\n",
    "    find the best performed mask from the result of aggregate_greedy.py and save as chosenMask\n",
    "    train all possible pairs of 2way classifiers and save for evidence calculation\n",
    "    load saved classifiers and calculate different forms of evidence\n",
    "steps:\n",
    "    load the result of aggregate_greedy.py\n",
    "    display the result of aggregate_greedy.py\n",
    "    find the best performed ROI for each subject and display the accuracy of each subject, save the best performed ROI as chosenMask\n",
    "    load the functional and behavior data and choseMask and train all possible pairs of 2way classifiers\n",
    "    calculate the evidence floor and ceil for each subject and display different forms of evidences.\n",
    "    \n",
    "\n",
    "'''\n",
    "\n",
    "\n",
    "\n",
    "\n",
    "'''\n",
    "load the result of aggregate_greedy.py\n",
    "'''\n",
    "# To visualize the greedy result starting for 31 ROIs, in total 25 subjects.\n",
    "import os\n",
    "os.chdir(\"/gpfs/milgram/project/turk-browne/projects/rtTest/kp_scratch/\")\n",
    "from glob import glob\n",
    "import matplotlib.pyplot as plt\n",
    "from tqdm import tqdm\n",
    "import pickle5 as pickle\n",
    "import subprocess\n",
    "import numpy as np\n",
    "import os\n",
    "print(f\"conda env={os.environ['CONDA_DEFAULT_ENV']}\") \n",
    "import numpy as np\n",
    "import nibabel as nib\n",
    "import sys\n",
    "import time\n",
    "import pandas as pd\n",
    "from sklearn.linear_model import LogisticRegression\n",
    "import itertools\n",
    "import pickle\n",
    "import subprocess\n",
    "from subprocess import call\n",
    "workingDir=\"/gpfs/milgram/project/turk-browne/projects/rtTest/\"\n",
    "\n",
    "def save_obj(obj, name):\n",
    "    with open(name + '.pkl', 'wb') as f:\n",
    "        pickle.dump(obj, f, pickle.HIGHEST_PROTOCOL)\n",
    "def load_obj(name):\n",
    "    with open(name + '.pkl', 'rb') as f:\n",
    "        return pickle.load(f)\n",
    "roiloc=\"schaefer2018\"\n",
    "dataSource=\"neurosketch\"\n",
    "subjects_correctly_aligned=['1206161','0119173','1206162','1130161','1206163','0120171','0111171','1202161','0125172','0110172','0123173','0120173','0110171','0119172','0124171','0123171','1203161','0118172','0118171','0112171','1207162','0117171','0119174','0112173','0112172']\n",
    "subjects=subjects_correctly_aligned\n",
    "N=25\n",
    "workingPath=\"/gpfs/milgram/project/turk-browne/projects/rtTest/\"\n",
    "GreedyBestAcc=np.zeros((len(subjects),N+1))\n",
    "GreedyBestAcc[GreedyBestAcc==0]=None\n",
    "GreedyBestAcc={}\n",
    "numberOfROIs={}\n",
    "for ii,subject in enumerate(subjects):\n",
    "    # try:\n",
    "    #     GreedyBestAcc[ii,N]=np.load(workingPath+\"./{}/{}/output/uniMaskRanktag2_top{}.npy\".format(roiloc, subject, N))\n",
    "    # except:\n",
    "    #     pass\n",
    "    t=np.load(workingPath+\"./{}/{}/output/uniMaskRanktag2_top{}.npy\".format(roiloc, subject, N))\n",
    "    GreedyBestAcc[subject]=[np.float(t)]\n",
    "    numberOfROIs[subject]=[N]\n",
    "    # for len_topN_1 in range(N-1,0,-1):\n",
    "    for len_topN in range(1,N):\n",
    "        # Wait(f\"./tmp/{subject}_{N}_{roiloc}_{dataSource}_{len_topN_1}.pkl\")\n",
    "        try:\n",
    "            # {当前的被试}_{greedy开始的ROI数目，也就是25}_{mask的种类schaefer2018}_{数据来源neurosketch}_{当前的 megaROI 包含有的数目}\n",
    "            di = load_obj(f\"./tmp_folder/{subject}_{N}_{roiloc}_{dataSource}_{len_topN}\")\n",
    "            GreedyBestAcc[subject].append(np.float(di['bestAcc']))\n",
    "            numberOfROIs[subject].append(len_topN)\n",
    "            # GreedyBestAcc[ii,len_topN] = di['bestAcc']\n",
    "            \n",
    "        except:\n",
    "            pass\n",
    "\n",
    "\n",
    "# '''\n",
    "# to load the imtermediate results from greedy code to examine the system\n",
    "# '''\n",
    "# def wait(tmpFile):\n",
    "#     while not os.path.exists(tmpFile+'_result.npy'):\n",
    "#         time.sleep(5)\n",
    "#         print(f\"waiting for {tmpFile}_result.npy\\n\")\n",
    "#     return np.load(tmpFile+'_result.npy')\n",
    "\n",
    "# subject= '0119173' #sys.argv[1]\n",
    "# sub_id = [i for i,x in enumerate(subjects) if x == subject][0]\n",
    "# intermediate_result=np.zeros((N+1,N+1))\n",
    "# # 应该有多少？25个24ROI，2个1ROI，24个\n",
    "# for i in range(N,1,-1):\n",
    "#     for j in range(i):\n",
    "#         tmpFile=f\"./tmp_folder/{subject}_{N}_{roiloc}_{dataSource}_{i}_{j}\"\n",
    "#         sl_result=wait(tmpFile)\n",
    "#         intermediate_result[i,j]=sl_result\n",
    "\n",
    "# # _=plt.imshow(intermediate_result)\n",
    "# #最后一行是25个24ROI，第2行是2个1ROI\n",
    "\n",
    "'''\n",
    "display the result of aggregate_greedy.py\n",
    "'''\n",
    "# GreedyBestAcc=GreedyBestAcc.T\n",
    "# plt.imshow(GreedyBestAcc)\n",
    "# _=plt.figure()\n",
    "# for i in range(GreedyBestAcc.shape[0]):\n",
    "#     plt.scatter([i]*GreedyBestAcc.shape[1],GreedyBestAcc[i,:],c='g',s=2)\n",
    "# plt.plot(np.arange(GreedyBestAcc.shape[0]),np.nanmean(GreedyBestAcc,axis=1))\n",
    "# # plt.ylim([0.19,0.36])\n",
    "# # plt.xlabel(\"number of ROIs\")\n",
    "# # plt.ylabel(\"accuracy\")\n",
    "# _=plt.figure()\n",
    "# for j in range(GreedyBestAcc.shape[1]):\n",
    "#     plt.plot(GreedyBestAcc[:,j])\n",
    "\n",
    "\n",
    "# GreedyBestAcc=GreedyBestAcc.T\n",
    "# _=plt.figure()\n",
    "# plt.imshow(GreedyBestAcc)\n",
    "\n",
    "'''\n",
    "find the best performed ROI for each subject and display the accuracy of each subject, save the best performed ROI as chosenMask\n",
    "'''\n",
    "#find best ID for each subject\n",
    "bestID={}\n",
    "for ii,subject in enumerate(subjects):\n",
    "    t=GreedyBestAcc[subject]\n",
    "    bestID[subject] = numberOfROIs[subject][np.where(t==np.nanmax(t))[0][0]] #bestID 指的是每一个subject对应的最好的megaROI包含的ROI的数目\n",
    "chosenMask={}\n",
    "for subject in bestID:\n",
    "    # best ID  \n",
    "    # {当前的被试}_{greedy开始的ROI数目，也就是25}_{mask的种类schaefer2018}_{数据来源neurosketch}_{最好的megaROI 包含有的数目}\n",
    "    di = load_obj(f\"./tmp_folder/{subject}_{N}_{roiloc}_{dataSource}_{bestID[subject]}\")\n",
    "    chosenMask[subject] = di['bestROIs']\n",
    "\n",
    "def getMask(topN, subject):\n",
    "    workingDir=\"/gpfs/milgram/project/turk-browne/projects/rtTest/\"\n",
    "    for pn, parc in enumerate(topN):\n",
    "        _mask = nib.load(workingDir+\"/{}/{}/{}\".format(roiloc, subject, parc))\n",
    "        aff = _mask.affine\n",
    "        _mask = _mask.get_data()\n",
    "        _mask = _mask.astype(int)\n",
    "        # say some things about the mask.\n",
    "        mask = _mask if pn == 0 else mask + _mask\n",
    "        mask[mask>0] = 1\n",
    "    return mask\n",
    "for sub in chosenMask:\n",
    "    mask=getMask(chosenMask[sub], sub)\n",
    "    # if not os.path.exists(f\"{workingDir}/{roiloc}/{sub}/chosenMask.npy\"):\n",
    "    np.save(f\"{workingDir}/{roiloc}/{sub}/chosenMask\",mask)\n",
    "    \n",
    "\n",
    "from scipy.stats import zscore\n",
    "def normalize(X):\n",
    "    _X=X.copy()\n",
    "    _X = zscore(_X, axis=0)\n",
    "    _X[np.isnan(_X)]=0\n",
    "    return _X\n",
    "\n",
    "def mkdir(folder):\n",
    "    if not os.path.isdir(folder):\n",
    "        os.mkdir(folder)\n",
    "\n",
    "\n",
    "'''\n",
    "load the functional and behavior data and choseMask and train all possible pairs of 2way classifiers\n",
    "''' \n",
    "subject= '0119173' #sys.argv[1]\n",
    "sub_id = [i for i,x in enumerate(subjects) if x == subject][0]\n",
    "\n",
    "print(\"best 4way classifier accuracy = \",GreedyBestAcc[subject][bestID[subject]])\n",
    "'''\n",
    "purpose: \n",
    "    train offline models\n",
    "\n",
    "steps:\n",
    "    load preprocessed and aligned behavior and brain data \n",
    "    select data with the wanted pattern like AB AC AD BC BD CD \n",
    "    train correspondng classifier and save the classifier performance and the classifiers themselves.\n",
    "\n",
    "'''\n",
    "\n",
    "import os\n",
    "import numpy as np\n",
    "import pandas as pd\n",
    "import matplotlib.pyplot as plt\n",
    "import sklearn\n",
    "import joblib\n",
    "import nibabel as nib\n",
    "import itertools\n",
    "from sklearn.linear_model import LogisticRegression\n",
    "\n",
    "def gaussian(x, mu, sig):\n",
    "    # mu and sig is determined before each neurofeedback session using 2 recognition runs.\n",
    "    return round(1+18*(1 - np.exp(-np.power(x - mu, 2.) / (2 * np.power(sig, 2.))))) # map from (0,1) -> [1,19]\n",
    "\n",
    "def jitter(size,const=0):\n",
    "    jit = np.random.normal(0+const, 0.05, size)\n",
    "    X = np.zeros((size))\n",
    "    X = X + jit\n",
    "    return X\n",
    "\n",
    "def other(target):\n",
    "    other_objs = [i for i in ['bed', 'bench', 'chair', 'table'] if i not in target]\n",
    "    return other_objs\n",
    "\n",
    "def red_vox(n_vox, prop=0.1):\n",
    "    return int(np.ceil(n_vox * prop))\n",
    "\n",
    "def get_inds(X, Y, pair, testRun=None):\n",
    "\n",
    "    inds = {}\n",
    "\n",
    "    # return relative indices\n",
    "    if testRun:\n",
    "        trainIX = Y.index[(Y['label'].isin(pair)) & (Y['run_num'] != int(testRun))]\n",
    "    else:\n",
    "        trainIX = Y.index[(Y['label'].isin(pair))]\n",
    "\n",
    "    # pull training and test data\n",
    "    trainX = X[trainIX]\n",
    "    trainY = Y.iloc[trainIX].label\n",
    "\n",
    "    # Main classifier on 5 runs, testing on 6th\n",
    "    clf = LogisticRegression(penalty='l2',C=1, solver='lbfgs', max_iter=1000, \n",
    "                            multi_class='multinomial').fit(trainX, trainY)\n",
    "    B = clf.coef_[0]  # pull betas\n",
    "\n",
    "    # retrieve only the first object, then only the second object\n",
    "    if testRun:\n",
    "        obj1IX = Y.index[(Y['label'] == pair[0]) & (Y['run_num'] != int(testRun))]\n",
    "        obj2IX = Y.index[(Y['label'] == pair[1]) & (Y['run_num'] != int(testRun))]\n",
    "    else:\n",
    "        obj1IX = Y.index[(Y['label'] == pair[0])]\n",
    "        obj2IX = Y.index[(Y['label'] == pair[1])]\n",
    "\n",
    "    # Get the average of the first object, then the second object\n",
    "    obj1X = np.mean(X[obj1IX], 0)\n",
    "    obj2X = np.mean(X[obj2IX], 0)\n",
    "\n",
    "    # Build the importance map\n",
    "    mult1X = obj1X * B\n",
    "    mult2X = obj2X * B\n",
    "\n",
    "    # Sort these so that they are from least to most important for a given category.\n",
    "    sortmult1X = mult1X.argsort()[::-1]\n",
    "    sortmult2X = mult2X.argsort()\n",
    "\n",
    "    # add to a dictionary for later use\n",
    "    inds[clf.classes_[0]] = sortmult1X\n",
    "    inds[clf.classes_[1]] = sortmult2X\n",
    "\n",
    "    return inds\n",
    "\n",
    "if 'milgram' in os.getcwd():\n",
    "    main_dir='/gpfs/milgram/project/turk-browne/projects/rtTest/'\n",
    "else:\n",
    "    main_dir='/Users/kailong/Desktop/rtTest'\n",
    "\n",
    "working_dir=main_dir\n",
    "os.chdir(working_dir)\n",
    "\n",
    "objects = ['bed', 'bench', 'chair', 'table']\n",
    "\n",
    "\n",
    "if dataSource == \"neurosketch\":\n",
    "    funcdata = \"/gpfs/milgram/project/turk-browne/jukebox/ntb/projects/sketchloop02/subjects/{sub}_neurosketch/data/nifti/realtime_preprocessed/{sub}_neurosketch_recognition_run_{run}.nii.gz\"\n",
    "    metadata = \"/gpfs/milgram/project/turk-browne/jukebox/ntb/projects/sketchloop02/data/features/recog/metadata_{sub}_V1_{phase}.csv\"\n",
    "    anat = \"/gpfs/milgram/project/turk-browne/jukebox/ntb/projects/sketchloop02/subjects/{sub}_neurosketch/data/nifti/{sub}_neurosketch_anat_mprage_brain.nii.gz\"\n",
    "elif dataSource == \"realtime\":\n",
    "    funcdata = \"/gpfs/milgram/project/turk-browne/projects/rtcloud_kp/subjects/{sub}/ses{ses}_recognition/run0{run}/nifti/{sub}_functional.nii.gz\"\n",
    "    metadata = \"/gpfs/milgram/project/turk-browne/projects/rtcloud_kp/subjects/{sub}/ses{ses}_recognition/run0{run}/{sub}_0{run}_preprocessed_behavData.csv\"\n",
    "    anat = \"$TO_BE_FILLED\"\n",
    "else:\n",
    "    funcdata = \"/gpfs/milgram/project/turk-browne/projects/rtTest/searchout/feat/{sub}_pre.nii.gz\"\n",
    "    metadata = \"/gpfs/milgram/project/turk-browne/jukebox/ntb/projects/sketchloop02/data/features/recog/metadata_{sub}_V1_{phase}.csv\"\n",
    "    anat = \"$TO_BE_FILLED\"\n",
    "\n",
    "# print('mask dimensions: {}'. format(mask.shape))\n",
    "# print('number of voxels in mask: {}'.format(np.sum(mask)))\n",
    "phasedict = dict(zip([1,2,3,4,5,6],[\"12\", \"12\", \"34\", \"34\", \"56\", \"56\"]))\n",
    "imcodeDict={\"A\": \"bed\", \"B\": \"Chair\", \"C\": \"table\", \"D\": \"bench\"}\n",
    "chosenMask = np.load(f\"/gpfs/milgram/project/turk-browne/projects/rtTest/schaefer2018/{subject}/chosenMask.npy\")\n",
    "print(f\"np.sum(chosenMask)={np.sum(chosenMask)}\")\n",
    "# Compile preprocessed data and corresponding indices\n",
    "metas = []\n",
    "for run in range(1, 7):\n",
    "    print(run, end='--')\n",
    "    # retrieve from the dictionary which phase it is, assign the session\n",
    "    phase = phasedict[run]\n",
    "\n",
    "    # Build the path for the preprocessed functional data\n",
    "    this4d = funcdata.format(run=run, phase=phase, sub=subject)\n",
    "\n",
    "    # Read in the metadata, and reduce it to only the TR values from this run, add to a list\n",
    "    thismeta = pd.read_csv(metadata.format(run=run, phase=phase, sub=subject))\n",
    "    if dataSource == \"neurosketch\":\n",
    "        _run = 1 if run % 2 == 0 else 2\n",
    "    else:\n",
    "        _run = run\n",
    "    thismeta = thismeta[thismeta['run_num'] == int(_run)]\n",
    "\n",
    "    if dataSource == \"realtime\":\n",
    "        TR_num = list(thismeta.TR.astype(int))\n",
    "        labels = list(thismeta.Item)\n",
    "        labels = [imcodeDict[label] for label in labels]\n",
    "    else:\n",
    "        TR_num = list(thismeta.TR_num.astype(int))\n",
    "        labels = list(thismeta.label)\n",
    "\n",
    "    print(\"LENGTH OF TR: {}\".format(len(TR_num)))\n",
    "    # Load the functional data\n",
    "    runIm = nib.load(this4d)\n",
    "    affine_mat = runIm.affine\n",
    "    runImDat = runIm.get_fdata()\n",
    "\n",
    "    # Use the TR numbers to select the correct features\n",
    "    features = [runImDat[:,:,:,n+3] for n in TR_num] # here shape is from (94, 94, 72, 240) to (80, 94, 94, 72)\n",
    "    features = np.array(features)\n",
    "    features = features[:, chosenMask==1]\n",
    "    print(\"shape of features\", features.shape, \"shape of chosenMask\", chosenMask.shape)\n",
    "    features = normalize(features)\n",
    "    # features = np.expand_dims(features, 0)\n",
    "\n",
    "    # Append both so we can use it later\n",
    "    # metas.append(labels)\n",
    "    # metas['label']\n",
    "\n",
    "    t=pd.DataFrame()\n",
    "    t['label']=labels\n",
    "    t[\"run_num\"]=run\n",
    "    behav_data=t if run==1 else pd.concat([behav_data,t])\n",
    "\n",
    "    runs = features if run == 1 else np.concatenate((runs, features))\n",
    "\n",
    "dimsize = runIm.header.get_zooms()\n",
    "brain_data = runs\n",
    "print(brain_data.shape)\n",
    "print(behav_data.shape)\n",
    "FEAT=brain_data\n",
    "print(f\"FEAT.shape={FEAT.shape}\")\n",
    "META=behav_data\n",
    "\n",
    "def Class(brain_data,behav_data):\n",
    "    accs = []\n",
    "    for run in range(1,7):\n",
    "        trainIX = behav_data['run_num']!=int(run)\n",
    "        testIX = behav_data['run_num']==int(run)\n",
    "\n",
    "        trainX =  brain_data[trainIX]\n",
    "        trainY =  behav_data.iloc[np.asarray(trainIX)].label\n",
    "\n",
    "        testX =  brain_data[testIX]\n",
    "        testY =  behav_data.iloc[np.asarray(testIX)].label\n",
    "\n",
    "        clf = LogisticRegression(penalty='l2',C=1, solver='lbfgs', max_iter=1000, \n",
    "                                multi_class='multinomial').fit(trainX, trainY)\n",
    "\n",
    "        # Monitor progress by printing accuracy (only useful if you're running a test set)\n",
    "        acc = clf.score(testX, testY)\n",
    "        accs.append(acc)\n",
    "    accs\n",
    "    return np.mean(accs)\n",
    "accs=Class(brain_data,behav_data)\n",
    "print(f\"new trained 4 way classifier accuracy={accs}\")"
   ]
  },
  {
   "cell_type": "code",
   "execution_count": 39,
   "metadata": {},
   "outputs": [
    {
     "name": "stdout",
     "output_type": "stream",
     "text": [
      "(6, 80, 3294)\n",
      "run=0\n",
      "run=1\n",
      "run=2\n",
      "run=3\n",
      "run=4\n",
      "run=5\n"
     ]
    },
    {
     "data": {
      "text/plain": [
       "0.33125"
      ]
     },
     "execution_count": 39,
     "metadata": {},
     "output_type": "execute_result"
    }
   ],
   "source": [
    "\n",
    "for run in range(6):\n",
    "    t=brain_data[run*80:(run+1)*80,:]\n",
    "    t=np.expand_dims(t,0)\n",
    "    a= t if run == 0 else  np.concatenate((a, t))\n",
    "a=[a]\n",
    "\n",
    "b=[]\n",
    "for run in range(6):\n",
    "    b.append(list(behav_data[behav_data['run_num']==(run+1)].label))\n",
    "b=[b]\n",
    "\n",
    "def Class(data, bcvar):\n",
    "    metas = bcvar[0]\n",
    "    data4d = data[0]\n",
    "    print(data4d.shape)\n",
    "\n",
    "    accs = []\n",
    "    for run in range(6):\n",
    "        print(f\"run={run}\")\n",
    "        testX = data4d[run]\n",
    "        testY = metas[run]\n",
    "        trainX = data4d[np.arange(6) != run]\n",
    "        trainX = trainX.reshape(trainX.shape[0]*trainX.shape[1], -1)\n",
    "        trainY = []\n",
    "        for meta in range(6):\n",
    "            if meta != run:\n",
    "                trainY.extend(metas[run])\n",
    "        clf = LogisticRegression(penalty='l2',C=1, solver='lbfgs', max_iter=1000,\n",
    "                                 multi_class='multinomial').fit(trainX, trainY)\n",
    "\n",
    "        # Monitor progress by printing accuracy (only useful if you're running a test set)\n",
    "        acc = clf.score(testX, testY)\n",
    "        accs.append(acc)\n",
    "\n",
    "    return np.mean(accs)\n",
    "Class(a,b)"
   ]
  },
  {
   "cell_type": "code",
   "execution_count": 79,
   "metadata": {},
   "outputs": [
    {
     "name": "stdout",
     "output_type": "stream",
     "text": [
      "(6, 80, 3294)\n",
      "run=0\n",
      "run=1\n",
      "run=2\n",
      "run=3\n",
      "run=4\n",
      "run=5\n",
      "0.2416666666666667\n",
      "new trained 4 way classifier accuracy=0.2416666666666667\n"
     ]
    }
   ],
   "source": [
    "\n",
    "for run in range(6):\n",
    "    t=brain_data[run*80:(run+1)*80,:]\n",
    "    t=np.expand_dims(t,0)\n",
    "    a= t if run == 0 else  np.concatenate((a, t))\n",
    "a=[a]\n",
    "\n",
    "b=[]\n",
    "for run in range(6):\n",
    "    b.append(list(behav_data[behav_data['run_num']==(run+1)].label))\n",
    "b=[b]\n",
    "\n",
    "def Class(data, bcvar):\n",
    "    metas = bcvar[0]\n",
    "    data4d = data[0]\n",
    "    print(data4d.shape)\n",
    "\n",
    "    accs = []\n",
    "    for run in range(6):\n",
    "        print(f\"run={run}\")\n",
    "        testX = data4d[run]\n",
    "        testY = metas[run]\n",
    "        trainX = data4d[np.arange(6) != run]\n",
    "        trainX = trainX.reshape(trainX.shape[0]*trainX.shape[1], -1)\n",
    "        trainY = []\n",
    "        for meta in range(6):\n",
    "            if meta != run:\n",
    "                trainY.extend(metas[meta])\n",
    "        clf = LogisticRegression(penalty='l2',C=1, solver='lbfgs', max_iter=1000,\n",
    "                                 multi_class='multinomial').fit(trainX, trainY)\n",
    "\n",
    "        # Monitor progress by printing accuracy (only useful if you're running a test set)\n",
    "        acc = clf.score(testX, testY)\n",
    "        accs.append(acc)\n",
    "\n",
    "    return np.mean(accs)\n",
    "print(Class(a,b))\n",
    "\n",
    "\n",
    "def Class(brain_data,behav_data):\n",
    "    accs = []\n",
    "    for run in range(1,7):\n",
    "        trainIX = behav_data['run_num']!=int(run)\n",
    "        testIX = behav_data['run_num']==int(run)\n",
    "\n",
    "        trainX =  brain_data[trainIX]\n",
    "        trainY =  behav_data[np.asarray(trainIX)].label\n",
    "\n",
    "        testX =  brain_data[testIX]\n",
    "        testY =  behav_data[np.asarray(testIX)].label\n",
    "\n",
    "        clf = LogisticRegression(penalty='l2',C=1, solver='lbfgs', max_iter=1000, \n",
    "                                multi_class='multinomial').fit(trainX, trainY)\n",
    "\n",
    "        # Monitor progress by printing accuracy (only useful if you're running a test set)\n",
    "        acc = clf.score(testX, testY)\n",
    "        accs.append(acc)\n",
    "    accs\n",
    "    return np.mean(accs)\n",
    "accs=Class(brain_data,behav_data)\n",
    "print(f\"new trained 4 way classifier accuracy={accs}\")"
   ]
  },
  {
   "cell_type": "code",
   "execution_count": 78,
   "metadata": {},
   "outputs": [
    {
     "name": "stdout",
     "output_type": "stream",
     "text": [
      "(6, 80, 3294)\n",
      "run=0\n",
      "run=1\n",
      "run=2\n",
      "run=3\n",
      "run=4\n",
      "run=5\n"
     ]
    },
    {
     "data": {
      "text/plain": [
       "[0.3, 0.225, 0.1875, 0.2625, 0.2375, 0.2375]"
      ]
     },
     "execution_count": 78,
     "metadata": {},
     "output_type": "execute_result"
    }
   ],
   "source": [
    "\n",
    "for run in range(6):\n",
    "    t=brain_data[run*80:(run+1)*80,:]\n",
    "    t=np.expand_dims(t,0)\n",
    "    a= t if run == 0 else  np.concatenate((a, t))\n",
    "a=[a]\n",
    "\n",
    "b=[]\n",
    "for run in range(6):\n",
    "    b.append(list(behav_data[behav_data['run_num']==(run+1)].label))\n",
    "b=[b]\n",
    "\n",
    "data, bcvar=a,b\n",
    "metas = bcvar[0]\n",
    "data4d = data[0]\n",
    "print(data4d.shape)\n",
    "\n",
    "accs = []\n",
    "for run in range(6):\n",
    "    print(f\"run={run}\")\n",
    "    testX = data4d[run]\n",
    "    testY = metas[run]\n",
    "    trainX = data4d[np.arange(6) != run]\n",
    "    trainX = trainX.reshape(trainX.shape[0]*trainX.shape[1], -1)\n",
    "    trainY = []\n",
    "    for meta in range(6):\n",
    "        if meta != run:\n",
    "            trainY.extend(metas[meta])\n",
    "    clf = LogisticRegression(penalty='l2',C=1, solver='lbfgs', max_iter=1000,\n",
    "                             multi_class='multinomial').fit(trainX, trainY)\n",
    "\n",
    "    # Monitor progress by printing accuracy (only useful if you're running a test set)\n",
    "    acc = clf.score(testX, testY)\n",
    "    accs.append(acc)\n",
    "accs"
   ]
  },
  {
   "cell_type": "code",
   "execution_count": 76,
   "metadata": {},
   "outputs": [
    {
     "data": {
      "text/html": [
       "<div>\n",
       "<style scoped>\n",
       "    .dataframe tbody tr th:only-of-type {\n",
       "        vertical-align: middle;\n",
       "    }\n",
       "\n",
       "    .dataframe tbody tr th {\n",
       "        vertical-align: top;\n",
       "    }\n",
       "\n",
       "    .dataframe thead th {\n",
       "        text-align: right;\n",
       "    }\n",
       "</style>\n",
       "<table border=\"1\" class=\"dataframe\">\n",
       "  <thead>\n",
       "    <tr style=\"text-align: right;\">\n",
       "      <th></th>\n",
       "      <th>label</th>\n",
       "      <th>run_num</th>\n",
       "    </tr>\n",
       "  </thead>\n",
       "  <tbody>\n",
       "    <tr>\n",
       "      <th>0</th>\n",
       "      <td>bed</td>\n",
       "      <td>1</td>\n",
       "    </tr>\n",
       "    <tr>\n",
       "      <th>1</th>\n",
       "      <td>bench</td>\n",
       "      <td>1</td>\n",
       "    </tr>\n",
       "    <tr>\n",
       "      <th>2</th>\n",
       "      <td>chair</td>\n",
       "      <td>1</td>\n",
       "    </tr>\n",
       "    <tr>\n",
       "      <th>3</th>\n",
       "      <td>table</td>\n",
       "      <td>1</td>\n",
       "    </tr>\n",
       "    <tr>\n",
       "      <th>4</th>\n",
       "      <td>table</td>\n",
       "      <td>1</td>\n",
       "    </tr>\n",
       "    <tr>\n",
       "      <th>...</th>\n",
       "      <td>...</td>\n",
       "      <td>...</td>\n",
       "    </tr>\n",
       "    <tr>\n",
       "      <th>75</th>\n",
       "      <td>chair</td>\n",
       "      <td>6</td>\n",
       "    </tr>\n",
       "    <tr>\n",
       "      <th>76</th>\n",
       "      <td>chair</td>\n",
       "      <td>6</td>\n",
       "    </tr>\n",
       "    <tr>\n",
       "      <th>77</th>\n",
       "      <td>bench</td>\n",
       "      <td>6</td>\n",
       "    </tr>\n",
       "    <tr>\n",
       "      <th>78</th>\n",
       "      <td>table</td>\n",
       "      <td>6</td>\n",
       "    </tr>\n",
       "    <tr>\n",
       "      <th>79</th>\n",
       "      <td>bed</td>\n",
       "      <td>6</td>\n",
       "    </tr>\n",
       "  </tbody>\n",
       "</table>\n",
       "<p>480 rows × 2 columns</p>\n",
       "</div>"
      ],
      "text/plain": [
       "    label  run_num\n",
       "0     bed        1\n",
       "1   bench        1\n",
       "2   chair        1\n",
       "3   table        1\n",
       "4   table        1\n",
       "..    ...      ...\n",
       "75  chair        6\n",
       "76  chair        6\n",
       "77  bench        6\n",
       "78  table        6\n",
       "79    bed        6\n",
       "\n",
       "[480 rows x 2 columns]"
      ]
     },
     "execution_count": 76,
     "metadata": {},
     "output_type": "execute_result"
    }
   ],
   "source": [
    "# for a,b in zip(trainY,_trainY):\n",
    "#     print(a==b)\n",
    "run=2\n",
    "behav_data['run_num']==run\n",
    "\n"
   ]
  },
  {
   "cell_type": "code",
   "execution_count": 77,
   "metadata": {},
   "outputs": [
    {
     "data": {
      "text/plain": [
       "['bed',\n",
       " 'bench',\n",
       " 'chair',\n",
       " 'table',\n",
       " 'table',\n",
       " 'bench',\n",
       " 'bed',\n",
       " 'chair',\n",
       " 'table',\n",
       " 'bench',\n",
       " 'bed',\n",
       " 'chair',\n",
       " 'chair',\n",
       " 'bed',\n",
       " 'table',\n",
       " 'bench',\n",
       " 'bed',\n",
       " 'bench',\n",
       " 'chair',\n",
       " 'table',\n",
       " 'table',\n",
       " 'bed',\n",
       " 'bench',\n",
       " 'chair',\n",
       " 'bed',\n",
       " 'chair',\n",
       " 'table',\n",
       " 'bench',\n",
       " 'table',\n",
       " 'bed',\n",
       " 'bench',\n",
       " 'chair',\n",
       " 'bench',\n",
       " 'table',\n",
       " 'chair',\n",
       " 'bed',\n",
       " 'table',\n",
       " 'bench',\n",
       " 'chair',\n",
       " 'bed',\n",
       " 'bench',\n",
       " 'bed',\n",
       " 'table',\n",
       " 'chair',\n",
       " 'bed',\n",
       " 'chair',\n",
       " 'bench',\n",
       " 'table',\n",
       " 'chair',\n",
       " 'bench',\n",
       " 'bed',\n",
       " 'table',\n",
       " 'bench',\n",
       " 'bed',\n",
       " 'table',\n",
       " 'chair',\n",
       " 'table',\n",
       " 'bench',\n",
       " 'chair',\n",
       " 'bed',\n",
       " 'bench',\n",
       " 'bed',\n",
       " 'table',\n",
       " 'chair',\n",
       " 'bench',\n",
       " 'bed',\n",
       " 'table',\n",
       " 'chair',\n",
       " 'chair',\n",
       " 'bed',\n",
       " 'table',\n",
       " 'bench',\n",
       " 'chair',\n",
       " 'bench',\n",
       " 'bed',\n",
       " 'table',\n",
       " 'bench',\n",
       " 'table',\n",
       " 'chair',\n",
       " 'bed',\n",
       " 'bed',\n",
       " 'table',\n",
       " 'bench',\n",
       " 'chair',\n",
       " 'chair',\n",
       " 'bench',\n",
       " 'table',\n",
       " 'bed',\n",
       " 'bench',\n",
       " 'chair',\n",
       " 'table',\n",
       " 'bed',\n",
       " 'chair',\n",
       " 'table',\n",
       " 'bench',\n",
       " 'bed',\n",
       " 'bench',\n",
       " 'bed',\n",
       " 'chair',\n",
       " 'table',\n",
       " 'chair',\n",
       " 'table',\n",
       " 'bench',\n",
       " 'bed',\n",
       " 'bed',\n",
       " 'bench',\n",
       " 'table',\n",
       " 'chair',\n",
       " 'chair',\n",
       " 'bench',\n",
       " 'bed',\n",
       " 'table',\n",
       " 'table',\n",
       " 'bed',\n",
       " 'chair',\n",
       " 'bench',\n",
       " 'chair',\n",
       " 'table',\n",
       " 'bench',\n",
       " 'bed',\n",
       " 'table',\n",
       " 'chair',\n",
       " 'bed',\n",
       " 'bench',\n",
       " 'table',\n",
       " 'bed',\n",
       " 'bench',\n",
       " 'chair',\n",
       " 'bed',\n",
       " 'bench',\n",
       " 'table',\n",
       " 'chair',\n",
       " 'table',\n",
       " 'bed',\n",
       " 'chair',\n",
       " 'bench',\n",
       " 'table',\n",
       " 'bench',\n",
       " 'bed',\n",
       " 'chair',\n",
       " 'bed',\n",
       " 'table',\n",
       " 'chair',\n",
       " 'bench',\n",
       " 'bench',\n",
       " 'bed',\n",
       " 'table',\n",
       " 'chair',\n",
       " 'bench',\n",
       " 'chair',\n",
       " 'table',\n",
       " 'bed',\n",
       " 'chair',\n",
       " 'bench',\n",
       " 'table',\n",
       " 'bed',\n",
       " 'bench',\n",
       " 'chair',\n",
       " 'table',\n",
       " 'bed',\n",
       " 'bed',\n",
       " 'chair',\n",
       " 'table',\n",
       " 'bench',\n",
       " 'table',\n",
       " 'bed',\n",
       " 'bench',\n",
       " 'chair',\n",
       " 'bench',\n",
       " 'table',\n",
       " 'bed',\n",
       " 'chair',\n",
       " 'chair',\n",
       " 'table',\n",
       " 'bed',\n",
       " 'bench',\n",
       " 'chair',\n",
       " 'table',\n",
       " 'bed',\n",
       " 'bench',\n",
       " 'bed',\n",
       " 'chair',\n",
       " 'bench',\n",
       " 'table',\n",
       " 'chair',\n",
       " 'table',\n",
       " 'bed',\n",
       " 'bench',\n",
       " 'table',\n",
       " 'bed',\n",
       " 'bench',\n",
       " 'chair',\n",
       " 'table',\n",
       " 'bench',\n",
       " 'chair',\n",
       " 'bed',\n",
       " 'chair',\n",
       " 'table',\n",
       " 'bed',\n",
       " 'bench',\n",
       " 'bed',\n",
       " 'chair',\n",
       " 'bench',\n",
       " 'table',\n",
       " 'bed',\n",
       " 'chair',\n",
       " 'table',\n",
       " 'bench',\n",
       " 'chair',\n",
       " 'bench',\n",
       " 'bed',\n",
       " 'table',\n",
       " 'bench',\n",
       " 'table',\n",
       " 'chair',\n",
       " 'bed',\n",
       " 'chair',\n",
       " 'bench',\n",
       " 'bed',\n",
       " 'table',\n",
       " 'table',\n",
       " 'chair',\n",
       " 'bench',\n",
       " 'bed',\n",
       " 'bench',\n",
       " 'table',\n",
       " 'bed',\n",
       " 'chair',\n",
       " 'chair',\n",
       " 'bed',\n",
       " 'bench',\n",
       " 'table',\n",
       " 'chair',\n",
       " 'bed',\n",
       " 'bench',\n",
       " 'table',\n",
       " 'table',\n",
       " 'chair',\n",
       " 'bench',\n",
       " 'bed',\n",
       " 'bed',\n",
       " 'bench',\n",
       " 'chair',\n",
       " 'table',\n",
       " 'table',\n",
       " 'bench',\n",
       " 'bed',\n",
       " 'chair',\n",
       " 'table',\n",
       " 'bench',\n",
       " 'bed',\n",
       " 'chair',\n",
       " 'chair',\n",
       " 'bed',\n",
       " 'table',\n",
       " 'bench',\n",
       " 'bed',\n",
       " 'bench',\n",
       " 'chair',\n",
       " 'table',\n",
       " 'table',\n",
       " 'bed',\n",
       " 'bench',\n",
       " 'chair',\n",
       " 'bed',\n",
       " 'chair',\n",
       " 'table',\n",
       " 'bench',\n",
       " 'table',\n",
       " 'bed',\n",
       " 'bench',\n",
       " 'chair',\n",
       " 'bench',\n",
       " 'table',\n",
       " 'chair',\n",
       " 'bed',\n",
       " 'table',\n",
       " 'bench',\n",
       " 'chair',\n",
       " 'bed',\n",
       " 'bench',\n",
       " 'bed',\n",
       " 'table',\n",
       " 'chair',\n",
       " 'bed',\n",
       " 'chair',\n",
       " 'bench',\n",
       " 'table',\n",
       " 'chair',\n",
       " 'bench',\n",
       " 'bed',\n",
       " 'table',\n",
       " 'bench',\n",
       " 'bed',\n",
       " 'table',\n",
       " 'chair',\n",
       " 'table',\n",
       " 'bench',\n",
       " 'chair',\n",
       " 'bed',\n",
       " 'bench',\n",
       " 'bed',\n",
       " 'table',\n",
       " 'chair',\n",
       " 'bench',\n",
       " 'bed',\n",
       " 'table',\n",
       " 'chair',\n",
       " 'chair',\n",
       " 'bed',\n",
       " 'table',\n",
       " 'bench',\n",
       " 'chair',\n",
       " 'bench',\n",
       " 'bed',\n",
       " 'table',\n",
       " 'bench',\n",
       " 'table',\n",
       " 'chair',\n",
       " 'bed',\n",
       " 'bed',\n",
       " 'table',\n",
       " 'chair',\n",
       " 'bench',\n",
       " 'bed',\n",
       " 'table',\n",
       " 'bench',\n",
       " 'chair',\n",
       " 'bed',\n",
       " 'table',\n",
       " 'chair',\n",
       " 'bench',\n",
       " 'chair',\n",
       " 'table',\n",
       " 'bed',\n",
       " 'bench',\n",
       " 'bench',\n",
       " 'chair',\n",
       " 'table',\n",
       " 'bed',\n",
       " 'chair',\n",
       " 'bed',\n",
       " 'bench',\n",
       " 'table',\n",
       " 'bench',\n",
       " 'chair',\n",
       " 'bed',\n",
       " 'table',\n",
       " 'chair',\n",
       " 'table',\n",
       " 'bench',\n",
       " 'bed',\n",
       " 'chair',\n",
       " 'bench',\n",
       " 'bed',\n",
       " 'table',\n",
       " 'bench',\n",
       " 'bed',\n",
       " 'chair',\n",
       " 'table',\n",
       " 'bed',\n",
       " 'bench',\n",
       " 'table',\n",
       " 'chair',\n",
       " 'bench',\n",
       " 'chair',\n",
       " 'bed',\n",
       " 'table',\n",
       " 'table',\n",
       " 'bed',\n",
       " 'bench',\n",
       " 'chair',\n",
       " 'chair',\n",
       " 'table',\n",
       " 'bench',\n",
       " 'bed',\n",
       " 'bed',\n",
       " 'bench',\n",
       " 'table',\n",
       " 'chair',\n",
       " 'table',\n",
       " 'chair',\n",
       " 'bed',\n",
       " 'bench',\n",
       " 'bed',\n",
       " 'bench',\n",
       " 'table',\n",
       " 'chair',\n",
       " 'bed',\n",
       " 'table',\n",
       " 'chair',\n",
       " 'bench',\n",
       " 'bed',\n",
       " 'table',\n",
       " 'bench',\n",
       " 'chair',\n",
       " 'chair',\n",
       " 'bench',\n",
       " 'table',\n",
       " 'bed']"
      ]
     },
     "execution_count": 77,
     "metadata": {},
     "output_type": "execute_result"
    }
   ],
   "source": [
    "trainIX = behav_data['run_num']!=run\n",
    "testIX = behav_data['run_num']==run\n",
    "trainX =  brain_data[trainIX]\n",
    "trainY =  list(behav_data[trainIX].label)\n",
    "\n",
    "trainY\n"
   ]
  },
  {
   "cell_type": "code",
   "execution_count": 104,
   "metadata": {
    "scrolled": true
   },
   "outputs": [
    {
     "name": "stdout",
     "output_type": "stream",
     "text": [
      "conda env=/gpfs/milgram/project/turk-browne/users/kp578/CONDA/rtcloud\n",
      "Running subject 0119173, with neurosketch as a data source, schaefer2018, starting with 25 ROIs\n",
      "RESULT.shape=(300,)\n",
      "len(topN)=25\n",
      "topN=['225.nii.gz', '19.nii.gz', '58.nii.gz', '150.nii.gz', '232.nii.gz', '234.nii.gz', '108.nii.gz', '107.nii.gz', '102.nii.gz', '86.nii.gz', '238.nii.gz', '190.nii.gz', '230.nii.gz', '138.nii.gz', '166.nii.gz', '221.nii.gz', '265.nii.gz', '280.nii.gz', '236.nii.gz', '244.nii.gz', '167.nii.gz', '243.nii.gz', '205.nii.gz', '39.nii.gz', '271.nii.gz']\n"
     ]
    },
    {
     "name": "stderr",
     "output_type": "stream",
     "text": [
      "/gpfs/milgram/project/turk-browne/users/kp578/CONDA/rtcloud/lib/python3.6/site-packages/ipykernel_launcher.py:180: DeprecationWarning: get_data() is deprecated in favor of get_fdata(), which has a more predictable return type. To obtain get_data() behavior going forward, use numpy.asanyarray(img.dataobj).\n",
      "\n",
      "* deprecated from version: 3.0\n",
      "* Will raise <class 'nibabel.deprecator.ExpiredDeprecationError'> as of version: 5.0\n"
     ]
    },
    {
     "name": "stdout",
     "output_type": "stream",
     "text": [
      "mask dimensions: (94, 94, 72)\n",
      "number of voxels in mask: 7795\n",
      "1--LENGTH OF TR: 80\n"
     ]
    },
    {
     "name": "stderr",
     "output_type": "stream",
     "text": [
      "/gpfs/milgram/project/turk-browne/users/kp578/CONDA/rtcloud/lib/python3.6/site-packages/ipykernel_launcher.py:223: DeprecationWarning: get_data() is deprecated in favor of get_fdata(), which has a more predictable return type. To obtain get_data() behavior going forward, use numpy.asanyarray(img.dataobj).\n",
      "\n",
      "* deprecated from version: 3.0\n",
      "* Will raise <class 'nibabel.deprecator.ExpiredDeprecationError'> as of version: 5.0\n"
     ]
    },
    {
     "name": "stdout",
     "output_type": "stream",
     "text": [
      "shape of features (80, 94, 94, 72) shape of mask (94, 94, 72)\n"
     ]
    },
    {
     "name": "stderr",
     "output_type": "stream",
     "text": [
      "/gpfs/milgram/project/turk-browne/users/kp578/CONDA/rtcloud/lib/python3.6/site-packages/scipy/stats/stats.py:2500: RuntimeWarning: invalid value encountered in true_divide\n",
      "  return (a - mns) / sstd\n",
      "/gpfs/milgram/project/turk-browne/users/kp578/CONDA/rtcloud/lib/python3.6/site-packages/ipykernel_launcher.py:223: DeprecationWarning: get_data() is deprecated in favor of get_fdata(), which has a more predictable return type. To obtain get_data() behavior going forward, use numpy.asanyarray(img.dataobj).\n",
      "\n",
      "* deprecated from version: 3.0\n",
      "* Will raise <class 'nibabel.deprecator.ExpiredDeprecationError'> as of version: 5.0\n"
     ]
    },
    {
     "name": "stdout",
     "output_type": "stream",
     "text": [
      "2--LENGTH OF TR: 80\n",
      "shape of features (80, 94, 94, 72) shape of mask (94, 94, 72)\n"
     ]
    },
    {
     "name": "stderr",
     "output_type": "stream",
     "text": [
      "/gpfs/milgram/project/turk-browne/users/kp578/CONDA/rtcloud/lib/python3.6/site-packages/scipy/stats/stats.py:2500: RuntimeWarning: invalid value encountered in true_divide\n",
      "  return (a - mns) / sstd\n"
     ]
    },
    {
     "name": "stdout",
     "output_type": "stream",
     "text": [
      "3--LENGTH OF TR: 80\n"
     ]
    },
    {
     "name": "stderr",
     "output_type": "stream",
     "text": [
      "/gpfs/milgram/project/turk-browne/users/kp578/CONDA/rtcloud/lib/python3.6/site-packages/ipykernel_launcher.py:223: DeprecationWarning: get_data() is deprecated in favor of get_fdata(), which has a more predictable return type. To obtain get_data() behavior going forward, use numpy.asanyarray(img.dataobj).\n",
      "\n",
      "* deprecated from version: 3.0\n",
      "* Will raise <class 'nibabel.deprecator.ExpiredDeprecationError'> as of version: 5.0\n"
     ]
    },
    {
     "name": "stdout",
     "output_type": "stream",
     "text": [
      "shape of features (80, 94, 94, 72) shape of mask (94, 94, 72)\n"
     ]
    },
    {
     "name": "stderr",
     "output_type": "stream",
     "text": [
      "/gpfs/milgram/project/turk-browne/users/kp578/CONDA/rtcloud/lib/python3.6/site-packages/scipy/stats/stats.py:2500: RuntimeWarning: invalid value encountered in true_divide\n",
      "  return (a - mns) / sstd\n"
     ]
    },
    {
     "name": "stdout",
     "output_type": "stream",
     "text": [
      "4--LENGTH OF TR: 80\n"
     ]
    },
    {
     "name": "stderr",
     "output_type": "stream",
     "text": [
      "/gpfs/milgram/project/turk-browne/users/kp578/CONDA/rtcloud/lib/python3.6/site-packages/ipykernel_launcher.py:223: DeprecationWarning: get_data() is deprecated in favor of get_fdata(), which has a more predictable return type. To obtain get_data() behavior going forward, use numpy.asanyarray(img.dataobj).\n",
      "\n",
      "* deprecated from version: 3.0\n",
      "* Will raise <class 'nibabel.deprecator.ExpiredDeprecationError'> as of version: 5.0\n"
     ]
    },
    {
     "name": "stdout",
     "output_type": "stream",
     "text": [
      "shape of features (80, 94, 94, 72) shape of mask (94, 94, 72)\n"
     ]
    },
    {
     "name": "stderr",
     "output_type": "stream",
     "text": [
      "/gpfs/milgram/project/turk-browne/users/kp578/CONDA/rtcloud/lib/python3.6/site-packages/scipy/stats/stats.py:2500: RuntimeWarning: invalid value encountered in true_divide\n",
      "  return (a - mns) / sstd\n"
     ]
    },
    {
     "name": "stdout",
     "output_type": "stream",
     "text": [
      "5--LENGTH OF TR: 80\n"
     ]
    },
    {
     "name": "stderr",
     "output_type": "stream",
     "text": [
      "/gpfs/milgram/project/turk-browne/users/kp578/CONDA/rtcloud/lib/python3.6/site-packages/ipykernel_launcher.py:223: DeprecationWarning: get_data() is deprecated in favor of get_fdata(), which has a more predictable return type. To obtain get_data() behavior going forward, use numpy.asanyarray(img.dataobj).\n",
      "\n",
      "* deprecated from version: 3.0\n",
      "* Will raise <class 'nibabel.deprecator.ExpiredDeprecationError'> as of version: 5.0\n"
     ]
    },
    {
     "name": "stdout",
     "output_type": "stream",
     "text": [
      "shape of features (80, 94, 94, 72) shape of mask (94, 94, 72)\n"
     ]
    },
    {
     "name": "stderr",
     "output_type": "stream",
     "text": [
      "/gpfs/milgram/project/turk-browne/users/kp578/CONDA/rtcloud/lib/python3.6/site-packages/scipy/stats/stats.py:2500: RuntimeWarning: invalid value encountered in true_divide\n",
      "  return (a - mns) / sstd\n"
     ]
    },
    {
     "name": "stdout",
     "output_type": "stream",
     "text": [
      "6--LENGTH OF TR: 80\n"
     ]
    },
    {
     "name": "stderr",
     "output_type": "stream",
     "text": [
      "/gpfs/milgram/project/turk-browne/users/kp578/CONDA/rtcloud/lib/python3.6/site-packages/ipykernel_launcher.py:223: DeprecationWarning: get_data() is deprecated in favor of get_fdata(), which has a more predictable return type. To obtain get_data() behavior going forward, use numpy.asanyarray(img.dataobj).\n",
      "\n",
      "* deprecated from version: 3.0\n",
      "* Will raise <class 'nibabel.deprecator.ExpiredDeprecationError'> as of version: 5.0\n"
     ]
    },
    {
     "name": "stdout",
     "output_type": "stream",
     "text": [
      "shape of features (80, 94, 94, 72) shape of mask (94, 94, 72)\n"
     ]
    },
    {
     "name": "stderr",
     "output_type": "stream",
     "text": [
      "/gpfs/milgram/project/turk-browne/users/kp578/CONDA/rtcloud/lib/python3.6/site-packages/scipy/stats/stats.py:2500: RuntimeWarning: invalid value encountered in true_divide\n",
      "  return (a - mns) / sstd\n"
     ]
    },
    {
     "name": "stdout",
     "output_type": "stream",
     "text": [
      "Runs shape (6, 80, 94, 94, 72)\n",
      "len(topN)=25\n",
      "topN=['225.nii.gz', '19.nii.gz', '58.nii.gz', '150.nii.gz', '232.nii.gz', '234.nii.gz', '108.nii.gz', '107.nii.gz', '102.nii.gz', '86.nii.gz', '238.nii.gz', '190.nii.gz', '230.nii.gz', '138.nii.gz', '166.nii.gz', '221.nii.gz', '265.nii.gz', '280.nii.gz', '236.nii.gz', '244.nii.gz', '167.nii.gz', '243.nii.gz', '205.nii.gz', '39.nii.gz', '271.nii.gz']\n",
      "tmpFile=./tmp__folder/0119173_25_schaefer2018_neurosketch_25_0\n",
      "./tmp__folder/0119173_25_schaefer2018_neurosketch_25_0_result.npy exists!\n",
      "tmpFile=./tmp__folder/0119173_25_schaefer2018_neurosketch_25_1\n",
      "./tmp__folder/0119173_25_schaefer2018_neurosketch_25_1_result.npy exists!\n",
      "tmpFile=./tmp__folder/0119173_25_schaefer2018_neurosketch_25_2\n",
      "./tmp__folder/0119173_25_schaefer2018_neurosketch_25_2_result.npy exists!\n",
      "tmpFile=./tmp__folder/0119173_25_schaefer2018_neurosketch_25_3\n",
      "./tmp__folder/0119173_25_schaefer2018_neurosketch_25_3_result.npy exists!\n",
      "tmpFile=./tmp__folder/0119173_25_schaefer2018_neurosketch_25_4\n",
      "./tmp__folder/0119173_25_schaefer2018_neurosketch_25_4_result.npy exists!\n",
      "tmpFile=./tmp__folder/0119173_25_schaefer2018_neurosketch_25_5\n",
      "./tmp__folder/0119173_25_schaefer2018_neurosketch_25_5_result.npy exists!\n",
      "tmpFile=./tmp__folder/0119173_25_schaefer2018_neurosketch_25_6\n",
      "./tmp__folder/0119173_25_schaefer2018_neurosketch_25_6_result.npy exists!\n",
      "tmpFile=./tmp__folder/0119173_25_schaefer2018_neurosketch_25_7\n",
      "./tmp__folder/0119173_25_schaefer2018_neurosketch_25_7_result.npy exists!\n",
      "tmpFile=./tmp__folder/0119173_25_schaefer2018_neurosketch_25_8\n",
      "./tmp__folder/0119173_25_schaefer2018_neurosketch_25_8_result.npy exists!\n",
      "tmpFile=./tmp__folder/0119173_25_schaefer2018_neurosketch_25_9\n",
      "./tmp__folder/0119173_25_schaefer2018_neurosketch_25_9_result.npy exists!\n",
      "tmpFile=./tmp__folder/0119173_25_schaefer2018_neurosketch_25_10\n",
      "kp2\n",
      "kp3\n",
      "tmpFile=./tmp__folder/0119173_25_schaefer2018_neurosketch_25_10\n"
     ]
    },
    {
     "name": "stderr",
     "output_type": "stream",
     "text": [
      "/gpfs/milgram/project/turk-browne/users/kp578/CONDA/rtcloud/lib/python3.6/site-packages/ipykernel_launcher.py:180: DeprecationWarning: get_data() is deprecated in favor of get_fdata(), which has a more predictable return type. To obtain get_data() behavior going forward, use numpy.asanyarray(img.dataobj).\n",
      "\n",
      "* deprecated from version: 3.0\n",
      "* Will raise <class 'nibabel.deprecator.ExpiredDeprecationError'> as of version: 5.0\n"
     ]
    },
    {
     "name": "stdout",
     "output_type": "stream",
     "text": [
      "mask dimensions: (94, 94, 72)\n",
      "number of voxels in mask: 7540\n",
      "Runs shape (6, 80, 7540)\n",
      "(6, 80, 7540)\n",
      "sl_result=0.28958333333333336\n",
      "kp6\n",
      "tmpFile=./tmp__folder/0119173_25_schaefer2018_neurosketch_25_11\n",
      "kp2\n",
      "kp3\n",
      "tmpFile=./tmp__folder/0119173_25_schaefer2018_neurosketch_25_11\n"
     ]
    },
    {
     "name": "stderr",
     "output_type": "stream",
     "text": [
      "/gpfs/milgram/project/turk-browne/users/kp578/CONDA/rtcloud/lib/python3.6/site-packages/ipykernel_launcher.py:180: DeprecationWarning: get_data() is deprecated in favor of get_fdata(), which has a more predictable return type. To obtain get_data() behavior going forward, use numpy.asanyarray(img.dataobj).\n",
      "\n",
      "* deprecated from version: 3.0\n",
      "* Will raise <class 'nibabel.deprecator.ExpiredDeprecationError'> as of version: 5.0\n"
     ]
    },
    {
     "name": "stdout",
     "output_type": "stream",
     "text": [
      "mask dimensions: (94, 94, 72)\n",
      "number of voxels in mask: 7383\n",
      "Runs shape (6, 80, 7383)\n",
      "(6, 80, 7383)\n",
      "sl_result=0.275\n",
      "kp6\n",
      "tmpFile=./tmp__folder/0119173_25_schaefer2018_neurosketch_25_12\n",
      "kp2\n",
      "kp3\n",
      "tmpFile=./tmp__folder/0119173_25_schaefer2018_neurosketch_25_12\n"
     ]
    },
    {
     "name": "stderr",
     "output_type": "stream",
     "text": [
      "/gpfs/milgram/project/turk-browne/users/kp578/CONDA/rtcloud/lib/python3.6/site-packages/ipykernel_launcher.py:180: DeprecationWarning: get_data() is deprecated in favor of get_fdata(), which has a more predictable return type. To obtain get_data() behavior going forward, use numpy.asanyarray(img.dataobj).\n",
      "\n",
      "* deprecated from version: 3.0\n",
      "* Will raise <class 'nibabel.deprecator.ExpiredDeprecationError'> as of version: 5.0\n"
     ]
    },
    {
     "name": "stdout",
     "output_type": "stream",
     "text": [
      "mask dimensions: (94, 94, 72)\n",
      "number of voxels in mask: 7573\n",
      "Runs shape (6, 80, 7573)\n",
      "(6, 80, 7573)\n",
      "sl_result=0.29583333333333334\n",
      "kp6\n",
      "tmpFile=./tmp__folder/0119173_25_schaefer2018_neurosketch_25_13\n",
      "kp2\n",
      "kp3\n",
      "tmpFile=./tmp__folder/0119173_25_schaefer2018_neurosketch_25_13\n"
     ]
    },
    {
     "name": "stderr",
     "output_type": "stream",
     "text": [
      "/gpfs/milgram/project/turk-browne/users/kp578/CONDA/rtcloud/lib/python3.6/site-packages/ipykernel_launcher.py:180: DeprecationWarning: get_data() is deprecated in favor of get_fdata(), which has a more predictable return type. To obtain get_data() behavior going forward, use numpy.asanyarray(img.dataobj).\n",
      "\n",
      "* deprecated from version: 3.0\n",
      "* Will raise <class 'nibabel.deprecator.ExpiredDeprecationError'> as of version: 5.0\n"
     ]
    },
    {
     "name": "stdout",
     "output_type": "stream",
     "text": [
      "mask dimensions: (94, 94, 72)\n",
      "number of voxels in mask: 7559\n",
      "Runs shape (6, 80, 7559)\n",
      "(6, 80, 7559)\n",
      "sl_result=0.28750000000000003\n",
      "kp6\n",
      "tmpFile=./tmp__folder/0119173_25_schaefer2018_neurosketch_25_14\n",
      "kp2\n",
      "kp3\n",
      "tmpFile=./tmp__folder/0119173_25_schaefer2018_neurosketch_25_14\n"
     ]
    },
    {
     "name": "stderr",
     "output_type": "stream",
     "text": [
      "/gpfs/milgram/project/turk-browne/users/kp578/CONDA/rtcloud/lib/python3.6/site-packages/ipykernel_launcher.py:180: DeprecationWarning: get_data() is deprecated in favor of get_fdata(), which has a more predictable return type. To obtain get_data() behavior going forward, use numpy.asanyarray(img.dataobj).\n",
      "\n",
      "* deprecated from version: 3.0\n",
      "* Will raise <class 'nibabel.deprecator.ExpiredDeprecationError'> as of version: 5.0\n"
     ]
    },
    {
     "name": "stdout",
     "output_type": "stream",
     "text": [
      "mask dimensions: (94, 94, 72)\n",
      "number of voxels in mask: 7507\n",
      "Runs shape (6, 80, 7507)\n",
      "(6, 80, 7507)\n",
      "sl_result=0.28958333333333336\n",
      "kp6\n",
      "tmpFile=./tmp__folder/0119173_25_schaefer2018_neurosketch_25_15\n",
      "kp2\n",
      "kp3\n",
      "tmpFile=./tmp__folder/0119173_25_schaefer2018_neurosketch_25_15\n"
     ]
    },
    {
     "name": "stderr",
     "output_type": "stream",
     "text": [
      "/gpfs/milgram/project/turk-browne/users/kp578/CONDA/rtcloud/lib/python3.6/site-packages/ipykernel_launcher.py:180: DeprecationWarning: get_data() is deprecated in favor of get_fdata(), which has a more predictable return type. To obtain get_data() behavior going forward, use numpy.asanyarray(img.dataobj).\n",
      "\n",
      "* deprecated from version: 3.0\n",
      "* Will raise <class 'nibabel.deprecator.ExpiredDeprecationError'> as of version: 5.0\n"
     ]
    },
    {
     "name": "stdout",
     "output_type": "stream",
     "text": [
      "mask dimensions: (94, 94, 72)\n",
      "number of voxels in mask: 7428\n",
      "Runs shape (6, 80, 7428)\n",
      "(6, 80, 7428)\n",
      "sl_result=0.26249999999999996\n",
      "kp6\n",
      "tmpFile=./tmp__folder/0119173_25_schaefer2018_neurosketch_25_16\n",
      "kp2\n",
      "kp3\n",
      "tmpFile=./tmp__folder/0119173_25_schaefer2018_neurosketch_25_16\n"
     ]
    },
    {
     "name": "stderr",
     "output_type": "stream",
     "text": [
      "/gpfs/milgram/project/turk-browne/users/kp578/CONDA/rtcloud/lib/python3.6/site-packages/ipykernel_launcher.py:180: DeprecationWarning: get_data() is deprecated in favor of get_fdata(), which has a more predictable return type. To obtain get_data() behavior going forward, use numpy.asanyarray(img.dataobj).\n",
      "\n",
      "* deprecated from version: 3.0\n",
      "* Will raise <class 'nibabel.deprecator.ExpiredDeprecationError'> as of version: 5.0\n"
     ]
    },
    {
     "name": "stdout",
     "output_type": "stream",
     "text": [
      "mask dimensions: (94, 94, 72)\n",
      "number of voxels in mask: 7361\n",
      "Runs shape (6, 80, 7361)\n",
      "(6, 80, 7361)\n",
      "sl_result=0.2833333333333334\n",
      "kp6\n",
      "tmpFile=./tmp__folder/0119173_25_schaefer2018_neurosketch_25_17\n",
      "kp2\n",
      "kp3\n",
      "tmpFile=./tmp__folder/0119173_25_schaefer2018_neurosketch_25_17\n"
     ]
    },
    {
     "name": "stderr",
     "output_type": "stream",
     "text": [
      "/gpfs/milgram/project/turk-browne/users/kp578/CONDA/rtcloud/lib/python3.6/site-packages/ipykernel_launcher.py:180: DeprecationWarning: get_data() is deprecated in favor of get_fdata(), which has a more predictable return type. To obtain get_data() behavior going forward, use numpy.asanyarray(img.dataobj).\n",
      "\n",
      "* deprecated from version: 3.0\n",
      "* Will raise <class 'nibabel.deprecator.ExpiredDeprecationError'> as of version: 5.0\n"
     ]
    },
    {
     "name": "stdout",
     "output_type": "stream",
     "text": [
      "mask dimensions: (94, 94, 72)\n",
      "number of voxels in mask: 7500\n",
      "Runs shape (6, 80, 7500)\n",
      "(6, 80, 7500)\n",
      "sl_result=0.2854166666666667\n",
      "kp6\n",
      "tmpFile=./tmp__folder/0119173_25_schaefer2018_neurosketch_25_18\n",
      "kp2\n",
      "kp3\n",
      "tmpFile=./tmp__folder/0119173_25_schaefer2018_neurosketch_25_18\n"
     ]
    },
    {
     "name": "stderr",
     "output_type": "stream",
     "text": [
      "/gpfs/milgram/project/turk-browne/users/kp578/CONDA/rtcloud/lib/python3.6/site-packages/ipykernel_launcher.py:180: DeprecationWarning: get_data() is deprecated in favor of get_fdata(), which has a more predictable return type. To obtain get_data() behavior going forward, use numpy.asanyarray(img.dataobj).\n",
      "\n",
      "* deprecated from version: 3.0\n",
      "* Will raise <class 'nibabel.deprecator.ExpiredDeprecationError'> as of version: 5.0\n"
     ]
    },
    {
     "name": "stdout",
     "output_type": "stream",
     "text": [
      "mask dimensions: (94, 94, 72)\n",
      "number of voxels in mask: 7575\n",
      "Runs shape (6, 80, 7575)\n",
      "(6, 80, 7575)\n",
      "sl_result=0.2833333333333334\n",
      "kp6\n",
      "tmpFile=./tmp__folder/0119173_25_schaefer2018_neurosketch_25_19\n",
      "kp2\n",
      "kp3\n",
      "tmpFile=./tmp__folder/0119173_25_schaefer2018_neurosketch_25_19\n"
     ]
    },
    {
     "name": "stderr",
     "output_type": "stream",
     "text": [
      "/gpfs/milgram/project/turk-browne/users/kp578/CONDA/rtcloud/lib/python3.6/site-packages/ipykernel_launcher.py:180: DeprecationWarning: get_data() is deprecated in favor of get_fdata(), which has a more predictable return type. To obtain get_data() behavior going forward, use numpy.asanyarray(img.dataobj).\n",
      "\n",
      "* deprecated from version: 3.0\n",
      "* Will raise <class 'nibabel.deprecator.ExpiredDeprecationError'> as of version: 5.0\n"
     ]
    },
    {
     "name": "stdout",
     "output_type": "stream",
     "text": [
      "mask dimensions: (94, 94, 72)\n",
      "number of voxels in mask: 7551\n",
      "Runs shape (6, 80, 7551)\n",
      "(6, 80, 7551)\n",
      "sl_result=0.27499999999999997\n",
      "kp6\n",
      "tmpFile=./tmp__folder/0119173_25_schaefer2018_neurosketch_25_20\n",
      "kp2\n",
      "kp3\n",
      "tmpFile=./tmp__folder/0119173_25_schaefer2018_neurosketch_25_20\n"
     ]
    },
    {
     "name": "stderr",
     "output_type": "stream",
     "text": [
      "/gpfs/milgram/project/turk-browne/users/kp578/CONDA/rtcloud/lib/python3.6/site-packages/ipykernel_launcher.py:180: DeprecationWarning: get_data() is deprecated in favor of get_fdata(), which has a more predictable return type. To obtain get_data() behavior going forward, use numpy.asanyarray(img.dataobj).\n",
      "\n",
      "* deprecated from version: 3.0\n",
      "* Will raise <class 'nibabel.deprecator.ExpiredDeprecationError'> as of version: 5.0\n"
     ]
    },
    {
     "name": "stdout",
     "output_type": "stream",
     "text": [
      "mask dimensions: (94, 94, 72)\n",
      "number of voxels in mask: 7282\n",
      "Runs shape (6, 80, 7282)\n",
      "(6, 80, 7282)\n",
      "sl_result=0.27916666666666673\n",
      "kp6\n",
      "tmpFile=./tmp__folder/0119173_25_schaefer2018_neurosketch_25_21\n",
      "kp2\n",
      "kp3\n",
      "tmpFile=./tmp__folder/0119173_25_schaefer2018_neurosketch_25_21\n"
     ]
    },
    {
     "name": "stderr",
     "output_type": "stream",
     "text": [
      "/gpfs/milgram/project/turk-browne/users/kp578/CONDA/rtcloud/lib/python3.6/site-packages/ipykernel_launcher.py:180: DeprecationWarning: get_data() is deprecated in favor of get_fdata(), which has a more predictable return type. To obtain get_data() behavior going forward, use numpy.asanyarray(img.dataobj).\n",
      "\n",
      "* deprecated from version: 3.0\n",
      "* Will raise <class 'nibabel.deprecator.ExpiredDeprecationError'> as of version: 5.0\n"
     ]
    },
    {
     "name": "stdout",
     "output_type": "stream",
     "text": [
      "mask dimensions: (94, 94, 72)\n",
      "number of voxels in mask: 7432\n",
      "Runs shape (6, 80, 7432)\n",
      "(6, 80, 7432)\n",
      "sl_result=0.2625\n",
      "kp6\n",
      "tmpFile=./tmp__folder/0119173_25_schaefer2018_neurosketch_25_22\n",
      "kp2\n",
      "kp3\n",
      "tmpFile=./tmp__folder/0119173_25_schaefer2018_neurosketch_25_22\n"
     ]
    },
    {
     "name": "stderr",
     "output_type": "stream",
     "text": [
      "/gpfs/milgram/project/turk-browne/users/kp578/CONDA/rtcloud/lib/python3.6/site-packages/ipykernel_launcher.py:180: DeprecationWarning: get_data() is deprecated in favor of get_fdata(), which has a more predictable return type. To obtain get_data() behavior going forward, use numpy.asanyarray(img.dataobj).\n",
      "\n",
      "* deprecated from version: 3.0\n",
      "* Will raise <class 'nibabel.deprecator.ExpiredDeprecationError'> as of version: 5.0\n"
     ]
    },
    {
     "name": "stdout",
     "output_type": "stream",
     "text": [
      "mask dimensions: (94, 94, 72)\n",
      "number of voxels in mask: 7484\n",
      "Runs shape (6, 80, 7484)\n",
      "(6, 80, 7484)\n",
      "sl_result=0.28125\n",
      "kp6\n",
      "tmpFile=./tmp__folder/0119173_25_schaefer2018_neurosketch_25_23\n",
      "kp2\n",
      "kp3\n",
      "tmpFile=./tmp__folder/0119173_25_schaefer2018_neurosketch_25_23\n"
     ]
    },
    {
     "name": "stderr",
     "output_type": "stream",
     "text": [
      "/gpfs/milgram/project/turk-browne/users/kp578/CONDA/rtcloud/lib/python3.6/site-packages/ipykernel_launcher.py:180: DeprecationWarning: get_data() is deprecated in favor of get_fdata(), which has a more predictable return type. To obtain get_data() behavior going forward, use numpy.asanyarray(img.dataobj).\n",
      "\n",
      "* deprecated from version: 3.0\n",
      "* Will raise <class 'nibabel.deprecator.ExpiredDeprecationError'> as of version: 5.0\n"
     ]
    },
    {
     "name": "stdout",
     "output_type": "stream",
     "text": [
      "mask dimensions: (94, 94, 72)\n",
      "number of voxels in mask: 7299\n",
      "Runs shape (6, 80, 7299)\n",
      "(6, 80, 7299)\n",
      "sl_result=0.28750000000000003\n",
      "kp6\n",
      "tmpFile=./tmp__folder/0119173_25_schaefer2018_neurosketch_25_24\n",
      "kp2\n",
      "kp3\n",
      "tmpFile=./tmp__folder/0119173_25_schaefer2018_neurosketch_25_24\n"
     ]
    },
    {
     "name": "stderr",
     "output_type": "stream",
     "text": [
      "/gpfs/milgram/project/turk-browne/users/kp578/CONDA/rtcloud/lib/python3.6/site-packages/ipykernel_launcher.py:180: DeprecationWarning: get_data() is deprecated in favor of get_fdata(), which has a more predictable return type. To obtain get_data() behavior going forward, use numpy.asanyarray(img.dataobj).\n",
      "\n",
      "* deprecated from version: 3.0\n",
      "* Will raise <class 'nibabel.deprecator.ExpiredDeprecationError'> as of version: 5.0\n"
     ]
    },
    {
     "name": "stdout",
     "output_type": "stream",
     "text": [
      "mask dimensions: (94, 94, 72)\n",
      "number of voxels in mask: 7516\n",
      "Runs shape (6, 80, 7516)\n",
      "(6, 80, 7516)\n",
      "sl_result=0.28125000000000006\n",
      "kp6\n",
      "sl_results=[array(0.28541667), array(0.28333333), array(0.27291667), array(0.27083333), array(0.2875), array(0.2625), array(0.27708333), array(0.2875), array(0.26875), array(0.27916667), array(0.28958333), array(0.275), array(0.29583333), array(0.2875), array(0.28958333), array(0.2625), array(0.28333333), array(0.28541667), array(0.28333333), array(0.275), array(0.27916667), array(0.2625), array(0.28125), array(0.2875), array(0.28125)]\n",
      "max(sl_results)==0.29583333333333334\n",
      "bestAcc=0.29583333333333334 For 24 = ./tmp__folder/0119173_25_schaefer2018_neurosketch_24\n",
      "len(topN)=24\n",
      "topN=('225.nii.gz', '19.nii.gz', '58.nii.gz', '150.nii.gz', '232.nii.gz', '234.nii.gz', '108.nii.gz', '107.nii.gz', '102.nii.gz', '86.nii.gz', '238.nii.gz', '190.nii.gz', '138.nii.gz', '166.nii.gz', '221.nii.gz', '265.nii.gz', '280.nii.gz', '236.nii.gz', '244.nii.gz', '167.nii.gz', '243.nii.gz', '205.nii.gz', '39.nii.gz', '271.nii.gz')\n",
      "tmpFile=./tmp__folder/0119173_25_schaefer2018_neurosketch_24_0\n",
      "kp2\n",
      "kp3\n",
      "tmpFile=./tmp__folder/0119173_25_schaefer2018_neurosketch_24_0\n"
     ]
    },
    {
     "name": "stderr",
     "output_type": "stream",
     "text": [
      "/gpfs/milgram/project/turk-browne/users/kp578/CONDA/rtcloud/lib/python3.6/site-packages/ipykernel_launcher.py:180: DeprecationWarning: get_data() is deprecated in favor of get_fdata(), which has a more predictable return type. To obtain get_data() behavior going forward, use numpy.asanyarray(img.dataobj).\n",
      "\n",
      "* deprecated from version: 3.0\n",
      "* Will raise <class 'nibabel.deprecator.ExpiredDeprecationError'> as of version: 5.0\n"
     ]
    },
    {
     "name": "stdout",
     "output_type": "stream",
     "text": [
      "mask dimensions: (94, 94, 72)\n",
      "number of voxels in mask: 7385\n",
      "Runs shape (6, 80, 7385)\n",
      "(6, 80, 7385)\n",
      "sl_result=0.2833333333333334\n",
      "kp6\n",
      "tmpFile=./tmp__folder/0119173_25_schaefer2018_neurosketch_24_1\n",
      "kp2\n",
      "kp3\n",
      "tmpFile=./tmp__folder/0119173_25_schaefer2018_neurosketch_24_1\n"
     ]
    },
    {
     "name": "stderr",
     "output_type": "stream",
     "text": [
      "/gpfs/milgram/project/turk-browne/users/kp578/CONDA/rtcloud/lib/python3.6/site-packages/ipykernel_launcher.py:180: DeprecationWarning: get_data() is deprecated in favor of get_fdata(), which has a more predictable return type. To obtain get_data() behavior going forward, use numpy.asanyarray(img.dataobj).\n",
      "\n",
      "* deprecated from version: 3.0\n",
      "* Will raise <class 'nibabel.deprecator.ExpiredDeprecationError'> as of version: 5.0\n"
     ]
    },
    {
     "name": "stdout",
     "output_type": "stream",
     "text": [
      "mask dimensions: (94, 94, 72)\n",
      "number of voxels in mask: 7419\n",
      "Runs shape (6, 80, 7419)\n",
      "(6, 80, 7419)\n",
      "sl_result=0.2916666666666667\n",
      "kp6\n",
      "tmpFile=./tmp__folder/0119173_25_schaefer2018_neurosketch_24_2\n",
      "kp2\n",
      "kp3\n",
      "tmpFile=./tmp__folder/0119173_25_schaefer2018_neurosketch_24_2\n"
     ]
    },
    {
     "name": "stderr",
     "output_type": "stream",
     "text": [
      "/gpfs/milgram/project/turk-browne/users/kp578/CONDA/rtcloud/lib/python3.6/site-packages/ipykernel_launcher.py:180: DeprecationWarning: get_data() is deprecated in favor of get_fdata(), which has a more predictable return type. To obtain get_data() behavior going forward, use numpy.asanyarray(img.dataobj).\n",
      "\n",
      "* deprecated from version: 3.0\n",
      "* Will raise <class 'nibabel.deprecator.ExpiredDeprecationError'> as of version: 5.0\n"
     ]
    },
    {
     "name": "stdout",
     "output_type": "stream",
     "text": [
      "mask dimensions: (94, 94, 72)\n",
      "number of voxels in mask: 7294\n",
      "Runs shape (6, 80, 7294)\n",
      "(6, 80, 7294)\n",
      "sl_result=0.27291666666666664\n",
      "kp6\n",
      "tmpFile=./tmp__folder/0119173_25_schaefer2018_neurosketch_24_3\n",
      "kp2\n",
      "kp3\n",
      "tmpFile=./tmp__folder/0119173_25_schaefer2018_neurosketch_24_3\n"
     ]
    },
    {
     "name": "stderr",
     "output_type": "stream",
     "text": [
      "/gpfs/milgram/project/turk-browne/users/kp578/CONDA/rtcloud/lib/python3.6/site-packages/ipykernel_launcher.py:180: DeprecationWarning: get_data() is deprecated in favor of get_fdata(), which has a more predictable return type. To obtain get_data() behavior going forward, use numpy.asanyarray(img.dataobj).\n",
      "\n",
      "* deprecated from version: 3.0\n",
      "* Will raise <class 'nibabel.deprecator.ExpiredDeprecationError'> as of version: 5.0\n"
     ]
    },
    {
     "name": "stdout",
     "output_type": "stream",
     "text": [
      "mask dimensions: (94, 94, 72)\n",
      "number of voxels in mask: 7036\n",
      "Runs shape (6, 80, 7036)\n",
      "(6, 80, 7036)\n",
      "sl_result=0.2708333333333333\n",
      "kp6\n",
      "tmpFile=./tmp__folder/0119173_25_schaefer2018_neurosketch_24_4\n",
      "kp2\n",
      "kp3\n",
      "tmpFile=./tmp__folder/0119173_25_schaefer2018_neurosketch_24_4\n"
     ]
    },
    {
     "name": "stderr",
     "output_type": "stream",
     "text": [
      "/gpfs/milgram/project/turk-browne/users/kp578/CONDA/rtcloud/lib/python3.6/site-packages/ipykernel_launcher.py:180: DeprecationWarning: get_data() is deprecated in favor of get_fdata(), which has a more predictable return type. To obtain get_data() behavior going forward, use numpy.asanyarray(img.dataobj).\n",
      "\n",
      "* deprecated from version: 3.0\n",
      "* Will raise <class 'nibabel.deprecator.ExpiredDeprecationError'> as of version: 5.0\n"
     ]
    },
    {
     "name": "stdout",
     "output_type": "stream",
     "text": [
      "mask dimensions: (94, 94, 72)\n",
      "number of voxels in mask: 7313\n",
      "Runs shape (6, 80, 7313)\n",
      "(6, 80, 7313)\n",
      "sl_result=0.29583333333333334\n",
      "kp6\n",
      "tmpFile=./tmp__folder/0119173_25_schaefer2018_neurosketch_24_5\n",
      "kp2\n",
      "kp3\n",
      "tmpFile=./tmp__folder/0119173_25_schaefer2018_neurosketch_24_5\n"
     ]
    },
    {
     "name": "stderr",
     "output_type": "stream",
     "text": [
      "/gpfs/milgram/project/turk-browne/users/kp578/CONDA/rtcloud/lib/python3.6/site-packages/ipykernel_launcher.py:180: DeprecationWarning: get_data() is deprecated in favor of get_fdata(), which has a more predictable return type. To obtain get_data() behavior going forward, use numpy.asanyarray(img.dataobj).\n",
      "\n",
      "* deprecated from version: 3.0\n",
      "* Will raise <class 'nibabel.deprecator.ExpiredDeprecationError'> as of version: 5.0\n"
     ]
    },
    {
     "name": "stdout",
     "output_type": "stream",
     "text": [
      "mask dimensions: (94, 94, 72)\n",
      "number of voxels in mask: 7262\n",
      "Runs shape (6, 80, 7262)\n",
      "(6, 80, 7262)\n",
      "sl_result=0.28124999999999994\n",
      "kp6\n",
      "tmpFile=./tmp__folder/0119173_25_schaefer2018_neurosketch_24_6\n",
      "kp2\n",
      "kp3\n",
      "tmpFile=./tmp__folder/0119173_25_schaefer2018_neurosketch_24_6\n"
     ]
    },
    {
     "name": "stderr",
     "output_type": "stream",
     "text": [
      "/gpfs/milgram/project/turk-browne/users/kp578/CONDA/rtcloud/lib/python3.6/site-packages/ipykernel_launcher.py:180: DeprecationWarning: get_data() is deprecated in favor of get_fdata(), which has a more predictable return type. To obtain get_data() behavior going forward, use numpy.asanyarray(img.dataobj).\n",
      "\n",
      "* deprecated from version: 3.0\n",
      "* Will raise <class 'nibabel.deprecator.ExpiredDeprecationError'> as of version: 5.0\n"
     ]
    },
    {
     "name": "stdout",
     "output_type": "stream",
     "text": [
      "mask dimensions: (94, 94, 72)\n",
      "number of voxels in mask: 7279\n",
      "Runs shape (6, 80, 7279)\n",
      "(6, 80, 7279)\n",
      "sl_result=0.28125\n",
      "kp6\n",
      "tmpFile=./tmp__folder/0119173_25_schaefer2018_neurosketch_24_7\n",
      "kp2\n",
      "kp3\n",
      "tmpFile=./tmp__folder/0119173_25_schaefer2018_neurosketch_24_7\n"
     ]
    },
    {
     "name": "stderr",
     "output_type": "stream",
     "text": [
      "/gpfs/milgram/project/turk-browne/users/kp578/CONDA/rtcloud/lib/python3.6/site-packages/ipykernel_launcher.py:180: DeprecationWarning: get_data() is deprecated in favor of get_fdata(), which has a more predictable return type. To obtain get_data() behavior going forward, use numpy.asanyarray(img.dataobj).\n",
      "\n",
      "* deprecated from version: 3.0\n",
      "* Will raise <class 'nibabel.deprecator.ExpiredDeprecationError'> as of version: 5.0\n"
     ]
    },
    {
     "name": "stdout",
     "output_type": "stream",
     "text": [
      "mask dimensions: (94, 94, 72)\n",
      "number of voxels in mask: 7259\n",
      "Runs shape (6, 80, 7259)\n",
      "(6, 80, 7259)\n",
      "sl_result=0.29375\n",
      "kp6\n",
      "tmpFile=./tmp__folder/0119173_25_schaefer2018_neurosketch_24_8\n",
      "kp2\n",
      "kp3\n",
      "tmpFile=./tmp__folder/0119173_25_schaefer2018_neurosketch_24_8\n"
     ]
    },
    {
     "name": "stderr",
     "output_type": "stream",
     "text": [
      "/gpfs/milgram/project/turk-browne/users/kp578/CONDA/rtcloud/lib/python3.6/site-packages/ipykernel_launcher.py:180: DeprecationWarning: get_data() is deprecated in favor of get_fdata(), which has a more predictable return type. To obtain get_data() behavior going forward, use numpy.asanyarray(img.dataobj).\n",
      "\n",
      "* deprecated from version: 3.0\n",
      "* Will raise <class 'nibabel.deprecator.ExpiredDeprecationError'> as of version: 5.0\n"
     ]
    },
    {
     "name": "stdout",
     "output_type": "stream",
     "text": [
      "mask dimensions: (94, 94, 72)\n",
      "number of voxels in mask: 7250\n",
      "Runs shape (6, 80, 7250)\n",
      "(6, 80, 7250)\n",
      "sl_result=0.2833333333333334\n",
      "kp6\n",
      "tmpFile=./tmp__folder/0119173_25_schaefer2018_neurosketch_24_9\n",
      "kp2\n",
      "kp3\n",
      "tmpFile=./tmp__folder/0119173_25_schaefer2018_neurosketch_24_9\n"
     ]
    },
    {
     "name": "stderr",
     "output_type": "stream",
     "text": [
      "/gpfs/milgram/project/turk-browne/users/kp578/CONDA/rtcloud/lib/python3.6/site-packages/ipykernel_launcher.py:180: DeprecationWarning: get_data() is deprecated in favor of get_fdata(), which has a more predictable return type. To obtain get_data() behavior going forward, use numpy.asanyarray(img.dataobj).\n",
      "\n",
      "* deprecated from version: 3.0\n",
      "* Will raise <class 'nibabel.deprecator.ExpiredDeprecationError'> as of version: 5.0\n"
     ]
    },
    {
     "name": "stdout",
     "output_type": "stream",
     "text": [
      "mask dimensions: (94, 94, 72)\n",
      "number of voxels in mask: 7373\n",
      "Runs shape (6, 80, 7373)\n",
      "(6, 80, 7373)\n",
      "sl_result=0.28125000000000006\n",
      "kp6\n",
      "tmpFile=./tmp__folder/0119173_25_schaefer2018_neurosketch_24_10\n",
      "kp2\n",
      "kp3\n",
      "tmpFile=./tmp__folder/0119173_25_schaefer2018_neurosketch_24_10\n"
     ]
    },
    {
     "name": "stderr",
     "output_type": "stream",
     "text": [
      "/gpfs/milgram/project/turk-browne/users/kp578/CONDA/rtcloud/lib/python3.6/site-packages/ipykernel_launcher.py:180: DeprecationWarning: get_data() is deprecated in favor of get_fdata(), which has a more predictable return type. To obtain get_data() behavior going forward, use numpy.asanyarray(img.dataobj).\n",
      "\n",
      "* deprecated from version: 3.0\n",
      "* Will raise <class 'nibabel.deprecator.ExpiredDeprecationError'> as of version: 5.0\n"
     ]
    },
    {
     "name": "stdout",
     "output_type": "stream",
     "text": [
      "mask dimensions: (94, 94, 72)\n",
      "number of voxels in mask: 7318\n",
      "Runs shape (6, 80, 7318)\n",
      "(6, 80, 7318)\n",
      "sl_result=0.29374999999999996\n",
      "kp6\n",
      "tmpFile=./tmp__folder/0119173_25_schaefer2018_neurosketch_24_11\n",
      "kp2\n",
      "kp3\n",
      "tmpFile=./tmp__folder/0119173_25_schaefer2018_neurosketch_24_11\n"
     ]
    },
    {
     "name": "stderr",
     "output_type": "stream",
     "text": [
      "/gpfs/milgram/project/turk-browne/users/kp578/CONDA/rtcloud/lib/python3.6/site-packages/ipykernel_launcher.py:180: DeprecationWarning: get_data() is deprecated in favor of get_fdata(), which has a more predictable return type. To obtain get_data() behavior going forward, use numpy.asanyarray(img.dataobj).\n",
      "\n",
      "* deprecated from version: 3.0\n",
      "* Will raise <class 'nibabel.deprecator.ExpiredDeprecationError'> as of version: 5.0\n"
     ]
    },
    {
     "name": "stdout",
     "output_type": "stream",
     "text": [
      "mask dimensions: (94, 94, 72)\n",
      "number of voxels in mask: 7161\n",
      "Runs shape (6, 80, 7161)\n",
      "(6, 80, 7161)\n",
      "sl_result=0.28958333333333336\n",
      "kp6\n",
      "tmpFile=./tmp__folder/0119173_25_schaefer2018_neurosketch_24_12\n",
      "kp2\n",
      "kp3\n",
      "tmpFile=./tmp__folder/0119173_25_schaefer2018_neurosketch_24_12\n"
     ]
    },
    {
     "name": "stderr",
     "output_type": "stream",
     "text": [
      "/gpfs/milgram/project/turk-browne/users/kp578/CONDA/rtcloud/lib/python3.6/site-packages/ipykernel_launcher.py:180: DeprecationWarning: get_data() is deprecated in favor of get_fdata(), which has a more predictable return type. To obtain get_data() behavior going forward, use numpy.asanyarray(img.dataobj).\n",
      "\n",
      "* deprecated from version: 3.0\n",
      "* Will raise <class 'nibabel.deprecator.ExpiredDeprecationError'> as of version: 5.0\n"
     ]
    },
    {
     "name": "stdout",
     "output_type": "stream",
     "text": [
      "mask dimensions: (94, 94, 72)\n",
      "number of voxels in mask: 7337\n",
      "Runs shape (6, 80, 7337)\n",
      "(6, 80, 7337)\n",
      "sl_result=0.2833333333333334\n",
      "kp6\n",
      "tmpFile=./tmp__folder/0119173_25_schaefer2018_neurosketch_24_13\n",
      "kp2\n",
      "kp3\n",
      "tmpFile=./tmp__folder/0119173_25_schaefer2018_neurosketch_24_13\n"
     ]
    },
    {
     "name": "stderr",
     "output_type": "stream",
     "text": [
      "/gpfs/milgram/project/turk-browne/users/kp578/CONDA/rtcloud/lib/python3.6/site-packages/ipykernel_launcher.py:180: DeprecationWarning: get_data() is deprecated in favor of get_fdata(), which has a more predictable return type. To obtain get_data() behavior going forward, use numpy.asanyarray(img.dataobj).\n",
      "\n",
      "* deprecated from version: 3.0\n",
      "* Will raise <class 'nibabel.deprecator.ExpiredDeprecationError'> as of version: 5.0\n"
     ]
    },
    {
     "name": "stdout",
     "output_type": "stream",
     "text": [
      "mask dimensions: (94, 94, 72)\n",
      "number of voxels in mask: 7285\n",
      "Runs shape (6, 80, 7285)\n",
      "(6, 80, 7285)\n",
      "sl_result=0.2916666666666667\n",
      "kp6\n",
      "tmpFile=./tmp__folder/0119173_25_schaefer2018_neurosketch_24_14\n",
      "kp2\n",
      "kp3\n",
      "tmpFile=./tmp__folder/0119173_25_schaefer2018_neurosketch_24_14\n"
     ]
    },
    {
     "name": "stderr",
     "output_type": "stream",
     "text": [
      "/gpfs/milgram/project/turk-browne/users/kp578/CONDA/rtcloud/lib/python3.6/site-packages/ipykernel_launcher.py:180: DeprecationWarning: get_data() is deprecated in favor of get_fdata(), which has a more predictable return type. To obtain get_data() behavior going forward, use numpy.asanyarray(img.dataobj).\n",
      "\n",
      "* deprecated from version: 3.0\n",
      "* Will raise <class 'nibabel.deprecator.ExpiredDeprecationError'> as of version: 5.0\n"
     ]
    },
    {
     "name": "stdout",
     "output_type": "stream",
     "text": [
      "mask dimensions: (94, 94, 72)\n",
      "number of voxels in mask: 7206\n",
      "Runs shape (6, 80, 7206)\n",
      "(6, 80, 7206)\n",
      "sl_result=0.26875000000000004\n",
      "kp6\n",
      "tmpFile=./tmp__folder/0119173_25_schaefer2018_neurosketch_24_15\n",
      "kp2\n",
      "kp3\n",
      "tmpFile=./tmp__folder/0119173_25_schaefer2018_neurosketch_24_15\n"
     ]
    },
    {
     "name": "stderr",
     "output_type": "stream",
     "text": [
      "/gpfs/milgram/project/turk-browne/users/kp578/CONDA/rtcloud/lib/python3.6/site-packages/ipykernel_launcher.py:180: DeprecationWarning: get_data() is deprecated in favor of get_fdata(), which has a more predictable return type. To obtain get_data() behavior going forward, use numpy.asanyarray(img.dataobj).\n",
      "\n",
      "* deprecated from version: 3.0\n",
      "* Will raise <class 'nibabel.deprecator.ExpiredDeprecationError'> as of version: 5.0\n"
     ]
    },
    {
     "name": "stdout",
     "output_type": "stream",
     "text": [
      "mask dimensions: (94, 94, 72)\n",
      "number of voxels in mask: 7139\n",
      "Runs shape (6, 80, 7139)\n",
      "(6, 80, 7139)\n",
      "sl_result=0.28750000000000003\n",
      "kp6\n",
      "tmpFile=./tmp__folder/0119173_25_schaefer2018_neurosketch_24_16\n",
      "kp2\n",
      "kp3\n",
      "tmpFile=./tmp__folder/0119173_25_schaefer2018_neurosketch_24_16\n"
     ]
    },
    {
     "name": "stderr",
     "output_type": "stream",
     "text": [
      "/gpfs/milgram/project/turk-browne/users/kp578/CONDA/rtcloud/lib/python3.6/site-packages/ipykernel_launcher.py:180: DeprecationWarning: get_data() is deprecated in favor of get_fdata(), which has a more predictable return type. To obtain get_data() behavior going forward, use numpy.asanyarray(img.dataobj).\n",
      "\n",
      "* deprecated from version: 3.0\n",
      "* Will raise <class 'nibabel.deprecator.ExpiredDeprecationError'> as of version: 5.0\n"
     ]
    },
    {
     "name": "stdout",
     "output_type": "stream",
     "text": [
      "mask dimensions: (94, 94, 72)\n",
      "number of voxels in mask: 7278\n",
      "Runs shape (6, 80, 7278)\n",
      "(6, 80, 7278)\n",
      "sl_result=0.28958333333333336\n",
      "kp6\n",
      "tmpFile=./tmp__folder/0119173_25_schaefer2018_neurosketch_24_17\n",
      "kp2\n",
      "kp3\n",
      "tmpFile=./tmp__folder/0119173_25_schaefer2018_neurosketch_24_17\n"
     ]
    },
    {
     "name": "stderr",
     "output_type": "stream",
     "text": [
      "/gpfs/milgram/project/turk-browne/users/kp578/CONDA/rtcloud/lib/python3.6/site-packages/ipykernel_launcher.py:180: DeprecationWarning: get_data() is deprecated in favor of get_fdata(), which has a more predictable return type. To obtain get_data() behavior going forward, use numpy.asanyarray(img.dataobj).\n",
      "\n",
      "* deprecated from version: 3.0\n",
      "* Will raise <class 'nibabel.deprecator.ExpiredDeprecationError'> as of version: 5.0\n"
     ]
    },
    {
     "name": "stdout",
     "output_type": "stream",
     "text": [
      "mask dimensions: (94, 94, 72)\n",
      "number of voxels in mask: 7353\n",
      "Runs shape (6, 80, 7353)\n",
      "(6, 80, 7353)\n",
      "sl_result=0.29791666666666666\n",
      "kp6\n",
      "tmpFile=./tmp__folder/0119173_25_schaefer2018_neurosketch_24_18\n",
      "kp2\n",
      "kp3\n",
      "tmpFile=./tmp__folder/0119173_25_schaefer2018_neurosketch_24_18\n"
     ]
    },
    {
     "name": "stderr",
     "output_type": "stream",
     "text": [
      "/gpfs/milgram/project/turk-browne/users/kp578/CONDA/rtcloud/lib/python3.6/site-packages/ipykernel_launcher.py:180: DeprecationWarning: get_data() is deprecated in favor of get_fdata(), which has a more predictable return type. To obtain get_data() behavior going forward, use numpy.asanyarray(img.dataobj).\n",
      "\n",
      "* deprecated from version: 3.0\n",
      "* Will raise <class 'nibabel.deprecator.ExpiredDeprecationError'> as of version: 5.0\n"
     ]
    },
    {
     "name": "stdout",
     "output_type": "stream",
     "text": [
      "mask dimensions: (94, 94, 72)\n",
      "number of voxels in mask: 7329\n",
      "Runs shape (6, 80, 7329)\n",
      "(6, 80, 7329)\n",
      "sl_result=0.28958333333333336\n",
      "kp6\n",
      "tmpFile=./tmp__folder/0119173_25_schaefer2018_neurosketch_24_19\n",
      "kp2\n",
      "kp3\n",
      "tmpFile=./tmp__folder/0119173_25_schaefer2018_neurosketch_24_19\n"
     ]
    },
    {
     "name": "stderr",
     "output_type": "stream",
     "text": [
      "/gpfs/milgram/project/turk-browne/users/kp578/CONDA/rtcloud/lib/python3.6/site-packages/ipykernel_launcher.py:180: DeprecationWarning: get_data() is deprecated in favor of get_fdata(), which has a more predictable return type. To obtain get_data() behavior going forward, use numpy.asanyarray(img.dataobj).\n",
      "\n",
      "* deprecated from version: 3.0\n",
      "* Will raise <class 'nibabel.deprecator.ExpiredDeprecationError'> as of version: 5.0\n"
     ]
    },
    {
     "name": "stdout",
     "output_type": "stream",
     "text": [
      "mask dimensions: (94, 94, 72)\n",
      "number of voxels in mask: 7060\n",
      "Runs shape (6, 80, 7060)\n",
      "(6, 80, 7060)\n",
      "sl_result=0.29375\n",
      "kp6\n",
      "tmpFile=./tmp__folder/0119173_25_schaefer2018_neurosketch_24_20\n",
      "kp2\n",
      "kp3\n",
      "tmpFile=./tmp__folder/0119173_25_schaefer2018_neurosketch_24_20\n"
     ]
    },
    {
     "name": "stderr",
     "output_type": "stream",
     "text": [
      "/gpfs/milgram/project/turk-browne/users/kp578/CONDA/rtcloud/lib/python3.6/site-packages/ipykernel_launcher.py:180: DeprecationWarning: get_data() is deprecated in favor of get_fdata(), which has a more predictable return type. To obtain get_data() behavior going forward, use numpy.asanyarray(img.dataobj).\n",
      "\n",
      "* deprecated from version: 3.0\n",
      "* Will raise <class 'nibabel.deprecator.ExpiredDeprecationError'> as of version: 5.0\n"
     ]
    },
    {
     "name": "stdout",
     "output_type": "stream",
     "text": [
      "mask dimensions: (94, 94, 72)\n",
      "number of voxels in mask: 7210\n",
      "Runs shape (6, 80, 7210)\n",
      "(6, 80, 7210)\n",
      "sl_result=0.27708333333333335\n",
      "kp6\n",
      "tmpFile=./tmp__folder/0119173_25_schaefer2018_neurosketch_24_21\n",
      "kp2\n",
      "kp3\n",
      "tmpFile=./tmp__folder/0119173_25_schaefer2018_neurosketch_24_21\n"
     ]
    },
    {
     "name": "stderr",
     "output_type": "stream",
     "text": [
      "/gpfs/milgram/project/turk-browne/users/kp578/CONDA/rtcloud/lib/python3.6/site-packages/ipykernel_launcher.py:180: DeprecationWarning: get_data() is deprecated in favor of get_fdata(), which has a more predictable return type. To obtain get_data() behavior going forward, use numpy.asanyarray(img.dataobj).\n",
      "\n",
      "* deprecated from version: 3.0\n",
      "* Will raise <class 'nibabel.deprecator.ExpiredDeprecationError'> as of version: 5.0\n"
     ]
    },
    {
     "name": "stdout",
     "output_type": "stream",
     "text": [
      "mask dimensions: (94, 94, 72)\n",
      "number of voxels in mask: 7262\n",
      "Runs shape (6, 80, 7262)\n",
      "(6, 80, 7262)\n",
      "sl_result=0.2791666666666666\n",
      "kp6\n",
      "tmpFile=./tmp__folder/0119173_25_schaefer2018_neurosketch_24_22\n",
      "kp2\n",
      "kp3\n",
      "tmpFile=./tmp__folder/0119173_25_schaefer2018_neurosketch_24_22\n"
     ]
    },
    {
     "name": "stderr",
     "output_type": "stream",
     "text": [
      "/gpfs/milgram/project/turk-browne/users/kp578/CONDA/rtcloud/lib/python3.6/site-packages/ipykernel_launcher.py:180: DeprecationWarning: get_data() is deprecated in favor of get_fdata(), which has a more predictable return type. To obtain get_data() behavior going forward, use numpy.asanyarray(img.dataobj).\n",
      "\n",
      "* deprecated from version: 3.0\n",
      "* Will raise <class 'nibabel.deprecator.ExpiredDeprecationError'> as of version: 5.0\n"
     ]
    },
    {
     "name": "stdout",
     "output_type": "stream",
     "text": [
      "mask dimensions: (94, 94, 72)\n",
      "number of voxels in mask: 7077\n",
      "Runs shape (6, 80, 7077)\n",
      "(6, 80, 7077)\n",
      "sl_result=0.2875\n",
      "kp6\n",
      "tmpFile=./tmp__folder/0119173_25_schaefer2018_neurosketch_24_23\n",
      "kp2\n",
      "kp3\n",
      "tmpFile=./tmp__folder/0119173_25_schaefer2018_neurosketch_24_23\n"
     ]
    },
    {
     "name": "stderr",
     "output_type": "stream",
     "text": [
      "/gpfs/milgram/project/turk-browne/users/kp578/CONDA/rtcloud/lib/python3.6/site-packages/ipykernel_launcher.py:180: DeprecationWarning: get_data() is deprecated in favor of get_fdata(), which has a more predictable return type. To obtain get_data() behavior going forward, use numpy.asanyarray(img.dataobj).\n",
      "\n",
      "* deprecated from version: 3.0\n",
      "* Will raise <class 'nibabel.deprecator.ExpiredDeprecationError'> as of version: 5.0\n"
     ]
    },
    {
     "name": "stdout",
     "output_type": "stream",
     "text": [
      "mask dimensions: (94, 94, 72)\n",
      "number of voxels in mask: 7294\n",
      "Runs shape (6, 80, 7294)\n",
      "(6, 80, 7294)\n",
      "sl_result=0.3\n",
      "kp6\n",
      "sl_results=[array(0.28333333), array(0.29166667), array(0.27291667), array(0.27083333), array(0.29583333), array(0.28125), array(0.28125), array(0.29375), array(0.28333333), array(0.28125), array(0.29375), array(0.28958333), array(0.28333333), array(0.29166667), array(0.26875), array(0.2875), array(0.28958333), array(0.29791667), array(0.28958333), array(0.29375), array(0.27708333), array(0.27916667), array(0.2875), array(0.3)]\n",
      "max(sl_results)==0.3\n",
      "bestAcc=0.3 For 23 = ./tmp__folder/0119173_25_schaefer2018_neurosketch_23\n",
      "len(topN)=23\n",
      "topN=('19.nii.gz', '58.nii.gz', '150.nii.gz', '232.nii.gz', '234.nii.gz', '108.nii.gz', '107.nii.gz', '102.nii.gz', '86.nii.gz', '238.nii.gz', '190.nii.gz', '138.nii.gz', '166.nii.gz', '221.nii.gz', '265.nii.gz', '280.nii.gz', '236.nii.gz', '244.nii.gz', '167.nii.gz', '243.nii.gz', '205.nii.gz', '39.nii.gz', '271.nii.gz')\n",
      "tmpFile=./tmp__folder/0119173_25_schaefer2018_neurosketch_23_0\n",
      "kp2\n",
      "kp3\n",
      "tmpFile=./tmp__folder/0119173_25_schaefer2018_neurosketch_23_0\n"
     ]
    },
    {
     "name": "stderr",
     "output_type": "stream",
     "text": [
      "/gpfs/milgram/project/turk-browne/users/kp578/CONDA/rtcloud/lib/python3.6/site-packages/ipykernel_launcher.py:180: DeprecationWarning: get_data() is deprecated in favor of get_fdata(), which has a more predictable return type. To obtain get_data() behavior going forward, use numpy.asanyarray(img.dataobj).\n",
      "\n",
      "* deprecated from version: 3.0\n",
      "* Will raise <class 'nibabel.deprecator.ExpiredDeprecationError'> as of version: 5.0\n"
     ]
    },
    {
     "name": "stdout",
     "output_type": "stream",
     "text": [
      "mask dimensions: (94, 94, 72)\n",
      "number of voxels in mask: 7106\n",
      "Runs shape (6, 80, 7106)\n",
      "(6, 80, 7106)\n",
      "sl_result=0.3\n",
      "kp6\n",
      "tmpFile=./tmp__folder/0119173_25_schaefer2018_neurosketch_23_1\n",
      "kp2\n",
      "kp3\n",
      "tmpFile=./tmp__folder/0119173_25_schaefer2018_neurosketch_23_1\n"
     ]
    },
    {
     "name": "stderr",
     "output_type": "stream",
     "text": [
      "/gpfs/milgram/project/turk-browne/users/kp578/CONDA/rtcloud/lib/python3.6/site-packages/ipykernel_launcher.py:180: DeprecationWarning: get_data() is deprecated in favor of get_fdata(), which has a more predictable return type. To obtain get_data() behavior going forward, use numpy.asanyarray(img.dataobj).\n",
      "\n",
      "* deprecated from version: 3.0\n",
      "* Will raise <class 'nibabel.deprecator.ExpiredDeprecationError'> as of version: 5.0\n"
     ]
    },
    {
     "name": "stdout",
     "output_type": "stream",
     "text": [
      "mask dimensions: (94, 94, 72)\n",
      "number of voxels in mask: 7140\n",
      "Runs shape (6, 80, 7140)\n",
      "(6, 80, 7140)\n",
      "sl_result=0.29791666666666666\n",
      "kp6\n",
      "tmpFile=./tmp__folder/0119173_25_schaefer2018_neurosketch_23_2\n",
      "kp2\n",
      "kp3\n",
      "tmpFile=./tmp__folder/0119173_25_schaefer2018_neurosketch_23_2\n"
     ]
    },
    {
     "name": "stderr",
     "output_type": "stream",
     "text": [
      "/gpfs/milgram/project/turk-browne/users/kp578/CONDA/rtcloud/lib/python3.6/site-packages/ipykernel_launcher.py:180: DeprecationWarning: get_data() is deprecated in favor of get_fdata(), which has a more predictable return type. To obtain get_data() behavior going forward, use numpy.asanyarray(img.dataobj).\n",
      "\n",
      "* deprecated from version: 3.0\n",
      "* Will raise <class 'nibabel.deprecator.ExpiredDeprecationError'> as of version: 5.0\n"
     ]
    },
    {
     "name": "stdout",
     "output_type": "stream",
     "text": [
      "mask dimensions: (94, 94, 72)\n",
      "number of voxels in mask: 7015\n",
      "Runs shape (6, 80, 7015)\n",
      "(6, 80, 7015)\n",
      "sl_result=0.2833333333333333\n",
      "kp6\n",
      "tmpFile=./tmp__folder/0119173_25_schaefer2018_neurosketch_23_3\n",
      "kp2\n",
      "kp3\n",
      "tmpFile=./tmp__folder/0119173_25_schaefer2018_neurosketch_23_3\n"
     ]
    },
    {
     "name": "stderr",
     "output_type": "stream",
     "text": [
      "/gpfs/milgram/project/turk-browne/users/kp578/CONDA/rtcloud/lib/python3.6/site-packages/ipykernel_launcher.py:180: DeprecationWarning: get_data() is deprecated in favor of get_fdata(), which has a more predictable return type. To obtain get_data() behavior going forward, use numpy.asanyarray(img.dataobj).\n",
      "\n",
      "* deprecated from version: 3.0\n",
      "* Will raise <class 'nibabel.deprecator.ExpiredDeprecationError'> as of version: 5.0\n"
     ]
    },
    {
     "name": "stdout",
     "output_type": "stream",
     "text": [
      "mask dimensions: (94, 94, 72)\n",
      "number of voxels in mask: 6757\n",
      "Runs shape (6, 80, 6757)\n",
      "(6, 80, 6757)\n",
      "sl_result=0.275\n",
      "kp6\n",
      "tmpFile=./tmp__folder/0119173_25_schaefer2018_neurosketch_23_4\n",
      "kp2\n",
      "kp3\n",
      "tmpFile=./tmp__folder/0119173_25_schaefer2018_neurosketch_23_4\n"
     ]
    },
    {
     "name": "stderr",
     "output_type": "stream",
     "text": [
      "/gpfs/milgram/project/turk-browne/users/kp578/CONDA/rtcloud/lib/python3.6/site-packages/ipykernel_launcher.py:180: DeprecationWarning: get_data() is deprecated in favor of get_fdata(), which has a more predictable return type. To obtain get_data() behavior going forward, use numpy.asanyarray(img.dataobj).\n",
      "\n",
      "* deprecated from version: 3.0\n",
      "* Will raise <class 'nibabel.deprecator.ExpiredDeprecationError'> as of version: 5.0\n"
     ]
    },
    {
     "name": "stdout",
     "output_type": "stream",
     "text": [
      "mask dimensions: (94, 94, 72)\n",
      "number of voxels in mask: 7034\n",
      "Runs shape (6, 80, 7034)\n",
      "(6, 80, 7034)\n",
      "sl_result=0.3083333333333333\n",
      "kp6\n",
      "tmpFile=./tmp__folder/0119173_25_schaefer2018_neurosketch_23_5\n",
      "kp2\n",
      "kp3\n",
      "tmpFile=./tmp__folder/0119173_25_schaefer2018_neurosketch_23_5\n"
     ]
    },
    {
     "name": "stderr",
     "output_type": "stream",
     "text": [
      "/gpfs/milgram/project/turk-browne/users/kp578/CONDA/rtcloud/lib/python3.6/site-packages/ipykernel_launcher.py:180: DeprecationWarning: get_data() is deprecated in favor of get_fdata(), which has a more predictable return type. To obtain get_data() behavior going forward, use numpy.asanyarray(img.dataobj).\n",
      "\n",
      "* deprecated from version: 3.0\n",
      "* Will raise <class 'nibabel.deprecator.ExpiredDeprecationError'> as of version: 5.0\n"
     ]
    },
    {
     "name": "stdout",
     "output_type": "stream",
     "text": [
      "mask dimensions: (94, 94, 72)\n",
      "number of voxels in mask: 6983\n",
      "Runs shape (6, 80, 6983)\n",
      "(6, 80, 6983)\n",
      "sl_result=0.2833333333333334\n",
      "kp6\n",
      "tmpFile=./tmp__folder/0119173_25_schaefer2018_neurosketch_23_6\n",
      "kp2\n",
      "kp3\n",
      "tmpFile=./tmp__folder/0119173_25_schaefer2018_neurosketch_23_6\n"
     ]
    },
    {
     "name": "stderr",
     "output_type": "stream",
     "text": [
      "/gpfs/milgram/project/turk-browne/users/kp578/CONDA/rtcloud/lib/python3.6/site-packages/ipykernel_launcher.py:180: DeprecationWarning: get_data() is deprecated in favor of get_fdata(), which has a more predictable return type. To obtain get_data() behavior going forward, use numpy.asanyarray(img.dataobj).\n",
      "\n",
      "* deprecated from version: 3.0\n",
      "* Will raise <class 'nibabel.deprecator.ExpiredDeprecationError'> as of version: 5.0\n"
     ]
    },
    {
     "name": "stdout",
     "output_type": "stream",
     "text": [
      "mask dimensions: (94, 94, 72)\n",
      "number of voxels in mask: 7000\n",
      "Runs shape (6, 80, 7000)\n",
      "(6, 80, 7000)\n",
      "sl_result=0.28541666666666665\n",
      "kp6\n",
      "tmpFile=./tmp__folder/0119173_25_schaefer2018_neurosketch_23_7\n",
      "kp2\n",
      "kp3\n",
      "tmpFile=./tmp__folder/0119173_25_schaefer2018_neurosketch_23_7\n"
     ]
    },
    {
     "name": "stderr",
     "output_type": "stream",
     "text": [
      "/gpfs/milgram/project/turk-browne/users/kp578/CONDA/rtcloud/lib/python3.6/site-packages/ipykernel_launcher.py:180: DeprecationWarning: get_data() is deprecated in favor of get_fdata(), which has a more predictable return type. To obtain get_data() behavior going forward, use numpy.asanyarray(img.dataobj).\n",
      "\n",
      "* deprecated from version: 3.0\n",
      "* Will raise <class 'nibabel.deprecator.ExpiredDeprecationError'> as of version: 5.0\n"
     ]
    },
    {
     "name": "stdout",
     "output_type": "stream",
     "text": [
      "mask dimensions: (94, 94, 72)\n",
      "number of voxels in mask: 6980\n",
      "Runs shape (6, 80, 6980)\n",
      "(6, 80, 6980)\n",
      "sl_result=0.28958333333333336\n",
      "kp6\n",
      "tmpFile=./tmp__folder/0119173_25_schaefer2018_neurosketch_23_8\n",
      "kp2\n",
      "kp3\n",
      "tmpFile=./tmp__folder/0119173_25_schaefer2018_neurosketch_23_8\n"
     ]
    },
    {
     "name": "stderr",
     "output_type": "stream",
     "text": [
      "/gpfs/milgram/project/turk-browne/users/kp578/CONDA/rtcloud/lib/python3.6/site-packages/ipykernel_launcher.py:180: DeprecationWarning: get_data() is deprecated in favor of get_fdata(), which has a more predictable return type. To obtain get_data() behavior going forward, use numpy.asanyarray(img.dataobj).\n",
      "\n",
      "* deprecated from version: 3.0\n",
      "* Will raise <class 'nibabel.deprecator.ExpiredDeprecationError'> as of version: 5.0\n"
     ]
    },
    {
     "name": "stdout",
     "output_type": "stream",
     "text": [
      "mask dimensions: (94, 94, 72)\n",
      "number of voxels in mask: 6971\n",
      "Runs shape (6, 80, 6971)\n",
      "(6, 80, 6971)\n",
      "sl_result=0.2875\n",
      "kp6\n",
      "tmpFile=./tmp__folder/0119173_25_schaefer2018_neurosketch_23_9\n",
      "kp2\n",
      "kp3\n",
      "tmpFile=./tmp__folder/0119173_25_schaefer2018_neurosketch_23_9\n"
     ]
    },
    {
     "name": "stderr",
     "output_type": "stream",
     "text": [
      "/gpfs/milgram/project/turk-browne/users/kp578/CONDA/rtcloud/lib/python3.6/site-packages/ipykernel_launcher.py:180: DeprecationWarning: get_data() is deprecated in favor of get_fdata(), which has a more predictable return type. To obtain get_data() behavior going forward, use numpy.asanyarray(img.dataobj).\n",
      "\n",
      "* deprecated from version: 3.0\n",
      "* Will raise <class 'nibabel.deprecator.ExpiredDeprecationError'> as of version: 5.0\n"
     ]
    },
    {
     "name": "stdout",
     "output_type": "stream",
     "text": [
      "mask dimensions: (94, 94, 72)\n",
      "number of voxels in mask: 7094\n",
      "Runs shape (6, 80, 7094)\n",
      "(6, 80, 7094)\n",
      "sl_result=0.29583333333333334\n",
      "kp6\n",
      "tmpFile=./tmp__folder/0119173_25_schaefer2018_neurosketch_23_10\n",
      "kp2\n",
      "kp3\n",
      "tmpFile=./tmp__folder/0119173_25_schaefer2018_neurosketch_23_10\n"
     ]
    },
    {
     "name": "stderr",
     "output_type": "stream",
     "text": [
      "/gpfs/milgram/project/turk-browne/users/kp578/CONDA/rtcloud/lib/python3.6/site-packages/ipykernel_launcher.py:180: DeprecationWarning: get_data() is deprecated in favor of get_fdata(), which has a more predictable return type. To obtain get_data() behavior going forward, use numpy.asanyarray(img.dataobj).\n",
      "\n",
      "* deprecated from version: 3.0\n",
      "* Will raise <class 'nibabel.deprecator.ExpiredDeprecationError'> as of version: 5.0\n"
     ]
    },
    {
     "name": "stdout",
     "output_type": "stream",
     "text": [
      "mask dimensions: (94, 94, 72)\n",
      "number of voxels in mask: 7039\n",
      "Runs shape (6, 80, 7039)\n",
      "(6, 80, 7039)\n",
      "sl_result=0.29791666666666666\n",
      "kp6\n",
      "tmpFile=./tmp__folder/0119173_25_schaefer2018_neurosketch_23_11\n",
      "kp2\n",
      "kp3\n",
      "tmpFile=./tmp__folder/0119173_25_schaefer2018_neurosketch_23_11\n"
     ]
    },
    {
     "name": "stderr",
     "output_type": "stream",
     "text": [
      "/gpfs/milgram/project/turk-browne/users/kp578/CONDA/rtcloud/lib/python3.6/site-packages/ipykernel_launcher.py:180: DeprecationWarning: get_data() is deprecated in favor of get_fdata(), which has a more predictable return type. To obtain get_data() behavior going forward, use numpy.asanyarray(img.dataobj).\n",
      "\n",
      "* deprecated from version: 3.0\n",
      "* Will raise <class 'nibabel.deprecator.ExpiredDeprecationError'> as of version: 5.0\n"
     ]
    },
    {
     "name": "stdout",
     "output_type": "stream",
     "text": [
      "mask dimensions: (94, 94, 72)\n",
      "number of voxels in mask: 6882\n",
      "Runs shape (6, 80, 6882)\n",
      "(6, 80, 6882)\n",
      "sl_result=0.28541666666666665\n",
      "kp6\n",
      "tmpFile=./tmp__folder/0119173_25_schaefer2018_neurosketch_23_12\n",
      "kp2\n",
      "kp3\n",
      "tmpFile=./tmp__folder/0119173_25_schaefer2018_neurosketch_23_12\n"
     ]
    },
    {
     "name": "stderr",
     "output_type": "stream",
     "text": [
      "/gpfs/milgram/project/turk-browne/users/kp578/CONDA/rtcloud/lib/python3.6/site-packages/ipykernel_launcher.py:180: DeprecationWarning: get_data() is deprecated in favor of get_fdata(), which has a more predictable return type. To obtain get_data() behavior going forward, use numpy.asanyarray(img.dataobj).\n",
      "\n",
      "* deprecated from version: 3.0\n",
      "* Will raise <class 'nibabel.deprecator.ExpiredDeprecationError'> as of version: 5.0\n"
     ]
    },
    {
     "name": "stdout",
     "output_type": "stream",
     "text": [
      "mask dimensions: (94, 94, 72)\n",
      "number of voxels in mask: 7058\n",
      "Runs shape (6, 80, 7058)\n",
      "(6, 80, 7058)\n"
     ]
    }
   ],
   "source": [
    "'''\n",
    "purpose:\n",
    "    according to the given number of ROIs N, pick up the top N ROIs accuracy and combine them for a combined mask and retrain the model and getting result\n",
    "\n",
    "steps:\n",
    "    load accuracy for all the ROIs for given subject\n",
    "    pick up the top N ROIs\n",
    "    combine these top N masks\n",
    "    retrain the model and get the accuracy.\n",
    "\n",
    "    get the N combinations of N-1 ROIs\n",
    "    retrain the model and get the accuracy for these N combinations\n",
    "\n",
    "    get the N-1 combinations of N-2 ROIs\n",
    "    retrain the model and get the accuracy for these N-1 combinations\n",
    "\n",
    "'''\n",
    "'''\n",
    "you could try to see whether combining parcels improves performance. \n",
    "That's going to be the most important bit, because we'll want to decide on a tradeoff between number of voxels and accuracy. \n",
    "The script of interest here is aggregate.sh which is just a feeder for aggregate.py. \n",
    "This will use the .npy outputs of classRegion.py to select and merge the top N ROIs/parcels, and will return the list of ROI names, the number of voxels, and the cross-validated classifier accuracy \n",
    "in this newly combined larger mask. An example run of this is as follows:\n",
    "sbatch aggregate.sh 0111171 neurosketch schaefer2018 15\n",
    "'''\n",
    "import os\n",
    "print(f\"conda env={os.environ['CONDA_DEFAULT_ENV']}\") \n",
    "import numpy as np\n",
    "import nibabel as nib\n",
    "import sys\n",
    "import time\n",
    "import pandas as pd\n",
    "from sklearn.linear_model import LogisticRegression\n",
    "import itertools\n",
    "# from tqdm import tqdm\n",
    "import pickle\n",
    "import subprocess\n",
    "from subprocess import call\n",
    "def save_obj(obj, name):\n",
    "    with open(name + '.pkl', 'wb') as f:\n",
    "        pickle.dump(obj, f, pickle.HIGHEST_PROTOCOL)\n",
    "\n",
    "def load_obj(name):\n",
    "    with open(name + '.pkl', 'rb') as f:\n",
    "        return pickle.load(f)\n",
    "\n",
    "# What subject are you running\n",
    "'''\n",
    "Takes args (in order):\n",
    "    subject (e.g. 0111171)\n",
    "    dataSource (e.g. neurosketch, but also realtime)\n",
    "    roiloc (wang2014 or schaefer2018)\n",
    "    N (the number of parcels or ROIs to start with)\n",
    "'''\n",
    "global subject,dataSource,roiloc,N\n",
    "subject=\"0119173\" #sys.argv[1]\n",
    "# dataSource,roiloc,N=sys.argv[2],sys.argv[3],int(sys.argv[4])\n",
    "dataSource,roiloc,N=\"neurosketch\",\"schaefer2018\",25\n",
    "print(\"Running subject {}, with {} as a data source, {}, starting with {} ROIs\".format(subject, dataSource, roiloc, N))\n",
    "\n",
    "\n",
    "# dataSource depending, there are a number of keywords to fill in: \n",
    "# ses: which day of data collection\n",
    "# run: which run number on that day (single digit)\n",
    "# phase: 12, 34, or 56\n",
    "# sub: subject number\n",
    "if dataSource == \"neurosketch\":\n",
    "    funcdata = \"/gpfs/milgram/project/turk-browne/jukebox/ntb/projects/sketchloop02/subjects/{sub}_neurosketch/data/nifti/realtime_preprocessed/{sub}_neurosketch_recognition_run_{run}.nii.gz\"\n",
    "    metadata = \"/gpfs/milgram/project/turk-browne/jukebox/ntb/projects/sketchloop02/data/features/recog/metadata_{sub}_V1_{phase}.csv\"\n",
    "    anat = \"/gpfs/milgram/project/turk-browne/jukebox/ntb/projects/sketchloop02/subjects/{sub}_neurosketch/data/nifti/{sub}_neurosketch_anat_mprage_brain.nii.gz\"\n",
    "elif dataSource == \"realtime\":\n",
    "    funcdata = \"/gpfs/milgram/project/turk-browne/projects/rtcloud_kp/subjects/{sub}/ses{ses}_recognition/run0{run}/nifti/{sub}_functional.nii.gz\"\n",
    "    metadata = \"/gpfs/milgram/project/turk-browne/projects/rtcloud_kp/subjects/{sub}/ses{ses}_recognition/run0{run}/{sub}_0{run}_preprocessed_behavData.csv\"\n",
    "    anat = \"$TO_BE_FILLED\"\n",
    "else:\n",
    "    funcdata = \"/gpfs/milgram/project/turk-browne/projects/rtTest/searchout/feat/{sub}_pre.nii.gz\"\n",
    "    metadata = \"/gpfs/milgram/project/turk-browne/jukebox/ntb/projects/sketchloop02/data/features/recog/metadata_{sub}_V1_{phase}.csv\"\n",
    "    anat = \"$TO_BE_FILLED\"\n",
    "\n",
    "\n",
    "workingDir=\"/gpfs/milgram/project/turk-browne/projects/rtTest/\"\n",
    "starttime = time.time()\n",
    "tag=\"tag2\"\n",
    "# '1201161', '1121161','0115172','0112174' #these subject have nothing in output folder\n",
    "subjects_correctly_aligned=['1206161','0119173','1206162','1130161','1206163','0120171','0111171','1202161','0125172','0110172','0123173','0120173','0110171','0119172','0124171','0123171','1203161','0118172','0118171','0112171','1207162','0117171','0119174','0112173','0112172']\n",
    "if roiloc == \"schaefer2018\":\n",
    "    RESULT=np.empty((len(subjects_correctly_aligned),300))\n",
    "    topN = []\n",
    "    for ii,sub in enumerate(subjects_correctly_aligned):\n",
    "        outloc = workingDir+\"/{}/{}/output\".format(roiloc, sub)\n",
    "        for roinum in range(1,301):\n",
    "            # result = np.load(\"{}/{}.npy\".format(outloc, roinum))\n",
    "            result = np.load(f\"{outloc}/{tag}_{roinum}.npy\")\n",
    "            RESULT[ii,roinum-1]=result\n",
    "            # RESULT = result if roinum == 1 else np.vstack((RESULT, result))\n",
    "    RESULT = np.mean(RESULT,axis=0)\n",
    "    print(f\"RESULT.shape={RESULT.shape}\")\n",
    "    RESULTix = RESULT[:].argsort()[-N:]\n",
    "    for idx in RESULTix:\n",
    "        topN.append(\"{}.nii.gz\".format(idx+1))\n",
    "        # print(topN[-1])\n",
    "else:\n",
    "    RESULT_all=[]\n",
    "    topN = []\n",
    "    for ii,sub in enumerate(subjects_correctly_aligned):\n",
    "        outloc = workingDir+\"/{}/{}/output\".format(roiloc, sub)\n",
    "        for hemi in [\"lh\", \"rh\"]:\n",
    "            for roinum in range(1, 26):\n",
    "                # result = np.load(\"{}/roi{}_{}.npy\".format(outloc, roinum, hemi))\n",
    "                result = np.load(f\"{outloc}/{tag}_roi{roinum}_{hemi}.npy\")\n",
    "                Result = result if roinum == 1 else np.vstack((Result, result))\n",
    "            RESULT = Result if hemi == \"lh\" else np.hstack((RESULT, Result))\n",
    "        RESULT_all.append(RESULT)\n",
    "\n",
    "    RESULT_all=np.asarray(RESULT_all)\n",
    "    print(f\"RESULT_all.shape={RESULT_all.shape}\")\n",
    "    RESULT_all=np.mean(RESULT_all,axis=0)\n",
    "    print(f\"RESULT_all.shape={RESULT_all.shape}\")\n",
    "    RESULT1d = RESULT.flatten()\n",
    "    RESULTix = RESULT1d.argsort()[-N:]\n",
    "    x_idx, y_idx = np.unravel_index(RESULTix, RESULT.shape)\n",
    "\n",
    "    # Check that we got the largest values.\n",
    "    for x, y, in zip(x_idx, y_idx):\n",
    "        print(x,y)\n",
    "        if y == 0:\n",
    "            topN.append(\"roi{}_lh.nii.gz\".format(x+1))\n",
    "        else:\n",
    "            topN.append(\"roi{}_rh.nii.gz\".format(x+1))\n",
    "        # print(topN[-1])\n",
    "\n",
    "print(f\"len(topN)={len(topN)}\")\n",
    "print(f\"topN={topN}\")\n",
    "\n",
    "def Wait(waitfor, delay=1):\n",
    "    while not os.path.exists(waitfor):\n",
    "        time.sleep(delay)\n",
    "        print('waiting for {}'.format(waitfor))\n",
    "\n",
    "def normalize(X):\n",
    "    from scipy.stats import zscore\n",
    "    # X = X - X.mean(0)\n",
    "    X = zscore(X, axis=0)\n",
    "    X[np.isnan(X)]=0\n",
    "    return X\n",
    "\n",
    "def Class(data, bcvar):\n",
    "    metas = bcvar[0]\n",
    "    data4d = data[0]\n",
    "    print(data4d.shape)\n",
    "\n",
    "    accs = []\n",
    "    for run in range(6):\n",
    "        testX = data4d[run]\n",
    "        testY = metas[run]\n",
    "        trainX = data4d[np.arange(6) != run]\n",
    "        trainX = trainX.reshape(trainX.shape[0]*trainX.shape[1], -1)\n",
    "        trainY = []\n",
    "        for meta in range(6):\n",
    "            if meta != run:\n",
    "                trainY.extend(metas[meta])\n",
    "        clf = LogisticRegression(penalty='l2',C=1, solver='lbfgs', max_iter=1000, \n",
    "                                 multi_class='multinomial').fit(trainX, trainY)\n",
    "                \n",
    "        # Monitor progress by printing accuracy (only useful if you're running a test set)\n",
    "        acc = clf.score(testX, testY)\n",
    "        accs.append(acc)\n",
    "    \n",
    "    return np.mean(accs)\n",
    "\n",
    "\n",
    "phasedict = dict(zip([1,2,3,4,5,6],[\"12\", \"12\", \"34\", \"34\", \"56\", \"56\"]))\n",
    "imcodeDict={\"A\": \"bed\", \"B\": \"Chair\", \"C\": \"table\", \"D\": \"bench\"}\n",
    "\n",
    "def getMask(topN, subject):\n",
    "    workingDir=\"/gpfs/milgram/project/turk-browne/projects/rtTest/\"\n",
    "    for pn, parc in enumerate(topN):\n",
    "        _mask = nib.load(workingDir+\"/{}/{}/{}\".format(roiloc, subject, parc))\n",
    "        aff = _mask.affine\n",
    "        _mask = _mask.get_data()\n",
    "        _mask = _mask.astype(int)\n",
    "        # say some things about the mask.\n",
    "        mask = _mask if pn == 0 else mask + _mask\n",
    "        mask[mask>0] = 1\n",
    "    return mask\n",
    "\n",
    "mask=getMask(topN, subject)\n",
    "\n",
    "print('mask dimensions: {}'. format(mask.shape))\n",
    "print('number of voxels in mask: {}'.format(np.sum(mask)))\n",
    "\n",
    "# Compile preprocessed data and corresponding indices\n",
    "metas = []\n",
    "for run in range(1, 7):\n",
    "    print(run, end='--')\n",
    "    # retrieve from the dictionary which phase it is, assign the session\n",
    "    phase = phasedict[run]\n",
    "    ses = 1\n",
    "    \n",
    "    # Build the path for the preprocessed functional data\n",
    "    this4d = funcdata.format(ses=ses, run=run, phase=phase, sub=subject)\n",
    "    \n",
    "    # Read in the metadata, and reduce it to only the TR values from this run, add to a list\n",
    "    thismeta = pd.read_csv(metadata.format(ses=ses, run=run, phase=phase, sub=subject))\n",
    "    if dataSource == \"neurosketch\":\n",
    "        _run = 1 if run % 2 == 0 else 2\n",
    "    else:\n",
    "        _run = run\n",
    "    thismeta = thismeta[thismeta['run_num'] == int(_run)]\n",
    "    \n",
    "    if dataSource == \"realtime\":\n",
    "        TR_num = list(thismeta.TR.astype(int))\n",
    "        labels = list(thismeta.Item)\n",
    "        labels = [imcodeDict[label] for label in labels]\n",
    "    else:\n",
    "        TR_num = list(thismeta.TR_num.astype(int))\n",
    "        labels = list(thismeta.label)\n",
    "    \n",
    "    print(\"LENGTH OF TR: {}\".format(len(TR_num)))\n",
    "    # Load the functional data\n",
    "    runIm = nib.load(this4d)\n",
    "    affine_mat = runIm.affine\n",
    "    runImDat = runIm.get_data()\n",
    "    \n",
    "    # Use the TR numbers to select the correct features\n",
    "    features = [runImDat[:,:,:,n+3] for n in TR_num]\n",
    "    features = np.array(features)\n",
    "    # features = features[:, mask==1]\n",
    "    print(\"shape of features\", features.shape, \"shape of mask\", mask.shape)\n",
    "    # featmean = features.mean(1).mean(1).mean(1)[..., None,None,None] #features.mean(1)[..., None]\n",
    "    # features = features - featmean\n",
    "    # features = features - features.mean(0)\n",
    "    features = normalize(features)\n",
    "    features = np.expand_dims(features, 0)\n",
    "    \n",
    "    # Append both so we can use it later\n",
    "    metas.append(labels)\n",
    "    runs = features if run == 1 else np.concatenate((runs, features))\n",
    "\n",
    "dimsize = runIm.header.get_zooms()\n",
    "\n",
    "\n",
    "# Preset the variables\n",
    "print(\"Runs shape\", runs.shape)\n",
    "bcvar = [metas]\n",
    "save_obj([bcvar,runs],f\"./tmp__folder/{subject}_{dataSource}_{roiloc}_{N}\") #{len(topN)}_{i}\n",
    "                 \n",
    "# # Distribute the information to the searchlights (preparing it to run)\n",
    "# _runs = [runs[:,:,mask==1]]\n",
    "# print(\"Runs shape\", _runs[0].shape)\n",
    "# slstart = time.time()\n",
    "# sl_result = Class(_runs, bcvar)\n",
    "# print(\"results of classifier: {}, type: {}\".format(sl_result, type(sl_result)))\n",
    "# SL = time.time() - slstart\n",
    "# tot = time.time() - starttime\n",
    "# print('total time: {}, searchlight time: {}'.format(tot, SL))\n",
    "\n",
    "def wait(tmpFile):\n",
    "    while not os.path.exists(tmpFile+'_result.npy'):\n",
    "        time.sleep(5)\n",
    "        print(f\"waiting for {tmpFile}_result.npy\\n\")\n",
    "    return np.load(tmpFile+'_result.npy')\n",
    "\n",
    "def numOfRunningJobs():\n",
    "    # subprocess.Popen(['squeue -u kp578 | wc -l > squeue.txt'],shell=True) # sl_result = Class(_runs, bcvar)\n",
    "    randomID=str(time.time())\n",
    "    # print(f\"squeue -u kp578 | wc -l > squeue/{randomID}.txt\")\n",
    "    call(f'squeue -u kp578 | wc -l > squeue/{randomID}.txt',shell=True)\n",
    "    numberOfJobsRunning = int(open(f\"squeue/{randomID}.txt\", \"r\").read())\n",
    "    print(f\"numberOfJobsRunning={numberOfJobsRunning}\")\n",
    "    return numberOfJobsRunning\n",
    "\n",
    "if not os.path.exists(f\"./tmp__folder/{subject}_{N}_{roiloc}_{dataSource}_{len(topN)}.pkl\"):\n",
    "    _runs = [runs[:,:,mask==1]]\n",
    "    print(\"Runs shape\", _runs[0].shape)\n",
    "    slstart = time.time()\n",
    "    sl_result = Class(_runs, bcvar)\n",
    "\n",
    "    save_obj({\"subject\":subject,\n",
    "    \"startFromN\":N,\n",
    "    \"currNumberOfROI\":len(topN),\n",
    "    \"bestAcc\":sl_result, # this is the sl_result for the topN, not the bestAcc, bestAcc is for the purpose of keeping consistent with others\n",
    "    \"bestROIs\":topN},# this is the topN, not the bestROIs, bestROIs is for the purpose of keeping consistent with others\n",
    "    f\"./tmp__folder/{subject}_{N}_{roiloc}_{dataSource}_{len(topN)}\"\n",
    "    )\n",
    "# ./tmp__folder/0125171_40_schaefer2018_neurosketch_39.pkl\n",
    "if os.path.exists(f\"./tmp__folder/{subject}_{N}_{roiloc}_{dataSource}_{1}.pkl\"):\n",
    "    print(f\"./tmp__folder/{subject}_{N}_{roiloc}_{dataSource}_1.pkl exists\")\n",
    "    raise Exception('runned or running')\n",
    "\n",
    "\n",
    "# N-1\n",
    "def next(topN): \n",
    "    print(f\"len(topN)={len(topN)}\")\n",
    "    print(f\"topN={topN}\")\n",
    "\n",
    "    if len(topN)==1:\n",
    "        return None\n",
    "    else:\n",
    "        try:\n",
    "            allpairs = itertools.combinations(topN,len(topN)-1)\n",
    "            topNs=[]\n",
    "            sl_results=[]\n",
    "            tmpFiles=[]\n",
    "            while os.path.exists(\"./tmp__folder/holdon.npy\"):\n",
    "                time.sleep(10)\n",
    "                print(\"sleep for 10s ; waiting for ./tmp__folder/holdon.npy to be deleted\")\n",
    "            # np.save(\"./tmp__folder/holdon\",1)\n",
    "\n",
    "            for i,_topN in enumerate(allpairs):\n",
    "                tmpFile=f\"./tmp__folder/{subject}_{N}_{roiloc}_{dataSource}_{len(topN)}_{i}\"\n",
    "                print(f\"tmpFile={tmpFile}\")\n",
    "                topNs.append(_topN)\n",
    "                tmpFiles.append(tmpFile)\n",
    "\n",
    "                if not os.path.exists(tmpFile+'_result.npy'):\n",
    "\n",
    "                    # prepare brain data(runs) mask and behavior data(bcvar) \n",
    "\n",
    "                    # save_obj([_topN,subject,dataSource,roiloc,N], tmpFile)\n",
    "\n",
    "                    print(\"kp2\")\n",
    "                    # numberOfJobsRunning = numOfRunningJobs()\n",
    "                    print(\"kp3\")\n",
    "                    # while numberOfJobsRunning > 400: # 300 is not filling it up\n",
    "                    #     print(\"kp4 300\")\n",
    "                    #     print(\"waiting 10, too many jobs running\") ; time.sleep(10)\n",
    "                    #     numberOfJobsRunning = numOfRunningJobs()\n",
    "                    #     print(\"kp5\")\n",
    "\n",
    "                    # get the evidence for the current mask\n",
    "                    # print(f'sbatch class.sh {tmpFile}')\n",
    "                    # proc = subprocess.Popen([f'sbatch --requeue class.sh {tmpFile}'],shell=True) # sl_result = Class(_runs, bcvar) \n",
    "                    tmpFile = tmpFile #sys.argv[1]\n",
    "                    print(f\"tmpFile={tmpFile}\")\n",
    "                    # [_topN,subject,dataSource,roiloc,N] = load_obj(tmpFile)\n",
    "                    # [bcvar,runs] = load_obj(f\"./tmp__folder/{subject}_{dataSource}_{roiloc}_{N}\") \n",
    "                    _mask=getMask(_topN,subject) ; print('mask dimensions: {}'. format(_mask.shape)) ; print('number of voxels in mask: {}'.format(np.sum(_mask)))\n",
    "                    _runs = [runs[:,:,_mask==1]] ; print(\"Runs shape\", _runs[0].shape)\n",
    "\n",
    "                    # [_runs,bcvar] = load_obj(tmpFile)\n",
    "                    sl_result = Class(_runs, bcvar)\n",
    "\n",
    "                    np.save(tmpFile+'_result',sl_result)\n",
    "\n",
    "                    print(f\"sl_result={sl_result}\")\n",
    "\n",
    "\n",
    "                    # outs, errs = proc.communicate(timeout=5)\n",
    "                    # print(f\"outs={outs}\")\n",
    "                    # print(f\"errs={errs}\")\n",
    "                    \n",
    "                    print(\"kp6\")\n",
    "                else:\n",
    "                    print(tmpFile+'_result.npy exists!')\n",
    "            # os.remove(\"./tmp__folder/holdon.npy\")\n",
    "\n",
    "            sl_results=[]\n",
    "            for tmpFile in tmpFiles:\n",
    "                sl_result=wait(tmpFile)\n",
    "                sl_results.append(sl_result)\n",
    "            print(f\"sl_results={sl_results}\")\n",
    "            print(f\"max(sl_results)=={max(sl_results)}\")\n",
    "            maxID=np.where(sl_results==max(sl_results))[0][0]\n",
    "            save_obj({\"subject\":subject,\n",
    "            \"startFromN\":N,\n",
    "            \"currNumberOfROI\":len(topN)-1,\n",
    "            \"bestAcc\":max(sl_results),\n",
    "            \"bestROIs\":topNs[maxID]},\n",
    "            f\"./tmp__folder/{subject}_{N}_{roiloc}_{dataSource}_{len(topN)-1}\"\n",
    "            )\n",
    "            print(f\"bestAcc={max(sl_results)} For {len(topN)-1} = ./tmp__folder/{subject}_{N}_{roiloc}_{dataSource}_{len(topN)-1}\")\n",
    "            tmpFiles=next(topNs[maxID])\n",
    "        except:\n",
    "            return tmpFiles\n",
    "tmpFiles=next(topN)\n",
    "\n"
   ]
  },
  {
   "cell_type": "code",
   "execution_count": 140,
   "metadata": {},
   "outputs": [
    {
     "name": "stdout",
     "output_type": "stream",
     "text": [
      "conda env=/gpfs/milgram/project/turk-browne/users/kp578/CONDA/rtcloud\n",
      "{'1206161': [25, 24, 23, 22, 21, 20, 19, 18, 17, 16, 15, 14, 13, 12, 11, 10, 9, 8, 7, 6, 5, 4, 3, 2, 1], '0119173': [25, 24, 23, 22, 21, 20, 19, 18, 17, 16, 15, 14, 13, 12, 11, 10, 9, 8, 7, 6, 5, 4, 3, 2, 1], '1206162': [25, 24, 23, 22, 21, 20, 19, 18, 17, 16, 15, 14, 13, 12, 11, 10, 9, 8, 7, 6, 5, 4, 3, 2, 1], '1130161': [25, 24, 23, 22, 21, 20, 19, 18, 17, 16, 15, 14, 13, 12, 11, 10, 9, 8, 7, 6, 5, 4, 3, 2, 1], '1206163': [25, 24, 23, 22, 21, 20, 19, 18, 17, 16, 15, 14, 13, 12, 11, 10, 9, 8, 7, 6, 5, 4, 3, 2, 1], '0120171': [25, 24, 23, 22, 21, 20, 19, 18, 17, 16, 15, 14, 13, 12, 11, 10, 9, 8, 7, 6, 5, 4, 3, 2, 1], '0111171': [25, 24, 23, 22, 21, 20, 19, 18, 17, 16, 15, 14, 13, 12, 11, 10, 9, 8, 7, 6, 5, 4, 3, 2, 1], '1202161': [25, 24, 23, 22, 21, 20, 19, 18, 17, 16, 15, 14, 13, 12, 11, 10, 9, 8, 7, 6, 5, 4, 3, 2, 1], '0125172': [25, 24, 23, 22, 21, 20, 19, 18, 17, 16, 15, 14, 13, 12, 11, 10, 9, 8, 7, 6, 5, 4, 3, 2, 1], '0110172': [25, 24, 23, 22, 21, 20, 19, 18, 17, 16, 15, 14, 13, 12, 11, 10, 9, 8, 7, 6, 5, 4, 3, 2, 1], '0123173': [25, 24, 23, 22, 21, 20, 19, 18, 17, 16, 15, 14, 13, 12, 11, 10, 9, 8, 7, 6, 5, 4, 3, 2, 1], '0120173': [25, 24, 23, 22, 21, 20, 19, 18, 17, 16, 15, 14, 13, 12, 11, 10, 9, 8, 7, 6, 5, 4, 3, 2, 1], '0110171': [25, 24, 23, 22, 21, 20, 19, 18, 17, 16, 15, 14, 13, 12, 11, 10, 9, 8, 7, 6, 5, 4, 3, 2, 1], '0119172': [25, 24, 23, 22, 21, 20, 19, 18, 17, 16, 15, 14, 13, 12, 11, 10, 9, 8, 7, 6, 5, 4, 3, 2, 1], '0124171': [25, 24, 23, 22, 21, 20, 19, 18, 17, 16, 15, 14, 13, 12, 11, 10, 9, 8, 7, 6, 5, 4, 3, 2, 1], '0123171': [25, 24, 23, 22, 21, 20, 19, 18, 17, 16, 15, 14, 13, 12, 11, 10, 9, 8, 7, 6, 5, 4, 3, 2, 1], '1203161': [25, 24, 23, 22, 21, 20, 19, 18, 17, 16, 15, 14, 13, 12, 11, 10, 9, 8, 7, 6, 5, 4, 3, 2, 1], '0118172': [25, 24, 23, 22, 21, 20, 19, 18, 17, 16, 15, 14, 13, 12, 11, 10, 9, 8, 7, 6, 5, 4, 3, 2, 1], '0118171': [25, 24, 23, 22, 21, 20, 19, 18, 17, 16, 15, 14, 13, 12, 11, 10, 9, 8, 7, 6, 5, 4, 3, 2, 1], '0112171': [25, 24, 23, 22, 21, 20, 19, 18, 17, 16, 15, 14, 13, 12, 11, 10, 9, 8, 7, 6, 5, 4, 3, 2, 1], '1207162': [25, 24, 23, 22, 21, 20, 19, 18, 17, 16, 15, 14, 13, 12, 11, 10, 9, 8, 7, 6, 5, 4, 3, 2, 1], '0117171': [25, 24, 23, 22, 21, 20, 19, 18, 17, 16, 15, 14, 13, 12, 11, 10, 9, 8, 7, 6, 5, 4, 3, 2, 1], '0119174': [25, 24, 23, 22, 21, 20, 19, 18, 17, 16, 15, 14, 13, 12, 11, 10, 9, 8, 7, 6, 5, 4, 3, 2, 1], '0112173': [25, 24, 23, 22, 21, 20, 19, 18, 17, 16, 15, 14, 13, 12, 11, 10, 9, 8, 7, 6, 5, 4, 3, 2, 1], '0112172': [25, 24, 23, 22, 21, 20, 19, 18, 17, 16, 15, 14, 13, 12, 11, 10, 9, 8, 7, 6, 5, 4, 3, 2, 1]}\n"
     ]
    },
    {
     "name": "stderr",
     "output_type": "stream",
     "text": [
      "/gpfs/milgram/project/turk-browne/users/kp578/CONDA/rtcloud/lib/python3.6/site-packages/ipykernel_launcher.py:103: RuntimeWarning: Mean of empty slice\n"
     ]
    },
    {
     "data": {
      "text/plain": [
       "<matplotlib.image.AxesImage at 0x2af11a86a6a0>"
      ]
     },
     "execution_count": 140,
     "metadata": {},
     "output_type": "execute_result"
    },
    {
     "data": {
      "image/png": "[encoded data removed]",
      "text/plain": [
       "<Figure size 432x288 with 1 Axes>"
      ]
     },
     "metadata": {
      "needs_background": "light"
     },
     "output_type": "display_data"
    },
    {
     "data": {
      "image/png": "[encoded data removed]",
      "text/plain": [
       "<Figure size 432x288 with 1 Axes>"
      ]
     },
     "metadata": {
      "needs_background": "light"
     },
     "output_type": "display_data"
    },
    {
     "data": {
      "image/png": "[encoded data removed]",
      "text/plain": [
       "<Figure size 432x288 with 1 Axes>"
      ]
     },
     "metadata": {
      "needs_background": "light"
     },
     "output_type": "display_data"
    },
    {
     "data": {
      "image/png": "[encoded data removed]",
      "text/plain": [
       "<Figure size 432x288 with 1 Axes>"
      ]
     },
     "metadata": {
      "needs_background": "light"
     },
     "output_type": "display_data"
    }
   ],
   "source": [
    "\n",
    "'''\n",
    "load the result of aggregate_greedy.py\n",
    "'''\n",
    "# To visualize the greedy result starting for 31 ROIs, in total 25 subjects.\n",
    "import os\n",
    "os.chdir(\"/gpfs/milgram/project/turk-browne/projects/rtTest/kp_scratch/\")\n",
    "from glob import glob\n",
    "import matplotlib.pyplot as plt\n",
    "from tqdm import tqdm\n",
    "import pickle5 as pickle\n",
    "import subprocess\n",
    "import numpy as np\n",
    "import os\n",
    "print(f\"conda env={os.environ['CONDA_DEFAULT_ENV']}\") \n",
    "import numpy as np\n",
    "import nibabel as nib\n",
    "import sys\n",
    "import time\n",
    "import pandas as pd\n",
    "from sklearn.linear_model import LogisticRegression\n",
    "import itertools\n",
    "import pickle\n",
    "import subprocess\n",
    "from subprocess import call\n",
    "workingDir=\"/gpfs/milgram/project/turk-browne/projects/rtTest/\"\n",
    "\n",
    "def save_obj(obj, name):\n",
    "    with open(name + '.pkl', 'wb') as f:\n",
    "        pickle.dump(obj, f, pickle.HIGHEST_PROTOCOL)\n",
    "def load_obj(name):\n",
    "    with open(name + '.pkl', 'rb') as f:\n",
    "        return pickle.load(f)\n",
    "roiloc=\"schaefer2018\"\n",
    "dataSource=\"neurosketch\"\n",
    "subjects_correctly_aligned=['1206161','0119173','1206162','1130161','1206163','0120171','0111171','1202161','0125172','0110172','0123173','0120173','0110171','0119172','0124171','0123171','1203161','0118172','0118171','0112171','1207162','0117171','0119174','0112173','0112172']\n",
    "subjects=subjects_correctly_aligned\n",
    "N=25\n",
    "workingPath=\"/gpfs/milgram/project/turk-browne/projects/rtTest/\"\n",
    "GreedyBestAcc=np.zeros((len(subjects),N+1))\n",
    "GreedyBestAcc[GreedyBestAcc==0]=None\n",
    "GreedyBestAcc={}\n",
    "numberOfROIs={}\n",
    "for ii,subject in enumerate(subjects):\n",
    "    # try:\n",
    "    #     GreedyBestAcc[ii,N]=np.load(workingPath+\"./{}/{}/output/uniMaskRanktag2_top{}.npy\".format(roiloc, subject, N))\n",
    "    # except:\n",
    "    #     pass\n",
    "    t=np.load(workingPath+\"./{}/{}/output/uniMaskRanktag2_top{}.npy\".format(roiloc, subject, N))\n",
    "    GreedyBestAcc[subject]=[np.float(t)]\n",
    "    numberOfROIs[subject]=[N]\n",
    "    for len_topN in range(N-1,0,-1):\n",
    "#     for len_topN in range(1,N):\n",
    "        # Wait(f\"./tmp/{subject}_{N}_{roiloc}_{dataSource}_{len_topN_1}.pkl\")\n",
    "        try:\n",
    "            # {当前的被试}_{greedy开始的ROI数目，也就是25}_{mask的种类schaefer2018}_{数据来源neurosketch}_{当前的 megaROI 包含有的数目}\n",
    "            di = load_obj(f\"./tmp__folder/{subject}_{N}_{roiloc}_{dataSource}_{len_topN}\")\n",
    "            GreedyBestAcc[subject].append(np.float(di['bestAcc']))\n",
    "            numberOfROIs[subject].append(len_topN)\n",
    "            # GreedyBestAcc[ii,len_topN] = di['bestAcc']\n",
    "            \n",
    "        except:\n",
    "            pass\n",
    "\n",
    "\n",
    "# '''\n",
    "# to load the imtermediate results from greedy code to examine the system\n",
    "# '''\n",
    "# def wait(tmpFile):\n",
    "#     while not os.path.exists(tmpFile+'_result.npy'):\n",
    "#         time.sleep(5)\n",
    "#         print(f\"waiting for {tmpFile}_result.npy\\n\")\n",
    "#     return np.load(tmpFile+'_result.npy')\n",
    "\n",
    "# subject= '0119173' #sys.argv[1]\n",
    "# sub_id = [i for i,x in enumerate(subjects) if x == subject][0]\n",
    "# intermediate_result=np.zeros((N+1,N+1))\n",
    "# # 应该有多少？25个24ROI，2个1ROI，24个\n",
    "# for i in range(N,1,-1):\n",
    "#     for j in range(i):\n",
    "#         tmpFile=f\"./tmp_folder/{subject}_{N}_{roiloc}_{dataSource}_{i}_{j}\"\n",
    "#         sl_result=wait(tmpFile)\n",
    "#         intermediate_result[i,j]=sl_result\n",
    "\n",
    "# # _=plt.imshow(intermediate_result)\n",
    "# #最后一行是25个24ROI，第2行是2个1ROI\n",
    "\n",
    "'''\n",
    "display the result of aggregate_greedy.py\n",
    "'''\n",
    "print(numberOfROIs)\n",
    "# GreedyBestAcc=GreedyBestAcc.T\n",
    "_GreedyBestAcc=np.zeros((len(subjects),N+1))\n",
    "_GreedyBestAcc[_GreedyBestAcc==0]=None\n",
    "for ii,sub in enumerate(GreedyBestAcc):\n",
    "    _GreedyBestAcc[ii,0:len(GreedyBestAcc[sub])]=GreedyBestAcc[sub]\n",
    "    if len(GreedyBestAcc[sub])<5:\n",
    "        print(f\"sbatch --requeue aggregate_greedy.sh {sub} neurosketch schaefer2018 25\")\n",
    "plt.imshow(_GreedyBestAcc)\n",
    "\n",
    "_=plt.figure()\n",
    "for j in range(_GreedyBestAcc.shape[1]):\n",
    "    plt.scatter([j]*_GreedyBestAcc.shape[0],_GreedyBestAcc[:,j],c='g',s=2)\n",
    "plt.plot(np.arange(_GreedyBestAcc.shape[1]),np.nanmean(_GreedyBestAcc,axis=0))\n",
    "plt.xticks(numberOfROIs['0112173'])\n",
    "\n",
    "# plt.ylim([0.19,0.36])\n",
    "# plt.xlabel(\"number of ROIs\")\n",
    "# plt.ylabel(\"accuracy\")\n",
    "_=plt.figure()\n",
    "for j in range(_GreedyBestAcc.shape[0]):\n",
    "    plt.plot(_GreedyBestAcc[j,:])\n",
    "\n",
    "\n",
    "\n",
    "_=plt.figure()\n",
    "plt.imshow(_GreedyBestAcc)"
   ]
  }
 ],
 "metadata": {
  "kernelspec": {
   "display_name": "Python 3",
   "language": "python",
   "name": "python3"
  },
  "language_info": {
   "codemirror_mode": {
    "name": "ipython",
    "version": 3
   },
   "file_extension": ".py",
   "mimetype": "text/x-python",
   "name": "python",
   "nbconvert_exporter": "python",
   "pygments_lexer": "ipython3",
   "version": "3.6.12"
  },
  "toc": {
   "base_numbering": 1,
   "nav_menu": {},
   "number_sections": true,
   "sideBar": true,
   "skip_h1_title": false,
   "title_cell": "Table of Contents",
   "title_sidebar": "Contents",
   "toc_cell": false,
   "toc_position": {},
   "toc_section_display": true,
   "toc_window_display": false
  },
  "varInspector": {
   "cols": {
    "lenName": 16,
    "lenType": 16,
    "lenVar": 40
   },
   "kernels_config": {
    "python": {
     "delete_cmd_postfix": "",
     "delete_cmd_prefix": "del ",
     "library": "var_list.py",
     "varRefreshCmd": "print(var_dic_list())"
    },
    "r": {
     "delete_cmd_postfix": ") ",
     "delete_cmd_prefix": "rm(",
     "library": "var_list.r",
     "varRefreshCmd": "cat(var_dic_list()) "
    }
   },
   "types_to_exclude": [
    "module",
    "function",
    "builtin_function_or_method",
    "instance",
    "_Feature"
   ],
   "window_display": false
  }
 },
 "nbformat": 4,
 "nbformat_minor": 4
}
