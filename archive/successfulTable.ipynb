{
 "cells": [
  {
   "cell_type": "code",
   "execution_count": 7,
   "metadata": {},
   "outputs": [
    {
     "name": "stdout",
     "output_type": "stream",
     "text": [
      "toml filename=/gpfs/milgram/project/turk-browne/projects/rtSynth_rt/projects/rtSynth_rt/conf/sub001.ses3.toml\n"
     ]
    },
    {
     "data": {
      "text/plain": [
       "'/gpfs/milgram/project/realtime/DICOM/20210210.rtSynth_sub001.rtSynth_sub001_ses3//'"
      ]
     },
     "execution_count": 7,
     "metadata": {},
     "output_type": "execute_result"
    }
   ],
   "source": [
    "import os,time\n",
    "verbose=False\n",
    "os.chdir(\"/gpfs/milgram/project/turk-browne/projects/rtSynth_rt/\")\n",
    "import sys\n",
    "sys.path.append('/gpfs/milgram/project/turk-browne/projects/rtSynth_rt/')\n",
    "import argparse\n",
    "import warnings\n",
    "import numpy as np\n",
    "import nibabel as nib\n",
    "import scipy.io as sio\n",
    "from rtCommon.cfg_loading import mkdir,cfg_loading\n",
    "from subprocess import call\n",
    "import joblib\n",
    "import pandas as pd\n",
    "from scipy.stats import zscore\n",
    "with warnings.catch_warnings():\n",
    "    if not verbose:\n",
    "        warnings.filterwarnings(\"ignore\", category=UserWarning)\n",
    "    from nibabel.nicom import dicomreaders\n",
    "\n",
    "\n",
    "# currPath = os.path.dirname(os.path.realpath(__file__))\n",
    "# rootPath = os.path.dirname(os.path.dirname(currPath))\n",
    "\n",
    "# add the path for the root directory to your python path so that you can import\n",
    "#   project modules from rt-cloud\n",
    "# sys.path.append(rootPath)\n",
    "# import project modules from rt-cloud\n",
    "from rtCommon.utils import loadConfigFile, stringPartialFormat\n",
    "from rtCommon.clientInterface import ClientInterface\n",
    "from rtCommon.imageHandling import readRetryDicomFromDataInterface, convertDicomImgToNifti\n",
    "from rtCommon.dataInterface import DataInterface #added by QL\n",
    "sys.path.append('/gpfs/milgram/project/turk-browne/projects/rtSynth_rt/expScripts/recognition/')\n",
    "from recognition_dataAnalysisFunctions import normalize,classifierProb\n",
    "sys.path.append('/gpfs/milgram/project/turk-browne/projects/rtSynth_rt/expScripts/recognition/')\n",
    "\n",
    "\n",
    "defaultConfig = '/gpfs/milgram/project/turk-browne/projects/rtSynth_rt/projects/rtSynth_rt/conf/sub001.ses3.toml'\n",
    "\n",
    "\n",
    "cfg=cfg_loading(defaultConfig)\n",
    "cfg.dicomDir\n"
   ]
  },
  {
   "cell_type": "code",
   "execution_count": null,
   "metadata": {},
   "outputs": [],
   "source": [
    "cfg.dicomDir"
   ]
  },
  {
   "cell_type": "code",
   "execution_count": 9,
   "metadata": {},
   "outputs": [
    {
     "data": {
      "text/plain": [
       "'001_{SCAN:06d}_{TR:06d}.dcm'"
      ]
     },
     "execution_count": 9,
     "metadata": {},
     "output_type": "execute_result"
    }
   ],
   "source": [
    "cfg.dicomNamePattern"
   ]
  },
  {
   "cell_type": "code",
   "execution_count": null,
   "metadata": {},
   "outputs": [],
   "source": []
  }
 ],
 "metadata": {
  "kernelspec": {
   "display_name": "Python 3",
   "language": "python",
   "name": "python3"
  },
  "language_info": {
   "codemirror_mode": {
    "name": "ipython",
    "version": 3
   },
   "file_extension": ".py",
   "mimetype": "text/x-python",
   "name": "python",
   "nbconvert_exporter": "python",
   "pygments_lexer": "ipython3",
   "version": "3.6.12"
  },
  "toc": {
   "base_numbering": 1,
   "nav_menu": {},
   "number_sections": true,
   "sideBar": true,
   "skip_h1_title": false,
   "title_cell": "Table of Contents",
   "title_sidebar": "Contents",
   "toc_cell": false,
   "toc_position": {},
   "toc_section_display": true,
   "toc_window_display": false
  },
  "varInspector": {
   "cols": {
    "lenName": 16,
    "lenType": 16,
    "lenVar": 40
   },
   "kernels_config": {
    "python": {
     "delete_cmd_postfix": "",
     "delete_cmd_prefix": "del ",
     "library": "var_list.py",
     "varRefreshCmd": "print(var_dic_list())"
    },
    "r": {
     "delete_cmd_postfix": ") ",
     "delete_cmd_prefix": "rm(",
     "library": "var_list.r",
     "varRefreshCmd": "cat(var_dic_list()) "
    }
   },
   "types_to_exclude": [
    "module",
    "function",
    "builtin_function_or_method",
    "instance",
    "_Feature"
   ],
   "window_display": false
  }
 },
 "nbformat": 4,
 "nbformat_minor": 4
}
