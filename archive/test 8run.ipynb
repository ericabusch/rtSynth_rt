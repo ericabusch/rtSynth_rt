{
 "cells": [
  {
   "cell_type": "code",
   "execution_count": 22,
   "metadata": {},
   "outputs": [
    {
     "name": "stdout",
     "output_type": "stream",
     "text": [
      "toml filename=/gpfs/milgram/project/turk-browne/projects/rtSynth_rt/projects/rtSynth_rt/conf/sub001.ses2.toml\n"
     ]
    }
   ],
   "source": [
    "import os\n",
    "import sys\n",
    "sys.path.append('/gpfs/milgram/project/turk-browne/projects/rtSynth_rt/')\n",
    "import argparse\n",
    "import numpy as np\n",
    "import nibabel as nib\n",
    "import scipy.io as sio\n",
    "import subprocess\n",
    "from nibabel.nicom import dicomreaders\n",
    "import pydicom as dicom  # type: ignore\n",
    "import time\n",
    "from glob import glob\n",
    "import shutil\n",
    "from nilearn.image import new_img_like\n",
    "import joblib\n",
    "import rtCommon.utils as utils\n",
    "from rtCommon.utils import loadConfigFile\n",
    "# from rtCommon.fileClient import FileInterface\n",
    "# import rtCommon.projectUtils as projUtils\n",
    "# from rtCommon.imageHandling import readRetryDicomFromFileInterface, getDicomFileName, convertDicomImgToNifti\n",
    "\n",
    "\n",
    "# argParser = argparse.ArgumentParser()\n",
    "# argParser.add_argument('--config', '-c', default='sub001.ses1.toml', type=str, help='experiment file (.json or .toml)')\n",
    "# args = argParser.parse_args()\n",
    "from rtCommon.cfg_loading import mkdir,cfg_loading\n",
    "config=\"sub001.ses2.toml\"\n",
    "cfg = cfg_loading(config)\n",
    "# cfg = cfg_loading(args.config)\n",
    "\n",
    "sys.path.append('/gpfs/milgram/project/turk-browne/projects/rtSynth_rt/expScripts/recognition/')\n",
    "from recognition_dataAnalysisFunctions import recognition_preprocess,minimalClass,behaviorDataLoading,recognition_preprocess_2run\n"
   ]
  },
  {
   "cell_type": "code",
   "execution_count": 24,
   "metadata": {
    "scrolled": true
   },
   "outputs": [
    {
     "ename": "FileNotFoundError",
     "evalue": "[Errno 2] No such file or directory: '/gpfs/milgram/apps/hpc.rhel7/software/miniconda/4.8.3/bin/dcm2niix': '/gpfs/milgram/apps/hpc.rhel7/software/miniconda/4.8.3/bin/dcm2niix'",
     "output_type": "error",
     "traceback": [
      "\u001b[0;31m---------------------------------------------------------------------------\u001b[0m",
      "\u001b[0;31mFileNotFoundError\u001b[0m                         Traceback (most recent call last)",
      "\u001b[0;32m<ipython-input-24-fefaf76da504>\u001b[0m in \u001b[0;36m<module>\u001b[0;34m\u001b[0m\n\u001b[0;32m----> 1\u001b[0;31m \u001b[0mrecognition_preprocess_2run\u001b[0m\u001b[0;34m(\u001b[0m\u001b[0mcfg\u001b[0m\u001b[0;34m,\u001b[0m\u001b[0;36m1\u001b[0m\u001b[0;34m)\u001b[0m\u001b[0;34m\u001b[0m\u001b[0;34m\u001b[0m\u001b[0m\n\u001b[0m",
      "\u001b[0;32m/gpfs/milgram/project/turk-browne/projects/rtSynth_rt/expScripts/recognition/recognition_dataAnalysisFunctions.py\u001b[0m in \u001b[0;36mrecognition_preprocess_2run\u001b[0;34m(cfg, run_asTemplate)\u001b[0m\n\u001b[1;32m    421\u001b[0m         \u001b[0mcopyfile\u001b[0m\u001b[0;34m(\u001b[0m\u001b[0mcurr_dicom\u001b[0m\u001b[0;34m,\u001b[0m\u001b[0mdicomFilename\u001b[0m\u001b[0;34m)\u001b[0m\u001b[0;34m\u001b[0m\u001b[0;34m\u001b[0m\u001b[0m\n\u001b[1;32m    422\u001b[0m         \u001b[0mniftiFilename\u001b[0m \u001b[0;34m=\u001b[0m \u001b[0mdicomFilename\u001b[0m\u001b[0;34m[\u001b[0m\u001b[0;34m:\u001b[0m\u001b[0;34m-\u001b[0m\u001b[0;36m4\u001b[0m\u001b[0;34m]\u001b[0m\u001b[0;34m+\u001b[0m\u001b[0;34m'.nii'\u001b[0m\u001b[0;34m\u001b[0m\u001b[0;34m\u001b[0m\u001b[0m\n\u001b[0;32m--> 423\u001b[0;31m         \u001b[0mconvertDicomFileToNifti\u001b[0m\u001b[0;34m(\u001b[0m\u001b[0mdicomFilename\u001b[0m\u001b[0;34m,\u001b[0m \u001b[0mniftiFilename\u001b[0m\u001b[0;34m)\u001b[0m\u001b[0;34m\u001b[0m\u001b[0;34m\u001b[0m\u001b[0m\n\u001b[0m\u001b[1;32m    424\u001b[0m         \u001b[0;31m# convertDicomImgToNifti(dicomImg, dicomFilename=f\"{tmp_dir}{curr_dicom.split('/')[-1]}\") #convert dicom to nii\u001b[0m\u001b[0;34m\u001b[0m\u001b[0;34m\u001b[0m\u001b[0;34m\u001b[0m\u001b[0m\n\u001b[1;32m    425\u001b[0m         \u001b[0;31m# os.remove(f\"{tmp_dir}/{curr_dicom.split('/')[-1]}\") # remove temp dcm file\u001b[0m\u001b[0;34m\u001b[0m\u001b[0;34m\u001b[0m\u001b[0;34m\u001b[0m\u001b[0m\n",
      "\u001b[0;32m/gpfs/milgram/project/turk-browne/projects/rtSynth_rt/rtCommon/imageHandling.py\u001b[0m in \u001b[0;36mconvertDicomFileToNifti\u001b[0;34m(dicomFilename, niftiFilename)\u001b[0m\n\u001b[1;32m    271\u001b[0m     cmd = [dcm2niiCmd, '-s', 'y', '-b', 'n', '-o', outPath, '-f', outName,\n\u001b[1;32m    272\u001b[0m            dicomFilename]\n\u001b[0;32m--> 273\u001b[0;31m     \u001b[0msubprocess\u001b[0m\u001b[0;34m.\u001b[0m\u001b[0mrun\u001b[0m\u001b[0;34m(\u001b[0m\u001b[0mcmd\u001b[0m\u001b[0;34m,\u001b[0m \u001b[0mshell\u001b[0m\u001b[0;34m=\u001b[0m\u001b[0;32mFalse\u001b[0m\u001b[0;34m,\u001b[0m \u001b[0mstdout\u001b[0m\u001b[0;34m=\u001b[0m\u001b[0msubprocess\u001b[0m\u001b[0;34m.\u001b[0m\u001b[0mDEVNULL\u001b[0m\u001b[0;34m)\u001b[0m\u001b[0;34m\u001b[0m\u001b[0;34m\u001b[0m\u001b[0m\n\u001b[0m\u001b[1;32m    274\u001b[0m \u001b[0;34m\u001b[0m\u001b[0m\n\u001b[1;32m    275\u001b[0m \u001b[0;34m\u001b[0m\u001b[0m\n",
      "\u001b[0;32m/gpfs/milgram/project/turk-browne/users/kp578/CONDA/rtcloud/lib/python3.6/subprocess.py\u001b[0m in \u001b[0;36mrun\u001b[0;34m(input, timeout, check, *popenargs, **kwargs)\u001b[0m\n\u001b[1;32m    421\u001b[0m         \u001b[0mkwargs\u001b[0m\u001b[0;34m[\u001b[0m\u001b[0;34m'stdin'\u001b[0m\u001b[0;34m]\u001b[0m \u001b[0;34m=\u001b[0m \u001b[0mPIPE\u001b[0m\u001b[0;34m\u001b[0m\u001b[0;34m\u001b[0m\u001b[0m\n\u001b[1;32m    422\u001b[0m \u001b[0;34m\u001b[0m\u001b[0m\n\u001b[0;32m--> 423\u001b[0;31m     \u001b[0;32mwith\u001b[0m \u001b[0mPopen\u001b[0m\u001b[0;34m(\u001b[0m\u001b[0;34m*\u001b[0m\u001b[0mpopenargs\u001b[0m\u001b[0;34m,\u001b[0m \u001b[0;34m**\u001b[0m\u001b[0mkwargs\u001b[0m\u001b[0;34m)\u001b[0m \u001b[0;32mas\u001b[0m \u001b[0mprocess\u001b[0m\u001b[0;34m:\u001b[0m\u001b[0;34m\u001b[0m\u001b[0;34m\u001b[0m\u001b[0m\n\u001b[0m\u001b[1;32m    424\u001b[0m         \u001b[0;32mtry\u001b[0m\u001b[0;34m:\u001b[0m\u001b[0;34m\u001b[0m\u001b[0;34m\u001b[0m\u001b[0m\n\u001b[1;32m    425\u001b[0m             \u001b[0mstdout\u001b[0m\u001b[0;34m,\u001b[0m \u001b[0mstderr\u001b[0m \u001b[0;34m=\u001b[0m \u001b[0mprocess\u001b[0m\u001b[0;34m.\u001b[0m\u001b[0mcommunicate\u001b[0m\u001b[0;34m(\u001b[0m\u001b[0minput\u001b[0m\u001b[0;34m,\u001b[0m \u001b[0mtimeout\u001b[0m\u001b[0;34m=\u001b[0m\u001b[0mtimeout\u001b[0m\u001b[0;34m)\u001b[0m\u001b[0;34m\u001b[0m\u001b[0;34m\u001b[0m\u001b[0m\n",
      "\u001b[0;32m/gpfs/milgram/project/turk-browne/users/kp578/CONDA/rtcloud/lib/python3.6/subprocess.py\u001b[0m in \u001b[0;36m__init__\u001b[0;34m(self, args, bufsize, executable, stdin, stdout, stderr, preexec_fn, close_fds, shell, cwd, env, universal_newlines, startupinfo, creationflags, restore_signals, start_new_session, pass_fds, encoding, errors)\u001b[0m\n\u001b[1;32m    727\u001b[0m                                 \u001b[0mc2pread\u001b[0m\u001b[0;34m,\u001b[0m \u001b[0mc2pwrite\u001b[0m\u001b[0;34m,\u001b[0m\u001b[0;34m\u001b[0m\u001b[0;34m\u001b[0m\u001b[0m\n\u001b[1;32m    728\u001b[0m                                 \u001b[0merrread\u001b[0m\u001b[0;34m,\u001b[0m \u001b[0merrwrite\u001b[0m\u001b[0;34m,\u001b[0m\u001b[0;34m\u001b[0m\u001b[0;34m\u001b[0m\u001b[0m\n\u001b[0;32m--> 729\u001b[0;31m                                 restore_signals, start_new_session)\n\u001b[0m\u001b[1;32m    730\u001b[0m         \u001b[0;32mexcept\u001b[0m\u001b[0;34m:\u001b[0m\u001b[0;34m\u001b[0m\u001b[0;34m\u001b[0m\u001b[0m\n\u001b[1;32m    731\u001b[0m             \u001b[0;31m# Cleanup if the child failed starting.\u001b[0m\u001b[0;34m\u001b[0m\u001b[0;34m\u001b[0m\u001b[0;34m\u001b[0m\u001b[0m\n",
      "\u001b[0;32m/gpfs/milgram/project/turk-browne/users/kp578/CONDA/rtcloud/lib/python3.6/subprocess.py\u001b[0m in \u001b[0;36m_execute_child\u001b[0;34m(self, args, executable, preexec_fn, close_fds, pass_fds, cwd, env, startupinfo, creationflags, shell, p2cread, p2cwrite, c2pread, c2pwrite, errread, errwrite, restore_signals, start_new_session)\u001b[0m\n\u001b[1;32m   1362\u001b[0m                         \u001b[0;32mif\u001b[0m \u001b[0merrno_num\u001b[0m \u001b[0;34m==\u001b[0m \u001b[0merrno\u001b[0m\u001b[0;34m.\u001b[0m\u001b[0mENOENT\u001b[0m\u001b[0;34m:\u001b[0m\u001b[0;34m\u001b[0m\u001b[0;34m\u001b[0m\u001b[0m\n\u001b[1;32m   1363\u001b[0m                             \u001b[0merr_msg\u001b[0m \u001b[0;34m+=\u001b[0m \u001b[0;34m': '\u001b[0m \u001b[0;34m+\u001b[0m \u001b[0mrepr\u001b[0m\u001b[0;34m(\u001b[0m\u001b[0merr_filename\u001b[0m\u001b[0;34m)\u001b[0m\u001b[0;34m\u001b[0m\u001b[0;34m\u001b[0m\u001b[0m\n\u001b[0;32m-> 1364\u001b[0;31m                     \u001b[0;32mraise\u001b[0m \u001b[0mchild_exception_type\u001b[0m\u001b[0;34m(\u001b[0m\u001b[0merrno_num\u001b[0m\u001b[0;34m,\u001b[0m \u001b[0merr_msg\u001b[0m\u001b[0;34m,\u001b[0m \u001b[0merr_filename\u001b[0m\u001b[0;34m)\u001b[0m\u001b[0;34m\u001b[0m\u001b[0;34m\u001b[0m\u001b[0m\n\u001b[0m\u001b[1;32m   1365\u001b[0m                 \u001b[0;32mraise\u001b[0m \u001b[0mchild_exception_type\u001b[0m\u001b[0;34m(\u001b[0m\u001b[0merr_msg\u001b[0m\u001b[0;34m)\u001b[0m\u001b[0;34m\u001b[0m\u001b[0;34m\u001b[0m\u001b[0m\n\u001b[1;32m   1366\u001b[0m \u001b[0;34m\u001b[0m\u001b[0m\n",
      "\u001b[0;31mFileNotFoundError\u001b[0m: [Errno 2] No such file or directory: '/gpfs/milgram/apps/hpc.rhel7/software/miniconda/4.8.3/bin/dcm2niix': '/gpfs/milgram/apps/hpc.rhel7/software/miniconda/4.8.3/bin/dcm2niix'"
     ]
    }
   ],
   "source": [
    "recognition_preprocess_2run(cfg,1)"
   ]
  },
  {
   "cell_type": "code",
   "execution_count": 33,
   "metadata": {},
   "outputs": [
    {
     "name": "stdout",
     "output_type": "stream",
     "text": [
      "/gpfs/milgram/pi/turk-browne/projects/rtSynth_rt\r\n"
     ]
    }
   ],
   "source": [
    "import os\n",
    "os.chdir('/gpfs/milgram/project/turk-browne/projects/rtSynth_rt/')\n",
    "!pwd"
   ]
  },
  {
   "cell_type": "code",
   "execution_count": 42,
   "metadata": {},
   "outputs": [
    {
     "data": {
      "text/plain": [
       "'bash /gpfs/milgram/project/turk-browne/projects/rtSynth_rt/expScripts/recognition/runAggregate.sh sub001.ses2.toml'"
      ]
     },
     "execution_count": 42,
     "metadata": {},
     "output_type": "execute_result"
    }
   ],
   "source": [
    "f\"sbatch {cfg.recognition_expScripts_dir}batchRegions.sh {config}\"\n",
    "f\"bash {cfg.recognition_expScripts_dir}runAggregate.sh {config}\""
   ]
  },
  {
   "cell_type": "code",
   "execution_count": 43,
   "metadata": {},
   "outputs": [
    {
     "data": {
      "text/plain": [
       "<subprocess.Popen at 0x2ad4a08ea978>"
      ]
     },
     "execution_count": 43,
     "metadata": {},
     "output_type": "execute_result"
    }
   ],
   "source": [
    "subprocess.Popen(f\"bash {cfg.recognition_expScripts_dir}runAggregate.sh {config}\",shell=True)"
   ]
  },
  {
   "cell_type": "code",
   "execution_count": 40,
   "metadata": {},
   "outputs": [
    {
     "name": "stdout",
     "output_type": "stream",
     "text": [
      "conda env=/gpfs/milgram/project/turk-browne/users/kp578/CONDA/rtcloud\n"
     ]
    }
   ],
   "source": [
    "\n",
    "\n",
    "import os\n",
    "print(f\"conda env={os.environ['CONDA_DEFAULT_ENV']}\") \n",
    "import sys\n",
    "sys.path.append('/gpfs/milgram/project/turk-browne/projects/rtSynth_rt/')\n",
    "import argparse\n",
    "import numpy as np\n",
    "import nibabel as nib\n",
    "import scipy.io as sio\n",
    "from subprocess import call\n",
    "import pandas as pd\n",
    "from nibabel.nicom import dicomreaders\n",
    "import pydicom as dicom  # type: ignore\n",
    "import time\n",
    "from glob import glob\n",
    "import shutil\n",
    "from nilearn.image import new_img_like\n",
    "import joblib\n",
    "import rtCommon.utils as utils\n",
    "from rtCommon.utils import loadConfigFile\n",
    "# from rtCommon.fileClient import FileInterface\n",
    "import rtCommon.projectUtils as projUtils\n",
    "# from rtCommon.imageHandling import readRetryDicomFromFileInterface, getDicomFileName, convertDicomImgToNifti\n"
   ]
  },
  {
   "cell_type": "code",
   "execution_count": 48,
   "metadata": {},
   "outputs": [],
   "source": [
    "file=\"/gpfs/milgram/project/turk-browne/projects/rtSynth_rt/subjects/sub001/ses2/feedback/B_evidences_1.txt\"\n",
    "\n",
    "\n",
    "file1 = open(file,\"r\") \n",
    "# L = [\"This is Delhi \\n\",\"This is Paris \\n\",\"This is London \\n\"]  \n",
    "  \n",
    "# # \\n is placed to indicate EOL (End of Line) \n",
    "# file1.write(\"Hello \\n\") \n",
    "# file1.writelines(L) \n",
    "# file1.close() #to change file access modes \n",
    "  \n",
    "# file1 = open(\"myfile.txt\",\"r+\")  \n",
    "  \n",
    "# print \"Output of Read function is \"\n",
    "B_evidences=file1.read() "
   ]
  },
  {
   "cell_type": "code",
   "execution_count": 57,
   "metadata": {},
   "outputs": [
    {
     "data": {
      "text/plain": [
       "array([-102.20512212, -105.61997935, -106.45450526, -106.90217216,\n",
       "       -103.69243435, -105.53718212, -105.02130161, -104.00685729,\n",
       "       -105.38106223, -102.58852083, -102.6446074 , -100.70006466,\n",
       "       -100.74674494, -102.60470279, -100.19074851, -102.14147819,\n",
       "       -100.44908581,  -99.23726599, -102.52237706,  -99.87781061,\n",
       "       -103.59399856, -100.75002038, -101.85424028, -101.59335157,\n",
       "       -101.68566476,  -99.82604074,  -99.8040221 ,  -99.21229547,\n",
       "        -97.55050816,  -96.88522573,  -98.58042323,  -98.64415124,\n",
       "        -98.43310647,  -98.54952759,  -98.20164625,  -99.31244202,\n",
       "        -98.10500721,  -97.65620961, -100.08763971,  -98.76808578,\n",
       "       -102.199204  ,  -99.73942494,  -99.35247044,  -97.85453015,\n",
       "        -99.96334464,  -99.32265646,  -98.12500059, -100.1956139 ,\n",
       "       -100.34841483,  -99.87340321,  -98.4595707 ,  -99.39058196,\n",
       "       -100.5411703 ,  -98.98258986, -100.21653087, -101.74935698,\n",
       "        -98.40988961,  -98.77979785,  -99.25184618, -100.35221614,\n",
       "       -101.43385029,  -99.85129721,  -99.09773805,  -99.13664943,\n",
       "       -102.42533989, -100.58458202,  -98.53264391,  -98.24068347,\n",
       "        -98.70337347,  -98.94396471,  -99.532602  ,  -99.76618738,\n",
       "       -103.40716061, -101.71144881,  -99.78400391,  -98.20895354,\n",
       "        -99.07642903,  -97.13720134,  -95.93786045,  -99.35952635,\n",
       "        -96.52723941,  -97.64248964,  -97.70759514,  -96.15210817,\n",
       "        -97.1785159 ,  -96.53197475,  -97.53131958,  -99.43008754,\n",
       "        -99.77988658,  -97.84340086, -100.18611575,  -97.31235938,\n",
       "        -98.86706095,  -99.95388078, -101.56638952, -100.77219719,\n",
       "        -99.2618924 , -100.44332088,  -98.9077889 , -100.65478243,\n",
       "        -97.18509491,  -99.087476  , -100.62972961,  -99.42913734,\n",
       "        -99.77147562,  -98.51859679,  -99.59178257,  -97.929312  ,\n",
       "       -101.25582935, -101.08496121, -102.65109999,  -99.00677447,\n",
       "       -100.31040693, -100.18952765, -100.63194305, -101.55239507,\n",
       "       -101.94314826,  -99.9425998 ,  -96.82616139,  -97.84588388,\n",
       "        -96.93285728, -100.77819236, -102.05202331,  -99.10957896,\n",
       "        -98.0130372 ,  -98.01779988,  -98.4636266 , -101.47530236,\n",
       "        -99.60942465,  -99.79626308,  -98.2651766 ,  -98.64669515,\n",
       "        -99.77113405,  -99.96800821, -101.92649162, -100.59656594,\n",
       "        -99.62014083, -103.81047583, -102.46469027,  -99.88988036,\n",
       "       -105.23132706, -101.05249953, -101.5809354 , -106.47430663,\n",
       "       -104.09843532,  -96.28523856,  -83.14479745, -106.55053072,\n",
       "       -111.92922635, -108.91309177])"
      ]
     },
     "execution_count": 57,
     "metadata": {},
     "output_type": "execute_result"
    }
   ],
   "source": []
  },
  {
   "cell_type": "code",
   "execution_count": 111,
   "metadata": {},
   "outputs": [
    {
     "data": {
      "image/png": "[encoded data removed]",
      "text/plain": [
       "<Figure size 432x288 with 1 Axes>"
      ]
     },
     "metadata": {
      "needs_background": "light"
     },
     "output_type": "display_data"
    },
    {
     "data": {
      "image/png": "[encoded data removed]",
      "text/plain": [
       "<Figure size 432x288 with 1 Axes>"
      ]
     },
     "metadata": {
      "needs_background": "light"
     },
     "output_type": "display_data"
    },
    {
     "data": {
      "image/png": "[encoded data removed]",
      "text/plain": [
       "<Figure size 432x288 with 1 Axes>"
      ]
     },
     "metadata": {
      "needs_background": "light"
     },
     "output_type": "display_data"
    },
    {
     "data": {
      "image/png": "[encoded data removed]",
      "text/plain": [
       "<Figure size 432x288 with 1 Axes>"
      ]
     },
     "metadata": {
      "needs_background": "light"
     },
     "output_type": "display_data"
    }
   ],
   "source": [
    "\n",
    "for run in range(1,5):\n",
    "    file=f\"/gpfs/milgram/project/turk-browne/projects/rtSynth_rt/subjects/sub001/ses2/feedback/B_evidences_{run}.npy\"\n",
    "    data=np.load(file) if run==1 else np.concatenate((data,np.load(file)),axis=0)\n",
    "    def gaussian(x, mu, sig):\n",
    "        # mu and sig is determined before each neurofeedback session using 2 recognition runs.\n",
    "        return round(1+18*(1 - np.exp(-np.power(x - mu, 2.) / (2 * np.power(sig, 2.))))) # map from (0,1) -> [1,19]\n",
    "\n",
    "\n",
    "    import matplotlib.pyplot as plt\n",
    "    plt.figure()\n",
    "    plt.plot(data)\n",
    "\n",
    "\n",
    "\n",
    "#     morphParams=[gaussian(B_evidence, mu, sig) for B_evidence in data]\n",
    "\n",
    "#     plt.figure()\n",
    "#     plt.plot(morphParams)"
   ]
  },
  {
   "cell_type": "code",
   "execution_count": 71,
   "metadata": {},
   "outputs": [
    {
     "data": {
      "text/plain": [
       "[<matplotlib.lines.Line2D at 0x2ad4a28a4f60>]"
      ]
     },
     "execution_count": 71,
     "metadata": {},
     "output_type": "execute_result"
    },
    {
     "data": {
      "image/png": "[encoded data removed]",
      "text/plain": [
       "<Figure size 432x288 with 1 Axes>"
      ]
     },
     "metadata": {
      "needs_background": "light"
     },
     "output_type": "display_data"
    }
   ],
   "source": [
    "mu=-120\n",
    "sig=-4\n",
    "morphParams=[gaussian(B_evidence, mu, sig) for B_evidence in data]\n",
    "\n",
    "plt.figure()\n",
    "plt.plot(morphParams)"
   ]
  },
  {
   "cell_type": "code",
   "execution_count": 72,
   "metadata": {},
   "outputs": [
    {
     "data": {
      "text/plain": [
       "{'title': 'rtSynth_rt',\n",
       " 'session': 2,\n",
       " 'subjectDay': 2,\n",
       " 'runNum': [1],\n",
       " 'scanNum': [1],\n",
       " 'subjectName': 'sub001',\n",
       " 'LASTNAME': 'rtSynth_sub001',\n",
       " 'subjectIDforxnat': 'rtSynth_sub001_ses2',\n",
       " 'realtimeFolder_subjectName': 'rtSynth_sub001',\n",
       " 'preDay_YYYYMMDD': '20210114',\n",
       " 'YYYYMMDD': '20210122',\n",
       " 'num_total_TRs': 174,\n",
       " 'TrialNumber': 12,\n",
       " 'plotTitle': 'Realtime Plot',\n",
       " 'plotXLabel': 'Sample #',\n",
       " 'plotYLabel': 'Value',\n",
       " 'plotXRangeLow': 0,\n",
       " 'plotXRangeHigh': 20,\n",
       " 'plotYRangeLow': -1,\n",
       " 'plotYRangeHigh': 1,\n",
       " 'plotAutoRangeX': False,\n",
       " 'plotAutoRangeY': True,\n",
       " 'dicomNamePattern': '001_{SCAN:06d}_{TR:06d}.dcm',\n",
       " 'minExpectedDicomSize': 300000,\n",
       " 'projectDir': '/gpfs/milgram/project/turk-browne/projects/rtSynth_rt/',\n",
       " 'tmp_folder': '/gpfs/milgram/scratch60/turk-browne/kp578/rtcloud_rt/',\n",
       " 'orderFolder': '/gpfs/milgram/project/turk-browne/projects/rtSynth_rt/expScripts/recognition/orders/',\n",
       " 'subjects_dir': '/gpfs/milgram/project/turk-browne/projects/rtSynth_rt/subjects/',\n",
       " 'dicom_folder': '/gpfs/milgram/project/realtime/DICOM/',\n",
       " 'recognition_expScripts_dir': '/gpfs/milgram/project/turk-browne/projects/rtSynth_rt/expScripts/recognition/',\n",
       " 'feedback_expScripts_dir': '/gpfs/milgram/project/turk-browne/projects/rtSynth_rt/expScripts/feedback/',\n",
       " 'TR': 2,\n",
       " 'preDay_dicom_dir': '/gpfs/milgram/project/realtime/DICOM/20210114.rtSynth_sub001.rtSynth_sub001//',\n",
       " 'dicom_dir': '/gpfs/milgram/project/realtime/DICOM/20210122.rtSynth_sub001.rtSynth_sub001_ses2//',\n",
       " 'dicomDir': '/gpfs/milgram/project/realtime/DICOM/20210122.rtSynth_sub001.rtSynth_sub001_ses2//',\n",
       " 'recognition_dir': '/gpfs/milgram/project/turk-browne/projects/rtSynth_rt/subjects/sub001/ses2/recognition/',\n",
       " 'feedback_dir': '/gpfs/milgram/project/turk-browne/projects/rtSynth_rt/subjects/sub001/ses2/feedback/',\n",
       " 'usingModel_dir': '/gpfs/milgram/project/turk-browne/projects/rtSynth_rt/subjects/sub001/ses1/recognition/clf/',\n",
       " 'trainingModel_dir': '/gpfs/milgram/project/turk-browne/projects/rtSynth_rt/subjects/sub001/ses2/recognition/clf/',\n",
       " 'templateFunctionalVolume': '/gpfs/milgram/project/turk-browne/projects/rtSynth_rt/subjects/sub001/ses1/recognition/templateFunctionalVolume.nii',\n",
       " 'templateFunctionalVolume_converted': '/gpfs/milgram/project/turk-browne/projects/rtSynth_rt/subjects/sub001/ses2/recognition//templateFunctionalVolume_converted.nii',\n",
       " 'mask_dir': '/gpfs/milgram/project/turk-browne/projects/rtSynth_rt/subjects/sub001/ses2/recognition/mask/',\n",
       " 'chosenMask': '/gpfs/milgram/project/turk-browne/projects/rtSynth_rt/subjects/sub001/ses1/recognition/chosenMask.nii.gz'}"
      ]
     },
     "execution_count": 72,
     "metadata": {},
     "output_type": "execute_result"
    }
   ],
   "source": [
    "cfg"
   ]
  },
  {
   "cell_type": "code",
   "execution_count": 73,
   "metadata": {},
   "outputs": [
    {
     "name": "stderr",
     "output_type": "stream",
     "text": [
      "/gpfs/milgram/project/turk-browne/users/kp578/CONDA/rtcloud/lib/python3.6/site-packages/ipykernel_launcher.py:115: DeprecationWarning: get_data() is deprecated in favor of get_fdata(), which has a more predictable return type. To obtain get_data() behavior going forward, use numpy.asanyarray(img.dataobj).\n",
      "\n",
      "* deprecated from version: 3.0\n",
      "* Will raise <class 'nibabel.deprecator.ExpiredDeprecationError'> as of version: 5.0\n",
      "/gpfs/milgram/project/turk-browne/users/kp578/CONDA/rtcloud/lib/python3.6/site-packages/ipykernel_launcher.py:124: DeprecationWarning: get_data() is deprecated in favor of get_fdata(), which has a more predictable return type. To obtain get_data() behavior going forward, use numpy.asanyarray(img.dataobj).\n",
      "\n",
      "* deprecated from version: 3.0\n",
      "* Will raise <class 'nibabel.deprecator.ExpiredDeprecationError'> as of version: 5.0\n"
     ]
    }
   ],
   "source": [
    "'''\n",
    "purpose: \n",
    "    train offline models\n",
    "\n",
    "steps:\n",
    "    load preprocessed and aligned behavior and brain data \n",
    "    select data with the wanted pattern like AB AC AD BC BD CD \n",
    "    train correspondng classifier and save the classifier performance and the classifiers themselves.\n",
    "\n",
    "'''\n",
    "\n",
    "import os\n",
    "import numpy as np\n",
    "import pandas as pd\n",
    "import matplotlib.pyplot as plt\n",
    "import sklearn\n",
    "import joblib\n",
    "import nibabel as nib\n",
    "import itertools\n",
    "from sklearn.linear_model import LogisticRegression\n",
    "from tqdm import tqdm\n",
    "\n",
    "def gaussian(x, mu, sig):\n",
    "    # mu and sig is determined before each neurofeedback session using 2 recognition runs.\n",
    "    return round(1+18*(1 - np.exp(-np.power(x - mu, 2.) / (2 * np.power(sig, 2.))))) # map from (0,1) -> [1,19]\n",
    "\n",
    "def normalize(X):\n",
    "    X = X - X.mean(0)\n",
    "    return X\n",
    "\n",
    "def jitter(size,const=0):\n",
    "    jit = np.random.normal(0+const, 0.05, size)\n",
    "    X = np.zeros((size))\n",
    "    X = X + jit\n",
    "    return X\n",
    "\n",
    "def other(target):\n",
    "    other_objs = [i for i in ['bed', 'bench', 'chair', 'table'] if i not in target]\n",
    "    return other_objs\n",
    "\n",
    "def red_vox(n_vox, prop=0.1):\n",
    "    return int(np.ceil(n_vox * prop))\n",
    "\n",
    "def get_inds(X, Y, pair, testRun=None):\n",
    "\n",
    "    inds = {}\n",
    "\n",
    "    # return relative indices\n",
    "    if testRun:\n",
    "        trainIX = Y.index[(Y['label'].isin(pair)) & (Y['run_num'] != int(testRun))]\n",
    "    else:\n",
    "        trainIX = Y.index[(Y['label'].isin(pair))]\n",
    "\n",
    "    # pull training and test data\n",
    "    trainX = X[trainIX]\n",
    "    trainY = Y.iloc[trainIX].label\n",
    "\n",
    "    # Main classifier on 5 runs, testing on 6th\n",
    "    clf = LogisticRegression(penalty='l2',C=1, solver='lbfgs', max_iter=1000, \n",
    "                             multi_class='multinomial').fit(trainX, trainY)\n",
    "    B = clf.coef_[0]  # pull betas\n",
    "\n",
    "    # retrieve only the first object, then only the second object\n",
    "    if testRun:\n",
    "        obj1IX = Y.index[(Y['label'] == pair[0]) & (Y['run_num'] != int(testRun))]\n",
    "        obj2IX = Y.index[(Y['label'] == pair[1]) & (Y['run_num'] != int(testRun))]\n",
    "    else:\n",
    "        obj1IX = Y.index[(Y['label'] == pair[0])]\n",
    "        obj2IX = Y.index[(Y['label'] == pair[1])]\n",
    "\n",
    "    # Get the average of the first object, then the second object\n",
    "    obj1X = np.mean(X[obj1IX], 0)\n",
    "    obj2X = np.mean(X[obj2IX], 0)\n",
    "\n",
    "    # Build the importance map\n",
    "    mult1X = obj1X * B\n",
    "    mult2X = obj2X * B\n",
    "\n",
    "    # Sort these so that they are from least to most important for a given category.\n",
    "    sortmult1X = mult1X.argsort()[::-1]\n",
    "    sortmult2X = mult2X.argsort()\n",
    "\n",
    "    # add to a dictionary for later use\n",
    "    inds[clf.classes_[0]] = sortmult1X\n",
    "    inds[clf.classes_[1]] = sortmult2X\n",
    "\n",
    "    return inds\n",
    "\n",
    "if 'milgram' in os.getcwd():\n",
    "    main_dir='/gpfs/milgram/project/turk-browne/projects/rtSynth_rt/'\n",
    "else:\n",
    "    main_dir='/Volumes/GoogleDrive/My Drive/Turk_Browne_Lab/rtcloud_kp/'\n",
    "\n",
    "working_dir=main_dir\n",
    "os.chdir(working_dir)\n",
    "\n",
    "'''\n",
    "if you read runRecording for current session and found that there are only 4 runs in the current session, \n",
    "you read the runRecording for previous session and fetch the last 4 recognition runs from previous session\n",
    "'''\n",
    "runRecording = pd.read_csv(f\"{cfg.recognition_dir}../runRecording.csv\")\n",
    "actualRuns = list(runRecording['run'].iloc[list(np.where(1==1*(runRecording['type']=='recognition'))[0])]) # can be [1,2,3,4,5,6,7,8] or [1,2,4,5]\n",
    "if len(actualRuns) < 8:\n",
    "    runRecording_preDay = pd.read_csv(f\"{cfg.subjects_dir}{cfg.subjectName}/ses{cfg.session-1}/recognition/../runRecording.csv\")\n",
    "    actualRuns_preDay = list(runRecording_preDay['run'].iloc[list(np.where(1==1*(runRecording_preDay['type']=='recognition'))[0])])[-(8-len(actualRuns)):] # might be [5,6,7,8]\n",
    "else: \n",
    "    actualRuns_preDay = []\n",
    "\n",
    "assert len(actualRuns_preDay)+len(actualRuns)==8 \n",
    "\n",
    "objects = ['bed', 'bench', 'chair', 'table']\n",
    "\n",
    "for ii,run in enumerate(actualRuns): # load behavior and brain data for current session\n",
    "    t = np.load(f\"{cfg.recognition_dir}brain_run{run}.npy\")\n",
    "    mask = nib.load(f\"{cfg.chosenMask}\").get_data()\n",
    "    t = t[:,mask==1]\n",
    "    brain_data=t if ii==0 else np.concatenate((brain_data,t), axis=0)\n",
    "\n",
    "    t = pd.read_csv(f\"{cfg.recognition_dir}behav_run{run}.csv\")\n",
    "    behav_data=t if ii==0 else pd.concat([behav_data,t])\n",
    "\n",
    "for ii,run in enumerate(actualRuns_preDay): # load behavior and brain data for previous session\n",
    "    t = np.load(f\"{cfg.subjects_dir}{cfg.subjectName}/ses{cfg.session-1}/recognition/brain_run{run}.npy\")\n",
    "    mask = nib.load(f\"{cfg.chosenMask}\").get_data()\n",
    "    t = t[:,mask==1]\n",
    "    brain_data = np.concatenate((brain_data,t), axis=0)\n",
    "\n",
    "    t = pd.read_csv(f\"{cfg.subjects_dir}{cfg.subjectName}/ses{cfg.session-1}/recognition/behav_run{run}.csv\")\n",
    "    behav_data = pd.concat([behav_data,t])\n"
   ]
  },
  {
   "cell_type": "code",
   "execution_count": 96,
   "metadata": {},
   "outputs": [
    {
     "name": "stdout",
     "output_type": "stream",
     "text": [
      "FEAT.shape=(380, 2482)\n",
      "FEAT.shape=(380, 2482)\n"
     ]
    }
   ],
   "source": [
    "FEAT=brain_data.reshape(brain_data.shape[0],-1)\n",
    "print(f\"FEAT.shape={FEAT.shape}\")\n",
    "FEAT_mean=np.mean(FEAT,axis=1)\n",
    "FEAT=(FEAT.T-FEAT_mean).T\n",
    "print(f\"FEAT.shape={FEAT.shape}\")\n",
    "META=behav_data\n"
   ]
  },
  {
   "cell_type": "code",
   "execution_count": 104,
   "metadata": {
    "scrolled": true
   },
   "outputs": [
    {
     "name": "stderr",
     "output_type": "stream",
     "text": [
      "/gpfs/milgram/project/turk-browne/users/kp578/CONDA/rtcloud/lib/python3.6/site-packages/ipykernel_launcher.py:116: DeprecationWarning: get_data() is deprecated in favor of get_fdata(), which has a more predictable return type. To obtain get_data() behavior going forward, use numpy.asanyarray(img.dataobj).\n",
      "\n",
      "* deprecated from version: 3.0\n",
      "* Will raise <class 'nibabel.deprecator.ExpiredDeprecationError'> as of version: 5.0\n",
      "/gpfs/milgram/project/turk-browne/users/kp578/CONDA/rtcloud/lib/python3.6/site-packages/ipykernel_launcher.py:125: DeprecationWarning: get_data() is deprecated in favor of get_fdata(), which has a more predictable return type. To obtain get_data() behavior going forward, use numpy.asanyarray(img.dataobj).\n",
      "\n",
      "* deprecated from version: 3.0\n",
      "* Will raise <class 'nibabel.deprecator.ExpiredDeprecationError'> as of version: 5.0\n"
     ]
    },
    {
     "name": "stdout",
     "output_type": "stream",
     "text": [
      "FEAT.shape=(380, 2482)\n",
      "obj=bed,altobj=chair\n",
      "unique(trainY)=['bed' 'chair']\n",
      "unique(testY)=['bed' 'chair']\n"
     ]
    },
    {
     "name": "stderr",
     "output_type": "stream",
     "text": [
      "/gpfs/milgram/project/turk-browne/users/kp578/CONDA/rtcloud/lib/python3.6/site-packages/pandas/core/computation/expressions.py:201: UserWarning: evaluating in Python space because the '+' operator is not supported by numexpr for the bool dtype, use '|' instead\n",
      "  f\"evaluating in Python space because the {repr(op_str)} \"\n",
      "/gpfs/milgram/project/turk-browne/users/kp578/CONDA/rtcloud/lib/python3.6/site-packages/pandas/core/computation/expressions.py:201: UserWarning: evaluating in Python space because the '*' operator is not supported by numexpr for the bool dtype, use '&' instead\n",
      "  f\"evaluating in Python space because the {repr(op_str)} \"\n",
      "/gpfs/milgram/project/turk-browne/users/kp578/CONDA/rtcloud/lib/python3.6/site-packages/pandas/core/computation/expressions.py:201: UserWarning: evaluating in Python space because the '+' operator is not supported by numexpr for the bool dtype, use '|' instead\n",
      "  f\"evaluating in Python space because the {repr(op_str)} \"\n",
      "/gpfs/milgram/project/turk-browne/users/kp578/CONDA/rtcloud/lib/python3.6/site-packages/pandas/core/computation/expressions.py:201: UserWarning: evaluating in Python space because the '*' operator is not supported by numexpr for the bool dtype, use '&' instead\n",
      "  f\"evaluating in Python space because the {repr(op_str)} \"\n"
     ]
    },
    {
     "name": "stdout",
     "output_type": "stream",
     "text": [
      "bedbench_bedchair 0.8333333333333334\n",
      "obj=bed,altobj=table\n",
      "unique(trainY)=['bed' 'table']\n",
      "unique(testY)=['bed' 'table']\n"
     ]
    },
    {
     "name": "stderr",
     "output_type": "stream",
     "text": [
      "/gpfs/milgram/project/turk-browne/users/kp578/CONDA/rtcloud/lib/python3.6/site-packages/pandas/core/computation/expressions.py:201: UserWarning: evaluating in Python space because the '+' operator is not supported by numexpr for the bool dtype, use '|' instead\n",
      "  f\"evaluating in Python space because the {repr(op_str)} \"\n",
      "/gpfs/milgram/project/turk-browne/users/kp578/CONDA/rtcloud/lib/python3.6/site-packages/pandas/core/computation/expressions.py:201: UserWarning: evaluating in Python space because the '*' operator is not supported by numexpr for the bool dtype, use '&' instead\n",
      "  f\"evaluating in Python space because the {repr(op_str)} \"\n",
      "/gpfs/milgram/project/turk-browne/users/kp578/CONDA/rtcloud/lib/python3.6/site-packages/pandas/core/computation/expressions.py:201: UserWarning: evaluating in Python space because the '+' operator is not supported by numexpr for the bool dtype, use '|' instead\n",
      "  f\"evaluating in Python space because the {repr(op_str)} \"\n",
      "/gpfs/milgram/project/turk-browne/users/kp578/CONDA/rtcloud/lib/python3.6/site-packages/pandas/core/computation/expressions.py:201: UserWarning: evaluating in Python space because the '*' operator is not supported by numexpr for the bool dtype, use '&' instead\n",
      "  f\"evaluating in Python space because the {repr(op_str)} \"\n",
      "/gpfs/milgram/project/turk-browne/users/kp578/CONDA/rtcloud/lib/python3.6/site-packages/sklearn/linear_model/_logistic.py:764: ConvergenceWarning: lbfgs failed to converge (status=1):\n",
      "STOP: TOTAL NO. of ITERATIONS REACHED LIMIT.\n",
      "\n",
      "Increase the number of iterations (max_iter) or scale the data as shown in:\n",
      "    https://scikit-learn.org/stable/modules/preprocessing.html\n",
      "Please also refer to the documentation for alternative solver options:\n",
      "    https://scikit-learn.org/stable/modules/linear_model.html#logistic-regression\n",
      "  extra_warning_msg=_LOGISTIC_SOLVER_CONVERGENCE_MSG)\n",
      "/gpfs/milgram/project/turk-browne/users/kp578/CONDA/rtcloud/lib/python3.6/site-packages/pandas/core/computation/expressions.py:201: UserWarning: evaluating in Python space because the '+' operator is not supported by numexpr for the bool dtype, use '|' instead\n",
      "  f\"evaluating in Python space because the {repr(op_str)} \"\n",
      "/gpfs/milgram/project/turk-browne/users/kp578/CONDA/rtcloud/lib/python3.6/site-packages/pandas/core/computation/expressions.py:201: UserWarning: evaluating in Python space because the '*' operator is not supported by numexpr for the bool dtype, use '&' instead\n",
      "  f\"evaluating in Python space because the {repr(op_str)} \"\n",
      "/gpfs/milgram/project/turk-browne/users/kp578/CONDA/rtcloud/lib/python3.6/site-packages/pandas/core/computation/expressions.py:201: UserWarning: evaluating in Python space because the '+' operator is not supported by numexpr for the bool dtype, use '|' instead\n",
      "  f\"evaluating in Python space because the {repr(op_str)} \"\n",
      "/gpfs/milgram/project/turk-browne/users/kp578/CONDA/rtcloud/lib/python3.6/site-packages/pandas/core/computation/expressions.py:201: UserWarning: evaluating in Python space because the '*' operator is not supported by numexpr for the bool dtype, use '&' instead\n",
      "  f\"evaluating in Python space because the {repr(op_str)} \"\n"
     ]
    },
    {
     "name": "stdout",
     "output_type": "stream",
     "text": [
      "bedbench_bedtable 0.5416666666666666\n",
      "obj=bench,altobj=chair\n",
      "unique(trainY)=['bench' 'chair']\n",
      "unique(testY)=['bench' 'chair']\n"
     ]
    },
    {
     "name": "stderr",
     "output_type": "stream",
     "text": [
      "/gpfs/milgram/project/turk-browne/users/kp578/CONDA/rtcloud/lib/python3.6/site-packages/sklearn/linear_model/_logistic.py:764: ConvergenceWarning: lbfgs failed to converge (status=1):\n",
      "STOP: TOTAL NO. of ITERATIONS REACHED LIMIT.\n",
      "\n",
      "Increase the number of iterations (max_iter) or scale the data as shown in:\n",
      "    https://scikit-learn.org/stable/modules/preprocessing.html\n",
      "Please also refer to the documentation for alternative solver options:\n",
      "    https://scikit-learn.org/stable/modules/linear_model.html#logistic-regression\n",
      "  extra_warning_msg=_LOGISTIC_SOLVER_CONVERGENCE_MSG)\n",
      "/gpfs/milgram/project/turk-browne/users/kp578/CONDA/rtcloud/lib/python3.6/site-packages/pandas/core/computation/expressions.py:201: UserWarning: evaluating in Python space because the '+' operator is not supported by numexpr for the bool dtype, use '|' instead\n",
      "  f\"evaluating in Python space because the {repr(op_str)} \"\n",
      "/gpfs/milgram/project/turk-browne/users/kp578/CONDA/rtcloud/lib/python3.6/site-packages/pandas/core/computation/expressions.py:201: UserWarning: evaluating in Python space because the '*' operator is not supported by numexpr for the bool dtype, use '&' instead\n",
      "  f\"evaluating in Python space because the {repr(op_str)} \"\n",
      "/gpfs/milgram/project/turk-browne/users/kp578/CONDA/rtcloud/lib/python3.6/site-packages/pandas/core/computation/expressions.py:201: UserWarning: evaluating in Python space because the '+' operator is not supported by numexpr for the bool dtype, use '|' instead\n",
      "  f\"evaluating in Python space because the {repr(op_str)} \"\n",
      "/gpfs/milgram/project/turk-browne/users/kp578/CONDA/rtcloud/lib/python3.6/site-packages/pandas/core/computation/expressions.py:201: UserWarning: evaluating in Python space because the '*' operator is not supported by numexpr for the bool dtype, use '&' instead\n",
      "  f\"evaluating in Python space because the {repr(op_str)} \"\n"
     ]
    },
    {
     "name": "stdout",
     "output_type": "stream",
     "text": [
      "bedbench_benchchair 0.625\n",
      "obj=bench,altobj=table\n",
      "unique(trainY)=['bench' 'table']\n",
      "unique(testY)=['bench' 'table']\n"
     ]
    },
    {
     "name": "stderr",
     "output_type": "stream",
     "text": [
      "/gpfs/milgram/project/turk-browne/users/kp578/CONDA/rtcloud/lib/python3.6/site-packages/sklearn/linear_model/_logistic.py:764: ConvergenceWarning: lbfgs failed to converge (status=1):\n",
      "STOP: TOTAL NO. of ITERATIONS REACHED LIMIT.\n",
      "\n",
      "Increase the number of iterations (max_iter) or scale the data as shown in:\n",
      "    https://scikit-learn.org/stable/modules/preprocessing.html\n",
      "Please also refer to the documentation for alternative solver options:\n",
      "    https://scikit-learn.org/stable/modules/linear_model.html#logistic-regression\n",
      "  extra_warning_msg=_LOGISTIC_SOLVER_CONVERGENCE_MSG)\n",
      "/gpfs/milgram/project/turk-browne/users/kp578/CONDA/rtcloud/lib/python3.6/site-packages/pandas/core/computation/expressions.py:201: UserWarning: evaluating in Python space because the '+' operator is not supported by numexpr for the bool dtype, use '|' instead\n",
      "  f\"evaluating in Python space because the {repr(op_str)} \"\n",
      "/gpfs/milgram/project/turk-browne/users/kp578/CONDA/rtcloud/lib/python3.6/site-packages/pandas/core/computation/expressions.py:201: UserWarning: evaluating in Python space because the '*' operator is not supported by numexpr for the bool dtype, use '&' instead\n",
      "  f\"evaluating in Python space because the {repr(op_str)} \"\n",
      "/gpfs/milgram/project/turk-browne/users/kp578/CONDA/rtcloud/lib/python3.6/site-packages/pandas/core/computation/expressions.py:201: UserWarning: evaluating in Python space because the '+' operator is not supported by numexpr for the bool dtype, use '|' instead\n",
      "  f\"evaluating in Python space because the {repr(op_str)} \"\n",
      "/gpfs/milgram/project/turk-browne/users/kp578/CONDA/rtcloud/lib/python3.6/site-packages/pandas/core/computation/expressions.py:201: UserWarning: evaluating in Python space because the '*' operator is not supported by numexpr for the bool dtype, use '&' instead\n",
      "  f\"evaluating in Python space because the {repr(op_str)} \"\n"
     ]
    },
    {
     "name": "stdout",
     "output_type": "stream",
     "text": [
      "bedbench_benchtable 0.7083333333333334\n",
      "obj=bed,altobj=bench\n",
      "unique(trainY)=['bed' 'bench']\n",
      "unique(testY)=['bed' 'bench']\n",
      "bedchair_bedbench 0.7916666666666666\n",
      "obj=bed,altobj=table\n",
      "unique(trainY)=['bed' 'table']\n",
      "unique(testY)=['bed' 'table']\n"
     ]
    },
    {
     "name": "stderr",
     "output_type": "stream",
     "text": [
      "/gpfs/milgram/project/turk-browne/users/kp578/CONDA/rtcloud/lib/python3.6/site-packages/pandas/core/computation/expressions.py:201: UserWarning: evaluating in Python space because the '+' operator is not supported by numexpr for the bool dtype, use '|' instead\n",
      "  f\"evaluating in Python space because the {repr(op_str)} \"\n",
      "/gpfs/milgram/project/turk-browne/users/kp578/CONDA/rtcloud/lib/python3.6/site-packages/pandas/core/computation/expressions.py:201: UserWarning: evaluating in Python space because the '*' operator is not supported by numexpr for the bool dtype, use '&' instead\n",
      "  f\"evaluating in Python space because the {repr(op_str)} \"\n",
      "/gpfs/milgram/project/turk-browne/users/kp578/CONDA/rtcloud/lib/python3.6/site-packages/pandas/core/computation/expressions.py:201: UserWarning: evaluating in Python space because the '+' operator is not supported by numexpr for the bool dtype, use '|' instead\n",
      "  f\"evaluating in Python space because the {repr(op_str)} \"\n",
      "/gpfs/milgram/project/turk-browne/users/kp578/CONDA/rtcloud/lib/python3.6/site-packages/pandas/core/computation/expressions.py:201: UserWarning: evaluating in Python space because the '*' operator is not supported by numexpr for the bool dtype, use '&' instead\n",
      "  f\"evaluating in Python space because the {repr(op_str)} \"\n",
      "/gpfs/milgram/project/turk-browne/users/kp578/CONDA/rtcloud/lib/python3.6/site-packages/sklearn/linear_model/_logistic.py:764: ConvergenceWarning: lbfgs failed to converge (status=1):\n",
      "STOP: TOTAL NO. of ITERATIONS REACHED LIMIT.\n",
      "\n",
      "Increase the number of iterations (max_iter) or scale the data as shown in:\n",
      "    https://scikit-learn.org/stable/modules/preprocessing.html\n",
      "Please also refer to the documentation for alternative solver options:\n",
      "    https://scikit-learn.org/stable/modules/linear_model.html#logistic-regression\n",
      "  extra_warning_msg=_LOGISTIC_SOLVER_CONVERGENCE_MSG)\n",
      "/gpfs/milgram/project/turk-browne/users/kp578/CONDA/rtcloud/lib/python3.6/site-packages/pandas/core/computation/expressions.py:201: UserWarning: evaluating in Python space because the '+' operator is not supported by numexpr for the bool dtype, use '|' instead\n",
      "  f\"evaluating in Python space because the {repr(op_str)} \"\n",
      "/gpfs/milgram/project/turk-browne/users/kp578/CONDA/rtcloud/lib/python3.6/site-packages/pandas/core/computation/expressions.py:201: UserWarning: evaluating in Python space because the '*' operator is not supported by numexpr for the bool dtype, use '&' instead\n",
      "  f\"evaluating in Python space because the {repr(op_str)} \"\n",
      "/gpfs/milgram/project/turk-browne/users/kp578/CONDA/rtcloud/lib/python3.6/site-packages/pandas/core/computation/expressions.py:201: UserWarning: evaluating in Python space because the '+' operator is not supported by numexpr for the bool dtype, use '|' instead\n",
      "  f\"evaluating in Python space because the {repr(op_str)} \"\n",
      "/gpfs/milgram/project/turk-browne/users/kp578/CONDA/rtcloud/lib/python3.6/site-packages/pandas/core/computation/expressions.py:201: UserWarning: evaluating in Python space because the '*' operator is not supported by numexpr for the bool dtype, use '&' instead\n",
      "  f\"evaluating in Python space because the {repr(op_str)} \"\n"
     ]
    },
    {
     "name": "stdout",
     "output_type": "stream",
     "text": [
      "bedchair_bedtable 0.5416666666666666\n",
      "obj=chair,altobj=bench\n",
      "unique(trainY)=['bench' 'chair']\n",
      "unique(testY)=['bench' 'chair']\n"
     ]
    },
    {
     "name": "stderr",
     "output_type": "stream",
     "text": [
      "/gpfs/milgram/project/turk-browne/users/kp578/CONDA/rtcloud/lib/python3.6/site-packages/sklearn/linear_model/_logistic.py:764: ConvergenceWarning: lbfgs failed to converge (status=1):\n",
      "STOP: TOTAL NO. of ITERATIONS REACHED LIMIT.\n",
      "\n",
      "Increase the number of iterations (max_iter) or scale the data as shown in:\n",
      "    https://scikit-learn.org/stable/modules/preprocessing.html\n",
      "Please also refer to the documentation for alternative solver options:\n",
      "    https://scikit-learn.org/stable/modules/linear_model.html#logistic-regression\n",
      "  extra_warning_msg=_LOGISTIC_SOLVER_CONVERGENCE_MSG)\n",
      "/gpfs/milgram/project/turk-browne/users/kp578/CONDA/rtcloud/lib/python3.6/site-packages/pandas/core/computation/expressions.py:201: UserWarning: evaluating in Python space because the '+' operator is not supported by numexpr for the bool dtype, use '|' instead\n",
      "  f\"evaluating in Python space because the {repr(op_str)} \"\n",
      "/gpfs/milgram/project/turk-browne/users/kp578/CONDA/rtcloud/lib/python3.6/site-packages/pandas/core/computation/expressions.py:201: UserWarning: evaluating in Python space because the '*' operator is not supported by numexpr for the bool dtype, use '&' instead\n",
      "  f\"evaluating in Python space because the {repr(op_str)} \"\n",
      "/gpfs/milgram/project/turk-browne/users/kp578/CONDA/rtcloud/lib/python3.6/site-packages/pandas/core/computation/expressions.py:201: UserWarning: evaluating in Python space because the '+' operator is not supported by numexpr for the bool dtype, use '|' instead\n",
      "  f\"evaluating in Python space because the {repr(op_str)} \"\n",
      "/gpfs/milgram/project/turk-browne/users/kp578/CONDA/rtcloud/lib/python3.6/site-packages/pandas/core/computation/expressions.py:201: UserWarning: evaluating in Python space because the '*' operator is not supported by numexpr for the bool dtype, use '&' instead\n",
      "  f\"evaluating in Python space because the {repr(op_str)} \"\n"
     ]
    },
    {
     "name": "stdout",
     "output_type": "stream",
     "text": [
      "bedchair_chairbench 0.625\n",
      "obj=chair,altobj=table\n",
      "unique(trainY)=['chair' 'table']\n",
      "unique(testY)=['chair' 'table']\n"
     ]
    },
    {
     "name": "stderr",
     "output_type": "stream",
     "text": [
      "/gpfs/milgram/project/turk-browne/users/kp578/CONDA/rtcloud/lib/python3.6/site-packages/sklearn/linear_model/_logistic.py:764: ConvergenceWarning: lbfgs failed to converge (status=1):\n",
      "STOP: TOTAL NO. of ITERATIONS REACHED LIMIT.\n",
      "\n",
      "Increase the number of iterations (max_iter) or scale the data as shown in:\n",
      "    https://scikit-learn.org/stable/modules/preprocessing.html\n",
      "Please also refer to the documentation for alternative solver options:\n",
      "    https://scikit-learn.org/stable/modules/linear_model.html#logistic-regression\n",
      "  extra_warning_msg=_LOGISTIC_SOLVER_CONVERGENCE_MSG)\n",
      "/gpfs/milgram/project/turk-browne/users/kp578/CONDA/rtcloud/lib/python3.6/site-packages/pandas/core/computation/expressions.py:201: UserWarning: evaluating in Python space because the '+' operator is not supported by numexpr for the bool dtype, use '|' instead\n",
      "  f\"evaluating in Python space because the {repr(op_str)} \"\n",
      "/gpfs/milgram/project/turk-browne/users/kp578/CONDA/rtcloud/lib/python3.6/site-packages/pandas/core/computation/expressions.py:201: UserWarning: evaluating in Python space because the '*' operator is not supported by numexpr for the bool dtype, use '&' instead\n",
      "  f\"evaluating in Python space because the {repr(op_str)} \"\n",
      "/gpfs/milgram/project/turk-browne/users/kp578/CONDA/rtcloud/lib/python3.6/site-packages/pandas/core/computation/expressions.py:201: UserWarning: evaluating in Python space because the '+' operator is not supported by numexpr for the bool dtype, use '|' instead\n",
      "  f\"evaluating in Python space because the {repr(op_str)} \"\n",
      "/gpfs/milgram/project/turk-browne/users/kp578/CONDA/rtcloud/lib/python3.6/site-packages/pandas/core/computation/expressions.py:201: UserWarning: evaluating in Python space because the '*' operator is not supported by numexpr for the bool dtype, use '&' instead\n",
      "  f\"evaluating in Python space because the {repr(op_str)} \"\n"
     ]
    },
    {
     "name": "stdout",
     "output_type": "stream",
     "text": [
      "bedchair_chairtable 0.75\n",
      "obj=bed,altobj=bench\n",
      "unique(trainY)=['bed' 'bench']\n",
      "unique(testY)=['bed' 'bench']\n",
      "bedtable_bedbench 0.7916666666666666\n",
      "obj=bed,altobj=chair\n",
      "unique(trainY)=['bed' 'chair']\n",
      "unique(testY)=['bed' 'chair']\n"
     ]
    },
    {
     "name": "stderr",
     "output_type": "stream",
     "text": [
      "/gpfs/milgram/project/turk-browne/users/kp578/CONDA/rtcloud/lib/python3.6/site-packages/pandas/core/computation/expressions.py:201: UserWarning: evaluating in Python space because the '+' operator is not supported by numexpr for the bool dtype, use '|' instead\n",
      "  f\"evaluating in Python space because the {repr(op_str)} \"\n",
      "/gpfs/milgram/project/turk-browne/users/kp578/CONDA/rtcloud/lib/python3.6/site-packages/pandas/core/computation/expressions.py:201: UserWarning: evaluating in Python space because the '*' operator is not supported by numexpr for the bool dtype, use '&' instead\n",
      "  f\"evaluating in Python space because the {repr(op_str)} \"\n",
      "/gpfs/milgram/project/turk-browne/users/kp578/CONDA/rtcloud/lib/python3.6/site-packages/pandas/core/computation/expressions.py:201: UserWarning: evaluating in Python space because the '+' operator is not supported by numexpr for the bool dtype, use '|' instead\n",
      "  f\"evaluating in Python space because the {repr(op_str)} \"\n",
      "/gpfs/milgram/project/turk-browne/users/kp578/CONDA/rtcloud/lib/python3.6/site-packages/pandas/core/computation/expressions.py:201: UserWarning: evaluating in Python space because the '*' operator is not supported by numexpr for the bool dtype, use '&' instead\n",
      "  f\"evaluating in Python space because the {repr(op_str)} \"\n"
     ]
    },
    {
     "name": "stdout",
     "output_type": "stream",
     "text": [
      "bedtable_bedchair 0.8333333333333334\n",
      "obj=table,altobj=bench\n",
      "unique(trainY)=['bench' 'table']\n",
      "unique(testY)=['bench' 'table']\n"
     ]
    },
    {
     "name": "stderr",
     "output_type": "stream",
     "text": [
      "/gpfs/milgram/project/turk-browne/users/kp578/CONDA/rtcloud/lib/python3.6/site-packages/pandas/core/computation/expressions.py:201: UserWarning: evaluating in Python space because the '+' operator is not supported by numexpr for the bool dtype, use '|' instead\n",
      "  f\"evaluating in Python space because the {repr(op_str)} \"\n",
      "/gpfs/milgram/project/turk-browne/users/kp578/CONDA/rtcloud/lib/python3.6/site-packages/pandas/core/computation/expressions.py:201: UserWarning: evaluating in Python space because the '*' operator is not supported by numexpr for the bool dtype, use '&' instead\n",
      "  f\"evaluating in Python space because the {repr(op_str)} \"\n",
      "/gpfs/milgram/project/turk-browne/users/kp578/CONDA/rtcloud/lib/python3.6/site-packages/pandas/core/computation/expressions.py:201: UserWarning: evaluating in Python space because the '+' operator is not supported by numexpr for the bool dtype, use '|' instead\n",
      "  f\"evaluating in Python space because the {repr(op_str)} \"\n",
      "/gpfs/milgram/project/turk-browne/users/kp578/CONDA/rtcloud/lib/python3.6/site-packages/pandas/core/computation/expressions.py:201: UserWarning: evaluating in Python space because the '*' operator is not supported by numexpr for the bool dtype, use '&' instead\n",
      "  f\"evaluating in Python space because the {repr(op_str)} \"\n",
      "/gpfs/milgram/project/turk-browne/users/kp578/CONDA/rtcloud/lib/python3.6/site-packages/sklearn/linear_model/_logistic.py:764: ConvergenceWarning: lbfgs failed to converge (status=1):\n",
      "STOP: TOTAL NO. of ITERATIONS REACHED LIMIT.\n",
      "\n",
      "Increase the number of iterations (max_iter) or scale the data as shown in:\n",
      "    https://scikit-learn.org/stable/modules/preprocessing.html\n",
      "Please also refer to the documentation for alternative solver options:\n",
      "    https://scikit-learn.org/stable/modules/linear_model.html#logistic-regression\n",
      "  extra_warning_msg=_LOGISTIC_SOLVER_CONVERGENCE_MSG)\n",
      "/gpfs/milgram/project/turk-browne/users/kp578/CONDA/rtcloud/lib/python3.6/site-packages/pandas/core/computation/expressions.py:201: UserWarning: evaluating in Python space because the '+' operator is not supported by numexpr for the bool dtype, use '|' instead\n",
      "  f\"evaluating in Python space because the {repr(op_str)} \"\n",
      "/gpfs/milgram/project/turk-browne/users/kp578/CONDA/rtcloud/lib/python3.6/site-packages/pandas/core/computation/expressions.py:201: UserWarning: evaluating in Python space because the '*' operator is not supported by numexpr for the bool dtype, use '&' instead\n",
      "  f\"evaluating in Python space because the {repr(op_str)} \"\n",
      "/gpfs/milgram/project/turk-browne/users/kp578/CONDA/rtcloud/lib/python3.6/site-packages/pandas/core/computation/expressions.py:201: UserWarning: evaluating in Python space because the '+' operator is not supported by numexpr for the bool dtype, use '|' instead\n",
      "  f\"evaluating in Python space because the {repr(op_str)} \"\n",
      "/gpfs/milgram/project/turk-browne/users/kp578/CONDA/rtcloud/lib/python3.6/site-packages/pandas/core/computation/expressions.py:201: UserWarning: evaluating in Python space because the '*' operator is not supported by numexpr for the bool dtype, use '&' instead\n",
      "  f\"evaluating in Python space because the {repr(op_str)} \"\n"
     ]
    },
    {
     "name": "stdout",
     "output_type": "stream",
     "text": [
      "bedtable_tablebench 0.7083333333333334\n",
      "obj=table,altobj=chair\n",
      "unique(trainY)=['chair' 'table']\n",
      "unique(testY)=['chair' 'table']\n"
     ]
    },
    {
     "name": "stderr",
     "output_type": "stream",
     "text": [
      "/gpfs/milgram/project/turk-browne/users/kp578/CONDA/rtcloud/lib/python3.6/site-packages/sklearn/linear_model/_logistic.py:764: ConvergenceWarning: lbfgs failed to converge (status=1):\n",
      "STOP: TOTAL NO. of ITERATIONS REACHED LIMIT.\n",
      "\n",
      "Increase the number of iterations (max_iter) or scale the data as shown in:\n",
      "    https://scikit-learn.org/stable/modules/preprocessing.html\n",
      "Please also refer to the documentation for alternative solver options:\n",
      "    https://scikit-learn.org/stable/modules/linear_model.html#logistic-regression\n",
      "  extra_warning_msg=_LOGISTIC_SOLVER_CONVERGENCE_MSG)\n",
      "/gpfs/milgram/project/turk-browne/users/kp578/CONDA/rtcloud/lib/python3.6/site-packages/pandas/core/computation/expressions.py:201: UserWarning: evaluating in Python space because the '+' operator is not supported by numexpr for the bool dtype, use '|' instead\n",
      "  f\"evaluating in Python space because the {repr(op_str)} \"\n",
      "/gpfs/milgram/project/turk-browne/users/kp578/CONDA/rtcloud/lib/python3.6/site-packages/pandas/core/computation/expressions.py:201: UserWarning: evaluating in Python space because the '*' operator is not supported by numexpr for the bool dtype, use '&' instead\n",
      "  f\"evaluating in Python space because the {repr(op_str)} \"\n",
      "/gpfs/milgram/project/turk-browne/users/kp578/CONDA/rtcloud/lib/python3.6/site-packages/pandas/core/computation/expressions.py:201: UserWarning: evaluating in Python space because the '+' operator is not supported by numexpr for the bool dtype, use '|' instead\n",
      "  f\"evaluating in Python space because the {repr(op_str)} \"\n",
      "/gpfs/milgram/project/turk-browne/users/kp578/CONDA/rtcloud/lib/python3.6/site-packages/pandas/core/computation/expressions.py:201: UserWarning: evaluating in Python space because the '*' operator is not supported by numexpr for the bool dtype, use '&' instead\n",
      "  f\"evaluating in Python space because the {repr(op_str)} \"\n"
     ]
    },
    {
     "name": "stdout",
     "output_type": "stream",
     "text": [
      "bedtable_tablechair 0.75\n",
      "obj=bench,altobj=bed\n",
      "unique(trainY)=['bed' 'bench']\n",
      "unique(testY)=['bed' 'bench']\n",
      "benchchair_benchbed 0.7916666666666666\n",
      "obj=bench,altobj=table\n",
      "unique(trainY)=['bench' 'table']\n",
      "unique(testY)=['bench' 'table']\n"
     ]
    },
    {
     "name": "stderr",
     "output_type": "stream",
     "text": [
      "/gpfs/milgram/project/turk-browne/users/kp578/CONDA/rtcloud/lib/python3.6/site-packages/pandas/core/computation/expressions.py:201: UserWarning: evaluating in Python space because the '+' operator is not supported by numexpr for the bool dtype, use '|' instead\n",
      "  f\"evaluating in Python space because the {repr(op_str)} \"\n",
      "/gpfs/milgram/project/turk-browne/users/kp578/CONDA/rtcloud/lib/python3.6/site-packages/pandas/core/computation/expressions.py:201: UserWarning: evaluating in Python space because the '*' operator is not supported by numexpr for the bool dtype, use '&' instead\n",
      "  f\"evaluating in Python space because the {repr(op_str)} \"\n",
      "/gpfs/milgram/project/turk-browne/users/kp578/CONDA/rtcloud/lib/python3.6/site-packages/pandas/core/computation/expressions.py:201: UserWarning: evaluating in Python space because the '+' operator is not supported by numexpr for the bool dtype, use '|' instead\n",
      "  f\"evaluating in Python space because the {repr(op_str)} \"\n",
      "/gpfs/milgram/project/turk-browne/users/kp578/CONDA/rtcloud/lib/python3.6/site-packages/pandas/core/computation/expressions.py:201: UserWarning: evaluating in Python space because the '*' operator is not supported by numexpr for the bool dtype, use '&' instead\n",
      "  f\"evaluating in Python space because the {repr(op_str)} \"\n",
      "/gpfs/milgram/project/turk-browne/users/kp578/CONDA/rtcloud/lib/python3.6/site-packages/sklearn/linear_model/_logistic.py:764: ConvergenceWarning: lbfgs failed to converge (status=1):\n",
      "STOP: TOTAL NO. of ITERATIONS REACHED LIMIT.\n",
      "\n",
      "Increase the number of iterations (max_iter) or scale the data as shown in:\n",
      "    https://scikit-learn.org/stable/modules/preprocessing.html\n",
      "Please also refer to the documentation for alternative solver options:\n",
      "    https://scikit-learn.org/stable/modules/linear_model.html#logistic-regression\n",
      "  extra_warning_msg=_LOGISTIC_SOLVER_CONVERGENCE_MSG)\n",
      "/gpfs/milgram/project/turk-browne/users/kp578/CONDA/rtcloud/lib/python3.6/site-packages/pandas/core/computation/expressions.py:201: UserWarning: evaluating in Python space because the '+' operator is not supported by numexpr for the bool dtype, use '|' instead\n",
      "  f\"evaluating in Python space because the {repr(op_str)} \"\n",
      "/gpfs/milgram/project/turk-browne/users/kp578/CONDA/rtcloud/lib/python3.6/site-packages/pandas/core/computation/expressions.py:201: UserWarning: evaluating in Python space because the '*' operator is not supported by numexpr for the bool dtype, use '&' instead\n",
      "  f\"evaluating in Python space because the {repr(op_str)} \"\n",
      "/gpfs/milgram/project/turk-browne/users/kp578/CONDA/rtcloud/lib/python3.6/site-packages/pandas/core/computation/expressions.py:201: UserWarning: evaluating in Python space because the '+' operator is not supported by numexpr for the bool dtype, use '|' instead\n",
      "  f\"evaluating in Python space because the {repr(op_str)} \"\n",
      "/gpfs/milgram/project/turk-browne/users/kp578/CONDA/rtcloud/lib/python3.6/site-packages/pandas/core/computation/expressions.py:201: UserWarning: evaluating in Python space because the '*' operator is not supported by numexpr for the bool dtype, use '&' instead\n",
      "  f\"evaluating in Python space because the {repr(op_str)} \"\n"
     ]
    },
    {
     "name": "stdout",
     "output_type": "stream",
     "text": [
      "benchchair_benchtable 0.7083333333333334\n",
      "obj=chair,altobj=bed\n",
      "unique(trainY)=['bed' 'chair']\n",
      "unique(testY)=['bed' 'chair']\n",
      "benchchair_chairbed 0.8333333333333334\n",
      "obj=chair,altobj=table\n",
      "unique(trainY)=['chair' 'table']\n",
      "unique(testY)=['chair' 'table']\n"
     ]
    },
    {
     "name": "stderr",
     "output_type": "stream",
     "text": [
      "/gpfs/milgram/project/turk-browne/users/kp578/CONDA/rtcloud/lib/python3.6/site-packages/pandas/core/computation/expressions.py:201: UserWarning: evaluating in Python space because the '+' operator is not supported by numexpr for the bool dtype, use '|' instead\n",
      "  f\"evaluating in Python space because the {repr(op_str)} \"\n",
      "/gpfs/milgram/project/turk-browne/users/kp578/CONDA/rtcloud/lib/python3.6/site-packages/pandas/core/computation/expressions.py:201: UserWarning: evaluating in Python space because the '*' operator is not supported by numexpr for the bool dtype, use '&' instead\n",
      "  f\"evaluating in Python space because the {repr(op_str)} \"\n",
      "/gpfs/milgram/project/turk-browne/users/kp578/CONDA/rtcloud/lib/python3.6/site-packages/pandas/core/computation/expressions.py:201: UserWarning: evaluating in Python space because the '+' operator is not supported by numexpr for the bool dtype, use '|' instead\n",
      "  f\"evaluating in Python space because the {repr(op_str)} \"\n",
      "/gpfs/milgram/project/turk-browne/users/kp578/CONDA/rtcloud/lib/python3.6/site-packages/pandas/core/computation/expressions.py:201: UserWarning: evaluating in Python space because the '*' operator is not supported by numexpr for the bool dtype, use '&' instead\n",
      "  f\"evaluating in Python space because the {repr(op_str)} \"\n",
      "/gpfs/milgram/project/turk-browne/users/kp578/CONDA/rtcloud/lib/python3.6/site-packages/sklearn/linear_model/_logistic.py:764: ConvergenceWarning: lbfgs failed to converge (status=1):\n",
      "STOP: TOTAL NO. of ITERATIONS REACHED LIMIT.\n",
      "\n",
      "Increase the number of iterations (max_iter) or scale the data as shown in:\n",
      "    https://scikit-learn.org/stable/modules/preprocessing.html\n",
      "Please also refer to the documentation for alternative solver options:\n",
      "    https://scikit-learn.org/stable/modules/linear_model.html#logistic-regression\n",
      "  extra_warning_msg=_LOGISTIC_SOLVER_CONVERGENCE_MSG)\n",
      "/gpfs/milgram/project/turk-browne/users/kp578/CONDA/rtcloud/lib/python3.6/site-packages/pandas/core/computation/expressions.py:201: UserWarning: evaluating in Python space because the '+' operator is not supported by numexpr for the bool dtype, use '|' instead\n",
      "  f\"evaluating in Python space because the {repr(op_str)} \"\n",
      "/gpfs/milgram/project/turk-browne/users/kp578/CONDA/rtcloud/lib/python3.6/site-packages/pandas/core/computation/expressions.py:201: UserWarning: evaluating in Python space because the '*' operator is not supported by numexpr for the bool dtype, use '&' instead\n",
      "  f\"evaluating in Python space because the {repr(op_str)} \"\n",
      "/gpfs/milgram/project/turk-browne/users/kp578/CONDA/rtcloud/lib/python3.6/site-packages/pandas/core/computation/expressions.py:201: UserWarning: evaluating in Python space because the '+' operator is not supported by numexpr for the bool dtype, use '|' instead\n",
      "  f\"evaluating in Python space because the {repr(op_str)} \"\n",
      "/gpfs/milgram/project/turk-browne/users/kp578/CONDA/rtcloud/lib/python3.6/site-packages/pandas/core/computation/expressions.py:201: UserWarning: evaluating in Python space because the '*' operator is not supported by numexpr for the bool dtype, use '&' instead\n",
      "  f\"evaluating in Python space because the {repr(op_str)} \"\n"
     ]
    },
    {
     "name": "stdout",
     "output_type": "stream",
     "text": [
      "benchchair_chairtable 0.75\n",
      "obj=bench,altobj=bed\n",
      "unique(trainY)=['bed' 'bench']\n",
      "unique(testY)=['bed' 'bench']\n",
      "benchtable_benchbed 0.7916666666666666\n",
      "obj=bench,altobj=chair\n",
      "unique(trainY)=['bench' 'chair']\n",
      "unique(testY)=['bench' 'chair']\n"
     ]
    },
    {
     "name": "stderr",
     "output_type": "stream",
     "text": [
      "/gpfs/milgram/project/turk-browne/users/kp578/CONDA/rtcloud/lib/python3.6/site-packages/pandas/core/computation/expressions.py:201: UserWarning: evaluating in Python space because the '+' operator is not supported by numexpr for the bool dtype, use '|' instead\n",
      "  f\"evaluating in Python space because the {repr(op_str)} \"\n",
      "/gpfs/milgram/project/turk-browne/users/kp578/CONDA/rtcloud/lib/python3.6/site-packages/pandas/core/computation/expressions.py:201: UserWarning: evaluating in Python space because the '*' operator is not supported by numexpr for the bool dtype, use '&' instead\n",
      "  f\"evaluating in Python space because the {repr(op_str)} \"\n",
      "/gpfs/milgram/project/turk-browne/users/kp578/CONDA/rtcloud/lib/python3.6/site-packages/pandas/core/computation/expressions.py:201: UserWarning: evaluating in Python space because the '+' operator is not supported by numexpr for the bool dtype, use '|' instead\n",
      "  f\"evaluating in Python space because the {repr(op_str)} \"\n",
      "/gpfs/milgram/project/turk-browne/users/kp578/CONDA/rtcloud/lib/python3.6/site-packages/pandas/core/computation/expressions.py:201: UserWarning: evaluating in Python space because the '*' operator is not supported by numexpr for the bool dtype, use '&' instead\n",
      "  f\"evaluating in Python space because the {repr(op_str)} \"\n",
      "/gpfs/milgram/project/turk-browne/users/kp578/CONDA/rtcloud/lib/python3.6/site-packages/sklearn/linear_model/_logistic.py:764: ConvergenceWarning: lbfgs failed to converge (status=1):\n",
      "STOP: TOTAL NO. of ITERATIONS REACHED LIMIT.\n",
      "\n",
      "Increase the number of iterations (max_iter) or scale the data as shown in:\n",
      "    https://scikit-learn.org/stable/modules/preprocessing.html\n",
      "Please also refer to the documentation for alternative solver options:\n",
      "    https://scikit-learn.org/stable/modules/linear_model.html#logistic-regression\n",
      "  extra_warning_msg=_LOGISTIC_SOLVER_CONVERGENCE_MSG)\n",
      "/gpfs/milgram/project/turk-browne/users/kp578/CONDA/rtcloud/lib/python3.6/site-packages/pandas/core/computation/expressions.py:201: UserWarning: evaluating in Python space because the '+' operator is not supported by numexpr for the bool dtype, use '|' instead\n",
      "  f\"evaluating in Python space because the {repr(op_str)} \"\n",
      "/gpfs/milgram/project/turk-browne/users/kp578/CONDA/rtcloud/lib/python3.6/site-packages/pandas/core/computation/expressions.py:201: UserWarning: evaluating in Python space because the '*' operator is not supported by numexpr for the bool dtype, use '&' instead\n",
      "  f\"evaluating in Python space because the {repr(op_str)} \"\n",
      "/gpfs/milgram/project/turk-browne/users/kp578/CONDA/rtcloud/lib/python3.6/site-packages/pandas/core/computation/expressions.py:201: UserWarning: evaluating in Python space because the '+' operator is not supported by numexpr for the bool dtype, use '|' instead\n",
      "  f\"evaluating in Python space because the {repr(op_str)} \"\n",
      "/gpfs/milgram/project/turk-browne/users/kp578/CONDA/rtcloud/lib/python3.6/site-packages/pandas/core/computation/expressions.py:201: UserWarning: evaluating in Python space because the '*' operator is not supported by numexpr for the bool dtype, use '&' instead\n",
      "  f\"evaluating in Python space because the {repr(op_str)} \"\n"
     ]
    },
    {
     "name": "stdout",
     "output_type": "stream",
     "text": [
      "benchtable_benchchair 0.625\n",
      "obj=table,altobj=bed\n",
      "unique(trainY)=['bed' 'table']\n",
      "unique(testY)=['bed' 'table']\n"
     ]
    },
    {
     "name": "stderr",
     "output_type": "stream",
     "text": [
      "/gpfs/milgram/project/turk-browne/users/kp578/CONDA/rtcloud/lib/python3.6/site-packages/sklearn/linear_model/_logistic.py:764: ConvergenceWarning: lbfgs failed to converge (status=1):\n",
      "STOP: TOTAL NO. of ITERATIONS REACHED LIMIT.\n",
      "\n",
      "Increase the number of iterations (max_iter) or scale the data as shown in:\n",
      "    https://scikit-learn.org/stable/modules/preprocessing.html\n",
      "Please also refer to the documentation for alternative solver options:\n",
      "    https://scikit-learn.org/stable/modules/linear_model.html#logistic-regression\n",
      "  extra_warning_msg=_LOGISTIC_SOLVER_CONVERGENCE_MSG)\n",
      "/gpfs/milgram/project/turk-browne/users/kp578/CONDA/rtcloud/lib/python3.6/site-packages/pandas/core/computation/expressions.py:201: UserWarning: evaluating in Python space because the '+' operator is not supported by numexpr for the bool dtype, use '|' instead\n",
      "  f\"evaluating in Python space because the {repr(op_str)} \"\n",
      "/gpfs/milgram/project/turk-browne/users/kp578/CONDA/rtcloud/lib/python3.6/site-packages/pandas/core/computation/expressions.py:201: UserWarning: evaluating in Python space because the '*' operator is not supported by numexpr for the bool dtype, use '&' instead\n",
      "  f\"evaluating in Python space because the {repr(op_str)} \"\n",
      "/gpfs/milgram/project/turk-browne/users/kp578/CONDA/rtcloud/lib/python3.6/site-packages/pandas/core/computation/expressions.py:201: UserWarning: evaluating in Python space because the '+' operator is not supported by numexpr for the bool dtype, use '|' instead\n",
      "  f\"evaluating in Python space because the {repr(op_str)} \"\n",
      "/gpfs/milgram/project/turk-browne/users/kp578/CONDA/rtcloud/lib/python3.6/site-packages/pandas/core/computation/expressions.py:201: UserWarning: evaluating in Python space because the '*' operator is not supported by numexpr for the bool dtype, use '&' instead\n",
      "  f\"evaluating in Python space because the {repr(op_str)} \"\n"
     ]
    },
    {
     "name": "stdout",
     "output_type": "stream",
     "text": [
      "benchtable_tablebed 0.5416666666666666\n",
      "obj=table,altobj=chair\n",
      "unique(trainY)=['chair' 'table']\n",
      "unique(testY)=['chair' 'table']\n"
     ]
    },
    {
     "name": "stderr",
     "output_type": "stream",
     "text": [
      "/gpfs/milgram/project/turk-browne/users/kp578/CONDA/rtcloud/lib/python3.6/site-packages/sklearn/linear_model/_logistic.py:764: ConvergenceWarning: lbfgs failed to converge (status=1):\n",
      "STOP: TOTAL NO. of ITERATIONS REACHED LIMIT.\n",
      "\n",
      "Increase the number of iterations (max_iter) or scale the data as shown in:\n",
      "    https://scikit-learn.org/stable/modules/preprocessing.html\n",
      "Please also refer to the documentation for alternative solver options:\n",
      "    https://scikit-learn.org/stable/modules/linear_model.html#logistic-regression\n",
      "  extra_warning_msg=_LOGISTIC_SOLVER_CONVERGENCE_MSG)\n",
      "/gpfs/milgram/project/turk-browne/users/kp578/CONDA/rtcloud/lib/python3.6/site-packages/pandas/core/computation/expressions.py:201: UserWarning: evaluating in Python space because the '+' operator is not supported by numexpr for the bool dtype, use '|' instead\n",
      "  f\"evaluating in Python space because the {repr(op_str)} \"\n",
      "/gpfs/milgram/project/turk-browne/users/kp578/CONDA/rtcloud/lib/python3.6/site-packages/pandas/core/computation/expressions.py:201: UserWarning: evaluating in Python space because the '*' operator is not supported by numexpr for the bool dtype, use '&' instead\n",
      "  f\"evaluating in Python space because the {repr(op_str)} \"\n",
      "/gpfs/milgram/project/turk-browne/users/kp578/CONDA/rtcloud/lib/python3.6/site-packages/pandas/core/computation/expressions.py:201: UserWarning: evaluating in Python space because the '+' operator is not supported by numexpr for the bool dtype, use '|' instead\n",
      "  f\"evaluating in Python space because the {repr(op_str)} \"\n",
      "/gpfs/milgram/project/turk-browne/users/kp578/CONDA/rtcloud/lib/python3.6/site-packages/pandas/core/computation/expressions.py:201: UserWarning: evaluating in Python space because the '*' operator is not supported by numexpr for the bool dtype, use '&' instead\n",
      "  f\"evaluating in Python space because the {repr(op_str)} \"\n"
     ]
    },
    {
     "name": "stdout",
     "output_type": "stream",
     "text": [
      "benchtable_tablechair 0.75\n",
      "obj=chair,altobj=bed\n",
      "unique(trainY)=['bed' 'chair']\n",
      "unique(testY)=['bed' 'chair']\n",
      "chairtable_chairbed 0.8333333333333334\n",
      "obj=chair,altobj=bench\n",
      "unique(trainY)=['bench' 'chair']\n",
      "unique(testY)=['bench' 'chair']\n"
     ]
    },
    {
     "name": "stderr",
     "output_type": "stream",
     "text": [
      "/gpfs/milgram/project/turk-browne/users/kp578/CONDA/rtcloud/lib/python3.6/site-packages/pandas/core/computation/expressions.py:201: UserWarning: evaluating in Python space because the '+' operator is not supported by numexpr for the bool dtype, use '|' instead\n",
      "  f\"evaluating in Python space because the {repr(op_str)} \"\n",
      "/gpfs/milgram/project/turk-browne/users/kp578/CONDA/rtcloud/lib/python3.6/site-packages/pandas/core/computation/expressions.py:201: UserWarning: evaluating in Python space because the '*' operator is not supported by numexpr for the bool dtype, use '&' instead\n",
      "  f\"evaluating in Python space because the {repr(op_str)} \"\n",
      "/gpfs/milgram/project/turk-browne/users/kp578/CONDA/rtcloud/lib/python3.6/site-packages/pandas/core/computation/expressions.py:201: UserWarning: evaluating in Python space because the '+' operator is not supported by numexpr for the bool dtype, use '|' instead\n",
      "  f\"evaluating in Python space because the {repr(op_str)} \"\n",
      "/gpfs/milgram/project/turk-browne/users/kp578/CONDA/rtcloud/lib/python3.6/site-packages/pandas/core/computation/expressions.py:201: UserWarning: evaluating in Python space because the '*' operator is not supported by numexpr for the bool dtype, use '&' instead\n",
      "  f\"evaluating in Python space because the {repr(op_str)} \"\n",
      "/gpfs/milgram/project/turk-browne/users/kp578/CONDA/rtcloud/lib/python3.6/site-packages/sklearn/linear_model/_logistic.py:764: ConvergenceWarning: lbfgs failed to converge (status=1):\n",
      "STOP: TOTAL NO. of ITERATIONS REACHED LIMIT.\n",
      "\n",
      "Increase the number of iterations (max_iter) or scale the data as shown in:\n",
      "    https://scikit-learn.org/stable/modules/preprocessing.html\n",
      "Please also refer to the documentation for alternative solver options:\n",
      "    https://scikit-learn.org/stable/modules/linear_model.html#logistic-regression\n",
      "  extra_warning_msg=_LOGISTIC_SOLVER_CONVERGENCE_MSG)\n",
      "/gpfs/milgram/project/turk-browne/users/kp578/CONDA/rtcloud/lib/python3.6/site-packages/pandas/core/computation/expressions.py:201: UserWarning: evaluating in Python space because the '+' operator is not supported by numexpr for the bool dtype, use '|' instead\n",
      "  f\"evaluating in Python space because the {repr(op_str)} \"\n",
      "/gpfs/milgram/project/turk-browne/users/kp578/CONDA/rtcloud/lib/python3.6/site-packages/pandas/core/computation/expressions.py:201: UserWarning: evaluating in Python space because the '*' operator is not supported by numexpr for the bool dtype, use '&' instead\n",
      "  f\"evaluating in Python space because the {repr(op_str)} \"\n",
      "/gpfs/milgram/project/turk-browne/users/kp578/CONDA/rtcloud/lib/python3.6/site-packages/pandas/core/computation/expressions.py:201: UserWarning: evaluating in Python space because the '+' operator is not supported by numexpr for the bool dtype, use '|' instead\n",
      "  f\"evaluating in Python space because the {repr(op_str)} \"\n",
      "/gpfs/milgram/project/turk-browne/users/kp578/CONDA/rtcloud/lib/python3.6/site-packages/pandas/core/computation/expressions.py:201: UserWarning: evaluating in Python space because the '*' operator is not supported by numexpr for the bool dtype, use '&' instead\n",
      "  f\"evaluating in Python space because the {repr(op_str)} \"\n"
     ]
    },
    {
     "name": "stdout",
     "output_type": "stream",
     "text": [
      "chairtable_chairbench 0.625\n",
      "obj=table,altobj=bed\n",
      "unique(trainY)=['bed' 'table']\n",
      "unique(testY)=['bed' 'table']\n"
     ]
    },
    {
     "name": "stderr",
     "output_type": "stream",
     "text": [
      "/gpfs/milgram/project/turk-browne/users/kp578/CONDA/rtcloud/lib/python3.6/site-packages/sklearn/linear_model/_logistic.py:764: ConvergenceWarning: lbfgs failed to converge (status=1):\n",
      "STOP: TOTAL NO. of ITERATIONS REACHED LIMIT.\n",
      "\n",
      "Increase the number of iterations (max_iter) or scale the data as shown in:\n",
      "    https://scikit-learn.org/stable/modules/preprocessing.html\n",
      "Please also refer to the documentation for alternative solver options:\n",
      "    https://scikit-learn.org/stable/modules/linear_model.html#logistic-regression\n",
      "  extra_warning_msg=_LOGISTIC_SOLVER_CONVERGENCE_MSG)\n",
      "/gpfs/milgram/project/turk-browne/users/kp578/CONDA/rtcloud/lib/python3.6/site-packages/pandas/core/computation/expressions.py:201: UserWarning: evaluating in Python space because the '+' operator is not supported by numexpr for the bool dtype, use '|' instead\n",
      "  f\"evaluating in Python space because the {repr(op_str)} \"\n",
      "/gpfs/milgram/project/turk-browne/users/kp578/CONDA/rtcloud/lib/python3.6/site-packages/pandas/core/computation/expressions.py:201: UserWarning: evaluating in Python space because the '*' operator is not supported by numexpr for the bool dtype, use '&' instead\n",
      "  f\"evaluating in Python space because the {repr(op_str)} \"\n",
      "/gpfs/milgram/project/turk-browne/users/kp578/CONDA/rtcloud/lib/python3.6/site-packages/pandas/core/computation/expressions.py:201: UserWarning: evaluating in Python space because the '+' operator is not supported by numexpr for the bool dtype, use '|' instead\n",
      "  f\"evaluating in Python space because the {repr(op_str)} \"\n",
      "/gpfs/milgram/project/turk-browne/users/kp578/CONDA/rtcloud/lib/python3.6/site-packages/pandas/core/computation/expressions.py:201: UserWarning: evaluating in Python space because the '*' operator is not supported by numexpr for the bool dtype, use '&' instead\n",
      "  f\"evaluating in Python space because the {repr(op_str)} \"\n"
     ]
    },
    {
     "name": "stdout",
     "output_type": "stream",
     "text": [
      "chairtable_tablebed 0.5416666666666666\n",
      "obj=table,altobj=bench\n",
      "unique(trainY)=['bench' 'table']\n",
      "unique(testY)=['bench' 'table']\n",
      "chairtable_tablebench 0.7083333333333334\n"
     ]
    },
    {
     "name": "stderr",
     "output_type": "stream",
     "text": [
      "/gpfs/milgram/project/turk-browne/users/kp578/CONDA/rtcloud/lib/python3.6/site-packages/sklearn/linear_model/_logistic.py:764: ConvergenceWarning: lbfgs failed to converge (status=1):\n",
      "STOP: TOTAL NO. of ITERATIONS REACHED LIMIT.\n",
      "\n",
      "Increase the number of iterations (max_iter) or scale the data as shown in:\n",
      "    https://scikit-learn.org/stable/modules/preprocessing.html\n",
      "Please also refer to the documentation for alternative solver options:\n",
      "    https://scikit-learn.org/stable/modules/linear_model.html#logistic-regression\n",
      "  extra_warning_msg=_LOGISTIC_SOLVER_CONVERGENCE_MSG)\n"
     ]
    }
   ],
   "source": [
    "def minimalClass(cfg):\n",
    "    '''\n",
    "    purpose: \n",
    "        train offline models\n",
    "\n",
    "    steps:\n",
    "        load preprocessed and aligned behavior and brain data \n",
    "        select data with the wanted pattern like AB AC AD BC BD CD \n",
    "        train correspondng classifier and save the classifier performance and the classifiers themselves.\n",
    "\n",
    "    '''\n",
    "\n",
    "    import os\n",
    "    import numpy as np\n",
    "    import pandas as pd\n",
    "    import matplotlib.pyplot as plt\n",
    "    import sklearn\n",
    "    import joblib\n",
    "    import nibabel as nib\n",
    "    import itertools\n",
    "    from sklearn.linear_model import LogisticRegression\n",
    "    from tqdm import tqdm\n",
    "\n",
    "    def gaussian(x, mu, sig):\n",
    "        # mu and sig is determined before each neurofeedback session using 2 recognition runs.\n",
    "        return round(1+18*(1 - np.exp(-np.power(x - mu, 2.) / (2 * np.power(sig, 2.))))) # map from (0,1) -> [1,19]\n",
    "\n",
    "    def normalize(X):\n",
    "        X = X - X.mean(0)\n",
    "        return X\n",
    "\n",
    "    def jitter(size,const=0):\n",
    "        jit = np.random.normal(0+const, 0.05, size)\n",
    "        X = np.zeros((size))\n",
    "        X = X + jit\n",
    "        return X\n",
    "\n",
    "    def other(target):\n",
    "        other_objs = [i for i in ['bed', 'bench', 'chair', 'table'] if i not in target]\n",
    "        return other_objs\n",
    "\n",
    "    def red_vox(n_vox, prop=0.1):\n",
    "        return int(np.ceil(n_vox * prop))\n",
    "\n",
    "    def get_inds(X, Y, pair, testRun=None):\n",
    "        \n",
    "        inds = {}\n",
    "        \n",
    "        # return relative indices\n",
    "        if testRun:\n",
    "            trainIX = Y.index[(Y['label'].isin(pair)) & (Y['run_num'] != int(testRun))]\n",
    "        else:\n",
    "            trainIX = Y.index[(Y['label'].isin(pair))]\n",
    "\n",
    "        # pull training and test data\n",
    "        trainX = X[trainIX]\n",
    "        trainY = Y.iloc[trainIX].label\n",
    "        \n",
    "        # Main classifier on 5 runs, testing on 6th\n",
    "        clf = LogisticRegression(penalty='l2',C=1, solver='lbfgs', max_iter=1000, \n",
    "                                 multi_class='multinomial').fit(trainX, trainY)\n",
    "        B = clf.coef_[0]  # pull betas\n",
    "\n",
    "        # retrieve only the first object, then only the second object\n",
    "        if testRun:\n",
    "            obj1IX = Y.index[(Y['label'] == pair[0]) & (Y['run_num'] != int(testRun))]\n",
    "            obj2IX = Y.index[(Y['label'] == pair[1]) & (Y['run_num'] != int(testRun))]\n",
    "        else:\n",
    "            obj1IX = Y.index[(Y['label'] == pair[0])]\n",
    "            obj2IX = Y.index[(Y['label'] == pair[1])]\n",
    "\n",
    "        # Get the average of the first object, then the second object\n",
    "        obj1X = np.mean(X[obj1IX], 0)\n",
    "        obj2X = np.mean(X[obj2IX], 0)\n",
    "\n",
    "        # Build the importance map\n",
    "        mult1X = obj1X * B\n",
    "        mult2X = obj2X * B\n",
    "\n",
    "        # Sort these so that they are from least to most important for a given category.\n",
    "        sortmult1X = mult1X.argsort()[::-1]\n",
    "        sortmult2X = mult2X.argsort()\n",
    "\n",
    "        # add to a dictionary for later use\n",
    "        inds[clf.classes_[0]] = sortmult1X\n",
    "        inds[clf.classes_[1]] = sortmult2X\n",
    "                 \n",
    "        return inds\n",
    "\n",
    "    if 'milgram' in os.getcwd():\n",
    "        main_dir='/gpfs/milgram/project/turk-browne/projects/rtSynth_rt/'\n",
    "    else:\n",
    "        main_dir='/Volumes/GoogleDrive/My Drive/Turk_Browne_Lab/rtcloud_kp/'\n",
    "\n",
    "    working_dir=main_dir\n",
    "    os.chdir(working_dir)\n",
    "\n",
    "    '''\n",
    "    if you read runRecording for current session and found that there are only 4 runs in the current session, \n",
    "    you read the runRecording for previous session and fetch the last 4 recognition runs from previous session\n",
    "    '''\n",
    "    runRecording = pd.read_csv(f\"{cfg.recognition_dir}../runRecording.csv\")\n",
    "    actualRuns = list(runRecording['run'].iloc[list(np.where(1==1*(runRecording['type']=='recognition'))[0])]) # can be [1,2,3,4,5,6,7,8] or [1,2,4,5]\n",
    "    if len(actualRuns) < 8:\n",
    "        runRecording_preDay = pd.read_csv(f\"{cfg.subjects_dir}{cfg.subjectName}/ses{cfg.session-1}/recognition/../runRecording.csv\")\n",
    "        actualRuns_preDay = list(runRecording_preDay['run'].iloc[list(np.where(1==1*(runRecording_preDay['type']=='recognition'))[0])])[-(8-len(actualRuns)):] # might be [5,6,7,8]\n",
    "    else: \n",
    "        actualRuns_preDay = []\n",
    "\n",
    "    assert len(actualRuns_preDay)+len(actualRuns)==8 \n",
    "\n",
    "    objects = ['bed', 'bench', 'chair', 'table']\n",
    "\n",
    "    for ii,run in enumerate(actualRuns): # load behavior and brain data for current session\n",
    "        t = np.load(f\"{cfg.recognition_dir}brain_run{run}.npy\")\n",
    "        mask = nib.load(f\"{cfg.chosenMask}\").get_data()\n",
    "        t = t[:,mask==1]\n",
    "        brain_data=t if ii==0 else np.concatenate((brain_data,t), axis=0)\n",
    "\n",
    "        t = pd.read_csv(f\"{cfg.recognition_dir}behav_run{run}.csv\")\n",
    "        behav_data=t if ii==0 else pd.concat([behav_data,t])\n",
    "\n",
    "    for ii,run in enumerate(actualRuns_preDay): # load behavior and brain data for previous session\n",
    "        t = np.load(f\"{cfg.subjects_dir}{cfg.subjectName}/ses{cfg.session-1}/recognition/brain_run{run}.npy\")\n",
    "        mask = nib.load(f\"{cfg.chosenMask}\").get_data()\n",
    "        t = t[:,mask==1]\n",
    "        brain_data = np.concatenate((brain_data,t), axis=0)\n",
    "\n",
    "        t = pd.read_csv(f\"{cfg.subjects_dir}{cfg.subjectName}/ses{cfg.session-1}/recognition/behav_run{run}.csv\")\n",
    "        behav_data = pd.concat([behav_data,t])\n",
    "\n",
    "    FEAT=brain_data.reshape(brain_data.shape[0],-1)\n",
    "    print(f\"FEAT.shape={FEAT.shape}\")\n",
    "    FEAT_mean=np.mean(FEAT,axis=1)\n",
    "    FEAT=(FEAT.T-FEAT_mean).T\n",
    "\n",
    "    META=behav_data\n",
    "\n",
    "    # convert item colume to label colume\n",
    "    imcodeDict={\n",
    "    'A': 'bed',\n",
    "    'B': 'chair',\n",
    "    'C': 'table',\n",
    "    'D': 'bench'}\n",
    "    label=[]\n",
    "    for curr_trial in range(META.shape[0]):\n",
    "        label.append(imcodeDict[META['Item'].iloc[curr_trial]])\n",
    "    META['label']=label # merge the label column with the data dataframe\n",
    "\n",
    "    # Which run to use as test data (leave as None to not have test data)\n",
    "    testRun = 2 # when testing: testRun = 2 ; META['run_num'].iloc[:5]=2\n",
    "\n",
    "    # Decide on the proportion of crescent data to use for classification\n",
    "    include = 1\n",
    "    accuracyContainer=[]\n",
    "\n",
    "\n",
    "    allpairs = itertools.combinations(objects,2)\n",
    "\n",
    "    # Iterate over all the possible target pairs of objects\n",
    "    for pair in allpairs:\n",
    "        # Find the control (remaining) objects for this pair\n",
    "        altpair = other(pair)\n",
    "        \n",
    "        # pull sorted indices for each of the critical objects, in order of importance (low to high)\n",
    "        # inds = get_inds(FEAT, META, pair, testRun=testRun)\n",
    "        \n",
    "        # Find the number of voxels that will be left given your inclusion parameter above\n",
    "        # nvox = red_vox(FEAT.shape[1], include)\n",
    "        \n",
    "        for obj in pair:\n",
    "            # foil = [i for i in pair if i != obj][0]\n",
    "            for altobj in altpair:\n",
    "                \n",
    "                # establish a naming convention where it is $TARGET_$CLASSIFICATION\n",
    "                # Target is the NF pair (e.g. bed/bench)\n",
    "                # Classificationis is btw one of the targets, and a control (e.g. bed/chair, or bed/table, NOT bed/bench)\n",
    "                naming = '{}{}_{}{}'.format(pair[0], pair[1], obj, altobj)\n",
    "                \n",
    "                # Pull the relevant inds from your previously established dictionary \n",
    "                # obj_inds = inds[obj]\n",
    "                \n",
    "                # If you're using testdata, this function will split it up. Otherwise it leaves out run as a parameter\n",
    "                # if testRun:\n",
    "                #     trainIX = META.index[(META['label'].isin([obj, altobj])) & (META['run_num'] != int(testRun))]\n",
    "                #     testIX = META.index[(META['label'].isin([obj, altobj])) & (META['run_num'] == int(testRun))]\n",
    "                # else:\n",
    "                #     trainIX = META.index[(META['label'].isin([obj, altobj]))]\n",
    "                #     testIX = META.index[(META['label'].isin([obj, altobj]))]\n",
    "                # # pull training and test data\n",
    "                # trainX = FEAT[trainIX]\n",
    "                # testX = FEAT[testIX]\n",
    "                # trainY = META.iloc[trainIX].label\n",
    "                # testY = META.iloc[testIX].label\n",
    "                \n",
    "                # print(f\"obj={obj},altobj={altobj}\")\n",
    "                # print(f\"unique(trainY)={np.unique(trainY)}\")\n",
    "                # print(f\"unique(testY)={np.unique(testY)}\")\n",
    "                # assert len(np.unique(trainY))==2\n",
    "\n",
    "                if testRun:\n",
    "                    trainIX = ((META['label']==obj) + (META['label']==altobj)) * (META['run_num']!=int(testRun))\n",
    "                    testIX = ((META['label']==obj) + (META['label']==altobj)) * (META['run_num']==int(testRun))\n",
    "                else:\n",
    "                    trainIX = ((META['label']==obj) + (META['label']==altobj))\n",
    "                    testIX = ((META['label']==obj) + (META['label']==altobj))\n",
    "                # pull training and test data\n",
    "                trainX = FEAT[trainIX]\n",
    "                testX = FEAT[testIX]\n",
    "                trainY = META.iloc[np.asarray(trainIX)].label\n",
    "                testY = META.iloc[np.asarray(testIX)].label\n",
    "\n",
    "                print(f\"obj={obj},altobj={altobj}\")\n",
    "                print(f\"unique(trainY)={np.unique(trainY)}\")\n",
    "                print(f\"unique(testY)={np.unique(testY)}\")\n",
    "                assert len(np.unique(trainY))==2\n",
    "\n",
    "                # # If you're selecting high-importance features, this bit handles that\n",
    "                # if include < 1:\n",
    "                #     trainX = trainX[:, obj_inds[-nvox:]]\n",
    "                #     testX = testX[:, obj_inds[-nvox:]]\n",
    "                \n",
    "                # Train your classifier\n",
    "                clf = LogisticRegression(penalty='l2',C=1, solver='lbfgs', max_iter=1000, \n",
    "                                         multi_class='multinomial').fit(trainX, trainY)\n",
    "                \n",
    "                model_folder = cfg.trainingModel_dir\n",
    "                # Save it for later use\n",
    "                joblib.dump(clf, model_folder +'/{}.joblib'.format(naming))\n",
    "                \n",
    "                # Monitor progress by printing accuracy (only useful if you're running a test set)\n",
    "                acc = clf.score(testX, testY)\n",
    "                print(naming, acc)\n",
    "minimalClass(cfg)"
   ]
  },
  {
   "cell_type": "code",
   "execution_count": 121,
   "metadata": {},
   "outputs": [
    {
     "data": {
      "text/plain": [
       "'/gpfs/milgram/project/turk-browne/projects/rtSynth_rt/subjects/sub001/ses2/recognition/clf/'"
      ]
     },
     "execution_count": 121,
     "metadata": {},
     "output_type": "execute_result"
    }
   ],
   "source": [
    "cfg.trainingModel_dir"
   ]
  },
  {
   "cell_type": "code",
   "execution_count": 108,
   "metadata": {},
   "outputs": [
    {
     "name": "stdout",
     "output_type": "stream",
     "text": [
      "evidence_floor=22.482526985348045\n",
      "evidence_ceil=-23.473596052503737\n"
     ]
    },
    {
     "name": "stderr",
     "output_type": "stream",
     "text": [
      "/gpfs/milgram/project/turk-browne/users/kp578/CONDA/rtcloud/lib/python3.6/site-packages/ipykernel_launcher.py:40: DeprecationWarning: get_data() is deprecated in favor of get_fdata(), which has a more predictable return type. To obtain get_data() behavior going forward, use numpy.asanyarray(img.dataobj).\n",
      "\n",
      "* deprecated from version: 3.0\n",
      "* Will raise <class 'nibabel.deprecator.ExpiredDeprecationError'> as of version: 5.0\n"
     ]
    }
   ],
   "source": [
    "def morphingTarget(cfg):\n",
    "    '''\n",
    "    purpose:\n",
    "        get the morphing target function\n",
    "    steps:\n",
    "        load train clf\n",
    "        load brain data and behavior data\n",
    "        get the morphing target function\n",
    "            evidence_floor is C evidence for CD classifier(can also be D evidence for CD classifier)\n",
    "            evidence_ceil  is A evidence in AC and AD classifier\n",
    "    '''\n",
    "\n",
    "    import os\n",
    "    import numpy as np\n",
    "    import pandas as pd\n",
    "    import matplotlib.pyplot as plt\n",
    "    import sklearn\n",
    "    import joblib\n",
    "    import nibabel as nib\n",
    "    import itertools\n",
    "    from sklearn.linear_model import LogisticRegression\n",
    "    from tqdm import tqdm\n",
    "\n",
    "\n",
    "    if 'milgram' in os.getcwd():\n",
    "        main_dir='/gpfs/milgram/project/turk-browne/projects/rtSynth_rt/'\n",
    "    else:\n",
    "        main_dir='/Volumes/GoogleDrive/My Drive/Turk_Browne_Lab/rtcloud_kp/'\n",
    "\n",
    "    working_dir=main_dir\n",
    "    os.chdir(working_dir)\n",
    "\n",
    "    runRecording = pd.read_csv(f\"{cfg.recognition_dir}../runRecording.csv\")\n",
    "    actualRuns = list(runRecording['run'].iloc[list(np.where(1==1*(runRecording['type']=='recognition'))[0])]) # can be [1,2,3,4,5,6,7,8] or [1,2,4,5]\n",
    "\n",
    "    objects = ['bed', 'bench', 'chair', 'table']\n",
    "\n",
    "    for ii,run in enumerate(actualRuns[:2]): # load behavior and brain data for current session\n",
    "        t = np.load(f\"{cfg.recognition_dir}brain_run{run}.npy\")\n",
    "        mask = nib.load(f\"{cfg.chosenMask}\").get_data()\n",
    "        t = t[:,mask==1]\n",
    "        brain_data=t if ii==0 else np.concatenate((brain_data,t), axis=0)\n",
    "\n",
    "        t = pd.read_csv(f\"{cfg.recognition_dir}behav_run{run}.csv\")\n",
    "        behav_data=t if ii==0 else pd.concat([behav_data,t])\n",
    "\n",
    "    FEAT=brain_data.reshape(brain_data.shape[0],-1)\n",
    "    FEAT_mean=np.mean(FEAT,axis=1)\n",
    "    FEAT=(FEAT.T-FEAT_mean).T\n",
    "    META=behav_data\n",
    "\n",
    "    # convert item colume to label colume\n",
    "    imcodeDict={\n",
    "    'A': 'bed',\n",
    "    'B': 'chair',\n",
    "    'C': 'table',\n",
    "    'D': 'bench'}\n",
    "    label=[]\n",
    "    for curr_trial in range(META.shape[0]):\n",
    "        label.append(imcodeDict[META['Item'].iloc[curr_trial]])\n",
    "    META['label']=label # merge the label column with the data dataframe\n",
    "\n",
    "\n",
    "    def classifierEvidence(clf,X,Y): # X shape is [trials,voxelNumber], Y is ['bed', 'bed'] for example # return a 1-d array of probability\n",
    "        # This function get the data X and evidence object I want to know Y, and output the trained model evidence.\n",
    "        targetID=[np.where((clf.classes_==i)==True)[0][0] for i in Y]\n",
    "        Evidence=(np.sum(X*clf.coef_,axis=1)+clf.intercept_) if targetID[0]==1 else (1-(np.sum(X*clf.coef_,axis=1)+clf.intercept_))\n",
    "        return np.asarray(Evidence)\n",
    "\n",
    "    A_ID = (META['label']=='bed')\n",
    "    X = FEAT[A_ID]\n",
    "\n",
    "    # evidence_floor is C evidence for AC_CD BC_CD CD_CD classifier(can also be D evidence for CD classifier)\n",
    "    Y = ['table'] * X.shape[0]\n",
    "    CD_clf=joblib.load(cfg.usingModel_dir +'bedbench_benchtable.joblib') # These 4 clf are the same: bedbench_benchtable.joblib bedtable_tablebench.joblib benchchair_benchtable.joblib chairtable_tablebench.joblib\n",
    "    CD_C_evidence = classifierEvidence(CD_clf,X,Y)\n",
    "    evidence_floor = np.mean(CD_C_evidence)\n",
    "    print(f\"evidence_floor={evidence_floor}\")\n",
    "\n",
    "    # evidence_ceil  is A evidence in AC and AD classifier\n",
    "    Y = ['bed'] * X.shape[0]\n",
    "    AC_clf=joblib.load(cfg.usingModel_dir +'bedbench_bedtable.joblib') # These 4 clf are the same:   bedbench_bedtable.joblib bedchair_bedtable.joblib benchtable_tablebed.joblib chairtable_tablebed.joblib\n",
    "    AC_A_evidence = classifierEvidence(AC_clf,X,Y)\n",
    "    evidence_ceil1 = AC_A_evidence\n",
    "\n",
    "    Y = ['bed'] * X.shape[0]\n",
    "    AD_clf=joblib.load(cfg.usingModel_dir +'bedchair_bedbench.joblib') # These 4 clf are the same:   bedchair_bedbench.joblib bedtable_bedbench.joblib benchchair_benchbed.joblib benchtable_benchbed.joblib\n",
    "    AD_A_evidence = classifierEvidence(AD_clf,X,Y)\n",
    "    evidence_ceil2 = AD_A_evidence\n",
    "\n",
    "    evidence_ceil = np.mean((evidence_ceil1+evidence_ceil2)/2)\n",
    "    print(f\"evidence_ceil={evidence_ceil}\")\n",
    "\n",
    "    return evidence_floor, evidence_ceil\n",
    "floor, ceil = morphingTarget(cfg)\n",
    "\n",
    "mu = (ceil+floor)/2\n",
    "sig = (ceil-floor)/2.3548\n",
    "np.save(f\"{cfg.feedback_dir}morphingTarget\",[mu,sig])"
   ]
  },
  {
   "cell_type": "code",
   "execution_count": 1,
   "metadata": {},
   "outputs": [
    {
     "data": {
      "text/plain": [
       "[<matplotlib.lines.Line2D at 0x2b3a7642f6a0>]"
      ]
     },
     "execution_count": 1,
     "metadata": {},
     "output_type": "execute_result"
    },
    {
     "data": {
      "image/png": "[encoded data removed]",
      "text/plain": [
       "<Figure size 432x288 with 1 Axes>"
      ]
     },
     "metadata": {
      "needs_background": "light"
     },
     "output_type": "display_data"
    },
    {
     "data": {
      "image/png": "[encoded data removed]",
      "text/plain": [
       "<Figure size 432x288 with 1 Axes>"
      ]
     },
     "metadata": {
      "needs_background": "light"
     },
     "output_type": "display_data"
    },
    {
     "data": {
      "image/png": "[encoded data removed]",
      "text/plain": [
       "<Figure size 432x288 with 1 Axes>"
      ]
     },
     "metadata": {
      "needs_background": "light"
     },
     "output_type": "display_data"
    },
    {
     "data": {
      "image/png": "[encoded data removed]",
      "text/plain": [
       "<Figure size 432x288 with 1 Axes>"
      ]
     },
     "metadata": {
      "needs_background": "light"
     },
     "output_type": "display_data"
    },
    {
     "data": {
      "image/png": "[encoded data removed]",
      "text/plain": [
       "<Figure size 432x288 with 1 Axes>"
      ]
     },
     "metadata": {
      "needs_background": "light"
     },
     "output_type": "display_data"
    }
   ],
   "source": [
    "import numpy as np\n",
    "\n",
    "for run in range(1,5):\n",
    "    file=f\"/gpfs/milgram/project/turk-browne/projects/rtSynth_rt/subjects/sub001/ses2/feedback/B_evidences_{run}.npy\"\n",
    "    data=np.load(file) if run==1 else np.concatenate((data,np.load(file)),axis=0)\n",
    "    def gaussian(x, mu, sig):\n",
    "        # mu and sig is determined before each neurofeedback session using 2 recognition runs.\n",
    "        return round(1+18*(1 - np.exp(-np.power(x - mu, 2.) / (2 * np.power(sig, 2.))))) # map from (0,1) -> [1,19]\n",
    "\n",
    "\n",
    "    import matplotlib.pyplot as plt\n",
    "    plt.figure()\n",
    "    plt.plot(data)\n",
    "\n",
    "\n",
    "\n",
    "#     morphParams=[gaussian(B_evidence, mu, sig) for B_evidence in data]\n",
    "\n",
    "#     plt.figure()\n",
    "#     plt.plot(morphParams)\n",
    "\n",
    "\n",
    "\n",
    "mu=-140\n",
    "sig=50\n",
    "morphParams=[gaussian(B_evidence, mu, sig) for B_evidence in data]\n",
    "\n",
    "plt.figure()\n",
    "plt.plot(morphParams)"
   ]
  }
 ],
 "metadata": {
  "kernelspec": {
   "display_name": "Python 3",
   "language": "python",
   "name": "python3"
  },
  "language_info": {
   "codemirror_mode": {
    "name": "ipython",
    "version": 3
   },
   "file_extension": ".py",
   "mimetype": "text/x-python",
   "name": "python",
   "nbconvert_exporter": "python",
   "pygments_lexer": "ipython3",
   "version": "3.6.12"
  },
  "toc": {
   "base_numbering": 1,
   "nav_menu": {},
   "number_sections": true,
   "sideBar": true,
   "skip_h1_title": false,
   "title_cell": "Table of Contents",
   "title_sidebar": "Contents",
   "toc_cell": false,
   "toc_position": {},
   "toc_section_display": true,
   "toc_window_display": false
  },
  "varInspector": {
   "cols": {
    "lenName": 16,
    "lenType": 16,
    "lenVar": 40
   },
   "kernels_config": {
    "python": {
     "delete_cmd_postfix": "",
     "delete_cmd_prefix": "del ",
     "library": "var_list.py",
     "varRefreshCmd": "print(var_dic_list())"
    },
    "r": {
     "delete_cmd_postfix": ") ",
     "delete_cmd_prefix": "rm(",
     "library": "var_list.r",
     "varRefreshCmd": "cat(var_dic_list()) "
    }
   },
   "types_to_exclude": [
    "module",
    "function",
    "builtin_function_or_method",
    "instance",
    "_Feature"
   ],
   "window_display": false
  }
 },
 "nbformat": 4,
 "nbformat_minor": 4
}
