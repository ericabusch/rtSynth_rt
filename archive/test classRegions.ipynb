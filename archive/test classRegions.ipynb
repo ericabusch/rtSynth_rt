{
 "cells": [
  {
   "cell_type": "code",
   "execution_count": 1,
   "metadata": {},
   "outputs": [
    {
     "name": "stdout",
     "output_type": "stream",
     "text": [
      "Using user-selected roi location: schaefer2018\n",
      "Using neurosketch data\n",
      "roinum=6\n",
      "Running subject 0119173, with neurosketch as a data source, schaefer2018 roi #6 \n",
      "mask dimensions: (94, 94, 72)\n",
      "number of voxels in mask: 336\n",
      "1--LENGTH OF TR: 80\n"
     ]
    },
    {
     "name": "stderr",
     "output_type": "stream",
     "text": [
      "/gpfs/milgram/project/turk-browne/users/kp578/CONDA/rtcloud/lib/python3.6/site-packages/ipykernel_launcher.py:125: DeprecationWarning: get_data() is deprecated in favor of get_fdata(), which has a more predictable return type. To obtain get_data() behavior going forward, use numpy.asanyarray(img.dataobj).\n",
      "\n",
      "* deprecated from version: 3.0\n",
      "* Will raise <class 'nibabel.deprecator.ExpiredDeprecationError'> as of version: 5.0\n",
      "/gpfs/milgram/project/turk-browne/users/kp578/CONDA/rtcloud/lib/python3.6/site-packages/ipykernel_launcher.py:164: DeprecationWarning: get_data() is deprecated in favor of get_fdata(), which has a more predictable return type. To obtain get_data() behavior going forward, use numpy.asanyarray(img.dataobj).\n",
      "\n",
      "* deprecated from version: 3.0\n",
      "* Will raise <class 'nibabel.deprecator.ExpiredDeprecationError'> as of version: 5.0\n"
     ]
    },
    {
     "name": "stdout",
     "output_type": "stream",
     "text": [
      "shape of features (80, 336) shape of mask (94, 94, 72)\n",
      "2--LENGTH OF TR: 80\n"
     ]
    },
    {
     "name": "stderr",
     "output_type": "stream",
     "text": [
      "/gpfs/milgram/project/turk-browne/users/kp578/CONDA/rtcloud/lib/python3.6/site-packages/ipykernel_launcher.py:164: DeprecationWarning: get_data() is deprecated in favor of get_fdata(), which has a more predictable return type. To obtain get_data() behavior going forward, use numpy.asanyarray(img.dataobj).\n",
      "\n",
      "* deprecated from version: 3.0\n",
      "* Will raise <class 'nibabel.deprecator.ExpiredDeprecationError'> as of version: 5.0\n"
     ]
    },
    {
     "name": "stdout",
     "output_type": "stream",
     "text": [
      "shape of features (80, 336) shape of mask (94, 94, 72)\n",
      "3--LENGTH OF TR: 80\n"
     ]
    },
    {
     "name": "stderr",
     "output_type": "stream",
     "text": [
      "/gpfs/milgram/project/turk-browne/users/kp578/CONDA/rtcloud/lib/python3.6/site-packages/ipykernel_launcher.py:164: DeprecationWarning: get_data() is deprecated in favor of get_fdata(), which has a more predictable return type. To obtain get_data() behavior going forward, use numpy.asanyarray(img.dataobj).\n",
      "\n",
      "* deprecated from version: 3.0\n",
      "* Will raise <class 'nibabel.deprecator.ExpiredDeprecationError'> as of version: 5.0\n"
     ]
    },
    {
     "name": "stdout",
     "output_type": "stream",
     "text": [
      "shape of features (80, 336) shape of mask (94, 94, 72)\n",
      "4--LENGTH OF TR: 80\n"
     ]
    },
    {
     "name": "stderr",
     "output_type": "stream",
     "text": [
      "/gpfs/milgram/project/turk-browne/users/kp578/CONDA/rtcloud/lib/python3.6/site-packages/ipykernel_launcher.py:164: DeprecationWarning: get_data() is deprecated in favor of get_fdata(), which has a more predictable return type. To obtain get_data() behavior going forward, use numpy.asanyarray(img.dataobj).\n",
      "\n",
      "* deprecated from version: 3.0\n",
      "* Will raise <class 'nibabel.deprecator.ExpiredDeprecationError'> as of version: 5.0\n"
     ]
    },
    {
     "name": "stdout",
     "output_type": "stream",
     "text": [
      "shape of features (80, 336) shape of mask (94, 94, 72)\n",
      "5--LENGTH OF TR: 80\n"
     ]
    },
    {
     "name": "stderr",
     "output_type": "stream",
     "text": [
      "/gpfs/milgram/project/turk-browne/users/kp578/CONDA/rtcloud/lib/python3.6/site-packages/ipykernel_launcher.py:164: DeprecationWarning: get_data() is deprecated in favor of get_fdata(), which has a more predictable return type. To obtain get_data() behavior going forward, use numpy.asanyarray(img.dataobj).\n",
      "\n",
      "* deprecated from version: 3.0\n",
      "* Will raise <class 'nibabel.deprecator.ExpiredDeprecationError'> as of version: 5.0\n"
     ]
    },
    {
     "name": "stdout",
     "output_type": "stream",
     "text": [
      "shape of features (80, 336) shape of mask (94, 94, 72)\n",
      "6--LENGTH OF TR: 80\n"
     ]
    },
    {
     "name": "stderr",
     "output_type": "stream",
     "text": [
      "/gpfs/milgram/project/turk-browne/users/kp578/CONDA/rtcloud/lib/python3.6/site-packages/ipykernel_launcher.py:164: DeprecationWarning: get_data() is deprecated in favor of get_fdata(), which has a more predictable return type. To obtain get_data() behavior going forward, use numpy.asanyarray(img.dataobj).\n",
      "\n",
      "* deprecated from version: 3.0\n",
      "* Will raise <class 'nibabel.deprecator.ExpiredDeprecationError'> as of version: 5.0\n"
     ]
    },
    {
     "name": "stdout",
     "output_type": "stream",
     "text": [
      "shape of features (80, 336) shape of mask (94, 94, 72)\n",
      "Runs shape (6, 80, 336)\n",
      "(6, 80, 336)\n",
      "shape of data: (6, 80, 336)\n",
      "(6, 80, 336)\n",
      "results of classifier: 0.29375, type: <class 'numpy.float64'>\n",
      "total time: 16.498271465301514, searchlight time: 0.4409668445587158\n"
     ]
    }
   ],
   "source": [
    "roinum=6\n",
    "'''\n",
    "from the main directory, run batchRegions.sh, it will run the script classRegion.sh, which is just a feeder for classRegion.py for all ROI/parcels across both wang and schaefer.\n",
    "\n",
    "classRegion.py simply runs a runwise cross-validated classifier across the runs of recognition data, then stores the average accuracy of the ROI it was assigned in an numpy array. \n",
    "This is stored within the subject specific folder (e.g. wang2014/0111171/output/roi25_rh.npy )\n",
    "\n",
    "input:\n",
    "    1 subject: which subject\n",
    "    2 dataloc: neurosketch or realtime\n",
    "    3 roiloc: schaefer2018 or wang2014\n",
    "    4 roinum: number of rois you want\n",
    "    5 roihemi: which hemisphere\n",
    "\n",
    "'''\n",
    "import nibabel as nib\n",
    "import numpy as np\n",
    "import os\n",
    "import sys\n",
    "import time\n",
    "import pandas as pd\n",
    "from sklearn.linear_model import LogisticRegression\n",
    "\n",
    "# Running subject 0119173, with neurosketch as a data source, wang2014 roi #roi14 _rh\n",
    "# What subject are you running\n",
    "subject = \"0119173\"\n",
    "\n",
    "try:\n",
    "    roiloc = \"schaefer2018\"\n",
    "    print(\"Using user-selected roi location: {}\".format(roiloc))\n",
    "except:\n",
    "    print(\"NO ROI LOCATION ENTERED: Using radius of wang2014\")\n",
    "    roiloc = \"wang2014\"\n",
    "\n",
    "try:\n",
    "    dataSource = \"neurosketch\"  # could be neurosketch or realtime\n",
    "    print(\"Using {} data\".format(dataSource))\n",
    "except:\n",
    "    print(\"NO DATASOURCE ENTERED: Using original neurosketch data\")\n",
    "    dataSource = 'neurosketch'\n",
    "\n",
    "#     try:\n",
    "#         roinum = str(roinum) if roiloc == \"schaefer2018\" else \"roi{}\".format(str(sys.argv[4])) \n",
    "#         print(\"running for roi #{} in {}\".format(str(sys.argv[4]), roiloc))\n",
    "#     except:\n",
    "#         print(\"NO ROI SPECIFIED: Using roi number 1\")\n",
    "#         roinum=\"1\"\n",
    "roinum = str(roinum) \n",
    "print(f\"roinum={roinum}\")\n",
    "if roiloc == \"wang2014\":\n",
    "    try:\n",
    "        roihemi = \"_{}\".format(str(sys.argv[5]))\n",
    "        print(\"Since this is wang2014, we need a hemisphere, in this case {}\".format(str(sys.argv[5])))\n",
    "    except:\n",
    "        print(\"this is wang 2014, so we need a hemisphere, but one was not specified\")\n",
    "        assert 1 == 2\n",
    "else:\n",
    "    roihemi=\"\"\n",
    "\n",
    "print(\"Running subject {}, with {} as a data source, {} roi #{} {}\".format(subject, dataSource, roiloc, roinum, roihemi))\n",
    "\n",
    "workDir=\"/gpfs/milgram/project/turk-browne/projects/rtTest/\"\n",
    "# dataSource depending, there are a number of keywords to fill in: \n",
    "# ses: which day of data collection\n",
    "# run: which run number on that day (single digit)\n",
    "# phase: 12, 34, or 56\n",
    "# sub: subject number\n",
    "if dataSource == \"neurosketch\":\n",
    "    funcdata = \"/gpfs/milgram/project/turk-browne/jukebox/ntb/projects/sketchloop02/subjects/{sub}_neurosketch/data/nifti/realtime_preprocessed/{sub}_neurosketch_recognition_run_{run}.nii.gz\"\n",
    "    metadata = \"/gpfs/milgram/project/turk-browne/jukebox/ntb/projects/sketchloop02/data/features/recog/metadata_{sub}_V1_{phase}.csv\"\n",
    "    anat = \"/gpfs/milgram/project/turk-browne/jukebox/ntb/projects/sketchloop02/subjects/{sub}_neurosketch/data/nifti/{sub}_neurosketch_anat_mprage_brain.nii.gz\"\n",
    "elif dataSource == \"realtime\":\n",
    "    funcdata = \"/gpfs/milgram/project/turk-browne/projects/rtcloud_kp/subjects/{sub}/ses{ses}_recognition/run0{run}/nifti/{sub}_functional.nii.gz\"\n",
    "    metadata = \"/gpfs/milgram/project/turk-browne/projects/rtcloud_kp/subjects/{sub}/ses{ses}_recognition/run0{run}/{sub}_0{run}_preprocessed_behavData.csv\"\n",
    "    anat = \"$TO_BE_FILLED\"\n",
    "else:\n",
    "    funcdata = \"/gpfs/milgram/project/turk-browne/projects/rtTest/searchout/feat/{sub}_pre.nii.gz\"\n",
    "    metadata = \"/gpfs/milgram/project/turk-browne/jukebox/ntb/projects/sketchloop02/data/features/recog/metadata_{sub}_V1_{phase}.csv\"\n",
    "    anat = \"$TO_BE_FILLED\"\n",
    "\n",
    "outloc = \"/gpfs/milgram/project/turk-browne/projects/rtTest/searchout\"\n",
    "starttime = time.time()\n",
    "\n",
    "def Wait(waitfor, delay=1):\n",
    "    while not os.path.exists(waitfor):\n",
    "        time.sleep(delay)\n",
    "        print('waiting for {}'.format(waitfor))\n",
    "\n",
    "def normalize(X):\n",
    "    from scipy.stats import zscore\n",
    "    # X = X - X.mean(0)\n",
    "    X = zscore(X, axis=0)\n",
    "    X[np.isnan(X)]=0\n",
    "    return X\n",
    "\n",
    "\n",
    "def Class(data, bcvar):\n",
    "    metas = bcvar[0]\n",
    "    data4d = data[0]\n",
    "    print(data4d.shape)\n",
    "\n",
    "    accs = []\n",
    "    for run in range(6):\n",
    "        testX = data4d[run]\n",
    "        testY = metas[run]\n",
    "        trainX = data4d[np.arange(6) != run]\n",
    "        trainX = trainX.reshape(trainX.shape[0]*trainX.shape[1], -1)\n",
    "        trainY = []\n",
    "        for meta in range(6):\n",
    "            if meta != run:\n",
    "                trainY.extend(metas[meta])\n",
    "        clf = LogisticRegression(penalty='l2',C=1, solver='lbfgs', max_iter=1000, \n",
    "                                 multi_class='multinomial').fit(trainX, trainY)\n",
    "\n",
    "        # Monitor progress by printing accuracy (only useful if you're running a test set)\n",
    "        acc = clf.score(testX, testY)\n",
    "        accs.append(acc)\n",
    "\n",
    "    return np.mean(accs)\n",
    "\n",
    "\n",
    "phasedict = dict(zip([1,2,3,4,5,6],[\"12\", \"12\", \"34\", \"34\", \"56\", \"56\"]))\n",
    "imcodeDict={\"A\": \"bed\", \"B\": \"Chair\", \"C\": \"table\", \"D\": \"bench\"}\n",
    "\n",
    "mask = nib.load(workDir+\"{}/{}/{}{}.nii.gz\".format(roiloc, subject, roinum, roihemi)).get_data()\n",
    "mask = mask.astype(int)\n",
    "# say some things about the mask.\n",
    "print('mask dimensions: {}'. format(mask.shape))\n",
    "print('number of voxels in mask: {}'.format(np.sum(mask)))\n",
    "\n",
    "\n",
    "# Compile preprocessed data and corresponding indices\n",
    "metas = []\n",
    "\n",
    "for run in range(1, 7):\n",
    "    print(run, end='--')\n",
    "    # retrieve from the dictionary which phase it is, assign the session\n",
    "    phase = phasedict[run]\n",
    "    ses = 1\n",
    "\n",
    "    # Build the path for the preprocessed functional data\n",
    "    this4d = funcdata.format(ses=ses, run=run, phase=phase, sub=subject)\n",
    "\n",
    "    # Read in the metadata, and reduce it to only the TR values from this run, add to a list\n",
    "    thismeta = pd.read_csv(metadata.format(ses=ses, run=run, phase=phase, sub=subject))\n",
    "    if dataSource == \"neurosketch\":\n",
    "        _run = 1 if run % 2 == 0 else 2\n",
    "    else:\n",
    "        _run = run\n",
    "    thismeta = thismeta[thismeta['run_num'] == int(_run)]\n",
    "\n",
    "    if dataSource == \"realtime\":\n",
    "        TR_num = list(thismeta.TR.astype(int))\n",
    "        labels = list(thismeta.Item)\n",
    "        labels = [imcodeDict[label] for label in labels]\n",
    "    else:\n",
    "        TR_num = list(thismeta.TR_num.astype(int))\n",
    "        labels = list(thismeta.label)\n",
    "\n",
    "    print(\"LENGTH OF TR: {}\".format(len(TR_num)))\n",
    "    # Load the functional data\n",
    "    runIm = nib.load(this4d)\n",
    "    affine_mat = runIm.affine\n",
    "    runImDat = runIm.get_data()\n",
    "\n",
    "    # Use the TR numbers to select the correct features\n",
    "    features = [runImDat[:,:,:,n+3] for n in TR_num] #axis0 is time/repetition\n",
    "    features = np.array(features)\n",
    "    features = features[:, mask==1]\n",
    "    print(\"shape of features\", features.shape, \"shape of mask\", mask.shape)\n",
    "    # featmean = features.mean(1)[..., None] # equivalent to featmean = np.mean(features,axis=1).reshape(-1,1)\n",
    "    # features = features - features.mean(0)\n",
    "    features = normalize(features)\n",
    "    features = np.expand_dims(features, 0)\n",
    "\n",
    "    # Append both so we can use it later\n",
    "    metas.append(labels)\n",
    "    runs = features if run == 1 else np.concatenate((runs, features))\n",
    "\n",
    "dimsize = runIm.header.get_zooms()\n",
    "\n",
    "data = []\n",
    "# Preset the variables\n",
    "print(\"Runs shape\", runs.shape)\n",
    "_data = runs\n",
    "print(_data.shape)\n",
    "data.append(_data)\n",
    "print(\"shape of data: {}\".format(_data.shape))\n",
    "\n",
    "bcvar = [metas]\n",
    "\n",
    "# Distribute the information to the searchlights (preparing it to run)\n",
    "slstart = time.time()\n",
    "sl_result = Class(data, bcvar)\n",
    "print(\"results of classifier: {}, type: {}\".format(sl_result, type(sl_result)))\n",
    "\n",
    "SL = time.time() - slstart\n",
    "tot = time.time() - starttime\n",
    "print('total time: {}, searchlight time: {}'.format(tot, SL))\n",
    "\n",
    "# outfile = workDir+\"{}/{}/output/tag2_{}{}.npy\".format(roiloc, subject, roinum, roihemi)\n",
    "# print(outfile)\n",
    "# np.save(outfile, np.array(sl_result))\n"
   ]
  },
  {
   "cell_type": "code",
   "execution_count": 12,
   "metadata": {},
   "outputs": [
    {
     "data": {
      "text/plain": [
       "25"
      ]
     },
     "execution_count": 12,
     "metadata": {},
     "output_type": "execute_result"
    }
   ],
   "source": [
    "topN=['225.nii.gz', '19.nii.gz', '58.nii.gz', '150.nii.gz', '232.nii.gz', '234.nii.gz', '108.nii.gz', '107.nii.gz', '102.nii.gz', '86.nii.gz', '238.nii.gz', '190.nii.gz', '230.nii.gz', '138.nii.gz', '166.nii.gz', '221.nii.gz', '265.nii.gz', '280.nii.gz', '236.nii.gz', '244.nii.gz', '167.nii.gz', '243.nii.gz', '205.nii.gz', '39.nii.gz', '271.nii.gz']\n",
    "# save_obj()\n",
    "len(topN)"
   ]
  },
  {
   "cell_type": "code",
   "execution_count": 30,
   "metadata": {},
   "outputs": [
    {
     "name": "stdout",
     "output_type": "stream",
     "text": [
      "/gpfs/milgram/pi/turk-browne/projects/rtSynth_rt\n",
      "toml filename=/gpfs/milgram/project/turk-browne/projects/rtSynth_rt/projects/rtSynth_rt/conf/sub001.ses1.toml\n"
     ]
    },
    {
     "name": "stderr",
     "output_type": "stream",
     "text": [
      "/gpfs/milgram/project/turk-browne/users/kp578/CONDA/rtcloud/lib/python3.6/site-packages/ipykernel_launcher.py:69: RuntimeWarning: Mean of empty slice\n",
      "/gpfs/milgram/project/turk-browne/users/kp578/CONDA/rtcloud/lib/python3.6/site-packages/ipykernel_launcher.py:12: DeprecationWarning: get_data() is deprecated in favor of get_fdata(), which has a more predictable return type. To obtain get_data() behavior going forward, use numpy.asanyarray(img.dataobj).\n",
      "\n",
      "* deprecated from version: 3.0\n",
      "* Will raise <class 'nibabel.deprecator.ExpiredDeprecationError'> as of version: 5.0\n",
      "  if sys.path[0] == '':\n"
     ]
    }
   ],
   "source": [
    "import os\n",
    "os.chdir(\"/gpfs/milgram/pi/turk-browne/projects/rtSynth_rt/\")\n",
    "!pwd\n",
    "\n",
    "\n",
    "import os\n",
    "import sys\n",
    "sys.path.append('/gpfs/milgram/project/turk-browne/projects/rtSynth_rt/')\n",
    "import argparse\n",
    "import numpy as np\n",
    "import nibabel as nib\n",
    "import scipy.io as sio\n",
    "import subprocess\n",
    "from nibabel.nicom import dicomreaders\n",
    "import pydicom as dicom  # type: ignore\n",
    "import time\n",
    "from glob import glob\n",
    "import shutil\n",
    "from nilearn.image import new_img_like\n",
    "import joblib\n",
    "import pickle5 as pickle\n",
    "import rtCommon.utils as utils\n",
    "from rtCommon.utils import loadConfigFile\n",
    "def save_obj(obj, name):\n",
    "    with open(name + '.pkl', 'wb') as f:\n",
    "        pickle.dump(obj, f, pickle.HIGHEST_PROTOCOL)\n",
    "\n",
    "def load_obj(name):\n",
    "    with open(name + '.pkl', 'rb') as f:\n",
    "        return pickle.load(f)\n",
    "\n",
    "# from rtCommon.fileClient import FileInterface\n",
    "# import rtCommon.projectUtils as projUtils\n",
    "# from rtCommon.imageHandling import readRetryDicomFromFileInterface, getDicomFileName, convertDicomImgToNifti\n",
    "\n",
    "\n",
    "# argParser = argparse.ArgumentParser()\n",
    "# argParser.add_argument('--config', '-c', default='sub001.ses1.toml', type=str, help='experiment file (.json or .toml)')\n",
    "# args = argParser.parse_args()\n",
    "from rtCommon.cfg_loading import mkdir,cfg_loading\n",
    "config=\"sub001.ses1.toml\"\n",
    "cfg = cfg_loading(config)\n",
    "\n",
    "sys.path.append('/gpfs/milgram/project/turk-browne/projects/rtSynth_rt/expScripts/recognition/')\n",
    "from recognition_dataAnalysisFunctions import recognition_preprocess,minimalClass,behaviorDataLoading\n",
    "\n",
    "# when every mask has run, find the best mask and save as the chosenMask\n",
    "roiloc=\"schaefer2018\"\n",
    "dataSource=\"realtime\"\n",
    "subject=cfg.subjectName\n",
    "N=N\n",
    "GreedyBestAcc=np.zeros((len(subjects),N+1))\n",
    "GreedyBestAcc[GreedyBestAcc==0]=None\n",
    "for len_topN_1 in range(N-1,0,-1):\n",
    "    try:\n",
    "        # print(f\"./tmp_folder/{subject}_{N}_{roiloc}_{dataSource}_{len_topN_1}\")\n",
    "        di = load_obj(f\"./tmp_folder/{subject}_{N}_{roiloc}_{dataSource}_{len_topN_1}\")\n",
    "        GreedyBestAcc[ii,len_topN_1-1] = di['bestAcc']\n",
    "    except:\n",
    "        pass\n",
    "GreedyBestAcc=GreedyBestAcc.T\n",
    "\n",
    "# plt.imshow(GreedyBestAcc)\n",
    "# _=plt.figure()\n",
    "# for i in range(GreedyBestAcc.shape[0]):\n",
    "#     plt.scatter([i]*GreedyBestAcc.shape[1],GreedyBestAcc[i],c='g',s=2)\n",
    "# plt.plot(np.arange(GreedyBestAcc.shape[0]),np.nanmean(GreedyBestAcc,axis=1))\n",
    "\n",
    "performance_mean = np.nanmean(GreedyBestAcc,axis=1)\n",
    "bestID=np.where(performance_mean==max(performance_mean))[0][0]\n",
    "di = load_obj(f\"./tmp_folder/{subject}_{N}_{roiloc}_{dataSource}_{bestID+1}\")\n",
    "mask = getMask(di['bestROIs'],cfg)\n",
    "np.save(cfg.chosenMask,mask)"
   ]
  },
  {
   "cell_type": "code",
   "execution_count": 43,
   "metadata": {},
   "outputs": [
    {
     "name": "stdout",
     "output_type": "stream",
     "text": [
      "/gpfs/milgram/pi/turk-browne/projects/rtTest/kp_scratch\r\n"
     ]
    }
   ],
   "source": [
    "import os\n",
    "os.chdir(\"/gpfs/milgram/project/turk-browne/projects/rtTest/kp_scratch/\")\n",
    "!pwd"
   ]
  },
  {
   "cell_type": "code",
   "execution_count": 101,
   "metadata": {},
   "outputs": [],
   "source": [
    "N=25\n",
    "roiloc=\"schaefer2018\"\n",
    "dataSource=\"neurosketch\"\n",
    "subjects=\"1206161 0119173 1206162 1130161 1206163 0120171 0111171 1202161 0125172 0110172 0123173 0120173 0110171 0119172 0124171 0123171 1203161 0118172 0118171 0112171 1207162 0117171 0119174 0112173 0112172\" .split(\" \")\n",
    "for sub in subjects:\n",
    "    if not os.path.exists(f\"./tmp_folder/{sub}_{N}_{roiloc}_{dataSource}_{1}.pkl\"):\n",
    "#         print(f\"./tmp_folder/{subject}_{N}_{roiloc}_{dataSource}_1.pkl\")\n",
    "        print(f\"sbatch --requeue aggregate_greedy.sh {sub} neurosketch schaefer2018 25\")\n",
    "        "
   ]
  },
  {
   "cell_type": "code",
   "execution_count": 104,
   "metadata": {},
   "outputs": [
    {
     "name": "stderr",
     "output_type": "stream",
     "text": [
      "/gpfs/milgram/project/turk-browne/users/kp578/CONDA/rtcloud/lib/python3.6/site-packages/ipykernel_launcher.py:47: RuntimeWarning: Mean of empty slice\n"
     ]
    },
    {
     "data": {
      "image/png": "[encoded data removed]",
      "text/plain": [
       "<Figure size 432x288 with 1 Axes>"
      ]
     },
     "metadata": {
      "needs_background": "light"
     },
     "output_type": "display_data"
    },
    {
     "data": {
      "image/png": "[encoded data removed]",
      "text/plain": [
       "<Figure size 432x288 with 1 Axes>"
      ]
     },
     "metadata": {
      "needs_background": "light"
     },
     "output_type": "display_data"
    },
    {
     "data": {
      "image/png": "[encoded data removed]",
      "text/plain": [
       "<Figure size 432x288 with 1 Axes>"
      ]
     },
     "metadata": {
      "needs_background": "light"
     },
     "output_type": "display_data"
    }
   ],
   "source": [
    "# To visualize the greedy result starting for 31 ROIs, in total 25 subjects.\n",
    "\n",
    "\n",
    "# # plt.savefig('SummaryAccuracy.png')\n",
    "import os\n",
    "os.chdir(\"/gpfs/milgram/project/turk-browne/projects/rtTest/kp_scratch/\")\n",
    "from glob import glob\n",
    "import matplotlib.pyplot as plt\n",
    "from tqdm import tqdm\n",
    "import pickle\n",
    "import subprocess\n",
    "def save_obj(obj, name):\n",
    "    with open(name + '.pkl', 'wb') as f:\n",
    "        pickle.dump(obj, f, pickle.HIGHEST_PROTOCOL)\n",
    "def load_obj(name):\n",
    "    with open(name + '.pkl', 'rb') as f:\n",
    "        return pickle.load(f)\n",
    "roiloc=\"schaefer2018\"\n",
    "dataSource=\"neurosketch\"\n",
    "# subjects=glob(\"./wang2014/[0,1]*\")\n",
    "# subjects=[subject.split(\"/\")[-1] for subject in subjects]\n",
    "subjects_correctly_aligned=['1206161','0119173','1206162','1130161','1206163','0120171','0111171','1202161','0125172','0110172','0123173','0120173','0110171','0119172','0124171','0123171','1203161','0118172','0118171','0112171','1207162','0117171','0119174','0112173','0112172']\n",
    "subjects=subjects_correctly_aligned\n",
    "N=25\n",
    "workingPath=\"/gpfs/milgram/project/turk-browne/projects/rtTest/\"\n",
    "GreedyBestAcc=np.zeros((len(subjects),N+1))\n",
    "GreedyBestAcc[GreedyBestAcc==0]=None\n",
    "for ii,subject in enumerate(subjects):\n",
    "    try:\n",
    "        GreedyBestAcc[ii,N]=np.load(workingPath+\"./{}/{}/output/uniMaskRanktag2_top{}.npy\".format(roiloc, subject, N))\n",
    "    except:\n",
    "        pass\n",
    "\n",
    "    for len_topN_1 in range(N-1,0,-1):\n",
    "        # Wait(f\"./tmp/{subject}_{N}_{roiloc}_{dataSource}_{len_topN_1}.pkl\")\n",
    "        try:\n",
    "            # print(f\"./tmp/{subject}_{N}_{roiloc}_{dataSource}_{len_topN_1}\")\n",
    "            di = load_obj(f\"./tmp_folder/{subject}_{N}_{roiloc}_{dataSource}_{len_topN_1}\")\n",
    "            GreedyBestAcc[ii,len_topN_1-1] = di['bestAcc']\n",
    "        except:\n",
    "            pass\n",
    "GreedyBestAcc=GreedyBestAcc.T\n",
    "plt.imshow(GreedyBestAcc)\n",
    "_=plt.figure()\n",
    "for i in range(GreedyBestAcc.shape[0]):\n",
    "    plt.scatter([i]*GreedyBestAcc.shape[1],GreedyBestAcc[i],c='g',s=2)\n",
    "plt.plot(np.arange(GreedyBestAcc.shape[0]),np.nanmean(GreedyBestAcc,axis=1))\n",
    "# plt.ylim([0.19,0.36])\n",
    "# plt.xlabel(\"number of ROIs\")\n",
    "# plt.ylabel(\"accuracy\")\n",
    "\n",
    "\n",
    "_=plt.figure()\n",
    "for j in range(GreedyBestAcc.shape[1]):\n",
    "    plt.plot(GreedyBestAcc[:,j])\n",
    "\n"
   ]
  },
  {
   "cell_type": "code",
   "execution_count": 5,
   "metadata": {},
   "outputs": [
    {
     "name": "stdout",
     "output_type": "stream",
     "text": [
      "X.shape=(150, 2)\n",
      "predict_proba=[[6.51335792e-16 4.95077314e-04 9.99504923e-01]]\n",
      "[-20.77457363   6.58213611  14.19243752]\n"
     ]
    },
    {
     "data": {
      "text/plain": [
       "array([4.75321954e-10, 4.99654189e-01, 5.00345811e-01])"
      ]
     },
     "execution_count": 5,
     "metadata": {},
     "output_type": "execute_result"
    }
   ],
   "source": [
    "from IPython.display import Image\n",
    " \n",
    "# Added version check for recent scikit-learn 0.18 checks\n",
    "from distutils.version import LooseVersion as Version\n",
    "from sklearn import __version__ as sklearn_version\n",
    " \n",
    "from sklearn import datasets\n",
    "import numpy as np\n",
    "from sklearn.preprocessing import StandardScaler\n",
    "from sklearn.linear_model import LogisticRegression\n",
    "from sklearn.model_selection import train_test_split\n",
    "def sigmoid(z):\n",
    "    return 1.0 / (1.0 + np.exp(-z))\n",
    "\n",
    "\n",
    "iris = datasets.load_iris()\n",
    "X = iris.data[:, [2, 3]]\n",
    "y = iris.target  # 取species列，类别\n",
    "# X = X[:99,:]\n",
    "# y = y[:99]\n",
    "print(f\"X.shape={X.shape}\") \n",
    "\n",
    "# train_test_split方法分割数据集\n",
    "X_train, X_test, y_train, y_test = train_test_split(X, y, test_size=0.3, random_state=0)\n",
    "\n",
    "sc = StandardScaler()  # 初始化一个对象sc去对数据集作变换\n",
    "sc.fit(X_train)  # 用对象去拟合数据集X_train，并且存下来拟合参数\n",
    "X_train_std = sc.transform(X_train)\n",
    "X_test_std = sc.transform(X_test)\n",
    "\n",
    "\n",
    "lr = LogisticRegression(C=1000.0, random_state=0)\n",
    "# http://scikit-learn.org/stable/modules/generated/sklearn.lin ear_model.LogisticRegression.html#sklearn.linear_model.LogisticRegression\n",
    "lr.fit(X_train_std, y_train)\n",
    " \n",
    "# 计算该预测实例点属于各类的概率\n",
    "print(f\"predict_proba={lr.predict_proba(X_test_std[0, :].reshape(1, -1))}\")\n",
    "# Output:array([[  2.05743774e-11,   6.31620264e-02,   9.36837974e-01]])\n",
    " \n",
    "# 验证predict_proba的作用\n",
    "c = lr.predict_proba(X_test_std[0, :].reshape(1, -1))\n",
    "# c[0, 0] + c[0, 1] + c[0, 2]\n",
    "# Output:0.99999999999999989\n",
    " \n",
    "# 查看lr模型的特征系数\n",
    "lr = LogisticRegression(C=1000.0, random_state=0)\n",
    "# http://scikit-learn.org/stable/modules/generated/sklearn.linear_model.LogisticRegression.html#sklearn.linear_model.LogisticRegression\n",
    "lr.fit(X_train_std, y_train)\n",
    "# print(lr.coef_)\n",
    "# Output:[[-7.34015187 -6.64685581]\n",
    "#        [ 2.54373335 -2.3421979 ]\n",
    "#        [ 9.46617627  6.44380858]]\n",
    " \n",
    "# 验证predict_proba工作原理\n",
    "Zz = np.dot(lr.coef_, X_test_std[0, :].T) + lr.intercept_\n",
    "print(Zz)\n",
    "np.array(sigmoid(Zz)) / sum(np.array(sigmoid(Zz)))\n",
    "# Output:array([  2.05743774e-11,   6.31620264e-02,   9.36837974e-01])\n",
    "# 此结果就是预测实例点各类的概率"
   ]
  },
  {
   "cell_type": "code",
   "execution_count": 7,
   "metadata": {},
   "outputs": [
    {
     "name": "stdout",
     "output_type": "stream",
     "text": [
      "(150, 2)\n",
      "[[6.51335792e-16 4.95077314e-04 9.99504923e-01]]\n",
      "[[-8.2245993  -7.26261397]\n",
      " [-0.69739252  0.40062126]\n",
      " [ 8.92199181  6.86199271]]\n",
      "[4.75321954e-10 4.99654189e-01 5.00345811e-01]\n"
     ]
    }
   ],
   "source": [
    "from IPython.display import Image\n",
    " \n",
    "# Added version check for recent scikit-learn 0.18 checks\n",
    "from distutils.version import LooseVersion as Version\n",
    "from sklearn import __version__ as sklearn_version\n",
    " \n",
    "from sklearn import datasets\n",
    "import numpy as np\n",
    " \n",
    "iris = datasets.load_iris()\n",
    "# http://scikit-learn.org/stable/auto_examples/datasets/plot_iris_dataset.html\n",
    "X = iris.data[:, [2, 3]]\n",
    "print(X.shape)\n",
    "y = iris.target  # 取species列，类别\n",
    " \n",
    "if Version(sklearn_version) < '0.18':\n",
    "    from sklearn.cross_validation import train_test_split\n",
    "else:\n",
    "    from sklearn.model_selection import train_test_split\n",
    " \n",
    "# train_test_split方法分割数据集\n",
    "X_train, X_test, y_train, y_test = train_test_split(\n",
    "    X, y, test_size=0.3, random_state=0)\n",
    " \n",
    "from sklearn.preprocessing import StandardScaler\n",
    " \n",
    "sc = StandardScaler()  # 初始化一个对象sc去对数据集作变换\n",
    "sc.fit(X_train)  # 用对象去拟合数据集X_train，并且存下来拟合参数\n",
    "X_train_std = sc.transform(X_train)\n",
    "X_test_std = sc.transform(X_test)\n",
    " \n",
    "from sklearn.linear_model import LogisticRegression\n",
    " \n",
    " \n",
    "def sigmoid(z):\n",
    "    return 1.0 / (1.0 + np.exp(-z))\n",
    " \n",
    " \n",
    "lr = LogisticRegression(C=1000.0, random_state=0)\n",
    "# http://scikit-learn.org/stable/modules/generated/sklearn.linear_model.LogisticRegression.html#sklearn.linear_model.LogisticRegression\n",
    "lr.fit(X_train_std, y_train)\n",
    " \n",
    "# 计算该预测实例点属于各类的概率\n",
    "print(lr.predict_proba(X_test_std[0, :].reshape(1, -1)))\n",
    "# Output:array([[  2.05743774e-11,   6.31620264e-02,   9.36837974e-01]])\n",
    " \n",
    "# 验证predict_proba的作用\n",
    "c = lr.predict_proba(X_test_std[0, :].reshape(1, -1))\n",
    "# c[0, 0] + c[0, 1] + c[0, 2]\n",
    "# Output:0.99999999999999989\n",
    " \n",
    "# 查看lr模型的特征系数\n",
    "lr = LogisticRegression(C=1000.0, random_state=0)\n",
    "# http://scikit-learn.org/stable/modules/generated/sklearn.linear_model.LogisticRegression.html#sklearn.linear_model.LogisticRegression\n",
    "lr.fit(X_train_std, y_train)\n",
    "print(lr.coef_)\n",
    "# Output:[[-7.34015187 -6.64685581]\n",
    "#        [ 2.54373335 -2.3421979 ]\n",
    "#        [ 9.46617627  6.44380858]]\n",
    " \n",
    "# 验证predict_proba工作原理\n",
    "Zz = np.dot(lr.coef_, X_test_std[0, :].T) + lr.intercept_\n",
    "print(np.array(sigmoid(Zz)) / sum(np.array(sigmoid(Zz))))\n",
    "# Output:array([  2.05743774e-11,   6.31620264e-02,   9.36837974e-01])\n",
    "# 此结果就是预测实例点各类的概率"
   ]
  },
  {
   "cell_type": "code",
   "execution_count": 10,
   "metadata": {},
   "outputs": [
    {
     "name": "stdout",
     "output_type": "stream",
     "text": [
      "conda env=/gpfs/milgram/project/turk-browne/users/kp578/CONDA/rtcloud\n",
      "toml filename=/gpfs/milgram/project/turk-browne/projects/rtSynth_rt/projects/rtSynth_rt/conf/sub001.ses4.toml\n",
      "running fslmerge -t /gpfs/milgram/project/turk-browne/projects/rtSynth_rt/subjects/sub001/ses4/recognition/run1.nii  /tmp/1613759749.2199817/001_000001_000001_aligned.nii /tmp/1613759749.2199817/001_000001_000002_aligned.nii /tmp/1613759749.2199817/001_000001_000003_aligned.nii /tmp/1613759749.2199817/001_000001_000004_aligned.nii /tmp/1613759749.2199817/001_000001_000005_aligned.nii /tmp/1613759749.2199817/001_000001_000006_aligned.nii /tmp/1613759749.2199817/001_000001_000007_aligned.nii /tmp/1613759749.2199817/001_000001_000008_aligned.nii /tmp/1613759749.2199817/001_000001_000009_aligned.nii /tmp/1613759749.2199817/001_000001_000010_aligned.nii /tmp/1613759749.2199817/001_000001_000011_aligned.nii /tmp/1613759749.2199817/001_000001_000012_aligned.nii /tmp/1613759749.2199817/001_000001_000013_aligned.nii /tmp/1613759749.2199817/001_000001_000014_aligned.nii /tmp/1613759749.2199817/001_000001_000015_aligned.nii /tmp/1613759749.2199817/001_000001_000016_aligned.nii /tmp/1613759749.2199817/001_000001_000017_aligned.nii /tmp/1613759749.2199817/001_000001_000018_aligned.nii /tmp/1613759749.2199817/001_000001_000019_aligned.nii /tmp/1613759749.2199817/001_000001_000020_aligned.nii /tmp/1613759749.2199817/001_000001_000021_aligned.nii /tmp/1613759749.2199817/001_000001_000022_aligned.nii /tmp/1613759749.2199817/001_000001_000023_aligned.nii /tmp/1613759749.2199817/001_000001_000024_aligned.nii /tmp/1613759749.2199817/001_000001_000025_aligned.nii /tmp/1613759749.2199817/001_000001_000026_aligned.nii /tmp/1613759749.2199817/001_000001_000027_aligned.nii /tmp/1613759749.2199817/001_000001_000028_aligned.nii /tmp/1613759749.2199817/001_000001_000029_aligned.nii /tmp/1613759749.2199817/001_000001_000030_aligned.nii /tmp/1613759749.2199817/001_000001_000031_aligned.nii /tmp/1613759749.2199817/001_000001_000032_aligned.nii /tmp/1613759749.2199817/001_000001_000033_aligned.nii /tmp/1613759749.2199817/001_000001_000034_aligned.nii /tmp/1613759749.2199817/001_000001_000035_aligned.nii /tmp/1613759749.2199817/001_000001_000036_aligned.nii /tmp/1613759749.2199817/001_000001_000037_aligned.nii /tmp/1613759749.2199817/001_000001_000038_aligned.nii /tmp/1613759749.2199817/001_000001_000039_aligned.nii /tmp/1613759749.2199817/001_000001_000040_aligned.nii /tmp/1613759749.2199817/001_000001_000041_aligned.nii /tmp/1613759749.2199817/001_000001_000042_aligned.nii /tmp/1613759749.2199817/001_000001_000043_aligned.nii /tmp/1613759749.2199817/001_000001_000044_aligned.nii /tmp/1613759749.2199817/001_000001_000045_aligned.nii /tmp/1613759749.2199817/001_000001_000046_aligned.nii /tmp/1613759749.2199817/001_000001_000047_aligned.nii /tmp/1613759749.2199817/001_000001_000048_aligned.nii /tmp/1613759749.2199817/001_000001_000049_aligned.nii /tmp/1613759749.2199817/001_000001_000050_aligned.nii /tmp/1613759749.2199817/001_000001_000051_aligned.nii /tmp/1613759749.2199817/001_000001_000052_aligned.nii /tmp/1613759749.2199817/001_000001_000053_aligned.nii /tmp/1613759749.2199817/001_000001_000054_aligned.nii /tmp/1613759749.2199817/001_000001_000055_aligned.nii /tmp/1613759749.2199817/001_000001_000056_aligned.nii /tmp/1613759749.2199817/001_000001_000057_aligned.nii /tmp/1613759749.2199817/001_000001_000058_aligned.nii /tmp/1613759749.2199817/001_000001_000059_aligned.nii /tmp/1613759749.2199817/001_000001_000060_aligned.nii /tmp/1613759749.2199817/001_000001_000061_aligned.nii /tmp/1613759749.2199817/001_000001_000062_aligned.nii /tmp/1613759749.2199817/001_000001_000063_aligned.nii /tmp/1613759749.2199817/001_000001_000064_aligned.nii /tmp/1613759749.2199817/001_000001_000065_aligned.nii /tmp/1613759749.2199817/001_000001_000066_aligned.nii /tmp/1613759749.2199817/001_000001_000067_aligned.nii /tmp/1613759749.2199817/001_000001_000068_aligned.nii /tmp/1613759749.2199817/001_000001_000069_aligned.nii /tmp/1613759749.2199817/001_000001_000070_aligned.nii /tmp/1613759749.2199817/001_000001_000071_aligned.nii /tmp/1613759749.2199817/001_000001_000072_aligned.nii /tmp/1613759749.2199817/001_000001_000073_aligned.nii /tmp/1613759749.2199817/001_000001_000074_aligned.nii /tmp/1613759749.2199817/001_000001_000075_aligned.nii /tmp/1613759749.2199817/001_000001_000076_aligned.nii /tmp/1613759749.2199817/001_000001_000077_aligned.nii /tmp/1613759749.2199817/001_000001_000078_aligned.nii /tmp/1613759749.2199817/001_000001_000079_aligned.nii /tmp/1613759749.2199817/001_000001_000080_aligned.nii /tmp/1613759749.2199817/001_000001_000081_aligned.nii /tmp/1613759749.2199817/001_000001_000082_aligned.nii /tmp/1613759749.2199817/001_000001_000083_aligned.nii /tmp/1613759749.2199817/001_000001_000084_aligned.nii /tmp/1613759749.2199817/001_000001_000085_aligned.nii /tmp/1613759749.2199817/001_000001_000086_aligned.nii /tmp/1613759749.2199817/001_000001_000087_aligned.nii /tmp/1613759749.2199817/001_000001_000088_aligned.nii /tmp/1613759749.2199817/001_000001_000089_aligned.nii /tmp/1613759749.2199817/001_000001_000090_aligned.nii /tmp/1613759749.2199817/001_000001_000091_aligned.nii /tmp/1613759749.2199817/001_000001_000092_aligned.nii /tmp/1613759749.2199817/001_000001_000093_aligned.nii /tmp/1613759749.2199817/001_000001_000094_aligned.nii /tmp/1613759749.2199817/001_000001_000095_aligned.nii /tmp/1613759749.2199817/001_000001_000096_aligned.nii /tmp/1613759749.2199817/001_000001_000097_aligned.nii /tmp/1613759749.2199817/001_000001_000098_aligned.nii /tmp/1613759749.2199817/001_000001_000099_aligned.nii /tmp/1613759749.2199817/001_000001_000100_aligned.nii /tmp/1613759749.2199817/001_000001_000101_aligned.nii /tmp/1613759749.2199817/001_000001_000102_aligned.nii /tmp/1613759749.2199817/001_000001_000103_aligned.nii /tmp/1613759749.2199817/001_000001_000104_aligned.nii /tmp/1613759749.2199817/001_000001_000105_aligned.nii /tmp/1613759749.2199817/001_000001_000106_aligned.nii /tmp/1613759749.2199817/001_000001_000107_aligned.nii /tmp/1613759749.2199817/001_000001_000108_aligned.nii /tmp/1613759749.2199817/001_000001_000109_aligned.nii /tmp/1613759749.2199817/001_000001_000110_aligned.nii /tmp/1613759749.2199817/001_000001_000111_aligned.nii /tmp/1613759749.2199817/001_000001_000112_aligned.nii /tmp/1613759749.2199817/001_000001_000113_aligned.nii /tmp/1613759749.2199817/001_000001_000114_aligned.nii /tmp/1613759749.2199817/001_000001_000115_aligned.nii /tmp/1613759749.2199817/001_000001_000116_aligned.nii /tmp/1613759749.2199817/001_000001_000117_aligned.nii /tmp/1613759749.2199817/001_000001_000118_aligned.nii /tmp/1613759749.2199817/001_000001_000119_aligned.nii /tmp/1613759749.2199817/001_000001_000120_aligned.nii /tmp/1613759749.2199817/001_000001_000121_aligned.nii /tmp/1613759749.2199817/001_000001_000122_aligned.nii /tmp/1613759749.2199817/001_000001_000123_aligned.nii /tmp/1613759749.2199817/001_000001_000124_aligned.nii /tmp/1613759749.2199817/001_000001_000125_aligned.nii /tmp/1613759749.2199817/001_000001_000126_aligned.nii /tmp/1613759749.2199817/001_000001_000127_aligned.nii /tmp/1613759749.2199817/001_000001_000128_aligned.nii /tmp/1613759749.2199817/001_000001_000129_aligned.nii /tmp/1613759749.2199817/001_000001_000130_aligned.nii /tmp/1613759749.2199817/001_000001_000131_aligned.nii /tmp/1613759749.2199817/001_000001_000132_aligned.nii /tmp/1613759749.2199817/001_000001_000133_aligned.nii /tmp/1613759749.2199817/001_000001_000134_aligned.nii /tmp/1613759749.2199817/001_000001_000135_aligned.nii /tmp/1613759749.2199817/001_000001_000136_aligned.nii /tmp/1613759749.2199817/001_000001_000137_aligned.nii /tmp/1613759749.2199817/001_000001_000138_aligned.nii /tmp/1613759749.2199817/001_000001_000139_aligned.nii /tmp/1613759749.2199817/001_000001_000140_aligned.nii /tmp/1613759749.2199817/001_000001_000141_aligned.nii /tmp/1613759749.2199817/001_000001_000142_aligned.nii /tmp/1613759749.2199817/001_000001_000143_aligned.nii /tmp/1613759749.2199817/001_000001_000144_aligned.nii /tmp/1613759749.2199817/001_000001_000145_aligned.nii /tmp/1613759749.2199817/001_000001_000146_aligned.nii /tmp/1613759749.2199817/001_000001_000147_aligned.nii /tmp/1613759749.2199817/001_000001_000148_aligned.nii /tmp/1613759749.2199817/001_000001_000149_aligned.nii /tmp/1613759749.2199817/001_000001_000150_aligned.nii\n"
     ]
    },
    {
     "name": "stdout",
     "output_type": "stream",
     "text": [
      "running fslmerge -t /gpfs/milgram/project/turk-browne/projects/rtSynth_rt/subjects/sub001/ses4/recognition/run2.nii  /tmp/1613759749.2199817/001_000002_000001_aligned.nii /tmp/1613759749.2199817/001_000002_000002_aligned.nii /tmp/1613759749.2199817/001_000002_000003_aligned.nii /tmp/1613759749.2199817/001_000002_000004_aligned.nii /tmp/1613759749.2199817/001_000002_000005_aligned.nii /tmp/1613759749.2199817/001_000002_000006_aligned.nii /tmp/1613759749.2199817/001_000002_000007_aligned.nii /tmp/1613759749.2199817/001_000002_000008_aligned.nii /tmp/1613759749.2199817/001_000002_000009_aligned.nii /tmp/1613759749.2199817/001_000002_000010_aligned.nii /tmp/1613759749.2199817/001_000002_000011_aligned.nii /tmp/1613759749.2199817/001_000002_000012_aligned.nii /tmp/1613759749.2199817/001_000002_000013_aligned.nii /tmp/1613759749.2199817/001_000002_000014_aligned.nii /tmp/1613759749.2199817/001_000002_000015_aligned.nii /tmp/1613759749.2199817/001_000002_000016_aligned.nii /tmp/1613759749.2199817/001_000002_000017_aligned.nii /tmp/1613759749.2199817/001_000002_000018_aligned.nii /tmp/1613759749.2199817/001_000002_000019_aligned.nii /tmp/1613759749.2199817/001_000002_000020_aligned.nii /tmp/1613759749.2199817/001_000002_000021_aligned.nii /tmp/1613759749.2199817/001_000002_000022_aligned.nii /tmp/1613759749.2199817/001_000002_000023_aligned.nii /tmp/1613759749.2199817/001_000002_000024_aligned.nii /tmp/1613759749.2199817/001_000002_000025_aligned.nii /tmp/1613759749.2199817/001_000002_000026_aligned.nii /tmp/1613759749.2199817/001_000002_000027_aligned.nii /tmp/1613759749.2199817/001_000002_000028_aligned.nii /tmp/1613759749.2199817/001_000002_000029_aligned.nii /tmp/1613759749.2199817/001_000002_000030_aligned.nii /tmp/1613759749.2199817/001_000002_000031_aligned.nii /tmp/1613759749.2199817/001_000002_000032_aligned.nii /tmp/1613759749.2199817/001_000002_000033_aligned.nii /tmp/1613759749.2199817/001_000002_000034_aligned.nii /tmp/1613759749.2199817/001_000002_000035_aligned.nii /tmp/1613759749.2199817/001_000002_000036_aligned.nii /tmp/1613759749.2199817/001_000002_000037_aligned.nii /tmp/1613759749.2199817/001_000002_000038_aligned.nii /tmp/1613759749.2199817/001_000002_000039_aligned.nii /tmp/1613759749.2199817/001_000002_000040_aligned.nii /tmp/1613759749.2199817/001_000002_000041_aligned.nii /tmp/1613759749.2199817/001_000002_000042_aligned.nii /tmp/1613759749.2199817/001_000002_000043_aligned.nii /tmp/1613759749.2199817/001_000002_000044_aligned.nii /tmp/1613759749.2199817/001_000002_000045_aligned.nii /tmp/1613759749.2199817/001_000002_000046_aligned.nii /tmp/1613759749.2199817/001_000002_000047_aligned.nii /tmp/1613759749.2199817/001_000002_000048_aligned.nii /tmp/1613759749.2199817/001_000002_000049_aligned.nii /tmp/1613759749.2199817/001_000002_000050_aligned.nii /tmp/1613759749.2199817/001_000002_000051_aligned.nii /tmp/1613759749.2199817/001_000002_000052_aligned.nii /tmp/1613759749.2199817/001_000002_000053_aligned.nii /tmp/1613759749.2199817/001_000002_000054_aligned.nii /tmp/1613759749.2199817/001_000002_000055_aligned.nii /tmp/1613759749.2199817/001_000002_000056_aligned.nii /tmp/1613759749.2199817/001_000002_000057_aligned.nii /tmp/1613759749.2199817/001_000002_000058_aligned.nii /tmp/1613759749.2199817/001_000002_000059_aligned.nii /tmp/1613759749.2199817/001_000002_000060_aligned.nii /tmp/1613759749.2199817/001_000002_000061_aligned.nii /tmp/1613759749.2199817/001_000002_000062_aligned.nii /tmp/1613759749.2199817/001_000002_000063_aligned.nii /tmp/1613759749.2199817/001_000002_000064_aligned.nii /tmp/1613759749.2199817/001_000002_000065_aligned.nii /tmp/1613759749.2199817/001_000002_000066_aligned.nii /tmp/1613759749.2199817/001_000002_000067_aligned.nii /tmp/1613759749.2199817/001_000002_000068_aligned.nii /tmp/1613759749.2199817/001_000002_000069_aligned.nii /tmp/1613759749.2199817/001_000002_000070_aligned.nii /tmp/1613759749.2199817/001_000002_000071_aligned.nii /tmp/1613759749.2199817/001_000002_000072_aligned.nii /tmp/1613759749.2199817/001_000002_000073_aligned.nii /tmp/1613759749.2199817/001_000002_000074_aligned.nii /tmp/1613759749.2199817/001_000002_000075_aligned.nii /tmp/1613759749.2199817/001_000002_000076_aligned.nii /tmp/1613759749.2199817/001_000002_000077_aligned.nii /tmp/1613759749.2199817/001_000002_000078_aligned.nii /tmp/1613759749.2199817/001_000002_000079_aligned.nii /tmp/1613759749.2199817/001_000002_000080_aligned.nii /tmp/1613759749.2199817/001_000002_000081_aligned.nii /tmp/1613759749.2199817/001_000002_000082_aligned.nii /tmp/1613759749.2199817/001_000002_000083_aligned.nii /tmp/1613759749.2199817/001_000002_000084_aligned.nii /tmp/1613759749.2199817/001_000002_000085_aligned.nii /tmp/1613759749.2199817/001_000002_000086_aligned.nii /tmp/1613759749.2199817/001_000002_000087_aligned.nii /tmp/1613759749.2199817/001_000002_000088_aligned.nii /tmp/1613759749.2199817/001_000002_000089_aligned.nii /tmp/1613759749.2199817/001_000002_000090_aligned.nii /tmp/1613759749.2199817/001_000002_000091_aligned.nii /tmp/1613759749.2199817/001_000002_000092_aligned.nii /tmp/1613759749.2199817/001_000002_000093_aligned.nii /tmp/1613759749.2199817/001_000002_000094_aligned.nii /tmp/1613759749.2199817/001_000002_000095_aligned.nii /tmp/1613759749.2199817/001_000002_000096_aligned.nii /tmp/1613759749.2199817/001_000002_000097_aligned.nii /tmp/1613759749.2199817/001_000002_000098_aligned.nii /tmp/1613759749.2199817/001_000002_000099_aligned.nii /tmp/1613759749.2199817/001_000002_000100_aligned.nii /tmp/1613759749.2199817/001_000002_000101_aligned.nii /tmp/1613759749.2199817/001_000002_000102_aligned.nii /tmp/1613759749.2199817/001_000002_000103_aligned.nii /tmp/1613759749.2199817/001_000002_000104_aligned.nii /tmp/1613759749.2199817/001_000002_000105_aligned.nii /tmp/1613759749.2199817/001_000002_000106_aligned.nii /tmp/1613759749.2199817/001_000002_000107_aligned.nii /tmp/1613759749.2199817/001_000002_000108_aligned.nii /tmp/1613759749.2199817/001_000002_000109_aligned.nii /tmp/1613759749.2199817/001_000002_000110_aligned.nii /tmp/1613759749.2199817/001_000002_000111_aligned.nii /tmp/1613759749.2199817/001_000002_000112_aligned.nii /tmp/1613759749.2199817/001_000002_000113_aligned.nii /tmp/1613759749.2199817/001_000002_000114_aligned.nii /tmp/1613759749.2199817/001_000002_000115_aligned.nii /tmp/1613759749.2199817/001_000002_000116_aligned.nii /tmp/1613759749.2199817/001_000002_000117_aligned.nii /tmp/1613759749.2199817/001_000002_000118_aligned.nii /tmp/1613759749.2199817/001_000002_000119_aligned.nii /tmp/1613759749.2199817/001_000002_000120_aligned.nii /tmp/1613759749.2199817/001_000002_000121_aligned.nii /tmp/1613759749.2199817/001_000002_000122_aligned.nii /tmp/1613759749.2199817/001_000002_000123_aligned.nii /tmp/1613759749.2199817/001_000002_000124_aligned.nii /tmp/1613759749.2199817/001_000002_000125_aligned.nii /tmp/1613759749.2199817/001_000002_000126_aligned.nii /tmp/1613759749.2199817/001_000002_000127_aligned.nii /tmp/1613759749.2199817/001_000002_000128_aligned.nii /tmp/1613759749.2199817/001_000002_000129_aligned.nii /tmp/1613759749.2199817/001_000002_000130_aligned.nii /tmp/1613759749.2199817/001_000002_000131_aligned.nii /tmp/1613759749.2199817/001_000002_000132_aligned.nii /tmp/1613759749.2199817/001_000002_000133_aligned.nii /tmp/1613759749.2199817/001_000002_000134_aligned.nii /tmp/1613759749.2199817/001_000002_000135_aligned.nii /tmp/1613759749.2199817/001_000002_000136_aligned.nii /tmp/1613759749.2199817/001_000002_000137_aligned.nii /tmp/1613759749.2199817/001_000002_000138_aligned.nii /tmp/1613759749.2199817/001_000002_000139_aligned.nii /tmp/1613759749.2199817/001_000002_000140_aligned.nii /tmp/1613759749.2199817/001_000002_000141_aligned.nii /tmp/1613759749.2199817/001_000002_000142_aligned.nii /tmp/1613759749.2199817/001_000002_000143_aligned.nii\n"
     ]
    }
   ],
   "source": [
    "import sys\n",
    "sys.path.append('/gpfs/milgram/project/turk-browne/projects/rtSynth_rt/')\n",
    "from rtCommon.cfg_loading import mkdir,cfg_loading\n",
    "cfg = cfg_loading(\"sub001.ses4.toml\")\n",
    "\n",
    "sys.path.append('/gpfs/milgram/project/turk-browne/projects/rtSynth_rt/expScripts/recognition/')\n",
    "from recognition_dataAnalysisFunctions import recognition_preprocess,minimalClass,behaviorDataLoading,recognition_preprocess_2run,morphingTarget\n",
    "\n",
    "\n",
    "'''\n",
    "convert all dicom files into nii files in the temp dir. \n",
    "find the middle volume of the run1 as the template volume\n",
    "align every other functional volume with templateFunctionalVolume (3dvolreg)\n",
    "load behavior data and align with brain data\n",
    "'''\n",
    "# if not args.skipPre:\n",
    "run_asTemplate=1 # which run in the realtime folder to select the middle volume as the template volume\n",
    "recognition_preprocess_2run(cfg,run_asTemplate)"
   ]
  },
  {
   "cell_type": "code",
   "execution_count": null,
   "metadata": {},
   "outputs": [],
   "source": []
  }
 ],
 "metadata": {
  "kernelspec": {
   "display_name": "Python 3",
   "language": "python",
   "name": "python3"
  },
  "language_info": {
   "codemirror_mode": {
    "name": "ipython",
    "version": 3
   },
   "file_extension": ".py",
   "mimetype": "text/x-python",
   "name": "python",
   "nbconvert_exporter": "python",
   "pygments_lexer": "ipython3",
   "version": "3.6.12"
  },
  "toc": {
   "base_numbering": 1,
   "nav_menu": {},
   "number_sections": true,
   "sideBar": true,
   "skip_h1_title": false,
   "title_cell": "Table of Contents",
   "title_sidebar": "Contents",
   "toc_cell": false,
   "toc_position": {},
   "toc_section_display": true,
   "toc_window_display": false
  },
  "varInspector": {
   "cols": {
    "lenName": 16,
    "lenType": 16,
    "lenVar": 40
   },
   "kernels_config": {
    "python": {
     "delete_cmd_postfix": "",
     "delete_cmd_prefix": "del ",
     "library": "var_list.py",
     "varRefreshCmd": "print(var_dic_list())"
    },
    "r": {
     "delete_cmd_postfix": ") ",
     "delete_cmd_prefix": "rm(",
     "library": "var_list.r",
     "varRefreshCmd": "cat(var_dic_list()) "
    }
   },
   "types_to_exclude": [
    "module",
    "function",
    "builtin_function_or_method",
    "instance",
    "_Feature"
   ],
   "window_display": false
  }
 },
 "nbformat": 4,
 "nbformat_minor": 4
}
