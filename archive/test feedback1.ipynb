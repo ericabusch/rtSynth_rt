{
 "cells": [
  {
   "cell_type": "code",
   "execution_count": 2,
   "metadata": {},
   "outputs": [
    {
     "name": "stdout",
     "output_type": "stream",
     "text": [
      "/Users/kailong/Desktop/rtEnv/rtSynth_rt\r\n"
     ]
    }
   ],
   "source": [
    "import os\n",
    "os.chdir(\"/Users/kailong/Desktop/rtEnv/rtSynth_rt/\")\n",
    "!pwd"
   ]
  },
  {
   "cell_type": "code",
   "execution_count": 5,
   "metadata": {
    "scrolled": true
   },
   "outputs": [
    {
     "name": "stderr",
     "output_type": "stream",
     "text": [
      "INFO:root:WsRemoteService Exception ConnectionError: Connection error: https://localhost:8888/login\n"
     ]
    },
    {
     "name": "stdout",
     "output_type": "stream",
     "text": [
      "sleep 5\n"
     ]
    },
    {
     "name": "stderr",
     "output_type": "stream",
     "text": [
      "INFO:root:WsRemoteService Exception ConnectionError: Connection error: https://localhost:8888/login\n"
     ]
    },
    {
     "name": "stdout",
     "output_type": "stream",
     "text": [
      "sleep 5\n"
     ]
    },
    {
     "name": "stderr",
     "output_type": "stream",
     "text": [
      "\r",
      "  0%|          | 0/10 [00:00<?, ?it/s]"
     ]
    },
    {
     "name": "stdout",
     "output_type": "stream",
     "text": [
      "total trial number= 180\n",
      "preloaded parameter range= [ 1  2  3  4  5  6  7  8  9 10]\n",
      "maximum morph= 4.0\n"
     ]
    },
    {
     "name": "stderr",
     "output_type": "stream",
     "text": [
      "\r",
      " 10%|█         | 1/10 [00:00<00:05,  1.69it/s]"
     ]
    },
    {
     "name": "stdout",
     "output_type": "stream",
     "text": [
      "maximum morph= 7.0\n"
     ]
    },
    {
     "name": "stderr",
     "output_type": "stream",
     "text": [
      "\r",
      " 20%|██        | 2/10 [00:01<00:05,  1.35it/s]"
     ]
    },
    {
     "name": "stdout",
     "output_type": "stream",
     "text": [
      "maximum morph= 10.0\n"
     ]
    },
    {
     "name": "stderr",
     "output_type": "stream",
     "text": [
      "\r",
      " 30%|███       | 3/10 [00:03<00:07,  1.09s/it]"
     ]
    },
    {
     "name": "stdout",
     "output_type": "stream",
     "text": [
      "maximum morph= 13.0\n"
     ]
    },
    {
     "name": "stderr",
     "output_type": "stream",
     "text": [
      "\r",
      " 40%|████      | 4/10 [00:06<00:08,  1.50s/it]"
     ]
    },
    {
     "name": "stdout",
     "output_type": "stream",
     "text": [
      "maximum morph= 16.0\n"
     ]
    },
    {
     "name": "stderr",
     "output_type": "stream",
     "text": [
      "\r",
      " 50%|█████     | 5/10 [00:08<00:09,  1.92s/it]"
     ]
    },
    {
     "name": "stdout",
     "output_type": "stream",
     "text": [
      "maximum morph= 19.0\n"
     ]
    },
    {
     "name": "stderr",
     "output_type": "stream",
     "text": [
      "\r",
      " 60%|██████    | 6/10 [00:12<00:09,  2.31s/it]"
     ]
    },
    {
     "name": "stdout",
     "output_type": "stream",
     "text": [
      "maximum morph= 22.0\n"
     ]
    },
    {
     "name": "stderr",
     "output_type": "stream",
     "text": [
      "INFO:root:WsRemoteService Exception ConnectionError: Connection error: https://localhost:8888/login\n"
     ]
    },
    {
     "name": "stdout",
     "output_type": "stream",
     "text": [
      "sleep 5\n"
     ]
    },
    {
     "name": "stderr",
     "output_type": "stream",
     "text": [
      "\r",
      " 70%|███████   | 7/10 [00:15<00:08,  2.72s/it]"
     ]
    },
    {
     "name": "stdout",
     "output_type": "stream",
     "text": [
      "maximum morph= 25.0\n"
     ]
    },
    {
     "name": "stderr",
     "output_type": "stream",
     "text": [
      "\r",
      " 80%|████████  | 8/10 [00:20<00:06,  3.17s/it]"
     ]
    },
    {
     "name": "stdout",
     "output_type": "stream",
     "text": [
      "maximum morph= 28.0\n"
     ]
    },
    {
     "name": "stderr",
     "output_type": "stream",
     "text": [
      "\r",
      " 90%|█████████ | 9/10 [00:24<00:03,  3.63s/it]"
     ]
    },
    {
     "name": "stdout",
     "output_type": "stream",
     "text": [
      "maximum morph= 31.0\n"
     ]
    },
    {
     "name": "stderr",
     "output_type": "stream",
     "text": [
      "INFO:root:WsRemoteService Exception ConnectionError: Connection error: https://localhost:8888/login\n"
     ]
    },
    {
     "name": "stdout",
     "output_type": "stream",
     "text": [
      "sleep 5\n"
     ]
    },
    {
     "name": "stderr",
     "output_type": "stream",
     "text": [
      "100%|██████████| 10/10 [00:30<00:00,  3.06s/it]\n"
     ]
    },
    {
     "name": "stdout",
     "output_type": "stream",
     "text": [
      "preload image duration= 30.633914709091187\n",
      "Starting sub sub001 in run #1\n"
     ]
    },
    {
     "name": "stderr",
     "output_type": "stream",
     "text": [
      "INFO:root:WsRemoteService Exception ConnectionError: Connection error: https://localhost:8888/login\n"
     ]
    },
    {
     "name": "stdout",
     "output_type": "stream",
     "text": [
      "sleep 5\n"
     ]
    },
    {
     "name": "stderr",
     "output_type": "stream",
     "text": [
      "INFO:root:WsRemoteService Exception ConnectionError: Connection error: https://localhost:8888/login\n"
     ]
    },
    {
     "name": "stdout",
     "output_type": "stream",
     "text": [
      "sleep 5\n"
     ]
    },
    {
     "name": "stderr",
     "output_type": "stream",
     "text": [
      "INFO:root:WsRemoteService Exception ConnectionError: Connection error: https://localhost:8888/login\n"
     ]
    },
    {
     "name": "stdout",
     "output_type": "stream",
     "text": [
      "sleep 5\n"
     ]
    },
    {
     "name": "stderr",
     "output_type": "stream",
     "text": [
      "INFO:root:WsRemoteService Exception ConnectionError: Connection error: https://localhost:8888/login\n"
     ]
    },
    {
     "name": "stdout",
     "output_type": "stream",
     "text": [
      "sleep 5\n"
     ]
    },
    {
     "name": "stderr",
     "output_type": "stream",
     "text": [
      "INFO:root:WsRemoteService Exception ConnectionError: Connection error: https://localhost:8888/login\n"
     ]
    },
    {
     "name": "stdout",
     "output_type": "stream",
     "text": [
      "sleep 5\n"
     ]
    },
    {
     "name": "stderr",
     "output_type": "stream",
     "text": [
      "INFO:root:WsRemoteService Exception ConnectionError: Connection error: https://localhost:8888/login\n"
     ]
    },
    {
     "name": "stdout",
     "output_type": "stream",
     "text": [
      "sleep 5\n"
     ]
    }
   ],
   "source": [
    "\n",
    "# This code should be run in console room computer to display the feedback morphings\n",
    "from __future__ import print_function, division\n",
    "import os\n",
    "if 'watts' in os.getcwd():\n",
    "    main_dir = \"/home/watts/Desktop/ntblab/kailong/rtSynth_rt/\"\n",
    "else:\n",
    "    main_dir=\"/Users/kailong/Desktop/rtEnv/rtSynth_rt/\"\n",
    "import sys\n",
    "sys.path.append(main_dir)\n",
    "sys.path.append(main_dir+\"expScripts/feedback/\")\n",
    "from psychopy import visual, event, core, logging, gui, data, monitors\n",
    "from psychopy.hardware.emulator import launchScan, SyncGenerator\n",
    "from PIL import Image\n",
    "import string\n",
    "import fmrisim as sim\n",
    "import numpy as np\n",
    "import pandas as pd\n",
    "import pylink   \n",
    "from tqdm import tqdm\n",
    "import time\n",
    "import re\n",
    "import logging\n",
    "import threading\n",
    "import argparse\n",
    "alpha = string.ascii_uppercase\n",
    "from rtCommon.subjectInterface import SubjectInterface\n",
    "from rtCommon.wsRemoteService import WsRemoteService, parseConnectionArgs\n",
    "from rtCommon.utils import installLoggers\n",
    "from rtCommon.cfg_loading import mkdir,cfg_loading\n",
    "if False:\n",
    "    scanmode = 'Scan'  # 'Scan' or 'Test' or None\n",
    "    screenmode = True  # fullscr True or False\n",
    "    monitor_name = \"scanner\"\n",
    "else:\n",
    "    scanmode = 'Test'  # 'Scan' or 'Test' or None\n",
    "    screenmode = False  # fullscr True or False\n",
    "    monitor_name = \"testMonitor\" #\"testMonitor\"\n",
    "class SubjectService:\n",
    "    def __init__(self, args, webSocketChannelName='wsSubject'):\n",
    "        \"\"\"\n",
    "        Uses the WsRemoteService framework to parse connection-related args and establish\n",
    "        a connection to a remote projectServer. Instantiates a local version of\n",
    "        SubjectInterface to handle client requests coming from the projectServer connection.\n",
    "        Args:\n",
    "            args: Argparse args related to connecting to the remote server. These include\n",
    "                \"-s <server>\", \"-u <username>\", \"-p <password>\", \"--test\",\n",
    "                \"-i <retry-connection-interval>\"\n",
    "            webSocketChannelName: The websocket url extension used to connecy and communicate\n",
    "                to the remote projectServer, 'wsSubject' will connect to 'ws://server:port/wsSubject'\n",
    "        \"\"\"\n",
    "        self.subjectInterface = SubjectInterface(subjectRemote=False)\n",
    "        self.wsRemoteService = WsRemoteService(args, webSocketChannelName)\n",
    "        self.wsRemoteService.addHandlerClass(SubjectInterface, self.subjectInterface)\n",
    "\n",
    "    def runDetached(self):\n",
    "        \"\"\"Starts the receiver in it's own thread.\"\"\"\n",
    "        self.recvThread = threading.Thread(name='recvThread',\n",
    "                                           target=self.wsRemoteService.runForever)\n",
    "        self.recvThread.setDaemon(True)\n",
    "        self.recvThread.start()\n",
    "\n",
    "\n",
    "argParser = argparse.ArgumentParser()\n",
    "argParser.add_argument('-c', '--config', action=\"store\", dest=\"config\", default='sub001.ses2.toml', type=str, help='experiment file (.json or .toml)')\n",
    "argParser.add_argument('-r', '--run', action=\"store\", dest=\"run\", default='1', type=str, help='current run')\n",
    "argParser.add_argument('-e', '--sess', action=\"store\", dest=\"sess\", default='1', type=str, help='current session')\n",
    "argParser.add_argument('-s', action=\"store\", dest=\"server\", default=\"localhost:7777\",\n",
    "                    help=\"Server Address with Port [server:port]\")\n",
    "argParser.add_argument('-i', action=\"store\", dest=\"interval\", type=int, default=5,\n",
    "                    help=\"Retry connection interval (seconds)\")\n",
    "argParser.add_argument('-u', '--username', action=\"store\", dest=\"username\", default='kp578',\n",
    "                    help=\"rtcloud website username\")\n",
    "argParser.add_argument('-p', '--password', action=\"store\", dest=\"password\", default='kp578',\n",
    "                    help=\"rtcloud website password\")\n",
    "argParser.add_argument('--test', default=False, action='store_true',\n",
    "                    help='Use unsecure non-encrypted connection')\n",
    "args = argParser.parse_args(\"\")\n",
    "\n",
    "if not re.match(r'.*:\\d+', args.server):\n",
    "    print(\"Error: Expecting server address in the form <servername:port>\")\n",
    "    argParser.print_help()\n",
    "    sys.exit()\n",
    "\n",
    "# Check if the ssl certificate is valid for this server address\n",
    "from rtCommon.projectUtils import login, certFile, checkSSLCertAltName, makeSSLCertFile\n",
    "addr, _ = args.server.split(':')\n",
    "if checkSSLCertAltName(certFile, addr) is False:\n",
    "    # Addr not listed in sslCert, recreate ssl Cert\n",
    "    makeSSLCertFile(addr)\n",
    "\n",
    "\n",
    "cfg = cfg_loading(args.config)\n",
    "sub = cfg.subjectName\n",
    "run = int(args.run)  # 1\n",
    "sess = int(args.sess)\n",
    "TR=int(cfg.TR)\n",
    "\n",
    "cfg.feedback_expScripts_dir = f\"{cfg.projectDir}expScripts/feedback/\"\n",
    "\n",
    "\n",
    "\n",
    "gui = True if screenmode == False else False\n",
    "scnWidth, scnHeight = monitors.Monitor(monitor_name).getSizePix()\n",
    "frameTolerance = 0.001  # how close to onset before 'same' frame\n",
    "TRduration=2.0\n",
    "\n",
    "\n",
    "# mywin = visual.Window(\n",
    "    # size=[1280, 800], fullscr=screenmode, screen=0,\n",
    "    # winType='pyglet', allowGUI=False, allowStencil=False,\n",
    "    # monitor=monitor_name, color=[0,0,0], colorSpace='rgb', #color=[0,0,0]\n",
    "    # blendMode='avg', useFBO=True,\n",
    "    # units='height')\n",
    "\n",
    "mywin = visual.Window(\n",
    "    size=[scnWidth - 100, scnHeight - 100], fullscr=screenmode, screen=1,\n",
    "    winType='pyglet', allowGUI=False, allowStencil=False,\n",
    "    monitor=monitor_name, color=[0,0,0], colorSpace='rgb', #color=[0,0,0]\n",
    "    blendMode='avg', useFBO=True,\n",
    "    units='height')\n",
    "\n",
    "# similation specific\n",
    "step=3 #in simulation, how quickly the morph changes ramp up. Note this is only for simulation, has nothing to do with real experiment\n",
    "\n",
    "# trial_list designing parameters\n",
    "parameterRange=np.arange(1,11) #for saving time for now. np.arange(1,20) #define the range for possible parameters for preloading images. Preloading images is to make the morphing smooth during feedback\n",
    "tune=4 # this parameter controls how much to morph (how strong the morphing is) (used in preloading function), tune can range from (1,6.15] when paremeterrange is np.arange(1,20)\n",
    "TrialNumber=180 # how many trials are required #test trial ,each trial is 14s, 10 trials are 140s.\n",
    "\n",
    "## - design the trial list: the sequence of the different types of components: \n",
    "## - e.g: ITI + waiting for fMRI signal + feedback (receive model output from feedbackReceiver.py)\n",
    "trial_list = pd.DataFrame(columns=['Trial','time','TR','state','newWobble'])\n",
    "curTime=0\n",
    "curTR=0\n",
    "state=''\n",
    "trial_list.append({'Trial':None,\n",
    "                    'time':None,\n",
    "                    'TR':None,\n",
    "                    'state':None,\n",
    "                    'newWobble':None},\n",
    "                    ignore_index=True)\n",
    "\n",
    "for currTrial in range(1,1+TrialNumber):\n",
    "\n",
    "    # ITI\n",
    "    for i in range(6): # should be 6TR=12s\n",
    "        trial_list=trial_list.append({'Trial':currTrial,\n",
    "                                    'time':curTime,\n",
    "                                    'TR':curTR,\n",
    "                                    'state':'ITI',\n",
    "                                    'newWobble':0},\n",
    "                                    ignore_index=True)\n",
    "        curTime=curTime+TR\n",
    "        curTR=curTR+1\n",
    "\n",
    "    # waiting for metric calculation\n",
    "    for i in range(3): # should be 3TR=6s\n",
    "        trial_list=trial_list.append({'Trial':currTrial,\n",
    "                                    'time':curTime,\n",
    "                                    'TR':curTR,\n",
    "                                    'state':'waiting',\n",
    "                                    'newWobble':0},\n",
    "                                    ignore_index=True)\n",
    "        curTime=curTime+TR\n",
    "        curTR=curTR+1\n",
    "    \n",
    "    # feedback trial: try minimize the whobbling\n",
    "    for i in range(5): #5TR=10s\n",
    "        trial_list=trial_list.append({'Trial':currTrial,\n",
    "                                    'time':curTime,\n",
    "                                    'TR':curTR,\n",
    "                                    'state':'feedback',\n",
    "                                    'newWobble':1},\n",
    "                                    ignore_index=True)\n",
    "        curTime=curTime+TR\n",
    "        curTR=curTR+1\n",
    "\n",
    "# ITI\n",
    "for i in range(6): # should be 6TR=12s\n",
    "    trial_list=trial_list.append({'Trial':currTrial,\n",
    "                                'time':curTime,\n",
    "                                'TR':curTR,\n",
    "                                'state':'ITI',\n",
    "                                'newWobble':0},\n",
    "                                ignore_index=True)\n",
    "    curTime=curTime+TR\n",
    "    curTR=curTR+1\n",
    "\n",
    "# for currTrial in range(1,1+TrialNumber):\n",
    "#     for i in range(1): # should be 6TR=12s\n",
    "#         trial_list=trial_list.append({'Trial':currTrial,\n",
    "#                                     'time':curTime,\n",
    "#                                     'TR':curTR,\n",
    "#                                     'state':'ITI',\n",
    "#                                     'newWobble':0},\n",
    "#                                     ignore_index=True)\n",
    "#         curTime=curTime+TR\n",
    "#         curTR=curTR+1\n",
    "#     for i in range(1): # should be 3TR=6s\n",
    "#         trial_list=trial_list.append({'Trial':currTrial,\n",
    "#                                     'time':curTime,\n",
    "#                                     'TR':curTR,\n",
    "#                                     'state':'waiting',\n",
    "#                                     'newWobble':0},\n",
    "#                                     ignore_index=True)\n",
    "#         curTime=curTime+TR\n",
    "#         curTR=curTR+1\n",
    "#     for i in range(5): #5TR=10s\n",
    "#         trial_list=trial_list.append({'Trial':currTrial,\n",
    "#                                     'time':curTime,\n",
    "#                                     'TR':curTR,\n",
    "#                                     'state':'feedback',\n",
    "#                                     'newWobble':1},\n",
    "#                                     ignore_index=True)\n",
    "#         curTime=curTime+TR\n",
    "#         curTR=curTR+1\n",
    "# for i in range(1): # should be 6TR=12s\n",
    "#     trial_list=trial_list.append({'Trial':currTrial,\n",
    "#                                 'time':curTime,\n",
    "#                                 'TR':curTR,\n",
    "#                                 'state':'ITI',\n",
    "#                                 'newWobble':0},\n",
    "#                                 ignore_index=True)\n",
    "#     curTime=curTime+TR\n",
    "#     curTR=curTR+1\n",
    "\n",
    "\n",
    "\n",
    "# parameters = np.arange(1,step*(sum((trial_list['newWobble']==1)*1)),step) #[1,2,3,4,5,6,7,8]\n",
    "\n",
    "print('total trial number=',TrialNumber)\n",
    "# print('neighboring morph difference=',tune)\n",
    "print('preloaded parameter range=',parameterRange)\n",
    "# print('used parameters=',parameters)\n",
    "\n",
    "\n",
    "\n",
    "def sample(L,num=10):\n",
    "    # This functional uniformly sample the list to be num points\n",
    "    # e.g, if L is 0-99, num is 10, newList would be [9, 19, 29, 39, 49, 59, 69, 79, 89, 99]\n",
    "    # e.g, if L is 0-95, num is 10, newList would be [8, 18, 27, 37, 47, 56, 66, 75, 85, 95]\n",
    "    # e.g, if L is 0-5, num is 10, newList would be [0, 0, 0, 1, 2, 2, 3, 3, 4, 5]\n",
    "    sampleStep=len(L)/num \n",
    "    newList=[]\n",
    "    for i in range(1,num):\n",
    "        newList.append(L[int(i*sampleStep-1)])\n",
    "    newList.append(L[-1])\n",
    "    return newList\n",
    "\n",
    "\n",
    "# preload image list for parameter from 1 to 19.\n",
    "def preloadimages(parameterRange=np.arange(1,20),tune=1):\n",
    "    '''\n",
    "    purpose:\n",
    "        preload images into image object sequences corrresponding too each parameter\n",
    "        each parameter corresponds to 40 image objects\n",
    "    steps:\n",
    "\n",
    "    '''\n",
    "    tune=tune-1\n",
    "    start = time.time()\n",
    "    imageLists={}\n",
    "    numberOfUpdates=16 # corresponds to 66 updates    \n",
    "    last_image=''\n",
    "    for currParameter in tqdm(parameterRange): #49\n",
    "        images=[]\n",
    "        print('maximum morph=',round((tune*currParameter*numberOfUpdates+2)/numberOfUpdates+1))\n",
    "        for axis in ['bedTable', 'benchBed']:\n",
    "            tmp_images=[]\n",
    "            for currImg in range(1,int(round(tune*currParameter*numberOfUpdates+2)),int((currParameter*numberOfUpdates+2)/numberOfUpdates)):\n",
    "                currMorph=100-round(currImg/numberOfUpdates+1) if axis=='benchBed' else round(currImg/numberOfUpdates+1)\n",
    "                if currMorph<1 or currMorph>99:\n",
    "                    raise Exception('morphing outside limit')\n",
    "                curr_image=cfg.feedback_expScripts_dir+'carchair_exp_feedback/{}_{}_{}.png'.format(axis,currMorph,5)\n",
    "                if curr_image!=last_image:\n",
    "                    currImage=visual.ImageStim(win=mywin,\n",
    "                                                name='image',\n",
    "                                                image=cfg.feedback_expScripts_dir+'carchair_exp_feedback/{}_{}_{}.png'.format(axis,currMorph,5), mask=None,\n",
    "                                                ori=0, pos=(0, 0), size=(0.5, 0.5),\n",
    "                                                color=[1,1,1], colorSpace='rgb', opacity=1,\n",
    "                                                flipHoriz=False, flipVert=False,\n",
    "                                                texRes=128, interpolate=True, depth=-4.0)\n",
    "                tmp_images.append(currImage)\n",
    "                last_image=cfg.feedback_expScripts_dir+'carchair_exp_feedback/{}_{}_{}.png'.format(axis,currMorph,5)\n",
    "            images=images+sample(tmp_images)\n",
    "            tmp_images=[]\n",
    "            for currImg in reversed(range(1,int(round(tune*currParameter*numberOfUpdates+1)),int((currParameter*numberOfUpdates+2)/numberOfUpdates))):\n",
    "                currMorph=100-round(currImg/numberOfUpdates+1) if axis=='benchBed' else round(currImg/numberOfUpdates+1)\n",
    "                curr_image=cfg.feedback_expScripts_dir+'carchair_exp_feedback/{}_{}_{}.png'.format(axis,currMorph,5)\n",
    "                if curr_image!=last_image:\n",
    "                    currImage=visual.ImageStim(win=mywin,\n",
    "                                                name='image',\n",
    "                                                image=cfg.feedback_expScripts_dir+'carchair_exp_feedback/{}_{}_{}.png'.format(axis,currMorph,5), mask=None,\n",
    "                                                ori=0, pos=(0, 0), size=(0.5, 0.5),\n",
    "                                                color=[1,1,1], colorSpace='rgb', opacity=1,\n",
    "                                                flipHoriz=False, flipVert=False,\n",
    "                                                texRes=128, interpolate=True, depth=-4.0)\n",
    "                tmp_images.append(currImage)\n",
    "                last_image=cfg.feedback_expScripts_dir+'carchair_exp_feedback/{}_{}_{}.png'.format(axis,currMorph,5)\n",
    "            images=images+sample(tmp_images)\n",
    "        imageLists.update( {currParameter : images} )\n",
    "    end = time.time()\n",
    "    print(\"preload image duration=\", end - start)\n",
    "    return imageLists\n",
    "\n",
    "imageLists=preloadimages(parameterRange=parameterRange,tune=tune)\n",
    "\n",
    "# Open data file for eye tracking\n",
    "# datadir = \"./data/feedback/\"\n",
    "datadir = main_dir + f\"subjects/{sub}/ses{sess}/feedback/\"\n",
    "\n",
    "maxTR=int(trial_list['TR'].iloc[-1])+6\n",
    "# Settings for MRI sequence\n",
    "MR_settings = {'TR': TRduration, 'volumes': maxTR, 'sync': 5, 'skip': 0, 'sound': True} #{'TR': 2.000, 'volumes': maxTR, 'sync': 5, 'skip': 0, 'sound': True}\n",
    "\n",
    "# check if there is a data directory and if there isn't, make one.\n",
    "if not os.path.exists('./data'):\n",
    "    os.mkdir('./data')\n",
    "if not os.path.exists('./data/feedback/'):\n",
    "    os.mkdir('./data/feedback/')\n",
    "\n",
    "# check if data for this subject and run already exist, and raise an error if they do (prevent overwriting)\n",
    "newfile = datadir+\"{}_{}.csv\".format(str(sub), str(run))\n",
    "if os.path.exists(newfile):\n",
    "    raise Exception(f'{newfile} exists')\n",
    "# create empty dataframe to accumulate data\n",
    "data = pd.DataFrame(columns=['Sub', 'Run', 'TR', 'time'])\n",
    "\n",
    "# Create the fixation dot, and initialize as white fill.\n",
    "fix = visual.Circle(mywin, units='deg', radius=0.05, pos=(0, 0), fillColor='white',\n",
    "                    lineColor='black', lineWidth=0.5, opacity=0.5, edges=128)\n",
    "\n",
    "# start global clock and fMRI pulses (start simulated or wait for real)\n",
    "print('Starting sub {} in run #{}'.format(sub, run))\n",
    "\n",
    "vol = launchScan(mywin, MR_settings, simResponses=None, mode=scanmode,\n",
    "                 esc_key='escape', instr='select Scan or Test, press enter',\n",
    "                 wait_msg='waiting for scanner...', wait_timeout=300, log=True)\n",
    "\n",
    "image = visual.ImageStim(\n",
    "    win=mywin,\n",
    "    name='image',\n",
    "    image=cfg.feedback_expScripts_dir + './carchair_exp_feedback/bedChair_1_5.png', mask=None,\n",
    "    ori=0, pos=(0, 0), size=(0.5, 0.5),\n",
    "    color=[1,1,1], colorSpace='rgb', opacity=1,\n",
    "    flipHoriz=False, flipVert=False,\n",
    "    texRes=128, interpolate=True, depth=-4.0)\n",
    "\n",
    "backgroundImage = visual.ImageStim(\n",
    "    win=mywin,\n",
    "    name='image',\n",
    "    image=cfg.feedback_expScripts_dir+'./carchair_exp_feedback/greyBackground.png', mask=None,\n",
    "    ori=0, pos=(0, 0), size=(0.5, 0.5),\n",
    "    color=[1,1,1], colorSpace='rgb', opacity=1,\n",
    "    flipHoriz=False, flipVert=False,\n",
    "    texRes=128, interpolate=True, depth=-4.0)\n",
    "\n",
    "# trialClock is reset in each trial to change image every TR (2s), time for each image is 2/numOfImages\n",
    "trialClock = core.Clock()\n",
    "\n",
    "# trialClock.add(10)  # initialize as a big enough number to avoid text being shown at the first time.\n",
    "TR=list(trial_list['TR'])\n",
    "states=list(trial_list['state'])\n",
    "newWobble=list(trial_list['newWobble'])\n",
    "\n",
    "# parameters=np.round(np.random.uniform(0,10,sum((trial_list['newWobble']==1)*1)))\n",
    "# parameters = np.arange(1,1+sum((trial_list['newWobble']==1)*1)) #[1,2,3,4,5,6,7,8]\n",
    "ParameterUpdateDuration=np.diff(np.where(trial_list['newWobble']==1))[0][0]*TRduration\n",
    "curr_parameter=0\n",
    "remainImageNumber=[]\n",
    "\n",
    "\n",
    "# feedbackParameterFileName=main_dir+f\"subjects/{sub}/ses{sess}_feedbackParameter/run_{run}.csv\"\n",
    "# # While the running clock is less than the total time, monitor for 5s, which is what the scanner sends for each TR\n",
    "# _=1\n",
    "# while not os.path.exists(feedbackParameterFileName):\n",
    "#     keys = event.getKeys([\"5\",\"0\"])\n",
    "#     if '0' in keys: # whenever you want to quite, type 0\n",
    "#         mywin.close()\n",
    "#         core.quit()\n",
    "#     time.sleep(0.01)\n",
    "#     if _ % 100==0:\n",
    "#         print(f'waiting {feedbackParameterFileName}')\n",
    "#     _+=1\n",
    "# parameters=pd.read_csv(feedbackParameterFileName)\n",
    "# while np.isnan(parameters['value'].iloc[-1]):\n",
    "#     keys = event.getKeys([\"5\",\"0\"])\n",
    "#     if '0' in keys: # whenever you want to quite, type 0\n",
    "#         mywin.close()\n",
    "#         core.quit()\n",
    "#     time.sleep(0.01)\n",
    "#     if _ % 100==0:\n",
    "#         print(f'waiting parameters nan')\n",
    "#     _+=1\n",
    "#     parameters=pd.read_csv(feedbackParameterFileName)\n",
    "\n",
    "# from rtCommon.feedbackReceiver import WsFeedbackReceiver\n",
    "# WsFeedbackReceiver.startReceiverThread(args.server,\n",
    "#                                     retryInterval=5,\n",
    "#                                     username=\"kp578\",\n",
    "#                                     password=\"kp578\",\n",
    "#                                     testMode=True)\n",
    "\n",
    "installLoggers(logging.INFO, logging.INFO, filename=f'{cfg.feedback_dir}SubjectService_{run}_{sess}.log')\n",
    "\n",
    "# parse connection args\n",
    "# These include: \"-s <server>\", \"-u <username>\", \"-p <password>\", \"--test\",\n",
    "#   \"-i <retry-connection-interval>\"\n",
    "connectionArgs = parseConnectionArgs()\n",
    "\n",
    "subjectService = SubjectService(connectionArgs)\n",
    "subjectService.runDetached()\n",
    "\n",
    "default_parameter=19"
   ]
  },
  {
   "cell_type": "code",
   "execution_count": 11,
   "metadata": {},
   "outputs": [
    {
     "data": {
      "text/plain": [
       "[10,\n",
       " 11,\n",
       " 12,\n",
       " 13,\n",
       " 14,\n",
       " 15,\n",
       " 16,\n",
       " 17,\n",
       " 18,\n",
       " 19,\n",
       " 20,\n",
       " 21,\n",
       " 22,\n",
       " 23,\n",
       " 24,\n",
       " 25,\n",
       " 26,\n",
       " 27,\n",
       " 28,\n",
       " 29,\n",
       " 30,\n",
       " 31,\n",
       " 32,\n",
       " 33,\n",
       " 34,\n",
       " 35,\n",
       " 36,\n",
       " 37,\n",
       " 38,\n",
       " 39,\n",
       " 40,\n",
       " 41,\n",
       " 42,\n",
       " 43,\n",
       " 44,\n",
       " 45,\n",
       " 46,\n",
       " 47,\n",
       " 48,\n",
       " 49,\n",
       " 50,\n",
       " 51,\n",
       " 52,\n",
       " 53,\n",
       " 54,\n",
       " 55,\n",
       " 56,\n",
       " 57,\n",
       " 58,\n",
       " 59,\n",
       " 60,\n",
       " 61,\n",
       " 62,\n",
       " 63,\n",
       " 64,\n",
       " 65,\n",
       " 66,\n",
       " 67,\n",
       " 68,\n",
       " 69,\n",
       " 70,\n",
       " 71,\n",
       " 72,\n",
       " 73,\n",
       " 74,\n",
       " 75,\n",
       " 76,\n",
       " 77,\n",
       " 78,\n",
       " 79,\n",
       " 80,\n",
       " 81,\n",
       " 82,\n",
       " 83,\n",
       " 84,\n",
       " 85,\n",
       " 86,\n",
       " 87,\n",
       " 88,\n",
       " 89,\n",
       " 90,\n",
       " 91,\n",
       " 92,\n",
       " 93,\n",
       " 94,\n",
       " 95,\n",
       " 96,\n",
       " 97,\n",
       " 98,\n",
       " 99,\n",
       " 100,\n",
       " 101,\n",
       " 102,\n",
       " 103,\n",
       " 104,\n",
       " 105,\n",
       " 106,\n",
       " 107,\n",
       " 108,\n",
       " 109,\n",
       " 110,\n",
       " 111,\n",
       " 112,\n",
       " 113,\n",
       " 114,\n",
       " 115,\n",
       " 116,\n",
       " 117,\n",
       " 118,\n",
       " 119,\n",
       " 120,\n",
       " 121,\n",
       " 122,\n",
       " 123,\n",
       " 124,\n",
       " 125,\n",
       " 126,\n",
       " 127,\n",
       " 128,\n",
       " 129,\n",
       " 130,\n",
       " 131,\n",
       " 132,\n",
       " 133,\n",
       " 134,\n",
       " 135,\n",
       " 136,\n",
       " 137,\n",
       " 138,\n",
       " 139,\n",
       " 140,\n",
       " 141,\n",
       " 142,\n",
       " 143,\n",
       " 144,\n",
       " 145,\n",
       " 146,\n",
       " 147,\n",
       " 148,\n",
       " 149,\n",
       " 150,\n",
       " 151,\n",
       " 152,\n",
       " 153,\n",
       " 154,\n",
       " 155,\n",
       " 156,\n",
       " 157,\n",
       " 158,\n",
       " 159,\n",
       " 160,\n",
       " 161,\n",
       " 162,\n",
       " 163,\n",
       " 164,\n",
       " 165,\n",
       " 166,\n",
       " 167,\n",
       " 168,\n",
       " 169,\n",
       " 170,\n",
       " 171,\n",
       " 172,\n",
       " 173,\n",
       " 174,\n",
       " 175,\n",
       " 176,\n",
       " 177,\n",
       " 178,\n",
       " 179,\n",
       " 180,\n",
       " 181,\n",
       " 182,\n",
       " 183,\n",
       " 184,\n",
       " 185,\n",
       " 186,\n",
       " 187,\n",
       " 188,\n",
       " 189,\n",
       " 190,\n",
       " 191,\n",
       " 192,\n",
       " 193,\n",
       " 194,\n",
       " 195,\n",
       " 196,\n",
       " 197,\n",
       " 198,\n",
       " 199,\n",
       " 200,\n",
       " 201,\n",
       " 202,\n",
       " 203,\n",
       " 204,\n",
       " 205,\n",
       " 206,\n",
       " 207,\n",
       " 208,\n",
       " 209,\n",
       " 210,\n",
       " 211,\n",
       " 212,\n",
       " 213,\n",
       " 214,\n",
       " 215,\n",
       " 216,\n",
       " 217,\n",
       " 218,\n",
       " 219,\n",
       " 220,\n",
       " 221,\n",
       " 222,\n",
       " 223,\n",
       " 224,\n",
       " 225,\n",
       " 226,\n",
       " 227,\n",
       " 228,\n",
       " 229,\n",
       " 230,\n",
       " 231,\n",
       " 232,\n",
       " 233,\n",
       " 234,\n",
       " 235,\n",
       " 236,\n",
       " 237,\n",
       " 238,\n",
       " 239,\n",
       " 240,\n",
       " 241,\n",
       " 242,\n",
       " 243,\n",
       " 244,\n",
       " 245,\n",
       " 246,\n",
       " 247,\n",
       " 248,\n",
       " 249,\n",
       " 250,\n",
       " 251,\n",
       " 252,\n",
       " 253,\n",
       " 254,\n",
       " 255,\n",
       " 256,\n",
       " 257,\n",
       " 258,\n",
       " 259,\n",
       " 260,\n",
       " 261,\n",
       " 262,\n",
       " 263,\n",
       " 264,\n",
       " 265,\n",
       " 266,\n",
       " 267,\n",
       " 268,\n",
       " 269,\n",
       " 270,\n",
       " 271,\n",
       " 272,\n",
       " 273,\n",
       " 274,\n",
       " 275,\n",
       " 276,\n",
       " 277,\n",
       " 278,\n",
       " 279,\n",
       " 280,\n",
       " 281,\n",
       " 282,\n",
       " 283,\n",
       " 284,\n",
       " 285,\n",
       " 286,\n",
       " 287,\n",
       " 288,\n",
       " 289,\n",
       " 290,\n",
       " 291,\n",
       " 292,\n",
       " 293,\n",
       " 294,\n",
       " 295,\n",
       " 296,\n",
       " 297,\n",
       " 298,\n",
       " 299,\n",
       " 300,\n",
       " 301,\n",
       " 302,\n",
       " 303,\n",
       " 304,\n",
       " 305,\n",
       " 306,\n",
       " 307,\n",
       " 308,\n",
       " 309,\n",
       " 310,\n",
       " 311,\n",
       " 312,\n",
       " 313,\n",
       " 314,\n",
       " 315,\n",
       " 316,\n",
       " 317,\n",
       " 318,\n",
       " 319,\n",
       " 320,\n",
       " 321,\n",
       " 322,\n",
       " 323,\n",
       " 324,\n",
       " 325,\n",
       " 326,\n",
       " 327,\n",
       " 328,\n",
       " 329,\n",
       " 330,\n",
       " 331,\n",
       " 332,\n",
       " 333,\n",
       " 334,\n",
       " 335,\n",
       " 336,\n",
       " 337,\n",
       " 338,\n",
       " 339,\n",
       " 340,\n",
       " 341,\n",
       " 342,\n",
       " 343,\n",
       " 344,\n",
       " 345,\n",
       " 346,\n",
       " 347,\n",
       " 348,\n",
       " 349,\n",
       " 350,\n",
       " 351,\n",
       " 352,\n",
       " 353,\n",
       " 354,\n",
       " 355,\n",
       " 356,\n",
       " 357,\n",
       " 358,\n",
       " 359,\n",
       " 360,\n",
       " 361,\n",
       " 362,\n",
       " 363,\n",
       " 364,\n",
       " 365,\n",
       " 366,\n",
       " 367,\n",
       " 368,\n",
       " 369,\n",
       " 370,\n",
       " 371,\n",
       " 372,\n",
       " 373,\n",
       " 374,\n",
       " 375,\n",
       " 376,\n",
       " 377,\n",
       " 378,\n",
       " 379,\n",
       " 380,\n",
       " 381,\n",
       " 382,\n",
       " 383,\n",
       " 384,\n",
       " 385,\n",
       " 386,\n",
       " 387,\n",
       " 388,\n",
       " 389,\n",
       " 390,\n",
       " 391,\n",
       " 392,\n",
       " 393,\n",
       " 394,\n",
       " 395,\n",
       " 396,\n",
       " 397,\n",
       " 398,\n",
       " 399,\n",
       " 400,\n",
       " 401,\n",
       " 402,\n",
       " 403,\n",
       " 404,\n",
       " 405,\n",
       " 406,\n",
       " 407,\n",
       " 408,\n",
       " 409,\n",
       " 410,\n",
       " 411,\n",
       " 412,\n",
       " 413,\n",
       " 414,\n",
       " 415,\n",
       " 416,\n",
       " 417,\n",
       " 418,\n",
       " 419,\n",
       " 420,\n",
       " 421,\n",
       " 422,\n",
       " 423,\n",
       " 424,\n",
       " 425,\n",
       " 426,\n",
       " 427,\n",
       " 428,\n",
       " 429,\n",
       " 430,\n",
       " 431,\n",
       " 432,\n",
       " 433,\n",
       " 434,\n",
       " 435,\n",
       " 436,\n",
       " 437,\n",
       " 438,\n",
       " 439,\n",
       " 440,\n",
       " 441,\n",
       " 442,\n",
       " 443,\n",
       " 444,\n",
       " 445,\n",
       " 446,\n",
       " 447,\n",
       " 448,\n",
       " 449,\n",
       " 450,\n",
       " 451,\n",
       " 452,\n",
       " 453,\n",
       " 454,\n",
       " 455,\n",
       " 456,\n",
       " 457,\n",
       " 458,\n",
       " 459,\n",
       " 460,\n",
       " 461,\n",
       " 462,\n",
       " 463,\n",
       " 464,\n",
       " 465,\n",
       " 466,\n",
       " 467,\n",
       " 468,\n",
       " 469,\n",
       " 470,\n",
       " 471,\n",
       " 472,\n",
       " 473,\n",
       " 474,\n",
       " 475,\n",
       " 476,\n",
       " 477,\n",
       " 478,\n",
       " 479,\n",
       " 480,\n",
       " 481,\n",
       " 482,\n",
       " 483,\n",
       " 484,\n",
       " 485,\n",
       " 486,\n",
       " 487,\n",
       " 488,\n",
       " 489,\n",
       " 490,\n",
       " 491,\n",
       " 492,\n",
       " 493,\n",
       " 494,\n",
       " 495,\n",
       " 496,\n",
       " 497,\n",
       " 498,\n",
       " 499,\n",
       " 500,\n",
       " 501,\n",
       " 502,\n",
       " 503,\n",
       " 504,\n",
       " 505,\n",
       " 506,\n",
       " 507,\n",
       " 508,\n",
       " 509,\n",
       " 510,\n",
       " 511,\n",
       " 512,\n",
       " 513,\n",
       " 514,\n",
       " 515,\n",
       " 516,\n",
       " 517,\n",
       " 518,\n",
       " 519,\n",
       " 520,\n",
       " 521,\n",
       " 522,\n",
       " 523,\n",
       " 524,\n",
       " 525,\n",
       " 526,\n",
       " 527,\n",
       " 528,\n",
       " 529,\n",
       " 530,\n",
       " 531,\n",
       " 532,\n",
       " 533,\n",
       " 534,\n",
       " 535,\n",
       " 536,\n",
       " 537,\n",
       " 538,\n",
       " 539,\n",
       " 540,\n",
       " 541,\n",
       " 542,\n",
       " 543,\n",
       " 544,\n",
       " 545,\n",
       " 546,\n",
       " 547,\n",
       " 548,\n",
       " 549,\n",
       " 550,\n",
       " 551,\n",
       " 552,\n",
       " 553,\n",
       " 554,\n",
       " 555,\n",
       " 556,\n",
       " 557,\n",
       " 558,\n",
       " 559,\n",
       " 560,\n",
       " 561,\n",
       " 562,\n",
       " 563,\n",
       " 564,\n",
       " 565,\n",
       " 566,\n",
       " 567,\n",
       " 568,\n",
       " 569,\n",
       " 570,\n",
       " 571,\n",
       " 572,\n",
       " 573,\n",
       " 574,\n",
       " 575,\n",
       " 576,\n",
       " 577,\n",
       " 578,\n",
       " 579,\n",
       " 580,\n",
       " 581,\n",
       " 582,\n",
       " 583,\n",
       " 584,\n",
       " 585,\n",
       " 586,\n",
       " 587,\n",
       " 588,\n",
       " 589,\n",
       " 590,\n",
       " 591,\n",
       " 592,\n",
       " 593,\n",
       " 594,\n",
       " 595,\n",
       " 596,\n",
       " 597,\n",
       " 598,\n",
       " 599,\n",
       " 600,\n",
       " 601,\n",
       " 602,\n",
       " 603,\n",
       " 604,\n",
       " 605,\n",
       " 606,\n",
       " 607,\n",
       " 608,\n",
       " 609,\n",
       " 610,\n",
       " 611,\n",
       " 612,\n",
       " 613,\n",
       " 614,\n",
       " 615,\n",
       " 616,\n",
       " 617,\n",
       " 618,\n",
       " 619,\n",
       " 620,\n",
       " 621,\n",
       " 622,\n",
       " 623,\n",
       " 624,\n",
       " 625,\n",
       " 626,\n",
       " 627,\n",
       " 628,\n",
       " 629,\n",
       " 630,\n",
       " 631,\n",
       " 632,\n",
       " 633,\n",
       " 634,\n",
       " 635,\n",
       " 636,\n",
       " 637,\n",
       " 638,\n",
       " 639,\n",
       " 640,\n",
       " 641,\n",
       " 642,\n",
       " 643,\n",
       " 644,\n",
       " 645,\n",
       " 646,\n",
       " 647,\n",
       " 648,\n",
       " 649,\n",
       " 650,\n",
       " 651,\n",
       " 652,\n",
       " 653,\n",
       " 654,\n",
       " 655,\n",
       " 656,\n",
       " 657,\n",
       " 658,\n",
       " 659,\n",
       " 660,\n",
       " 661,\n",
       " 662,\n",
       " 663,\n",
       " 664,\n",
       " 665,\n",
       " 666,\n",
       " 667,\n",
       " 668,\n",
       " 669,\n",
       " 670,\n",
       " 671,\n",
       " 672,\n",
       " 673,\n",
       " 674,\n",
       " 675,\n",
       " 676,\n",
       " 677,\n",
       " 678,\n",
       " 679,\n",
       " 680,\n",
       " 681,\n",
       " 682,\n",
       " 683,\n",
       " 684,\n",
       " 685,\n",
       " 686,\n",
       " 687,\n",
       " 688,\n",
       " 689,\n",
       " 690,\n",
       " 691,\n",
       " 692,\n",
       " 693,\n",
       " 694,\n",
       " 695,\n",
       " 696,\n",
       " 697,\n",
       " 698,\n",
       " 699,\n",
       " 700,\n",
       " 701,\n",
       " 702,\n",
       " 703,\n",
       " 704,\n",
       " 705,\n",
       " 706,\n",
       " 707,\n",
       " 708,\n",
       " 709,\n",
       " 710,\n",
       " 711,\n",
       " 712,\n",
       " 713,\n",
       " 714,\n",
       " 715,\n",
       " 716,\n",
       " 717,\n",
       " 718,\n",
       " 719,\n",
       " 720,\n",
       " 721,\n",
       " 722,\n",
       " 723,\n",
       " 724,\n",
       " 725,\n",
       " 726,\n",
       " 727,\n",
       " 728,\n",
       " 729,\n",
       " 730,\n",
       " 731,\n",
       " 732,\n",
       " 733,\n",
       " 734,\n",
       " 735,\n",
       " 736,\n",
       " 737,\n",
       " 738,\n",
       " 739,\n",
       " 740,\n",
       " 741,\n",
       " 742,\n",
       " 743,\n",
       " 744,\n",
       " 745,\n",
       " 746,\n",
       " 747,\n",
       " 748,\n",
       " 749,\n",
       " 750,\n",
       " 751,\n",
       " 752,\n",
       " 753,\n",
       " 754,\n",
       " 755,\n",
       " 756,\n",
       " 757,\n",
       " 758,\n",
       " 759,\n",
       " 760,\n",
       " 761,\n",
       " 762,\n",
       " 763,\n",
       " 764,\n",
       " 765,\n",
       " 766,\n",
       " 767,\n",
       " 768,\n",
       " 769,\n",
       " 770,\n",
       " 771,\n",
       " 772,\n",
       " 773,\n",
       " 774,\n",
       " 775,\n",
       " 776,\n",
       " 777,\n",
       " 778,\n",
       " 779,\n",
       " 780,\n",
       " 781,\n",
       " 782,\n",
       " 783,\n",
       " 784,\n",
       " 785,\n",
       " 786,\n",
       " 787,\n",
       " 788,\n",
       " 789,\n",
       " 790,\n",
       " 791,\n",
       " 792,\n",
       " 793,\n",
       " 794,\n",
       " 795,\n",
       " 796,\n",
       " 797,\n",
       " 798,\n",
       " 799,\n",
       " 800,\n",
       " 801,\n",
       " 802,\n",
       " 803,\n",
       " 804,\n",
       " 805,\n",
       " 806,\n",
       " 807,\n",
       " 808,\n",
       " 809,\n",
       " 810,\n",
       " 811,\n",
       " 812,\n",
       " 813,\n",
       " 814,\n",
       " 815,\n",
       " 816,\n",
       " 817,\n",
       " 818,\n",
       " 819,\n",
       " 820,\n",
       " 821,\n",
       " 822,\n",
       " 823,\n",
       " 824,\n",
       " 825,\n",
       " 826,\n",
       " 827,\n",
       " 828,\n",
       " 829,\n",
       " 830,\n",
       " 831,\n",
       " 832,\n",
       " 833,\n",
       " 834,\n",
       " 835,\n",
       " 836,\n",
       " 837,\n",
       " 838,\n",
       " 839,\n",
       " 840,\n",
       " 841,\n",
       " 842,\n",
       " 843,\n",
       " 844,\n",
       " 845,\n",
       " 846,\n",
       " 847,\n",
       " 848,\n",
       " 849,\n",
       " 850,\n",
       " 851,\n",
       " 852,\n",
       " 853,\n",
       " 854,\n",
       " 855,\n",
       " 856,\n",
       " 857,\n",
       " 858,\n",
       " 859,\n",
       " 860,\n",
       " 861,\n",
       " 862,\n",
       " 863,\n",
       " 864,\n",
       " 865,\n",
       " 866,\n",
       " 867,\n",
       " 868,\n",
       " 869,\n",
       " 870,\n",
       " 871,\n",
       " 872,\n",
       " 873,\n",
       " 874,\n",
       " 875,\n",
       " 876,\n",
       " 877,\n",
       " 878,\n",
       " 879,\n",
       " 880,\n",
       " 881,\n",
       " 882,\n",
       " 883,\n",
       " 884,\n",
       " 885,\n",
       " 886,\n",
       " 887,\n",
       " 888,\n",
       " 889,\n",
       " 890,\n",
       " 891,\n",
       " 892,\n",
       " 893,\n",
       " 894,\n",
       " 895,\n",
       " 896,\n",
       " 897,\n",
       " 898,\n",
       " 899,\n",
       " 900,\n",
       " 901,\n",
       " 902,\n",
       " 903,\n",
       " 904,\n",
       " 905,\n",
       " 906,\n",
       " 907,\n",
       " 908,\n",
       " 909,\n",
       " 910,\n",
       " 911,\n",
       " 912,\n",
       " 913,\n",
       " 914,\n",
       " 915,\n",
       " 916,\n",
       " 917,\n",
       " 918,\n",
       " 919,\n",
       " 920,\n",
       " 921,\n",
       " 922,\n",
       " 923,\n",
       " 924,\n",
       " 925,\n",
       " 926,\n",
       " 927,\n",
       " 928,\n",
       " 929,\n",
       " 930,\n",
       " 931,\n",
       " 932,\n",
       " 933,\n",
       " 934,\n",
       " 935,\n",
       " 936,\n",
       " 937,\n",
       " 938,\n",
       " 939,\n",
       " 940,\n",
       " 941,\n",
       " 942,\n",
       " 943,\n",
       " 944,\n",
       " 945,\n",
       " 946,\n",
       " 947,\n",
       " 948,\n",
       " 949,\n",
       " 950,\n",
       " 951,\n",
       " 952,\n",
       " 953,\n",
       " 954,\n",
       " 955,\n",
       " 956,\n",
       " 957,\n",
       " 958,\n",
       " 959,\n",
       " 960,\n",
       " 961,\n",
       " 962,\n",
       " 963,\n",
       " 964,\n",
       " 965,\n",
       " 966,\n",
       " 967,\n",
       " 968,\n",
       " 969,\n",
       " 970,\n",
       " 971,\n",
       " 972,\n",
       " 973,\n",
       " 974,\n",
       " 975,\n",
       " 976,\n",
       " 977,\n",
       " 978,\n",
       " 979,\n",
       " 980,\n",
       " 981,\n",
       " 982,\n",
       " 983,\n",
       " 984,\n",
       " 985,\n",
       " 986,\n",
       " 987,\n",
       " 988,\n",
       " 989,\n",
       " 990,\n",
       " 991,\n",
       " 992,\n",
       " 993,\n",
       " 994,\n",
       " 995,\n",
       " 996,\n",
       " 997,\n",
       " 998,\n",
       " 999,\n",
       " 1000,\n",
       " 1001,\n",
       " 1002,\n",
       " 1003,\n",
       " 1004,\n",
       " 1005,\n",
       " 1006,\n",
       " 1007,\n",
       " 1008,\n",
       " 1009,\n",
       " ...]"
      ]
     },
     "execution_count": 11,
     "metadata": {},
     "output_type": "execute_result"
    },
    {
     "name": "stderr",
     "output_type": "stream",
     "text": [
      "INFO:root:WsRemoteService Exception ConnectionError: Connection error: https://localhost:8888/login\n"
     ]
    },
    {
     "name": "stdout",
     "output_type": "stream",
     "text": [
      "sleep 5\n"
     ]
    },
    {
     "name": "stderr",
     "output_type": "stream",
     "text": [
      "INFO:root:WsRemoteService Exception ConnectionError: Connection error: https://localhost:8888/login\n"
     ]
    },
    {
     "name": "stdout",
     "output_type": "stream",
     "text": [
      "sleep 5\n"
     ]
    },
    {
     "name": "stderr",
     "output_type": "stream",
     "text": [
      "INFO:root:WsRemoteService Exception ConnectionError: Connection error: https://localhost:8888/login\n"
     ]
    },
    {
     "name": "stdout",
     "output_type": "stream",
     "text": [
      "sleep 5\n"
     ]
    },
    {
     "name": "stderr",
     "output_type": "stream",
     "text": [
      "INFO:root:WsRemoteService Exception ConnectionError: Connection error: https://localhost:8888/login\n"
     ]
    },
    {
     "name": "stdout",
     "output_type": "stream",
     "text": [
      "sleep 5\n"
     ]
    },
    {
     "name": "stderr",
     "output_type": "stream",
     "text": [
      "INFO:root:WsRemoteService Exception ConnectionError: Connection error: https://localhost:8888/login\n"
     ]
    },
    {
     "name": "stdout",
     "output_type": "stream",
     "text": [
      "sleep 5\n"
     ]
    },
    {
     "name": "stderr",
     "output_type": "stream",
     "text": [
      "INFO:root:WsRemoteService Exception ConnectionError: Connection error: https://localhost:8888/login\n"
     ]
    },
    {
     "name": "stdout",
     "output_type": "stream",
     "text": [
      "sleep 5\n"
     ]
    },
    {
     "name": "stderr",
     "output_type": "stream",
     "text": [
      "INFO:root:WsRemoteService Exception ConnectionError: Connection error: https://localhost:8888/login\n"
     ]
    },
    {
     "name": "stdout",
     "output_type": "stream",
     "text": [
      "sleep 5\n"
     ]
    },
    {
     "name": "stderr",
     "output_type": "stream",
     "text": [
      "INFO:root:WsRemoteService Exception ConnectionError: Connection error: https://localhost:8888/login\n"
     ]
    },
    {
     "name": "stdout",
     "output_type": "stream",
     "text": [
      "sleep 5\n"
     ]
    },
    {
     "name": "stderr",
     "output_type": "stream",
     "text": [
      "INFO:root:WsRemoteService Exception ConnectionError: Connection error: https://localhost:8888/login\n"
     ]
    },
    {
     "name": "stdout",
     "output_type": "stream",
     "text": [
      "sleep 5\n"
     ]
    },
    {
     "name": "stderr",
     "output_type": "stream",
     "text": [
      "INFO:root:WsRemoteService Exception ConnectionError: Connection error: https://localhost:8888/login\n"
     ]
    },
    {
     "name": "stdout",
     "output_type": "stream",
     "text": [
      "sleep 5\n"
     ]
    }
   ],
   "source": [
    "TR"
   ]
  },
  {
   "cell_type": "code",
   "execution_count": 12,
   "metadata": {},
   "outputs": [
    {
     "data": {
      "text/plain": [
       "2"
      ]
     },
     "execution_count": 12,
     "metadata": {},
     "output_type": "execute_result"
    },
    {
     "name": "stderr",
     "output_type": "stream",
     "text": [
      "INFO:root:WsRemoteService Exception ConnectionError: Connection error: https://localhost:8888/login\n"
     ]
    },
    {
     "name": "stdout",
     "output_type": "stream",
     "text": [
      "sleep 5\n"
     ]
    },
    {
     "name": "stderr",
     "output_type": "stream",
     "text": [
      "INFO:root:WsRemoteService Exception ConnectionError: Connection error: https://localhost:8888/login\n"
     ]
    },
    {
     "name": "stdout",
     "output_type": "stream",
     "text": [
      "sleep 5\n"
     ]
    },
    {
     "name": "stderr",
     "output_type": "stream",
     "text": [
      "INFO:root:WsRemoteService Exception ConnectionError: Connection error: https://localhost:8888/login\n"
     ]
    },
    {
     "name": "stdout",
     "output_type": "stream",
     "text": [
      "sleep 5\n"
     ]
    },
    {
     "name": "stderr",
     "output_type": "stream",
     "text": [
      "INFO:root:WsRemoteService Exception ConnectionError: Connection error: https://localhost:8888/login\n"
     ]
    },
    {
     "name": "stdout",
     "output_type": "stream",
     "text": [
      "sleep 5\n"
     ]
    },
    {
     "name": "stderr",
     "output_type": "stream",
     "text": [
      "INFO:root:WsRemoteService Exception ConnectionError: Connection error: https://localhost:8888/login\n"
     ]
    },
    {
     "name": "stdout",
     "output_type": "stream",
     "text": [
      "sleep 5\n"
     ]
    },
    {
     "name": "stderr",
     "output_type": "stream",
     "text": [
      "INFO:root:WsRemoteService Exception ConnectionError: Connection error: https://localhost:8888/login\n"
     ]
    },
    {
     "name": "stdout",
     "output_type": "stream",
     "text": [
      "sleep 5\n"
     ]
    },
    {
     "name": "stderr",
     "output_type": "stream",
     "text": [
      "INFO:root:WsRemoteService Exception ConnectionError: Connection error: https://localhost:8888/login\n"
     ]
    },
    {
     "name": "stdout",
     "output_type": "stream",
     "text": [
      "sleep 5\n"
     ]
    },
    {
     "name": "stderr",
     "output_type": "stream",
     "text": [
      "INFO:root:WsRemoteService Exception ConnectionError: Connection error: https://localhost:8888/login\n"
     ]
    },
    {
     "name": "stdout",
     "output_type": "stream",
     "text": [
      "sleep 5\n"
     ]
    },
    {
     "name": "stderr",
     "output_type": "stream",
     "text": [
      "INFO:root:WsRemoteService Exception ConnectionError: Connection error: https://localhost:8888/login\n"
     ]
    },
    {
     "name": "stdout",
     "output_type": "stream",
     "text": [
      "sleep 5\n"
     ]
    },
    {
     "name": "stderr",
     "output_type": "stream",
     "text": [
      "INFO:root:WsRemoteService Exception ConnectionError: Connection error: https://localhost:8888/login\n"
     ]
    },
    {
     "name": "stdout",
     "output_type": "stream",
     "text": [
      "sleep 5\n"
     ]
    }
   ],
   "source": [
    "cfg.TR"
   ]
  },
  {
   "cell_type": "raw",
   "metadata": {},
   "source": []
  },
  {
   "cell_type": "code",
   "execution_count": 7,
   "metadata": {},
   "outputs": [
    {
     "name": "stderr",
     "output_type": "stream",
     "text": [
      "INFO:root:Connected to: wss://localhost:7777/wsSubject\n",
      "INFO:root:WsRemoteService Exception ConnectionError: Connection error: https://localhost:8888/login\n"
     ]
    },
    {
     "name": "stdout",
     "output_type": "stream",
     "text": [
      "Connected to: wss://localhost:7777/wsSubject\n",
      "sleep 5\n"
     ]
    },
    {
     "name": "stderr",
     "output_type": "stream",
     "text": [
      "INFO:root:WsRemoteService Exception ConnectionError: Connection error: https://localhost:8888/login\n"
     ]
    },
    {
     "name": "stdout",
     "output_type": "stream",
     "text": [
      "sleep 5\n"
     ]
    },
    {
     "name": "stderr",
     "output_type": "stream",
     "text": [
      "INFO:root:WsRemoteService Exception ConnectionError: Connection error: https://localhost:8888/login\n"
     ]
    },
    {
     "name": "stdout",
     "output_type": "stream",
     "text": [
      "sleep 5\n"
     ]
    },
    {
     "name": "stderr",
     "output_type": "stream",
     "text": [
      "INFO:root:WsRemoteService Exception ConnectionError: Connection error: https://localhost:8888/login\n"
     ]
    },
    {
     "name": "stdout",
     "output_type": "stream",
     "text": [
      "sleep 5\n"
     ]
    }
   ],
   "source": [
    "subjectService = SubjectService(args)\n",
    "subjectService.runDetached()\n"
   ]
  },
  {
   "cell_type": "code",
   "execution_count": 10,
   "metadata": {},
   "outputs": [
    {
     "name": "stdout",
     "output_type": "stream",
     "text": [
      "feedback\n",
      "SubjectInterface: setResult: run 1, tr 1, value 19\n",
      "TR[0]=10,trID=1,parameter=19,timestamp=1612934487.626057,runId=1\n"
     ]
    },
    {
     "ename": "KeyError",
     "evalue": "19",
     "output_type": "error",
     "traceback": [
      "\u001b[0;31m---------------------------------------------------------------------------\u001b[0m",
      "\u001b[0;31mKeyError\u001b[0m                                  Traceback (most recent call last)",
      "\u001b[0;32m<ipython-input-10-de7b22185e2f>\u001b[0m in \u001b[0;36m<module>\u001b[0;34m\u001b[0m\n\u001b[1;32m     37\u001b[0m             \u001b[0mtrialTime\u001b[0m\u001b[0;34m=\u001b[0m\u001b[0mtrialClock\u001b[0m\u001b[0;34m.\u001b[0m\u001b[0mgetTime\u001b[0m\u001b[0;34m(\u001b[0m\u001b[0;34m)\u001b[0m\u001b[0;34m\u001b[0m\u001b[0;34m\u001b[0m\u001b[0m\n\u001b[1;32m     38\u001b[0m             \u001b[0;31m# update the image list to be shown based on the fetched parameter\u001b[0m\u001b[0;34m\u001b[0m\u001b[0;34m\u001b[0m\u001b[0;34m\u001b[0m\u001b[0m\n\u001b[0;32m---> 39\u001b[0;31m             \u001b[0mimagePaths\u001b[0m\u001b[0;34m=\u001b[0m\u001b[0mimageLists\u001b[0m\u001b[0;34m[\u001b[0m\u001b[0mparameter\u001b[0m\u001b[0;34m]\u001b[0m \u001b[0;31m#list(imageLists[parameter])\u001b[0m\u001b[0;34m\u001b[0m\u001b[0;34m\u001b[0m\u001b[0m\n\u001b[0m\u001b[1;32m     40\u001b[0m             \u001b[0;31m# calculated how long each image should last.\u001b[0m\u001b[0;34m\u001b[0m\u001b[0;34m\u001b[0m\u001b[0;34m\u001b[0m\u001b[0m\n\u001b[1;32m     41\u001b[0m             \u001b[0meachTime\u001b[0m\u001b[0;34m=\u001b[0m\u001b[0mParameterUpdateDuration\u001b[0m\u001b[0;34m/\u001b[0m\u001b[0mlen\u001b[0m\u001b[0;34m(\u001b[0m\u001b[0mimagePaths\u001b[0m\u001b[0;34m)\u001b[0m\u001b[0;34m\u001b[0m\u001b[0;34m\u001b[0m\u001b[0m\n",
      "\u001b[0;31mKeyError\u001b[0m: 19"
     ]
    },
    {
     "name": "stdout",
     "output_type": "stream",
     "text": [
      "SubjectInterface: setResult: run 1, tr 2, value 19\n",
      "SubjectInterface: setResult: run 1, tr 3, value 19\n",
      "SubjectInterface: setResult: run 1, tr 4, value 19\n",
      "SubjectInterface: setResult: run 1, tr 5, value 19\n",
      "SubjectInterface: setResult: run 1, tr 6, value 19\n",
      "SubjectInterface: setResult: run 1, tr 7, value 19\n",
      "SubjectInterface: setResult: run 1, tr 8, value 19\n",
      "SubjectInterface: setResult: run 1, tr 9, value 19\n",
      "SubjectInterface: setResult: run 1, tr 10, value 19\n",
      "SubjectInterface: setResult: run 1, tr 11, value 19\n",
      "SubjectInterface: setResult: run 1, tr 12, value 19\n",
      "SubjectInterface: setResult: run 1, tr 13, value 19\n",
      "SubjectInterface: setResult: run 1, tr 14, value 19\n",
      "SubjectInterface: setResult: run 1, tr 15, value 19\n",
      "SubjectInterface: setResult: run 1, tr 16, value 19\n",
      "SubjectInterface: setResult: run 1, tr 17, value 19\n",
      "SubjectInterface: setResult: run 1, tr 18, value 19\n",
      "SubjectInterface: setResult: run 1, tr 19, value 19\n",
      "SubjectInterface: setResult: run 1, tr 20, value 19\n",
      "SubjectInterface: setResult: run 1, tr 21, value 19\n",
      "SubjectInterface: setResult: run 1, tr 22, value 19\n",
      "SubjectInterface: setResult: run 1, tr 23, value 19\n"
     ]
    },
    {
     "name": "stderr",
     "output_type": "stream",
     "text": [
      "INFO:root:WsRemoteService Exception ConnectionError: Connection error: https://localhost:8888/login\n"
     ]
    },
    {
     "name": "stdout",
     "output_type": "stream",
     "text": [
      "sleep 5\n",
      "SubjectInterface: setResult: run 1, tr 24, value 19\n",
      "SubjectInterface: setResult: run 1, tr 25, value 19\n",
      "SubjectInterface: setResult: run 1, tr 26, value 19\n",
      "SubjectInterface: setResult: run 1, tr 27, value 19\n",
      "SubjectInterface: setResult: run 1, tr 28, value 19\n",
      "SubjectInterface: setResult: run 1, tr 29, value 19\n",
      "SubjectInterface: setResult: run 1, tr 30, value 19\n",
      "SubjectInterface: setResult: run 1, tr 31, value 19\n",
      "SubjectInterface: setResult: run 1, tr 32, value 19\n",
      "SubjectInterface: setResult: run 1, tr 33, value 19\n"
     ]
    },
    {
     "name": "stderr",
     "output_type": "stream",
     "text": [
      "INFO:root:WsRemoteService Exception ConnectionError: Connection error: https://localhost:8888/login\n"
     ]
    },
    {
     "name": "stdout",
     "output_type": "stream",
     "text": [
      "sleep 5\n",
      "SubjectInterface: setResult: run 1, tr 34, value 19\n",
      "SubjectInterface: setResult: run 1, tr 35, value 19\n",
      "SubjectInterface: setResult: run 1, tr 36, value 19\n",
      "SubjectInterface: setResult: run 1, tr 37, value 19\n",
      "SubjectInterface: setResult: run 1, tr 38, value 19\n",
      "SubjectInterface: setResult: run 1, tr 39, value 19\n",
      "SubjectInterface: setResult: run 1, tr 40, value 19\n",
      "SubjectInterface: setResult: run 1, tr 41, value 19\n",
      "SubjectInterface: setResult: run 1, tr 42, value 19\n",
      "SubjectInterface: setResult: run 1, tr 43, value 19\n",
      "SubjectInterface: setResult: run 1, tr 44, value 19\n",
      "SubjectInterface: setResult: run 1, tr 45, value 19\n",
      "SubjectInterface: setResult: run 1, tr 46, value 19\n",
      "SubjectInterface: setResult: run 1, tr 47, value 19\n",
      "SubjectInterface: setResult: run 1, tr 48, value 19\n",
      "SubjectInterface: setResult: run 1, tr 49, value 19\n",
      "SubjectInterface: setResult: run 1, tr 50, value 19\n",
      "SubjectInterface: setResult: run 1, tr 51, value 19\n",
      "SubjectInterface: setResult: run 1, tr 52, value 19\n",
      "SubjectInterface: setResult: run 1, tr 53, value 19\n",
      "SubjectInterface: setResult: run 1, tr 54, value 19\n",
      "SubjectInterface: setResult: run 1, tr 55, value 19\n",
      "SubjectInterface: setResult: run 1, tr 56, value 19\n",
      "SubjectInterface: setResult: run 1, tr 57, value 19\n",
      "SubjectInterface: setResult: run 1, tr 58, value 19\n",
      "SubjectInterface: setResult: run 1, tr 59, value 19\n",
      "SubjectInterface: setResult: run 1, tr 60, value 19\n",
      "SubjectInterface: setResult: run 1, tr 61, value 19\n",
      "SubjectInterface: setResult: run 1, tr 62, value 19\n",
      "SubjectInterface: setResult: run 1, tr 63, value 19\n",
      "SubjectInterface: setResult: run 1, tr 64, value 19\n",
      "SubjectInterface: setResult: run 1, tr 65, value 19\n",
      "SubjectInterface: setResult: run 1, tr 66, value 19\n",
      "SubjectInterface: setResult: run 1, tr 67, value 19\n",
      "SubjectInterface: setResult: run 1, tr 68, value 19\n",
      "SubjectInterface: setResult: run 1, tr 69, value 19\n",
      "SubjectInterface: setResult: run 1, tr 70, value 19\n",
      "SubjectInterface: setResult: run 1, tr 71, value 19\n",
      "SubjectInterface: setResult: run 1, tr 72, value 19\n",
      "SubjectInterface: setResult: run 1, tr 73, value 19\n",
      "SubjectInterface: setResult: run 1, tr 74, value 19\n",
      "SubjectInterface: setResult: run 1, tr 75, value 19\n",
      "SubjectInterface: setResult: run 1, tr 76, value 19\n",
      "SubjectInterface: setResult: run 1, tr 77, value 19\n",
      "SubjectInterface: setResult: run 1, tr 78, value 19\n",
      "SubjectInterface: setResult: run 1, tr 79, value 19\n",
      "SubjectInterface: setResult: run 1, tr 80, value 19\n",
      "SubjectInterface: setResult: run 1, tr 81, value 19\n",
      "SubjectInterface: setResult: run 1, tr 82, value 19\n",
      "SubjectInterface: setResult: run 1, tr 83, value 19\n",
      "SubjectInterface: setResult: run 1, tr 84, value 19\n",
      "SubjectInterface: setResult: run 1, tr 85, value 19\n",
      "SubjectInterface: setResult: run 1, tr 86, value 19\n",
      "SubjectInterface: setResult: run 1, tr 87, value 19\n",
      "SubjectInterface: setResult: run 1, tr 88, value 19\n",
      "SubjectInterface: setResult: run 1, tr 89, value 19\n",
      "SubjectInterface: setResult: run 1, tr 90, value 19\n",
      "SubjectInterface: setResult: run 1, tr 91, value 19\n",
      "SubjectInterface: setResult: run 1, tr 92, value 19\n",
      "SubjectInterface: setResult: run 1, tr 93, value 19\n",
      "SubjectInterface: setResult: run 1, tr 94, value 19\n",
      "SubjectInterface: setResult: run 1, tr 95, value 19\n",
      "SubjectInterface: setResult: run 1, tr 96, value 19\n",
      "SubjectInterface: setResult: run 1, tr 97, value 19\n",
      "SubjectInterface: setResult: run 1, tr 98, value 19\n",
      "SubjectInterface: setResult: run 1, tr 99, value 19\n",
      "SubjectInterface: setResult: run 1, tr 100, value 19\n",
      "SubjectInterface: setResult: run 1, tr 101, value 19\n",
      "SubjectInterface: setResult: run 1, tr 102, value 19\n",
      "SubjectInterface: setResult: run 1, tr 103, value 19\n",
      "SubjectInterface: setResult: run 1, tr 104, value 19\n",
      "SubjectInterface: setResult: run 1, tr 105, value 19\n",
      "SubjectInterface: setResult: run 1, tr 106, value 19\n",
      "SubjectInterface: setResult: run 1, tr 107, value 19\n",
      "SubjectInterface: setResult: run 1, tr 108, value 19\n",
      "SubjectInterface: setResult: run 1, tr 109, value 19\n",
      "SubjectInterface: setResult: run 1, tr 110, value 19\n",
      "SubjectInterface: setResult: run 1, tr 111, value 19\n",
      "SubjectInterface: setResult: run 1, tr 112, value 19\n",
      "SubjectInterface: setResult: run 1, tr 113, value 19\n",
      "SubjectInterface: setResult: run 1, tr 114, value 19\n",
      "SubjectInterface: setResult: run 1, tr 115, value 19\n",
      "SubjectInterface: setResult: run 1, tr 116, value 19\n",
      "SubjectInterface: setResult: run 1, tr 117, value 19\n",
      "SubjectInterface: setResult: run 1, tr 118, value 19\n",
      "SubjectInterface: setResult: run 1, tr 119, value 19\n",
      "SubjectInterface: setResult: run 1, tr 120, value 19\n",
      "SubjectInterface: setResult: run 1, tr 121, value 19\n",
      "SubjectInterface: setResult: run 1, tr 122, value 19\n"
     ]
    },
    {
     "name": "stderr",
     "output_type": "stream",
     "text": [
      "INFO:root:WsRemoteService Exception ConnectionError: Connection error: https://localhost:8888/login\n"
     ]
    },
    {
     "name": "stdout",
     "output_type": "stream",
     "text": [
      "SubjectInterface: setResult: run 1, tr 123, value 19\n",
      "sleep 5\n",
      "SubjectInterface: setResult: run 1, tr 124, value 19\n",
      "SubjectInterface: setResult: run 1, tr 125, value 19\n",
      "SubjectInterface: setResult: run 1, tr 126, value 19\n",
      "SubjectInterface: setResult: run 1, tr 127, value 19\n",
      "SubjectInterface: setResult: run 1, tr 128, value 19\n",
      "SubjectInterface: setResult: run 1, tr 129, value 19\n",
      "SubjectInterface: setResult: run 1, tr 130, value 19\n",
      "SubjectInterface: setResult: run 1, tr 131, value 19\n"
     ]
    },
    {
     "name": "stderr",
     "output_type": "stream",
     "text": [
      "INFO:root:WsRemoteService Exception ConnectionError: Connection error: https://localhost:8888/login\n"
     ]
    },
    {
     "name": "stdout",
     "output_type": "stream",
     "text": [
      "SubjectInterface: setResult: run 1, tr 132, value 19\n",
      "sleep 5\n",
      "SubjectInterface: setResult: run 1, tr 133, value 19\n",
      "SubjectInterface: setResult: run 1, tr 134, value 19\n",
      "SubjectInterface: setResult: run 1, tr 135, value 19\n",
      "SubjectInterface: setResult: run 1, tr 136, value 19\n",
      "SubjectInterface: setResult: run 1, tr 137, value 19\n",
      "SubjectInterface: setResult: run 1, tr 138, value 19\n",
      "SubjectInterface: setResult: run 1, tr 139, value 19\n",
      "SubjectInterface: setResult: run 1, tr 140, value 19\n",
      "SubjectInterface: setResult: run 1, tr 141, value 19\n",
      "SubjectInterface: setResult: run 1, tr 142, value 19\n",
      "SubjectInterface: setResult: run 1, tr 143, value 19\n",
      "SubjectInterface: setResult: run 1, tr 144, value 19\n",
      "SubjectInterface: setResult: run 1, tr 145, value 19\n",
      "SubjectInterface: setResult: run 1, tr 146, value 19\n",
      "SubjectInterface: setResult: run 1, tr 147, value 19\n",
      "SubjectInterface: setResult: run 1, tr 148, value 19\n",
      "SubjectInterface: setResult: run 1, tr 149, value 19\n",
      "SubjectInterface: setResult: run 1, tr 150, value 19\n"
     ]
    },
    {
     "name": "stderr",
     "output_type": "stream",
     "text": [
      "INFO:root:WsRemoteService Exception ConnectionError: Connection error: https://localhost:8888/login\n"
     ]
    },
    {
     "name": "stdout",
     "output_type": "stream",
     "text": [
      "sleep 5\n"
     ]
    },
    {
     "name": "stderr",
     "output_type": "stream",
     "text": [
      "INFO:root:WsRemoteService Exception ConnectionError: Connection error: https://localhost:8888/login\n"
     ]
    },
    {
     "name": "stdout",
     "output_type": "stream",
     "text": [
      "sleep 5\n"
     ]
    },
    {
     "name": "stderr",
     "output_type": "stream",
     "text": [
      "INFO:root:WsRemoteService Exception ConnectionError: Connection error: https://localhost:8888/login\n"
     ]
    },
    {
     "name": "stdout",
     "output_type": "stream",
     "text": [
      "sleep 5\n"
     ]
    },
    {
     "name": "stderr",
     "output_type": "stream",
     "text": [
      "INFO:root:WsRemoteService Exception ConnectionError: Connection error: https://localhost:8888/login\n"
     ]
    },
    {
     "name": "stdout",
     "output_type": "stream",
     "text": [
      "sleep 5\n"
     ]
    },
    {
     "name": "stderr",
     "output_type": "stream",
     "text": [
      "INFO:root:WsRemoteService Exception ConnectionError: Connection error: https://localhost:8888/login\n"
     ]
    },
    {
     "name": "stdout",
     "output_type": "stream",
     "text": [
      "sleep 5\n"
     ]
    },
    {
     "name": "stderr",
     "output_type": "stream",
     "text": [
      "INFO:root:WsRemoteService Exception ConnectionError: Connection error: https://localhost:8888/login\n"
     ]
    },
    {
     "name": "stdout",
     "output_type": "stream",
     "text": [
      "sleep 5\n"
     ]
    },
    {
     "name": "stderr",
     "output_type": "stream",
     "text": [
      "INFO:root:WsRemoteService Exception ConnectionError: Connection error: https://localhost:8888/login\n"
     ]
    },
    {
     "name": "stdout",
     "output_type": "stream",
     "text": [
      "sleep 5\n"
     ]
    },
    {
     "name": "stderr",
     "output_type": "stream",
     "text": [
      "INFO:root:WsRemoteService Exception ConnectionError: Connection error: https://localhost:8888/login\n"
     ]
    },
    {
     "name": "stdout",
     "output_type": "stream",
     "text": [
      "sleep 5\n"
     ]
    },
    {
     "name": "stderr",
     "output_type": "stream",
     "text": [
      "INFO:root:WsRemoteService Exception ConnectionError: Connection error: https://localhost:8888/login\n"
     ]
    },
    {
     "name": "stdout",
     "output_type": "stream",
     "text": [
      "sleep 5\n"
     ]
    },
    {
     "name": "stderr",
     "output_type": "stream",
     "text": [
      "INFO:root:WsRemoteService Exception ConnectionError: Connection error: https://localhost:8888/login\n"
     ]
    },
    {
     "name": "stdout",
     "output_type": "stream",
     "text": [
      "sleep 5\n"
     ]
    },
    {
     "name": "stderr",
     "output_type": "stream",
     "text": [
      "INFO:root:WsRemoteService Exception ConnectionError: Connection error: https://localhost:8888/login\n"
     ]
    },
    {
     "name": "stdout",
     "output_type": "stream",
     "text": [
      "sleep 5\n"
     ]
    },
    {
     "name": "stderr",
     "output_type": "stream",
     "text": [
      "INFO:root:WsRemoteService Exception ConnectionError: Connection error: https://localhost:8888/login\n"
     ]
    },
    {
     "name": "stdout",
     "output_type": "stream",
     "text": [
      "sleep 5\n"
     ]
    },
    {
     "name": "stderr",
     "output_type": "stream",
     "text": [
      "INFO:root:WsRemoteService Exception ConnectionError: Connection error: https://localhost:8888/login\n"
     ]
    },
    {
     "name": "stdout",
     "output_type": "stream",
     "text": [
      "sleep 5\n"
     ]
    },
    {
     "name": "stderr",
     "output_type": "stream",
     "text": [
      "INFO:root:WsRemoteService Exception ConnectionError: Connection error: https://localhost:8888/login\n"
     ]
    },
    {
     "name": "stdout",
     "output_type": "stream",
     "text": [
      "sleep 5\n"
     ]
    },
    {
     "name": "stderr",
     "output_type": "stream",
     "text": [
      "INFO:root:WsRemoteService Exception ConnectionError: Connection error: https://localhost:8888/login\n"
     ]
    },
    {
     "name": "stdout",
     "output_type": "stream",
     "text": [
      "sleep 5\n"
     ]
    },
    {
     "name": "stderr",
     "output_type": "stream",
     "text": [
      "INFO:root:WsRemoteService Exception ConnectionError: Connection error: https://localhost:8888/login\n"
     ]
    },
    {
     "name": "stdout",
     "output_type": "stream",
     "text": [
      "sleep 5\n"
     ]
    },
    {
     "name": "stderr",
     "output_type": "stream",
     "text": [
      "INFO:root:WsRemoteService Exception ConnectionError: Connection error: https://localhost:8888/login\n"
     ]
    },
    {
     "name": "stdout",
     "output_type": "stream",
     "text": [
      "sleep 5\n"
     ]
    },
    {
     "name": "stderr",
     "output_type": "stream",
     "text": [
      "INFO:root:WsRemoteService Exception ConnectionError: Connection error: https://localhost:8888/login\n"
     ]
    },
    {
     "name": "stdout",
     "output_type": "stream",
     "text": [
      "sleep 5\n"
     ]
    },
    {
     "name": "stderr",
     "output_type": "stream",
     "text": [
      "INFO:root:WsRemoteService Exception ConnectionError: Connection error: https://localhost:8888/login\n"
     ]
    },
    {
     "name": "stdout",
     "output_type": "stream",
     "text": [
      "sleep 5\n"
     ]
    },
    {
     "name": "stderr",
     "output_type": "stream",
     "text": [
      "INFO:root:WsRemoteService Exception ConnectionError: Connection error: https://localhost:8888/login\n"
     ]
    },
    {
     "name": "stdout",
     "output_type": "stream",
     "text": [
      "sleep 5\n"
     ]
    },
    {
     "name": "stderr",
     "output_type": "stream",
     "text": [
      "INFO:root:WsRemoteService Exception ConnectionError: Connection error: https://localhost:8888/login\n"
     ]
    },
    {
     "name": "stdout",
     "output_type": "stream",
     "text": [
      "sleep 5\n"
     ]
    },
    {
     "name": "stderr",
     "output_type": "stream",
     "text": [
      "INFO:root:WsRemoteService Exception ConnectionError: Connection error: https://localhost:8888/login\n"
     ]
    },
    {
     "name": "stdout",
     "output_type": "stream",
     "text": [
      "sleep 5\n"
     ]
    },
    {
     "name": "stderr",
     "output_type": "stream",
     "text": [
      "INFO:root:WsRemoteService Exception ConnectionError: Connection error: https://localhost:8888/login\n"
     ]
    },
    {
     "name": "stdout",
     "output_type": "stream",
     "text": [
      "sleep 5\n"
     ]
    },
    {
     "name": "stderr",
     "output_type": "stream",
     "text": [
      "INFO:root:WsRemoteService Exception ConnectionError: Connection error: https://localhost:8888/login\n"
     ]
    },
    {
     "name": "stdout",
     "output_type": "stream",
     "text": [
      "sleep 5\n"
     ]
    },
    {
     "name": "stderr",
     "output_type": "stream",
     "text": [
      "INFO:root:WsRemoteService Exception ConnectionError: Connection error: https://localhost:8888/login\n"
     ]
    },
    {
     "name": "stdout",
     "output_type": "stream",
     "text": [
      "sleep 5\n"
     ]
    },
    {
     "name": "stderr",
     "output_type": "stream",
     "text": [
      "INFO:root:WsRemoteService Exception ConnectionError: Connection error: https://localhost:8888/login\n"
     ]
    },
    {
     "name": "stdout",
     "output_type": "stream",
     "text": [
      "sleep 5\n"
     ]
    },
    {
     "name": "stderr",
     "output_type": "stream",
     "text": [
      "INFO:root:WsRemoteService Exception ConnectionError: Connection error: https://localhost:8888/login\n"
     ]
    },
    {
     "name": "stdout",
     "output_type": "stream",
     "text": [
      "sleep 5\n"
     ]
    },
    {
     "name": "stderr",
     "output_type": "stream",
     "text": [
      "INFO:root:WsRemoteService Exception ConnectionError: Connection error: https://localhost:8888/login\n"
     ]
    },
    {
     "name": "stdout",
     "output_type": "stream",
     "text": [
      "sleep 5\n"
     ]
    },
    {
     "name": "stderr",
     "output_type": "stream",
     "text": [
      "INFO:root:WsRemoteService Exception ConnectionError: Connection error: https://localhost:8888/login\n"
     ]
    },
    {
     "name": "stdout",
     "output_type": "stream",
     "text": [
      "sleep 5\n"
     ]
    },
    {
     "name": "stderr",
     "output_type": "stream",
     "text": [
      "INFO:root:WsRemoteService Exception ConnectionError: Connection error: https://localhost:8888/login\n"
     ]
    },
    {
     "name": "stdout",
     "output_type": "stream",
     "text": [
      "sleep 5\n"
     ]
    },
    {
     "name": "stderr",
     "output_type": "stream",
     "text": [
      "INFO:root:WsRemoteService Exception ConnectionError: Connection error: https://localhost:8888/login\n"
     ]
    },
    {
     "name": "stdout",
     "output_type": "stream",
     "text": [
      "sleep 5\n"
     ]
    },
    {
     "name": "stderr",
     "output_type": "stream",
     "text": [
      "INFO:root:WsRemoteService Exception ConnectionError: Connection error: https://localhost:8888/login\n"
     ]
    },
    {
     "name": "stdout",
     "output_type": "stream",
     "text": [
      "sleep 5\n"
     ]
    },
    {
     "name": "stderr",
     "output_type": "stream",
     "text": [
      "INFO:root:WsRemoteService Exception ConnectionError: Connection error: https://localhost:8888/login\n"
     ]
    },
    {
     "name": "stdout",
     "output_type": "stream",
     "text": [
      "sleep 5\n"
     ]
    },
    {
     "name": "stderr",
     "output_type": "stream",
     "text": [
      "INFO:root:WsRemoteService Exception ConnectionError: Connection error: https://localhost:8888/login\n"
     ]
    },
    {
     "name": "stdout",
     "output_type": "stream",
     "text": [
      "sleep 5\n"
     ]
    },
    {
     "name": "stderr",
     "output_type": "stream",
     "text": [
      "INFO:root:WsRemoteService Exception ConnectionError: Connection error: https://localhost:8888/login\n"
     ]
    },
    {
     "name": "stdout",
     "output_type": "stream",
     "text": [
      "sleep 5\n"
     ]
    },
    {
     "name": "stderr",
     "output_type": "stream",
     "text": [
      "INFO:root:WsRemoteService Exception ConnectionError: Connection error: https://localhost:8888/login\n"
     ]
    },
    {
     "name": "stdout",
     "output_type": "stream",
     "text": [
      "sleep 5\n"
     ]
    },
    {
     "name": "stderr",
     "output_type": "stream",
     "text": [
      "INFO:root:WsRemoteService Exception ConnectionError: Connection error: https://localhost:8888/login\n"
     ]
    },
    {
     "name": "stdout",
     "output_type": "stream",
     "text": [
      "sleep 5\n"
     ]
    },
    {
     "name": "stderr",
     "output_type": "stream",
     "text": [
      "INFO:root:WsRemoteService Exception ConnectionError: Connection error: https://localhost:8888/login\n"
     ]
    },
    {
     "name": "stdout",
     "output_type": "stream",
     "text": [
      "sleep 5\n"
     ]
    }
   ],
   "source": [
    "# curr_parameter=len(parameters['value'])-1\n",
    "while len(TR)>1: #globalClock.getTime() <= (MR_settings['volumes'] * MR_settings['TR']) + 3:\n",
    "    trialTime = trialClock.getTime()\n",
    "    keys = event.getKeys([\"5\",\"0\"])  # check for triggers\n",
    "    if '0' in keys: # whenever you want to quite, type 0\n",
    "        mywin.close()\n",
    "        core.quit()\n",
    "    if len(keys):\n",
    "        TR.pop(0)\n",
    "        states.pop(0)\n",
    "        newWobble.pop(0)\n",
    "        print(states[0])\n",
    "        if states[0] == 'feedback' and newWobble[0]==1:\n",
    "            # fetch parameter from preprocessing process on Milgram       \n",
    "            # feedbackMsg = WsFeedbackReceiver.msgQueue.get(block=True, timeout=None)     \n",
    "            feedbackMsg = subjectService.subjectInterface.msgQueue.get(block=True, timeout=None)\n",
    "            runId,trID,value,timestamp=feedbackMsg.get('runId'),feedbackMsg.get('trId'),feedbackMsg.get('value'),feedbackMsg.get('timestamp')\n",
    "\n",
    "            if value==None:\n",
    "                parameter = default_parameter\n",
    "            else:\n",
    "                parameter = value\n",
    "\n",
    "            # print('feedbackParameterFileName=',feedbackParameterFileName)\n",
    "            # parameters=pd.read_csv(feedbackParameterFileName)\n",
    "            # if curr_parameter>(len(parameters['value'])-1):\n",
    "                # curr_parameter=curr_parameter-1\n",
    "            # curr_parameter=(len(parameters['value'])-1)\n",
    "            # parameter=parameters['value'].iloc[curr_parameter]\n",
    "            # print('curr_parameter=',curr_parameter)\n",
    "            # print('parameter=',parameter)\n",
    "            print(f'TR[0]={TR[0]},trID={trID},parameter={parameter},timestamp={timestamp},runId={runId}')\n",
    "\n",
    "            # curr_parameter=curr_parameter+1\n",
    "            # start new clock for current updating duration (the duration in which only a single parameter is used, which can be 1 TR or a few TRs, the begining of the updateDuration is indicated by the table['newWobble'])\n",
    "            trialClock=core.Clock()\n",
    "            trialTime=trialClock.getTime()\n",
    "            # update the image list to be shown based on the fetched parameter\n",
    "            imagePaths=imageLists[parameter] #list(imageLists[parameter])\n",
    "            # calculated how long each image should last.\n",
    "            eachTime=ParameterUpdateDuration/len(imagePaths)\n",
    "            # update the image\n",
    "            # image.image=imagePaths[0]\n",
    "            image.setAutoDraw(False)\n",
    "            imagePaths[0].setAutoDraw(True)\n",
    "            # currImage*eachTime is used in the calculation of the start time of next image in the list.\n",
    "            \n",
    "            # save when the image is presented and which image is presented.\n",
    "            data = data.append({'Sub': sub, \n",
    "                                'Run': run, \n",
    "                                'TR': TR[0],\n",
    "                                'time': trialTime, \n",
    "                                'imageTime':imagePaths[0].image,\n",
    "                                'eachTime':eachTime},\n",
    "                               ignore_index=True)\n",
    "            oldMorphParameter=re.findall(r\"_\\w+_\",imagePaths[0].image)[1]\n",
    "            # print('curr morph=',oldMorphParameter)\n",
    "            remainImageNumber.append(0)\n",
    "            currImage=1\n",
    "            # # discard the first image since it has been used.\n",
    "            # imagePaths.pop(0)\n",
    "    if (states[0] == 'feedback') and (trialTime>currImage*eachTime):\n",
    "            try: # sometimes the trialTime accidentally surpasses the maximum time, in this case just do nothing, pass\n",
    "                imagePaths[currImage-1].setAutoDraw(False)\n",
    "                imagePaths[currImage].setAutoDraw(True)\n",
    "                # print('currImage=',imagePaths[currImage],end='\\n\\n')\n",
    "                remainImageNumber.append(currImage)\n",
    "\n",
    "                # write the data!\n",
    "                data = data.append({'Sub': sub, \n",
    "                                    'Run': run, \n",
    "                                    'TR': TR[0], \n",
    "                                    'time': trialTime, \n",
    "                                    'imageTime':imagePaths[currImage].image,\n",
    "                                    'eachTime':eachTime},\n",
    "                                    ignore_index=True)\n",
    "                currMorphParameter=re.findall(r\"_\\w+_\",imagePaths[currImage].image)[1]\n",
    "                if currMorphParameter!=oldMorphParameter:\n",
    "                    pass\n",
    "                    # print('curr morph=',currMorphParameter)\n",
    "                oldMorphParameter=currMorphParameter\n",
    "                currImage=currImage+1        \n",
    "            except:\n",
    "                pass\n",
    "    elif states[0] == 'ITI':\n",
    "        backgroundImage.setAutoDraw(True)\n",
    "        fix.draw()\n",
    "    elif states[0] == 'waiting':\n",
    "        backgroundImage.setAutoDraw(False)\n",
    "        image.setAutoDraw(True)\n",
    "    # refresh the screen\n",
    "    mywin.flip()\n",
    "\n",
    "\n",
    "# write data out!\n",
    "data.to_csv(newfile)\n",
    "mywin.close()\n",
    "core.quit()\n",
    "\n",
    "\n",
    "# ##############################################################################\n",
    "# ##############################################################################\n",
    "# ##############################################################################\n",
    "# ####################### simmulated data forparameters#########################\n",
    "# ##############################################################################\n",
    "# ##############################################################################\n",
    "# ##############################################################################\n",
    "# parameters = pd.DataFrame(columns=['runId','trId','value','timestamp'])\n",
    "# main_dir=\"/Volumes/GoogleDrive/My Drive/Turk_Browne_Lab/rtcloud_kp/\"\n",
    "# parameterWriteFolder=main_dir+'./subjects/pilot_sub001/ses1_feedbackParameter/'\n",
    "# if not os.path.isdir(parameterWriteFolder):\n",
    "#     os.mkdir(parameterWriteFolder)\n",
    "\n",
    "# for i in range(20):\n",
    "\n",
    "#     runId=1\n",
    "#     trId=int(np.random.uniform(1,20,1))\n",
    "#     value=int(np.random.uniform(1,20,1))\n",
    "#     timestamp=int(np.random.uniform(0,10,1))\n",
    "#     parameterFileName=f\"{parameterWriteFolder}run_{runId}.csv\"\n",
    "#     print(\"Dequeue run: {}, tr: {}, value: {}, timestamp: {}\".\n",
    "#           format(runId,trId,value,timestamp))\n",
    "\n",
    "#     parameters = parameters.append({'runId':runId,\n",
    "#                         'trId':trId,\n",
    "#                         'value':value,\n",
    "#                         'timestamp':timestamp},\n",
    "#                         ignore_index=True)\n",
    "#     print('parameters=',parameters)\n",
    "#     parameters.to_csv(parameterFileName)"
   ]
  },
  {
   "cell_type": "code",
   "execution_count": 18,
   "metadata": {
    "scrolled": true
   },
   "outputs": [
    {
     "name": "stderr",
     "output_type": "stream",
     "text": [
      "INFO:root:WsRemoteService Exception ConnectionError: Connection error: https://localhost:8888/login\n"
     ]
    },
    {
     "name": "stdout",
     "output_type": "stream",
     "text": [
      "sleep 5\n"
     ]
    },
    {
     "name": "stderr",
     "output_type": "stream",
     "text": [
      "INFO:root:WsRemoteService Exception ConnectionError: Connection error: https://localhost:8888/login\n"
     ]
    },
    {
     "name": "stdout",
     "output_type": "stream",
     "text": [
      "sleep 5\n"
     ]
    },
    {
     "name": "stderr",
     "output_type": "stream",
     "text": [
      "\r",
      "  0%|          | 0/10 [00:00<?, ?it/s]"
     ]
    },
    {
     "name": "stdout",
     "output_type": "stream",
     "text": [
      "total trial number= 180\n",
      "preloaded parameter range= [ 1  2  3  4  5  6  7  8  9 10]\n",
      "maximum morph= 4.0\n"
     ]
    },
    {
     "name": "stderr",
     "output_type": "stream",
     "text": [
      "\r",
      " 10%|█         | 1/10 [00:00<00:04,  2.02it/s]"
     ]
    },
    {
     "name": "stdout",
     "output_type": "stream",
     "text": [
      "maximum morph= 7.0\n"
     ]
    },
    {
     "name": "stderr",
     "output_type": "stream",
     "text": [
      "\r",
      " 20%|██        | 2/10 [00:01<00:05,  1.47it/s]"
     ]
    },
    {
     "name": "stdout",
     "output_type": "stream",
     "text": [
      "maximum morph= 10.0\n"
     ]
    },
    {
     "name": "stderr",
     "output_type": "stream",
     "text": [
      "\r",
      " 30%|███       | 3/10 [00:03<00:06,  1.05it/s]"
     ]
    },
    {
     "name": "stdout",
     "output_type": "stream",
     "text": [
      "maximum morph= 13.0\n"
     ]
    },
    {
     "name": "stderr",
     "output_type": "stream",
     "text": [
      "\r",
      " 40%|████      | 4/10 [00:05<00:07,  1.28s/it]"
     ]
    },
    {
     "name": "stdout",
     "output_type": "stream",
     "text": [
      "maximum morph= 16.0\n"
     ]
    },
    {
     "name": "stderr",
     "output_type": "stream",
     "text": [
      "\r",
      " 50%|█████     | 5/10 [00:07<00:07,  1.56s/it]"
     ]
    },
    {
     "name": "stdout",
     "output_type": "stream",
     "text": [
      "maximum morph= 19.0\n"
     ]
    },
    {
     "name": "stderr",
     "output_type": "stream",
     "text": [
      " 60%|██████    | 6/10 [00:10<00:07,  1.89s/it]INFO:root:WsRemoteService Exception ConnectionError: Connection error: https://localhost:8888/login\n"
     ]
    },
    {
     "name": "stdout",
     "output_type": "stream",
     "text": [
      "maximum morph= 22.0\n",
      "sleep 5\n"
     ]
    },
    {
     "name": "stderr",
     "output_type": "stream",
     "text": [
      "INFO:root:WsRemoteService Exception ConnectionError: Connection error: https://localhost:8888/login\n"
     ]
    },
    {
     "name": "stdout",
     "output_type": "stream",
     "text": [
      "sleep 5\n"
     ]
    },
    {
     "name": "stderr",
     "output_type": "stream",
     "text": [
      "\r",
      " 70%|███████   | 7/10 [00:13<00:06,  2.32s/it]"
     ]
    },
    {
     "name": "stdout",
     "output_type": "stream",
     "text": [
      "maximum morph= 25.0\n"
     ]
    },
    {
     "name": "stderr",
     "output_type": "stream",
     "text": [
      "\r",
      " 80%|████████  | 8/10 [00:17<00:05,  2.92s/it]"
     ]
    },
    {
     "name": "stdout",
     "output_type": "stream",
     "text": [
      "maximum morph= 28.0\n"
     ]
    },
    {
     "name": "stderr",
     "output_type": "stream",
     "text": [
      "\r",
      " 90%|█████████ | 9/10 [00:22<00:03,  3.32s/it]"
     ]
    },
    {
     "name": "stdout",
     "output_type": "stream",
     "text": [
      "maximum morph= 31.0\n"
     ]
    },
    {
     "name": "stderr",
     "output_type": "stream",
     "text": [
      "INFO:root:WsRemoteService Exception ConnectionError: Connection error: https://localhost:8888/login\n"
     ]
    },
    {
     "name": "stdout",
     "output_type": "stream",
     "text": [
      "sleep 5\n"
     ]
    },
    {
     "name": "stderr",
     "output_type": "stream",
     "text": [
      "100%|██████████| 10/10 [00:26<00:00,  2.65s/it]\n"
     ]
    },
    {
     "name": "stdout",
     "output_type": "stream",
     "text": [
      "preload image duration= 26.470059871673584\n",
      "Starting sub sub001 in run #1\n"
     ]
    },
    {
     "name": "stderr",
     "output_type": "stream",
     "text": [
      "INFO:root:WsRemoteService Exception ConnectionError: Connection error: https://localhost:8888/login\n"
     ]
    },
    {
     "name": "stdout",
     "output_type": "stream",
     "text": [
      "sleep 5\n"
     ]
    },
    {
     "name": "stderr",
     "output_type": "stream",
     "text": [
      "INFO:root:Connected to: wss://localhost:7777/wsSubject\n"
     ]
    },
    {
     "name": "stdout",
     "output_type": "stream",
     "text": [
      "Connected to: wss://localhost:7777/wsSubject\n"
     ]
    },
    {
     "name": "stderr",
     "output_type": "stream",
     "text": [
      "INFO:root:WsRemoteService Exception ConnectionError: Connection error: https://localhost:8888/login\n"
     ]
    },
    {
     "name": "stdout",
     "output_type": "stream",
     "text": [
      "sleep 5\n"
     ]
    },
    {
     "name": "stderr",
     "output_type": "stream",
     "text": [
      "INFO:root:WsRemoteService Exception ConnectionError: Connection error: https://localhost:8888/login\n"
     ]
    },
    {
     "name": "stdout",
     "output_type": "stream",
     "text": [
      "sleep 5\n"
     ]
    },
    {
     "name": "stderr",
     "output_type": "stream",
     "text": [
      "INFO:root:WsRemoteService Exception ConnectionError: Connection error: https://localhost:8888/login\n"
     ]
    },
    {
     "name": "stdout",
     "output_type": "stream",
     "text": [
      "sleep 5\n"
     ]
    },
    {
     "name": "stderr",
     "output_type": "stream",
     "text": [
      "INFO:root:WsRemoteService Exception ConnectionError: Connection error: https://localhost:8888/login\n"
     ]
    },
    {
     "name": "stdout",
     "output_type": "stream",
     "text": [
      "sleep 5\n"
     ]
    }
   ],
   "source": [
    "# This code should be run in console room computer to display the feedback morphings\n",
    "from __future__ import print_function, division\n",
    "import os\n",
    "if 'watts' in os.getcwd():\n",
    "    main_dir = \"/home/watts/Desktop/ntblab/kailong/rtSynth_rt/\"\n",
    "else:\n",
    "    main_dir=\"/Users/kailong/Desktop/rtEnv/rtSynth_rt/\"\n",
    "import sys\n",
    "sys.path.append(main_dir)\n",
    "sys.path.append(main_dir+\"expScripts/feedback/\")\n",
    "from psychopy import visual, event, core, logging, gui, data, monitors\n",
    "from psychopy.hardware.emulator import launchScan, SyncGenerator\n",
    "from PIL import Image\n",
    "import string\n",
    "import fmrisim as sim\n",
    "import numpy as np\n",
    "import pandas as pd\n",
    "import pylink   \n",
    "from tqdm import tqdm\n",
    "import time\n",
    "import re\n",
    "import logging\n",
    "import threading\n",
    "import argparse\n",
    "alpha = string.ascii_uppercase\n",
    "from rtCommon.subjectInterface import SubjectInterface\n",
    "from rtCommon.wsRemoteService import WsRemoteService, parseConnectionArgs\n",
    "from rtCommon.utils import installLoggers\n",
    "from rtCommon.cfg_loading import mkdir,cfg_loading\n",
    "\n",
    "if False:\n",
    "    scanmode = 'Scan'  # 'Scan' or 'Test' or None\n",
    "    screenmode = True  # fullscr True or False\n",
    "    monitor_name = \"scanner\"\n",
    "else:\n",
    "    scanmode = 'Test'  # 'Scan' or 'Test' or None\n",
    "    screenmode = False  # fullscr True or False\n",
    "    monitor_name = \"testMonitor\" #\"testMonitor\"\n",
    "\n",
    "\n",
    "class SubjectService:\n",
    "    def __init__(self, args, webSocketChannelName='wsSubject'):\n",
    "        \"\"\"\n",
    "        Uses the WsRemoteService framework to parse connection-related args and establish\n",
    "        a connection to a remote projectServer. Instantiates a local version of\n",
    "        SubjectInterface to handle client requests coming from the projectServer connection.\n",
    "        Args:\n",
    "            args: Argparse args related to connecting to the remote server. These include\n",
    "                \"-s <server>\", \"-u <username>\", \"-p <password>\", \"--test\",\n",
    "                \"-i <retry-connection-interval>\"\n",
    "            webSocketChannelName: The websocket url extension used to connecy and communicate\n",
    "                to the remote projectServer, 'wsSubject' will connect to 'ws://server:port/wsSubject'\n",
    "        \"\"\"\n",
    "        self.subjectInterface = SubjectInterface(subjectRemote=False)\n",
    "        self.wsRemoteService = WsRemoteService(args, webSocketChannelName)\n",
    "        self.wsRemoteService.addHandlerClass(SubjectInterface, self.subjectInterface)\n",
    "\n",
    "    def runDetached(self):\n",
    "        \"\"\"Starts the receiver in it's own thread.\"\"\"\n",
    "        self.recvThread = threading.Thread(name='recvThread',\n",
    "                                           target=self.wsRemoteService.runForever)\n",
    "        self.recvThread.setDaemon(True)\n",
    "        self.recvThread.start()\n",
    "\n",
    "\n",
    "argParser = argparse.ArgumentParser()\n",
    "argParser.add_argument('-c', '--config', action=\"store\", dest=\"config\", default='sub001.ses2.toml', type=str, help='experiment file (.json or .toml)')\n",
    "argParser.add_argument('-r', '--run', action=\"store\", dest=\"run\", default='1', type=str, help='current run')\n",
    "argParser.add_argument('-e', '--sess', action=\"store\", dest=\"sess\", default='1', type=str, help='current session')\n",
    "argParser.add_argument('-s', action=\"store\", dest=\"server\", default=\"localhost:7777\",\n",
    "                    help=\"Server Address with Port [server:port]\")\n",
    "argParser.add_argument('-i', action=\"store\", dest=\"interval\", type=int, default=5,\n",
    "                    help=\"Retry connection interval (seconds)\")\n",
    "argParser.add_argument('-u', '--username', action=\"store\", dest=\"username\", default='kp578',\n",
    "                    help=\"rtcloud website username\")\n",
    "argParser.add_argument('-p', '--password', action=\"store\", dest=\"password\", default='kp578',\n",
    "                    help=\"rtcloud website password\")\n",
    "argParser.add_argument('--test', default=False, action='store_true',\n",
    "                    help='Use unsecure non-encrypted connection')\n",
    "args = argParser.parse_args(\"\")\n",
    "\n",
    "if not re.match(r'.*:\\d+', args.server):\n",
    "    print(\"Error: Expecting server address in the form <servername:port>\")\n",
    "    argParser.print_help()\n",
    "    sys.exit()\n",
    "\n",
    "# Check if the ssl certificate is valid for this server address\n",
    "from rtCommon.projectUtils import login, certFile, checkSSLCertAltName, makeSSLCertFile\n",
    "addr, _ = args.server.split(':')\n",
    "if checkSSLCertAltName(certFile, addr) is False:\n",
    "    # Addr not listed in sslCert, recreate ssl Cert\n",
    "    makeSSLCertFile(addr)\n",
    "\n",
    "\n",
    "cfg = cfg_loading(args.config)\n",
    "sub = cfg.subjectName\n",
    "run = int(args.run)  # 1\n",
    "sess = int(args.sess)\n",
    "\n",
    "cfg.feedback_expScripts_dir = f\"{cfg.projectDir}expScripts/feedback/\"\n",
    "\n",
    "gui = True if screenmode == False else False\n",
    "scnWidth, scnHeight = monitors.Monitor(monitor_name).getSizePix()\n",
    "frameTolerance = 0.001  # how close to onset before 'same' frame\n",
    "TRduration=int(cfg.TR)\n",
    "\n",
    "# mywin = visual.Window(\n",
    "    # size=[1280, 800], fullscr=screenmode, screen=0,\n",
    "    # winType='pyglet', allowGUI=False, allowStencil=False,\n",
    "    # monitor=monitor_name, color=[0,0,0], colorSpace='rgb', #color=[0,0,0]\n",
    "    # blendMode='avg', useFBO=True,\n",
    "    # units='height')\n",
    "\n",
    "mywin = visual.Window(\n",
    "    size=[scnWidth - 100, scnHeight - 100], fullscr=screenmode, screen=1,\n",
    "    winType='pyglet', allowGUI=False, allowStencil=False,\n",
    "    monitor=monitor_name, color=[0,0,0], colorSpace='rgb', #color=[0,0,0]\n",
    "    blendMode='avg', useFBO=True,\n",
    "    units='height')\n",
    "\n",
    "# similation specific\n",
    "step=3 #in simulation, how quickly the morph changes ramp up. Note this is only for simulation, has nothing to do with real experiment\n",
    "\n",
    "# trial_list designing parameters\n",
    "parameterRange=np.arange(1,11) #for saving time for now. np.arange(1,20) #define the range for possible parameters for preloading images. Preloading images is to make the morphing smooth during feedback\n",
    "tune=4 # this parameter controls how much to morph (how strong the morphing is) (used in preloading function), tune can range from (1,6.15] when paremeterrange is np.arange(1,20)\n",
    "TrialNumber=180 # how many trials are required #test trial ,each trial is 14s, 10 trials are 140s.\n",
    "\n",
    "## - design the trial list: the sequence of the different types of components: \n",
    "## - e.g: ITI + waiting for fMRI signal + feedback (receive model output from feedbackReceiver.py)\n",
    "trial_list = pd.DataFrame(columns=['Trial','time','TR','state','newWobble'])\n",
    "curTime=0\n",
    "curTR=0\n",
    "state=''\n",
    "trial_list.append({'Trial':None,\n",
    "                    'time':None,\n",
    "                    'TR':None,\n",
    "                    'state':None,\n",
    "                    'newWobble':None},\n",
    "                    ignore_index=True)\n",
    "\n",
    "for currTrial in range(1,1+TrialNumber):\n",
    "\n",
    "    # ITI\n",
    "    for i in range(6): # should be 6TR=12s\n",
    "        trial_list=trial_list.append({'Trial':currTrial,\n",
    "                                    'time':curTime,\n",
    "                                    'TR':curTR,\n",
    "                                    'state':'ITI',\n",
    "                                    'newWobble':0},\n",
    "                                    ignore_index=True)\n",
    "        curTime=curTime+TRduration\n",
    "        curTR=curTR+1\n",
    "\n",
    "    # waiting for metric calculation\n",
    "    for i in range(3): # should be 3TR=6s\n",
    "        trial_list=trial_list.append({'Trial':currTrial,\n",
    "                                    'time':curTime,\n",
    "                                    'TR':curTR,\n",
    "                                    'state':'waiting',\n",
    "                                    'newWobble':0},\n",
    "                                    ignore_index=True)\n",
    "        curTime=curTime+TRduration\n",
    "        curTR=curTR+1\n",
    "    \n",
    "    # feedback trial: try minimize the whobbling\n",
    "    for i in range(5): #5TR=10s\n",
    "        trial_list=trial_list.append({'Trial':currTrial,\n",
    "                                    'time':curTime,\n",
    "                                    'TR':curTR,\n",
    "                                    'state':'feedback',\n",
    "                                    'newWobble':1},\n",
    "                                    ignore_index=True)\n",
    "        curTime=curTime+TRduration\n",
    "        curTR=curTR+1\n",
    "\n",
    "# ITI\n",
    "for i in range(6): # should be 6TR=12s\n",
    "    trial_list=trial_list.append({'Trial':currTrial,\n",
    "                                'time':curTime,\n",
    "                                'TR':curTR,\n",
    "                                'state':'ITI',\n",
    "                                'newWobble':0},\n",
    "                                ignore_index=True)\n",
    "    curTime=curTime+TRduration\n",
    "    curTR=curTR+1\n",
    "\n",
    "# for currTrial in range(1,1+TrialNumber):\n",
    "#     for i in range(1): # should be 6TR=12s\n",
    "#         trial_list=trial_list.append({'Trial':currTrial,\n",
    "#                                     'time':curTime,\n",
    "#                                     'TR':curTR,\n",
    "#                                     'state':'ITI',\n",
    "#                                     'newWobble':0},\n",
    "#                                     ignore_index=True)\n",
    "#         curTime=curTime+TR\n",
    "#         curTR=curTR+1\n",
    "#     for i in range(1): # should be 3TR=6s\n",
    "#         trial_list=trial_list.append({'Trial':currTrial,\n",
    "#                                     'time':curTime,\n",
    "#                                     'TR':curTR,\n",
    "#                                     'state':'waiting',\n",
    "#                                     'newWobble':0},\n",
    "#                                     ignore_index=True)\n",
    "#         curTime=curTime+TR\n",
    "#         curTR=curTR+1\n",
    "#     for i in range(5): #5TR=10s\n",
    "#         trial_list=trial_list.append({'Trial':currTrial,\n",
    "#                                     'time':curTime,\n",
    "#                                     'TR':curTR,\n",
    "#                                     'state':'feedback',\n",
    "#                                     'newWobble':1},\n",
    "#                                     ignore_index=True)\n",
    "#         curTime=curTime+TR\n",
    "#         curTR=curTR+1\n",
    "# for i in range(1): # should be 6TR=12s\n",
    "#     trial_list=trial_list.append({'Trial':currTrial,\n",
    "#                                 'time':curTime,\n",
    "#                                 'TR':curTR,\n",
    "#                                 'state':'ITI',\n",
    "#                                 'newWobble':0},\n",
    "#                                 ignore_index=True)\n",
    "#     curTime=curTime+TR\n",
    "#     curTR=curTR+1\n",
    "\n",
    "\n",
    "\n",
    "# parameters = np.arange(1,step*(sum((trial_list['newWobble']==1)*1)),step) #[1,2,3,4,5,6,7,8]\n",
    "\n",
    "print('total trial number=',TrialNumber)\n",
    "# print('neighboring morph difference=',tune)\n",
    "print('preloaded parameter range=',parameterRange)\n",
    "# print('used parameters=',parameters)\n",
    "\n",
    "\n",
    "\n",
    "def sample(L,num=10):\n",
    "    # This functional uniformly sample the list to be num points\n",
    "    # e.g, if L is 0-99, num is 10, newList would be [9, 19, 29, 39, 49, 59, 69, 79, 89, 99]\n",
    "    # e.g, if L is 0-95, num is 10, newList would be [8, 18, 27, 37, 47, 56, 66, 75, 85, 95]\n",
    "    # e.g, if L is 0-5, num is 10, newList would be [0, 0, 0, 1, 2, 2, 3, 3, 4, 5]\n",
    "    sampleStep=len(L)/num \n",
    "    newList=[]\n",
    "    for i in range(1,num):\n",
    "        newList.append(L[int(i*sampleStep-1)])\n",
    "    newList.append(L[-1])\n",
    "    return newList\n",
    "\n",
    "\n",
    "# preload image list for parameter from 1 to 19.\n",
    "def preloadimages(parameterRange=np.arange(1,20),tune=1):\n",
    "    '''\n",
    "    purpose:\n",
    "        preload images into image object sequences corrresponding too each parameter\n",
    "        each parameter corresponds to 40 image objects\n",
    "    steps:\n",
    "\n",
    "    '''\n",
    "    tune=tune-1\n",
    "    start = time.time()\n",
    "    imageLists={}\n",
    "    numberOfUpdates=16 # corresponds to 66 updates    \n",
    "    last_image=''\n",
    "    for currParameter in tqdm(parameterRange): #49\n",
    "        images=[]\n",
    "        print('maximum morph=',round((tune*currParameter*numberOfUpdates+2)/numberOfUpdates+1))\n",
    "        for axis in ['bedTable', 'benchBed']:\n",
    "            tmp_images=[]\n",
    "            for currImg in range(1,int(round(tune*currParameter*numberOfUpdates+2)),int((currParameter*numberOfUpdates+2)/numberOfUpdates)):\n",
    "                currMorph=100-round(currImg/numberOfUpdates+1) if axis=='benchBed' else round(currImg/numberOfUpdates+1)\n",
    "                if currMorph<1 or currMorph>99:\n",
    "                    raise Exception('morphing outside limit')\n",
    "                curr_image=cfg.feedback_expScripts_dir+'carchair_exp_feedback/{}_{}_{}.png'.format(axis,currMorph,5)\n",
    "                if curr_image!=last_image:\n",
    "                    currImage=visual.ImageStim(win=mywin,\n",
    "                                                name='image',\n",
    "                                                image=cfg.feedback_expScripts_dir+'carchair_exp_feedback/{}_{}_{}.png'.format(axis,currMorph,5), mask=None,\n",
    "                                                ori=0, pos=(0, 0), size=(0.5, 0.5),\n",
    "                                                color=[1,1,1], colorSpace='rgb', opacity=1,\n",
    "                                                flipHoriz=False, flipVert=False,\n",
    "                                                texRes=128, interpolate=True, depth=-4.0)\n",
    "                tmp_images.append(currImage)\n",
    "                last_image=cfg.feedback_expScripts_dir+'carchair_exp_feedback/{}_{}_{}.png'.format(axis,currMorph,5)\n",
    "            images=images+sample(tmp_images)\n",
    "            tmp_images=[]\n",
    "            for currImg in reversed(range(1,int(round(tune*currParameter*numberOfUpdates+1)),int((currParameter*numberOfUpdates+2)/numberOfUpdates))):\n",
    "                currMorph=100-round(currImg/numberOfUpdates+1) if axis=='benchBed' else round(currImg/numberOfUpdates+1)\n",
    "                curr_image=cfg.feedback_expScripts_dir+'carchair_exp_feedback/{}_{}_{}.png'.format(axis,currMorph,5)\n",
    "                if curr_image!=last_image:\n",
    "                    currImage=visual.ImageStim(win=mywin,\n",
    "                                                name='image',\n",
    "                                                image=cfg.feedback_expScripts_dir+'carchair_exp_feedback/{}_{}_{}.png'.format(axis,currMorph,5), mask=None,\n",
    "                                                ori=0, pos=(0, 0), size=(0.5, 0.5),\n",
    "                                                color=[1,1,1], colorSpace='rgb', opacity=1,\n",
    "                                                flipHoriz=False, flipVert=False,\n",
    "                                                texRes=128, interpolate=True, depth=-4.0)\n",
    "                tmp_images.append(currImage)\n",
    "                last_image=cfg.feedback_expScripts_dir+'carchair_exp_feedback/{}_{}_{}.png'.format(axis,currMorph,5)\n",
    "            images=images+sample(tmp_images)\n",
    "        imageLists.update( {currParameter : images} )\n",
    "    end = time.time()\n",
    "    print(\"preload image duration=\", end - start)\n",
    "    return imageLists\n",
    "\n",
    "imageLists=preloadimages(parameterRange=parameterRange,tune=tune)\n",
    "\n",
    "# Open data file for eye tracking\n",
    "# datadir = \"./data/feedback/\"\n",
    "datadir = main_dir + f\"subjects/{sub}/ses{sess}/feedback/\"\n",
    "\n",
    "maxTR=int(trial_list['TR'].iloc[-1])+6\n",
    "# Settings for MRI sequence\n",
    "MR_settings = {'TR': TRduration, 'volumes': maxTR, 'sync': 5, 'skip': 0, 'sound': True} #{'TR': 2.000, 'volumes': maxTR, 'sync': 5, 'skip': 0, 'sound': True}\n",
    "\n",
    "# check if there is a data directory and if there isn't, make one.\n",
    "if not os.path.exists('./data'):\n",
    "    os.mkdir('./data')\n",
    "if not os.path.exists('./data/feedback/'):\n",
    "    os.mkdir('./data/feedback/')\n",
    "\n",
    "# check if data for this subject and run already exist, and raise an error if they do (prevent overwriting)\n",
    "newfile = datadir+\"{}_{}.csv\".format(str(sub), str(run))\n",
    "if os.path.exists(newfile):\n",
    "    raise Exception(f'{newfile} exists')\n",
    "# create empty dataframe to accumulate data\n",
    "data = pd.DataFrame(columns=['Sub', 'Run', 'TR', 'time'])\n",
    "\n",
    "# Create the fixation dot, and initialize as white fill.\n",
    "fix = visual.Circle(mywin, units='deg', radius=0.05, pos=(0, 0), fillColor='white',\n",
    "                    lineColor='black', lineWidth=0.5, opacity=0.5, edges=128)\n",
    "\n",
    "# start global clock and fMRI pulses (start simulated or wait for real)\n",
    "print('Starting sub {} in run #{}'.format(sub, run))\n",
    "\n",
    "vol = launchScan(mywin, MR_settings, simResponses=None, mode=scanmode,\n",
    "                 esc_key='escape', instr='select Scan or Test, press enter',\n",
    "                 wait_msg='waiting for scanner...', wait_timeout=300, log=True)\n",
    "\n",
    "image = visual.ImageStim(\n",
    "    win=mywin,\n",
    "    name='image',\n",
    "    image=cfg.feedback_expScripts_dir + './carchair_exp_feedback/bedChair_1_5.png', mask=None,\n",
    "    ori=0, pos=(0, 0), size=(0.5, 0.5),\n",
    "    color=[1,1,1], colorSpace='rgb', opacity=1,\n",
    "    flipHoriz=False, flipVert=False,\n",
    "    texRes=128, interpolate=True, depth=-4.0)\n",
    "\n",
    "backgroundImage = visual.ImageStim(\n",
    "    win=mywin,\n",
    "    name='image',\n",
    "    image=cfg.feedback_expScripts_dir+'./carchair_exp_feedback/greyBackground.png', mask=None,\n",
    "    ori=0, pos=(0, 0), size=(0.5, 0.5),\n",
    "    color=[1,1,1], colorSpace='rgb', opacity=1,\n",
    "    flipHoriz=False, flipVert=False,\n",
    "    texRes=128, interpolate=True, depth=-4.0)\n",
    "\n",
    "# trialClock is reset in each trial to change image every TR (2s), time for each image is 2/numOfImages\n",
    "trialClock = core.Clock()\n",
    "\n",
    "# trialClock.add(10)  # initialize as a big enough number to avoid text being shown at the first time.\n",
    "TR=list(trial_list['TR'])\n",
    "states=list(trial_list['state'])\n",
    "newWobble=list(trial_list['newWobble'])\n",
    "\n",
    "# parameters=np.round(np.random.uniform(0,10,sum((trial_list['newWobble']==1)*1)))\n",
    "# parameters = np.arange(1,1+sum((trial_list['newWobble']==1)*1)) #[1,2,3,4,5,6,7,8]\n",
    "ParameterUpdateDuration=np.diff(np.where(trial_list['newWobble']==1))[0][0]*TRduration\n",
    "curr_parameter=0\n",
    "remainImageNumber=[]\n",
    "\n",
    "\n",
    "# feedbackParameterFileName=main_dir+f\"subjects/{sub}/ses{sess}_feedbackParameter/run_{run}.csv\"\n",
    "# # While the running clock is less than the total time, monitor for 5s, which is what the scanner sends for each TR\n",
    "# _=1\n",
    "# while not os.path.exists(feedbackParameterFileName):\n",
    "#     keys = event.getKeys([\"5\",\"0\"])\n",
    "#     if '0' in keys: # whenever you want to quite, type 0\n",
    "#         mywin.close()\n",
    "#         core.quit()\n",
    "#     time.sleep(0.01)\n",
    "#     if _ % 100==0:\n",
    "#         print(f'waiting {feedbackParameterFileName}')\n",
    "#     _+=1\n",
    "# parameters=pd.read_csv(feedbackParameterFileName)\n",
    "# while np.isnan(parameters['value'].iloc[-1]):\n",
    "#     keys = event.getKeys([\"5\",\"0\"])\n",
    "#     if '0' in keys: # whenever you want to quite, type 0\n",
    "#         mywin.close()\n",
    "#         core.quit()\n",
    "#     time.sleep(0.01)\n",
    "#     if _ % 100==0:\n",
    "#         print(f'waiting parameters nan')\n",
    "#     _+=1\n",
    "#     parameters=pd.read_csv(feedbackParameterFileName)\n",
    "\n",
    "# from rtCommon.feedbackReceiver import WsFeedbackReceiver\n",
    "# WsFeedbackReceiver.startReceiverThread(args.server,\n",
    "#                                     retryInterval=5,\n",
    "#                                     username=\"kp578\",\n",
    "#                                     password=\"kp578\",\n",
    "#                                     testMode=True)\n",
    "\n",
    "installLoggers(logging.INFO, logging.INFO, filename=f'{cfg.feedback_dir}SubjectService_{run}_{sess}.log')\n",
    "\n",
    "# parse connection args\n",
    "# These include: \"-s <server>\", \"-u <username>\", \"-p <password>\", \"--test\",\n",
    "#   \"-i <retry-connection-interval>\"\n",
    "# connectionArgs = parseConnectionArgs()\n",
    "\n",
    "subjectService = SubjectService(args)\n",
    "subjectService.runDetached()"
   ]
  },
  {
   "cell_type": "code",
   "execution_count": null,
   "metadata": {
    "scrolled": true
   },
   "outputs": [
    {
     "name": "stdout",
     "output_type": "stream",
     "text": [
      "ITI\n",
      "ITI\n"
     ]
    },
    {
     "name": "stderr",
     "output_type": "stream",
     "text": [
      "INFO:root:WsRemoteService Exception ConnectionError: Connection error: https://localhost:8888/login\n"
     ]
    },
    {
     "name": "stdout",
     "output_type": "stream",
     "text": [
      "sleep 5\n",
      "ITI\n"
     ]
    },
    {
     "name": "stderr",
     "output_type": "stream",
     "text": [
      "INFO:root:WsRemoteService Exception ConnectionError: Connection error: https://localhost:8888/login\n"
     ]
    },
    {
     "name": "stdout",
     "output_type": "stream",
     "text": [
      "sleep 5\n",
      "ITI\n",
      "ITI\n",
      "waiting\n",
      "waiting\n",
      "waiting\n",
      "feedback\n"
     ]
    },
    {
     "name": "stderr",
     "output_type": "stream",
     "text": [
      "INFO:root:WsRemoteService Exception ConnectionError: Connection error: https://localhost:8888/login\n"
     ]
    },
    {
     "name": "stdout",
     "output_type": "stream",
     "text": [
      "sleep 5\n"
     ]
    },
    {
     "name": "stderr",
     "output_type": "stream",
     "text": [
      "INFO:root:WsRemoteService Exception ConnectionError: Connection error: https://localhost:8888/login\n"
     ]
    },
    {
     "name": "stdout",
     "output_type": "stream",
     "text": [
      "sleep 5\n",
      "SubjectInterface: setResult: run 1, tr 1, value 19\n",
      "TR[0]=9,trID=1,parameter=19,timestamp=1612961177.030335,runId=1\n",
      "feedback\n",
      "SubjectInterface: setResult: run 1, tr 2, value 19\n",
      "TR[0]=10,trID=2,parameter=19,timestamp=1612961177.135626,runId=1\n",
      "SubjectInterface: setResult: run 1, tr 3, value 19\n",
      "SubjectInterface: setResult: run 1, tr 4, value 19\n",
      "SubjectInterface: setResult: run 1, tr 5, value 19\n",
      "SubjectInterface: setResult: run 1, tr 6, value 19\n",
      "SubjectInterface: setResult: run 1, tr 7, value 19\n",
      "SubjectInterface: setResult: run 1, tr 8, value 19\n",
      "SubjectInterface: setResult: run 1, tr 9, value 19\n",
      "SubjectInterface: setResult: run 1, tr 10, value 19\n",
      "SubjectInterface: setResult: run 1, tr 11, value 19\n",
      "SubjectInterface: setResult: run 1, tr 12, value 19\n",
      "SubjectInterface: setResult: run 1, tr 13, value 19\n",
      "feedback\n",
      "TR[0]=11,trID=3,parameter=19,timestamp=1612961177.252518,runId=1\n",
      "SubjectInterface: setResult: run 1, tr 14, value 19\n",
      "SubjectInterface: setResult: run 1, tr 15, value 19\n",
      "SubjectInterface: setResult: run 1, tr 16, value 19\n",
      "SubjectInterface: setResult: run 1, tr 17, value 19\n",
      "SubjectInterface: setResult: run 1, tr 18, value 19\n",
      "SubjectInterface: setResult: run 1, tr 19, value 19\n",
      "SubjectInterface: setResult: run 1, tr 20, value 19\n",
      "SubjectInterface: setResult: run 1, tr 21, value 19\n",
      "SubjectInterface: setResult: run 1, tr 22, value 19\n",
      "SubjectInterface: setResult: run 1, tr 23, value 19\n",
      "SubjectInterface: setResult: run 1, tr 24, value 19\n",
      "SubjectInterface: setResult: run 1, tr 25, value 19\n",
      "SubjectInterface: setResult: run 1, tr 26, value 19\n",
      "SubjectInterface: setResult: run 1, tr 27, value 19\n",
      "SubjectInterface: setResult: run 1, tr 28, value 19\n",
      "feedback\n",
      "TR[0]=12,trID=4,parameter=19,timestamp=1612961177.402678,runId=1\n",
      "SubjectInterface: setResult: run 1, tr 29, value 19\n",
      "SubjectInterface: setResult: run 1, tr 30, value 19\n",
      "SubjectInterface: setResult: run 1, tr 31, value 19\n",
      "SubjectInterface: setResult: run 1, tr 32, value 19\n",
      "SubjectInterface: setResult: run 1, tr 33, value 19\n",
      "SubjectInterface: setResult: run 1, tr 34, value 19\n",
      "SubjectInterface: setResult: run 1, tr 35, value 19\n",
      "SubjectInterface: setResult: run 1, tr 36, value 19\n",
      "SubjectInterface: setResult: run 1, tr 37, value 19\n",
      "SubjectInterface: setResult: run 1, tr 38, value 19\n",
      "SubjectInterface: setResult: run 1, tr 39, value 19\n",
      "SubjectInterface: setResult: run 1, tr 40, value 19\n",
      "SubjectInterface: setResult: run 1, tr 41, value 19\n",
      "SubjectInterface: setResult: run 1, tr 42, value 19\n",
      "SubjectInterface: setResult: run 1, tr 43, value 19\n",
      "SubjectInterface: setResult: run 1, tr 44, value 19\n",
      "feedback\n",
      "TR[0]=13,trID=5,parameter=19,timestamp=1612961177.562464,runId=1\n",
      "SubjectInterface: setResult: run 1, tr 45, value 19\n",
      "SubjectInterface: setResult: run 1, tr 46, value 19\n",
      "SubjectInterface: setResult: run 1, tr 47, value 19\n",
      "SubjectInterface: setResult: run 1, tr 48, value 19\n",
      "SubjectInterface: setResult: run 1, tr 49, value 19\n",
      "SubjectInterface: setResult: run 1, tr 50, value 19\n",
      "SubjectInterface: setResult: run 1, tr 51, value 19\n",
      "SubjectInterface: setResult: run 1, tr 52, value 19\n",
      "SubjectInterface: setResult: run 1, tr 53, value 19\n",
      "SubjectInterface: setResult: run 1, tr 54, value 19\n",
      "SubjectInterface: setResult: run 1, tr 55, value 19\n",
      "SubjectInterface: setResult: run 1, tr 56, value 19\n",
      "SubjectInterface: setResult: run 1, tr 57, value 19\n",
      "SubjectInterface: setResult: run 1, tr 58, value 19\n",
      "SubjectInterface: setResult: run 1, tr 59, value 19\n",
      "ITI\n",
      "SubjectInterface: setResult: run 1, tr 60, value 19\n",
      "SubjectInterface: setResult: run 1, tr 61, value 19\n",
      "SubjectInterface: setResult: run 1, tr 62, value 19\n",
      "SubjectInterface: setResult: run 1, tr 63, value 19\n",
      "SubjectInterface: setResult: run 1, tr 64, value 19\n",
      "SubjectInterface: setResult: run 1, tr 65, value 19\n",
      "SubjectInterface: setResult: run 1, tr 66, value 19\n",
      "SubjectInterface: setResult: run 1, tr 67, value 19\n",
      "SubjectInterface: setResult: run 1, tr 68, value 19\n",
      "SubjectInterface: setResult: run 1, tr 69, value 19\n",
      "SubjectInterface: setResult: run 1, tr 70, value 19\n",
      "SubjectInterface: setResult: run 1, tr 71, value 19\n",
      "SubjectInterface: setResult: run 1, tr 72, value 19\n",
      "SubjectInterface: setResult: run 1, tr 73, value 19\n",
      "SubjectInterface: setResult: run 1, tr 74, value 19\n",
      "ITI\n",
      "SubjectInterface: setResult: run 1, tr 75, value 19\n",
      "SubjectInterface: setResult: run 1, tr 76, value 19\n",
      "SubjectInterface: setResult: run 1, tr 77, value 19\n",
      "SubjectInterface: setResult: run 1, tr 78, value 19\n",
      "SubjectInterface: setResult: run 1, tr 79, value 19\n",
      "SubjectInterface: setResult: run 1, tr 80, value 19\n",
      "SubjectInterface: setResult: run 1, tr 81, value 19\n",
      "SubjectInterface: setResult: run 1, tr 82, value 19\n",
      "SubjectInterface: setResult: run 1, tr 83, value 19\n",
      "SubjectInterface: setResult: run 1, tr 84, value 19\n",
      "SubjectInterface: setResult: run 1, tr 85, value 19\n",
      "SubjectInterface: setResult: run 1, tr 86, value 19\n",
      "SubjectInterface: setResult: run 1, tr 87, value 19\n",
      "ITI\n",
      "SubjectInterface: setResult: run 1, tr 88, value 19\n",
      "SubjectInterface: setResult: run 1, tr 89, value 19\n",
      "SubjectInterface: setResult: run 1, tr 90, value 19\n",
      "SubjectInterface: setResult: run 1, tr 91, value 19\n",
      "SubjectInterface: setResult: run 1, tr 92, value 19\n",
      "SubjectInterface: setResult: run 1, tr 93, value 19\n",
      "SubjectInterface: setResult: run 1, tr 94, value 19\n",
      "SubjectInterface: setResult: run 1, tr 95, value 19\n",
      "SubjectInterface: setResult: run 1, tr 96, value 19\n",
      "SubjectInterface: setResult: run 1, tr 97, value 19\n"
     ]
    },
    {
     "name": "stderr",
     "output_type": "stream",
     "text": [
      "INFO:root:WsRemoteService Exception ConnectionError: Connection error: https://localhost:8888/login\n"
     ]
    },
    {
     "name": "stdout",
     "output_type": "stream",
     "text": [
      "SubjectInterface: setResult: run 1, tr 98, value 19\n",
      "sleep 5\n",
      "SubjectInterface: setResult: run 1, tr 99, value 19\n",
      "SubjectInterface: setResult: run 1, tr 100, value 19\n",
      "SubjectInterface: setResult: run 1, tr 101, value 19\n",
      "ITI\n",
      "SubjectInterface: setResult: run 1, tr 102, value 19\n",
      "SubjectInterface: setResult: run 1, tr 103, value 19\n",
      "SubjectInterface: setResult: run 1, tr 104, value 19\n",
      "SubjectInterface: setResult: run 1, tr 105, value 19\n",
      "SubjectInterface: setResult: run 1, tr 106, value 19\n",
      "SubjectInterface: setResult: run 1, tr 107, value 19\n",
      "SubjectInterface: setResult: run 1, tr 108, value 19\n",
      "SubjectInterface: setResult: run 1, tr 109, value 19\n"
     ]
    },
    {
     "name": "stderr",
     "output_type": "stream",
     "text": [
      "INFO:root:WsRemoteService Exception ConnectionError: Connection error: https://localhost:8888/login\n"
     ]
    },
    {
     "name": "stdout",
     "output_type": "stream",
     "text": [
      "sleep 5\n",
      "SubjectInterface: setResult: run 1, tr 110, value 19\n",
      "SubjectInterface: setResult: run 1, tr 111, value 19\n",
      "SubjectInterface: setResult: run 1, tr 112, value 19\n",
      "SubjectInterface: setResult: run 1, tr 113, value 19\n",
      "SubjectInterface: setResult: run 1, tr 114, value 19\n",
      "ITI\n",
      "SubjectInterface: setResult: run 1, tr 115, value 19\n",
      "SubjectInterface: setResult: run 1, tr 116, value 19\n",
      "SubjectInterface: setResult: run 1, tr 117, value 19\n",
      "SubjectInterface: setResult: run 1, tr 118, value 19\n",
      "SubjectInterface: setResult: run 1, tr 119, value 19\n",
      "SubjectInterface: setResult: run 1, tr 120, value 19\n",
      "SubjectInterface: setResult: run 1, tr 121, value 19\n",
      "SubjectInterface: setResult: run 1, tr 122, value 19\n",
      "SubjectInterface: setResult: run 1, tr 123, value 19\n",
      "SubjectInterface: setResult: run 1, tr 124, value 19\n",
      "SubjectInterface: setResult: run 1, tr 125, value 19\n",
      "SubjectInterface: setResult: run 1, tr 126, value 19\n",
      "SubjectInterface: setResult: run 1, tr 127, value 19\n",
      "ITI\n",
      "SubjectInterface: setResult: run 1, tr 128, value 19\n",
      "SubjectInterface: setResult: run 1, tr 129, value 19\n",
      "SubjectInterface: setResult: run 1, tr 130, value 19\n",
      "SubjectInterface: setResult: run 1, tr 131, value 19\n",
      "SubjectInterface: setResult: run 1, tr 132, value 19\n",
      "SubjectInterface: setResult: run 1, tr 133, value 19\n",
      "SubjectInterface: setResult: run 1, tr 134, value 19\n",
      "SubjectInterface: setResult: run 1, tr 135, value 19\n",
      "SubjectInterface: setResult: run 1, tr 136, value 19\n",
      "SubjectInterface: setResult: run 1, tr 137, value 19\n",
      "SubjectInterface: setResult: run 1, tr 138, value 19\n",
      "waiting\n",
      "SubjectInterface: setResult: run 1, tr 139, value 19\n",
      "SubjectInterface: setResult: run 1, tr 140, value 19\n",
      "SubjectInterface: setResult: run 1, tr 141, value 19\n",
      "SubjectInterface: setResult: run 1, tr 142, value 19\n",
      "SubjectInterface: setResult: run 1, tr 143, value 19\n",
      "SubjectInterface: setResult: run 1, tr 144, value 19\n",
      "SubjectInterface: setResult: run 1, tr 145, value 19\n",
      "SubjectInterface: setResult: run 1, tr 146, value 19\n",
      "SubjectInterface: setResult: run 1, tr 147, value 19\n",
      "SubjectInterface: setResult: run 1, tr 148, value 19\n",
      "SubjectInterface: setResult: run 1, tr 149, value 19\n",
      "SubjectInterface: setResult: run 1, tr 150, value 19\n",
      "waiting\n",
      "waiting\n",
      "feedback\n",
      "TR[0]=23,trID=6,parameter=19,timestamp=1612961177.6835032,runId=1\n",
      "feedback\n",
      "TR[0]=24,trID=7,parameter=19,timestamp=1612961177.824448,runId=1\n"
     ]
    },
    {
     "name": "stderr",
     "output_type": "stream",
     "text": [
      "INFO:root:WsRemoteService Exception ConnectionError: Connection error: https://localhost:8888/login\n"
     ]
    },
    {
     "name": "stdout",
     "output_type": "stream",
     "text": [
      "sleep 5\n"
     ]
    },
    {
     "name": "stderr",
     "output_type": "stream",
     "text": [
      "INFO:root:WsRemoteService Exception ConnectionError: Connection error: https://localhost:8888/login\n"
     ]
    },
    {
     "name": "stdout",
     "output_type": "stream",
     "text": [
      "feedback\n",
      "TR[0]=25,trID=8,parameter=19,timestamp=1612961177.9402099,runId=1\n",
      "sleep 5\n",
      "feedback\n",
      "TR[0]=26,trID=9,parameter=19,timestamp=1612961178.066292,runId=1\n",
      "feedback\n",
      "TR[0]=27,trID=10,parameter=19,timestamp=1612961178.2272031,runId=1\n",
      "ITI\n",
      "ITI\n",
      "ITI\n",
      "ITI\n"
     ]
    },
    {
     "name": "stderr",
     "output_type": "stream",
     "text": [
      "INFO:root:WsRemoteService Exception ConnectionError: Connection error: https://localhost:8888/login\n"
     ]
    },
    {
     "name": "stdout",
     "output_type": "stream",
     "text": [
      "sleep 5\n",
      "ITI\n"
     ]
    },
    {
     "name": "stderr",
     "output_type": "stream",
     "text": [
      "INFO:root:WsRemoteService Exception ConnectionError: Connection error: https://localhost:8888/login\n"
     ]
    },
    {
     "name": "stdout",
     "output_type": "stream",
     "text": [
      "sleep 5\n",
      "ITI\n",
      "waiting\n",
      "waiting\n",
      "waiting\n",
      "feedback\n",
      "TR[0]=37,trID=11,parameter=19,timestamp=1612961178.337832,runId=1\n",
      "feedback\n",
      "TR[0]=38,trID=12,parameter=19,timestamp=1612961178.449833,runId=1\n",
      "feedback\n",
      "TR[0]=39,trID=13,parameter=19,timestamp=1612961178.5678148,runId=1\n"
     ]
    },
    {
     "name": "stderr",
     "output_type": "stream",
     "text": [
      "INFO:root:WsRemoteService Exception ConnectionError: Connection error: https://localhost:8888/login\n"
     ]
    },
    {
     "name": "stdout",
     "output_type": "stream",
     "text": [
      "sleep 5\n"
     ]
    },
    {
     "name": "stderr",
     "output_type": "stream",
     "text": [
      "INFO:root:WsRemoteService Exception ConnectionError: Connection error: https://localhost:8888/login\n"
     ]
    },
    {
     "name": "stdout",
     "output_type": "stream",
     "text": [
      "feedback\n",
      "TR[0]=40,trID=14,parameter=19,timestamp=1612961178.674718,runId=1\n",
      "sleep 5\n",
      "feedback\n",
      "TR[0]=41,trID=15,parameter=19,timestamp=1612961178.827052,runId=1\n",
      "ITI\n",
      "ITI\n",
      "ITI\n",
      "ITI\n",
      "ITI\n"
     ]
    },
    {
     "name": "stderr",
     "output_type": "stream",
     "text": [
      "INFO:root:WsRemoteService Exception ConnectionError: Connection error: https://localhost:8888/login\n"
     ]
    },
    {
     "name": "stdout",
     "output_type": "stream",
     "text": [
      "sleep 5\n",
      "ITI\n"
     ]
    },
    {
     "name": "stderr",
     "output_type": "stream",
     "text": [
      "INFO:root:WsRemoteService Exception ConnectionError: Connection error: https://localhost:8888/login\n"
     ]
    },
    {
     "name": "stdout",
     "output_type": "stream",
     "text": [
      "sleep 5\n",
      "waiting\n",
      "waiting\n",
      "waiting\n",
      "feedback\n",
      "TR[0]=51,trID=16,parameter=19,timestamp=1612961178.948531,runId=1\n",
      "feedback\n",
      "TR[0]=52,trID=17,parameter=19,timestamp=1612961179.066525,runId=1\n",
      "feedback\n",
      "TR[0]=53,trID=18,parameter=19,timestamp=1612961179.2150521,runId=1\n",
      "feedback\n",
      "TR[0]=54,trID=19,parameter=19,timestamp=1612961179.327611,runId=1\n"
     ]
    },
    {
     "name": "stderr",
     "output_type": "stream",
     "text": [
      "INFO:root:WsRemoteService Exception ConnectionError: Connection error: https://localhost:8888/login\n"
     ]
    },
    {
     "name": "stdout",
     "output_type": "stream",
     "text": [
      "sleep 5\n",
      "feedback\n",
      "TR[0]=55,trID=20,parameter=19,timestamp=1612961179.448571,runId=1\n"
     ]
    },
    {
     "name": "stderr",
     "output_type": "stream",
     "text": [
      "INFO:root:WsRemoteService Exception ConnectionError: Connection error: https://localhost:8888/login\n"
     ]
    },
    {
     "name": "stdout",
     "output_type": "stream",
     "text": [
      "sleep 5\n",
      "ITI\n",
      "ITI\n",
      "ITI\n",
      "ITI\n",
      "ITI\n",
      "ITI\n"
     ]
    },
    {
     "name": "stderr",
     "output_type": "stream",
     "text": [
      "INFO:root:WsRemoteService Exception ConnectionError: Connection error: https://localhost:8888/login\n"
     ]
    },
    {
     "name": "stdout",
     "output_type": "stream",
     "text": [
      "sleep 5\n",
      "waiting\n"
     ]
    },
    {
     "name": "stderr",
     "output_type": "stream",
     "text": [
      "INFO:root:WsRemoteService Exception ConnectionError: Connection error: https://localhost:8888/login\n"
     ]
    },
    {
     "name": "stdout",
     "output_type": "stream",
     "text": [
      "sleep 5\n",
      "waiting\n",
      "waiting\n",
      "feedback\n",
      "TR[0]=65,trID=21,parameter=19,timestamp=1612961179.5679202,runId=1\n",
      "feedback\n",
      "TR[0]=66,trID=22,parameter=19,timestamp=1612961179.7109492,runId=1\n",
      "feedback\n",
      "TR[0]=67,trID=23,parameter=19,timestamp=1612961179.824799,runId=1\n",
      "feedback\n",
      "TR[0]=68,trID=24,parameter=19,timestamp=1612961179.9320478,runId=1\n",
      "feedback\n",
      "TR[0]=69,trID=25,parameter=19,timestamp=1612961180.056698,runId=1\n"
     ]
    },
    {
     "name": "stderr",
     "output_type": "stream",
     "text": [
      "INFO:root:WsRemoteService Exception ConnectionError: Connection error: https://localhost:8888/login\n"
     ]
    },
    {
     "name": "stdout",
     "output_type": "stream",
     "text": [
      "sleep 5\n",
      "ITI\n"
     ]
    },
    {
     "name": "stderr",
     "output_type": "stream",
     "text": [
      "INFO:root:WsRemoteService Exception ConnectionError: Connection error: https://localhost:8888/login\n"
     ]
    },
    {
     "name": "stdout",
     "output_type": "stream",
     "text": [
      "sleep 5\n",
      "ITI\n",
      "ITI\n",
      "ITI\n",
      "ITI\n",
      "ITI\n",
      "waiting\n"
     ]
    },
    {
     "name": "stderr",
     "output_type": "stream",
     "text": [
      "INFO:root:WsRemoteService Exception ConnectionError: Connection error: https://localhost:8888/login\n"
     ]
    },
    {
     "name": "stdout",
     "output_type": "stream",
     "text": [
      "sleep 5\n",
      "waiting\n"
     ]
    },
    {
     "name": "stderr",
     "output_type": "stream",
     "text": [
      "INFO:root:WsRemoteService Exception ConnectionError: Connection error: https://localhost:8888/login\n"
     ]
    },
    {
     "name": "stdout",
     "output_type": "stream",
     "text": [
      "sleep 5\n",
      "waiting\n",
      "feedback\n",
      "TR[0]=79,trID=26,parameter=19,timestamp=1612961180.216765,runId=1\n",
      "feedback\n",
      "TR[0]=80,trID=27,parameter=19,timestamp=1612961180.332391,runId=1\n",
      "feedback\n",
      "TR[0]=81,trID=28,parameter=19,timestamp=1612961180.459765,runId=1\n",
      "feedback\n",
      "TR[0]=82,trID=29,parameter=19,timestamp=1612961180.6133142,runId=1\n",
      "feedback\n",
      "TR[0]=83,trID=30,parameter=19,timestamp=1612961180.732872,runId=1\n",
      "ITI\n"
     ]
    },
    {
     "name": "stderr",
     "output_type": "stream",
     "text": [
      "INFO:root:WsRemoteService Exception ConnectionError: Connection error: https://localhost:8888/login\n"
     ]
    },
    {
     "name": "stdout",
     "output_type": "stream",
     "text": [
      "sleep 5\n",
      "ITI\n"
     ]
    },
    {
     "name": "stderr",
     "output_type": "stream",
     "text": [
      "INFO:root:WsRemoteService Exception ConnectionError: Connection error: https://localhost:8888/login\n"
     ]
    },
    {
     "name": "stdout",
     "output_type": "stream",
     "text": [
      "sleep 5\n",
      "ITI\n",
      "ITI\n",
      "ITI\n",
      "ITI\n",
      "waiting\n",
      "waiting\n"
     ]
    },
    {
     "name": "stderr",
     "output_type": "stream",
     "text": [
      "INFO:root:WsRemoteService Exception ConnectionError: Connection error: https://localhost:8888/login\n"
     ]
    },
    {
     "name": "stdout",
     "output_type": "stream",
     "text": [
      "sleep 5\n",
      "waiting\n"
     ]
    },
    {
     "name": "stderr",
     "output_type": "stream",
     "text": [
      "INFO:root:WsRemoteService Exception ConnectionError: Connection error: https://localhost:8888/login\n"
     ]
    },
    {
     "name": "stdout",
     "output_type": "stream",
     "text": [
      "sleep 5\n",
      "feedback\n",
      "TR[0]=93,trID=31,parameter=19,timestamp=1612961180.861116,runId=1\n",
      "feedback\n",
      "TR[0]=94,trID=32,parameter=19,timestamp=1612961181.016912,runId=1\n",
      "feedback\n",
      "TR[0]=95,trID=33,parameter=19,timestamp=1612961181.1418922,runId=1\n",
      "feedback\n",
      "TR[0]=96,trID=34,parameter=19,timestamp=1612961181.26113,runId=1\n",
      "feedback\n",
      "TR[0]=97,trID=35,parameter=19,timestamp=1612961181.413267,runId=1\n",
      "ITI\n",
      "ITI\n"
     ]
    },
    {
     "name": "stderr",
     "output_type": "stream",
     "text": [
      "INFO:root:WsRemoteService Exception ConnectionError: Connection error: https://localhost:8888/login\n"
     ]
    },
    {
     "name": "stdout",
     "output_type": "stream",
     "text": [
      "sleep 5\n",
      "ITI\n"
     ]
    },
    {
     "name": "stderr",
     "output_type": "stream",
     "text": [
      "INFO:root:WsRemoteService Exception ConnectionError: Connection error: https://localhost:8888/login\n"
     ]
    },
    {
     "name": "stdout",
     "output_type": "stream",
     "text": [
      "sleep 5\n",
      "ITI\n",
      "ITI\n",
      "ITI\n",
      "waiting\n",
      "waiting\n",
      "waiting\n"
     ]
    },
    {
     "name": "stderr",
     "output_type": "stream",
     "text": [
      "INFO:root:WsRemoteService Exception ConnectionError: Connection error: https://localhost:8888/login\n"
     ]
    },
    {
     "name": "stdout",
     "output_type": "stream",
     "text": [
      "sleep 5\n",
      "feedback\n",
      "TR[0]=107,trID=36,parameter=19,timestamp=1612961181.5340369,runId=1\n"
     ]
    },
    {
     "name": "stderr",
     "output_type": "stream",
     "text": [
      "INFO:root:WsRemoteService Exception ConnectionError: Connection error: https://localhost:8888/login\n"
     ]
    },
    {
     "name": "stdout",
     "output_type": "stream",
     "text": [
      "sleep 5\n",
      "feedback\n",
      "TR[0]=108,trID=37,parameter=19,timestamp=1612961181.653562,runId=1\n",
      "feedback\n",
      "TR[0]=109,trID=38,parameter=19,timestamp=1612961181.7813902,runId=1\n",
      "feedback\n",
      "TR[0]=110,trID=39,parameter=19,timestamp=1612961181.909771,runId=1\n",
      "feedback\n",
      "TR[0]=111,trID=40,parameter=19,timestamp=1612961182.040828,runId=1\n",
      "ITI\n",
      "ITI\n",
      "ITI\n"
     ]
    },
    {
     "name": "stderr",
     "output_type": "stream",
     "text": [
      "INFO:root:WsRemoteService Exception ConnectionError: Connection error: https://localhost:8888/login\n"
     ]
    },
    {
     "name": "stdout",
     "output_type": "stream",
     "text": [
      "sleep 5\n",
      "ITI\n"
     ]
    },
    {
     "name": "stderr",
     "output_type": "stream",
     "text": [
      "INFO:root:WsRemoteService Exception ConnectionError: Connection error: https://localhost:8888/login\n"
     ]
    },
    {
     "name": "stdout",
     "output_type": "stream",
     "text": [
      "sleep 5\n",
      "ITI\n",
      "ITI\n",
      "waiting\n",
      "waiting\n",
      "waiting\n",
      "feedback\n",
      "TR[0]=121,trID=41,parameter=19,timestamp=1612961182.156996,runId=1\n"
     ]
    },
    {
     "name": "stderr",
     "output_type": "stream",
     "text": [
      "INFO:root:WsRemoteService Exception ConnectionError: Connection error: https://localhost:8888/login\n"
     ]
    },
    {
     "name": "stdout",
     "output_type": "stream",
     "text": [
      "sleep 5\n",
      "feedback\n",
      "TR[0]=122,trID=42,parameter=19,timestamp=1612961182.266559,runId=1\n"
     ]
    },
    {
     "name": "stderr",
     "output_type": "stream",
     "text": [
      "INFO:root:WsRemoteService Exception ConnectionError: Connection error: https://localhost:8888/login\n"
     ]
    },
    {
     "name": "stdout",
     "output_type": "stream",
     "text": [
      "sleep 5\n",
      "feedback\n",
      "TR[0]=123,trID=43,parameter=19,timestamp=1612961182.4390101,runId=1\n",
      "feedback\n",
      "TR[0]=124,trID=44,parameter=19,timestamp=1612961182.561758,runId=1\n",
      "feedback\n",
      "TR[0]=125,trID=45,parameter=19,timestamp=1612961182.718115,runId=1\n",
      "ITI\n",
      "ITI\n",
      "ITI\n",
      "ITI\n"
     ]
    },
    {
     "name": "stderr",
     "output_type": "stream",
     "text": [
      "INFO:root:WsRemoteService Exception ConnectionError: Connection error: https://localhost:8888/login\n"
     ]
    },
    {
     "name": "stdout",
     "output_type": "stream",
     "text": [
      "sleep 5\n",
      "ITI\n"
     ]
    },
    {
     "name": "stderr",
     "output_type": "stream",
     "text": [
      "INFO:root:WsRemoteService Exception ConnectionError: Connection error: https://localhost:8888/login\n"
     ]
    },
    {
     "name": "stdout",
     "output_type": "stream",
     "text": [
      "sleep 5\n",
      "ITI\n",
      "waiting\n",
      "waiting\n",
      "waiting\n",
      "feedback\n",
      "TR[0]=135,trID=46,parameter=19,timestamp=1612961182.846051,runId=1\n",
      "feedback\n",
      "TR[0]=136,trID=47,parameter=19,timestamp=1612961182.9581451,runId=1\n"
     ]
    },
    {
     "name": "stderr",
     "output_type": "stream",
     "text": [
      "INFO:root:WsRemoteService Exception ConnectionError: Connection error: https://localhost:8888/login\n"
     ]
    },
    {
     "name": "stdout",
     "output_type": "stream",
     "text": [
      "feedback\n",
      "TR[0]=137,trID=48,parameter=19,timestamp=1612961183.1125991,runId=1\n",
      "sleep 5\n"
     ]
    },
    {
     "name": "stderr",
     "output_type": "stream",
     "text": [
      "INFO:root:WsRemoteService Exception ConnectionError: Connection error: https://localhost:8888/login\n"
     ]
    },
    {
     "name": "stdout",
     "output_type": "stream",
     "text": [
      "sleep 5\n",
      "feedback\n",
      "TR[0]=138,trID=49,parameter=19,timestamp=1612961183.23897,runId=1\n",
      "feedback\n",
      "TR[0]=139,trID=50,parameter=19,timestamp=1612961183.363741,runId=1\n",
      "ITI\n",
      "ITI\n",
      "ITI\n",
      "ITI\n",
      "ITI\n"
     ]
    },
    {
     "name": "stderr",
     "output_type": "stream",
     "text": [
      "INFO:root:WsRemoteService Exception ConnectionError: Connection error: https://localhost:8888/login\n"
     ]
    },
    {
     "name": "stdout",
     "output_type": "stream",
     "text": [
      "sleep 5\n",
      "ITI\n"
     ]
    },
    {
     "name": "stderr",
     "output_type": "stream",
     "text": [
      "INFO:root:WsRemoteService Exception ConnectionError: Connection error: https://localhost:8888/login\n"
     ]
    },
    {
     "name": "stdout",
     "output_type": "stream",
     "text": [
      "sleep 5\n",
      "waiting\n",
      "waiting\n",
      "waiting\n",
      "feedback\n",
      "TR[0]=149,trID=51,parameter=19,timestamp=1612961183.5145652,runId=1\n",
      "feedback\n",
      "TR[0]=150,trID=52,parameter=19,timestamp=1612961183.649985,runId=1\n",
      "feedback\n",
      "TR[0]=151,trID=53,parameter=19,timestamp=1612961183.769141,runId=1\n"
     ]
    },
    {
     "name": "stderr",
     "output_type": "stream",
     "text": [
      "INFO:root:WsRemoteService Exception ConnectionError: Connection error: https://localhost:8888/login\n"
     ]
    },
    {
     "name": "stdout",
     "output_type": "stream",
     "text": [
      "feedback\n",
      "TR[0]=152,trID=54,parameter=19,timestamp=1612961183.9201322,runId=1\n",
      "sleep 5\n"
     ]
    },
    {
     "name": "stderr",
     "output_type": "stream",
     "text": [
      "INFO:root:WsRemoteService Exception ConnectionError: Connection error: https://localhost:8888/login\n"
     ]
    },
    {
     "name": "stdout",
     "output_type": "stream",
     "text": [
      "sleep 5\n",
      "feedback\n",
      "TR[0]=153,trID=55,parameter=19,timestamp=1612961184.0482078,runId=1\n",
      "ITI\n",
      "ITI\n",
      "ITI\n",
      "ITI\n",
      "ITI\n",
      "ITI\n"
     ]
    },
    {
     "name": "stderr",
     "output_type": "stream",
     "text": [
      "INFO:root:WsRemoteService Exception ConnectionError: Connection error: https://localhost:8888/login\n"
     ]
    },
    {
     "name": "stdout",
     "output_type": "stream",
     "text": [
      "sleep 5\n",
      "waiting\n"
     ]
    },
    {
     "name": "stderr",
     "output_type": "stream",
     "text": [
      "INFO:root:WsRemoteService Exception ConnectionError: Connection error: https://localhost:8888/login\n"
     ]
    },
    {
     "name": "stdout",
     "output_type": "stream",
     "text": [
      "sleep 5\n",
      "waiting\n",
      "waiting\n",
      "feedback\n",
      "TR[0]=163,trID=56,parameter=19,timestamp=1612961184.167296,runId=1\n",
      "feedback\n",
      "TR[0]=164,trID=57,parameter=19,timestamp=1612961184.3228989,runId=1\n",
      "feedback\n",
      "TR[0]=165,trID=58,parameter=19,timestamp=1612961184.438813,runId=1\n",
      "feedback\n",
      "TR[0]=166,trID=59,parameter=19,timestamp=1612961184.558687,runId=1\n"
     ]
    },
    {
     "name": "stderr",
     "output_type": "stream",
     "text": [
      "INFO:root:WsRemoteService Exception ConnectionError: Connection error: https://localhost:8888/login\n"
     ]
    },
    {
     "name": "stdout",
     "output_type": "stream",
     "text": [
      "feedback\n",
      "TR[0]=167,trID=60,parameter=19,timestamp=1612961184.6835861,runId=1\n",
      "sleep 5\n"
     ]
    },
    {
     "name": "stderr",
     "output_type": "stream",
     "text": [
      "INFO:root:WsRemoteService Exception ConnectionError: Connection error: https://localhost:8888/login\n"
     ]
    },
    {
     "name": "stdout",
     "output_type": "stream",
     "text": [
      "sleep 5\n",
      "ITI\n",
      "ITI\n",
      "ITI\n",
      "ITI\n",
      "ITI\n",
      "ITI\n",
      "waiting\n"
     ]
    },
    {
     "name": "stderr",
     "output_type": "stream",
     "text": [
      "INFO:root:WsRemoteService Exception ConnectionError: Connection error: https://localhost:8888/login\n"
     ]
    },
    {
     "name": "stdout",
     "output_type": "stream",
     "text": [
      "sleep 5\n",
      "waiting\n"
     ]
    },
    {
     "name": "stderr",
     "output_type": "stream",
     "text": [
      "INFO:root:WsRemoteService Exception ConnectionError: Connection error: https://localhost:8888/login\n"
     ]
    },
    {
     "name": "stdout",
     "output_type": "stream",
     "text": [
      "sleep 5\n",
      "waiting\n",
      "feedback\n",
      "TR[0]=177,trID=61,parameter=19,timestamp=1612961184.821582,runId=1\n",
      "feedback\n",
      "TR[0]=178,trID=62,parameter=19,timestamp=1612961184.945436,runId=1\n",
      "feedback\n",
      "TR[0]=179,trID=63,parameter=19,timestamp=1612961185.0577059,runId=1\n",
      "feedback\n",
      "TR[0]=180,trID=64,parameter=19,timestamp=1612961185.220418,runId=1\n",
      "feedback\n",
      "TR[0]=181,trID=65,parameter=19,timestamp=1612961185.3449779,runId=1\n"
     ]
    },
    {
     "name": "stderr",
     "output_type": "stream",
     "text": [
      "INFO:root:WsRemoteService Exception ConnectionError: Connection error: https://localhost:8888/login\n"
     ]
    },
    {
     "name": "stdout",
     "output_type": "stream",
     "text": [
      "ITI\n",
      "sleep 5\n"
     ]
    },
    {
     "name": "stderr",
     "output_type": "stream",
     "text": [
      "INFO:root:WsRemoteService Exception ConnectionError: Connection error: https://localhost:8888/login\n"
     ]
    },
    {
     "name": "stdout",
     "output_type": "stream",
     "text": [
      "sleep 5\n",
      "ITI\n",
      "ITI\n",
      "ITI\n",
      "ITI\n",
      "ITI\n",
      "waiting\n",
      "waiting\n"
     ]
    },
    {
     "name": "stderr",
     "output_type": "stream",
     "text": [
      "INFO:root:WsRemoteService Exception ConnectionError: Connection error: https://localhost:8888/login\n"
     ]
    },
    {
     "name": "stdout",
     "output_type": "stream",
     "text": [
      "sleep 5\n",
      "waiting\n"
     ]
    },
    {
     "name": "stderr",
     "output_type": "stream",
     "text": [
      "INFO:root:WsRemoteService Exception ConnectionError: Connection error: https://localhost:8888/login\n"
     ]
    },
    {
     "name": "stdout",
     "output_type": "stream",
     "text": [
      "sleep 5\n",
      "feedback\n",
      "TR[0]=191,trID=66,parameter=19,timestamp=1612961185.459754,runId=1\n",
      "feedback\n",
      "TR[0]=192,trID=67,parameter=19,timestamp=1612961185.6118882,runId=1\n",
      "feedback\n",
      "TR[0]=193,trID=68,parameter=19,timestamp=1612961185.7338612,runId=1\n",
      "feedback\n",
      "TR[0]=194,trID=69,parameter=19,timestamp=1612961185.8606908,runId=1\n",
      "feedback\n",
      "TR[0]=195,trID=70,parameter=19,timestamp=1612961186.021328,runId=1\n",
      "ITI\n",
      "ITI\n"
     ]
    },
    {
     "name": "stderr",
     "output_type": "stream",
     "text": [
      "INFO:root:WsRemoteService Exception ConnectionError: Connection error: https://localhost:8888/login\n"
     ]
    },
    {
     "name": "stdout",
     "output_type": "stream",
     "text": [
      "sleep 5\n"
     ]
    },
    {
     "name": "stderr",
     "output_type": "stream",
     "text": [
      "INFO:root:WsRemoteService Exception ConnectionError: Connection error: https://localhost:8888/login\n"
     ]
    },
    {
     "name": "stdout",
     "output_type": "stream",
     "text": [
      "sleep 5\n",
      "ITI\n",
      "ITI\n",
      "ITI\n",
      "ITI\n",
      "waiting\n",
      "waiting\n",
      "waiting\n"
     ]
    },
    {
     "name": "stderr",
     "output_type": "stream",
     "text": [
      "INFO:root:WsRemoteService Exception ConnectionError: Connection error: https://localhost:8888/login\n"
     ]
    },
    {
     "name": "stdout",
     "output_type": "stream",
     "text": [
      "sleep 5\n",
      "feedback\n",
      "TR[0]=205,trID=71,parameter=19,timestamp=1612961186.1398559,runId=1\n"
     ]
    },
    {
     "name": "stderr",
     "output_type": "stream",
     "text": [
      "INFO:root:WsRemoteService Exception ConnectionError: Connection error: https://localhost:8888/login\n"
     ]
    },
    {
     "name": "stdout",
     "output_type": "stream",
     "text": [
      "sleep 5\n",
      "feedback\n",
      "TR[0]=206,trID=72,parameter=19,timestamp=1612961186.2757509,runId=1\n",
      "feedback\n",
      "TR[0]=207,trID=73,parameter=19,timestamp=1612961186.429826,runId=1\n",
      "feedback\n",
      "TR[0]=208,trID=74,parameter=19,timestamp=1612961186.555962,runId=1\n",
      "feedback\n",
      "TR[0]=209,trID=75,parameter=19,timestamp=1612961186.7141771,runId=1\n",
      "ITI\n",
      "ITI\n",
      "ITI\n"
     ]
    },
    {
     "name": "stderr",
     "output_type": "stream",
     "text": [
      "INFO:root:WsRemoteService Exception ConnectionError: Connection error: https://localhost:8888/login\n"
     ]
    },
    {
     "name": "stdout",
     "output_type": "stream",
     "text": [
      "sleep 5\n"
     ]
    },
    {
     "name": "stderr",
     "output_type": "stream",
     "text": [
      "INFO:root:WsRemoteService Exception ConnectionError: Connection error: https://localhost:8888/login\n"
     ]
    },
    {
     "name": "stdout",
     "output_type": "stream",
     "text": [
      "sleep 5\n",
      "ITI\n",
      "ITI\n",
      "ITI\n",
      "waiting\n",
      "waiting\n",
      "waiting\n",
      "feedback\n",
      "TR[0]=219,trID=76,parameter=19,timestamp=1612961186.842274,runId=1\n"
     ]
    },
    {
     "name": "stderr",
     "output_type": "stream",
     "text": [
      "INFO:root:WsRemoteService Exception ConnectionError: Connection error: https://localhost:8888/login\n"
     ]
    },
    {
     "name": "stdout",
     "output_type": "stream",
     "text": [
      "sleep 5\n",
      "feedback\n",
      "TR[0]=220,trID=77,parameter=19,timestamp=1612961186.980331,runId=1\n"
     ]
    },
    {
     "name": "stderr",
     "output_type": "stream",
     "text": [
      "INFO:root:WsRemoteService Exception ConnectionError: Connection error: https://localhost:8888/login\n"
     ]
    },
    {
     "name": "stdout",
     "output_type": "stream",
     "text": [
      "sleep 5\n",
      "feedback\n",
      "TR[0]=221,trID=78,parameter=19,timestamp=1612961187.1193159,runId=1\n",
      "feedback\n",
      "TR[0]=222,trID=79,parameter=19,timestamp=1612961187.2245498,runId=1\n",
      "feedback\n",
      "TR[0]=223,trID=80,parameter=19,timestamp=1612961187.3415759,runId=1\n",
      "ITI\n",
      "ITI\n",
      "ITI\n",
      "ITI\n"
     ]
    },
    {
     "name": "stderr",
     "output_type": "stream",
     "text": [
      "INFO:root:WsRemoteService Exception ConnectionError: Connection error: https://localhost:8888/login\n"
     ]
    },
    {
     "name": "stdout",
     "output_type": "stream",
     "text": [
      "sleep 5\n"
     ]
    },
    {
     "name": "stderr",
     "output_type": "stream",
     "text": [
      "INFO:root:WsRemoteService Exception ConnectionError: Connection error: https://localhost:8888/login\n"
     ]
    },
    {
     "name": "stdout",
     "output_type": "stream",
     "text": [
      "sleep 5\n",
      "ITI\n",
      "ITI\n",
      "waiting\n",
      "waiting\n",
      "waiting\n",
      "feedback\n",
      "TR[0]=233,trID=81,parameter=19,timestamp=1612961187.484072,runId=1\n",
      "feedback\n",
      "TR[0]=234,trID=82,parameter=19,timestamp=1612961187.717224,runId=1\n"
     ]
    },
    {
     "name": "stderr",
     "output_type": "stream",
     "text": [
      "INFO:root:WsRemoteService Exception ConnectionError: Connection error: https://localhost:8888/login\n"
     ]
    },
    {
     "name": "stdout",
     "output_type": "stream",
     "text": [
      "sleep 5\n",
      "feedback\n",
      "TR[0]=235,trID=83,parameter=19,timestamp=1612961187.882869,runId=1\n"
     ]
    },
    {
     "name": "stderr",
     "output_type": "stream",
     "text": [
      "INFO:root:WsRemoteService Exception ConnectionError: Connection error: https://localhost:8888/login\n"
     ]
    },
    {
     "name": "stdout",
     "output_type": "stream",
     "text": [
      "sleep 5\n",
      "feedback\n",
      "TR[0]=236,trID=84,parameter=19,timestamp=1612961188.031553,runId=1\n",
      "feedback\n",
      "TR[0]=237,trID=85,parameter=19,timestamp=1612961188.148,runId=1\n",
      "ITI\n",
      "ITI\n",
      "ITI\n",
      "ITI\n",
      "ITI\n"
     ]
    },
    {
     "name": "stderr",
     "output_type": "stream",
     "text": [
      "INFO:root:WsRemoteService Exception ConnectionError: Connection error: https://localhost:8888/login\n"
     ]
    },
    {
     "name": "stdout",
     "output_type": "stream",
     "text": [
      "sleep 5\n"
     ]
    },
    {
     "name": "stderr",
     "output_type": "stream",
     "text": [
      "INFO:root:WsRemoteService Exception ConnectionError: Connection error: https://localhost:8888/login\n"
     ]
    },
    {
     "name": "stdout",
     "output_type": "stream",
     "text": [
      "sleep 5\n",
      "ITI\n",
      "waiting\n",
      "waiting\n",
      "waiting\n",
      "feedback\n",
      "TR[0]=247,trID=86,parameter=19,timestamp=1612961188.314259,runId=1\n",
      "feedback\n",
      "TR[0]=248,trID=87,parameter=19,timestamp=1612961188.4600792,runId=1\n",
      "feedback\n",
      "TR[0]=249,trID=88,parameter=19,timestamp=1612961188.614393,runId=1\n"
     ]
    },
    {
     "name": "stderr",
     "output_type": "stream",
     "text": [
      "INFO:root:WsRemoteService Exception ConnectionError: Connection error: https://localhost:8888/login\n"
     ]
    },
    {
     "name": "stdout",
     "output_type": "stream",
     "text": [
      "sleep 5\n",
      "feedback\n",
      "TR[0]=250,trID=89,parameter=19,timestamp=1612961188.7439811,runId=1\n"
     ]
    },
    {
     "name": "stderr",
     "output_type": "stream",
     "text": [
      "INFO:root:WsRemoteService Exception ConnectionError: Connection error: https://localhost:8888/login\n"
     ]
    },
    {
     "name": "stdout",
     "output_type": "stream",
     "text": [
      "sleep 5\n",
      "feedback\n",
      "TR[0]=251,trID=90,parameter=19,timestamp=1612961188.87986,runId=1\n",
      "ITI\n",
      "ITI\n",
      "ITI\n",
      "ITI\n",
      "ITI\n",
      "ITI\n"
     ]
    },
    {
     "name": "stderr",
     "output_type": "stream",
     "text": [
      "INFO:root:WsRemoteService Exception ConnectionError: Connection error: https://localhost:8888/login\n"
     ]
    },
    {
     "name": "stdout",
     "output_type": "stream",
     "text": [
      "sleep 5\n"
     ]
    },
    {
     "name": "stderr",
     "output_type": "stream",
     "text": [
      "INFO:root:WsRemoteService Exception ConnectionError: Connection error: https://localhost:8888/login\n"
     ]
    },
    {
     "name": "stdout",
     "output_type": "stream",
     "text": [
      "sleep 5\n",
      "waiting\n",
      "waiting\n",
      "waiting\n",
      "feedback\n",
      "TR[0]=261,trID=91,parameter=19,timestamp=1612961189.041356,runId=1\n",
      "feedback\n",
      "TR[0]=262,trID=92,parameter=19,timestamp=1612961189.1782541,runId=1\n",
      "feedback\n",
      "TR[0]=263,trID=93,parameter=19,timestamp=1612961189.3271701,runId=1\n",
      "feedback\n",
      "TR[0]=264,trID=94,parameter=19,timestamp=1612961189.4425752,runId=1\n"
     ]
    },
    {
     "name": "stderr",
     "output_type": "stream",
     "text": [
      "INFO:root:WsRemoteService Exception ConnectionError: Connection error: https://localhost:8888/login\n"
     ]
    },
    {
     "name": "stdout",
     "output_type": "stream",
     "text": [
      "sleep 5\n",
      "feedback\n",
      "TR[0]=265,trID=95,parameter=19,timestamp=1612961189.561449,runId=1\n"
     ]
    },
    {
     "name": "stderr",
     "output_type": "stream",
     "text": [
      "INFO:root:WsRemoteService Exception ConnectionError: Connection error: https://localhost:8888/login\n"
     ]
    },
    {
     "name": "stdout",
     "output_type": "stream",
     "text": [
      "sleep 5\n",
      "ITI\n",
      "ITI\n",
      "ITI\n",
      "ITI\n",
      "ITI\n",
      "ITI\n",
      "waiting\n"
     ]
    },
    {
     "name": "stderr",
     "output_type": "stream",
     "text": [
      "INFO:root:WsRemoteService Exception ConnectionError: Connection error: https://localhost:8888/login\n"
     ]
    },
    {
     "name": "stdout",
     "output_type": "stream",
     "text": [
      "sleep 5\n"
     ]
    },
    {
     "name": "stderr",
     "output_type": "stream",
     "text": [
      "INFO:root:WsRemoteService Exception ConnectionError: Connection error: https://localhost:8888/login\n"
     ]
    },
    {
     "name": "stdout",
     "output_type": "stream",
     "text": [
      "sleep 5\n",
      "waiting\n",
      "waiting\n",
      "feedback\n",
      "TR[0]=275,trID=96,parameter=19,timestamp=1612961189.688084,runId=1\n",
      "feedback\n",
      "TR[0]=276,trID=97,parameter=19,timestamp=1612961189.888163,runId=1\n",
      "feedback\n",
      "TR[0]=277,trID=98,parameter=19,timestamp=1612961190.073062,runId=1\n",
      "feedback\n",
      "TR[0]=278,trID=99,parameter=19,timestamp=1612961190.235234,runId=1\n",
      "feedback\n",
      "TR[0]=279,trID=100,parameter=19,timestamp=1612961190.3520389,runId=1\n"
     ]
    },
    {
     "name": "stderr",
     "output_type": "stream",
     "text": [
      "INFO:root:WsRemoteService Exception ConnectionError: Connection error: https://localhost:8888/login\n"
     ]
    },
    {
     "name": "stdout",
     "output_type": "stream",
     "text": [
      "sleep 5\n",
      "ITI\n"
     ]
    },
    {
     "name": "stderr",
     "output_type": "stream",
     "text": [
      "INFO:root:WsRemoteService Exception ConnectionError: Connection error: https://localhost:8888/login\n"
     ]
    },
    {
     "name": "stdout",
     "output_type": "stream",
     "text": [
      "sleep 5\n",
      "ITI\n",
      "ITI\n",
      "ITI\n",
      "ITI\n",
      "ITI\n",
      "waiting\n",
      "waiting\n"
     ]
    },
    {
     "name": "stderr",
     "output_type": "stream",
     "text": [
      "INFO:root:WsRemoteService Exception ConnectionError: Connection error: https://localhost:8888/login\n"
     ]
    },
    {
     "name": "stdout",
     "output_type": "stream",
     "text": [
      "sleep 5\n"
     ]
    },
    {
     "name": "stderr",
     "output_type": "stream",
     "text": [
      "INFO:root:WsRemoteService Exception ConnectionError: Connection error: https://localhost:8888/login\n"
     ]
    },
    {
     "name": "stdout",
     "output_type": "stream",
     "text": [
      "sleep 5\n",
      "waiting\n",
      "feedback\n",
      "TR[0]=289,trID=101,parameter=19,timestamp=1612961190.470149,runId=1\n",
      "feedback\n",
      "TR[0]=290,trID=102,parameter=19,timestamp=1612961190.5736141,runId=1\n",
      "feedback\n",
      "TR[0]=291,trID=103,parameter=19,timestamp=1612961190.696393,runId=1\n",
      "feedback\n",
      "TR[0]=292,trID=104,parameter=19,timestamp=1612961190.821155,runId=1\n",
      "feedback\n",
      "TR[0]=293,trID=105,parameter=19,timestamp=1612961190.940612,runId=1\n",
      "ITI\n"
     ]
    },
    {
     "name": "stderr",
     "output_type": "stream",
     "text": [
      "INFO:root:WsRemoteService Exception ConnectionError: Connection error: https://localhost:8888/login\n"
     ]
    },
    {
     "name": "stdout",
     "output_type": "stream",
     "text": [
      "sleep 5\n",
      "ITI\n"
     ]
    },
    {
     "name": "stderr",
     "output_type": "stream",
     "text": [
      "INFO:root:WsRemoteService Exception ConnectionError: Connection error: https://localhost:8888/login\n"
     ]
    },
    {
     "name": "stdout",
     "output_type": "stream",
     "text": [
      "sleep 5\n",
      "ITI\n",
      "ITI\n",
      "ITI\n",
      "ITI\n",
      "waiting\n",
      "waiting\n",
      "waiting\n"
     ]
    },
    {
     "name": "stderr",
     "output_type": "stream",
     "text": [
      "INFO:root:WsRemoteService Exception ConnectionError: Connection error: https://localhost:8888/login\n"
     ]
    },
    {
     "name": "stdout",
     "output_type": "stream",
     "text": [
      "sleep 5\n"
     ]
    },
    {
     "name": "stderr",
     "output_type": "stream",
     "text": [
      "INFO:root:WsRemoteService Exception ConnectionError: Connection error: https://localhost:8888/login\n"
     ]
    },
    {
     "name": "stdout",
     "output_type": "stream",
     "text": [
      "feedback\n",
      "TR[0]=303,trID=106,parameter=19,timestamp=1612961191.050375,runId=1\n",
      "sleep 5\n",
      "feedback\n",
      "TR[0]=304,trID=107,parameter=19,timestamp=1612961191.21347,runId=1\n",
      "feedback\n",
      "TR[0]=305,trID=108,parameter=19,timestamp=1612961191.361965,runId=1\n",
      "feedback\n",
      "TR[0]=306,trID=109,parameter=19,timestamp=1612961191.5304189,runId=1\n",
      "feedback\n",
      "TR[0]=307,trID=110,parameter=19,timestamp=1612961191.668295,runId=1\n",
      "ITI\n",
      "ITI\n"
     ]
    },
    {
     "name": "stderr",
     "output_type": "stream",
     "text": [
      "INFO:root:WsRemoteService Exception ConnectionError: Connection error: https://localhost:8888/login\n"
     ]
    },
    {
     "name": "stdout",
     "output_type": "stream",
     "text": [
      "sleep 5\n",
      "ITI\n"
     ]
    },
    {
     "name": "stderr",
     "output_type": "stream",
     "text": [
      "INFO:root:WsRemoteService Exception ConnectionError: Connection error: https://localhost:8888/login\n"
     ]
    },
    {
     "name": "stdout",
     "output_type": "stream",
     "text": [
      "sleep 5\n",
      "ITI\n",
      "ITI\n",
      "ITI\n",
      "waiting\n",
      "waiting\n",
      "waiting\n",
      "feedback\n",
      "TR[0]=317,trID=111,parameter=19,timestamp=1612961191.878933,runId=1\n"
     ]
    },
    {
     "name": "stderr",
     "output_type": "stream",
     "text": [
      "INFO:root:WsRemoteService Exception ConnectionError: Connection error: https://localhost:8888/login\n"
     ]
    },
    {
     "name": "stdout",
     "output_type": "stream",
     "text": [
      "sleep 5\n"
     ]
    },
    {
     "name": "stderr",
     "output_type": "stream",
     "text": [
      "INFO:root:WsRemoteService Exception ConnectionError: Connection error: https://localhost:8888/login\n"
     ]
    },
    {
     "name": "stdout",
     "output_type": "stream",
     "text": [
      "feedback\n",
      "TR[0]=318,trID=112,parameter=19,timestamp=1612961192.095377,runId=1\n",
      "sleep 5\n",
      "feedback\n",
      "TR[0]=319,trID=113,parameter=19,timestamp=1612961192.2616808,runId=1\n",
      "feedback\n",
      "TR[0]=320,trID=114,parameter=19,timestamp=1612961192.4337,runId=1\n",
      "feedback\n",
      "TR[0]=321,trID=115,parameter=19,timestamp=1612961192.5640378,runId=1\n",
      "ITI\n",
      "ITI\n",
      "ITI\n"
     ]
    },
    {
     "name": "stderr",
     "output_type": "stream",
     "text": [
      "INFO:root:WsRemoteService Exception ConnectionError: Connection error: https://localhost:8888/login\n"
     ]
    },
    {
     "name": "stdout",
     "output_type": "stream",
     "text": [
      "sleep 5\n",
      "ITI\n"
     ]
    },
    {
     "name": "stderr",
     "output_type": "stream",
     "text": [
      "INFO:root:WsRemoteService Exception ConnectionError: Connection error: https://localhost:8888/login\n"
     ]
    },
    {
     "name": "stdout",
     "output_type": "stream",
     "text": [
      "sleep 5\n",
      "ITI\n",
      "ITI\n",
      "waiting\n",
      "waiting\n",
      "waiting\n",
      "feedback\n",
      "TR[0]=331,trID=116,parameter=19,timestamp=1612961192.732644,runId=1\n",
      "feedback\n",
      "TR[0]=332,trID=117,parameter=19,timestamp=1612961192.850728,runId=1\n"
     ]
    },
    {
     "name": "stderr",
     "output_type": "stream",
     "text": [
      "INFO:root:WsRemoteService Exception ConnectionError: Connection error: https://localhost:8888/login\n"
     ]
    },
    {
     "name": "stdout",
     "output_type": "stream",
     "text": [
      "sleep 5\n"
     ]
    },
    {
     "name": "stderr",
     "output_type": "stream",
     "text": [
      "INFO:root:WsRemoteService Exception ConnectionError: Connection error: https://localhost:8888/login\n"
     ]
    },
    {
     "name": "stdout",
     "output_type": "stream",
     "text": [
      "feedback\n",
      "TR[0]=333,trID=118,parameter=19,timestamp=1612961193.0442429,runId=1\n",
      "sleep 5\n",
      "feedback\n",
      "TR[0]=334,trID=119,parameter=19,timestamp=1612961193.235761,runId=1\n",
      "feedback\n",
      "TR[0]=335,trID=120,parameter=19,timestamp=1612961193.36994,runId=1\n",
      "ITI\n",
      "ITI\n",
      "ITI\n",
      "ITI\n"
     ]
    },
    {
     "name": "stderr",
     "output_type": "stream",
     "text": [
      "INFO:root:WsRemoteService Exception ConnectionError: Connection error: https://localhost:8888/login\n"
     ]
    },
    {
     "name": "stdout",
     "output_type": "stream",
     "text": [
      "sleep 5\n",
      "ITI\n"
     ]
    },
    {
     "name": "stderr",
     "output_type": "stream",
     "text": [
      "INFO:root:WsRemoteService Exception ConnectionError: Connection error: https://localhost:8888/login\n"
     ]
    },
    {
     "name": "stdout",
     "output_type": "stream",
     "text": [
      "sleep 5\n",
      "ITI\n",
      "waiting\n",
      "waiting\n",
      "waiting\n",
      "feedback\n",
      "TR[0]=345,trID=121,parameter=19,timestamp=1612961193.528982,runId=1\n",
      "feedback\n",
      "TR[0]=346,trID=122,parameter=19,timestamp=1612961193.670397,runId=1\n",
      "feedback\n",
      "TR[0]=347,trID=123,parameter=19,timestamp=1612961193.851976,runId=1\n"
     ]
    },
    {
     "name": "stderr",
     "output_type": "stream",
     "text": [
      "INFO:root:WsRemoteService Exception ConnectionError: Connection error: https://localhost:8888/login\n"
     ]
    },
    {
     "name": "stdout",
     "output_type": "stream",
     "text": [
      "sleep 5\n"
     ]
    },
    {
     "name": "stderr",
     "output_type": "stream",
     "text": [
      "INFO:root:WsRemoteService Exception ConnectionError: Connection error: https://localhost:8888/login\n"
     ]
    },
    {
     "name": "stdout",
     "output_type": "stream",
     "text": [
      "feedback\n",
      "TR[0]=348,trID=124,parameter=19,timestamp=1612961193.983636,runId=1\n",
      "sleep 5\n",
      "feedback\n",
      "TR[0]=349,trID=125,parameter=19,timestamp=1612961194.144363,runId=1\n",
      "ITI\n",
      "ITI\n",
      "ITI\n",
      "ITI\n",
      "ITI\n"
     ]
    },
    {
     "name": "stderr",
     "output_type": "stream",
     "text": [
      "INFO:root:WsRemoteService Exception ConnectionError: Connection error: https://localhost:8888/login\n"
     ]
    },
    {
     "name": "stdout",
     "output_type": "stream",
     "text": [
      "sleep 5\n",
      "ITI\n"
     ]
    },
    {
     "name": "stderr",
     "output_type": "stream",
     "text": [
      "INFO:root:WsRemoteService Exception ConnectionError: Connection error: https://localhost:8888/login\n"
     ]
    },
    {
     "name": "stdout",
     "output_type": "stream",
     "text": [
      "sleep 5\n",
      "waiting\n",
      "waiting\n",
      "waiting\n",
      "feedback\n",
      "TR[0]=359,trID=126,parameter=19,timestamp=1612961194.2685702,runId=1\n",
      "feedback\n",
      "TR[0]=360,trID=127,parameter=19,timestamp=1612961194.431347,runId=1\n",
      "feedback\n",
      "TR[0]=361,trID=128,parameter=19,timestamp=1612961194.575967,runId=1\n",
      "feedback\n",
      "TR[0]=362,trID=129,parameter=19,timestamp=1612961194.776475,runId=1\n"
     ]
    },
    {
     "name": "stderr",
     "output_type": "stream",
     "text": [
      "INFO:root:WsRemoteService Exception ConnectionError: Connection error: https://localhost:8888/login\n"
     ]
    },
    {
     "name": "stdout",
     "output_type": "stream",
     "text": [
      "sleep 5\n",
      "feedback\n",
      "TR[0]=363,trID=130,parameter=19,timestamp=1612961194.980316,runId=1\n"
     ]
    },
    {
     "name": "stderr",
     "output_type": "stream",
     "text": [
      "INFO:root:WsRemoteService Exception ConnectionError: Connection error: https://localhost:8888/login\n"
     ]
    },
    {
     "name": "stdout",
     "output_type": "stream",
     "text": [
      "sleep 5\n",
      "ITI\n",
      "ITI\n",
      "ITI\n",
      "ITI\n",
      "ITI\n",
      "ITI\n"
     ]
    },
    {
     "name": "stderr",
     "output_type": "stream",
     "text": [
      "INFO:root:WsRemoteService Exception ConnectionError: Connection error: https://localhost:8888/login\n"
     ]
    },
    {
     "name": "stdout",
     "output_type": "stream",
     "text": [
      "sleep 5\n",
      "waiting\n"
     ]
    },
    {
     "name": "stderr",
     "output_type": "stream",
     "text": [
      "INFO:root:WsRemoteService Exception ConnectionError: Connection error: https://localhost:8888/login\n"
     ]
    },
    {
     "name": "stdout",
     "output_type": "stream",
     "text": [
      "sleep 5\n",
      "waiting\n",
      "waiting\n",
      "feedback\n",
      "TR[0]=373,trID=131,parameter=19,timestamp=1612961195.1727831,runId=1\n",
      "feedback\n",
      "TR[0]=374,trID=132,parameter=19,timestamp=1612961195.460587,runId=1\n",
      "feedback\n",
      "TR[0]=375,trID=133,parameter=19,timestamp=1612961195.6404638,runId=1\n",
      "feedback\n",
      "TR[0]=376,trID=134,parameter=19,timestamp=1612961195.770391,runId=1\n",
      "feedback\n",
      "TR[0]=377,trID=135,parameter=19,timestamp=1612961195.936558,runId=1\n"
     ]
    },
    {
     "name": "stderr",
     "output_type": "stream",
     "text": [
      "INFO:root:WsRemoteService Exception ConnectionError: Connection error: https://localhost:8888/login\n"
     ]
    },
    {
     "name": "stdout",
     "output_type": "stream",
     "text": [
      "sleep 5\n",
      "ITI\n"
     ]
    },
    {
     "name": "stderr",
     "output_type": "stream",
     "text": [
      "INFO:root:WsRemoteService Exception ConnectionError: Connection error: https://localhost:8888/login\n"
     ]
    },
    {
     "name": "stdout",
     "output_type": "stream",
     "text": [
      "sleep 5\n",
      "ITI\n",
      "ITI\n",
      "ITI\n",
      "ITI\n",
      "ITI\n",
      "waiting\n"
     ]
    },
    {
     "name": "stderr",
     "output_type": "stream",
     "text": [
      "INFO:root:WsRemoteService Exception ConnectionError: Connection error: https://localhost:8888/login\n"
     ]
    },
    {
     "name": "stdout",
     "output_type": "stream",
     "text": [
      "sleep 5\n",
      "waiting\n"
     ]
    },
    {
     "name": "stderr",
     "output_type": "stream",
     "text": [
      "INFO:root:WsRemoteService Exception ConnectionError: Connection error: https://localhost:8888/login\n"
     ]
    },
    {
     "name": "stdout",
     "output_type": "stream",
     "text": [
      "sleep 5\n",
      "waiting\n",
      "feedback\n",
      "TR[0]=387,trID=136,parameter=19,timestamp=1612961196.186945,runId=1\n",
      "feedback\n",
      "TR[0]=388,trID=137,parameter=19,timestamp=1612961196.356211,runId=1\n",
      "feedback\n",
      "TR[0]=389,trID=138,parameter=19,timestamp=1612961196.526282,runId=1\n",
      "feedback\n",
      "TR[0]=390,trID=139,parameter=19,timestamp=1612961196.6618712,runId=1\n",
      "feedback\n",
      "TR[0]=391,trID=140,parameter=19,timestamp=1612961196.9418712,runId=1\n",
      "ITI\n"
     ]
    },
    {
     "name": "stderr",
     "output_type": "stream",
     "text": [
      "INFO:root:WsRemoteService Exception ConnectionError: Connection error: https://localhost:8888/login\n"
     ]
    },
    {
     "name": "stdout",
     "output_type": "stream",
     "text": [
      "sleep 5\n",
      "ITI\n"
     ]
    },
    {
     "name": "stderr",
     "output_type": "stream",
     "text": [
      "INFO:root:WsRemoteService Exception ConnectionError: Connection error: https://localhost:8888/login\n"
     ]
    },
    {
     "name": "stdout",
     "output_type": "stream",
     "text": [
      "sleep 5\n",
      "ITI\n",
      "ITI\n",
      "ITI\n",
      "ITI\n",
      "waiting\n",
      "waiting\n"
     ]
    },
    {
     "name": "stderr",
     "output_type": "stream",
     "text": [
      "INFO:root:WsRemoteService Exception ConnectionError: Connection error: https://localhost:8888/login\n"
     ]
    },
    {
     "name": "stdout",
     "output_type": "stream",
     "text": [
      "sleep 5\n",
      "waiting\n"
     ]
    },
    {
     "name": "stderr",
     "output_type": "stream",
     "text": [
      "INFO:root:WsRemoteService Exception ConnectionError: Connection error: https://localhost:8888/login\n"
     ]
    },
    {
     "name": "stdout",
     "output_type": "stream",
     "text": [
      "sleep 5\n",
      "feedback\n",
      "TR[0]=401,trID=141,parameter=19,timestamp=1612961197.13968,runId=1\n",
      "feedback\n",
      "TR[0]=402,trID=142,parameter=19,timestamp=1612961197.2874858,runId=1\n",
      "feedback\n",
      "TR[0]=403,trID=143,parameter=19,timestamp=1612961197.4431849,runId=1\n",
      "feedback\n",
      "TR[0]=404,trID=144,parameter=19,timestamp=1612961197.574115,runId=1\n",
      "feedback\n",
      "TR[0]=405,trID=145,parameter=19,timestamp=1612961197.749613,runId=1\n",
      "ITI\n",
      "ITI\n"
     ]
    },
    {
     "name": "stderr",
     "output_type": "stream",
     "text": [
      "INFO:root:WsRemoteService Exception ConnectionError: Connection error: https://localhost:8888/login\n"
     ]
    },
    {
     "name": "stdout",
     "output_type": "stream",
     "text": [
      "sleep 5\n",
      "ITI\n"
     ]
    },
    {
     "name": "stderr",
     "output_type": "stream",
     "text": [
      "INFO:root:WsRemoteService Exception ConnectionError: Connection error: https://localhost:8888/login\n"
     ]
    },
    {
     "name": "stdout",
     "output_type": "stream",
     "text": [
      "sleep 5\n",
      "ITI\n",
      "ITI\n",
      "ITI\n",
      "waiting\n",
      "waiting\n",
      "waiting\n"
     ]
    },
    {
     "name": "stderr",
     "output_type": "stream",
     "text": [
      "INFO:root:WsRemoteService Exception ConnectionError: Connection error: https://localhost:8888/login\n"
     ]
    },
    {
     "name": "stdout",
     "output_type": "stream",
     "text": [
      "sleep 5\n",
      "feedback\n",
      "TR[0]=415,trID=146,parameter=19,timestamp=1612961197.883362,runId=1\n"
     ]
    },
    {
     "name": "stderr",
     "output_type": "stream",
     "text": [
      "INFO:root:WsRemoteService Exception ConnectionError: Connection error: https://localhost:8888/login\n"
     ]
    },
    {
     "name": "stdout",
     "output_type": "stream",
     "text": [
      "sleep 5\n",
      "feedback\n",
      "TR[0]=416,trID=147,parameter=19,timestamp=1612961198.0320551,runId=1\n",
      "feedback\n",
      "TR[0]=417,trID=148,parameter=19,timestamp=1612961198.1572921,runId=1\n",
      "feedback\n",
      "TR[0]=418,trID=149,parameter=19,timestamp=1612961198.337167,runId=1\n",
      "feedback\n",
      "TR[0]=419,trID=150,parameter=19,timestamp=1612961198.5378292,runId=1\n",
      "ITI\n",
      "ITI\n",
      "ITI\n"
     ]
    },
    {
     "name": "stderr",
     "output_type": "stream",
     "text": [
      "INFO:root:WsRemoteService Exception ConnectionError: Connection error: https://localhost:8888/login\n"
     ]
    },
    {
     "name": "stdout",
     "output_type": "stream",
     "text": [
      "sleep 5\n",
      "ITI\n"
     ]
    },
    {
     "name": "stderr",
     "output_type": "stream",
     "text": [
      "INFO:root:WsRemoteService Exception ConnectionError: Connection error: https://localhost:8888/login\n"
     ]
    },
    {
     "name": "stdout",
     "output_type": "stream",
     "text": [
      "sleep 5\n",
      "ITI\n",
      "ITI\n",
      "waiting\n",
      "waiting\n",
      "waiting\n",
      "feedback\n"
     ]
    },
    {
     "name": "stderr",
     "output_type": "stream",
     "text": [
      "INFO:root:WsRemoteService Exception ConnectionError: Connection error: https://localhost:8888/login\n"
     ]
    },
    {
     "name": "stdout",
     "output_type": "stream",
     "text": [
      "sleep 5\n"
     ]
    },
    {
     "name": "stderr",
     "output_type": "stream",
     "text": [
      "INFO:root:WsRemoteService Exception ConnectionError: Connection error: https://localhost:8888/login\n"
     ]
    },
    {
     "name": "stdout",
     "output_type": "stream",
     "text": [
      "sleep 5\n"
     ]
    },
    {
     "name": "stderr",
     "output_type": "stream",
     "text": [
      "INFO:root:WsRemoteService Exception ConnectionError: Connection error: https://localhost:8888/login\n"
     ]
    },
    {
     "name": "stdout",
     "output_type": "stream",
     "text": [
      "sleep 5\n"
     ]
    },
    {
     "name": "stderr",
     "output_type": "stream",
     "text": [
      "INFO:root:WsRemoteService Exception ConnectionError: Connection error: https://localhost:8888/login\n"
     ]
    },
    {
     "name": "stdout",
     "output_type": "stream",
     "text": [
      "sleep 5\n"
     ]
    },
    {
     "name": "stderr",
     "output_type": "stream",
     "text": [
      "INFO:root:WsRemoteService Exception ConnectionError: Connection error: https://localhost:8888/login\n"
     ]
    },
    {
     "name": "stdout",
     "output_type": "stream",
     "text": [
      "sleep 5\n"
     ]
    },
    {
     "name": "stderr",
     "output_type": "stream",
     "text": [
      "INFO:root:WsRemoteService Exception ConnectionError: Connection error: https://localhost:8888/login\n"
     ]
    },
    {
     "name": "stdout",
     "output_type": "stream",
     "text": [
      "sleep 5\n"
     ]
    },
    {
     "name": "stderr",
     "output_type": "stream",
     "text": [
      "INFO:root:WsRemoteService Exception ConnectionError: Connection error: https://localhost:8888/login\n"
     ]
    },
    {
     "name": "stdout",
     "output_type": "stream",
     "text": [
      "sleep 5\n"
     ]
    },
    {
     "name": "stderr",
     "output_type": "stream",
     "text": [
      "INFO:root:WsRemoteService Exception ConnectionError: Connection error: https://localhost:8888/login\n"
     ]
    },
    {
     "name": "stdout",
     "output_type": "stream",
     "text": [
      "sleep 5\n"
     ]
    },
    {
     "name": "stderr",
     "output_type": "stream",
     "text": [
      "INFO:root:WsRemoteService Exception ConnectionError: Connection error: https://localhost:8888/login\n"
     ]
    },
    {
     "name": "stdout",
     "output_type": "stream",
     "text": [
      "sleep 5\n"
     ]
    },
    {
     "name": "stderr",
     "output_type": "stream",
     "text": [
      "INFO:root:WsRemoteService Exception ConnectionError: Connection error: https://localhost:8888/login\n"
     ]
    },
    {
     "name": "stdout",
     "output_type": "stream",
     "text": [
      "sleep 5\n"
     ]
    },
    {
     "name": "stderr",
     "output_type": "stream",
     "text": [
      "INFO:root:WsRemoteService Exception ConnectionError: Connection error: https://localhost:8888/login\n"
     ]
    },
    {
     "name": "stdout",
     "output_type": "stream",
     "text": [
      "sleep 5\n"
     ]
    },
    {
     "name": "stderr",
     "output_type": "stream",
     "text": [
      "INFO:root:WsRemoteService Exception ConnectionError: Connection error: https://localhost:8888/login\n"
     ]
    },
    {
     "name": "stdout",
     "output_type": "stream",
     "text": [
      "sleep 5\n"
     ]
    },
    {
     "name": "stderr",
     "output_type": "stream",
     "text": [
      "INFO:root:WsRemoteService Exception ConnectionError: Connection error: https://localhost:8888/login\n"
     ]
    },
    {
     "name": "stdout",
     "output_type": "stream",
     "text": [
      "sleep 5\n"
     ]
    },
    {
     "name": "stderr",
     "output_type": "stream",
     "text": [
      "INFO:root:WsRemoteService Exception ConnectionError: Connection error: https://localhost:8888/login\n"
     ]
    },
    {
     "name": "stdout",
     "output_type": "stream",
     "text": [
      "sleep 5\n"
     ]
    },
    {
     "name": "stderr",
     "output_type": "stream",
     "text": [
      "INFO:root:WsRemoteService Exception ConnectionError: Connection error: https://localhost:8888/login\n"
     ]
    },
    {
     "name": "stdout",
     "output_type": "stream",
     "text": [
      "sleep 5\n"
     ]
    },
    {
     "name": "stderr",
     "output_type": "stream",
     "text": [
      "INFO:root:WsRemoteService Exception ConnectionError: Connection error: https://localhost:8888/login\n"
     ]
    },
    {
     "name": "stdout",
     "output_type": "stream",
     "text": [
      "sleep 5\n"
     ]
    },
    {
     "name": "stderr",
     "output_type": "stream",
     "text": [
      "INFO:root:WsRemoteService Exception ConnectionError: Connection error: https://localhost:8888/login\n"
     ]
    },
    {
     "name": "stdout",
     "output_type": "stream",
     "text": [
      "sleep 5\n"
     ]
    },
    {
     "name": "stderr",
     "output_type": "stream",
     "text": [
      "INFO:root:WsRemoteService Exception ConnectionError: Connection error: https://localhost:8888/login\n"
     ]
    },
    {
     "name": "stdout",
     "output_type": "stream",
     "text": [
      "sleep 5\n"
     ]
    },
    {
     "name": "stderr",
     "output_type": "stream",
     "text": [
      "INFO:root:WsRemoteService Exception ConnectionError: Connection error: https://localhost:8888/login\n"
     ]
    },
    {
     "name": "stdout",
     "output_type": "stream",
     "text": [
      "sleep 5\n"
     ]
    },
    {
     "name": "stderr",
     "output_type": "stream",
     "text": [
      "INFO:root:WsRemoteService Exception ConnectionError: Connection error: https://localhost:8888/login\n"
     ]
    },
    {
     "name": "stdout",
     "output_type": "stream",
     "text": [
      "sleep 5\n"
     ]
    },
    {
     "name": "stderr",
     "output_type": "stream",
     "text": [
      "INFO:root:WsRemoteService Exception ConnectionError: Connection error: https://localhost:8888/login\n"
     ]
    },
    {
     "name": "stdout",
     "output_type": "stream",
     "text": [
      "sleep 5\n"
     ]
    },
    {
     "name": "stderr",
     "output_type": "stream",
     "text": [
      "INFO:root:WsRemoteService Exception ConnectionError: Connection error: https://localhost:8888/login\n"
     ]
    },
    {
     "name": "stdout",
     "output_type": "stream",
     "text": [
      "sleep 5\n"
     ]
    },
    {
     "name": "stderr",
     "output_type": "stream",
     "text": [
      "INFO:root:WsRemoteService Exception ConnectionError: Connection error: https://localhost:8888/login\n"
     ]
    },
    {
     "name": "stdout",
     "output_type": "stream",
     "text": [
      "sleep 5\n"
     ]
    },
    {
     "name": "stderr",
     "output_type": "stream",
     "text": [
      "INFO:root:WsRemoteService Exception ConnectionError: Connection error: https://localhost:8888/login\n"
     ]
    },
    {
     "name": "stdout",
     "output_type": "stream",
     "text": [
      "sleep 5\n"
     ]
    },
    {
     "name": "stderr",
     "output_type": "stream",
     "text": [
      "INFO:root:WsRemoteService Exception ConnectionError: Connection error: https://localhost:8888/login\n"
     ]
    },
    {
     "name": "stdout",
     "output_type": "stream",
     "text": [
      "sleep 5\n"
     ]
    },
    {
     "name": "stderr",
     "output_type": "stream",
     "text": [
      "INFO:root:WsRemoteService Exception ConnectionError: Connection error: https://localhost:8888/login\n"
     ]
    },
    {
     "name": "stdout",
     "output_type": "stream",
     "text": [
      "sleep 5\n"
     ]
    },
    {
     "name": "stderr",
     "output_type": "stream",
     "text": [
      "INFO:root:WsRemoteService Exception ConnectionError: Connection error: https://localhost:8888/login\n"
     ]
    },
    {
     "name": "stdout",
     "output_type": "stream",
     "text": [
      "sleep 5\n"
     ]
    },
    {
     "name": "stderr",
     "output_type": "stream",
     "text": [
      "INFO:root:WsRemoteService Exception ConnectionError: Connection error: https://localhost:8888/login\n"
     ]
    },
    {
     "name": "stdout",
     "output_type": "stream",
     "text": [
      "sleep 5\n"
     ]
    },
    {
     "name": "stderr",
     "output_type": "stream",
     "text": [
      "INFO:root:WsRemoteService Exception ConnectionError: Connection error: https://localhost:8888/login\n"
     ]
    },
    {
     "name": "stdout",
     "output_type": "stream",
     "text": [
      "sleep 5\n"
     ]
    },
    {
     "name": "stderr",
     "output_type": "stream",
     "text": [
      "INFO:root:WsRemoteService Exception ConnectionError: Connection error: https://localhost:8888/login\n"
     ]
    },
    {
     "name": "stdout",
     "output_type": "stream",
     "text": [
      "sleep 5\n"
     ]
    },
    {
     "name": "stderr",
     "output_type": "stream",
     "text": [
      "INFO:root:WsRemoteService Exception ConnectionError: Connection error: https://localhost:8888/login\n"
     ]
    },
    {
     "name": "stdout",
     "output_type": "stream",
     "text": [
      "sleep 5\n"
     ]
    },
    {
     "name": "stderr",
     "output_type": "stream",
     "text": [
      "INFO:root:WsRemoteService Exception ConnectionError: Connection error: https://localhost:8888/login\n"
     ]
    },
    {
     "name": "stdout",
     "output_type": "stream",
     "text": [
      "sleep 5\n"
     ]
    },
    {
     "name": "stderr",
     "output_type": "stream",
     "text": [
      "INFO:root:WsRemoteService Exception ConnectionError: Connection error: https://localhost:8888/login\n"
     ]
    },
    {
     "name": "stdout",
     "output_type": "stream",
     "text": [
      "sleep 5\n"
     ]
    },
    {
     "name": "stderr",
     "output_type": "stream",
     "text": [
      "INFO:root:WsRemoteService Exception ConnectionError: Connection error: https://localhost:8888/login\n"
     ]
    },
    {
     "name": "stdout",
     "output_type": "stream",
     "text": [
      "sleep 5\n"
     ]
    },
    {
     "name": "stderr",
     "output_type": "stream",
     "text": [
      "INFO:root:WsRemoteService Exception ConnectionError: Connection error: https://localhost:8888/login\n"
     ]
    },
    {
     "name": "stdout",
     "output_type": "stream",
     "text": [
      "sleep 5\n"
     ]
    },
    {
     "name": "stderr",
     "output_type": "stream",
     "text": [
      "INFO:root:WsRemoteService Exception ConnectionError: Connection error: https://localhost:8888/login\n"
     ]
    },
    {
     "name": "stdout",
     "output_type": "stream",
     "text": [
      "sleep 5\n"
     ]
    },
    {
     "name": "stderr",
     "output_type": "stream",
     "text": [
      "INFO:root:WsRemoteService Exception ConnectionError: Connection error: https://localhost:8888/login\n"
     ]
    },
    {
     "name": "stdout",
     "output_type": "stream",
     "text": [
      "sleep 5\n"
     ]
    },
    {
     "name": "stderr",
     "output_type": "stream",
     "text": [
      "INFO:root:WsRemoteService Exception ConnectionError: Connection error: https://localhost:8888/login\n"
     ]
    },
    {
     "name": "stdout",
     "output_type": "stream",
     "text": [
      "sleep 5\n"
     ]
    },
    {
     "name": "stderr",
     "output_type": "stream",
     "text": [
      "INFO:root:WsRemoteService Exception ConnectionError: Connection error: https://localhost:8888/login\n"
     ]
    },
    {
     "name": "stdout",
     "output_type": "stream",
     "text": [
      "sleep 5\n"
     ]
    },
    {
     "name": "stderr",
     "output_type": "stream",
     "text": [
      "INFO:root:WsRemoteService Exception ConnectionError: Connection error: https://localhost:8888/login\n"
     ]
    },
    {
     "name": "stdout",
     "output_type": "stream",
     "text": [
      "sleep 5\n"
     ]
    },
    {
     "name": "stderr",
     "output_type": "stream",
     "text": [
      "INFO:root:WsRemoteService Exception ConnectionError: Connection error: https://localhost:8888/login\n"
     ]
    },
    {
     "name": "stdout",
     "output_type": "stream",
     "text": [
      "sleep 5\n"
     ]
    },
    {
     "name": "stderr",
     "output_type": "stream",
     "text": [
      "INFO:root:WsRemoteService Exception ConnectionError: Connection error: https://localhost:8888/login\n"
     ]
    },
    {
     "name": "stdout",
     "output_type": "stream",
     "text": [
      "sleep 5\n"
     ]
    },
    {
     "name": "stderr",
     "output_type": "stream",
     "text": [
      "INFO:root:WsRemoteService Exception ConnectionError: Connection error: https://localhost:8888/login\n"
     ]
    },
    {
     "name": "stdout",
     "output_type": "stream",
     "text": [
      "sleep 5\n"
     ]
    },
    {
     "name": "stderr",
     "output_type": "stream",
     "text": [
      "INFO:root:WsRemoteService Exception ConnectionError: Connection error: https://localhost:8888/login\n"
     ]
    },
    {
     "name": "stdout",
     "output_type": "stream",
     "text": [
      "sleep 5\n"
     ]
    },
    {
     "name": "stderr",
     "output_type": "stream",
     "text": [
      "INFO:root:WsRemoteService Exception ConnectionError: Connection error: https://localhost:8888/login\n"
     ]
    },
    {
     "name": "stdout",
     "output_type": "stream",
     "text": [
      "sleep 5\n"
     ]
    },
    {
     "name": "stderr",
     "output_type": "stream",
     "text": [
      "INFO:root:WsRemoteService Exception ConnectionError: Connection error: https://localhost:8888/login\n"
     ]
    },
    {
     "name": "stdout",
     "output_type": "stream",
     "text": [
      "sleep 5\n"
     ]
    },
    {
     "name": "stderr",
     "output_type": "stream",
     "text": [
      "INFO:root:WsRemoteService Exception ConnectionError: Connection error: https://localhost:8888/login\n"
     ]
    },
    {
     "name": "stdout",
     "output_type": "stream",
     "text": [
      "sleep 5\n"
     ]
    },
    {
     "name": "stderr",
     "output_type": "stream",
     "text": [
      "INFO:root:WsRemoteService Exception ConnectionError: Connection error: https://localhost:8888/login\n"
     ]
    },
    {
     "name": "stdout",
     "output_type": "stream",
     "text": [
      "sleep 5\n"
     ]
    },
    {
     "name": "stderr",
     "output_type": "stream",
     "text": [
      "INFO:root:WsRemoteService Exception ConnectionError: Connection error: https://localhost:8888/login\n"
     ]
    },
    {
     "name": "stdout",
     "output_type": "stream",
     "text": [
      "sleep 5\n"
     ]
    },
    {
     "name": "stderr",
     "output_type": "stream",
     "text": [
      "INFO:root:WsRemoteService Exception ConnectionError: Connection error: https://localhost:8888/login\n"
     ]
    },
    {
     "name": "stdout",
     "output_type": "stream",
     "text": [
      "sleep 5\n"
     ]
    },
    {
     "name": "stderr",
     "output_type": "stream",
     "text": [
      "INFO:root:WsRemoteService Exception ConnectionError: Connection error: https://localhost:8888/login\n"
     ]
    },
    {
     "name": "stdout",
     "output_type": "stream",
     "text": [
      "sleep 5\n"
     ]
    },
    {
     "name": "stderr",
     "output_type": "stream",
     "text": [
      "INFO:root:WsRemoteService Exception ConnectionError: Connection error: https://localhost:8888/login\n"
     ]
    },
    {
     "name": "stdout",
     "output_type": "stream",
     "text": [
      "sleep 5\n"
     ]
    },
    {
     "name": "stderr",
     "output_type": "stream",
     "text": [
      "INFO:root:WsRemoteService Exception ConnectionError: Connection error: https://localhost:8888/login\n"
     ]
    },
    {
     "name": "stdout",
     "output_type": "stream",
     "text": [
      "sleep 5\n"
     ]
    },
    {
     "name": "stderr",
     "output_type": "stream",
     "text": [
      "INFO:root:WsRemoteService Exception ConnectionError: Connection error: https://localhost:8888/login\n"
     ]
    },
    {
     "name": "stdout",
     "output_type": "stream",
     "text": [
      "sleep 5\n"
     ]
    },
    {
     "name": "stderr",
     "output_type": "stream",
     "text": [
      "INFO:root:WsRemoteService Exception ConnectionError: Connection error: https://localhost:8888/login\n"
     ]
    },
    {
     "name": "stdout",
     "output_type": "stream",
     "text": [
      "sleep 5\n"
     ]
    },
    {
     "name": "stderr",
     "output_type": "stream",
     "text": [
      "INFO:root:WsRemoteService Exception ConnectionError: Connection error: https://localhost:8888/login\n"
     ]
    },
    {
     "name": "stdout",
     "output_type": "stream",
     "text": [
      "sleep 5\n"
     ]
    },
    {
     "name": "stderr",
     "output_type": "stream",
     "text": [
      "INFO:root:WsRemoteService Exception ConnectionError: Connection error: https://localhost:8888/login\n"
     ]
    },
    {
     "name": "stdout",
     "output_type": "stream",
     "text": [
      "sleep 5\n"
     ]
    },
    {
     "name": "stderr",
     "output_type": "stream",
     "text": [
      "INFO:root:WsRemoteService Exception ConnectionError: Connection error: https://localhost:8888/login\n"
     ]
    },
    {
     "name": "stdout",
     "output_type": "stream",
     "text": [
      "sleep 5\n"
     ]
    },
    {
     "name": "stderr",
     "output_type": "stream",
     "text": [
      "INFO:root:WsRemoteService Exception ConnectionError: Connection error: https://localhost:8888/login\n"
     ]
    },
    {
     "name": "stdout",
     "output_type": "stream",
     "text": [
      "sleep 5\n"
     ]
    },
    {
     "name": "stderr",
     "output_type": "stream",
     "text": [
      "INFO:root:WsRemoteService Exception ConnectionError: Connection error: https://localhost:8888/login\n"
     ]
    },
    {
     "name": "stdout",
     "output_type": "stream",
     "text": [
      "sleep 5\n"
     ]
    },
    {
     "name": "stderr",
     "output_type": "stream",
     "text": [
      "INFO:root:WsRemoteService Exception ConnectionError: Connection error: https://localhost:8888/login\n"
     ]
    },
    {
     "name": "stdout",
     "output_type": "stream",
     "text": [
      "sleep 5\n"
     ]
    },
    {
     "name": "stderr",
     "output_type": "stream",
     "text": [
      "INFO:root:WsRemoteService Exception ConnectionError: Connection error: https://localhost:8888/login\n"
     ]
    },
    {
     "name": "stdout",
     "output_type": "stream",
     "text": [
      "sleep 5\n"
     ]
    },
    {
     "name": "stderr",
     "output_type": "stream",
     "text": [
      "INFO:root:WsRemoteService Exception ConnectionError: Connection error: https://localhost:8888/login\n"
     ]
    },
    {
     "name": "stdout",
     "output_type": "stream",
     "text": [
      "sleep 5\n"
     ]
    },
    {
     "name": "stderr",
     "output_type": "stream",
     "text": [
      "INFO:root:WsRemoteService Exception ConnectionError: Connection error: https://localhost:8888/login\n"
     ]
    },
    {
     "name": "stdout",
     "output_type": "stream",
     "text": [
      "sleep 5\n"
     ]
    },
    {
     "name": "stderr",
     "output_type": "stream",
     "text": [
      "INFO:root:WsRemoteService Exception ConnectionError: Connection error: https://localhost:8888/login\n"
     ]
    },
    {
     "name": "stdout",
     "output_type": "stream",
     "text": [
      "sleep 5\n"
     ]
    },
    {
     "name": "stderr",
     "output_type": "stream",
     "text": [
      "INFO:root:WsRemoteService Exception ConnectionError: Connection error: https://localhost:8888/login\n"
     ]
    },
    {
     "name": "stdout",
     "output_type": "stream",
     "text": [
      "sleep 5\n"
     ]
    },
    {
     "name": "stderr",
     "output_type": "stream",
     "text": [
      "INFO:root:WsRemoteService Exception ConnectionError: Connection error: https://localhost:8888/login\n"
     ]
    },
    {
     "name": "stdout",
     "output_type": "stream",
     "text": [
      "sleep 5\n"
     ]
    },
    {
     "name": "stderr",
     "output_type": "stream",
     "text": [
      "INFO:root:WsRemoteService Exception ConnectionError: Connection error: https://localhost:8888/login\n"
     ]
    },
    {
     "name": "stdout",
     "output_type": "stream",
     "text": [
      "sleep 5\n"
     ]
    },
    {
     "name": "stderr",
     "output_type": "stream",
     "text": [
      "INFO:root:WsRemoteService Exception ConnectionError: Connection error: https://localhost:8888/login\n"
     ]
    },
    {
     "name": "stdout",
     "output_type": "stream",
     "text": [
      "sleep 5\n"
     ]
    },
    {
     "name": "stderr",
     "output_type": "stream",
     "text": [
      "INFO:root:WsRemoteService Exception ConnectionError: Connection error: https://localhost:8888/login\n"
     ]
    },
    {
     "name": "stdout",
     "output_type": "stream",
     "text": [
      "sleep 5\n"
     ]
    },
    {
     "name": "stderr",
     "output_type": "stream",
     "text": [
      "INFO:root:WsRemoteService Exception ConnectionError: Connection error: https://localhost:8888/login\n"
     ]
    },
    {
     "name": "stdout",
     "output_type": "stream",
     "text": [
      "sleep 5\n"
     ]
    },
    {
     "name": "stderr",
     "output_type": "stream",
     "text": [
      "INFO:root:WsRemoteService Exception ConnectionError: Connection error: https://localhost:8888/login\n"
     ]
    },
    {
     "name": "stdout",
     "output_type": "stream",
     "text": [
      "sleep 5\n"
     ]
    },
    {
     "name": "stderr",
     "output_type": "stream",
     "text": [
      "INFO:root:WsRemoteService Exception ConnectionError: Connection error: https://localhost:8888/login\n"
     ]
    },
    {
     "name": "stdout",
     "output_type": "stream",
     "text": [
      "sleep 5\n"
     ]
    },
    {
     "name": "stderr",
     "output_type": "stream",
     "text": [
      "INFO:root:WsRemoteService Exception ConnectionError: Connection error: https://localhost:8888/login\n"
     ]
    },
    {
     "name": "stdout",
     "output_type": "stream",
     "text": [
      "sleep 5\n"
     ]
    },
    {
     "name": "stderr",
     "output_type": "stream",
     "text": [
      "INFO:root:WsRemoteService Exception ConnectionError: Connection error: https://localhost:8888/login\n"
     ]
    },
    {
     "name": "stdout",
     "output_type": "stream",
     "text": [
      "sleep 5\n"
     ]
    },
    {
     "name": "stderr",
     "output_type": "stream",
     "text": [
      "INFO:root:WsRemoteService Exception ConnectionError: Connection error: https://localhost:8888/login\n"
     ]
    },
    {
     "name": "stdout",
     "output_type": "stream",
     "text": [
      "sleep 5\n"
     ]
    },
    {
     "name": "stderr",
     "output_type": "stream",
     "text": [
      "INFO:root:WsRemoteService Exception ConnectionError: Connection error: https://localhost:8888/login\n"
     ]
    },
    {
     "name": "stdout",
     "output_type": "stream",
     "text": [
      "sleep 5\n"
     ]
    },
    {
     "name": "stderr",
     "output_type": "stream",
     "text": [
      "INFO:root:WsRemoteService Exception ConnectionError: Connection error: https://localhost:8888/login\n"
     ]
    },
    {
     "name": "stdout",
     "output_type": "stream",
     "text": [
      "sleep 5\n"
     ]
    },
    {
     "name": "stderr",
     "output_type": "stream",
     "text": [
      "INFO:root:WsRemoteService Exception ConnectionError: Connection error: https://localhost:8888/login\n"
     ]
    },
    {
     "name": "stdout",
     "output_type": "stream",
     "text": [
      "sleep 5\n"
     ]
    },
    {
     "name": "stderr",
     "output_type": "stream",
     "text": [
      "INFO:root:WsRemoteService Exception ConnectionError: Connection error: https://localhost:8888/login\n"
     ]
    },
    {
     "name": "stdout",
     "output_type": "stream",
     "text": [
      "sleep 5\n"
     ]
    },
    {
     "name": "stderr",
     "output_type": "stream",
     "text": [
      "INFO:root:WsRemoteService Exception ConnectionError: Connection error: https://localhost:8888/login\n"
     ]
    },
    {
     "name": "stdout",
     "output_type": "stream",
     "text": [
      "sleep 5\n"
     ]
    },
    {
     "name": "stderr",
     "output_type": "stream",
     "text": [
      "INFO:root:WsRemoteService Exception ConnectionError: Connection error: https://localhost:8888/login\n"
     ]
    },
    {
     "name": "stdout",
     "output_type": "stream",
     "text": [
      "sleep 5\n"
     ]
    },
    {
     "name": "stderr",
     "output_type": "stream",
     "text": [
      "INFO:root:WsRemoteService Exception ConnectionError: Connection error: https://localhost:8888/login\n"
     ]
    },
    {
     "name": "stdout",
     "output_type": "stream",
     "text": [
      "sleep 5\n"
     ]
    },
    {
     "name": "stderr",
     "output_type": "stream",
     "text": [
      "INFO:root:WsRemoteService Exception ConnectionError: Connection error: https://localhost:8888/login\n"
     ]
    },
    {
     "name": "stdout",
     "output_type": "stream",
     "text": [
      "sleep 5\n"
     ]
    },
    {
     "name": "stderr",
     "output_type": "stream",
     "text": [
      "INFO:root:WsRemoteService Exception ConnectionError: Connection error: https://localhost:8888/login\n"
     ]
    },
    {
     "name": "stdout",
     "output_type": "stream",
     "text": [
      "sleep 5\n"
     ]
    },
    {
     "name": "stderr",
     "output_type": "stream",
     "text": [
      "INFO:root:WsRemoteService Exception ConnectionError: Connection error: https://localhost:8888/login\n"
     ]
    },
    {
     "name": "stdout",
     "output_type": "stream",
     "text": [
      "sleep 5\n"
     ]
    },
    {
     "name": "stderr",
     "output_type": "stream",
     "text": [
      "INFO:root:WsRemoteService Exception ConnectionError: Connection error: https://localhost:8888/login\n"
     ]
    },
    {
     "name": "stdout",
     "output_type": "stream",
     "text": [
      "sleep 5\n"
     ]
    },
    {
     "name": "stderr",
     "output_type": "stream",
     "text": [
      "INFO:root:WsRemoteService Exception ConnectionError: Connection error: https://localhost:8888/login\n"
     ]
    },
    {
     "name": "stdout",
     "output_type": "stream",
     "text": [
      "sleep 5\n"
     ]
    },
    {
     "name": "stderr",
     "output_type": "stream",
     "text": [
      "INFO:root:WsRemoteService Exception ConnectionError: Connection error: https://localhost:8888/login\n"
     ]
    },
    {
     "name": "stdout",
     "output_type": "stream",
     "text": [
      "sleep 5\n"
     ]
    },
    {
     "name": "stderr",
     "output_type": "stream",
     "text": [
      "INFO:root:WsRemoteService Exception ConnectionError: Connection error: https://localhost:8888/login\n"
     ]
    },
    {
     "name": "stdout",
     "output_type": "stream",
     "text": [
      "sleep 5\n"
     ]
    },
    {
     "name": "stderr",
     "output_type": "stream",
     "text": [
      "INFO:root:WsRemoteService Exception ConnectionError: Connection error: https://localhost:8888/login\n"
     ]
    },
    {
     "name": "stdout",
     "output_type": "stream",
     "text": [
      "sleep 5\n"
     ]
    },
    {
     "name": "stderr",
     "output_type": "stream",
     "text": [
      "INFO:root:WsRemoteService Exception ConnectionError: Connection error: https://localhost:8888/login\n"
     ]
    },
    {
     "name": "stdout",
     "output_type": "stream",
     "text": [
      "sleep 5\n"
     ]
    },
    {
     "name": "stderr",
     "output_type": "stream",
     "text": [
      "INFO:root:WsRemoteService Exception ConnectionError: Connection error: https://localhost:8888/login\n"
     ]
    },
    {
     "name": "stdout",
     "output_type": "stream",
     "text": [
      "sleep 5\n"
     ]
    },
    {
     "name": "stderr",
     "output_type": "stream",
     "text": [
      "INFO:root:WsRemoteService Exception ConnectionError: Connection error: https://localhost:8888/login\n"
     ]
    },
    {
     "name": "stdout",
     "output_type": "stream",
     "text": [
      "sleep 5\n"
     ]
    },
    {
     "name": "stderr",
     "output_type": "stream",
     "text": [
      "INFO:root:WsRemoteService Exception ConnectionError: Connection error: https://localhost:8888/login\n"
     ]
    },
    {
     "name": "stdout",
     "output_type": "stream",
     "text": [
      "sleep 5\n"
     ]
    },
    {
     "name": "stderr",
     "output_type": "stream",
     "text": [
      "INFO:root:WsRemoteService Exception ConnectionError: Connection error: https://localhost:8888/login\n"
     ]
    },
    {
     "name": "stdout",
     "output_type": "stream",
     "text": [
      "sleep 5\n"
     ]
    },
    {
     "name": "stderr",
     "output_type": "stream",
     "text": [
      "INFO:root:WsRemoteService Exception ConnectionError: Connection error: https://localhost:8888/login\n"
     ]
    },
    {
     "name": "stdout",
     "output_type": "stream",
     "text": [
      "sleep 5\n"
     ]
    },
    {
     "name": "stderr",
     "output_type": "stream",
     "text": [
      "INFO:root:WsRemoteService Exception ConnectionError: Connection error: https://localhost:8888/login\n"
     ]
    },
    {
     "name": "stdout",
     "output_type": "stream",
     "text": [
      "sleep 5\n"
     ]
    },
    {
     "name": "stderr",
     "output_type": "stream",
     "text": [
      "INFO:root:WsRemoteService Exception ConnectionError: Connection error: https://localhost:8888/login\n"
     ]
    },
    {
     "name": "stdout",
     "output_type": "stream",
     "text": [
      "sleep 5\n"
     ]
    },
    {
     "name": "stderr",
     "output_type": "stream",
     "text": [
      "INFO:root:WsRemoteService Exception ConnectionError: Connection error: https://localhost:8888/login\n"
     ]
    },
    {
     "name": "stdout",
     "output_type": "stream",
     "text": [
      "sleep 5\n"
     ]
    },
    {
     "name": "stderr",
     "output_type": "stream",
     "text": [
      "INFO:root:WsRemoteService Exception ConnectionError: Connection error: https://localhost:8888/login\n"
     ]
    },
    {
     "name": "stdout",
     "output_type": "stream",
     "text": [
      "sleep 5\n"
     ]
    },
    {
     "name": "stderr",
     "output_type": "stream",
     "text": [
      "INFO:root:WsRemoteService Exception ConnectionError: Connection error: https://localhost:8888/login\n"
     ]
    },
    {
     "name": "stdout",
     "output_type": "stream",
     "text": [
      "sleep 5\n"
     ]
    },
    {
     "name": "stderr",
     "output_type": "stream",
     "text": [
      "INFO:root:WsRemoteService Exception ConnectionError: Connection error: https://localhost:8888/login\n"
     ]
    },
    {
     "name": "stdout",
     "output_type": "stream",
     "text": [
      "sleep 5\n"
     ]
    },
    {
     "name": "stderr",
     "output_type": "stream",
     "text": [
      "INFO:root:WsRemoteService Exception ConnectionError: Connection error: https://localhost:8888/login\n"
     ]
    },
    {
     "name": "stdout",
     "output_type": "stream",
     "text": [
      "sleep 5\n"
     ]
    },
    {
     "name": "stderr",
     "output_type": "stream",
     "text": [
      "INFO:root:WsRemoteService Exception ConnectionError: Connection error: https://localhost:8888/login\n"
     ]
    },
    {
     "name": "stdout",
     "output_type": "stream",
     "text": [
      "sleep 5\n"
     ]
    },
    {
     "name": "stderr",
     "output_type": "stream",
     "text": [
      "INFO:root:WsRemoteService Exception ConnectionError: Connection error: https://localhost:8888/login\n"
     ]
    },
    {
     "name": "stdout",
     "output_type": "stream",
     "text": [
      "sleep 5\n"
     ]
    },
    {
     "name": "stderr",
     "output_type": "stream",
     "text": [
      "INFO:root:WsRemoteService Exception ConnectionError: Connection error: https://localhost:8888/login\n"
     ]
    },
    {
     "name": "stdout",
     "output_type": "stream",
     "text": [
      "sleep 5\n"
     ]
    },
    {
     "name": "stderr",
     "output_type": "stream",
     "text": [
      "INFO:root:WsRemoteService Exception ConnectionError: Connection error: https://localhost:8888/login\n"
     ]
    },
    {
     "name": "stdout",
     "output_type": "stream",
     "text": [
      "sleep 5\n"
     ]
    },
    {
     "name": "stderr",
     "output_type": "stream",
     "text": [
      "INFO:root:WsRemoteService Exception ConnectionError: Connection error: https://localhost:8888/login\n"
     ]
    },
    {
     "name": "stdout",
     "output_type": "stream",
     "text": [
      "sleep 5\n"
     ]
    },
    {
     "name": "stderr",
     "output_type": "stream",
     "text": [
      "INFO:root:WsRemoteService Exception ConnectionError: Connection error: https://localhost:8888/login\n"
     ]
    },
    {
     "name": "stdout",
     "output_type": "stream",
     "text": [
      "sleep 5\n"
     ]
    },
    {
     "name": "stderr",
     "output_type": "stream",
     "text": [
      "WARNING:root:on_error: WsRemoteService: <class 'websocket._exceptions.WebSocketConnectionClosedException'> Connection is already closed.\n",
      "WARNING:root:on_error: WsRemoteService: <class 'websocket._exceptions.WebSocketConnectionClosedException'> Connection is already closed.\n",
      "WARNING:root:on_error: WsRemoteService: <class 'websocket._exceptions.WebSocketConnectionClosedException'> Connection is already closed.\n",
      "WARNING:root:on_error: WsRemoteService: <class 'websocket._exceptions.WebSocketConnectionClosedException'> Connection is already closed.\n",
      "INFO:root:Connection closed None None\n",
      "INFO:root:Connection closed None None\n",
      "INFO:root:Connection closed None None\n",
      "INFO:root:Connection closed None None\n"
     ]
    },
    {
     "name": "stdout",
     "output_type": "stream",
     "text": [
      "## Connection closed, check if projectServer allows remote services.\n",
      "## May need to restart projectServer with --dataRemote --subjectRemote options.\n",
      "## Connection closed, check if projectServer allows remote services.\n",
      "## May need to restart projectServer with --dataRemote --subjectRemote options.\n",
      "## Connection closed, check if projectServer allows remote services.\n",
      "## May need to restart projectServer with --dataRemote --subjectRemote options.\n",
      "## Connection closed, check if projectServer allows remote services.\n",
      "## May need to restart projectServer with --dataRemote --subjectRemote options.\n",
      "sleep 5\n",
      "sleep 5\n",
      "sleep 5\n",
      "sleep 5\n"
     ]
    },
    {
     "name": "stderr",
     "output_type": "stream",
     "text": [
      "INFO:root:WsRemoteService Exception ConnectionError: Connection error: https://localhost:8888/login\n"
     ]
    },
    {
     "name": "stdout",
     "output_type": "stream",
     "text": [
      "sleep 5\n"
     ]
    },
    {
     "name": "stderr",
     "output_type": "stream",
     "text": [
      "INFO:root:WsRemoteService Exception ConnectionError: Connection error: https://localhost:7777/login\n",
      "INFO:root:WsRemoteService Exception ConnectionError: Connection error: https://localhost:7777/login\n",
      "INFO:root:WsRemoteService Exception ConnectionError: Connection error: https://localhost:7777/login\n",
      "INFO:root:WsRemoteService Exception ConnectionError: Connection error: https://localhost:7777/login\n"
     ]
    },
    {
     "name": "stdout",
     "output_type": "stream",
     "text": [
      "sleep 5\n",
      "sleep 5\n",
      "sleep 5\n",
      "sleep 5\n"
     ]
    },
    {
     "name": "stderr",
     "output_type": "stream",
     "text": [
      "INFO:root:WsRemoteService Exception ConnectionError: Connection error: https://localhost:8888/login\n"
     ]
    },
    {
     "name": "stdout",
     "output_type": "stream",
     "text": [
      "sleep 5\n"
     ]
    },
    {
     "name": "stderr",
     "output_type": "stream",
     "text": [
      "INFO:root:WsRemoteService Exception ConnectionError: Connection error: https://localhost:7777/login\n",
      "INFO:root:WsRemoteService Exception ConnectionError: Connection error: https://localhost:7777/login\n",
      "INFO:root:WsRemoteService Exception ConnectionError: Connection error: https://localhost:7777/login\n",
      "INFO:root:WsRemoteService Exception ConnectionError: Connection error: https://localhost:7777/login\n"
     ]
    },
    {
     "name": "stdout",
     "output_type": "stream",
     "text": [
      "sleep 5\n",
      "sleep 5\n",
      "sleep 5\n",
      "sleep 5\n"
     ]
    },
    {
     "name": "stderr",
     "output_type": "stream",
     "text": [
      "INFO:root:WsRemoteService Exception ConnectionError: Connection error: https://localhost:7777/login\n",
      "INFO:root:WsRemoteService Exception ConnectionError: Connection error: https://localhost:7777/login\n",
      "INFO:root:WsRemoteService Exception ConnectionError: Connection error: https://localhost:7777/login\n",
      "INFO:root:WsRemoteService Exception ConnectionError: Connection error: https://localhost:7777/login\n"
     ]
    },
    {
     "name": "stdout",
     "output_type": "stream",
     "text": [
      "sleep 5\n",
      "sleep 5\n",
      "sleep 5\n",
      "sleep 5\n"
     ]
    },
    {
     "name": "stderr",
     "output_type": "stream",
     "text": [
      "INFO:root:WsRemoteService Exception ConnectionError: Connection error: https://localhost:8888/login\n"
     ]
    },
    {
     "name": "stdout",
     "output_type": "stream",
     "text": [
      "sleep 5\n"
     ]
    },
    {
     "name": "stderr",
     "output_type": "stream",
     "text": [
      "INFO:root:WsRemoteService Exception ConnectionError: Connection error: https://localhost:7777/login\n",
      "INFO:root:WsRemoteService Exception ConnectionError: Connection error: https://localhost:7777/login\n",
      "INFO:root:WsRemoteService Exception ConnectionError: Connection error: https://localhost:7777/login\n",
      "INFO:root:WsRemoteService Exception ConnectionError: Connection error: https://localhost:7777/login\n"
     ]
    },
    {
     "name": "stdout",
     "output_type": "stream",
     "text": [
      "sleep 5\n",
      "sleep 5\n",
      "sleep 5\n",
      "sleep 5\n"
     ]
    },
    {
     "name": "stderr",
     "output_type": "stream",
     "text": [
      "INFO:root:WsRemoteService Exception ConnectionError: Connection error: https://localhost:8888/login\n"
     ]
    },
    {
     "name": "stdout",
     "output_type": "stream",
     "text": [
      "sleep 5\n"
     ]
    },
    {
     "name": "stderr",
     "output_type": "stream",
     "text": [
      "INFO:root:Connected to: wss://localhost:7777/wsSubject\n"
     ]
    },
    {
     "name": "stdout",
     "output_type": "stream",
     "text": [
      "Connected to: wss://localhost:7777/wsSubject\n"
     ]
    },
    {
     "name": "stderr",
     "output_type": "stream",
     "text": [
      "INFO:root:Connected to: wss://localhost:7777/wsSubject\n",
      "INFO:root:Connected to: wss://localhost:7777/wsSubject\n",
      "INFO:root:Connected to: wss://localhost:7777/wsSubject\n"
     ]
    },
    {
     "name": "stdout",
     "output_type": "stream",
     "text": [
      "Connected to: wss://localhost:7777/wsSubject\n",
      "Connected to: wss://localhost:7777/wsSubject\n",
      "Connected to: wss://localhost:7777/wsSubject\n"
     ]
    },
    {
     "name": "stderr",
     "output_type": "stream",
     "text": [
      "INFO:root:WsRemoteService Exception ConnectionError: Connection error: https://localhost:8888/login\n"
     ]
    },
    {
     "name": "stdout",
     "output_type": "stream",
     "text": [
      "sleep 5\n"
     ]
    },
    {
     "name": "stderr",
     "output_type": "stream",
     "text": [
      "INFO:root:WsRemoteService Exception ConnectionError: Connection error: https://localhost:8888/login\n"
     ]
    },
    {
     "name": "stdout",
     "output_type": "stream",
     "text": [
      "sleep 5\n"
     ]
    },
    {
     "name": "stderr",
     "output_type": "stream",
     "text": [
      "INFO:root:WsRemoteService Exception ConnectionError: Connection error: https://localhost:8888/login\n"
     ]
    },
    {
     "name": "stdout",
     "output_type": "stream",
     "text": [
      "sleep 5\n"
     ]
    },
    {
     "name": "stderr",
     "output_type": "stream",
     "text": [
      "INFO:root:WsRemoteService Exception ConnectionError: Connection error: https://localhost:8888/login\n"
     ]
    },
    {
     "name": "stdout",
     "output_type": "stream",
     "text": [
      "sleep 5\n"
     ]
    },
    {
     "name": "stderr",
     "output_type": "stream",
     "text": [
      "INFO:root:WsRemoteService Exception ConnectionError: Connection error: https://localhost:8888/login\n"
     ]
    },
    {
     "name": "stdout",
     "output_type": "stream",
     "text": [
      "sleep 5\n"
     ]
    },
    {
     "name": "stderr",
     "output_type": "stream",
     "text": [
      "INFO:root:WsRemoteService Exception ConnectionError: Connection error: https://localhost:8888/login\n"
     ]
    },
    {
     "name": "stdout",
     "output_type": "stream",
     "text": [
      "sleep 5\n"
     ]
    },
    {
     "name": "stderr",
     "output_type": "stream",
     "text": [
      "INFO:root:WsRemoteService Exception ConnectionError: Connection error: https://localhost:8888/login\n"
     ]
    },
    {
     "name": "stdout",
     "output_type": "stream",
     "text": [
      "sleep 5\n"
     ]
    },
    {
     "name": "stderr",
     "output_type": "stream",
     "text": [
      "INFO:root:WsRemoteService Exception ConnectionError: Connection error: https://localhost:8888/login\n"
     ]
    },
    {
     "name": "stdout",
     "output_type": "stream",
     "text": [
      "sleep 5\n"
     ]
    },
    {
     "name": "stderr",
     "output_type": "stream",
     "text": [
      "INFO:root:WsRemoteService Exception ConnectionError: Connection error: https://localhost:8888/login\n"
     ]
    },
    {
     "name": "stdout",
     "output_type": "stream",
     "text": [
      "sleep 5\n"
     ]
    },
    {
     "name": "stderr",
     "output_type": "stream",
     "text": [
      "INFO:root:WsRemoteService Exception ConnectionError: Connection error: https://localhost:8888/login\n"
     ]
    },
    {
     "name": "stdout",
     "output_type": "stream",
     "text": [
      "sleep 5\n"
     ]
    },
    {
     "name": "stderr",
     "output_type": "stream",
     "text": [
      "INFO:root:WsRemoteService Exception ConnectionError: Connection error: https://localhost:8888/login\n"
     ]
    },
    {
     "name": "stdout",
     "output_type": "stream",
     "text": [
      "sleep 5\n"
     ]
    },
    {
     "name": "stderr",
     "output_type": "stream",
     "text": [
      "INFO:root:WsRemoteService Exception ConnectionError: Connection error: https://localhost:8888/login\n"
     ]
    },
    {
     "name": "stdout",
     "output_type": "stream",
     "text": [
      "sleep 5\n"
     ]
    },
    {
     "name": "stderr",
     "output_type": "stream",
     "text": [
      "INFO:root:WsRemoteService Exception ConnectionError: Connection error: https://localhost:8888/login\n"
     ]
    },
    {
     "name": "stdout",
     "output_type": "stream",
     "text": [
      "sleep 5\n"
     ]
    },
    {
     "name": "stderr",
     "output_type": "stream",
     "text": [
      "INFO:root:WsRemoteService Exception ConnectionError: Connection error: https://localhost:8888/login\n"
     ]
    },
    {
     "name": "stdout",
     "output_type": "stream",
     "text": [
      "sleep 5\n"
     ]
    },
    {
     "name": "stderr",
     "output_type": "stream",
     "text": [
      "INFO:root:WsRemoteService Exception ConnectionError: Connection error: https://localhost:8888/login\n"
     ]
    },
    {
     "name": "stdout",
     "output_type": "stream",
     "text": [
      "sleep 5\n"
     ]
    },
    {
     "name": "stderr",
     "output_type": "stream",
     "text": [
      "INFO:root:WsRemoteService Exception ConnectionError: Connection error: https://localhost:8888/login\n"
     ]
    },
    {
     "name": "stdout",
     "output_type": "stream",
     "text": [
      "sleep 5\n"
     ]
    },
    {
     "name": "stderr",
     "output_type": "stream",
     "text": [
      "INFO:root:WsRemoteService Exception ConnectionError: Connection error: https://localhost:8888/login\n"
     ]
    },
    {
     "name": "stdout",
     "output_type": "stream",
     "text": [
      "sleep 5\n"
     ]
    },
    {
     "name": "stderr",
     "output_type": "stream",
     "text": [
      "INFO:root:WsRemoteService Exception ConnectionError: Connection error: https://localhost:8888/login\n"
     ]
    },
    {
     "name": "stdout",
     "output_type": "stream",
     "text": [
      "sleep 5\n"
     ]
    },
    {
     "name": "stderr",
     "output_type": "stream",
     "text": [
      "INFO:root:WsRemoteService Exception ConnectionError: Connection error: https://localhost:8888/login\n"
     ]
    },
    {
     "name": "stdout",
     "output_type": "stream",
     "text": [
      "sleep 5\n"
     ]
    },
    {
     "name": "stderr",
     "output_type": "stream",
     "text": [
      "INFO:root:WsRemoteService Exception ConnectionError: Connection error: https://localhost:8888/login\n"
     ]
    },
    {
     "name": "stdout",
     "output_type": "stream",
     "text": [
      "sleep 5\n"
     ]
    },
    {
     "name": "stderr",
     "output_type": "stream",
     "text": [
      "INFO:root:WsRemoteService Exception ConnectionError: Connection error: https://localhost:8888/login\n"
     ]
    },
    {
     "name": "stdout",
     "output_type": "stream",
     "text": [
      "sleep 5\n"
     ]
    },
    {
     "name": "stderr",
     "output_type": "stream",
     "text": [
      "INFO:root:WsRemoteService Exception ConnectionError: Connection error: https://localhost:8888/login\n"
     ]
    },
    {
     "name": "stdout",
     "output_type": "stream",
     "text": [
      "sleep 5\n"
     ]
    },
    {
     "name": "stderr",
     "output_type": "stream",
     "text": [
      "INFO:root:WsRemoteService Exception ConnectionError: Connection error: https://localhost:8888/login\n"
     ]
    },
    {
     "name": "stdout",
     "output_type": "stream",
     "text": [
      "sleep 5\n"
     ]
    },
    {
     "name": "stderr",
     "output_type": "stream",
     "text": [
      "INFO:root:WsRemoteService Exception ConnectionError: Connection error: https://localhost:8888/login\n"
     ]
    },
    {
     "name": "stdout",
     "output_type": "stream",
     "text": [
      "sleep 5\n"
     ]
    },
    {
     "name": "stderr",
     "output_type": "stream",
     "text": [
      "INFO:root:WsRemoteService Exception ConnectionError: Connection error: https://localhost:8888/login\n"
     ]
    },
    {
     "name": "stdout",
     "output_type": "stream",
     "text": [
      "sleep 5\n"
     ]
    },
    {
     "name": "stderr",
     "output_type": "stream",
     "text": [
      "INFO:root:WsRemoteService Exception ConnectionError: Connection error: https://localhost:8888/login\n"
     ]
    },
    {
     "name": "stdout",
     "output_type": "stream",
     "text": [
      "sleep 5\n"
     ]
    },
    {
     "name": "stderr",
     "output_type": "stream",
     "text": [
      "INFO:root:WsRemoteService Exception ConnectionError: Connection error: https://localhost:8888/login\n"
     ]
    },
    {
     "name": "stdout",
     "output_type": "stream",
     "text": [
      "sleep 5\n"
     ]
    },
    {
     "name": "stderr",
     "output_type": "stream",
     "text": [
      "INFO:root:WsRemoteService Exception ConnectionError: Connection error: https://localhost:8888/login\n"
     ]
    },
    {
     "name": "stdout",
     "output_type": "stream",
     "text": [
      "sleep 5\n"
     ]
    },
    {
     "name": "stderr",
     "output_type": "stream",
     "text": [
      "INFO:root:WsRemoteService Exception ConnectionError: Connection error: https://localhost:8888/login\n"
     ]
    },
    {
     "name": "stdout",
     "output_type": "stream",
     "text": [
      "sleep 5\n"
     ]
    },
    {
     "name": "stderr",
     "output_type": "stream",
     "text": [
      "INFO:root:WsRemoteService Exception ConnectionError: Connection error: https://localhost:8888/login\n"
     ]
    },
    {
     "name": "stdout",
     "output_type": "stream",
     "text": [
      "sleep 5\n"
     ]
    },
    {
     "name": "stderr",
     "output_type": "stream",
     "text": [
      "INFO:root:WsRemoteService Exception ConnectionError: Connection error: https://localhost:8888/login\n"
     ]
    },
    {
     "name": "stdout",
     "output_type": "stream",
     "text": [
      "sleep 5\n"
     ]
    },
    {
     "name": "stderr",
     "output_type": "stream",
     "text": [
      "INFO:root:WsRemoteService Exception ConnectionError: Connection error: https://localhost:8888/login\n"
     ]
    },
    {
     "name": "stdout",
     "output_type": "stream",
     "text": [
      "sleep 5\n"
     ]
    },
    {
     "name": "stderr",
     "output_type": "stream",
     "text": [
      "INFO:root:WsRemoteService Exception ConnectionError: Connection error: https://localhost:8888/login\n"
     ]
    },
    {
     "name": "stdout",
     "output_type": "stream",
     "text": [
      "sleep 5\n"
     ]
    },
    {
     "name": "stderr",
     "output_type": "stream",
     "text": [
      "INFO:root:WsRemoteService Exception ConnectionError: Connection error: https://localhost:8888/login\n"
     ]
    },
    {
     "name": "stdout",
     "output_type": "stream",
     "text": [
      "sleep 5\n"
     ]
    },
    {
     "name": "stderr",
     "output_type": "stream",
     "text": [
      "INFO:root:WsRemoteService Exception ConnectionError: Connection error: https://localhost:8888/login\n"
     ]
    },
    {
     "name": "stdout",
     "output_type": "stream",
     "text": [
      "sleep 5\n"
     ]
    },
    {
     "name": "stderr",
     "output_type": "stream",
     "text": [
      "INFO:root:WsRemoteService Exception ConnectionError: Connection error: https://localhost:8888/login\n"
     ]
    },
    {
     "name": "stdout",
     "output_type": "stream",
     "text": [
      "sleep 5\n"
     ]
    },
    {
     "name": "stderr",
     "output_type": "stream",
     "text": [
      "INFO:root:WsRemoteService Exception ConnectionError: Connection error: https://localhost:8888/login\n"
     ]
    },
    {
     "name": "stdout",
     "output_type": "stream",
     "text": [
      "sleep 5\n"
     ]
    },
    {
     "name": "stderr",
     "output_type": "stream",
     "text": [
      "INFO:root:WsRemoteService Exception ConnectionError: Connection error: https://localhost:8888/login\n"
     ]
    },
    {
     "name": "stdout",
     "output_type": "stream",
     "text": [
      "sleep 5\n"
     ]
    },
    {
     "name": "stderr",
     "output_type": "stream",
     "text": [
      "INFO:root:WsRemoteService Exception ConnectionError: Connection error: https://localhost:8888/login\n"
     ]
    },
    {
     "name": "stdout",
     "output_type": "stream",
     "text": [
      "sleep 5\n"
     ]
    },
    {
     "name": "stderr",
     "output_type": "stream",
     "text": [
      "INFO:root:WsRemoteService Exception ConnectionError: Connection error: https://localhost:8888/login\n"
     ]
    },
    {
     "name": "stdout",
     "output_type": "stream",
     "text": [
      "sleep 5\n"
     ]
    },
    {
     "name": "stderr",
     "output_type": "stream",
     "text": [
      "INFO:root:WsRemoteService Exception ConnectionError: Connection error: https://localhost:8888/login\n"
     ]
    },
    {
     "name": "stdout",
     "output_type": "stream",
     "text": [
      "sleep 5\n"
     ]
    },
    {
     "name": "stderr",
     "output_type": "stream",
     "text": [
      "INFO:root:WsRemoteService Exception ConnectionError: Connection error: https://localhost:8888/login\n"
     ]
    },
    {
     "name": "stdout",
     "output_type": "stream",
     "text": [
      "sleep 5\n"
     ]
    },
    {
     "name": "stderr",
     "output_type": "stream",
     "text": [
      "INFO:root:WsRemoteService Exception ConnectionError: Connection error: https://localhost:8888/login\n"
     ]
    },
    {
     "name": "stdout",
     "output_type": "stream",
     "text": [
      "sleep 5\n"
     ]
    },
    {
     "name": "stderr",
     "output_type": "stream",
     "text": [
      "INFO:root:WsRemoteService Exception ConnectionError: Connection error: https://localhost:8888/login\n"
     ]
    },
    {
     "name": "stdout",
     "output_type": "stream",
     "text": [
      "sleep 5\n"
     ]
    },
    {
     "name": "stderr",
     "output_type": "stream",
     "text": [
      "INFO:root:WsRemoteService Exception ConnectionError: Connection error: https://localhost:8888/login\n"
     ]
    },
    {
     "name": "stdout",
     "output_type": "stream",
     "text": [
      "sleep 5\n"
     ]
    },
    {
     "name": "stderr",
     "output_type": "stream",
     "text": [
      "INFO:root:WsRemoteService Exception ConnectionError: Connection error: https://localhost:8888/login\n"
     ]
    },
    {
     "name": "stdout",
     "output_type": "stream",
     "text": [
      "sleep 5\n"
     ]
    },
    {
     "name": "stderr",
     "output_type": "stream",
     "text": [
      "INFO:root:WsRemoteService Exception ConnectionError: Connection error: https://localhost:8888/login\n"
     ]
    },
    {
     "name": "stdout",
     "output_type": "stream",
     "text": [
      "sleep 5\n"
     ]
    },
    {
     "name": "stderr",
     "output_type": "stream",
     "text": [
      "INFO:root:WsRemoteService Exception ConnectionError: Connection error: https://localhost:8888/login\n"
     ]
    },
    {
     "name": "stdout",
     "output_type": "stream",
     "text": [
      "sleep 5\n"
     ]
    },
    {
     "name": "stderr",
     "output_type": "stream",
     "text": [
      "INFO:root:WsRemoteService Exception ConnectionError: Connection error: https://localhost:8888/login\n"
     ]
    },
    {
     "name": "stdout",
     "output_type": "stream",
     "text": [
      "sleep 5\n"
     ]
    },
    {
     "name": "stderr",
     "output_type": "stream",
     "text": [
      "INFO:root:WsRemoteService Exception ConnectionError: Connection error: https://localhost:8888/login\n"
     ]
    },
    {
     "name": "stdout",
     "output_type": "stream",
     "text": [
      "sleep 5\n"
     ]
    },
    {
     "name": "stderr",
     "output_type": "stream",
     "text": [
      "INFO:root:WsRemoteService Exception ConnectionError: Connection error: https://localhost:8888/login\n"
     ]
    },
    {
     "name": "stdout",
     "output_type": "stream",
     "text": [
      "sleep 5\n"
     ]
    },
    {
     "name": "stderr",
     "output_type": "stream",
     "text": [
      "INFO:root:WsRemoteService Exception ConnectionError: Connection error: https://localhost:8888/login\n"
     ]
    },
    {
     "name": "stdout",
     "output_type": "stream",
     "text": [
      "sleep 5\n"
     ]
    },
    {
     "name": "stderr",
     "output_type": "stream",
     "text": [
      "INFO:root:WsRemoteService Exception ConnectionError: Connection error: https://localhost:8888/login\n"
     ]
    },
    {
     "name": "stdout",
     "output_type": "stream",
     "text": [
      "sleep 5\n"
     ]
    },
    {
     "name": "stderr",
     "output_type": "stream",
     "text": [
      "INFO:root:WsRemoteService Exception ConnectionError: Connection error: https://localhost:8888/login\n"
     ]
    },
    {
     "name": "stdout",
     "output_type": "stream",
     "text": [
      "sleep 5\n"
     ]
    },
    {
     "name": "stderr",
     "output_type": "stream",
     "text": [
      "INFO:root:WsRemoteService Exception ConnectionError: Connection error: https://localhost:8888/login\n"
     ]
    },
    {
     "name": "stdout",
     "output_type": "stream",
     "text": [
      "sleep 5\n"
     ]
    },
    {
     "name": "stderr",
     "output_type": "stream",
     "text": [
      "INFO:root:WsRemoteService Exception ConnectionError: Connection error: https://localhost:8888/login\n"
     ]
    },
    {
     "name": "stdout",
     "output_type": "stream",
     "text": [
      "sleep 5\n"
     ]
    },
    {
     "name": "stderr",
     "output_type": "stream",
     "text": [
      "INFO:root:WsRemoteService Exception ConnectionError: Connection error: https://localhost:8888/login\n"
     ]
    },
    {
     "name": "stdout",
     "output_type": "stream",
     "text": [
      "sleep 5\n"
     ]
    },
    {
     "name": "stderr",
     "output_type": "stream",
     "text": [
      "INFO:root:WsRemoteService Exception ConnectionError: Connection error: https://localhost:8888/login\n"
     ]
    },
    {
     "name": "stdout",
     "output_type": "stream",
     "text": [
      "sleep 5\n"
     ]
    },
    {
     "name": "stderr",
     "output_type": "stream",
     "text": [
      "INFO:root:WsRemoteService Exception ConnectionError: Connection error: https://localhost:8888/login\n"
     ]
    },
    {
     "name": "stdout",
     "output_type": "stream",
     "text": [
      "sleep 5\n"
     ]
    },
    {
     "name": "stderr",
     "output_type": "stream",
     "text": [
      "INFO:root:WsRemoteService Exception ConnectionError: Connection error: https://localhost:8888/login\n"
     ]
    },
    {
     "name": "stdout",
     "output_type": "stream",
     "text": [
      "sleep 5\n"
     ]
    },
    {
     "name": "stderr",
     "output_type": "stream",
     "text": [
      "INFO:root:WsRemoteService Exception ConnectionError: Connection error: https://localhost:8888/login\n"
     ]
    },
    {
     "name": "stdout",
     "output_type": "stream",
     "text": [
      "sleep 5\n"
     ]
    },
    {
     "name": "stderr",
     "output_type": "stream",
     "text": [
      "INFO:root:WsRemoteService Exception ConnectionError: Connection error: https://localhost:8888/login\n"
     ]
    },
    {
     "name": "stdout",
     "output_type": "stream",
     "text": [
      "sleep 5\n"
     ]
    },
    {
     "name": "stderr",
     "output_type": "stream",
     "text": [
      "INFO:root:WsRemoteService Exception ConnectionError: Connection error: https://localhost:8888/login\n"
     ]
    },
    {
     "name": "stdout",
     "output_type": "stream",
     "text": [
      "sleep 5\n"
     ]
    },
    {
     "name": "stderr",
     "output_type": "stream",
     "text": [
      "INFO:root:WsRemoteService Exception ConnectionError: Connection error: https://localhost:8888/login\n"
     ]
    },
    {
     "name": "stdout",
     "output_type": "stream",
     "text": [
      "sleep 5\n"
     ]
    },
    {
     "name": "stderr",
     "output_type": "stream",
     "text": [
      "INFO:root:WsRemoteService Exception ConnectionError: Connection error: https://localhost:8888/login\n"
     ]
    },
    {
     "name": "stdout",
     "output_type": "stream",
     "text": [
      "sleep 5\n"
     ]
    },
    {
     "name": "stderr",
     "output_type": "stream",
     "text": [
      "INFO:root:WsRemoteService Exception ConnectionError: Connection error: https://localhost:8888/login\n"
     ]
    },
    {
     "name": "stdout",
     "output_type": "stream",
     "text": [
      "sleep 5\n"
     ]
    },
    {
     "name": "stderr",
     "output_type": "stream",
     "text": [
      "INFO:root:WsRemoteService Exception ConnectionError: Connection error: https://localhost:8888/login\n"
     ]
    },
    {
     "name": "stdout",
     "output_type": "stream",
     "text": [
      "sleep 5\n"
     ]
    },
    {
     "name": "stderr",
     "output_type": "stream",
     "text": [
      "INFO:root:WsRemoteService Exception ConnectionError: Connection error: https://localhost:8888/login\n"
     ]
    },
    {
     "name": "stdout",
     "output_type": "stream",
     "text": [
      "sleep 5\n"
     ]
    },
    {
     "name": "stderr",
     "output_type": "stream",
     "text": [
      "INFO:root:WsRemoteService Exception ConnectionError: Connection error: https://localhost:8888/login\n"
     ]
    },
    {
     "name": "stdout",
     "output_type": "stream",
     "text": [
      "sleep 5\n"
     ]
    },
    {
     "name": "stderr",
     "output_type": "stream",
     "text": [
      "INFO:root:WsRemoteService Exception ConnectionError: Connection error: https://localhost:8888/login\n"
     ]
    },
    {
     "name": "stdout",
     "output_type": "stream",
     "text": [
      "sleep 5\n"
     ]
    },
    {
     "name": "stderr",
     "output_type": "stream",
     "text": [
      "INFO:root:WsRemoteService Exception ConnectionError: Connection error: https://localhost:8888/login\n"
     ]
    },
    {
     "name": "stdout",
     "output_type": "stream",
     "text": [
      "sleep 5\n"
     ]
    },
    {
     "name": "stderr",
     "output_type": "stream",
     "text": [
      "INFO:root:WsRemoteService Exception ConnectionError: Connection error: https://localhost:8888/login\n"
     ]
    },
    {
     "name": "stdout",
     "output_type": "stream",
     "text": [
      "sleep 5\n"
     ]
    },
    {
     "name": "stderr",
     "output_type": "stream",
     "text": [
      "INFO:root:WsRemoteService Exception ConnectionError: Connection error: https://localhost:8888/login\n"
     ]
    },
    {
     "name": "stdout",
     "output_type": "stream",
     "text": [
      "sleep 5\n"
     ]
    },
    {
     "name": "stderr",
     "output_type": "stream",
     "text": [
      "INFO:root:WsRemoteService Exception ConnectionError: Connection error: https://localhost:8888/login\n"
     ]
    },
    {
     "name": "stdout",
     "output_type": "stream",
     "text": [
      "sleep 5\n"
     ]
    },
    {
     "name": "stderr",
     "output_type": "stream",
     "text": [
      "INFO:root:WsRemoteService Exception ConnectionError: Connection error: https://localhost:8888/login\n"
     ]
    },
    {
     "name": "stdout",
     "output_type": "stream",
     "text": [
      "sleep 5\n"
     ]
    },
    {
     "name": "stderr",
     "output_type": "stream",
     "text": [
      "INFO:root:WsRemoteService Exception ConnectionError: Connection error: https://localhost:8888/login\n"
     ]
    },
    {
     "name": "stdout",
     "output_type": "stream",
     "text": [
      "sleep 5\n"
     ]
    },
    {
     "name": "stderr",
     "output_type": "stream",
     "text": [
      "INFO:root:WsRemoteService Exception ConnectionError: Connection error: https://localhost:8888/login\n"
     ]
    },
    {
     "name": "stdout",
     "output_type": "stream",
     "text": [
      "sleep 5\n"
     ]
    },
    {
     "name": "stderr",
     "output_type": "stream",
     "text": [
      "INFO:root:WsRemoteService Exception ConnectionError: Connection error: https://localhost:8888/login\n"
     ]
    },
    {
     "name": "stdout",
     "output_type": "stream",
     "text": [
      "sleep 5\n"
     ]
    },
    {
     "name": "stderr",
     "output_type": "stream",
     "text": [
      "INFO:root:WsRemoteService Exception ConnectionError: Connection error: https://localhost:8888/login\n"
     ]
    },
    {
     "name": "stdout",
     "output_type": "stream",
     "text": [
      "sleep 5\n"
     ]
    },
    {
     "name": "stderr",
     "output_type": "stream",
     "text": [
      "INFO:root:WsRemoteService Exception ConnectionError: Connection error: https://localhost:8888/login\n"
     ]
    },
    {
     "name": "stdout",
     "output_type": "stream",
     "text": [
      "sleep 5\n"
     ]
    },
    {
     "name": "stderr",
     "output_type": "stream",
     "text": [
      "INFO:root:WsRemoteService Exception ConnectionError: Connection error: https://localhost:8888/login\n"
     ]
    },
    {
     "name": "stdout",
     "output_type": "stream",
     "text": [
      "sleep 5\n"
     ]
    },
    {
     "name": "stderr",
     "output_type": "stream",
     "text": [
      "INFO:root:WsRemoteService Exception ConnectionError: Connection error: https://localhost:8888/login\n"
     ]
    },
    {
     "name": "stdout",
     "output_type": "stream",
     "text": [
      "sleep 5\n"
     ]
    },
    {
     "name": "stderr",
     "output_type": "stream",
     "text": [
      "INFO:root:WsRemoteService Exception ConnectionError: Connection error: https://localhost:8888/login\n"
     ]
    },
    {
     "name": "stdout",
     "output_type": "stream",
     "text": [
      "sleep 5\n"
     ]
    },
    {
     "name": "stderr",
     "output_type": "stream",
     "text": [
      "INFO:root:WsRemoteService Exception ConnectionError: Connection error: https://localhost:8888/login\n"
     ]
    },
    {
     "name": "stdout",
     "output_type": "stream",
     "text": [
      "sleep 5\n"
     ]
    },
    {
     "name": "stderr",
     "output_type": "stream",
     "text": [
      "INFO:root:WsRemoteService Exception ConnectionError: Connection error: https://localhost:8888/login\n"
     ]
    },
    {
     "name": "stdout",
     "output_type": "stream",
     "text": [
      "sleep 5\n"
     ]
    },
    {
     "name": "stderr",
     "output_type": "stream",
     "text": [
      "INFO:root:WsRemoteService Exception ConnectionError: Connection error: https://localhost:8888/login\n"
     ]
    },
    {
     "name": "stdout",
     "output_type": "stream",
     "text": [
      "sleep 5\n"
     ]
    },
    {
     "name": "stderr",
     "output_type": "stream",
     "text": [
      "INFO:root:WsRemoteService Exception ConnectionError: Connection error: https://localhost:8888/login\n"
     ]
    },
    {
     "name": "stdout",
     "output_type": "stream",
     "text": [
      "sleep 5\n"
     ]
    },
    {
     "name": "stderr",
     "output_type": "stream",
     "text": [
      "INFO:root:WsRemoteService Exception ConnectionError: Connection error: https://localhost:8888/login\n"
     ]
    },
    {
     "name": "stdout",
     "output_type": "stream",
     "text": [
      "sleep 5\n"
     ]
    },
    {
     "name": "stderr",
     "output_type": "stream",
     "text": [
      "INFO:root:WsRemoteService Exception ConnectionError: Connection error: https://localhost:8888/login\n"
     ]
    },
    {
     "name": "stdout",
     "output_type": "stream",
     "text": [
      "sleep 5\n"
     ]
    },
    {
     "name": "stderr",
     "output_type": "stream",
     "text": [
      "INFO:root:WsRemoteService Exception ConnectionError: Connection error: https://localhost:8888/login\n"
     ]
    },
    {
     "name": "stdout",
     "output_type": "stream",
     "text": [
      "sleep 5\n"
     ]
    },
    {
     "name": "stderr",
     "output_type": "stream",
     "text": [
      "INFO:root:WsRemoteService Exception ConnectionError: Connection error: https://localhost:8888/login\n"
     ]
    },
    {
     "name": "stdout",
     "output_type": "stream",
     "text": [
      "sleep 5\n"
     ]
    },
    {
     "name": "stderr",
     "output_type": "stream",
     "text": [
      "INFO:root:WsRemoteService Exception ConnectionError: Connection error: https://localhost:8888/login\n"
     ]
    },
    {
     "name": "stdout",
     "output_type": "stream",
     "text": [
      "sleep 5\n"
     ]
    },
    {
     "name": "stderr",
     "output_type": "stream",
     "text": [
      "INFO:root:WsRemoteService Exception ConnectionError: Connection error: https://localhost:8888/login\n"
     ]
    },
    {
     "name": "stdout",
     "output_type": "stream",
     "text": [
      "sleep 5\n"
     ]
    },
    {
     "name": "stderr",
     "output_type": "stream",
     "text": [
      "INFO:root:WsRemoteService Exception ConnectionError: Connection error: https://localhost:8888/login\n"
     ]
    },
    {
     "name": "stdout",
     "output_type": "stream",
     "text": [
      "sleep 5\n"
     ]
    },
    {
     "name": "stderr",
     "output_type": "stream",
     "text": [
      "INFO:root:WsRemoteService Exception ConnectionError: Connection error: https://localhost:8888/login\n"
     ]
    },
    {
     "name": "stdout",
     "output_type": "stream",
     "text": [
      "sleep 5\n"
     ]
    },
    {
     "name": "stderr",
     "output_type": "stream",
     "text": [
      "INFO:root:WsRemoteService Exception ConnectionError: Connection error: https://localhost:8888/login\n"
     ]
    },
    {
     "name": "stdout",
     "output_type": "stream",
     "text": [
      "sleep 5\n"
     ]
    },
    {
     "name": "stderr",
     "output_type": "stream",
     "text": [
      "INFO:root:WsRemoteService Exception ConnectionError: Connection error: https://localhost:8888/login\n"
     ]
    },
    {
     "name": "stdout",
     "output_type": "stream",
     "text": [
      "sleep 5\n"
     ]
    },
    {
     "name": "stderr",
     "output_type": "stream",
     "text": [
      "INFO:root:WsRemoteService Exception ConnectionError: Connection error: https://localhost:8888/login\n"
     ]
    },
    {
     "name": "stdout",
     "output_type": "stream",
     "text": [
      "sleep 5\n"
     ]
    },
    {
     "name": "stderr",
     "output_type": "stream",
     "text": [
      "INFO:root:WsRemoteService Exception ConnectionError: Connection error: https://localhost:8888/login\n"
     ]
    },
    {
     "name": "stdout",
     "output_type": "stream",
     "text": [
      "sleep 5\n"
     ]
    },
    {
     "name": "stderr",
     "output_type": "stream",
     "text": [
      "INFO:root:WsRemoteService Exception ConnectionError: Connection error: https://localhost:8888/login\n"
     ]
    },
    {
     "name": "stdout",
     "output_type": "stream",
     "text": [
      "sleep 5\n"
     ]
    },
    {
     "name": "stderr",
     "output_type": "stream",
     "text": [
      "INFO:root:WsRemoteService Exception ConnectionError: Connection error: https://localhost:8888/login\n"
     ]
    },
    {
     "name": "stdout",
     "output_type": "stream",
     "text": [
      "sleep 5\n"
     ]
    },
    {
     "name": "stderr",
     "output_type": "stream",
     "text": [
      "INFO:root:WsRemoteService Exception ConnectionError: Connection error: https://localhost:8888/login\n"
     ]
    },
    {
     "name": "stdout",
     "output_type": "stream",
     "text": [
      "sleep 5\n"
     ]
    },
    {
     "name": "stderr",
     "output_type": "stream",
     "text": [
      "INFO:root:WsRemoteService Exception ConnectionError: Connection error: https://localhost:8888/login\n"
     ]
    },
    {
     "name": "stdout",
     "output_type": "stream",
     "text": [
      "sleep 5\n"
     ]
    },
    {
     "name": "stderr",
     "output_type": "stream",
     "text": [
      "INFO:root:WsRemoteService Exception ConnectionError: Connection error: https://localhost:8888/login\n"
     ]
    },
    {
     "name": "stdout",
     "output_type": "stream",
     "text": [
      "sleep 5\n"
     ]
    },
    {
     "name": "stderr",
     "output_type": "stream",
     "text": [
      "INFO:root:WsRemoteService Exception ConnectionError: Connection error: https://localhost:8888/login\n"
     ]
    },
    {
     "name": "stdout",
     "output_type": "stream",
     "text": [
      "sleep 5\n"
     ]
    },
    {
     "name": "stderr",
     "output_type": "stream",
     "text": [
      "INFO:root:WsRemoteService Exception ConnectionError: Connection error: https://localhost:8888/login\n"
     ]
    },
    {
     "name": "stdout",
     "output_type": "stream",
     "text": [
      "sleep 5\n"
     ]
    },
    {
     "name": "stderr",
     "output_type": "stream",
     "text": [
      "INFO:root:WsRemoteService Exception ConnectionError: Connection error: https://localhost:8888/login\n"
     ]
    },
    {
     "name": "stdout",
     "output_type": "stream",
     "text": [
      "sleep 5\n"
     ]
    },
    {
     "name": "stderr",
     "output_type": "stream",
     "text": [
      "INFO:root:WsRemoteService Exception ConnectionError: Connection error: https://localhost:8888/login\n"
     ]
    },
    {
     "name": "stdout",
     "output_type": "stream",
     "text": [
      "sleep 5\n"
     ]
    },
    {
     "name": "stderr",
     "output_type": "stream",
     "text": [
      "INFO:root:WsRemoteService Exception ConnectionError: Connection error: https://localhost:8888/login\n"
     ]
    },
    {
     "name": "stdout",
     "output_type": "stream",
     "text": [
      "sleep 5\n"
     ]
    },
    {
     "name": "stderr",
     "output_type": "stream",
     "text": [
      "INFO:root:WsRemoteService Exception ConnectionError: Connection error: https://localhost:8888/login\n"
     ]
    },
    {
     "name": "stdout",
     "output_type": "stream",
     "text": [
      "sleep 5\n"
     ]
    },
    {
     "name": "stderr",
     "output_type": "stream",
     "text": [
      "INFO:root:WsRemoteService Exception ConnectionError: Connection error: https://localhost:8888/login\n"
     ]
    },
    {
     "name": "stdout",
     "output_type": "stream",
     "text": [
      "sleep 5\n"
     ]
    },
    {
     "name": "stderr",
     "output_type": "stream",
     "text": [
      "INFO:root:WsRemoteService Exception ConnectionError: Connection error: https://localhost:8888/login\n"
     ]
    },
    {
     "name": "stdout",
     "output_type": "stream",
     "text": [
      "sleep 5\n"
     ]
    },
    {
     "name": "stderr",
     "output_type": "stream",
     "text": [
      "INFO:root:WsRemoteService Exception ConnectionError: Connection error: https://localhost:8888/login\n"
     ]
    },
    {
     "name": "stdout",
     "output_type": "stream",
     "text": [
      "sleep 5\n"
     ]
    },
    {
     "name": "stderr",
     "output_type": "stream",
     "text": [
      "INFO:root:WsRemoteService Exception ConnectionError: Connection error: https://localhost:8888/login\n"
     ]
    },
    {
     "name": "stdout",
     "output_type": "stream",
     "text": [
      "sleep 5\n"
     ]
    },
    {
     "name": "stderr",
     "output_type": "stream",
     "text": [
      "INFO:root:WsRemoteService Exception ConnectionError: Connection error: https://localhost:8888/login\n"
     ]
    },
    {
     "name": "stdout",
     "output_type": "stream",
     "text": [
      "sleep 5\n"
     ]
    },
    {
     "name": "stderr",
     "output_type": "stream",
     "text": [
      "INFO:root:WsRemoteService Exception ConnectionError: Connection error: https://localhost:8888/login\n"
     ]
    },
    {
     "name": "stdout",
     "output_type": "stream",
     "text": [
      "sleep 5\n"
     ]
    },
    {
     "name": "stderr",
     "output_type": "stream",
     "text": [
      "INFO:root:WsRemoteService Exception ConnectionError: Connection error: https://localhost:8888/login\n"
     ]
    },
    {
     "name": "stdout",
     "output_type": "stream",
     "text": [
      "sleep 5\n"
     ]
    },
    {
     "name": "stderr",
     "output_type": "stream",
     "text": [
      "INFO:root:WsRemoteService Exception ConnectionError: Connection error: https://localhost:8888/login\n"
     ]
    },
    {
     "name": "stdout",
     "output_type": "stream",
     "text": [
      "sleep 5\n"
     ]
    },
    {
     "name": "stderr",
     "output_type": "stream",
     "text": [
      "INFO:root:WsRemoteService Exception ConnectionError: Connection error: https://localhost:8888/login\n"
     ]
    },
    {
     "name": "stdout",
     "output_type": "stream",
     "text": [
      "sleep 5\n"
     ]
    },
    {
     "name": "stderr",
     "output_type": "stream",
     "text": [
      "INFO:root:WsRemoteService Exception ConnectionError: Connection error: https://localhost:8888/login\n"
     ]
    },
    {
     "name": "stdout",
     "output_type": "stream",
     "text": [
      "sleep 5\n"
     ]
    },
    {
     "name": "stderr",
     "output_type": "stream",
     "text": [
      "INFO:root:WsRemoteService Exception ConnectionError: Connection error: https://localhost:8888/login\n"
     ]
    },
    {
     "name": "stdout",
     "output_type": "stream",
     "text": [
      "sleep 5\n"
     ]
    },
    {
     "name": "stderr",
     "output_type": "stream",
     "text": [
      "INFO:root:WsRemoteService Exception ConnectionError: Connection error: https://localhost:8888/login\n"
     ]
    },
    {
     "name": "stdout",
     "output_type": "stream",
     "text": [
      "sleep 5\n"
     ]
    },
    {
     "name": "stderr",
     "output_type": "stream",
     "text": [
      "INFO:root:WsRemoteService Exception ConnectionError: Connection error: https://localhost:8888/login\n"
     ]
    },
    {
     "name": "stdout",
     "output_type": "stream",
     "text": [
      "sleep 5\n"
     ]
    },
    {
     "name": "stderr",
     "output_type": "stream",
     "text": [
      "INFO:root:WsRemoteService Exception ConnectionError: Connection error: https://localhost:8888/login\n"
     ]
    },
    {
     "name": "stdout",
     "output_type": "stream",
     "text": [
      "sleep 5\n"
     ]
    },
    {
     "name": "stderr",
     "output_type": "stream",
     "text": [
      "INFO:root:WsRemoteService Exception ConnectionError: Connection error: https://localhost:8888/login\n"
     ]
    },
    {
     "name": "stdout",
     "output_type": "stream",
     "text": [
      "sleep 5\n"
     ]
    },
    {
     "name": "stderr",
     "output_type": "stream",
     "text": [
      "INFO:root:WsRemoteService Exception ConnectionError: Connection error: https://localhost:8888/login\n"
     ]
    },
    {
     "name": "stdout",
     "output_type": "stream",
     "text": [
      "sleep 5\n"
     ]
    },
    {
     "name": "stderr",
     "output_type": "stream",
     "text": [
      "INFO:root:WsRemoteService Exception ConnectionError: Connection error: https://localhost:8888/login\n"
     ]
    },
    {
     "name": "stdout",
     "output_type": "stream",
     "text": [
      "sleep 5\n"
     ]
    },
    {
     "name": "stderr",
     "output_type": "stream",
     "text": [
      "INFO:root:WsRemoteService Exception ConnectionError: Connection error: https://localhost:8888/login\n"
     ]
    },
    {
     "name": "stdout",
     "output_type": "stream",
     "text": [
      "sleep 5\n"
     ]
    },
    {
     "name": "stderr",
     "output_type": "stream",
     "text": [
      "INFO:root:WsRemoteService Exception ConnectionError: Connection error: https://localhost:8888/login\n"
     ]
    },
    {
     "name": "stdout",
     "output_type": "stream",
     "text": [
      "sleep 5\n"
     ]
    },
    {
     "name": "stderr",
     "output_type": "stream",
     "text": [
      "INFO:root:WsRemoteService Exception ConnectionError: Connection error: https://localhost:8888/login\n"
     ]
    },
    {
     "name": "stdout",
     "output_type": "stream",
     "text": [
      "sleep 5\n"
     ]
    },
    {
     "name": "stderr",
     "output_type": "stream",
     "text": [
      "INFO:root:WsRemoteService Exception ConnectionError: Connection error: https://localhost:8888/login\n"
     ]
    },
    {
     "name": "stdout",
     "output_type": "stream",
     "text": [
      "sleep 5\n"
     ]
    },
    {
     "name": "stderr",
     "output_type": "stream",
     "text": [
      "INFO:root:WsRemoteService Exception ConnectionError: Connection error: https://localhost:8888/login\n"
     ]
    },
    {
     "name": "stdout",
     "output_type": "stream",
     "text": [
      "sleep 5\n"
     ]
    },
    {
     "name": "stderr",
     "output_type": "stream",
     "text": [
      "INFO:root:WsRemoteService Exception ConnectionError: Connection error: https://localhost:8888/login\n"
     ]
    },
    {
     "name": "stdout",
     "output_type": "stream",
     "text": [
      "sleep 5\n"
     ]
    },
    {
     "name": "stderr",
     "output_type": "stream",
     "text": [
      "INFO:root:WsRemoteService Exception ConnectionError: Connection error: https://localhost:8888/login\n"
     ]
    },
    {
     "name": "stdout",
     "output_type": "stream",
     "text": [
      "sleep 5\n"
     ]
    },
    {
     "name": "stderr",
     "output_type": "stream",
     "text": [
      "INFO:root:WsRemoteService Exception ConnectionError: Connection error: https://localhost:8888/login\n"
     ]
    },
    {
     "name": "stdout",
     "output_type": "stream",
     "text": [
      "sleep 5\n"
     ]
    },
    {
     "name": "stderr",
     "output_type": "stream",
     "text": [
      "INFO:root:WsRemoteService Exception ConnectionError: Connection error: https://localhost:8888/login\n"
     ]
    },
    {
     "name": "stdout",
     "output_type": "stream",
     "text": [
      "sleep 5\n"
     ]
    },
    {
     "name": "stderr",
     "output_type": "stream",
     "text": [
      "INFO:root:WsRemoteService Exception ConnectionError: Connection error: https://localhost:8888/login\n"
     ]
    },
    {
     "name": "stdout",
     "output_type": "stream",
     "text": [
      "sleep 5\n"
     ]
    },
    {
     "name": "stderr",
     "output_type": "stream",
     "text": [
      "INFO:root:WsRemoteService Exception ConnectionError: Connection error: https://localhost:8888/login\n"
     ]
    },
    {
     "name": "stdout",
     "output_type": "stream",
     "text": [
      "sleep 5\n"
     ]
    },
    {
     "name": "stderr",
     "output_type": "stream",
     "text": [
      "INFO:root:WsRemoteService Exception ConnectionError: Connection error: https://localhost:8888/login\n"
     ]
    },
    {
     "name": "stdout",
     "output_type": "stream",
     "text": [
      "sleep 5\n"
     ]
    },
    {
     "name": "stderr",
     "output_type": "stream",
     "text": [
      "INFO:root:WsRemoteService Exception ConnectionError: Connection error: https://localhost:8888/login\n"
     ]
    },
    {
     "name": "stdout",
     "output_type": "stream",
     "text": [
      "sleep 5\n"
     ]
    },
    {
     "name": "stderr",
     "output_type": "stream",
     "text": [
      "INFO:root:WsRemoteService Exception ConnectionError: Connection error: https://localhost:8888/login\n"
     ]
    },
    {
     "name": "stdout",
     "output_type": "stream",
     "text": [
      "sleep 5\n"
     ]
    },
    {
     "name": "stderr",
     "output_type": "stream",
     "text": [
      "INFO:root:WsRemoteService Exception ConnectionError: Connection error: https://localhost:8888/login\n"
     ]
    },
    {
     "name": "stdout",
     "output_type": "stream",
     "text": [
      "sleep 5\n"
     ]
    },
    {
     "name": "stderr",
     "output_type": "stream",
     "text": [
      "INFO:root:WsRemoteService Exception ConnectionError: Connection error: https://localhost:8888/login\n"
     ]
    },
    {
     "name": "stdout",
     "output_type": "stream",
     "text": [
      "sleep 5\n"
     ]
    },
    {
     "name": "stderr",
     "output_type": "stream",
     "text": [
      "INFO:root:WsRemoteService Exception ConnectionError: Connection error: https://localhost:8888/login\n"
     ]
    },
    {
     "name": "stdout",
     "output_type": "stream",
     "text": [
      "sleep 5\n"
     ]
    },
    {
     "name": "stderr",
     "output_type": "stream",
     "text": [
      "INFO:root:WsRemoteService Exception ConnectionError: Connection error: https://localhost:8888/login\n"
     ]
    },
    {
     "name": "stdout",
     "output_type": "stream",
     "text": [
      "sleep 5\n"
     ]
    },
    {
     "name": "stderr",
     "output_type": "stream",
     "text": [
      "INFO:root:WsRemoteService Exception ConnectionError: Connection error: https://localhost:8888/login\n"
     ]
    },
    {
     "name": "stdout",
     "output_type": "stream",
     "text": [
      "sleep 5\n"
     ]
    },
    {
     "name": "stderr",
     "output_type": "stream",
     "text": [
      "INFO:root:WsRemoteService Exception ConnectionError: Connection error: https://localhost:8888/login\n"
     ]
    },
    {
     "name": "stdout",
     "output_type": "stream",
     "text": [
      "sleep 5\n"
     ]
    },
    {
     "name": "stderr",
     "output_type": "stream",
     "text": [
      "INFO:root:WsRemoteService Exception ConnectionError: Connection error: https://localhost:8888/login\n"
     ]
    },
    {
     "name": "stdout",
     "output_type": "stream",
     "text": [
      "sleep 5\n"
     ]
    },
    {
     "name": "stderr",
     "output_type": "stream",
     "text": [
      "INFO:root:WsRemoteService Exception ConnectionError: Connection error: https://localhost:8888/login\n"
     ]
    },
    {
     "name": "stdout",
     "output_type": "stream",
     "text": [
      "sleep 5\n"
     ]
    },
    {
     "name": "stderr",
     "output_type": "stream",
     "text": [
      "INFO:root:WsRemoteService Exception ConnectionError: Connection error: https://localhost:8888/login\n"
     ]
    },
    {
     "name": "stdout",
     "output_type": "stream",
     "text": [
      "sleep 5\n"
     ]
    },
    {
     "name": "stderr",
     "output_type": "stream",
     "text": [
      "INFO:root:WsRemoteService Exception ConnectionError: Connection error: https://localhost:8888/login\n"
     ]
    },
    {
     "name": "stdout",
     "output_type": "stream",
     "text": [
      "sleep 5\n"
     ]
    },
    {
     "name": "stderr",
     "output_type": "stream",
     "text": [
      "INFO:root:WsRemoteService Exception ConnectionError: Connection error: https://localhost:8888/login\n"
     ]
    },
    {
     "name": "stdout",
     "output_type": "stream",
     "text": [
      "sleep 5\n"
     ]
    },
    {
     "name": "stderr",
     "output_type": "stream",
     "text": [
      "INFO:root:WsRemoteService Exception ConnectionError: Connection error: https://localhost:8888/login\n"
     ]
    },
    {
     "name": "stdout",
     "output_type": "stream",
     "text": [
      "sleep 5\n"
     ]
    },
    {
     "name": "stderr",
     "output_type": "stream",
     "text": [
      "INFO:root:WsRemoteService Exception ConnectionError: Connection error: https://localhost:8888/login\n"
     ]
    },
    {
     "name": "stdout",
     "output_type": "stream",
     "text": [
      "sleep 5\n"
     ]
    },
    {
     "name": "stderr",
     "output_type": "stream",
     "text": [
      "INFO:root:WsRemoteService Exception ConnectionError: Connection error: https://localhost:8888/login\n"
     ]
    },
    {
     "name": "stdout",
     "output_type": "stream",
     "text": [
      "sleep 5\n"
     ]
    },
    {
     "name": "stderr",
     "output_type": "stream",
     "text": [
      "INFO:root:WsRemoteService Exception ConnectionError: Connection error: https://localhost:8888/login\n"
     ]
    },
    {
     "name": "stdout",
     "output_type": "stream",
     "text": [
      "sleep 5\n"
     ]
    },
    {
     "name": "stderr",
     "output_type": "stream",
     "text": [
      "INFO:root:WsRemoteService Exception ConnectionError: Connection error: https://localhost:8888/login\n"
     ]
    },
    {
     "name": "stdout",
     "output_type": "stream",
     "text": [
      "sleep 5\n"
     ]
    },
    {
     "name": "stderr",
     "output_type": "stream",
     "text": [
      "INFO:root:WsRemoteService Exception ConnectionError: Connection error: https://localhost:8888/login\n"
     ]
    },
    {
     "name": "stdout",
     "output_type": "stream",
     "text": [
      "sleep 5\n"
     ]
    },
    {
     "name": "stderr",
     "output_type": "stream",
     "text": [
      "INFO:root:WsRemoteService Exception ConnectionError: Connection error: https://localhost:8888/login\n"
     ]
    },
    {
     "name": "stdout",
     "output_type": "stream",
     "text": [
      "sleep 5\n"
     ]
    },
    {
     "name": "stderr",
     "output_type": "stream",
     "text": [
      "INFO:root:WsRemoteService Exception ConnectionError: Connection error: https://localhost:8888/login\n"
     ]
    },
    {
     "name": "stdout",
     "output_type": "stream",
     "text": [
      "sleep 5\n"
     ]
    },
    {
     "name": "stderr",
     "output_type": "stream",
     "text": [
      "INFO:root:WsRemoteService Exception ConnectionError: Connection error: https://localhost:8888/login\n"
     ]
    },
    {
     "name": "stdout",
     "output_type": "stream",
     "text": [
      "sleep 5\n"
     ]
    },
    {
     "name": "stderr",
     "output_type": "stream",
     "text": [
      "INFO:root:WsRemoteService Exception ConnectionError: Connection error: https://localhost:8888/login\n"
     ]
    },
    {
     "name": "stdout",
     "output_type": "stream",
     "text": [
      "sleep 5\n"
     ]
    },
    {
     "name": "stderr",
     "output_type": "stream",
     "text": [
      "INFO:root:WsRemoteService Exception ConnectionError: Connection error: https://localhost:8888/login\n"
     ]
    },
    {
     "name": "stdout",
     "output_type": "stream",
     "text": [
      "sleep 5\n"
     ]
    },
    {
     "name": "stderr",
     "output_type": "stream",
     "text": [
      "INFO:root:WsRemoteService Exception ConnectionError: Connection error: https://localhost:8888/login\n"
     ]
    },
    {
     "name": "stdout",
     "output_type": "stream",
     "text": [
      "sleep 5\n"
     ]
    },
    {
     "name": "stderr",
     "output_type": "stream",
     "text": [
      "INFO:root:WsRemoteService Exception ConnectionError: Connection error: https://localhost:8888/login\n"
     ]
    },
    {
     "name": "stdout",
     "output_type": "stream",
     "text": [
      "sleep 5\n"
     ]
    },
    {
     "name": "stderr",
     "output_type": "stream",
     "text": [
      "INFO:root:WsRemoteService Exception ConnectionError: Connection error: https://localhost:8888/login\n"
     ]
    },
    {
     "name": "stdout",
     "output_type": "stream",
     "text": [
      "sleep 5\n"
     ]
    },
    {
     "name": "stderr",
     "output_type": "stream",
     "text": [
      "INFO:root:WsRemoteService Exception ConnectionError: Connection error: https://localhost:8888/login\n"
     ]
    },
    {
     "name": "stdout",
     "output_type": "stream",
     "text": [
      "sleep 5\n"
     ]
    },
    {
     "name": "stderr",
     "output_type": "stream",
     "text": [
      "INFO:root:WsRemoteService Exception ConnectionError: Connection error: https://localhost:8888/login\n"
     ]
    },
    {
     "name": "stdout",
     "output_type": "stream",
     "text": [
      "sleep 5\n"
     ]
    },
    {
     "name": "stderr",
     "output_type": "stream",
     "text": [
      "INFO:root:WsRemoteService Exception ConnectionError: Connection error: https://localhost:8888/login\n"
     ]
    },
    {
     "name": "stdout",
     "output_type": "stream",
     "text": [
      "sleep 5\n"
     ]
    },
    {
     "name": "stderr",
     "output_type": "stream",
     "text": [
      "INFO:root:WsRemoteService Exception ConnectionError: Connection error: https://localhost:8888/login\n"
     ]
    },
    {
     "name": "stdout",
     "output_type": "stream",
     "text": [
      "sleep 5\n"
     ]
    },
    {
     "name": "stderr",
     "output_type": "stream",
     "text": [
      "INFO:root:WsRemoteService Exception ConnectionError: Connection error: https://localhost:8888/login\n"
     ]
    },
    {
     "name": "stdout",
     "output_type": "stream",
     "text": [
      "sleep 5\n"
     ]
    },
    {
     "name": "stderr",
     "output_type": "stream",
     "text": [
      "INFO:root:WsRemoteService Exception ConnectionError: Connection error: https://localhost:8888/login\n"
     ]
    },
    {
     "name": "stdout",
     "output_type": "stream",
     "text": [
      "sleep 5\n"
     ]
    },
    {
     "name": "stderr",
     "output_type": "stream",
     "text": [
      "INFO:root:WsRemoteService Exception ConnectionError: Connection error: https://localhost:8888/login\n"
     ]
    },
    {
     "name": "stdout",
     "output_type": "stream",
     "text": [
      "sleep 5\n"
     ]
    },
    {
     "name": "stderr",
     "output_type": "stream",
     "text": [
      "INFO:root:WsRemoteService Exception ConnectionError: Connection error: https://localhost:8888/login\n"
     ]
    },
    {
     "name": "stdout",
     "output_type": "stream",
     "text": [
      "sleep 5\n"
     ]
    },
    {
     "name": "stderr",
     "output_type": "stream",
     "text": [
      "INFO:root:WsRemoteService Exception ConnectionError: Connection error: https://localhost:8888/login\n"
     ]
    },
    {
     "name": "stdout",
     "output_type": "stream",
     "text": [
      "sleep 5\n"
     ]
    },
    {
     "name": "stderr",
     "output_type": "stream",
     "text": [
      "INFO:root:WsRemoteService Exception ConnectionError: Connection error: https://localhost:8888/login\n"
     ]
    },
    {
     "name": "stdout",
     "output_type": "stream",
     "text": [
      "sleep 5\n"
     ]
    },
    {
     "name": "stderr",
     "output_type": "stream",
     "text": [
      "INFO:root:WsRemoteService Exception ConnectionError: Connection error: https://localhost:8888/login\n"
     ]
    },
    {
     "name": "stdout",
     "output_type": "stream",
     "text": [
      "sleep 5\n"
     ]
    },
    {
     "name": "stderr",
     "output_type": "stream",
     "text": [
      "INFO:root:WsRemoteService Exception ConnectionError: Connection error: https://localhost:8888/login\n"
     ]
    },
    {
     "name": "stdout",
     "output_type": "stream",
     "text": [
      "sleep 5\n"
     ]
    },
    {
     "name": "stderr",
     "output_type": "stream",
     "text": [
      "INFO:root:WsRemoteService Exception ConnectionError: Connection error: https://localhost:8888/login\n"
     ]
    },
    {
     "name": "stdout",
     "output_type": "stream",
     "text": [
      "sleep 5\n"
     ]
    },
    {
     "name": "stderr",
     "output_type": "stream",
     "text": [
      "INFO:root:WsRemoteService Exception ConnectionError: Connection error: https://localhost:8888/login\n"
     ]
    },
    {
     "name": "stdout",
     "output_type": "stream",
     "text": [
      "sleep 5\n"
     ]
    },
    {
     "name": "stderr",
     "output_type": "stream",
     "text": [
      "INFO:root:WsRemoteService Exception ConnectionError: Connection error: https://localhost:8888/login\n"
     ]
    },
    {
     "name": "stdout",
     "output_type": "stream",
     "text": [
      "sleep 5\n"
     ]
    },
    {
     "name": "stderr",
     "output_type": "stream",
     "text": [
      "INFO:root:WsRemoteService Exception ConnectionError: Connection error: https://localhost:8888/login\n"
     ]
    },
    {
     "name": "stdout",
     "output_type": "stream",
     "text": [
      "sleep 5\n"
     ]
    },
    {
     "name": "stderr",
     "output_type": "stream",
     "text": [
      "INFO:root:WsRemoteService Exception ConnectionError: Connection error: https://localhost:8888/login\n"
     ]
    },
    {
     "name": "stdout",
     "output_type": "stream",
     "text": [
      "sleep 5\n"
     ]
    },
    {
     "name": "stderr",
     "output_type": "stream",
     "text": [
      "INFO:root:WsRemoteService Exception ConnectionError: Connection error: https://localhost:8888/login\n"
     ]
    },
    {
     "name": "stdout",
     "output_type": "stream",
     "text": [
      "sleep 5\n"
     ]
    },
    {
     "name": "stderr",
     "output_type": "stream",
     "text": [
      "INFO:root:WsRemoteService Exception ConnectionError: Connection error: https://localhost:8888/login\n"
     ]
    },
    {
     "name": "stdout",
     "output_type": "stream",
     "text": [
      "sleep 5\n"
     ]
    },
    {
     "name": "stderr",
     "output_type": "stream",
     "text": [
      "INFO:root:WsRemoteService Exception ConnectionError: Connection error: https://localhost:8888/login\n"
     ]
    },
    {
     "name": "stdout",
     "output_type": "stream",
     "text": [
      "sleep 5\n"
     ]
    },
    {
     "name": "stderr",
     "output_type": "stream",
     "text": [
      "INFO:root:WsRemoteService Exception ConnectionError: Connection error: https://localhost:8888/login\n"
     ]
    },
    {
     "name": "stdout",
     "output_type": "stream",
     "text": [
      "sleep 5\n"
     ]
    },
    {
     "name": "stderr",
     "output_type": "stream",
     "text": [
      "INFO:root:WsRemoteService Exception ConnectionError: Connection error: https://localhost:8888/login\n"
     ]
    },
    {
     "name": "stdout",
     "output_type": "stream",
     "text": [
      "sleep 5\n"
     ]
    },
    {
     "name": "stderr",
     "output_type": "stream",
     "text": [
      "INFO:root:WsRemoteService Exception ConnectionError: Connection error: https://localhost:8888/login\n"
     ]
    },
    {
     "name": "stdout",
     "output_type": "stream",
     "text": [
      "sleep 5\n"
     ]
    },
    {
     "name": "stderr",
     "output_type": "stream",
     "text": [
      "INFO:root:WsRemoteService Exception ConnectionError: Connection error: https://localhost:8888/login\n"
     ]
    },
    {
     "name": "stdout",
     "output_type": "stream",
     "text": [
      "sleep 5\n"
     ]
    },
    {
     "name": "stderr",
     "output_type": "stream",
     "text": [
      "INFO:root:WsRemoteService Exception ConnectionError: Connection error: https://localhost:8888/login\n"
     ]
    },
    {
     "name": "stdout",
     "output_type": "stream",
     "text": [
      "sleep 5\n"
     ]
    },
    {
     "name": "stderr",
     "output_type": "stream",
     "text": [
      "INFO:root:WsRemoteService Exception ConnectionError: Connection error: https://localhost:8888/login\n"
     ]
    },
    {
     "name": "stdout",
     "output_type": "stream",
     "text": [
      "sleep 5\n"
     ]
    },
    {
     "name": "stderr",
     "output_type": "stream",
     "text": [
      "INFO:root:WsRemoteService Exception ConnectionError: Connection error: https://localhost:8888/login\n"
     ]
    },
    {
     "name": "stdout",
     "output_type": "stream",
     "text": [
      "sleep 5\n"
     ]
    },
    {
     "name": "stderr",
     "output_type": "stream",
     "text": [
      "INFO:root:WsRemoteService Exception ConnectionError: Connection error: https://localhost:8888/login\n"
     ]
    },
    {
     "name": "stdout",
     "output_type": "stream",
     "text": [
      "sleep 5\n"
     ]
    },
    {
     "name": "stderr",
     "output_type": "stream",
     "text": [
      "INFO:root:WsRemoteService Exception ConnectionError: Connection error: https://localhost:8888/login\n"
     ]
    },
    {
     "name": "stdout",
     "output_type": "stream",
     "text": [
      "sleep 5\n"
     ]
    },
    {
     "name": "stderr",
     "output_type": "stream",
     "text": [
      "INFO:root:WsRemoteService Exception ConnectionError: Connection error: https://localhost:8888/login\n"
     ]
    },
    {
     "name": "stdout",
     "output_type": "stream",
     "text": [
      "sleep 5\n"
     ]
    },
    {
     "name": "stderr",
     "output_type": "stream",
     "text": [
      "INFO:root:WsRemoteService Exception ConnectionError: Connection error: https://localhost:8888/login\n"
     ]
    },
    {
     "name": "stdout",
     "output_type": "stream",
     "text": [
      "sleep 5\n"
     ]
    },
    {
     "name": "stderr",
     "output_type": "stream",
     "text": [
      "INFO:root:WsRemoteService Exception ConnectionError: Connection error: https://localhost:8888/login\n"
     ]
    },
    {
     "name": "stdout",
     "output_type": "stream",
     "text": [
      "sleep 5\n"
     ]
    },
    {
     "name": "stderr",
     "output_type": "stream",
     "text": [
      "INFO:root:WsRemoteService Exception ConnectionError: Connection error: https://localhost:8888/login\n"
     ]
    },
    {
     "name": "stdout",
     "output_type": "stream",
     "text": [
      "sleep 5\n"
     ]
    },
    {
     "name": "stderr",
     "output_type": "stream",
     "text": [
      "INFO:root:WsRemoteService Exception ConnectionError: Connection error: https://localhost:8888/login\n"
     ]
    },
    {
     "name": "stdout",
     "output_type": "stream",
     "text": [
      "sleep 5\n"
     ]
    },
    {
     "name": "stderr",
     "output_type": "stream",
     "text": [
      "INFO:root:WsRemoteService Exception ConnectionError: Connection error: https://localhost:8888/login\n"
     ]
    },
    {
     "name": "stdout",
     "output_type": "stream",
     "text": [
      "sleep 5\n"
     ]
    },
    {
     "name": "stderr",
     "output_type": "stream",
     "text": [
      "INFO:root:WsRemoteService Exception ConnectionError: Connection error: https://localhost:8888/login\n"
     ]
    },
    {
     "name": "stdout",
     "output_type": "stream",
     "text": [
      "sleep 5\n"
     ]
    },
    {
     "name": "stderr",
     "output_type": "stream",
     "text": [
      "INFO:root:WsRemoteService Exception ConnectionError: Connection error: https://localhost:8888/login\n"
     ]
    },
    {
     "name": "stdout",
     "output_type": "stream",
     "text": [
      "sleep 5\n"
     ]
    },
    {
     "name": "stderr",
     "output_type": "stream",
     "text": [
      "INFO:root:WsRemoteService Exception ConnectionError: Connection error: https://localhost:8888/login\n"
     ]
    },
    {
     "name": "stdout",
     "output_type": "stream",
     "text": [
      "sleep 5\n"
     ]
    },
    {
     "name": "stderr",
     "output_type": "stream",
     "text": [
      "INFO:root:WsRemoteService Exception ConnectionError: Connection error: https://localhost:8888/login\n"
     ]
    },
    {
     "name": "stdout",
     "output_type": "stream",
     "text": [
      "sleep 5\n"
     ]
    },
    {
     "name": "stderr",
     "output_type": "stream",
     "text": [
      "INFO:root:WsRemoteService Exception ConnectionError: Connection error: https://localhost:8888/login\n"
     ]
    },
    {
     "name": "stdout",
     "output_type": "stream",
     "text": [
      "sleep 5\n"
     ]
    },
    {
     "name": "stderr",
     "output_type": "stream",
     "text": [
      "INFO:root:WsRemoteService Exception ConnectionError: Connection error: https://localhost:8888/login\n"
     ]
    },
    {
     "name": "stdout",
     "output_type": "stream",
     "text": [
      "sleep 5\n"
     ]
    },
    {
     "name": "stderr",
     "output_type": "stream",
     "text": [
      "INFO:root:WsRemoteService Exception ConnectionError: Connection error: https://localhost:8888/login\n"
     ]
    },
    {
     "name": "stdout",
     "output_type": "stream",
     "text": [
      "sleep 5\n"
     ]
    },
    {
     "name": "stderr",
     "output_type": "stream",
     "text": [
      "INFO:root:WsRemoteService Exception ConnectionError: Connection error: https://localhost:8888/login\n"
     ]
    },
    {
     "name": "stdout",
     "output_type": "stream",
     "text": [
      "sleep 5\n"
     ]
    },
    {
     "name": "stderr",
     "output_type": "stream",
     "text": [
      "INFO:root:WsRemoteService Exception ConnectionError: Connection error: https://localhost:8888/login\n"
     ]
    },
    {
     "name": "stdout",
     "output_type": "stream",
     "text": [
      "sleep 5\n"
     ]
    },
    {
     "name": "stderr",
     "output_type": "stream",
     "text": [
      "INFO:root:WsRemoteService Exception ConnectionError: Connection error: https://localhost:8888/login\n"
     ]
    },
    {
     "name": "stdout",
     "output_type": "stream",
     "text": [
      "sleep 5\n"
     ]
    },
    {
     "name": "stderr",
     "output_type": "stream",
     "text": [
      "INFO:root:WsRemoteService Exception ConnectionError: Connection error: https://localhost:8888/login\n"
     ]
    },
    {
     "name": "stdout",
     "output_type": "stream",
     "text": [
      "sleep 5\n"
     ]
    },
    {
     "name": "stderr",
     "output_type": "stream",
     "text": [
      "INFO:root:WsRemoteService Exception ConnectionError: Connection error: https://localhost:8888/login\n"
     ]
    },
    {
     "name": "stdout",
     "output_type": "stream",
     "text": [
      "sleep 5\n"
     ]
    },
    {
     "name": "stderr",
     "output_type": "stream",
     "text": [
      "INFO:root:WsRemoteService Exception ConnectionError: Connection error: https://localhost:8888/login\n"
     ]
    },
    {
     "name": "stdout",
     "output_type": "stream",
     "text": [
      "sleep 5\n"
     ]
    },
    {
     "name": "stderr",
     "output_type": "stream",
     "text": [
      "INFO:root:WsRemoteService Exception ConnectionError: Connection error: https://localhost:8888/login\n"
     ]
    },
    {
     "name": "stdout",
     "output_type": "stream",
     "text": [
      "sleep 5\n"
     ]
    },
    {
     "name": "stderr",
     "output_type": "stream",
     "text": [
      "INFO:root:WsRemoteService Exception ConnectionError: Connection error: https://localhost:8888/login\n"
     ]
    },
    {
     "name": "stdout",
     "output_type": "stream",
     "text": [
      "sleep 5\n"
     ]
    },
    {
     "name": "stderr",
     "output_type": "stream",
     "text": [
      "INFO:root:WsRemoteService Exception ConnectionError: Connection error: https://localhost:8888/login\n"
     ]
    },
    {
     "name": "stdout",
     "output_type": "stream",
     "text": [
      "sleep 5\n"
     ]
    },
    {
     "name": "stderr",
     "output_type": "stream",
     "text": [
      "INFO:root:WsRemoteService Exception ConnectionError: Connection error: https://localhost:8888/login\n"
     ]
    },
    {
     "name": "stdout",
     "output_type": "stream",
     "text": [
      "sleep 5\n"
     ]
    },
    {
     "name": "stderr",
     "output_type": "stream",
     "text": [
      "INFO:root:WsRemoteService Exception ConnectionError: Connection error: https://localhost:8888/login\n"
     ]
    },
    {
     "name": "stdout",
     "output_type": "stream",
     "text": [
      "sleep 5\n"
     ]
    },
    {
     "name": "stderr",
     "output_type": "stream",
     "text": [
      "INFO:root:WsRemoteService Exception ConnectionError: Connection error: https://localhost:8888/login\n"
     ]
    },
    {
     "name": "stdout",
     "output_type": "stream",
     "text": [
      "sleep 5\n"
     ]
    },
    {
     "name": "stderr",
     "output_type": "stream",
     "text": [
      "INFO:root:WsRemoteService Exception ConnectionError: Connection error: https://localhost:8888/login\n"
     ]
    },
    {
     "name": "stdout",
     "output_type": "stream",
     "text": [
      "sleep 5\n"
     ]
    },
    {
     "name": "stderr",
     "output_type": "stream",
     "text": [
      "INFO:root:WsRemoteService Exception ConnectionError: Connection error: https://localhost:8888/login\n"
     ]
    },
    {
     "name": "stdout",
     "output_type": "stream",
     "text": [
      "sleep 5\n"
     ]
    },
    {
     "name": "stderr",
     "output_type": "stream",
     "text": [
      "INFO:root:WsRemoteService Exception ConnectionError: Connection error: https://localhost:8888/login\n"
     ]
    },
    {
     "name": "stdout",
     "output_type": "stream",
     "text": [
      "sleep 5\n"
     ]
    },
    {
     "name": "stderr",
     "output_type": "stream",
     "text": [
      "INFO:root:WsRemoteService Exception ConnectionError: Connection error: https://localhost:8888/login\n"
     ]
    },
    {
     "name": "stdout",
     "output_type": "stream",
     "text": [
      "sleep 5\n"
     ]
    },
    {
     "name": "stderr",
     "output_type": "stream",
     "text": [
      "INFO:root:WsRemoteService Exception ConnectionError: Connection error: https://localhost:8888/login\n"
     ]
    },
    {
     "name": "stdout",
     "output_type": "stream",
     "text": [
      "sleep 5\n"
     ]
    },
    {
     "name": "stderr",
     "output_type": "stream",
     "text": [
      "INFO:root:WsRemoteService Exception ConnectionError: Connection error: https://localhost:8888/login\n"
     ]
    },
    {
     "name": "stdout",
     "output_type": "stream",
     "text": [
      "sleep 5\n"
     ]
    },
    {
     "name": "stderr",
     "output_type": "stream",
     "text": [
      "INFO:root:WsRemoteService Exception ConnectionError: Connection error: https://localhost:8888/login\n"
     ]
    },
    {
     "name": "stdout",
     "output_type": "stream",
     "text": [
      "sleep 5\n"
     ]
    },
    {
     "name": "stderr",
     "output_type": "stream",
     "text": [
      "INFO:root:WsRemoteService Exception ConnectionError: Connection error: https://localhost:8888/login\n"
     ]
    },
    {
     "name": "stdout",
     "output_type": "stream",
     "text": [
      "sleep 5\n"
     ]
    },
    {
     "name": "stderr",
     "output_type": "stream",
     "text": [
      "INFO:root:WsRemoteService Exception ConnectionError: Connection error: https://localhost:8888/login\n"
     ]
    },
    {
     "name": "stdout",
     "output_type": "stream",
     "text": [
      "sleep 5\n"
     ]
    },
    {
     "name": "stderr",
     "output_type": "stream",
     "text": [
      "INFO:root:WsRemoteService Exception ConnectionError: Connection error: https://localhost:8888/login\n"
     ]
    },
    {
     "name": "stdout",
     "output_type": "stream",
     "text": [
      "sleep 5\n"
     ]
    },
    {
     "name": "stderr",
     "output_type": "stream",
     "text": [
      "INFO:root:WsRemoteService Exception ConnectionError: Connection error: https://localhost:8888/login\n"
     ]
    },
    {
     "name": "stdout",
     "output_type": "stream",
     "text": [
      "sleep 5\n"
     ]
    },
    {
     "name": "stderr",
     "output_type": "stream",
     "text": [
      "INFO:root:WsRemoteService Exception ConnectionError: Connection error: https://localhost:8888/login\n"
     ]
    },
    {
     "name": "stdout",
     "output_type": "stream",
     "text": [
      "sleep 5\n"
     ]
    },
    {
     "name": "stderr",
     "output_type": "stream",
     "text": [
      "INFO:root:WsRemoteService Exception ConnectionError: Connection error: https://localhost:8888/login\n"
     ]
    },
    {
     "name": "stdout",
     "output_type": "stream",
     "text": [
      "sleep 5\n"
     ]
    },
    {
     "name": "stderr",
     "output_type": "stream",
     "text": [
      "INFO:root:WsRemoteService Exception ConnectionError: Connection error: https://localhost:8888/login\n"
     ]
    },
    {
     "name": "stdout",
     "output_type": "stream",
     "text": [
      "sleep 5\n"
     ]
    },
    {
     "name": "stderr",
     "output_type": "stream",
     "text": [
      "INFO:root:WsRemoteService Exception ConnectionError: Connection error: https://localhost:8888/login\n"
     ]
    },
    {
     "name": "stdout",
     "output_type": "stream",
     "text": [
      "sleep 5\n"
     ]
    },
    {
     "name": "stderr",
     "output_type": "stream",
     "text": [
      "INFO:root:WsRemoteService Exception ConnectionError: Connection error: https://localhost:8888/login\n"
     ]
    },
    {
     "name": "stdout",
     "output_type": "stream",
     "text": [
      "sleep 5\n"
     ]
    },
    {
     "name": "stderr",
     "output_type": "stream",
     "text": [
      "INFO:root:WsRemoteService Exception ConnectionError: Connection error: https://localhost:8888/login\n"
     ]
    },
    {
     "name": "stdout",
     "output_type": "stream",
     "text": [
      "sleep 5\n"
     ]
    },
    {
     "name": "stderr",
     "output_type": "stream",
     "text": [
      "INFO:root:WsRemoteService Exception ConnectionError: Connection error: https://localhost:8888/login\n"
     ]
    },
    {
     "name": "stdout",
     "output_type": "stream",
     "text": [
      "sleep 5\n"
     ]
    },
    {
     "name": "stderr",
     "output_type": "stream",
     "text": [
      "INFO:root:WsRemoteService Exception ConnectionError: Connection error: https://localhost:8888/login\n"
     ]
    },
    {
     "name": "stdout",
     "output_type": "stream",
     "text": [
      "sleep 5\n"
     ]
    },
    {
     "name": "stderr",
     "output_type": "stream",
     "text": [
      "INFO:root:WsRemoteService Exception ConnectionError: Connection error: https://localhost:8888/login\n"
     ]
    },
    {
     "name": "stdout",
     "output_type": "stream",
     "text": [
      "sleep 5\n"
     ]
    },
    {
     "name": "stderr",
     "output_type": "stream",
     "text": [
      "INFO:root:WsRemoteService Exception ConnectionError: Connection error: https://localhost:8888/login\n"
     ]
    },
    {
     "name": "stdout",
     "output_type": "stream",
     "text": [
      "sleep 5\n"
     ]
    },
    {
     "name": "stderr",
     "output_type": "stream",
     "text": [
      "INFO:root:WsRemoteService Exception ConnectionError: Connection error: https://localhost:8888/login\n"
     ]
    },
    {
     "name": "stdout",
     "output_type": "stream",
     "text": [
      "sleep 5\n"
     ]
    },
    {
     "name": "stderr",
     "output_type": "stream",
     "text": [
      "INFO:root:WsRemoteService Exception ConnectionError: Connection error: https://localhost:8888/login\n"
     ]
    },
    {
     "name": "stdout",
     "output_type": "stream",
     "text": [
      "sleep 5\n"
     ]
    },
    {
     "name": "stderr",
     "output_type": "stream",
     "text": [
      "INFO:root:WsRemoteService Exception ConnectionError: Connection error: https://localhost:8888/login\n"
     ]
    },
    {
     "name": "stdout",
     "output_type": "stream",
     "text": [
      "sleep 5\n"
     ]
    },
    {
     "name": "stderr",
     "output_type": "stream",
     "text": [
      "INFO:root:WsRemoteService Exception ConnectionError: Connection error: https://localhost:8888/login\n"
     ]
    },
    {
     "name": "stdout",
     "output_type": "stream",
     "text": [
      "sleep 5\n"
     ]
    },
    {
     "name": "stderr",
     "output_type": "stream",
     "text": [
      "INFO:root:WsRemoteService Exception ConnectionError: Connection error: https://localhost:8888/login\n"
     ]
    },
    {
     "name": "stdout",
     "output_type": "stream",
     "text": [
      "sleep 5\n"
     ]
    },
    {
     "name": "stderr",
     "output_type": "stream",
     "text": [
      "INFO:root:WsRemoteService Exception ConnectionError: Connection error: https://localhost:8888/login\n"
     ]
    },
    {
     "name": "stdout",
     "output_type": "stream",
     "text": [
      "sleep 5\n"
     ]
    },
    {
     "name": "stderr",
     "output_type": "stream",
     "text": [
      "INFO:root:WsRemoteService Exception ConnectionError: Connection error: https://localhost:8888/login\n"
     ]
    },
    {
     "name": "stdout",
     "output_type": "stream",
     "text": [
      "sleep 5\n"
     ]
    },
    {
     "name": "stderr",
     "output_type": "stream",
     "text": [
      "INFO:root:WsRemoteService Exception ConnectionError: Connection error: https://localhost:8888/login\n"
     ]
    },
    {
     "name": "stdout",
     "output_type": "stream",
     "text": [
      "sleep 5\n"
     ]
    },
    {
     "name": "stderr",
     "output_type": "stream",
     "text": [
      "INFO:root:WsRemoteService Exception ConnectionError: Connection error: https://localhost:8888/login\n"
     ]
    },
    {
     "name": "stdout",
     "output_type": "stream",
     "text": [
      "sleep 5\n"
     ]
    },
    {
     "name": "stderr",
     "output_type": "stream",
     "text": [
      "INFO:root:WsRemoteService Exception ConnectionError: Connection error: https://localhost:8888/login\n"
     ]
    },
    {
     "name": "stdout",
     "output_type": "stream",
     "text": [
      "sleep 5\n"
     ]
    },
    {
     "name": "stderr",
     "output_type": "stream",
     "text": [
      "INFO:root:WsRemoteService Exception ConnectionError: Connection error: https://localhost:8888/login\n"
     ]
    },
    {
     "name": "stdout",
     "output_type": "stream",
     "text": [
      "sleep 5\n"
     ]
    },
    {
     "name": "stderr",
     "output_type": "stream",
     "text": [
      "INFO:root:WsRemoteService Exception ConnectionError: Connection error: https://localhost:8888/login\n"
     ]
    },
    {
     "name": "stdout",
     "output_type": "stream",
     "text": [
      "sleep 5\n"
     ]
    },
    {
     "name": "stderr",
     "output_type": "stream",
     "text": [
      "INFO:root:WsRemoteService Exception ConnectionError: Connection error: https://localhost:8888/login\n"
     ]
    },
    {
     "name": "stdout",
     "output_type": "stream",
     "text": [
      "sleep 5\n"
     ]
    },
    {
     "name": "stderr",
     "output_type": "stream",
     "text": [
      "INFO:root:WsRemoteService Exception ConnectionError: Connection error: https://localhost:8888/login\n"
     ]
    },
    {
     "name": "stdout",
     "output_type": "stream",
     "text": [
      "sleep 5\n"
     ]
    },
    {
     "name": "stderr",
     "output_type": "stream",
     "text": [
      "INFO:root:WsRemoteService Exception ConnectionError: Connection error: https://localhost:8888/login\n"
     ]
    },
    {
     "name": "stdout",
     "output_type": "stream",
     "text": [
      "sleep 5\n"
     ]
    },
    {
     "name": "stderr",
     "output_type": "stream",
     "text": [
      "INFO:root:WsRemoteService Exception ConnectionError: Connection error: https://localhost:8888/login\n"
     ]
    },
    {
     "name": "stdout",
     "output_type": "stream",
     "text": [
      "sleep 5\n"
     ]
    },
    {
     "name": "stderr",
     "output_type": "stream",
     "text": [
      "INFO:root:WsRemoteService Exception ConnectionError: Connection error: https://localhost:8888/login\n"
     ]
    },
    {
     "name": "stdout",
     "output_type": "stream",
     "text": [
      "sleep 5\n"
     ]
    },
    {
     "name": "stderr",
     "output_type": "stream",
     "text": [
      "INFO:root:WsRemoteService Exception ConnectionError: Connection error: https://localhost:8888/login\n"
     ]
    },
    {
     "name": "stdout",
     "output_type": "stream",
     "text": [
      "sleep 5\n"
     ]
    },
    {
     "name": "stderr",
     "output_type": "stream",
     "text": [
      "INFO:root:WsRemoteService Exception ConnectionError: Connection error: https://localhost:8888/login\n"
     ]
    },
    {
     "name": "stdout",
     "output_type": "stream",
     "text": [
      "sleep 5\n"
     ]
    },
    {
     "name": "stderr",
     "output_type": "stream",
     "text": [
      "INFO:root:WsRemoteService Exception ConnectionError: Connection error: https://localhost:8888/login\n"
     ]
    },
    {
     "name": "stdout",
     "output_type": "stream",
     "text": [
      "sleep 5\n"
     ]
    },
    {
     "name": "stderr",
     "output_type": "stream",
     "text": [
      "INFO:root:WsRemoteService Exception ConnectionError: Connection error: https://localhost:8888/login\n"
     ]
    },
    {
     "name": "stdout",
     "output_type": "stream",
     "text": [
      "sleep 5\n"
     ]
    },
    {
     "name": "stderr",
     "output_type": "stream",
     "text": [
      "INFO:root:WsRemoteService Exception ConnectionError: Connection error: https://localhost:8888/login\n"
     ]
    },
    {
     "name": "stdout",
     "output_type": "stream",
     "text": [
      "sleep 5\n"
     ]
    },
    {
     "name": "stderr",
     "output_type": "stream",
     "text": [
      "INFO:root:WsRemoteService Exception ConnectionError: Connection error: https://localhost:8888/login\n"
     ]
    },
    {
     "name": "stdout",
     "output_type": "stream",
     "text": [
      "sleep 5\n"
     ]
    },
    {
     "name": "stderr",
     "output_type": "stream",
     "text": [
      "INFO:root:WsRemoteService Exception ConnectionError: Connection error: https://localhost:8888/login\n"
     ]
    },
    {
     "name": "stdout",
     "output_type": "stream",
     "text": [
      "sleep 5\n"
     ]
    },
    {
     "name": "stderr",
     "output_type": "stream",
     "text": [
      "INFO:root:WsRemoteService Exception ConnectionError: Connection error: https://localhost:8888/login\n"
     ]
    },
    {
     "name": "stdout",
     "output_type": "stream",
     "text": [
      "sleep 5\n"
     ]
    },
    {
     "name": "stderr",
     "output_type": "stream",
     "text": [
      "INFO:root:WsRemoteService Exception ConnectionError: Connection error: https://localhost:8888/login\n"
     ]
    },
    {
     "name": "stdout",
     "output_type": "stream",
     "text": [
      "sleep 5\n"
     ]
    },
    {
     "name": "stderr",
     "output_type": "stream",
     "text": [
      "INFO:root:WsRemoteService Exception ConnectionError: Connection error: https://localhost:8888/login\n"
     ]
    },
    {
     "name": "stdout",
     "output_type": "stream",
     "text": [
      "sleep 5\n"
     ]
    },
    {
     "name": "stderr",
     "output_type": "stream",
     "text": [
      "INFO:root:WsRemoteService Exception ConnectionError: Connection error: https://localhost:8888/login\n"
     ]
    },
    {
     "name": "stdout",
     "output_type": "stream",
     "text": [
      "sleep 5\n"
     ]
    },
    {
     "name": "stderr",
     "output_type": "stream",
     "text": [
      "INFO:root:WsRemoteService Exception ConnectionError: Connection error: https://localhost:8888/login\n"
     ]
    },
    {
     "name": "stdout",
     "output_type": "stream",
     "text": [
      "sleep 5\n"
     ]
    },
    {
     "name": "stderr",
     "output_type": "stream",
     "text": [
      "INFO:root:WsRemoteService Exception ConnectionError: Connection error: https://localhost:8888/login\n"
     ]
    },
    {
     "name": "stdout",
     "output_type": "stream",
     "text": [
      "sleep 5\n"
     ]
    },
    {
     "name": "stderr",
     "output_type": "stream",
     "text": [
      "INFO:root:WsRemoteService Exception ConnectionError: Connection error: https://localhost:8888/login\n"
     ]
    },
    {
     "name": "stdout",
     "output_type": "stream",
     "text": [
      "sleep 5\n"
     ]
    },
    {
     "name": "stderr",
     "output_type": "stream",
     "text": [
      "INFO:root:WsRemoteService Exception ConnectionError: Connection error: https://localhost:8888/login\n"
     ]
    },
    {
     "name": "stdout",
     "output_type": "stream",
     "text": [
      "sleep 5\n"
     ]
    },
    {
     "name": "stderr",
     "output_type": "stream",
     "text": [
      "INFO:root:WsRemoteService Exception ConnectionError: Connection error: https://localhost:8888/login\n"
     ]
    },
    {
     "name": "stdout",
     "output_type": "stream",
     "text": [
      "sleep 5\n"
     ]
    },
    {
     "name": "stderr",
     "output_type": "stream",
     "text": [
      "INFO:root:WsRemoteService Exception ConnectionError: Connection error: https://localhost:8888/login\n"
     ]
    },
    {
     "name": "stdout",
     "output_type": "stream",
     "text": [
      "sleep 5\n"
     ]
    },
    {
     "name": "stderr",
     "output_type": "stream",
     "text": [
      "INFO:root:WsRemoteService Exception ConnectionError: Connection error: https://localhost:8888/login\n"
     ]
    },
    {
     "name": "stdout",
     "output_type": "stream",
     "text": [
      "sleep 5\n"
     ]
    }
   ],
   "source": [
    "default_parameter=19\n",
    "# curr_parameter=len(parameters['value'])-1\n",
    "while len(TR)>1: #globalClock.getTime() <= (MR_settings['volumes'] * MR_settings['TR']) + 3:\n",
    "    trialTime = trialClock.getTime()\n",
    "    keys = event.getKeys([\"5\",\"0\"])  # check for triggers\n",
    "    if '0' in keys: # whenever you want to quite, type 0\n",
    "        mywin.close()\n",
    "        core.quit()\n",
    "    if len(keys):\n",
    "        TR.pop(0)\n",
    "        states.pop(0)\n",
    "        newWobble.pop(0)\n",
    "        print(states[0])\n",
    "        if states[0] == 'feedback' and newWobble[0]==1:\n",
    "            # fetch parameter from preprocessing process on Milgram       \n",
    "            # feedbackMsg = WsFeedbackReceiver.msgQueue.get(block=True, timeout=None)     \n",
    "            feedbackMsg = subjectService.subjectInterface.msgQueue.get(block=True, timeout=None)\n",
    "            runId,trID,value,timestamp=feedbackMsg.get('runId'),feedbackMsg.get('trId'),feedbackMsg.get('value'),feedbackMsg.get('timestamp')\n",
    "\n",
    "            if value==None:\n",
    "                parameter = default_parameter\n",
    "            else:\n",
    "                parameter = value\n",
    "\n",
    "            # print('feedbackParameterFileName=',feedbackParameterFileName)\n",
    "            # parameters=pd.read_csv(feedbackParameterFileName)\n",
    "            # if curr_parameter>(len(parameters['value'])-1):\n",
    "                # curr_parameter=curr_parameter-1\n",
    "            # curr_parameter=(len(parameters['value'])-1)\n",
    "            # parameter=parameters['value'].iloc[curr_parameter]\n",
    "            # print('curr_parameter=',curr_parameter)\n",
    "            # print('parameter=',parameter)\n",
    "            print(f'TR[0]={TR[0]},trID={trID},parameter={parameter},timestamp={timestamp},runId={runId}')\n",
    "\n",
    "            # curr_parameter=curr_parameter+1\n",
    "            # start new clock for current updating duration (the duration in which only a single parameter is used, which can be 1 TR or a few TRs, the begining of the updateDuration is indicated by the table['newWobble'])\n",
    "            trialClock=core.Clock()\n",
    "            trialTime=trialClock.getTime()\n",
    "            # update the image list to be shown based on the fetched parameter\n",
    "            imagePaths=imageLists[parameter-10] #list(imageLists[parameter])\n",
    "            # calculated how long each image should last.\n",
    "            eachTime=ParameterUpdateDuration/len(imagePaths)\n",
    "            # update the image\n",
    "            # image.image=imagePaths[0]\n",
    "            image.setAutoDraw(False)\n",
    "            imagePaths[0].setAutoDraw(True)\n",
    "            # currImage*eachTime is used in the calculation of the start time of next image in the list.\n",
    "            \n",
    "            # save when the image is presented and which image is presented.\n",
    "            data = data.append({'Sub': sub, \n",
    "                                'Run': run, \n",
    "                                'TR': TR[0],\n",
    "                                'time': trialTime, \n",
    "                                'imageTime':imagePaths[0].image,\n",
    "                                'eachTime':eachTime},\n",
    "                               ignore_index=True)\n",
    "            oldMorphParameter=re.findall(r\"_\\w+_\",imagePaths[0].image)[1]\n",
    "            # print('curr morph=',oldMorphParameter)\n",
    "            remainImageNumber.append(0)\n",
    "            currImage=1\n",
    "            # # discard the first image since it has been used.\n",
    "            # imagePaths.pop(0)\n",
    "    if (states[0] == 'feedback') and (trialTime>currImage*eachTime):\n",
    "            try: # sometimes the trialTime accidentally surpasses the maximum time, in this case just do nothing, pass\n",
    "                imagePaths[currImage-1].setAutoDraw(False)\n",
    "                imagePaths[currImage].setAutoDraw(True)\n",
    "                # print('currImage=',imagePaths[currImage],end='\\n\\n')\n",
    "                remainImageNumber.append(currImage)\n",
    "\n",
    "                # write the data!\n",
    "                data = data.append({'Sub': sub, \n",
    "                                    'Run': run, \n",
    "                                    'TR': TR[0], \n",
    "                                    'time': trialTime, \n",
    "                                    'imageTime':imagePaths[currImage].image,\n",
    "                                    'eachTime':eachTime},\n",
    "                                    ignore_index=True)\n",
    "                currMorphParameter=re.findall(r\"_\\w+_\",imagePaths[currImage].image)[1]\n",
    "                if currMorphParameter!=oldMorphParameter:\n",
    "                    pass\n",
    "                    # print('curr morph=',currMorphParameter)\n",
    "                oldMorphParameter=currMorphParameter\n",
    "                currImage=currImage+1        \n",
    "            except:\n",
    "                pass\n",
    "    elif states[0] == 'ITI':\n",
    "        backgroundImage.setAutoDraw(True)\n",
    "        fix.draw()\n",
    "    elif states[0] == 'waiting':\n",
    "        backgroundImage.setAutoDraw(False)\n",
    "        image.setAutoDraw(True)\n",
    "    # refresh the screen\n",
    "    mywin.flip()\n",
    "\n",
    "\n",
    "# write data out!\n",
    "data.to_csv(newfile)\n",
    "mywin.close()\n",
    "core.quit()\n",
    "\n",
    "\n",
    "# ##############################################################################\n",
    "# ##############################################################################\n",
    "# ##############################################################################\n",
    "# ####################### simmulated data forparameters#########################\n",
    "# ##############################################################################\n",
    "# ##############################################################################\n",
    "# ##############################################################################\n",
    "# parameters = pd.DataFrame(columns=['runId','trId','value','timestamp'])\n",
    "# main_dir=\"/Volumes/GoogleDrive/My Drive/Turk_Browne_Lab/rtcloud_kp/\"\n",
    "# parameterWriteFolder=main_dir+'./subjects/pilot_sub001/ses1_feedbackParameter/'\n",
    "# if not os.path.isdir(parameterWriteFolder):\n",
    "#     os.mkdir(parameterWriteFolder)\n",
    "\n",
    "# for i in range(20):\n",
    "\n",
    "#     runId=1\n",
    "#     trId=int(np.random.uniform(1,20,1))\n",
    "#     value=int(np.random.uniform(1,20,1))\n",
    "#     timestamp=int(np.random.uniform(0,10,1))\n",
    "#     parameterFileName=f\"{parameterWriteFolder}run_{runId}.csv\"\n",
    "#     print(\"Dequeue run: {}, tr: {}, value: {}, timestamp: {}\".\n",
    "#           format(runId,trId,value,timestamp))\n",
    "\n",
    "#     parameters = parameters.append({'runId':runId,\n",
    "#                         'trId':trId,\n",
    "#                         'value':value,\n",
    "#                         'timestamp':timestamp},\n",
    "#                         ignore_index=True)\n",
    "#     print('parameters=',parameters)\n",
    "#     parameters.to_csv(parameterFileName)"
   ]
  },
  {
   "cell_type": "code",
   "execution_count": null,
   "metadata": {},
   "outputs": [],
   "source": []
  }
 ],
 "metadata": {
  "kernelspec": {
   "display_name": "Python 3",
   "language": "python",
   "name": "python3"
  },
  "language_info": {
   "codemirror_mode": {
    "name": "ipython",
    "version": 3
   },
   "file_extension": ".py",
   "mimetype": "text/x-python",
   "name": "python",
   "nbconvert_exporter": "python",
   "pygments_lexer": "ipython3",
   "version": "3.7.7"
  }
 },
 "nbformat": 4,
 "nbformat_minor": 4
}
