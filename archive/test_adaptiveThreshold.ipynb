{
 "cells": [
  {
   "cell_type": "code",
   "execution_count": 77,
   "metadata": {},
   "outputs": [
    {
     "name": "stdout",
     "output_type": "stream",
     "text": [
      "toml filename=/gpfs/milgram/project/turk-browne/projects/rtSynth_rt/projects/rtSynth_rt/conf/sub002.ses3.toml\n"
     ]
    },
    {
     "data": {
      "text/plain": [
       "3"
      ]
     },
     "execution_count": 77,
     "metadata": {},
     "output_type": "execute_result"
    }
   ],
   "source": [
    "import os\n",
    "import sys\n",
    "sys.path.append('/gpfs/milgram/project/turk-browne/projects/rtSynth_rt/')\n",
    "import argparse\n",
    "import numpy as np\n",
    "import nibabel as nib\n",
    "import scipy.io as sio\n",
    "import subprocess\n",
    "from scipy.stats import zscore\n",
    "from nibabel.nicom import dicomreaders\n",
    "import pydicom as dicom  # type: ignore\n",
    "import time\n",
    "from glob import glob\n",
    "import shutil\n",
    "from nilearn.image import new_img_like\n",
    "import joblib\n",
    "import rtCommon.utils as utils\n",
    "from rtCommon.utils import loadConfigFile\n",
    "import pickle5 as pickle\n",
    "def save_obj(obj, name):\n",
    "    with open(name + '.pkl', 'wb') as f:\n",
    "        pickle.dump(obj, f, pickle.HIGHEST_PROTOCOL)\n",
    "\n",
    "def load_obj(name):\n",
    "    with open(name + '.pkl', 'rb') as f:\n",
    "        return pickle.load(f)\n",
    "# from rtCommon.fileClient import FileInterface\n",
    "# import rtCommon.projectUtils as projUtils\n",
    "# from rtCommon.imageHandling import readRetryDicomFromFileInterface, getDicomFileName, convertDicomImgToNifti\n",
    "\n",
    "\n",
    "argParser = argparse.ArgumentParser()\n",
    "argParser.add_argument('--config', '-c', default='sub002.ses3.toml', type=str, help='experiment file (.json or .toml)')\n",
    "argParser.add_argument('--skipPre', '-s', default=0, type=int, help='skip preprocess or not')\n",
    "argParser.add_argument('--skipGreedy', '-g', default=0, type=int, help='skip greedy or not')\n",
    "argParser.add_argument('--testRun', '-t', default=None, type=int, help='testRun, can be [None,1,2,3,4,5,6,7,8]')\n",
    "argParser.add_argument('--scan_asTemplate', '-a', default=1, type=int, help=\"which scan's middle dicom as Template?\")\n",
    "\n",
    "args = argParser.parse_args(\"\")\n",
    "from rtCommon.cfg_loading import mkdir,cfg_loading\n",
    "# config=\"sub001.ses2.toml\"\n",
    "cfg = cfg_loading(args.config)\n",
    "os.chdir(\"/gpfs/milgram/project/turk-browne/projects/rtSynth_rt/\")\n",
    "cfg.session"
   ]
  },
  {
   "cell_type": "code",
   "execution_count": 88,
   "metadata": {},
   "outputs": [
    {
     "name": "stdout",
     "output_type": "stream",
     "text": [
      "run=1 scan=3 successfulTrial=9\n",
      "perfectTrial=5\n",
      "1:5 5:3 9:1 13:3\n",
      "run=2 scan=4 successfulTrial=11\n",
      "perfectTrial=4\n",
      "1:4 5:4 9:3 13:1\n",
      "run=3 scan=5 successfulTrial=10\n",
      "perfectTrial=2\n",
      "1:2 5:4 9:4 13:2\n",
      "run=4 scan=6 successfulTrial=9\n",
      "perfectTrial=0\n",
      "1:0 5:3 9:6 13:3\n",
      "run=5 scan=7 successfulTrial=7\n",
      "perfectTrial=1\n",
      "1:1 5:1 9:5 13:5\n",
      "run=6 scan=8 successfulTrial=5\n",
      "perfectTrial=0\n",
      "1:0 5:2 9:3 13:7\n",
      "run=7 scan=9 successfulTrial=9\n",
      "perfectTrial=2\n",
      "1:2 5:3 9:4 13:3\n",
      "run=8 scan=10 successfulTrial=6\n",
      "perfectTrial=3\n",
      "1:3 5:2 9:1 13:6\n",
      "run=9 scan=11 successfulTrial=8\n",
      "perfectTrial=0\n",
      "1:0 5:2 9:6 13:4\n",
      "run=10 scan=12 successfulTrial=5\n",
      "perfectTrial=0\n",
      "1:0 5:0 9:5 13:7\n",
      "run=11 scan=13 successfulTrial=6\n",
      "perfectTrial=2\n",
      "1:2 5:2 9:2 13:6\n",
      "run=12 scan=14 successfulTrial=10\n",
      "perfectTrial=2\n",
      "1:2 5:3 9:5 13:2\n"
     ]
    }
   ],
   "source": [
    "import pandas as pd\n",
    "runRecording = pd.read_csv(f\"{cfg.recognition_dir}../runRecording.csv\")\n",
    "actualFeedbackScans = list(runRecording['run'].iloc[list(np.where(1==1*(runRecording['type']=='feedback'))[0])]) # can be [1,2,3,4,5,6,7,8] or [1,2,4,5]\n",
    "\n",
    "\n",
    "def getSuc(t,curr_run,cfg,x):\n",
    "    if cfg.session==2:\n",
    "        thresholds={1:0.6,2:0.6,3:0.6,4:0.6,5:0.6,6:0.6,7:0.65,8:0.65,9:0.65,10:0.70}\n",
    "        headLengths={1:8,2:5,3:5,4:5,5:5,6:5,7:5,8:5,9:5,10:5}\n",
    "    elif cfg.session==3:\n",
    "        thresholds={1:0.7,2:0.65,3:0.60,4:0.65,5:0.70,6:0.70,7:0.70,8:0.70,9:0.75,10:0.80,11:0.80,12:0.80}\n",
    "        headLengths={1:7,2:5,3:5,4:5,5:5,6:5,7:5,8:5,9:6,10:5,11:5,12:x}\n",
    "\n",
    "    threshold=thresholds[curr_run]\n",
    "    successfulTrial=0\n",
    "    perfectTrial=0\n",
    "    reward1=0\n",
    "    reward5=0\n",
    "    reward9=0\n",
    "    reward13=0\n",
    "    \n",
    "    headLength = headLengths[curr_run]\n",
    "    curr_run\n",
    "    headLength=6 #len(t)-12*14\n",
    "    for currTrial in range(12):\n",
    "        startID = currTrial*(6+3+5)+headLength\n",
    "        endID = startID + 5\n",
    "        trial_data=t[startID:endID]\n",
    "        # print(trial_data)\n",
    "        if np.sum(trial_data >= threshold) > 0:\n",
    "            successfulTrial+=1\n",
    "        if np.sum(trial_data >= threshold) >= 3:\n",
    "            perfectTrial+=1\n",
    "        if np.sum(trial_data >= threshold) >= 3:\n",
    "            reward1+=1\n",
    "        if np.sum(trial_data >= threshold) == 2:\n",
    "            reward5+=1\n",
    "        if np.sum(trial_data >= threshold) == 1:\n",
    "            reward9+=1\n",
    "        if np.sum(trial_data >= threshold) == 0:\n",
    "            reward13+=1\n",
    "    print(f\"successfulTrial={successfulTrial}\")\n",
    "    print(f\"perfectTrial={perfectTrial}\")\n",
    "    print(f\"1:{reward1} 5:{reward5} 9:{reward9} 13:{reward13}\")\n",
    "    \n",
    "for curr_run,curr_scan in enumerate(actualFeedbackScans):\n",
    "    t = np.load(f\"{cfg.feedback_dir}B_probs_{curr_scan}.npy\")\n",
    "    # print(len(t))\n",
    "    print(f\"run={curr_run+1} scan={curr_scan}\", end=' ')\n",
    "    getSuc(t,curr_run+1,cfg)"
   ]
  },
  {
   "cell_type": "code",
   "execution_count": 90,
   "metadata": {},
   "outputs": [
    {
     "name": "stdout",
     "output_type": "stream",
     "text": [
      "successfulTrial=10\n",
      "perfectTrial=2\n",
      "1:2 5:3 9:5 13:2\n",
      "successfulTrial=10\n",
      "perfectTrial=2\n",
      "1:2 5:3 9:5 13:2\n",
      "successfulTrial=10\n",
      "perfectTrial=2\n",
      "1:2 5:3 9:5 13:2\n",
      "successfulTrial=10\n",
      "perfectTrial=2\n",
      "1:2 5:3 9:5 13:2\n",
      "successfulTrial=10\n",
      "perfectTrial=2\n",
      "1:2 5:3 9:5 13:2\n",
      "successfulTrial=10\n",
      "perfectTrial=2\n",
      "1:2 5:3 9:5 13:2\n",
      "successfulTrial=10\n",
      "perfectTrial=2\n",
      "1:2 5:3 9:5 13:2\n",
      "successfulTrial=10\n",
      "perfectTrial=2\n",
      "1:2 5:3 9:5 13:2\n",
      "successfulTrial=10\n",
      "perfectTrial=2\n",
      "1:2 5:3 9:5 13:2\n",
      "successfulTrial=10\n",
      "perfectTrial=2\n",
      "1:2 5:3 9:5 13:2\n"
     ]
    }
   ],
   "source": [
    "\n",
    "def getSuc(t,curr_run,cfg,x):\n",
    "    if cfg.session==2:\n",
    "        thresholds={1:0.6,2:0.6,3:0.6,4:0.6,5:0.6,6:0.6,7:0.65,8:0.65,9:0.65,10:0.70}\n",
    "        headLengths={1:8,2:5,3:5,4:5,5:5,6:5,7:5,8:5,9:5,10:5}\n",
    "    elif cfg.session==3:\n",
    "        thresholds={1:0.7,2:0.65,3:0.60,4:0.65,5:0.70,6:0.70,7:0.70,8:0.70,9:0.75,10:0.80,11:0.80,12:0.80}\n",
    "        headLengths={1:7,2:5,3:5,4:5,5:5,6:5,7:5,8:5,9:6,10:5,11:5,12:x}\n",
    "\n",
    "    threshold=thresholds[curr_run]\n",
    "    successfulTrial=0\n",
    "    perfectTrial=0\n",
    "    reward1=0\n",
    "    reward5=0\n",
    "    reward9=0\n",
    "    reward13=0\n",
    "    \n",
    "    headLength = headLengths[curr_run]\n",
    "    curr_run\n",
    "    headLength=6 #len(t)-12*14\n",
    "    for currTrial in range(12):\n",
    "        startID = currTrial*(6+3+5)+headLength\n",
    "        endID = startID + 5\n",
    "        trial_data=t[startID:endID]\n",
    "        # print(trial_data)\n",
    "        if np.sum(trial_data >= threshold) > 0:\n",
    "            successfulTrial+=1\n",
    "        if np.sum(trial_data >= threshold) >= 3:\n",
    "            perfectTrial+=1\n",
    "        if np.sum(trial_data >= threshold) >= 3:\n",
    "            reward1+=1\n",
    "        if np.sum(trial_data >= threshold) == 2:\n",
    "            reward5+=1\n",
    "        if np.sum(trial_data >= threshold) == 1:\n",
    "            reward9+=1\n",
    "        if np.sum(trial_data >= threshold) == 0:\n",
    "            reward13+=1\n",
    "    print(f\"successfulTrial={successfulTrial}\")\n",
    "    print(f\"perfectTrial={perfectTrial}\")\n",
    "    print(f\"1:{reward1} 5:{reward5} 9:{reward9} 13:{reward13}\")\n",
    "    \n",
    "for x in [1,2,3,4,5,6,7,8,9,10]:\n",
    "    getSuc(t,curr_run+1,cfg,x)"
   ]
  },
  {
   "cell_type": "code",
   "execution_count": 91,
   "metadata": {},
   "outputs": [
    {
     "data": {
      "text/plain": [
       "12"
      ]
     },
     "execution_count": 91,
     "metadata": {},
     "output_type": "execute_result"
    }
   ],
   "source": [
    "curr_run+1"
   ]
  },
  {
   "cell_type": "code",
   "execution_count": null,
   "metadata": {},
   "outputs": [],
   "source": []
  }
 ],
 "metadata": {
  "kernelspec": {
   "display_name": "Python 3",
   "language": "python",
   "name": "python3"
  },
  "language_info": {
   "codemirror_mode": {
    "name": "ipython",
    "version": 3
   },
   "file_extension": ".py",
   "mimetype": "text/x-python",
   "name": "python",
   "nbconvert_exporter": "python",
   "pygments_lexer": "ipython3",
   "version": "3.6.12"
  },
  "toc": {
   "base_numbering": 1,
   "nav_menu": {},
   "number_sections": true,
   "sideBar": true,
   "skip_h1_title": false,
   "title_cell": "Table of Contents",
   "title_sidebar": "Contents",
   "toc_cell": false,
   "toc_position": {},
   "toc_section_display": true,
   "toc_window_display": false
  },
  "varInspector": {
   "cols": {
    "lenName": 16,
    "lenType": 16,
    "lenVar": 40
   },
   "kernels_config": {
    "python": {
     "delete_cmd_postfix": "",
     "delete_cmd_prefix": "del ",
     "library": "var_list.py",
     "varRefreshCmd": "print(var_dic_list())"
    },
    "r": {
     "delete_cmd_postfix": ") ",
     "delete_cmd_prefix": "rm(",
     "library": "var_list.r",
     "varRefreshCmd": "cat(var_dic_list()) "
    }
   },
   "types_to_exclude": [
    "module",
    "function",
    "builtin_function_or_method",
    "instance",
    "_Feature"
   ],
   "window_display": false
  }
 },
 "nbformat": 4,
 "nbformat_minor": 4
}
