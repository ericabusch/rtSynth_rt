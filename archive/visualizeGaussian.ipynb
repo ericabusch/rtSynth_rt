{
 "cells": [
  {
   "cell_type": "code",
   "execution_count": 33,
   "metadata": {
    "scrolled": true
   },
   "outputs": [
    {
     "name": "stderr",
     "output_type": "stream",
     "text": [
      "\r",
      "  0%|          | 0/19 [00:00<?, ?it/s]"
     ]
    },
    {
     "name": "stdout",
     "output_type": "stream",
     "text": [
      "total trial number= 10\n",
      "preloaded parameter range= [ 1  2  3  4  5  6  7  8  9 10 11 12 13 14 15 16 17 18 19]\n",
      "maximum morph= 4.0\n"
     ]
    },
    {
     "name": "stderr",
     "output_type": "stream",
     "text": [
      "\r",
      "  5%|▌         | 1/19 [00:00<00:09,  2.00it/s]"
     ]
    },
    {
     "name": "stdout",
     "output_type": "stream",
     "text": [
      "maximum morph= 7.0\n"
     ]
    },
    {
     "name": "stderr",
     "output_type": "stream",
     "text": [
      "\r",
      " 11%|█         | 2/19 [00:01<00:11,  1.48it/s]"
     ]
    },
    {
     "name": "stdout",
     "output_type": "stream",
     "text": [
      "maximum morph= 10.0\n"
     ]
    },
    {
     "name": "stderr",
     "output_type": "stream",
     "text": [
      "\r",
      " 16%|█▌        | 3/19 [00:03<00:15,  1.05it/s]"
     ]
    },
    {
     "name": "stdout",
     "output_type": "stream",
     "text": [
      "maximum morph= 13.0\n"
     ]
    },
    {
     "name": "stderr",
     "output_type": "stream",
     "text": [
      "\r",
      " 21%|██        | 4/19 [00:05<00:18,  1.25s/it]"
     ]
    },
    {
     "name": "stdout",
     "output_type": "stream",
     "text": [
      "maximum morph= 16.0\n"
     ]
    },
    {
     "name": "stderr",
     "output_type": "stream",
     "text": [
      "\r",
      " 26%|██▋       | 5/19 [00:07<00:22,  1.60s/it]"
     ]
    },
    {
     "name": "stdout",
     "output_type": "stream",
     "text": [
      "maximum morph= 19.0\n"
     ]
    },
    {
     "name": "stderr",
     "output_type": "stream",
     "text": [
      "\r",
      " 32%|███▏      | 6/19 [00:10<00:26,  2.04s/it]"
     ]
    },
    {
     "name": "stdout",
     "output_type": "stream",
     "text": [
      "maximum morph= 22.0\n"
     ]
    },
    {
     "name": "stderr",
     "output_type": "stream",
     "text": [
      "\r",
      " 37%|███▋      | 7/19 [00:13<00:28,  2.39s/it]"
     ]
    },
    {
     "name": "stdout",
     "output_type": "stream",
     "text": [
      "maximum morph= 25.0\n"
     ]
    },
    {
     "name": "stderr",
     "output_type": "stream",
     "text": [
      "\r",
      " 42%|████▏     | 8/19 [00:17<00:29,  2.71s/it]"
     ]
    },
    {
     "name": "stdout",
     "output_type": "stream",
     "text": [
      "maximum morph= 28.0\n"
     ]
    },
    {
     "name": "stderr",
     "output_type": "stream",
     "text": [
      "\r",
      " 47%|████▋     | 9/19 [00:21<00:30,  3.07s/it]"
     ]
    },
    {
     "name": "stdout",
     "output_type": "stream",
     "text": [
      "maximum morph= 31.0\n"
     ]
    },
    {
     "name": "stderr",
     "output_type": "stream",
     "text": [
      "\r",
      " 53%|█████▎    | 10/19 [00:25<00:32,  3.59s/it]"
     ]
    },
    {
     "name": "stdout",
     "output_type": "stream",
     "text": [
      "maximum morph= 34.0\n"
     ]
    },
    {
     "name": "stderr",
     "output_type": "stream",
     "text": [
      "\r",
      " 58%|█████▊    | 11/19 [00:30<00:31,  4.00s/it]"
     ]
    },
    {
     "name": "stdout",
     "output_type": "stream",
     "text": [
      "maximum morph= 37.0\n"
     ]
    },
    {
     "name": "stderr",
     "output_type": "stream",
     "text": [
      "\r",
      " 63%|██████▎   | 12/19 [00:36<00:31,  4.53s/it]"
     ]
    },
    {
     "name": "stdout",
     "output_type": "stream",
     "text": [
      "maximum morph= 40.0\n"
     ]
    },
    {
     "name": "stderr",
     "output_type": "stream",
     "text": [
      "\r",
      " 68%|██████▊   | 13/19 [00:43<00:30,  5.06s/it]"
     ]
    },
    {
     "name": "stdout",
     "output_type": "stream",
     "text": [
      "maximum morph= 43.0\n"
     ]
    },
    {
     "name": "stderr",
     "output_type": "stream",
     "text": [
      "\r",
      " 74%|███████▎  | 14/19 [00:49<00:27,  5.55s/it]"
     ]
    },
    {
     "name": "stdout",
     "output_type": "stream",
     "text": [
      "maximum morph= 46.0\n"
     ]
    },
    {
     "name": "stderr",
     "output_type": "stream",
     "text": [
      "\r",
      " 79%|███████▉  | 15/19 [00:57<00:24,  6.17s/it]"
     ]
    },
    {
     "name": "stdout",
     "output_type": "stream",
     "text": [
      "maximum morph= 49.0\n"
     ]
    },
    {
     "name": "stderr",
     "output_type": "stream",
     "text": [
      "\r",
      " 84%|████████▍ | 16/19 [01:05<00:19,  6.65s/it]"
     ]
    },
    {
     "name": "stdout",
     "output_type": "stream",
     "text": [
      "maximum morph= 52.0\n"
     ]
    },
    {
     "name": "stderr",
     "output_type": "stream",
     "text": [
      "\r",
      " 89%|████████▉ | 17/19 [01:12<00:14,  7.00s/it]"
     ]
    },
    {
     "name": "stdout",
     "output_type": "stream",
     "text": [
      "maximum morph= 55.0\n"
     ]
    },
    {
     "name": "stderr",
     "output_type": "stream",
     "text": [
      "\r",
      " 95%|█████████▍| 18/19 [01:21<00:07,  7.39s/it]"
     ]
    },
    {
     "name": "stdout",
     "output_type": "stream",
     "text": [
      "maximum morph= 58.0\n"
     ]
    },
    {
     "name": "stderr",
     "output_type": "stream",
     "text": [
      "100%|██████████| 19/19 [01:29<00:00,  4.68s/it]"
     ]
    },
    {
     "name": "stdout",
     "output_type": "stream",
     "text": [
      "preload image duration= 89.01172971725464\n"
     ]
    },
    {
     "name": "stderr",
     "output_type": "stream",
     "text": [
      "\n"
     ]
    }
   ],
   "source": [
    "# This code should be run in console room computer to display the feedback morphings\n",
    "from __future__ import print_function, division\n",
    "import sys\n",
    "sys.path.append('/Users/kailong/Desktop/rtEnv/rtSynth_rt/expScripts/feedback/')\n",
    "\n",
    "#os.chdir(\"/Volumes/GoogleDrive/My Drive/Turk_Browne_Lab/rtSynth_repo/kp_scratch/expcode\")\n",
    "from psychopy import visual, event, core, logging, gui, data, monitors\n",
    "from psychopy.hardware.emulator import launchScan, SyncGenerator\n",
    "from PIL import Image\n",
    "import string\n",
    "import fmrisim as sim\n",
    "import numpy as np\n",
    "import pandas as pd\n",
    "import sys\n",
    "import os\n",
    "import pylink\n",
    "from tqdm import tqdm\n",
    "import time\n",
    "import re\n",
    "alpha = string.ascii_uppercase\n",
    "\n",
    "if 'watts' in os.getcwd():\n",
    "    main_dir = \"/home/watts/Desktop/ntblab/kailong/rtcloud_kp/\"\n",
    "else:\n",
    "    main_dir=\"/Volumes/GoogleDrive/My Drive/Turk_Browne_Lab/rtcloud_kp/\"\n",
    "\n",
    "# startup parameters\n",
    "sub = 'pilot_sub003' #sys.argv[1] #'pilot_sub001' # # this is the name of the subject\n",
    "sess = 2 #int(sys.argv[2]) #2 #  which session is this in? by design this can be 2 3 4 \n",
    "run = 1 #sys.argv[3] #1 # # which run is this in\n",
    "scanmode = 'Test'  # 'Scan' or 'Test' or None\n",
    "screenmode = False  # fullscr True or False\n",
    "\n",
    "\n",
    "gui = True if screenmode == False else False\n",
    "monitor_name = \"testMonitor\" # scanner testMonitor\n",
    "scnWidth, scnHeight = monitors.Monitor(monitor_name).getSizePix()\n",
    "frameTolerance = 0.001  # how close to onset before 'same' frame\n",
    "TRduration=2.0\n",
    "\n",
    "# mywin = visual.Window(\n",
    "    # size=[1280, 800], fullscr=screenmode, screen=0,\n",
    "    # winType='pyglet', allowGUI=False, allowStencil=False,\n",
    "    # monitor=monitor_name, color=[0,0,0], colorSpace='rgb', #color=[0,0,0]\n",
    "    # blendMode='avg', useFBO=True,\n",
    "    # units='height')\n",
    "\n",
    "mywin = visual.Window(\n",
    "    size=[scnWidth - 100, scnHeight - 100], fullscr=screenmode, screen=1,\n",
    "    winType='pyglet', allowGUI=False, allowStencil=False,\n",
    "    monitor=monitor_name, color=[0,0,0], colorSpace='rgb', #color=[0,0,0]\n",
    "    blendMode='avg', useFBO=True,\n",
    "    units='height')\n",
    "\n",
    "# similation specific\n",
    "step=3 #in simulation, how quickly the morph changes ramp up. Note this is only for simulation, has nothing to do with real experiment\n",
    "\n",
    "# trial_list designing parameters\n",
    "TR=2 # the length of a TR is 2s\n",
    "parameterRange=np.arange(1,20) #for saving time for now. np.arange(1,20) #define the range for possible parameters for preloading images. Preloading images is to make the morphing smooth during feedback\n",
    "tune=4 # this parameter controls how much to morph (how strong the morphing is) (used in preloading function), tune can range from (1,6.15] when paremeterrange is np.arange(1,20)\n",
    "TrialNumber=10 #how many trials are required #test trial ,each trial is 14s, 10 trials are 140s.\n",
    "\n",
    "## - design the trial list: the sequence of the different types of components: \n",
    "## - e.g: ITI + waiting for fMRI signal + feedback (receive model output from feedbackReceiver.py)\n",
    "trial_list = pd.DataFrame(columns=['Trial','time','TR','state','newWobble'])\n",
    "curTime=0\n",
    "curTR=0\n",
    "state=''\n",
    "trial_list.append({'Trial':None,\n",
    "                    'time':None,\n",
    "                    'TR':None,\n",
    "                    'state':None,\n",
    "                    'newWobble':None},\n",
    "                    ignore_index=True)\n",
    "\n",
    "for currTrial in range(1,1+TrialNumber):\n",
    "\n",
    "    # ITI\n",
    "    for i in range(6): # should be 6TR=12s\n",
    "        trial_list=trial_list.append({'Trial':currTrial,\n",
    "                                    'time':curTime,\n",
    "                                    'TR':curTR,\n",
    "                                    'state':'ITI',\n",
    "                                    'newWobble':0},\n",
    "                                    ignore_index=True)\n",
    "        curTime=curTime+TR\n",
    "        curTR=curTR+1\n",
    "\n",
    "    # waiting for metric calculation\n",
    "    for i in range(3): # should be 3TR=6s\n",
    "        trial_list=trial_list.append({'Trial':currTrial,\n",
    "                                    'time':curTime,\n",
    "                                    'TR':curTR,\n",
    "                                    'state':'waiting',\n",
    "                                    'newWobble':0},\n",
    "                                    ignore_index=True)\n",
    "        curTime=curTime+TR\n",
    "        curTR=curTR+1\n",
    "    \n",
    "    # feedback trial: try minimize the whobbling\n",
    "    for i in range(5): #5TR=10s\n",
    "        trial_list=trial_list.append({'Trial':currTrial,\n",
    "                                    'time':curTime,\n",
    "                                    'TR':curTR,\n",
    "                                    'state':'feedback',\n",
    "                                    'newWobble':1},\n",
    "                                    ignore_index=True)\n",
    "        curTime=curTime+TR\n",
    "        curTR=curTR+1\n",
    "\n",
    "# ITI\n",
    "for i in range(6): # should be 6TR=12s\n",
    "    trial_list=trial_list.append({'Trial':currTrial,\n",
    "                                'time':curTime,\n",
    "                                'TR':curTR,\n",
    "                                'state':'ITI',\n",
    "                                'newWobble':0},\n",
    "                                ignore_index=True)\n",
    "    curTime=curTime+TR\n",
    "    curTR=curTR+1\n",
    "\n",
    "# parameters = np.arange(1,step*(sum((trial_list['newWobble']==1)*1)),step) #[1,2,3,4,5,6,7,8]\n",
    "\n",
    "print('total trial number=',TrialNumber)\n",
    "# print('neighboring morph difference=',tune)\n",
    "print('preloaded parameter range=',parameterRange)\n",
    "# print('used parameters=',parameters)\n",
    "\n",
    "\n",
    "\n",
    "def sample(L,num=10):\n",
    "    # This functional uniformly sample the list to be num points\n",
    "    # e.g, if L is 0-99, num is 10, newList would be [9, 19, 29, 39, 49, 59, 69, 79, 89, 99]\n",
    "    # e.g, if L is 0-95, num is 10, newList would be [8, 18, 27, 37, 47, 56, 66, 75, 85, 95]\n",
    "    # e.g, if L is 0-5, num is 10, newList would be [0, 0, 0, 1, 2, 2, 3, 3, 4, 5]\n",
    "    sampleStep=len(L)/num \n",
    "    newList=[]\n",
    "    for i in range(1,num):\n",
    "        newList.append(L[int(i*sampleStep-1)])\n",
    "    newList.append(L[-1])\n",
    "    return newList\n",
    "\n",
    "# imageFolder=\"/Users/kailong/Desktop/rtEnv/rtSynth_rt/expScripts/feedback/\"\n",
    "imageFolder=\"/Volumes/GoogleDrive/My Drive/Turk_Browne_Lab/rtcloud_kp/expScripts/feedback/\"\n",
    "# preload image list for parameter from 1 to 10.\n",
    "def preloadimages(parameterRange=np.arange(1,20),tune=1):\n",
    "    tune=tune-1\n",
    "    start = time.time()\n",
    "    imageLists={}\n",
    "    numberOfUpdates=16 # corresponds to 66 updates    \n",
    "    last_image=''\n",
    "    for currParameter in tqdm(parameterRange): #49\n",
    "        images=[]\n",
    "        print('maximum morph=',round((tune*currParameter*numberOfUpdates+2)/numberOfUpdates+1))\n",
    "        for axis in ['bedTable', 'benchBed']:\n",
    "            tmp_images=[]\n",
    "            for currImg in range(1,int(round(tune*currParameter*numberOfUpdates+2)),int((currParameter*numberOfUpdates+2)/numberOfUpdates)):\n",
    "                currMorph=100-round(currImg/numberOfUpdates+1) if axis=='benchBed' else round(currImg/numberOfUpdates+1)\n",
    "                if currMorph<1 or currMorph>99:\n",
    "                    raise Exception('morphing outside limit')\n",
    "                curr_image=imageFolder+'carchair_exp_feedback/{}_{}_{}.png'.format(axis,currMorph,5)\n",
    "                if curr_image!=last_image:\n",
    "                    currImage=visual.ImageStim(win=mywin,\n",
    "                                                name='image',\n",
    "                                                image=imageFolder+'carchair_exp_feedback/{}_{}_{}.png'.format(axis,currMorph,5), mask=None,\n",
    "                                                ori=0, pos=(0, 0), size=(0.5, 0.5),\n",
    "                                                color=[1,1,1], colorSpace='rgb', opacity=1,\n",
    "                                                flipHoriz=False, flipVert=False,\n",
    "                                                texRes=128, interpolate=True, depth=-4.0)\n",
    "                tmp_images.append(currImage)\n",
    "                last_image=imageFolder+'carchair_exp_feedback/{}_{}_{}.png'.format(axis,currMorph,5)\n",
    "            images=images+sample(tmp_images)\n",
    "            tmp_images=[]\n",
    "            for currImg in reversed(range(1,int(round(tune*currParameter*numberOfUpdates+1)),int((currParameter*numberOfUpdates+2)/numberOfUpdates))):\n",
    "                currMorph=100-round(currImg/numberOfUpdates+1) if axis=='benchBed' else round(currImg/numberOfUpdates+1)\n",
    "                curr_image=imageFolder+'carchair_exp_feedback/{}_{}_{}.png'.format(axis,currMorph,5)\n",
    "                if curr_image!=last_image:\n",
    "                    currImage=visual.ImageStim(win=mywin,\n",
    "                                                name='image',\n",
    "                                                image=imageFolder+'carchair_exp_feedback/{}_{}_{}.png'.format(axis,currMorph,5), mask=None,\n",
    "                                                ori=0, pos=(0, 0), size=(0.5, 0.5),\n",
    "                                                color=[1,1,1], colorSpace='rgb', opacity=1,\n",
    "                                                flipHoriz=False, flipVert=False,\n",
    "                                                texRes=128, interpolate=True, depth=-4.0)\n",
    "                tmp_images.append(currImage)\n",
    "                last_image=imageFolder+'carchair_exp_feedback/{}_{}_{}.png'.format(axis,currMorph,5)\n",
    "            images=images+sample(tmp_images)\n",
    "        imageLists.update( {currParameter : images} )\n",
    "    end = time.time()\n",
    "    print(\"preload image duration=\", end - start)\n",
    "    return imageLists\n",
    "\n",
    "imageLists=preloadimages(parameterRange=parameterRange,tune=tune)"
   ]
  },
  {
   "cell_type": "code",
   "execution_count": 8,
   "metadata": {},
   "outputs": [
    {
     "data": {
      "text/plain": [
       "0        0\n",
       "1        1\n",
       "2        2\n",
       "3        3\n",
       "4        4\n",
       "      ... \n",
       "141    141\n",
       "142    142\n",
       "143    143\n",
       "144    144\n",
       "145    145\n",
       "Name: TR, Length: 146, dtype: object"
      ]
     },
     "execution_count": 8,
     "metadata": {},
     "output_type": "execute_result"
    }
   ],
   "source": [
    "trial_list['TR']"
   ]
  },
  {
   "cell_type": "code",
   "execution_count": 38,
   "metadata": {},
   "outputs": [
    {
     "name": "stdout",
     "output_type": "stream",
     "text": [
      "Starting sub pilot_sub003 in run #1\n",
      "ITI\n",
      "ITI\n",
      "ITI\n",
      "ITI\n",
      "ITI\n",
      "waiting\n",
      "waiting\n",
      "waiting\n",
      "feedback\n",
      "feedbackParameterFileName= /Volumes/GoogleDrive/My Drive/Turk_Browne_Lab/rtcloud_kp/subjects/pilot_sub003/ses2_feedbackParameter/run_1.csv\n",
      "parameter= 19\n",
      "feedback\n",
      "feedbackParameterFileName= /Volumes/GoogleDrive/My Drive/Turk_Browne_Lab/rtcloud_kp/subjects/pilot_sub003/ses2_feedbackParameter/run_1.csv\n",
      "parameter= 17\n",
      "feedback\n",
      "feedbackParameterFileName= /Volumes/GoogleDrive/My Drive/Turk_Browne_Lab/rtcloud_kp/subjects/pilot_sub003/ses2_feedbackParameter/run_1.csv\n",
      "parameter= 13\n",
      "feedback\n",
      "feedbackParameterFileName= /Volumes/GoogleDrive/My Drive/Turk_Browne_Lab/rtcloud_kp/subjects/pilot_sub003/ses2_feedbackParameter/run_1.csv\n",
      "parameter= 8\n",
      "feedback\n",
      "feedbackParameterFileName= /Volumes/GoogleDrive/My Drive/Turk_Browne_Lab/rtcloud_kp/subjects/pilot_sub003/ses2_feedbackParameter/run_1.csv\n",
      "parameter= 3\n",
      "ITI\n",
      "ITI\n",
      "ITI\n",
      "ITI\n",
      "ITI\n",
      "ITI\n",
      "waiting\n",
      "waiting\n",
      "waiting\n",
      "feedback\n",
      "feedbackParameterFileName= /Volumes/GoogleDrive/My Drive/Turk_Browne_Lab/rtcloud_kp/subjects/pilot_sub003/ses2_feedbackParameter/run_1.csv\n",
      "parameter= 1\n",
      "feedback\n",
      "feedbackParameterFileName= /Volumes/GoogleDrive/My Drive/Turk_Browne_Lab/rtcloud_kp/subjects/pilot_sub003/ses2_feedbackParameter/run_1.csv\n",
      "parameter= 3\n",
      "feedback\n",
      "feedbackParameterFileName= /Volumes/GoogleDrive/My Drive/Turk_Browne_Lab/rtcloud_kp/subjects/pilot_sub003/ses2_feedbackParameter/run_1.csv\n",
      "parameter= 8\n",
      "feedback\n",
      "feedbackParameterFileName= /Volumes/GoogleDrive/My Drive/Turk_Browne_Lab/rtcloud_kp/subjects/pilot_sub003/ses2_feedbackParameter/run_1.csv\n",
      "parameter= 13\n",
      "feedback\n",
      "feedbackParameterFileName= /Volumes/GoogleDrive/My Drive/Turk_Browne_Lab/rtcloud_kp/subjects/pilot_sub003/ses2_feedbackParameter/run_1.csv\n",
      "parameter= 17\n",
      "ITI\n",
      "ITI\n",
      "ITI\n",
      "ITI\n",
      "ITI\n",
      "ITI\n",
      "waiting\n",
      "waiting\n",
      "waiting\n",
      "feedback\n",
      "feedbackParameterFileName= /Volumes/GoogleDrive/My Drive/Turk_Browne_Lab/rtcloud_kp/subjects/pilot_sub003/ses2_feedbackParameter/run_1.csv\n"
     ]
    },
    {
     "ename": "IndexError",
     "evalue": "list index out of range",
     "output_type": "error",
     "traceback": [
      "\u001b[0;31m-------------------------------------------------------------\u001b[0m",
      "\u001b[0;31mIndexError\u001b[0m                  Traceback (most recent call last)",
      "\u001b[0;32m<ipython-input-38-b1da43931f0e>\u001b[0m in \u001b[0;36m<module>\u001b[0;34m\u001b[0m\n\u001b[1;32m    111\u001b[0m \u001b[0;31m#             curr_parameter=(len(parameters['value'])-1)\u001b[0m\u001b[0;34m\u001b[0m\u001b[0;34m\u001b[0m\u001b[0;34m\u001b[0m\u001b[0m\n\u001b[1;32m    112\u001b[0m \u001b[0;31m#             curr_parameter=parameters[i]\u001b[0m\u001b[0;34m\u001b[0m\u001b[0;34m\u001b[0m\u001b[0;34m\u001b[0m\u001b[0m\n\u001b[0;32m--> 113\u001b[0;31m             \u001b[0mparameter\u001b[0m\u001b[0;34m=\u001b[0m\u001b[0mparameters\u001b[0m\u001b[0;34m[\u001b[0m\u001b[0mi\u001b[0m\u001b[0;34m]\u001b[0m\u001b[0;34m\u001b[0m\u001b[0;34m\u001b[0m\u001b[0m\n\u001b[0m\u001b[1;32m    114\u001b[0m \u001b[0;31m#             parameter=parameters['value'].iloc[curr_parameter]\u001b[0m\u001b[0;34m\u001b[0m\u001b[0;34m\u001b[0m\u001b[0;34m\u001b[0m\u001b[0m\n\u001b[1;32m    115\u001b[0m \u001b[0;31m#             print('curr_parameter=',curr_parameter)\u001b[0m\u001b[0;34m\u001b[0m\u001b[0;34m\u001b[0m\u001b[0;34m\u001b[0m\u001b[0m\n",
      "\u001b[0;31mIndexError\u001b[0m: list index out of range"
     ]
    }
   ],
   "source": [
    "# Open data file for eye tracking\n",
    "# datadir = \"./data/feedback/\"\n",
    "datadir = main_dir + f\"subjects/{sub}/ses{sess}_feedback/\"\n",
    "\n",
    "maxTR=int(trial_list['TR'].iloc[-1])+6\n",
    "# Settings for MRI sequence\n",
    "MR_settings = {'TR': TRduration, 'volumes': maxTR, 'sync': 5, 'skip': 0, 'sound': True} #{'TR': 2.000, 'volumes': maxTR, 'sync': 5, 'skip': 0, 'sound': True}\n",
    "\n",
    "# check if there is a data directory and if there isn't, make one.\n",
    "if not os.path.exists('./data'):\n",
    "    os.mkdir('./data')\n",
    "if not os.path.exists('./data/feedback/'):\n",
    "    os.mkdir('./data/feedback/')\n",
    "\n",
    "# check if data for this subject and run already exist, and raise an error if they do (prevent overwriting)\n",
    "newfile = datadir+\"{}_{}.csv\".format(str(sub), str(run))\n",
    "if os.path.exists(newfile):\n",
    "    raise Exception(f'{newfile} exists')\n",
    "# create empty dataframe to accumulate data\n",
    "data = pd.DataFrame(columns=['Sub', 'Run', 'TR', 'time'])\n",
    "\n",
    "# Create the fixation dot, and initialize as white fill.\n",
    "fix = visual.Circle(mywin, units='deg', radius=0.05, pos=(0, 0), fillColor='white',\n",
    "                    lineColor='black', lineWidth=0.5, opacity=0.5, edges=128)\n",
    "\n",
    "# start global clock and fMRI pulses (start simulated or wait for real)\n",
    "print('Starting sub {} in run #{}'.format(sub, run))\n",
    "\n",
    "vol = launchScan(mywin, MR_settings, simResponses=None, mode=scanmode,\n",
    "                 esc_key='escape', instr='select Scan or Test, press enter',\n",
    "                 wait_msg='waiting for scanner...', wait_timeout=300, log=True)\n",
    "\n",
    "image = visual.ImageStim(\n",
    "    win=mywin,\n",
    "    name='image',\n",
    "    image=imageFolder+'./carchair_exp_feedback/bedChair_1_5.png', mask=None,\n",
    "    ori=0, pos=(0, 0), size=(0.5, 0.5),\n",
    "    color=[1,1,1], colorSpace='rgb', opacity=1,\n",
    "    flipHoriz=False, flipVert=False,\n",
    "    texRes=128, interpolate=True, depth=-4.0)\n",
    "\n",
    "backgroundImage = visual.ImageStim(\n",
    "    win=mywin,\n",
    "    name='image',\n",
    "    image=imageFolder+'./carchair_exp_feedback/greyBackground.png', mask=None,\n",
    "    ori=0, pos=(0, 0), size=(0.5, 0.5),\n",
    "    color=[1,1,1], colorSpace='rgb', opacity=1,\n",
    "    flipHoriz=False, flipVert=False,\n",
    "    texRes=128, interpolate=True, depth=-4.0)\n",
    "\n",
    "# trialClock is reset in each trial to change image every TR (2s), time for each image is 2/numOfImages\n",
    "trialClock = core.Clock()\n",
    "\n",
    "# trialClock.add(10)  # initialize as a big enough number to avoid text being shown at the first time.\n",
    "TR=list(trial_list['TR'])\n",
    "states=list(trial_list['state'])\n",
    "newWobble=list(trial_list['newWobble'])\n",
    "\n",
    "# parameters=np.round(np.random.uniform(0,10,sum((trial_list['newWobble']==1)*1)))\n",
    "# parameters = np.arange(1,1+sum((trial_list['newWobble']==1)*1)) #[1,2,3,4,5,6,7,8]\n",
    "parameters = [19, 17, 13, 8, 3, 1, 3, 8, 13, 17] #np.arange(10,1,-1) #[1,2,3,4,5,6,7,8]\n",
    "ParameterUpdateDuration=np.diff(np.where(trial_list['newWobble']==1))[0][0]*TRduration\n",
    "curr_parameter=0\n",
    "remainImageNumber=[]\n",
    "feedbackParameterFileName=main_dir+f\"subjects/{sub}/ses{sess}_feedbackParameter/run_{run}.csv\"\n",
    "\n",
    "# While the running clock is less than the total time, monitor for 5s, which is what the scanner sends for each TR\n",
    "_=1\n",
    "# while not os.path.exists(feedbackParameterFileName):\n",
    "#     keys = event.getKeys([\"5\",\"0\"])\n",
    "#     if '0' in keys: # whenever you want to quite, type 0\n",
    "#         mywin.close()\n",
    "#         core.quit()\n",
    "#     time.sleep(0.01)\n",
    "#     if _ % 100==0:\n",
    "#         print(f'waiting {feedbackParameterFileName}')\n",
    "#     _+=1\n",
    "# parameters=pd.read_csv(feedbackParameterFileName)\n",
    "# while np.isnan(parameters['value'].iloc[-1]):\n",
    "#     keys = event.getKeys([\"5\",\"0\"])\n",
    "#     if '0' in keys: # whenever you want to quite, type 0\n",
    "#         mywin.close()\n",
    "#         core.quit()\n",
    "#     time.sleep(0.01)\n",
    "#     if _ % 100==0:\n",
    "#         print(f'waiting parameters nan')\n",
    "#     _+=1\n",
    "#     parameters=pd.read_csv(feedbackParameterFileName)\n",
    "\n",
    "# curr_parameter=len(parameters['value'])-1\n",
    "i=0\n",
    "while len(TR)>1: #globalClock.getTime() <= (MR_settings['volumes'] * MR_settings['TR']) + 3:\n",
    "    \n",
    "    \n",
    "    trialTime = trialClock.getTime()\n",
    "    keys = event.getKeys([\"5\",\"0\"])  # check for triggers\n",
    "    if '0' in keys: # whenever you want to quite, type 0\n",
    "        mywin.close()\n",
    "        core.quit()\n",
    "    if len(keys):\n",
    "        TR.pop(0)\n",
    "        states.pop(0)\n",
    "        newWobble.pop(0)\n",
    "        print(states[0])\n",
    "        if states[0] == 'feedback' and newWobble[0]==1:\n",
    "            # fetch parameter from preprocessing process on Milgram            \n",
    "            print('feedbackParameterFileName=',feedbackParameterFileName)\n",
    "#             parameters=pd.read_csv(feedbackParameterFileName)\n",
    "            # if curr_parameter>(len(parameters['value'])-1):\n",
    "                # curr_parameter=curr_parameter-1\n",
    "#             curr_parameter=(len(parameters['value'])-1)\n",
    "#             curr_parameter=parameters[i]\n",
    "            parameter=parameters[i]\n",
    "#             parameter=parameters['value'].iloc[curr_parameter]\n",
    "#             print('curr_parameter=',curr_parameter)\n",
    "            print('parameter=',parameter)\n",
    "\n",
    "#             curr_parameter=curr_parameter+1\n",
    "            # start new clock for current updating duration (the duration in which only a single parameter is used, which can be 1 TR or a few TRs, the begining of the updateDuration is indicated by the table['newWobble'])\n",
    "            trialClock=core.Clock()\n",
    "            trialTime=trialClock.getTime()\n",
    "            # update the image list to be shown based on the fetched parameter\n",
    "            imagePaths=imageLists[parameter] #list(imageLists[parameter])\n",
    "            # calculated how long each image should last.\n",
    "            eachTime=ParameterUpdateDuration/len(imagePaths)\n",
    "            # update the image\n",
    "            # image.image=imagePaths[0]\n",
    "            image.setAutoDraw(False)\n",
    "            imagePaths[0].setAutoDraw(True)\n",
    "            # currImage*eachTime is used in the calculation of the start time of next image in the list.\n",
    "            \n",
    "            # save when the image is presented and which image is presented.\n",
    "            data = data.append({'Sub': sub, \n",
    "                                'Run': run, \n",
    "                                'TR': TR[0],\n",
    "                                'time': trialTime, \n",
    "                                'imageTime':imagePaths[0].image,\n",
    "                                'eachTime':eachTime},\n",
    "                               ignore_index=True)\n",
    "            oldMorphParameter=re.findall(r\"_\\w+_\",imagePaths[0].image)[1]\n",
    "            # print('curr morph=',oldMorphParameter)\n",
    "            remainImageNumber.append(0)\n",
    "            currImage=1\n",
    "            i+=1\n",
    "            # # discard the first image since it has been used.\n",
    "            # imagePaths.pop(0)\n",
    "    if (states[0] == 'feedback') and (trialTime>currImage*eachTime):\n",
    "            try: # sometimes the trialTime accidentally surpasses the maximum time, in this case just do nothing, pass\n",
    "                imagePaths[currImage-1].setAutoDraw(False)\n",
    "                imagePaths[currImage].setAutoDraw(True)\n",
    "                # print('currImage=',imagePaths[currImage],end='\\n\\n')\n",
    "                remainImageNumber.append(currImage)\n",
    "\n",
    "                # write the data!\n",
    "                data = data.append({'Sub': sub, \n",
    "                                    'Run': run, \n",
    "                                    'TR': TR[0], \n",
    "                                    'time': trialTime, \n",
    "                                    'imageTime':imagePaths[currImage].image,\n",
    "                                    'eachTime':eachTime},\n",
    "                                    ignore_index=True)\n",
    "                currMorphParameter=re.findall(r\"_\\w+_\",imagePaths[currImage].image)[1]\n",
    "                if currMorphParameter!=oldMorphParameter:\n",
    "                    pass\n",
    "                    # print('curr morph=',currMorphParameter)\n",
    "                oldMorphParameter=currMorphParameter\n",
    "                currImage=currImage+1        \n",
    "            except:\n",
    "                pass\n",
    "    elif states[0] == 'ITI':\n",
    "        backgroundImage.setAutoDraw(True)\n",
    "        fix.draw()\n",
    "    elif states[0] == 'waiting':\n",
    "        backgroundImage.setAutoDraw(False)\n",
    "        image.setAutoDraw(True)\n",
    "    # refresh the screen\n",
    "    mywin.flip()\n",
    "\n",
    "\n",
    "# write data out!\n",
    "data.to_csv(newfile)\n",
    "mywin.close()\n",
    "core.quit()\n",
    "\n",
    "\n",
    "# ##############################################################################\n",
    "# ##############################################################################\n",
    "# ##############################################################################\n",
    "# ####################### simmulated data forparameters#########################\n",
    "# ##############################################################################\n",
    "# ##############################################################################\n",
    "# ##############################################################################\n",
    "# parameters = pd.DataFrame(columns=['runId','trId','value','timestamp'])\n",
    "# main_dir=\"/Volumes/GoogleDrive/My Drive/Turk_Browne_Lab/rtcloud_kp/\"\n",
    "# parameterWriteFolder=main_dir+'./subjects/pilot_sub001/ses1_feedbackParameter/'\n",
    "# if not os.path.isdir(parameterWriteFolder):\n",
    "#     os.mkdir(parameterWriteFolder)\n",
    "\n",
    "# for i in range(20):\n",
    "\n",
    "#     runId=1\n",
    "#     trId=int(np.random.uniform(1,20,1))\n",
    "#     value=int(np.random.uniform(1,20,1))\n",
    "#     timestamp=int(np.random.uniform(0,10,1))\n",
    "#     parameterFileName=f\"{parameterWriteFolder}run_{runId}.csv\"\n",
    "#     print(\"Dequeue run: {}, tr: {}, value: {}, timestamp: {}\".\n",
    "#           format(runId,trId,value,timestamp))\n",
    "\n",
    "#     parameters = parameters.append({'runId':runId,\n",
    "#                         'trId':trId,\n",
    "#                         'value':value,\n",
    "#                         'timestamp':timestamp},\n",
    "#                         ignore_index=True)\n",
    "#     print('parameters=',parameters)\n",
    "#     parameters.to_csv(parameterFileName)"
   ]
  },
  {
   "cell_type": "code",
   "execution_count": 32,
   "metadata": {},
   "outputs": [
    {
     "data": {
      "text/plain": [
       "0"
      ]
     },
     "execution_count": 32,
     "metadata": {},
     "output_type": "execute_result"
    }
   ],
   "source": [
    "parameter"
   ]
  },
  {
   "cell_type": "code",
   "execution_count": 44,
   "metadata": {},
   "outputs": [
    {
     "data": {
      "text/plain": [
       "[19, 19, 19, 19, 18, 15, 10, 4, 1, 4]"
      ]
     },
     "execution_count": 44,
     "metadata": {},
     "output_type": "execute_result"
    },
    {
     "data": {
      "image/png": "[encoded data removed]",
      "text/plain": [
       "<Figure size 432x288 with 1 Axes>"
      ]
     },
     "metadata": {
      "needs_background": "light"
     },
     "output_type": "display_data"
    }
   ],
   "source": [
    "import matplotlib.pyplot as plt\n",
    "def gaussian(x, mu, sig):\n",
    "    # mu and sig is determined before each neurofeedback session using 2 recognition runs.\n",
    "    parameters=(1+18*(1 - np.exp(-np.power(x - mu, 2.) / (2 * np.power(sig, 2.)))))\n",
    "    return [int(round(i)) for i in parameters]\n",
    "\n",
    "floor=5\n",
    "ceil=13\n",
    "# target: floor+(ceil-floor)*1/2=(floor+ceil)/2\n",
    "mu = (floor+ceil)/2 \n",
    "#full-width half max: floor+(ceil-floor)*1/4 -> floor+(ceil-floor)*3/4 = (floor-ceil)/2\n",
    "sig = (floor-ceil)/2/2.3548 \n",
    "\n",
    "x=np.arange(1,11)\n",
    "parameters=gaussian(x, mu, sig)\n",
    "\n",
    "plt.plot(parameters)\n",
    "parameters"
   ]
  },
  {
   "cell_type": "code",
   "execution_count": 30,
   "metadata": {},
   "outputs": [
    {
     "data": {
      "text/plain": [
       "[10, 9, 7, 4, 1, 0, 1, 4, 7, 9]"
      ]
     },
     "execution_count": 30,
     "metadata": {},
     "output_type": "execute_result"
    }
   ],
   "source": []
  },
  {
   "cell_type": "code",
   "execution_count": null,
   "metadata": {},
   "outputs": [],
   "source": []
  }
 ],
 "metadata": {
  "kernelspec": {
   "display_name": "Python 3",
   "language": "python",
   "name": "python3"
  },
  "language_info": {
   "codemirror_mode": {
    "name": "ipython",
    "version": 3
   },
   "file_extension": ".py",
   "mimetype": "text/x-python",
   "name": "python",
   "nbconvert_exporter": "python",
   "pygments_lexer": "ipython3",
   "version": "3.7.4"
  }
 },
 "nbformat": 4,
 "nbformat_minor": 4
}
